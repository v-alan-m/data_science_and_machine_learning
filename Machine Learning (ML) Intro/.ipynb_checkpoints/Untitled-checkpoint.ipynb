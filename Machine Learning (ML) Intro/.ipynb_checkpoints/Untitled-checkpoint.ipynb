{
 "cells": [
  {
   "cell_type": "markdown",
   "metadata": {},
   "source": [
    "# Machine Learning"
   ]
  },
  {
   "cell_type": "markdown",
   "metadata": {},
   "source": [
    "- Machine learning is a method of data analysis that automates analytical model building\n",
    "- Uses algorithms that iteratively learn from data\n",
    "- Machine learning allows computers to find hidden insights without being explicity programmed to do so"
   ]
  },
  {
   "cell_type": "markdown",
   "metadata": {},
   "source": [
    "## Types of machine learning\n",
    "\n",
    "### Supervised learning\n",
    "- When the data is labelled data and we're trying to predict a label, based off a known feature\n",
    "    - Trained using labeled data, with a known output\n",
    "        - E.g Output data is labeled either **F** (fails), **R** (runs)\n",
    "- The learning algorithm recieves a set of imputs with the correct outputs\n",
    "    - The algo comapares the actual output with the correct outputs, to find errors\n",
    "    - It then modifies the model, accordingly\n",
    "- For training the algo is feed labeled data, then it is tested with unlabeled date  \n",
    "\n",
    "### Unsupervised learning\n",
    "-  When the data is unlabelled and we're trying to group together similar data points, based off features\n",
    "- The algo is not told the correct answer, it must figure out what it is being shown\n",
    "- Explore the data for patterns\n",
    "- Popular techniques:\n",
    "    - Self-organizing maps\n",
    "    - Nearest-neighbour mapping\n",
    "    - K-means clustering\n",
    "    - Singular value decomposition  \n",
    "\n",
    "### Reinforcement learning\n",
    "- Creating an algorithm to perform an action from experience\n",
    "- Used heavily in robotics, gaming and navigation\n",
    "- The algo discovers which actions yeild the highest value through trail and error\n",
    "- This type of learning has 3 main concepts:\n",
    "    - Agent - the learner\n",
    "    - Environment = everything the agent interacts with\n",
    "    - Actions - What the agent can do \n",
    "- The agent chooses actions that maximise the expected reward over time\n",
    "    - The policy will determine the rate of reward \n",
    "- The goal is to learn the best policy"
   ]
  },
  {
   "cell_type": "markdown",
   "metadata": {},
   "source": [
    "## Process\n",
    "\n",
    "<img src = 'ml_build_process.png'>"
   ]
  },
  {
   "cell_type": "markdown",
   "metadata": {},
   "source": [
    "## Sci-kit-Learn\n",
    "### Supervised learning\n",
    "- **model.fit()**: fit trainging data  \n",
    "    - Accepts two arguements:\n",
    "        - The data **X**\n",
    "        - The labels **y**\n",
    "        - E.g. **model.fit(X,y)**  \n",
    "    - **model.predict()**: After training the data predict the new label of a new set of date\n",
    "        - Accepts only a single argument:\n",
    "            - The new data **X_new**\n",
    "            - E.g. **model.predict(X_new)**\n",
    "                - This will return the learned label for each object in the array  \n",
    "    - **model.predict_proba()**: For classification, the probabilty that a new observation belongs to a categoriacal label\n",
    "        - model.predict() will return the categorical label that has the highest probability  \n",
    "    - **model.score()**: For classification or regression, 0 to 1 are used to score the fit, with 1 being the best fit  \n",
    "\n",
    "### Unsupervised learning\n",
    "- **model.fit()**: fit trainging data  \n",
    "    - Accepts only a single argument:\n",
    "    - The data **X**\n",
    "    - E.g. **model.fit(X)**\n",
    "- **model.predict()**: perdicting labels in clustering algorithms\n",
    "- **model.transform()**:\n",
    "    - Transform new data into the new basis\n",
    "        - Accepts only a single argument\n",
    "        - Returns a new representation of the data based on the unsupervised model\n",
    "- **model.fit_transform()**:\n",
    "    - More efficiently preforms a fit and a transform on the same input-data"
   ]
  },
  {
   "cell_type": "markdown",
   "metadata": {},
   "source": [
    "## Choosing the right estimator\n",
    "\n",
    "<img src='choosing_the_right_estimator.png'>"
   ]
  },
  {
   "cell_type": "code",
   "execution_count": null,
   "metadata": {},
   "outputs": [],
   "source": []
  }
 ],
 "metadata": {
  "kernelspec": {
   "display_name": "Python 3",
   "language": "python",
   "name": "python3"
  },
  "language_info": {
   "codemirror_mode": {
    "name": "ipython",
    "version": 3
   },
   "file_extension": ".py",
   "mimetype": "text/x-python",
   "name": "python",
   "nbconvert_exporter": "python",
   "pygments_lexer": "ipython3",
   "version": "3.7.4"
  }
 },
 "nbformat": 4,
 "nbformat_minor": 2
}
