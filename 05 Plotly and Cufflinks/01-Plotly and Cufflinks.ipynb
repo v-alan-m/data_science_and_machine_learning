{
 "cells": [
  {
   "cell_type": "markdown",
   "metadata": {},
   "source": [
    "# Plotly and Cufflinks"
   ]
  },
  {
   "cell_type": "markdown",
   "metadata": {},
   "source": [
    "Plotly is a library that allows you to create interactive plots that you can use in dashboards or websites (you can save them as html files or static images).\n",
    "\n",
    "## Installation\n",
    "\n",
    "In order for this all to work, you'll need to install plotly and cufflinks to call plots directly off of a pandas dataframe. These libraries are not currently available through **conda** but are available through **pip**. Install the libraries at your command line/terminal using:\n",
    "\n",
    "    pip install plotly\n",
    "    pip install cufflinks\n",
    "## Imports and Set-up"
   ]
  },
  {
   "cell_type": "code",
   "execution_count": 1,
   "metadata": {},
   "outputs": [],
   "source": [
    "import pandas as pd\n",
    "import numpy as np\n",
    "%matplotlib inline"
   ]
  },
  {
   "cell_type": "code",
   "execution_count": 2,
   "metadata": {},
   "outputs": [
    {
     "name": "stdout",
     "output_type": "stream",
     "text": [
      "4.4.1\n"
     ]
    }
   ],
   "source": [
    "from plotly import __version__\n",
    "from plotly.offline import download_plotlyjs, init_notebook_mode, plot, iplot\n",
    "\n",
    "print(__version__) # requires version >= 1.9.0"
   ]
  },
  {
   "cell_type": "code",
   "execution_count": 3,
   "metadata": {},
   "outputs": [],
   "source": [
    "import cufflinks as cf"
   ]
  },
  {
   "cell_type": "code",
   "execution_count": 4,
   "metadata": {},
   "outputs": [
    {
     "data": {
      "text/html": [
       "        <script type=\"text/javascript\">\n",
       "        window.PlotlyConfig = {MathJaxConfig: 'local'};\n",
       "        if (window.MathJax) {MathJax.Hub.Config({SVG: {font: \"STIX-Web\"}});}\n",
       "        if (typeof require !== 'undefined') {\n",
       "        require.undef(\"plotly\");\n",
       "        requirejs.config({\n",
       "            paths: {\n",
       "                'plotly': ['https://cdn.plot.ly/plotly-latest.min']\n",
       "            }\n",
       "        });\n",
       "        require(['plotly'], function(Plotly) {\n",
       "            window._Plotly = Plotly;\n",
       "        });\n",
       "        }\n",
       "        </script>\n",
       "        "
      ]
     },
     "metadata": {},
     "output_type": "display_data"
    }
   ],
   "source": [
    "# For Notebooks\n",
    "init_notebook_mode(connected=True)"
   ]
  },
  {
   "cell_type": "code",
   "execution_count": 5,
   "metadata": {},
   "outputs": [
    {
     "data": {
      "text/html": [
       "        <script type=\"text/javascript\">\n",
       "        window.PlotlyConfig = {MathJaxConfig: 'local'};\n",
       "        if (window.MathJax) {MathJax.Hub.Config({SVG: {font: \"STIX-Web\"}});}\n",
       "        if (typeof require !== 'undefined') {\n",
       "        require.undef(\"plotly\");\n",
       "        requirejs.config({\n",
       "            paths: {\n",
       "                'plotly': ['https://cdn.plot.ly/plotly-latest.min']\n",
       "            }\n",
       "        });\n",
       "        require(['plotly'], function(Plotly) {\n",
       "            window._Plotly = Plotly;\n",
       "        });\n",
       "        }\n",
       "        </script>\n",
       "        "
      ]
     },
     "metadata": {},
     "output_type": "display_data"
    }
   ],
   "source": [
    "# For offline use\n",
    "cf.go_offline()"
   ]
  },
  {
   "cell_type": "markdown",
   "metadata": {},
   "source": [
    "### Fake Data"
   ]
  },
  {
   "cell_type": "code",
   "execution_count": 6,
   "metadata": {},
   "outputs": [],
   "source": [
    "df = pd.DataFrame(np.random.randn(100,4),columns='A B C D'.split())"
   ]
  },
  {
   "cell_type": "code",
   "execution_count": 7,
   "metadata": {},
   "outputs": [
    {
     "data": {
      "text/html": [
       "<div>\n",
       "<style scoped>\n",
       "    .dataframe tbody tr th:only-of-type {\n",
       "        vertical-align: middle;\n",
       "    }\n",
       "\n",
       "    .dataframe tbody tr th {\n",
       "        vertical-align: top;\n",
       "    }\n",
       "\n",
       "    .dataframe thead th {\n",
       "        text-align: right;\n",
       "    }\n",
       "</style>\n",
       "<table border=\"1\" class=\"dataframe\">\n",
       "  <thead>\n",
       "    <tr style=\"text-align: right;\">\n",
       "      <th></th>\n",
       "      <th>A</th>\n",
       "      <th>B</th>\n",
       "      <th>C</th>\n",
       "      <th>D</th>\n",
       "    </tr>\n",
       "  </thead>\n",
       "  <tbody>\n",
       "    <tr>\n",
       "      <th>0</th>\n",
       "      <td>-1.009936</td>\n",
       "      <td>0.744450</td>\n",
       "      <td>-0.108447</td>\n",
       "      <td>-1.139318</td>\n",
       "    </tr>\n",
       "    <tr>\n",
       "      <th>1</th>\n",
       "      <td>-1.028458</td>\n",
       "      <td>1.189456</td>\n",
       "      <td>0.167336</td>\n",
       "      <td>0.679361</td>\n",
       "    </tr>\n",
       "    <tr>\n",
       "      <th>2</th>\n",
       "      <td>-0.115895</td>\n",
       "      <td>0.601487</td>\n",
       "      <td>-1.003065</td>\n",
       "      <td>0.289740</td>\n",
       "    </tr>\n",
       "    <tr>\n",
       "      <th>3</th>\n",
       "      <td>-0.387158</td>\n",
       "      <td>-0.888013</td>\n",
       "      <td>0.118929</td>\n",
       "      <td>0.947029</td>\n",
       "    </tr>\n",
       "    <tr>\n",
       "      <th>4</th>\n",
       "      <td>-0.880246</td>\n",
       "      <td>0.263442</td>\n",
       "      <td>1.333339</td>\n",
       "      <td>1.855321</td>\n",
       "    </tr>\n",
       "  </tbody>\n",
       "</table>\n",
       "</div>"
      ],
      "text/plain": [
       "          A         B         C         D\n",
       "0 -1.009936  0.744450 -0.108447 -1.139318\n",
       "1 -1.028458  1.189456  0.167336  0.679361\n",
       "2 -0.115895  0.601487 -1.003065  0.289740\n",
       "3 -0.387158 -0.888013  0.118929  0.947029\n",
       "4 -0.880246  0.263442  1.333339  1.855321"
      ]
     },
     "execution_count": 7,
     "metadata": {},
     "output_type": "execute_result"
    }
   ],
   "source": [
    "df.head()"
   ]
  },
  {
   "cell_type": "code",
   "execution_count": 8,
   "metadata": {},
   "outputs": [],
   "source": [
    "df2 = pd.DataFrame({'Category':['A','B','C'],'Values':[32,43,50]})"
   ]
  },
  {
   "cell_type": "code",
   "execution_count": 9,
   "metadata": {},
   "outputs": [
    {
     "data": {
      "text/html": [
       "<div>\n",
       "<style scoped>\n",
       "    .dataframe tbody tr th:only-of-type {\n",
       "        vertical-align: middle;\n",
       "    }\n",
       "\n",
       "    .dataframe tbody tr th {\n",
       "        vertical-align: top;\n",
       "    }\n",
       "\n",
       "    .dataframe thead th {\n",
       "        text-align: right;\n",
       "    }\n",
       "</style>\n",
       "<table border=\"1\" class=\"dataframe\">\n",
       "  <thead>\n",
       "    <tr style=\"text-align: right;\">\n",
       "      <th></th>\n",
       "      <th>Category</th>\n",
       "      <th>Values</th>\n",
       "    </tr>\n",
       "  </thead>\n",
       "  <tbody>\n",
       "    <tr>\n",
       "      <th>0</th>\n",
       "      <td>A</td>\n",
       "      <td>32</td>\n",
       "    </tr>\n",
       "    <tr>\n",
       "      <th>1</th>\n",
       "      <td>B</td>\n",
       "      <td>43</td>\n",
       "    </tr>\n",
       "    <tr>\n",
       "      <th>2</th>\n",
       "      <td>C</td>\n",
       "      <td>50</td>\n",
       "    </tr>\n",
       "  </tbody>\n",
       "</table>\n",
       "</div>"
      ],
      "text/plain": [
       "  Category  Values\n",
       "0        A      32\n",
       "1        B      43\n",
       "2        C      50"
      ]
     },
     "execution_count": 9,
     "metadata": {},
     "output_type": "execute_result"
    }
   ],
   "source": [
    "df2.head()"
   ]
  },
  {
   "cell_type": "markdown",
   "metadata": {},
   "source": [
    "## Using Cufflinks and iplot()\n",
    "\n",
    "* scatter\n",
    "* bar\n",
    "* box\n",
    "* spread\n",
    "* ratio\n",
    "* heatmap\n",
    "* surface\n",
    "* histogram\n",
    "* bubble"
   ]
  },
  {
   "cell_type": "markdown",
   "metadata": {},
   "source": [
    "## Scatter"
   ]
  },
  {
   "cell_type": "code",
   "execution_count": 10,
   "metadata": {},
   "outputs": [
    {
     "data": {
      "application/vnd.plotly.v1+json": {
       "config": {
        "linkText": "Export to plot.ly",
        "plotlyServerURL": "https://plot.ly",
        "showLink": true
       },
       "data": [
        {
         "line": {
          "color": "rgba(255, 153, 51, 1.0)",
          "dash": "solid",
          "shape": "linear",
          "width": 1.3
         },
         "marker": {
          "size": 10,
          "symbol": "circle"
         },
         "mode": "markers",
         "name": "B",
         "text": "",
         "type": "scatter",
         "x": [
          -1.0099361673355667,
          -1.0284575537950853,
          -0.11589523503021203,
          -0.3871577102854481,
          -0.8802462358509756,
          -0.5073178289505085,
          -0.25872977857744495,
          -0.8451154146551735,
          -1.6753380560258833,
          -0.3197009244061666,
          -0.13563348234303227,
          -1.311691245631022,
          -1.249731033152953,
          0.17890604821843886,
          -1.128427638771329,
          -1.1636664744849745,
          -0.9412243713819362,
          -0.38570173042512107,
          -0.8003953490624793,
          0.8825029834565344,
          1.524337052036057,
          -0.23052058779768336,
          1.9285582193640014,
          -0.872188772166427,
          -0.3176075253149898,
          2.606580520825616,
          -1.1995356504360102,
          -0.5183516090778959,
          -0.04436142535581713,
          -0.18480369022350523,
          -1.7547311219167303,
          0.4348163458344423,
          0.02896010894576578,
          1.1883323868662738,
          1.6732989603111974,
          -0.8210953393613368,
          0.5004305409127747,
          -0.22178532385423305,
          -0.7454328674035887,
          2.1180173982206956,
          1.190563692517457,
          0.3138573805554352,
          -0.9935779216404051,
          -0.3647175556508881,
          0.5068831822214218,
          0.20910917496939357,
          0.577713713083106,
          -0.29978283141123724,
          -0.2873028727788575,
          -0.46363559405313143,
          -0.9206774761598664,
          -0.755950329387749,
          0.7922037497771531,
          -0.8795695353900919,
          0.28776576333898585,
          -0.23417565168839716,
          -1.9708555241106436,
          0.9824316178908786,
          -1.98662055858986,
          -0.7296201496003367,
          0.7238839666288359,
          1.5974689722403834,
          1.801589947153041,
          -0.7232840189194383,
          -1.0681986697213794,
          -0.5992838692605261,
          2.239239240441496,
          -0.2396645330815824,
          -0.04239926731173785,
          0.8738657260289925,
          -0.8714936725210958,
          1.0533376696933532,
          0.028493839037042872,
          0.9603494061902195,
          0.8199228021104203,
          1.4708360154901292,
          -1.104738720637537,
          -1.6868861956709762,
          1.0938651017022927,
          2.1390860039617507,
          -0.3705530670203375,
          -0.18840168960734383,
          0.42753386535746246,
          0.6980400869787413,
          -0.6402916416160395,
          -0.02222079553462808,
          -0.4216825148927192,
          0.280887190385779,
          -0.643768601883412,
          -0.6875539894115286,
          -1.3443114433014156,
          -0.25555254723379944,
          1.2335524942281835,
          -0.09161187909282938,
          1.0278257484361688,
          -0.514950707958829,
          -1.6295755204874562,
          -0.53058233036871,
          -0.06432271315517117,
          -0.4852358829857144
         ],
         "y": [
          0.744450190015796,
          1.1894557449729342,
          0.6014866195311764,
          -0.8880130958919555,
          0.2634422442550224,
          0.6626931843686664,
          -1.1250880401227368,
          0.4771603153029794,
          -0.1490065026960575,
          -0.9623205020230357,
          1.4401318165613903,
          1.4082689738738148,
          0.10270692830268753,
          0.01425779846376388,
          -1.480304960527278,
          -0.824423835202117,
          -0.5511105572426905,
          0.15703184361306663,
          0.9234900532311175,
          0.1613158759882807,
          -0.644491423073877,
          -1.2120176461084518,
          1.016181721468633,
          -0.6319609682834901,
          -0.24129550029875582,
          0.553567424049745,
          -0.62444452813727,
          0.22496068588193177,
          0.8743351098471469,
          1.7059386069757694,
          -1.9206327186061418,
          0.7686062004369781,
          -1.259648403612559,
          0.1096277410328048,
          0.9387094528772576,
          -0.27461979313709567,
          1.6207957707630838,
          0.06169141959846879,
          -0.4865658395535811,
          -0.5858756480838269,
          -0.8884612999138807,
          0.13300720372341124,
          1.2981909174656012,
          0.34230516992051746,
          0.4919371479311787,
          0.36239582310865504,
          -0.7208562108905195,
          0.6914975574734396,
          0.36195579934636735,
          -0.22232409309193057,
          0.065663078950636,
          0.1985313405036117,
          1.6933038949156938,
          -0.46264733238674816,
          1.7763447430055253,
          -0.640759791350102,
          -0.6793491505404466,
          0.4267992066295522,
          -1.1422053149767915,
          -0.7766786239708781,
          0.8754471153083129,
          -0.8903352167441764,
          -0.8840619009663945,
          -0.3280940175291615,
          0.3685108324294671,
          -0.5897320779624863,
          0.5219386165501887,
          0.10200882724863404,
          -0.30850418604752317,
          -0.08803823463831988,
          -1.557089116787949,
          0.5682957147945388,
          0.5278400244507687,
          1.4323269258374178,
          0.5576802769913602,
          2.204605797704065,
          -0.535349852025295,
          1.1789203019870378,
          0.30611952626236455,
          0.45594684826678866,
          1.8433513627069207,
          0.4245202276944359,
          1.031079593495038,
          1.5566392860476528,
          -0.5803530558234599,
          -1.252281916948563,
          -0.7086537222484671,
          0.5936620950802783,
          0.4854826118308957,
          -0.13808162235319374,
          0.07744183888892246,
          0.5157739214893406,
          0.1884566433660276,
          0.5637646438290826,
          -0.06990828503654249,
          0.8880289293608626,
          0.5309382058701448,
          -2.150688191460801,
          -1.0081065888477767,
          -0.6843264190330478
         ]
        }
       ],
       "layout": {
        "legend": {
         "bgcolor": "#F5F6F9",
         "font": {
          "color": "#4D5663"
         }
        },
        "paper_bgcolor": "#F5F6F9",
        "plot_bgcolor": "#F5F6F9",
        "template": {
         "data": {
          "bar": [
           {
            "error_x": {
             "color": "#2a3f5f"
            },
            "error_y": {
             "color": "#2a3f5f"
            },
            "marker": {
             "line": {
              "color": "#E5ECF6",
              "width": 0.5
             }
            },
            "type": "bar"
           }
          ],
          "barpolar": [
           {
            "marker": {
             "line": {
              "color": "#E5ECF6",
              "width": 0.5
             }
            },
            "type": "barpolar"
           }
          ],
          "carpet": [
           {
            "aaxis": {
             "endlinecolor": "#2a3f5f",
             "gridcolor": "white",
             "linecolor": "white",
             "minorgridcolor": "white",
             "startlinecolor": "#2a3f5f"
            },
            "baxis": {
             "endlinecolor": "#2a3f5f",
             "gridcolor": "white",
             "linecolor": "white",
             "minorgridcolor": "white",
             "startlinecolor": "#2a3f5f"
            },
            "type": "carpet"
           }
          ],
          "choropleth": [
           {
            "colorbar": {
             "outlinewidth": 0,
             "ticks": ""
            },
            "type": "choropleth"
           }
          ],
          "contour": [
           {
            "colorbar": {
             "outlinewidth": 0,
             "ticks": ""
            },
            "colorscale": [
             [
              0,
              "#0d0887"
             ],
             [
              0.1111111111111111,
              "#46039f"
             ],
             [
              0.2222222222222222,
              "#7201a8"
             ],
             [
              0.3333333333333333,
              "#9c179e"
             ],
             [
              0.4444444444444444,
              "#bd3786"
             ],
             [
              0.5555555555555556,
              "#d8576b"
             ],
             [
              0.6666666666666666,
              "#ed7953"
             ],
             [
              0.7777777777777778,
              "#fb9f3a"
             ],
             [
              0.8888888888888888,
              "#fdca26"
             ],
             [
              1,
              "#f0f921"
             ]
            ],
            "type": "contour"
           }
          ],
          "contourcarpet": [
           {
            "colorbar": {
             "outlinewidth": 0,
             "ticks": ""
            },
            "type": "contourcarpet"
           }
          ],
          "heatmap": [
           {
            "colorbar": {
             "outlinewidth": 0,
             "ticks": ""
            },
            "colorscale": [
             [
              0,
              "#0d0887"
             ],
             [
              0.1111111111111111,
              "#46039f"
             ],
             [
              0.2222222222222222,
              "#7201a8"
             ],
             [
              0.3333333333333333,
              "#9c179e"
             ],
             [
              0.4444444444444444,
              "#bd3786"
             ],
             [
              0.5555555555555556,
              "#d8576b"
             ],
             [
              0.6666666666666666,
              "#ed7953"
             ],
             [
              0.7777777777777778,
              "#fb9f3a"
             ],
             [
              0.8888888888888888,
              "#fdca26"
             ],
             [
              1,
              "#f0f921"
             ]
            ],
            "type": "heatmap"
           }
          ],
          "heatmapgl": [
           {
            "colorbar": {
             "outlinewidth": 0,
             "ticks": ""
            },
            "colorscale": [
             [
              0,
              "#0d0887"
             ],
             [
              0.1111111111111111,
              "#46039f"
             ],
             [
              0.2222222222222222,
              "#7201a8"
             ],
             [
              0.3333333333333333,
              "#9c179e"
             ],
             [
              0.4444444444444444,
              "#bd3786"
             ],
             [
              0.5555555555555556,
              "#d8576b"
             ],
             [
              0.6666666666666666,
              "#ed7953"
             ],
             [
              0.7777777777777778,
              "#fb9f3a"
             ],
             [
              0.8888888888888888,
              "#fdca26"
             ],
             [
              1,
              "#f0f921"
             ]
            ],
            "type": "heatmapgl"
           }
          ],
          "histogram": [
           {
            "marker": {
             "colorbar": {
              "outlinewidth": 0,
              "ticks": ""
             }
            },
            "type": "histogram"
           }
          ],
          "histogram2d": [
           {
            "colorbar": {
             "outlinewidth": 0,
             "ticks": ""
            },
            "colorscale": [
             [
              0,
              "#0d0887"
             ],
             [
              0.1111111111111111,
              "#46039f"
             ],
             [
              0.2222222222222222,
              "#7201a8"
             ],
             [
              0.3333333333333333,
              "#9c179e"
             ],
             [
              0.4444444444444444,
              "#bd3786"
             ],
             [
              0.5555555555555556,
              "#d8576b"
             ],
             [
              0.6666666666666666,
              "#ed7953"
             ],
             [
              0.7777777777777778,
              "#fb9f3a"
             ],
             [
              0.8888888888888888,
              "#fdca26"
             ],
             [
              1,
              "#f0f921"
             ]
            ],
            "type": "histogram2d"
           }
          ],
          "histogram2dcontour": [
           {
            "colorbar": {
             "outlinewidth": 0,
             "ticks": ""
            },
            "colorscale": [
             [
              0,
              "#0d0887"
             ],
             [
              0.1111111111111111,
              "#46039f"
             ],
             [
              0.2222222222222222,
              "#7201a8"
             ],
             [
              0.3333333333333333,
              "#9c179e"
             ],
             [
              0.4444444444444444,
              "#bd3786"
             ],
             [
              0.5555555555555556,
              "#d8576b"
             ],
             [
              0.6666666666666666,
              "#ed7953"
             ],
             [
              0.7777777777777778,
              "#fb9f3a"
             ],
             [
              0.8888888888888888,
              "#fdca26"
             ],
             [
              1,
              "#f0f921"
             ]
            ],
            "type": "histogram2dcontour"
           }
          ],
          "mesh3d": [
           {
            "colorbar": {
             "outlinewidth": 0,
             "ticks": ""
            },
            "type": "mesh3d"
           }
          ],
          "parcoords": [
           {
            "line": {
             "colorbar": {
              "outlinewidth": 0,
              "ticks": ""
             }
            },
            "type": "parcoords"
           }
          ],
          "pie": [
           {
            "automargin": true,
            "type": "pie"
           }
          ],
          "scatter": [
           {
            "marker": {
             "colorbar": {
              "outlinewidth": 0,
              "ticks": ""
             }
            },
            "type": "scatter"
           }
          ],
          "scatter3d": [
           {
            "line": {
             "colorbar": {
              "outlinewidth": 0,
              "ticks": ""
             }
            },
            "marker": {
             "colorbar": {
              "outlinewidth": 0,
              "ticks": ""
             }
            },
            "type": "scatter3d"
           }
          ],
          "scattercarpet": [
           {
            "marker": {
             "colorbar": {
              "outlinewidth": 0,
              "ticks": ""
             }
            },
            "type": "scattercarpet"
           }
          ],
          "scattergeo": [
           {
            "marker": {
             "colorbar": {
              "outlinewidth": 0,
              "ticks": ""
             }
            },
            "type": "scattergeo"
           }
          ],
          "scattergl": [
           {
            "marker": {
             "colorbar": {
              "outlinewidth": 0,
              "ticks": ""
             }
            },
            "type": "scattergl"
           }
          ],
          "scattermapbox": [
           {
            "marker": {
             "colorbar": {
              "outlinewidth": 0,
              "ticks": ""
             }
            },
            "type": "scattermapbox"
           }
          ],
          "scatterpolar": [
           {
            "marker": {
             "colorbar": {
              "outlinewidth": 0,
              "ticks": ""
             }
            },
            "type": "scatterpolar"
           }
          ],
          "scatterpolargl": [
           {
            "marker": {
             "colorbar": {
              "outlinewidth": 0,
              "ticks": ""
             }
            },
            "type": "scatterpolargl"
           }
          ],
          "scatterternary": [
           {
            "marker": {
             "colorbar": {
              "outlinewidth": 0,
              "ticks": ""
             }
            },
            "type": "scatterternary"
           }
          ],
          "surface": [
           {
            "colorbar": {
             "outlinewidth": 0,
             "ticks": ""
            },
            "colorscale": [
             [
              0,
              "#0d0887"
             ],
             [
              0.1111111111111111,
              "#46039f"
             ],
             [
              0.2222222222222222,
              "#7201a8"
             ],
             [
              0.3333333333333333,
              "#9c179e"
             ],
             [
              0.4444444444444444,
              "#bd3786"
             ],
             [
              0.5555555555555556,
              "#d8576b"
             ],
             [
              0.6666666666666666,
              "#ed7953"
             ],
             [
              0.7777777777777778,
              "#fb9f3a"
             ],
             [
              0.8888888888888888,
              "#fdca26"
             ],
             [
              1,
              "#f0f921"
             ]
            ],
            "type": "surface"
           }
          ],
          "table": [
           {
            "cells": {
             "fill": {
              "color": "#EBF0F8"
             },
             "line": {
              "color": "white"
             }
            },
            "header": {
             "fill": {
              "color": "#C8D4E3"
             },
             "line": {
              "color": "white"
             }
            },
            "type": "table"
           }
          ]
         },
         "layout": {
          "annotationdefaults": {
           "arrowcolor": "#2a3f5f",
           "arrowhead": 0,
           "arrowwidth": 1
          },
          "coloraxis": {
           "colorbar": {
            "outlinewidth": 0,
            "ticks": ""
           }
          },
          "colorscale": {
           "diverging": [
            [
             0,
             "#8e0152"
            ],
            [
             0.1,
             "#c51b7d"
            ],
            [
             0.2,
             "#de77ae"
            ],
            [
             0.3,
             "#f1b6da"
            ],
            [
             0.4,
             "#fde0ef"
            ],
            [
             0.5,
             "#f7f7f7"
            ],
            [
             0.6,
             "#e6f5d0"
            ],
            [
             0.7,
             "#b8e186"
            ],
            [
             0.8,
             "#7fbc41"
            ],
            [
             0.9,
             "#4d9221"
            ],
            [
             1,
             "#276419"
            ]
           ],
           "sequential": [
            [
             0,
             "#0d0887"
            ],
            [
             0.1111111111111111,
             "#46039f"
            ],
            [
             0.2222222222222222,
             "#7201a8"
            ],
            [
             0.3333333333333333,
             "#9c179e"
            ],
            [
             0.4444444444444444,
             "#bd3786"
            ],
            [
             0.5555555555555556,
             "#d8576b"
            ],
            [
             0.6666666666666666,
             "#ed7953"
            ],
            [
             0.7777777777777778,
             "#fb9f3a"
            ],
            [
             0.8888888888888888,
             "#fdca26"
            ],
            [
             1,
             "#f0f921"
            ]
           ],
           "sequentialminus": [
            [
             0,
             "#0d0887"
            ],
            [
             0.1111111111111111,
             "#46039f"
            ],
            [
             0.2222222222222222,
             "#7201a8"
            ],
            [
             0.3333333333333333,
             "#9c179e"
            ],
            [
             0.4444444444444444,
             "#bd3786"
            ],
            [
             0.5555555555555556,
             "#d8576b"
            ],
            [
             0.6666666666666666,
             "#ed7953"
            ],
            [
             0.7777777777777778,
             "#fb9f3a"
            ],
            [
             0.8888888888888888,
             "#fdca26"
            ],
            [
             1,
             "#f0f921"
            ]
           ]
          },
          "colorway": [
           "#636efa",
           "#EF553B",
           "#00cc96",
           "#ab63fa",
           "#FFA15A",
           "#19d3f3",
           "#FF6692",
           "#B6E880",
           "#FF97FF",
           "#FECB52"
          ],
          "font": {
           "color": "#2a3f5f"
          },
          "geo": {
           "bgcolor": "white",
           "lakecolor": "white",
           "landcolor": "#E5ECF6",
           "showlakes": true,
           "showland": true,
           "subunitcolor": "white"
          },
          "hoverlabel": {
           "align": "left"
          },
          "hovermode": "closest",
          "mapbox": {
           "style": "light"
          },
          "paper_bgcolor": "white",
          "plot_bgcolor": "#E5ECF6",
          "polar": {
           "angularaxis": {
            "gridcolor": "white",
            "linecolor": "white",
            "ticks": ""
           },
           "bgcolor": "#E5ECF6",
           "radialaxis": {
            "gridcolor": "white",
            "linecolor": "white",
            "ticks": ""
           }
          },
          "scene": {
           "xaxis": {
            "backgroundcolor": "#E5ECF6",
            "gridcolor": "white",
            "gridwidth": 2,
            "linecolor": "white",
            "showbackground": true,
            "ticks": "",
            "zerolinecolor": "white"
           },
           "yaxis": {
            "backgroundcolor": "#E5ECF6",
            "gridcolor": "white",
            "gridwidth": 2,
            "linecolor": "white",
            "showbackground": true,
            "ticks": "",
            "zerolinecolor": "white"
           },
           "zaxis": {
            "backgroundcolor": "#E5ECF6",
            "gridcolor": "white",
            "gridwidth": 2,
            "linecolor": "white",
            "showbackground": true,
            "ticks": "",
            "zerolinecolor": "white"
           }
          },
          "shapedefaults": {
           "line": {
            "color": "#2a3f5f"
           }
          },
          "ternary": {
           "aaxis": {
            "gridcolor": "white",
            "linecolor": "white",
            "ticks": ""
           },
           "baxis": {
            "gridcolor": "white",
            "linecolor": "white",
            "ticks": ""
           },
           "bgcolor": "#E5ECF6",
           "caxis": {
            "gridcolor": "white",
            "linecolor": "white",
            "ticks": ""
           }
          },
          "title": {
           "x": 0.05
          },
          "xaxis": {
           "automargin": true,
           "gridcolor": "white",
           "linecolor": "white",
           "ticks": "",
           "title": {
            "standoff": 15
           },
           "zerolinecolor": "white",
           "zerolinewidth": 2
          },
          "yaxis": {
           "automargin": true,
           "gridcolor": "white",
           "linecolor": "white",
           "ticks": "",
           "title": {
            "standoff": 15
           },
           "zerolinecolor": "white",
           "zerolinewidth": 2
          }
         }
        },
        "title": {
         "font": {
          "color": "#4D5663"
         }
        },
        "xaxis": {
         "gridcolor": "#E1E5ED",
         "showgrid": true,
         "tickfont": {
          "color": "#4D5663"
         },
         "title": {
          "font": {
           "color": "#4D5663"
          },
          "text": ""
         },
         "zerolinecolor": "#E1E5ED"
        },
        "yaxis": {
         "gridcolor": "#E1E5ED",
         "showgrid": true,
         "tickfont": {
          "color": "#4D5663"
         },
         "title": {
          "font": {
           "color": "#4D5663"
          },
          "text": ""
         },
         "zerolinecolor": "#E1E5ED"
        }
       }
      },
      "text/html": [
       "<div>\n",
       "        \n",
       "        \n",
       "            <div id=\"df35ae30-c378-443f-89b2-d34fadfc3413\" class=\"plotly-graph-div\" style=\"height:525px; width:100%;\"></div>\n",
       "            <script type=\"text/javascript\">\n",
       "                require([\"plotly\"], function(Plotly) {\n",
       "                    window.PLOTLYENV=window.PLOTLYENV || {};\n",
       "                    window.PLOTLYENV.BASE_URL='https://plot.ly';\n",
       "                    \n",
       "                if (document.getElementById(\"df35ae30-c378-443f-89b2-d34fadfc3413\")) {\n",
       "                    Plotly.newPlot(\n",
       "                        'df35ae30-c378-443f-89b2-d34fadfc3413',\n",
       "                        [{\"line\": {\"color\": \"rgba(255, 153, 51, 1.0)\", \"dash\": \"solid\", \"shape\": \"linear\", \"width\": 1.3}, \"marker\": {\"size\": 10, \"symbol\": \"circle\"}, \"mode\": \"markers\", \"name\": \"B\", \"text\": \"\", \"type\": \"scatter\", \"x\": [-1.0099361673355667, -1.0284575537950853, -0.11589523503021203, -0.3871577102854481, -0.8802462358509756, -0.5073178289505085, -0.25872977857744495, -0.8451154146551735, -1.6753380560258833, -0.3197009244061666, -0.13563348234303227, -1.311691245631022, -1.249731033152953, 0.17890604821843886, -1.128427638771329, -1.1636664744849745, -0.9412243713819362, -0.38570173042512107, -0.8003953490624793, 0.8825029834565344, 1.524337052036057, -0.23052058779768336, 1.9285582193640014, -0.872188772166427, -0.3176075253149898, 2.606580520825616, -1.1995356504360102, -0.5183516090778959, -0.04436142535581713, -0.18480369022350523, -1.7547311219167303, 0.4348163458344423, 0.02896010894576578, 1.1883323868662738, 1.6732989603111974, -0.8210953393613368, 0.5004305409127747, -0.22178532385423305, -0.7454328674035887, 2.1180173982206956, 1.190563692517457, 0.3138573805554352, -0.9935779216404051, -0.3647175556508881, 0.5068831822214218, 0.20910917496939357, 0.577713713083106, -0.29978283141123724, -0.2873028727788575, -0.46363559405313143, -0.9206774761598664, -0.755950329387749, 0.7922037497771531, -0.8795695353900919, 0.28776576333898585, -0.23417565168839716, -1.9708555241106436, 0.9824316178908786, -1.98662055858986, -0.7296201496003367, 0.7238839666288359, 1.5974689722403834, 1.801589947153041, -0.7232840189194383, -1.0681986697213794, -0.5992838692605261, 2.239239240441496, -0.2396645330815824, -0.04239926731173785, 0.8738657260289925, -0.8714936725210958, 1.0533376696933532, 0.028493839037042872, 0.9603494061902195, 0.8199228021104203, 1.4708360154901292, -1.104738720637537, -1.6868861956709762, 1.0938651017022927, 2.1390860039617507, -0.3705530670203375, -0.18840168960734383, 0.42753386535746246, 0.6980400869787413, -0.6402916416160395, -0.02222079553462808, -0.4216825148927192, 0.280887190385779, -0.643768601883412, -0.6875539894115286, -1.3443114433014156, -0.25555254723379944, 1.2335524942281835, -0.09161187909282938, 1.0278257484361688, -0.514950707958829, -1.6295755204874562, -0.53058233036871, -0.06432271315517117, -0.4852358829857144], \"y\": [0.744450190015796, 1.1894557449729342, 0.6014866195311764, -0.8880130958919555, 0.2634422442550224, 0.6626931843686664, -1.1250880401227368, 0.4771603153029794, -0.1490065026960575, -0.9623205020230357, 1.4401318165613903, 1.4082689738738148, 0.10270692830268753, 0.01425779846376388, -1.480304960527278, -0.824423835202117, -0.5511105572426905, 0.15703184361306663, 0.9234900532311175, 0.1613158759882807, -0.644491423073877, -1.2120176461084518, 1.016181721468633, -0.6319609682834901, -0.24129550029875582, 0.553567424049745, -0.62444452813727, 0.22496068588193177, 0.8743351098471469, 1.7059386069757694, -1.9206327186061418, 0.7686062004369781, -1.259648403612559, 0.1096277410328048, 0.9387094528772576, -0.27461979313709567, 1.6207957707630838, 0.06169141959846879, -0.4865658395535811, -0.5858756480838269, -0.8884612999138807, 0.13300720372341124, 1.2981909174656012, 0.34230516992051746, 0.4919371479311787, 0.36239582310865504, -0.7208562108905195, 0.6914975574734396, 0.36195579934636735, -0.22232409309193057, 0.065663078950636, 0.1985313405036117, 1.6933038949156938, -0.46264733238674816, 1.7763447430055253, -0.640759791350102, -0.6793491505404466, 0.4267992066295522, -1.1422053149767915, -0.7766786239708781, 0.8754471153083129, -0.8903352167441764, -0.8840619009663945, -0.3280940175291615, 0.3685108324294671, -0.5897320779624863, 0.5219386165501887, 0.10200882724863404, -0.30850418604752317, -0.08803823463831988, -1.557089116787949, 0.5682957147945388, 0.5278400244507687, 1.4323269258374178, 0.5576802769913602, 2.204605797704065, -0.535349852025295, 1.1789203019870378, 0.30611952626236455, 0.45594684826678866, 1.8433513627069207, 0.4245202276944359, 1.031079593495038, 1.5566392860476528, -0.5803530558234599, -1.252281916948563, -0.7086537222484671, 0.5936620950802783, 0.4854826118308957, -0.13808162235319374, 0.07744183888892246, 0.5157739214893406, 0.1884566433660276, 0.5637646438290826, -0.06990828503654249, 0.8880289293608626, 0.5309382058701448, -2.150688191460801, -1.0081065888477767, -0.6843264190330478]}],\n",
       "                        {\"legend\": {\"bgcolor\": \"#F5F6F9\", \"font\": {\"color\": \"#4D5663\"}}, \"paper_bgcolor\": \"#F5F6F9\", \"plot_bgcolor\": \"#F5F6F9\", \"template\": {\"data\": {\"bar\": [{\"error_x\": {\"color\": \"#2a3f5f\"}, \"error_y\": {\"color\": \"#2a3f5f\"}, \"marker\": {\"line\": {\"color\": \"#E5ECF6\", \"width\": 0.5}}, \"type\": \"bar\"}], \"barpolar\": [{\"marker\": {\"line\": {\"color\": \"#E5ECF6\", \"width\": 0.5}}, \"type\": \"barpolar\"}], \"carpet\": [{\"aaxis\": {\"endlinecolor\": \"#2a3f5f\", \"gridcolor\": \"white\", \"linecolor\": \"white\", \"minorgridcolor\": \"white\", \"startlinecolor\": \"#2a3f5f\"}, \"baxis\": {\"endlinecolor\": \"#2a3f5f\", \"gridcolor\": \"white\", \"linecolor\": \"white\", \"minorgridcolor\": \"white\", \"startlinecolor\": \"#2a3f5f\"}, \"type\": \"carpet\"}], \"choropleth\": [{\"colorbar\": {\"outlinewidth\": 0, \"ticks\": \"\"}, \"type\": \"choropleth\"}], \"contour\": [{\"colorbar\": {\"outlinewidth\": 0, \"ticks\": \"\"}, \"colorscale\": [[0.0, \"#0d0887\"], [0.1111111111111111, \"#46039f\"], [0.2222222222222222, \"#7201a8\"], [0.3333333333333333, \"#9c179e\"], [0.4444444444444444, \"#bd3786\"], [0.5555555555555556, \"#d8576b\"], [0.6666666666666666, \"#ed7953\"], [0.7777777777777778, \"#fb9f3a\"], [0.8888888888888888, \"#fdca26\"], [1.0, \"#f0f921\"]], \"type\": \"contour\"}], \"contourcarpet\": [{\"colorbar\": {\"outlinewidth\": 0, \"ticks\": \"\"}, \"type\": \"contourcarpet\"}], \"heatmap\": [{\"colorbar\": {\"outlinewidth\": 0, \"ticks\": \"\"}, \"colorscale\": [[0.0, \"#0d0887\"], [0.1111111111111111, \"#46039f\"], [0.2222222222222222, \"#7201a8\"], [0.3333333333333333, \"#9c179e\"], [0.4444444444444444, \"#bd3786\"], [0.5555555555555556, \"#d8576b\"], [0.6666666666666666, \"#ed7953\"], [0.7777777777777778, \"#fb9f3a\"], [0.8888888888888888, \"#fdca26\"], [1.0, \"#f0f921\"]], \"type\": \"heatmap\"}], \"heatmapgl\": [{\"colorbar\": {\"outlinewidth\": 0, \"ticks\": \"\"}, \"colorscale\": [[0.0, \"#0d0887\"], [0.1111111111111111, \"#46039f\"], [0.2222222222222222, \"#7201a8\"], [0.3333333333333333, \"#9c179e\"], [0.4444444444444444, \"#bd3786\"], [0.5555555555555556, \"#d8576b\"], [0.6666666666666666, \"#ed7953\"], [0.7777777777777778, \"#fb9f3a\"], [0.8888888888888888, \"#fdca26\"], [1.0, \"#f0f921\"]], \"type\": \"heatmapgl\"}], \"histogram\": [{\"marker\": {\"colorbar\": {\"outlinewidth\": 0, \"ticks\": \"\"}}, \"type\": \"histogram\"}], \"histogram2d\": [{\"colorbar\": {\"outlinewidth\": 0, \"ticks\": \"\"}, \"colorscale\": [[0.0, \"#0d0887\"], [0.1111111111111111, \"#46039f\"], [0.2222222222222222, \"#7201a8\"], [0.3333333333333333, \"#9c179e\"], [0.4444444444444444, \"#bd3786\"], [0.5555555555555556, \"#d8576b\"], [0.6666666666666666, \"#ed7953\"], [0.7777777777777778, \"#fb9f3a\"], [0.8888888888888888, \"#fdca26\"], [1.0, \"#f0f921\"]], \"type\": \"histogram2d\"}], \"histogram2dcontour\": [{\"colorbar\": {\"outlinewidth\": 0, \"ticks\": \"\"}, \"colorscale\": [[0.0, \"#0d0887\"], [0.1111111111111111, \"#46039f\"], [0.2222222222222222, \"#7201a8\"], [0.3333333333333333, \"#9c179e\"], [0.4444444444444444, \"#bd3786\"], [0.5555555555555556, \"#d8576b\"], [0.6666666666666666, \"#ed7953\"], [0.7777777777777778, \"#fb9f3a\"], [0.8888888888888888, \"#fdca26\"], [1.0, \"#f0f921\"]], \"type\": \"histogram2dcontour\"}], \"mesh3d\": [{\"colorbar\": {\"outlinewidth\": 0, \"ticks\": \"\"}, \"type\": \"mesh3d\"}], \"parcoords\": [{\"line\": {\"colorbar\": {\"outlinewidth\": 0, \"ticks\": \"\"}}, \"type\": \"parcoords\"}], \"pie\": [{\"automargin\": true, \"type\": \"pie\"}], \"scatter\": [{\"marker\": {\"colorbar\": {\"outlinewidth\": 0, \"ticks\": \"\"}}, \"type\": \"scatter\"}], \"scatter3d\": [{\"line\": {\"colorbar\": {\"outlinewidth\": 0, \"ticks\": \"\"}}, \"marker\": {\"colorbar\": {\"outlinewidth\": 0, \"ticks\": \"\"}}, \"type\": \"scatter3d\"}], \"scattercarpet\": [{\"marker\": {\"colorbar\": {\"outlinewidth\": 0, \"ticks\": \"\"}}, \"type\": \"scattercarpet\"}], \"scattergeo\": [{\"marker\": {\"colorbar\": {\"outlinewidth\": 0, \"ticks\": \"\"}}, \"type\": \"scattergeo\"}], \"scattergl\": [{\"marker\": {\"colorbar\": {\"outlinewidth\": 0, \"ticks\": \"\"}}, \"type\": \"scattergl\"}], \"scattermapbox\": [{\"marker\": {\"colorbar\": {\"outlinewidth\": 0, \"ticks\": \"\"}}, \"type\": \"scattermapbox\"}], \"scatterpolar\": [{\"marker\": {\"colorbar\": {\"outlinewidth\": 0, \"ticks\": \"\"}}, \"type\": \"scatterpolar\"}], \"scatterpolargl\": [{\"marker\": {\"colorbar\": {\"outlinewidth\": 0, \"ticks\": \"\"}}, \"type\": \"scatterpolargl\"}], \"scatterternary\": [{\"marker\": {\"colorbar\": {\"outlinewidth\": 0, \"ticks\": \"\"}}, \"type\": \"scatterternary\"}], \"surface\": [{\"colorbar\": {\"outlinewidth\": 0, \"ticks\": \"\"}, \"colorscale\": [[0.0, \"#0d0887\"], [0.1111111111111111, \"#46039f\"], [0.2222222222222222, \"#7201a8\"], [0.3333333333333333, \"#9c179e\"], [0.4444444444444444, \"#bd3786\"], [0.5555555555555556, \"#d8576b\"], [0.6666666666666666, \"#ed7953\"], [0.7777777777777778, \"#fb9f3a\"], [0.8888888888888888, \"#fdca26\"], [1.0, \"#f0f921\"]], \"type\": \"surface\"}], \"table\": [{\"cells\": {\"fill\": {\"color\": \"#EBF0F8\"}, \"line\": {\"color\": \"white\"}}, \"header\": {\"fill\": {\"color\": \"#C8D4E3\"}, \"line\": {\"color\": \"white\"}}, \"type\": \"table\"}]}, \"layout\": {\"annotationdefaults\": {\"arrowcolor\": \"#2a3f5f\", \"arrowhead\": 0, \"arrowwidth\": 1}, \"coloraxis\": {\"colorbar\": {\"outlinewidth\": 0, \"ticks\": \"\"}}, \"colorscale\": {\"diverging\": [[0, \"#8e0152\"], [0.1, \"#c51b7d\"], [0.2, \"#de77ae\"], [0.3, \"#f1b6da\"], [0.4, \"#fde0ef\"], [0.5, \"#f7f7f7\"], [0.6, \"#e6f5d0\"], [0.7, \"#b8e186\"], [0.8, \"#7fbc41\"], [0.9, \"#4d9221\"], [1, \"#276419\"]], \"sequential\": [[0.0, \"#0d0887\"], [0.1111111111111111, \"#46039f\"], [0.2222222222222222, \"#7201a8\"], [0.3333333333333333, \"#9c179e\"], [0.4444444444444444, \"#bd3786\"], [0.5555555555555556, \"#d8576b\"], [0.6666666666666666, \"#ed7953\"], [0.7777777777777778, \"#fb9f3a\"], [0.8888888888888888, \"#fdca26\"], [1.0, \"#f0f921\"]], \"sequentialminus\": [[0.0, \"#0d0887\"], [0.1111111111111111, \"#46039f\"], [0.2222222222222222, \"#7201a8\"], [0.3333333333333333, \"#9c179e\"], [0.4444444444444444, \"#bd3786\"], [0.5555555555555556, \"#d8576b\"], [0.6666666666666666, \"#ed7953\"], [0.7777777777777778, \"#fb9f3a\"], [0.8888888888888888, \"#fdca26\"], [1.0, \"#f0f921\"]]}, \"colorway\": [\"#636efa\", \"#EF553B\", \"#00cc96\", \"#ab63fa\", \"#FFA15A\", \"#19d3f3\", \"#FF6692\", \"#B6E880\", \"#FF97FF\", \"#FECB52\"], \"font\": {\"color\": \"#2a3f5f\"}, \"geo\": {\"bgcolor\": \"white\", \"lakecolor\": \"white\", \"landcolor\": \"#E5ECF6\", \"showlakes\": true, \"showland\": true, \"subunitcolor\": \"white\"}, \"hoverlabel\": {\"align\": \"left\"}, \"hovermode\": \"closest\", \"mapbox\": {\"style\": \"light\"}, \"paper_bgcolor\": \"white\", \"plot_bgcolor\": \"#E5ECF6\", \"polar\": {\"angularaxis\": {\"gridcolor\": \"white\", \"linecolor\": \"white\", \"ticks\": \"\"}, \"bgcolor\": \"#E5ECF6\", \"radialaxis\": {\"gridcolor\": \"white\", \"linecolor\": \"white\", \"ticks\": \"\"}}, \"scene\": {\"xaxis\": {\"backgroundcolor\": \"#E5ECF6\", \"gridcolor\": \"white\", \"gridwidth\": 2, \"linecolor\": \"white\", \"showbackground\": true, \"ticks\": \"\", \"zerolinecolor\": \"white\"}, \"yaxis\": {\"backgroundcolor\": \"#E5ECF6\", \"gridcolor\": \"white\", \"gridwidth\": 2, \"linecolor\": \"white\", \"showbackground\": true, \"ticks\": \"\", \"zerolinecolor\": \"white\"}, \"zaxis\": {\"backgroundcolor\": \"#E5ECF6\", \"gridcolor\": \"white\", \"gridwidth\": 2, \"linecolor\": \"white\", \"showbackground\": true, \"ticks\": \"\", \"zerolinecolor\": \"white\"}}, \"shapedefaults\": {\"line\": {\"color\": \"#2a3f5f\"}}, \"ternary\": {\"aaxis\": {\"gridcolor\": \"white\", \"linecolor\": \"white\", \"ticks\": \"\"}, \"baxis\": {\"gridcolor\": \"white\", \"linecolor\": \"white\", \"ticks\": \"\"}, \"bgcolor\": \"#E5ECF6\", \"caxis\": {\"gridcolor\": \"white\", \"linecolor\": \"white\", \"ticks\": \"\"}}, \"title\": {\"x\": 0.05}, \"xaxis\": {\"automargin\": true, \"gridcolor\": \"white\", \"linecolor\": \"white\", \"ticks\": \"\", \"title\": {\"standoff\": 15}, \"zerolinecolor\": \"white\", \"zerolinewidth\": 2}, \"yaxis\": {\"automargin\": true, \"gridcolor\": \"white\", \"linecolor\": \"white\", \"ticks\": \"\", \"title\": {\"standoff\": 15}, \"zerolinecolor\": \"white\", \"zerolinewidth\": 2}}}, \"title\": {\"font\": {\"color\": \"#4D5663\"}}, \"xaxis\": {\"gridcolor\": \"#E1E5ED\", \"showgrid\": true, \"tickfont\": {\"color\": \"#4D5663\"}, \"title\": {\"font\": {\"color\": \"#4D5663\"}, \"text\": \"\"}, \"zerolinecolor\": \"#E1E5ED\"}, \"yaxis\": {\"gridcolor\": \"#E1E5ED\", \"showgrid\": true, \"tickfont\": {\"color\": \"#4D5663\"}, \"title\": {\"font\": {\"color\": \"#4D5663\"}, \"text\": \"\"}, \"zerolinecolor\": \"#E1E5ED\"}},\n",
       "                        {\"showLink\": true, \"linkText\": \"Export to plot.ly\", \"plotlyServerURL\": \"https://plot.ly\", \"responsive\": true}\n",
       "                    ).then(function(){\n",
       "                            \n",
       "var gd = document.getElementById('df35ae30-c378-443f-89b2-d34fadfc3413');\n",
       "var x = new MutationObserver(function (mutations, observer) {{\n",
       "        var display = window.getComputedStyle(gd).display;\n",
       "        if (!display || display === 'none') {{\n",
       "            console.log([gd, 'removed!']);\n",
       "            Plotly.purge(gd);\n",
       "            observer.disconnect();\n",
       "        }}\n",
       "}});\n",
       "\n",
       "// Listen for the removal of the full notebook cells\n",
       "var notebookContainer = gd.closest('#notebook-container');\n",
       "if (notebookContainer) {{\n",
       "    x.observe(notebookContainer, {childList: true});\n",
       "}}\n",
       "\n",
       "// Listen for the clearing of the current output cell\n",
       "var outputEl = gd.closest('.output');\n",
       "if (outputEl) {{\n",
       "    x.observe(outputEl, {childList: true});\n",
       "}}\n",
       "\n",
       "                        })\n",
       "                };\n",
       "                });\n",
       "            </script>\n",
       "        </div>"
      ]
     },
     "metadata": {},
     "output_type": "display_data"
    }
   ],
   "source": [
    "df.iplot(kind='scatter',x='A',y='B',mode='markers',size=10)"
   ]
  },
  {
   "cell_type": "markdown",
   "metadata": {},
   "source": [
    "## Bar Plots"
   ]
  },
  {
   "cell_type": "code",
   "execution_count": 11,
   "metadata": {},
   "outputs": [
    {
     "data": {
      "application/vnd.plotly.v1+json": {
       "config": {
        "linkText": "Export to plot.ly",
        "plotlyServerURL": "https://plot.ly",
        "showLink": true
       },
       "data": [
        {
         "marker": {
          "color": "rgba(255, 153, 51, 0.6)",
          "line": {
           "color": "rgba(255, 153, 51, 1.0)",
           "width": 1
          }
         },
         "name": "Values",
         "orientation": "v",
         "text": "",
         "type": "bar",
         "x": [
          "A",
          "B",
          "C"
         ],
         "y": [
          32,
          43,
          50
         ]
        }
       ],
       "layout": {
        "legend": {
         "bgcolor": "#F5F6F9",
         "font": {
          "color": "#4D5663"
         }
        },
        "paper_bgcolor": "#F5F6F9",
        "plot_bgcolor": "#F5F6F9",
        "template": {
         "data": {
          "bar": [
           {
            "error_x": {
             "color": "#2a3f5f"
            },
            "error_y": {
             "color": "#2a3f5f"
            },
            "marker": {
             "line": {
              "color": "#E5ECF6",
              "width": 0.5
             }
            },
            "type": "bar"
           }
          ],
          "barpolar": [
           {
            "marker": {
             "line": {
              "color": "#E5ECF6",
              "width": 0.5
             }
            },
            "type": "barpolar"
           }
          ],
          "carpet": [
           {
            "aaxis": {
             "endlinecolor": "#2a3f5f",
             "gridcolor": "white",
             "linecolor": "white",
             "minorgridcolor": "white",
             "startlinecolor": "#2a3f5f"
            },
            "baxis": {
             "endlinecolor": "#2a3f5f",
             "gridcolor": "white",
             "linecolor": "white",
             "minorgridcolor": "white",
             "startlinecolor": "#2a3f5f"
            },
            "type": "carpet"
           }
          ],
          "choropleth": [
           {
            "colorbar": {
             "outlinewidth": 0,
             "ticks": ""
            },
            "type": "choropleth"
           }
          ],
          "contour": [
           {
            "colorbar": {
             "outlinewidth": 0,
             "ticks": ""
            },
            "colorscale": [
             [
              0,
              "#0d0887"
             ],
             [
              0.1111111111111111,
              "#46039f"
             ],
             [
              0.2222222222222222,
              "#7201a8"
             ],
             [
              0.3333333333333333,
              "#9c179e"
             ],
             [
              0.4444444444444444,
              "#bd3786"
             ],
             [
              0.5555555555555556,
              "#d8576b"
             ],
             [
              0.6666666666666666,
              "#ed7953"
             ],
             [
              0.7777777777777778,
              "#fb9f3a"
             ],
             [
              0.8888888888888888,
              "#fdca26"
             ],
             [
              1,
              "#f0f921"
             ]
            ],
            "type": "contour"
           }
          ],
          "contourcarpet": [
           {
            "colorbar": {
             "outlinewidth": 0,
             "ticks": ""
            },
            "type": "contourcarpet"
           }
          ],
          "heatmap": [
           {
            "colorbar": {
             "outlinewidth": 0,
             "ticks": ""
            },
            "colorscale": [
             [
              0,
              "#0d0887"
             ],
             [
              0.1111111111111111,
              "#46039f"
             ],
             [
              0.2222222222222222,
              "#7201a8"
             ],
             [
              0.3333333333333333,
              "#9c179e"
             ],
             [
              0.4444444444444444,
              "#bd3786"
             ],
             [
              0.5555555555555556,
              "#d8576b"
             ],
             [
              0.6666666666666666,
              "#ed7953"
             ],
             [
              0.7777777777777778,
              "#fb9f3a"
             ],
             [
              0.8888888888888888,
              "#fdca26"
             ],
             [
              1,
              "#f0f921"
             ]
            ],
            "type": "heatmap"
           }
          ],
          "heatmapgl": [
           {
            "colorbar": {
             "outlinewidth": 0,
             "ticks": ""
            },
            "colorscale": [
             [
              0,
              "#0d0887"
             ],
             [
              0.1111111111111111,
              "#46039f"
             ],
             [
              0.2222222222222222,
              "#7201a8"
             ],
             [
              0.3333333333333333,
              "#9c179e"
             ],
             [
              0.4444444444444444,
              "#bd3786"
             ],
             [
              0.5555555555555556,
              "#d8576b"
             ],
             [
              0.6666666666666666,
              "#ed7953"
             ],
             [
              0.7777777777777778,
              "#fb9f3a"
             ],
             [
              0.8888888888888888,
              "#fdca26"
             ],
             [
              1,
              "#f0f921"
             ]
            ],
            "type": "heatmapgl"
           }
          ],
          "histogram": [
           {
            "marker": {
             "colorbar": {
              "outlinewidth": 0,
              "ticks": ""
             }
            },
            "type": "histogram"
           }
          ],
          "histogram2d": [
           {
            "colorbar": {
             "outlinewidth": 0,
             "ticks": ""
            },
            "colorscale": [
             [
              0,
              "#0d0887"
             ],
             [
              0.1111111111111111,
              "#46039f"
             ],
             [
              0.2222222222222222,
              "#7201a8"
             ],
             [
              0.3333333333333333,
              "#9c179e"
             ],
             [
              0.4444444444444444,
              "#bd3786"
             ],
             [
              0.5555555555555556,
              "#d8576b"
             ],
             [
              0.6666666666666666,
              "#ed7953"
             ],
             [
              0.7777777777777778,
              "#fb9f3a"
             ],
             [
              0.8888888888888888,
              "#fdca26"
             ],
             [
              1,
              "#f0f921"
             ]
            ],
            "type": "histogram2d"
           }
          ],
          "histogram2dcontour": [
           {
            "colorbar": {
             "outlinewidth": 0,
             "ticks": ""
            },
            "colorscale": [
             [
              0,
              "#0d0887"
             ],
             [
              0.1111111111111111,
              "#46039f"
             ],
             [
              0.2222222222222222,
              "#7201a8"
             ],
             [
              0.3333333333333333,
              "#9c179e"
             ],
             [
              0.4444444444444444,
              "#bd3786"
             ],
             [
              0.5555555555555556,
              "#d8576b"
             ],
             [
              0.6666666666666666,
              "#ed7953"
             ],
             [
              0.7777777777777778,
              "#fb9f3a"
             ],
             [
              0.8888888888888888,
              "#fdca26"
             ],
             [
              1,
              "#f0f921"
             ]
            ],
            "type": "histogram2dcontour"
           }
          ],
          "mesh3d": [
           {
            "colorbar": {
             "outlinewidth": 0,
             "ticks": ""
            },
            "type": "mesh3d"
           }
          ],
          "parcoords": [
           {
            "line": {
             "colorbar": {
              "outlinewidth": 0,
              "ticks": ""
             }
            },
            "type": "parcoords"
           }
          ],
          "pie": [
           {
            "automargin": true,
            "type": "pie"
           }
          ],
          "scatter": [
           {
            "marker": {
             "colorbar": {
              "outlinewidth": 0,
              "ticks": ""
             }
            },
            "type": "scatter"
           }
          ],
          "scatter3d": [
           {
            "line": {
             "colorbar": {
              "outlinewidth": 0,
              "ticks": ""
             }
            },
            "marker": {
             "colorbar": {
              "outlinewidth": 0,
              "ticks": ""
             }
            },
            "type": "scatter3d"
           }
          ],
          "scattercarpet": [
           {
            "marker": {
             "colorbar": {
              "outlinewidth": 0,
              "ticks": ""
             }
            },
            "type": "scattercarpet"
           }
          ],
          "scattergeo": [
           {
            "marker": {
             "colorbar": {
              "outlinewidth": 0,
              "ticks": ""
             }
            },
            "type": "scattergeo"
           }
          ],
          "scattergl": [
           {
            "marker": {
             "colorbar": {
              "outlinewidth": 0,
              "ticks": ""
             }
            },
            "type": "scattergl"
           }
          ],
          "scattermapbox": [
           {
            "marker": {
             "colorbar": {
              "outlinewidth": 0,
              "ticks": ""
             }
            },
            "type": "scattermapbox"
           }
          ],
          "scatterpolar": [
           {
            "marker": {
             "colorbar": {
              "outlinewidth": 0,
              "ticks": ""
             }
            },
            "type": "scatterpolar"
           }
          ],
          "scatterpolargl": [
           {
            "marker": {
             "colorbar": {
              "outlinewidth": 0,
              "ticks": ""
             }
            },
            "type": "scatterpolargl"
           }
          ],
          "scatterternary": [
           {
            "marker": {
             "colorbar": {
              "outlinewidth": 0,
              "ticks": ""
             }
            },
            "type": "scatterternary"
           }
          ],
          "surface": [
           {
            "colorbar": {
             "outlinewidth": 0,
             "ticks": ""
            },
            "colorscale": [
             [
              0,
              "#0d0887"
             ],
             [
              0.1111111111111111,
              "#46039f"
             ],
             [
              0.2222222222222222,
              "#7201a8"
             ],
             [
              0.3333333333333333,
              "#9c179e"
             ],
             [
              0.4444444444444444,
              "#bd3786"
             ],
             [
              0.5555555555555556,
              "#d8576b"
             ],
             [
              0.6666666666666666,
              "#ed7953"
             ],
             [
              0.7777777777777778,
              "#fb9f3a"
             ],
             [
              0.8888888888888888,
              "#fdca26"
             ],
             [
              1,
              "#f0f921"
             ]
            ],
            "type": "surface"
           }
          ],
          "table": [
           {
            "cells": {
             "fill": {
              "color": "#EBF0F8"
             },
             "line": {
              "color": "white"
             }
            },
            "header": {
             "fill": {
              "color": "#C8D4E3"
             },
             "line": {
              "color": "white"
             }
            },
            "type": "table"
           }
          ]
         },
         "layout": {
          "annotationdefaults": {
           "arrowcolor": "#2a3f5f",
           "arrowhead": 0,
           "arrowwidth": 1
          },
          "coloraxis": {
           "colorbar": {
            "outlinewidth": 0,
            "ticks": ""
           }
          },
          "colorscale": {
           "diverging": [
            [
             0,
             "#8e0152"
            ],
            [
             0.1,
             "#c51b7d"
            ],
            [
             0.2,
             "#de77ae"
            ],
            [
             0.3,
             "#f1b6da"
            ],
            [
             0.4,
             "#fde0ef"
            ],
            [
             0.5,
             "#f7f7f7"
            ],
            [
             0.6,
             "#e6f5d0"
            ],
            [
             0.7,
             "#b8e186"
            ],
            [
             0.8,
             "#7fbc41"
            ],
            [
             0.9,
             "#4d9221"
            ],
            [
             1,
             "#276419"
            ]
           ],
           "sequential": [
            [
             0,
             "#0d0887"
            ],
            [
             0.1111111111111111,
             "#46039f"
            ],
            [
             0.2222222222222222,
             "#7201a8"
            ],
            [
             0.3333333333333333,
             "#9c179e"
            ],
            [
             0.4444444444444444,
             "#bd3786"
            ],
            [
             0.5555555555555556,
             "#d8576b"
            ],
            [
             0.6666666666666666,
             "#ed7953"
            ],
            [
             0.7777777777777778,
             "#fb9f3a"
            ],
            [
             0.8888888888888888,
             "#fdca26"
            ],
            [
             1,
             "#f0f921"
            ]
           ],
           "sequentialminus": [
            [
             0,
             "#0d0887"
            ],
            [
             0.1111111111111111,
             "#46039f"
            ],
            [
             0.2222222222222222,
             "#7201a8"
            ],
            [
             0.3333333333333333,
             "#9c179e"
            ],
            [
             0.4444444444444444,
             "#bd3786"
            ],
            [
             0.5555555555555556,
             "#d8576b"
            ],
            [
             0.6666666666666666,
             "#ed7953"
            ],
            [
             0.7777777777777778,
             "#fb9f3a"
            ],
            [
             0.8888888888888888,
             "#fdca26"
            ],
            [
             1,
             "#f0f921"
            ]
           ]
          },
          "colorway": [
           "#636efa",
           "#EF553B",
           "#00cc96",
           "#ab63fa",
           "#FFA15A",
           "#19d3f3",
           "#FF6692",
           "#B6E880",
           "#FF97FF",
           "#FECB52"
          ],
          "font": {
           "color": "#2a3f5f"
          },
          "geo": {
           "bgcolor": "white",
           "lakecolor": "white",
           "landcolor": "#E5ECF6",
           "showlakes": true,
           "showland": true,
           "subunitcolor": "white"
          },
          "hoverlabel": {
           "align": "left"
          },
          "hovermode": "closest",
          "mapbox": {
           "style": "light"
          },
          "paper_bgcolor": "white",
          "plot_bgcolor": "#E5ECF6",
          "polar": {
           "angularaxis": {
            "gridcolor": "white",
            "linecolor": "white",
            "ticks": ""
           },
           "bgcolor": "#E5ECF6",
           "radialaxis": {
            "gridcolor": "white",
            "linecolor": "white",
            "ticks": ""
           }
          },
          "scene": {
           "xaxis": {
            "backgroundcolor": "#E5ECF6",
            "gridcolor": "white",
            "gridwidth": 2,
            "linecolor": "white",
            "showbackground": true,
            "ticks": "",
            "zerolinecolor": "white"
           },
           "yaxis": {
            "backgroundcolor": "#E5ECF6",
            "gridcolor": "white",
            "gridwidth": 2,
            "linecolor": "white",
            "showbackground": true,
            "ticks": "",
            "zerolinecolor": "white"
           },
           "zaxis": {
            "backgroundcolor": "#E5ECF6",
            "gridcolor": "white",
            "gridwidth": 2,
            "linecolor": "white",
            "showbackground": true,
            "ticks": "",
            "zerolinecolor": "white"
           }
          },
          "shapedefaults": {
           "line": {
            "color": "#2a3f5f"
           }
          },
          "ternary": {
           "aaxis": {
            "gridcolor": "white",
            "linecolor": "white",
            "ticks": ""
           },
           "baxis": {
            "gridcolor": "white",
            "linecolor": "white",
            "ticks": ""
           },
           "bgcolor": "#E5ECF6",
           "caxis": {
            "gridcolor": "white",
            "linecolor": "white",
            "ticks": ""
           }
          },
          "title": {
           "x": 0.05
          },
          "xaxis": {
           "automargin": true,
           "gridcolor": "white",
           "linecolor": "white",
           "ticks": "",
           "title": {
            "standoff": 15
           },
           "zerolinecolor": "white",
           "zerolinewidth": 2
          },
          "yaxis": {
           "automargin": true,
           "gridcolor": "white",
           "linecolor": "white",
           "ticks": "",
           "title": {
            "standoff": 15
           },
           "zerolinecolor": "white",
           "zerolinewidth": 2
          }
         }
        },
        "title": {
         "font": {
          "color": "#4D5663"
         }
        },
        "xaxis": {
         "gridcolor": "#E1E5ED",
         "showgrid": true,
         "tickfont": {
          "color": "#4D5663"
         },
         "title": {
          "font": {
           "color": "#4D5663"
          },
          "text": ""
         },
         "zerolinecolor": "#E1E5ED"
        },
        "yaxis": {
         "gridcolor": "#E1E5ED",
         "showgrid": true,
         "tickfont": {
          "color": "#4D5663"
         },
         "title": {
          "font": {
           "color": "#4D5663"
          },
          "text": ""
         },
         "zerolinecolor": "#E1E5ED"
        }
       }
      },
      "text/html": [
       "<div>\n",
       "        \n",
       "        \n",
       "            <div id=\"feb07ae2-ec01-455b-960b-cda50f4c61e7\" class=\"plotly-graph-div\" style=\"height:525px; width:100%;\"></div>\n",
       "            <script type=\"text/javascript\">\n",
       "                require([\"plotly\"], function(Plotly) {\n",
       "                    window.PLOTLYENV=window.PLOTLYENV || {};\n",
       "                    window.PLOTLYENV.BASE_URL='https://plot.ly';\n",
       "                    \n",
       "                if (document.getElementById(\"feb07ae2-ec01-455b-960b-cda50f4c61e7\")) {\n",
       "                    Plotly.newPlot(\n",
       "                        'feb07ae2-ec01-455b-960b-cda50f4c61e7',\n",
       "                        [{\"marker\": {\"color\": \"rgba(255, 153, 51, 0.6)\", \"line\": {\"color\": \"rgba(255, 153, 51, 1.0)\", \"width\": 1}}, \"name\": \"Values\", \"orientation\": \"v\", \"text\": \"\", \"type\": \"bar\", \"x\": [\"A\", \"B\", \"C\"], \"y\": [32, 43, 50]}],\n",
       "                        {\"legend\": {\"bgcolor\": \"#F5F6F9\", \"font\": {\"color\": \"#4D5663\"}}, \"paper_bgcolor\": \"#F5F6F9\", \"plot_bgcolor\": \"#F5F6F9\", \"template\": {\"data\": {\"bar\": [{\"error_x\": {\"color\": \"#2a3f5f\"}, \"error_y\": {\"color\": \"#2a3f5f\"}, \"marker\": {\"line\": {\"color\": \"#E5ECF6\", \"width\": 0.5}}, \"type\": \"bar\"}], \"barpolar\": [{\"marker\": {\"line\": {\"color\": \"#E5ECF6\", \"width\": 0.5}}, \"type\": \"barpolar\"}], \"carpet\": [{\"aaxis\": {\"endlinecolor\": \"#2a3f5f\", \"gridcolor\": \"white\", \"linecolor\": \"white\", \"minorgridcolor\": \"white\", \"startlinecolor\": \"#2a3f5f\"}, \"baxis\": {\"endlinecolor\": \"#2a3f5f\", \"gridcolor\": \"white\", \"linecolor\": \"white\", \"minorgridcolor\": \"white\", \"startlinecolor\": \"#2a3f5f\"}, \"type\": \"carpet\"}], \"choropleth\": [{\"colorbar\": {\"outlinewidth\": 0, \"ticks\": \"\"}, \"type\": \"choropleth\"}], \"contour\": [{\"colorbar\": {\"outlinewidth\": 0, \"ticks\": \"\"}, \"colorscale\": [[0.0, \"#0d0887\"], [0.1111111111111111, \"#46039f\"], [0.2222222222222222, \"#7201a8\"], [0.3333333333333333, \"#9c179e\"], [0.4444444444444444, \"#bd3786\"], [0.5555555555555556, \"#d8576b\"], [0.6666666666666666, \"#ed7953\"], [0.7777777777777778, \"#fb9f3a\"], [0.8888888888888888, \"#fdca26\"], [1.0, \"#f0f921\"]], \"type\": \"contour\"}], \"contourcarpet\": [{\"colorbar\": {\"outlinewidth\": 0, \"ticks\": \"\"}, \"type\": \"contourcarpet\"}], \"heatmap\": [{\"colorbar\": {\"outlinewidth\": 0, \"ticks\": \"\"}, \"colorscale\": [[0.0, \"#0d0887\"], [0.1111111111111111, \"#46039f\"], [0.2222222222222222, \"#7201a8\"], [0.3333333333333333, \"#9c179e\"], [0.4444444444444444, \"#bd3786\"], [0.5555555555555556, \"#d8576b\"], [0.6666666666666666, \"#ed7953\"], [0.7777777777777778, \"#fb9f3a\"], [0.8888888888888888, \"#fdca26\"], [1.0, \"#f0f921\"]], \"type\": \"heatmap\"}], \"heatmapgl\": [{\"colorbar\": {\"outlinewidth\": 0, \"ticks\": \"\"}, \"colorscale\": [[0.0, \"#0d0887\"], [0.1111111111111111, \"#46039f\"], [0.2222222222222222, \"#7201a8\"], [0.3333333333333333, \"#9c179e\"], [0.4444444444444444, \"#bd3786\"], [0.5555555555555556, \"#d8576b\"], [0.6666666666666666, \"#ed7953\"], [0.7777777777777778, \"#fb9f3a\"], [0.8888888888888888, \"#fdca26\"], [1.0, \"#f0f921\"]], \"type\": \"heatmapgl\"}], \"histogram\": [{\"marker\": {\"colorbar\": {\"outlinewidth\": 0, \"ticks\": \"\"}}, \"type\": \"histogram\"}], \"histogram2d\": [{\"colorbar\": {\"outlinewidth\": 0, \"ticks\": \"\"}, \"colorscale\": [[0.0, \"#0d0887\"], [0.1111111111111111, \"#46039f\"], [0.2222222222222222, \"#7201a8\"], [0.3333333333333333, \"#9c179e\"], [0.4444444444444444, \"#bd3786\"], [0.5555555555555556, \"#d8576b\"], [0.6666666666666666, \"#ed7953\"], [0.7777777777777778, \"#fb9f3a\"], [0.8888888888888888, \"#fdca26\"], [1.0, \"#f0f921\"]], \"type\": \"histogram2d\"}], \"histogram2dcontour\": [{\"colorbar\": {\"outlinewidth\": 0, \"ticks\": \"\"}, \"colorscale\": [[0.0, \"#0d0887\"], [0.1111111111111111, \"#46039f\"], [0.2222222222222222, \"#7201a8\"], [0.3333333333333333, \"#9c179e\"], [0.4444444444444444, \"#bd3786\"], [0.5555555555555556, \"#d8576b\"], [0.6666666666666666, \"#ed7953\"], [0.7777777777777778, \"#fb9f3a\"], [0.8888888888888888, \"#fdca26\"], [1.0, \"#f0f921\"]], \"type\": \"histogram2dcontour\"}], \"mesh3d\": [{\"colorbar\": {\"outlinewidth\": 0, \"ticks\": \"\"}, \"type\": \"mesh3d\"}], \"parcoords\": [{\"line\": {\"colorbar\": {\"outlinewidth\": 0, \"ticks\": \"\"}}, \"type\": \"parcoords\"}], \"pie\": [{\"automargin\": true, \"type\": \"pie\"}], \"scatter\": [{\"marker\": {\"colorbar\": {\"outlinewidth\": 0, \"ticks\": \"\"}}, \"type\": \"scatter\"}], \"scatter3d\": [{\"line\": {\"colorbar\": {\"outlinewidth\": 0, \"ticks\": \"\"}}, \"marker\": {\"colorbar\": {\"outlinewidth\": 0, \"ticks\": \"\"}}, \"type\": \"scatter3d\"}], \"scattercarpet\": [{\"marker\": {\"colorbar\": {\"outlinewidth\": 0, \"ticks\": \"\"}}, \"type\": \"scattercarpet\"}], \"scattergeo\": [{\"marker\": {\"colorbar\": {\"outlinewidth\": 0, \"ticks\": \"\"}}, \"type\": \"scattergeo\"}], \"scattergl\": [{\"marker\": {\"colorbar\": {\"outlinewidth\": 0, \"ticks\": \"\"}}, \"type\": \"scattergl\"}], \"scattermapbox\": [{\"marker\": {\"colorbar\": {\"outlinewidth\": 0, \"ticks\": \"\"}}, \"type\": \"scattermapbox\"}], \"scatterpolar\": [{\"marker\": {\"colorbar\": {\"outlinewidth\": 0, \"ticks\": \"\"}}, \"type\": \"scatterpolar\"}], \"scatterpolargl\": [{\"marker\": {\"colorbar\": {\"outlinewidth\": 0, \"ticks\": \"\"}}, \"type\": \"scatterpolargl\"}], \"scatterternary\": [{\"marker\": {\"colorbar\": {\"outlinewidth\": 0, \"ticks\": \"\"}}, \"type\": \"scatterternary\"}], \"surface\": [{\"colorbar\": {\"outlinewidth\": 0, \"ticks\": \"\"}, \"colorscale\": [[0.0, \"#0d0887\"], [0.1111111111111111, \"#46039f\"], [0.2222222222222222, \"#7201a8\"], [0.3333333333333333, \"#9c179e\"], [0.4444444444444444, \"#bd3786\"], [0.5555555555555556, \"#d8576b\"], [0.6666666666666666, \"#ed7953\"], [0.7777777777777778, \"#fb9f3a\"], [0.8888888888888888, \"#fdca26\"], [1.0, \"#f0f921\"]], \"type\": \"surface\"}], \"table\": [{\"cells\": {\"fill\": {\"color\": \"#EBF0F8\"}, \"line\": {\"color\": \"white\"}}, \"header\": {\"fill\": {\"color\": \"#C8D4E3\"}, \"line\": {\"color\": \"white\"}}, \"type\": \"table\"}]}, \"layout\": {\"annotationdefaults\": {\"arrowcolor\": \"#2a3f5f\", \"arrowhead\": 0, \"arrowwidth\": 1}, \"coloraxis\": {\"colorbar\": {\"outlinewidth\": 0, \"ticks\": \"\"}}, \"colorscale\": {\"diverging\": [[0, \"#8e0152\"], [0.1, \"#c51b7d\"], [0.2, \"#de77ae\"], [0.3, \"#f1b6da\"], [0.4, \"#fde0ef\"], [0.5, \"#f7f7f7\"], [0.6, \"#e6f5d0\"], [0.7, \"#b8e186\"], [0.8, \"#7fbc41\"], [0.9, \"#4d9221\"], [1, \"#276419\"]], \"sequential\": [[0.0, \"#0d0887\"], [0.1111111111111111, \"#46039f\"], [0.2222222222222222, \"#7201a8\"], [0.3333333333333333, \"#9c179e\"], [0.4444444444444444, \"#bd3786\"], [0.5555555555555556, \"#d8576b\"], [0.6666666666666666, \"#ed7953\"], [0.7777777777777778, \"#fb9f3a\"], [0.8888888888888888, \"#fdca26\"], [1.0, \"#f0f921\"]], \"sequentialminus\": [[0.0, \"#0d0887\"], [0.1111111111111111, \"#46039f\"], [0.2222222222222222, \"#7201a8\"], [0.3333333333333333, \"#9c179e\"], [0.4444444444444444, \"#bd3786\"], [0.5555555555555556, \"#d8576b\"], [0.6666666666666666, \"#ed7953\"], [0.7777777777777778, \"#fb9f3a\"], [0.8888888888888888, \"#fdca26\"], [1.0, \"#f0f921\"]]}, \"colorway\": [\"#636efa\", \"#EF553B\", \"#00cc96\", \"#ab63fa\", \"#FFA15A\", \"#19d3f3\", \"#FF6692\", \"#B6E880\", \"#FF97FF\", \"#FECB52\"], \"font\": {\"color\": \"#2a3f5f\"}, \"geo\": {\"bgcolor\": \"white\", \"lakecolor\": \"white\", \"landcolor\": \"#E5ECF6\", \"showlakes\": true, \"showland\": true, \"subunitcolor\": \"white\"}, \"hoverlabel\": {\"align\": \"left\"}, \"hovermode\": \"closest\", \"mapbox\": {\"style\": \"light\"}, \"paper_bgcolor\": \"white\", \"plot_bgcolor\": \"#E5ECF6\", \"polar\": {\"angularaxis\": {\"gridcolor\": \"white\", \"linecolor\": \"white\", \"ticks\": \"\"}, \"bgcolor\": \"#E5ECF6\", \"radialaxis\": {\"gridcolor\": \"white\", \"linecolor\": \"white\", \"ticks\": \"\"}}, \"scene\": {\"xaxis\": {\"backgroundcolor\": \"#E5ECF6\", \"gridcolor\": \"white\", \"gridwidth\": 2, \"linecolor\": \"white\", \"showbackground\": true, \"ticks\": \"\", \"zerolinecolor\": \"white\"}, \"yaxis\": {\"backgroundcolor\": \"#E5ECF6\", \"gridcolor\": \"white\", \"gridwidth\": 2, \"linecolor\": \"white\", \"showbackground\": true, \"ticks\": \"\", \"zerolinecolor\": \"white\"}, \"zaxis\": {\"backgroundcolor\": \"#E5ECF6\", \"gridcolor\": \"white\", \"gridwidth\": 2, \"linecolor\": \"white\", \"showbackground\": true, \"ticks\": \"\", \"zerolinecolor\": \"white\"}}, \"shapedefaults\": {\"line\": {\"color\": \"#2a3f5f\"}}, \"ternary\": {\"aaxis\": {\"gridcolor\": \"white\", \"linecolor\": \"white\", \"ticks\": \"\"}, \"baxis\": {\"gridcolor\": \"white\", \"linecolor\": \"white\", \"ticks\": \"\"}, \"bgcolor\": \"#E5ECF6\", \"caxis\": {\"gridcolor\": \"white\", \"linecolor\": \"white\", \"ticks\": \"\"}}, \"title\": {\"x\": 0.05}, \"xaxis\": {\"automargin\": true, \"gridcolor\": \"white\", \"linecolor\": \"white\", \"ticks\": \"\", \"title\": {\"standoff\": 15}, \"zerolinecolor\": \"white\", \"zerolinewidth\": 2}, \"yaxis\": {\"automargin\": true, \"gridcolor\": \"white\", \"linecolor\": \"white\", \"ticks\": \"\", \"title\": {\"standoff\": 15}, \"zerolinecolor\": \"white\", \"zerolinewidth\": 2}}}, \"title\": {\"font\": {\"color\": \"#4D5663\"}}, \"xaxis\": {\"gridcolor\": \"#E1E5ED\", \"showgrid\": true, \"tickfont\": {\"color\": \"#4D5663\"}, \"title\": {\"font\": {\"color\": \"#4D5663\"}, \"text\": \"\"}, \"zerolinecolor\": \"#E1E5ED\"}, \"yaxis\": {\"gridcolor\": \"#E1E5ED\", \"showgrid\": true, \"tickfont\": {\"color\": \"#4D5663\"}, \"title\": {\"font\": {\"color\": \"#4D5663\"}, \"text\": \"\"}, \"zerolinecolor\": \"#E1E5ED\"}},\n",
       "                        {\"showLink\": true, \"linkText\": \"Export to plot.ly\", \"plotlyServerURL\": \"https://plot.ly\", \"responsive\": true}\n",
       "                    ).then(function(){\n",
       "                            \n",
       "var gd = document.getElementById('feb07ae2-ec01-455b-960b-cda50f4c61e7');\n",
       "var x = new MutationObserver(function (mutations, observer) {{\n",
       "        var display = window.getComputedStyle(gd).display;\n",
       "        if (!display || display === 'none') {{\n",
       "            console.log([gd, 'removed!']);\n",
       "            Plotly.purge(gd);\n",
       "            observer.disconnect();\n",
       "        }}\n",
       "}});\n",
       "\n",
       "// Listen for the removal of the full notebook cells\n",
       "var notebookContainer = gd.closest('#notebook-container');\n",
       "if (notebookContainer) {{\n",
       "    x.observe(notebookContainer, {childList: true});\n",
       "}}\n",
       "\n",
       "// Listen for the clearing of the current output cell\n",
       "var outputEl = gd.closest('.output');\n",
       "if (outputEl) {{\n",
       "    x.observe(outputEl, {childList: true});\n",
       "}}\n",
       "\n",
       "                        })\n",
       "                };\n",
       "                });\n",
       "            </script>\n",
       "        </div>"
      ]
     },
     "metadata": {},
     "output_type": "display_data"
    }
   ],
   "source": [
    "df2.iplot(kind='bar',x='Category',y='Values')"
   ]
  },
  {
   "cell_type": "code",
   "execution_count": 12,
   "metadata": {},
   "outputs": [
    {
     "data": {
      "application/vnd.plotly.v1+json": {
       "config": {
        "linkText": "Export to plot.ly",
        "plotlyServerURL": "https://plot.ly",
        "showLink": true
       },
       "data": [
        {
         "marker": {
          "color": "rgba(255, 153, 51, 0.6)",
          "line": {
           "color": "rgba(255, 153, 51, 1.0)",
           "width": 1
          }
         },
         "name": "None",
         "orientation": "v",
         "text": "",
         "type": "bar",
         "x": [
          "A",
          "B",
          "C",
          "D"
         ],
         "y": [
          100,
          100,
          100,
          100
         ]
        }
       ],
       "layout": {
        "legend": {
         "bgcolor": "#F5F6F9",
         "font": {
          "color": "#4D5663"
         }
        },
        "paper_bgcolor": "#F5F6F9",
        "plot_bgcolor": "#F5F6F9",
        "template": {
         "data": {
          "bar": [
           {
            "error_x": {
             "color": "#2a3f5f"
            },
            "error_y": {
             "color": "#2a3f5f"
            },
            "marker": {
             "line": {
              "color": "#E5ECF6",
              "width": 0.5
             }
            },
            "type": "bar"
           }
          ],
          "barpolar": [
           {
            "marker": {
             "line": {
              "color": "#E5ECF6",
              "width": 0.5
             }
            },
            "type": "barpolar"
           }
          ],
          "carpet": [
           {
            "aaxis": {
             "endlinecolor": "#2a3f5f",
             "gridcolor": "white",
             "linecolor": "white",
             "minorgridcolor": "white",
             "startlinecolor": "#2a3f5f"
            },
            "baxis": {
             "endlinecolor": "#2a3f5f",
             "gridcolor": "white",
             "linecolor": "white",
             "minorgridcolor": "white",
             "startlinecolor": "#2a3f5f"
            },
            "type": "carpet"
           }
          ],
          "choropleth": [
           {
            "colorbar": {
             "outlinewidth": 0,
             "ticks": ""
            },
            "type": "choropleth"
           }
          ],
          "contour": [
           {
            "colorbar": {
             "outlinewidth": 0,
             "ticks": ""
            },
            "colorscale": [
             [
              0,
              "#0d0887"
             ],
             [
              0.1111111111111111,
              "#46039f"
             ],
             [
              0.2222222222222222,
              "#7201a8"
             ],
             [
              0.3333333333333333,
              "#9c179e"
             ],
             [
              0.4444444444444444,
              "#bd3786"
             ],
             [
              0.5555555555555556,
              "#d8576b"
             ],
             [
              0.6666666666666666,
              "#ed7953"
             ],
             [
              0.7777777777777778,
              "#fb9f3a"
             ],
             [
              0.8888888888888888,
              "#fdca26"
             ],
             [
              1,
              "#f0f921"
             ]
            ],
            "type": "contour"
           }
          ],
          "contourcarpet": [
           {
            "colorbar": {
             "outlinewidth": 0,
             "ticks": ""
            },
            "type": "contourcarpet"
           }
          ],
          "heatmap": [
           {
            "colorbar": {
             "outlinewidth": 0,
             "ticks": ""
            },
            "colorscale": [
             [
              0,
              "#0d0887"
             ],
             [
              0.1111111111111111,
              "#46039f"
             ],
             [
              0.2222222222222222,
              "#7201a8"
             ],
             [
              0.3333333333333333,
              "#9c179e"
             ],
             [
              0.4444444444444444,
              "#bd3786"
             ],
             [
              0.5555555555555556,
              "#d8576b"
             ],
             [
              0.6666666666666666,
              "#ed7953"
             ],
             [
              0.7777777777777778,
              "#fb9f3a"
             ],
             [
              0.8888888888888888,
              "#fdca26"
             ],
             [
              1,
              "#f0f921"
             ]
            ],
            "type": "heatmap"
           }
          ],
          "heatmapgl": [
           {
            "colorbar": {
             "outlinewidth": 0,
             "ticks": ""
            },
            "colorscale": [
             [
              0,
              "#0d0887"
             ],
             [
              0.1111111111111111,
              "#46039f"
             ],
             [
              0.2222222222222222,
              "#7201a8"
             ],
             [
              0.3333333333333333,
              "#9c179e"
             ],
             [
              0.4444444444444444,
              "#bd3786"
             ],
             [
              0.5555555555555556,
              "#d8576b"
             ],
             [
              0.6666666666666666,
              "#ed7953"
             ],
             [
              0.7777777777777778,
              "#fb9f3a"
             ],
             [
              0.8888888888888888,
              "#fdca26"
             ],
             [
              1,
              "#f0f921"
             ]
            ],
            "type": "heatmapgl"
           }
          ],
          "histogram": [
           {
            "marker": {
             "colorbar": {
              "outlinewidth": 0,
              "ticks": ""
             }
            },
            "type": "histogram"
           }
          ],
          "histogram2d": [
           {
            "colorbar": {
             "outlinewidth": 0,
             "ticks": ""
            },
            "colorscale": [
             [
              0,
              "#0d0887"
             ],
             [
              0.1111111111111111,
              "#46039f"
             ],
             [
              0.2222222222222222,
              "#7201a8"
             ],
             [
              0.3333333333333333,
              "#9c179e"
             ],
             [
              0.4444444444444444,
              "#bd3786"
             ],
             [
              0.5555555555555556,
              "#d8576b"
             ],
             [
              0.6666666666666666,
              "#ed7953"
             ],
             [
              0.7777777777777778,
              "#fb9f3a"
             ],
             [
              0.8888888888888888,
              "#fdca26"
             ],
             [
              1,
              "#f0f921"
             ]
            ],
            "type": "histogram2d"
           }
          ],
          "histogram2dcontour": [
           {
            "colorbar": {
             "outlinewidth": 0,
             "ticks": ""
            },
            "colorscale": [
             [
              0,
              "#0d0887"
             ],
             [
              0.1111111111111111,
              "#46039f"
             ],
             [
              0.2222222222222222,
              "#7201a8"
             ],
             [
              0.3333333333333333,
              "#9c179e"
             ],
             [
              0.4444444444444444,
              "#bd3786"
             ],
             [
              0.5555555555555556,
              "#d8576b"
             ],
             [
              0.6666666666666666,
              "#ed7953"
             ],
             [
              0.7777777777777778,
              "#fb9f3a"
             ],
             [
              0.8888888888888888,
              "#fdca26"
             ],
             [
              1,
              "#f0f921"
             ]
            ],
            "type": "histogram2dcontour"
           }
          ],
          "mesh3d": [
           {
            "colorbar": {
             "outlinewidth": 0,
             "ticks": ""
            },
            "type": "mesh3d"
           }
          ],
          "parcoords": [
           {
            "line": {
             "colorbar": {
              "outlinewidth": 0,
              "ticks": ""
             }
            },
            "type": "parcoords"
           }
          ],
          "pie": [
           {
            "automargin": true,
            "type": "pie"
           }
          ],
          "scatter": [
           {
            "marker": {
             "colorbar": {
              "outlinewidth": 0,
              "ticks": ""
             }
            },
            "type": "scatter"
           }
          ],
          "scatter3d": [
           {
            "line": {
             "colorbar": {
              "outlinewidth": 0,
              "ticks": ""
             }
            },
            "marker": {
             "colorbar": {
              "outlinewidth": 0,
              "ticks": ""
             }
            },
            "type": "scatter3d"
           }
          ],
          "scattercarpet": [
           {
            "marker": {
             "colorbar": {
              "outlinewidth": 0,
              "ticks": ""
             }
            },
            "type": "scattercarpet"
           }
          ],
          "scattergeo": [
           {
            "marker": {
             "colorbar": {
              "outlinewidth": 0,
              "ticks": ""
             }
            },
            "type": "scattergeo"
           }
          ],
          "scattergl": [
           {
            "marker": {
             "colorbar": {
              "outlinewidth": 0,
              "ticks": ""
             }
            },
            "type": "scattergl"
           }
          ],
          "scattermapbox": [
           {
            "marker": {
             "colorbar": {
              "outlinewidth": 0,
              "ticks": ""
             }
            },
            "type": "scattermapbox"
           }
          ],
          "scatterpolar": [
           {
            "marker": {
             "colorbar": {
              "outlinewidth": 0,
              "ticks": ""
             }
            },
            "type": "scatterpolar"
           }
          ],
          "scatterpolargl": [
           {
            "marker": {
             "colorbar": {
              "outlinewidth": 0,
              "ticks": ""
             }
            },
            "type": "scatterpolargl"
           }
          ],
          "scatterternary": [
           {
            "marker": {
             "colorbar": {
              "outlinewidth": 0,
              "ticks": ""
             }
            },
            "type": "scatterternary"
           }
          ],
          "surface": [
           {
            "colorbar": {
             "outlinewidth": 0,
             "ticks": ""
            },
            "colorscale": [
             [
              0,
              "#0d0887"
             ],
             [
              0.1111111111111111,
              "#46039f"
             ],
             [
              0.2222222222222222,
              "#7201a8"
             ],
             [
              0.3333333333333333,
              "#9c179e"
             ],
             [
              0.4444444444444444,
              "#bd3786"
             ],
             [
              0.5555555555555556,
              "#d8576b"
             ],
             [
              0.6666666666666666,
              "#ed7953"
             ],
             [
              0.7777777777777778,
              "#fb9f3a"
             ],
             [
              0.8888888888888888,
              "#fdca26"
             ],
             [
              1,
              "#f0f921"
             ]
            ],
            "type": "surface"
           }
          ],
          "table": [
           {
            "cells": {
             "fill": {
              "color": "#EBF0F8"
             },
             "line": {
              "color": "white"
             }
            },
            "header": {
             "fill": {
              "color": "#C8D4E3"
             },
             "line": {
              "color": "white"
             }
            },
            "type": "table"
           }
          ]
         },
         "layout": {
          "annotationdefaults": {
           "arrowcolor": "#2a3f5f",
           "arrowhead": 0,
           "arrowwidth": 1
          },
          "coloraxis": {
           "colorbar": {
            "outlinewidth": 0,
            "ticks": ""
           }
          },
          "colorscale": {
           "diverging": [
            [
             0,
             "#8e0152"
            ],
            [
             0.1,
             "#c51b7d"
            ],
            [
             0.2,
             "#de77ae"
            ],
            [
             0.3,
             "#f1b6da"
            ],
            [
             0.4,
             "#fde0ef"
            ],
            [
             0.5,
             "#f7f7f7"
            ],
            [
             0.6,
             "#e6f5d0"
            ],
            [
             0.7,
             "#b8e186"
            ],
            [
             0.8,
             "#7fbc41"
            ],
            [
             0.9,
             "#4d9221"
            ],
            [
             1,
             "#276419"
            ]
           ],
           "sequential": [
            [
             0,
             "#0d0887"
            ],
            [
             0.1111111111111111,
             "#46039f"
            ],
            [
             0.2222222222222222,
             "#7201a8"
            ],
            [
             0.3333333333333333,
             "#9c179e"
            ],
            [
             0.4444444444444444,
             "#bd3786"
            ],
            [
             0.5555555555555556,
             "#d8576b"
            ],
            [
             0.6666666666666666,
             "#ed7953"
            ],
            [
             0.7777777777777778,
             "#fb9f3a"
            ],
            [
             0.8888888888888888,
             "#fdca26"
            ],
            [
             1,
             "#f0f921"
            ]
           ],
           "sequentialminus": [
            [
             0,
             "#0d0887"
            ],
            [
             0.1111111111111111,
             "#46039f"
            ],
            [
             0.2222222222222222,
             "#7201a8"
            ],
            [
             0.3333333333333333,
             "#9c179e"
            ],
            [
             0.4444444444444444,
             "#bd3786"
            ],
            [
             0.5555555555555556,
             "#d8576b"
            ],
            [
             0.6666666666666666,
             "#ed7953"
            ],
            [
             0.7777777777777778,
             "#fb9f3a"
            ],
            [
             0.8888888888888888,
             "#fdca26"
            ],
            [
             1,
             "#f0f921"
            ]
           ]
          },
          "colorway": [
           "#636efa",
           "#EF553B",
           "#00cc96",
           "#ab63fa",
           "#FFA15A",
           "#19d3f3",
           "#FF6692",
           "#B6E880",
           "#FF97FF",
           "#FECB52"
          ],
          "font": {
           "color": "#2a3f5f"
          },
          "geo": {
           "bgcolor": "white",
           "lakecolor": "white",
           "landcolor": "#E5ECF6",
           "showlakes": true,
           "showland": true,
           "subunitcolor": "white"
          },
          "hoverlabel": {
           "align": "left"
          },
          "hovermode": "closest",
          "mapbox": {
           "style": "light"
          },
          "paper_bgcolor": "white",
          "plot_bgcolor": "#E5ECF6",
          "polar": {
           "angularaxis": {
            "gridcolor": "white",
            "linecolor": "white",
            "ticks": ""
           },
           "bgcolor": "#E5ECF6",
           "radialaxis": {
            "gridcolor": "white",
            "linecolor": "white",
            "ticks": ""
           }
          },
          "scene": {
           "xaxis": {
            "backgroundcolor": "#E5ECF6",
            "gridcolor": "white",
            "gridwidth": 2,
            "linecolor": "white",
            "showbackground": true,
            "ticks": "",
            "zerolinecolor": "white"
           },
           "yaxis": {
            "backgroundcolor": "#E5ECF6",
            "gridcolor": "white",
            "gridwidth": 2,
            "linecolor": "white",
            "showbackground": true,
            "ticks": "",
            "zerolinecolor": "white"
           },
           "zaxis": {
            "backgroundcolor": "#E5ECF6",
            "gridcolor": "white",
            "gridwidth": 2,
            "linecolor": "white",
            "showbackground": true,
            "ticks": "",
            "zerolinecolor": "white"
           }
          },
          "shapedefaults": {
           "line": {
            "color": "#2a3f5f"
           }
          },
          "ternary": {
           "aaxis": {
            "gridcolor": "white",
            "linecolor": "white",
            "ticks": ""
           },
           "baxis": {
            "gridcolor": "white",
            "linecolor": "white",
            "ticks": ""
           },
           "bgcolor": "#E5ECF6",
           "caxis": {
            "gridcolor": "white",
            "linecolor": "white",
            "ticks": ""
           }
          },
          "title": {
           "x": 0.05
          },
          "xaxis": {
           "automargin": true,
           "gridcolor": "white",
           "linecolor": "white",
           "ticks": "",
           "title": {
            "standoff": 15
           },
           "zerolinecolor": "white",
           "zerolinewidth": 2
          },
          "yaxis": {
           "automargin": true,
           "gridcolor": "white",
           "linecolor": "white",
           "ticks": "",
           "title": {
            "standoff": 15
           },
           "zerolinecolor": "white",
           "zerolinewidth": 2
          }
         }
        },
        "title": {
         "font": {
          "color": "#4D5663"
         }
        },
        "xaxis": {
         "gridcolor": "#E1E5ED",
         "showgrid": true,
         "tickfont": {
          "color": "#4D5663"
         },
         "title": {
          "font": {
           "color": "#4D5663"
          },
          "text": ""
         },
         "zerolinecolor": "#E1E5ED"
        },
        "yaxis": {
         "gridcolor": "#E1E5ED",
         "showgrid": true,
         "tickfont": {
          "color": "#4D5663"
         },
         "title": {
          "font": {
           "color": "#4D5663"
          },
          "text": ""
         },
         "zerolinecolor": "#E1E5ED"
        }
       }
      },
      "text/html": [
       "<div>\n",
       "        \n",
       "        \n",
       "            <div id=\"49707702-26da-4f25-a806-9cd87b853614\" class=\"plotly-graph-div\" style=\"height:525px; width:100%;\"></div>\n",
       "            <script type=\"text/javascript\">\n",
       "                require([\"plotly\"], function(Plotly) {\n",
       "                    window.PLOTLYENV=window.PLOTLYENV || {};\n",
       "                    window.PLOTLYENV.BASE_URL='https://plot.ly';\n",
       "                    \n",
       "                if (document.getElementById(\"49707702-26da-4f25-a806-9cd87b853614\")) {\n",
       "                    Plotly.newPlot(\n",
       "                        '49707702-26da-4f25-a806-9cd87b853614',\n",
       "                        [{\"marker\": {\"color\": \"rgba(255, 153, 51, 0.6)\", \"line\": {\"color\": \"rgba(255, 153, 51, 1.0)\", \"width\": 1}}, \"name\": \"None\", \"orientation\": \"v\", \"text\": \"\", \"type\": \"bar\", \"x\": [\"A\", \"B\", \"C\", \"D\"], \"y\": [100, 100, 100, 100]}],\n",
       "                        {\"legend\": {\"bgcolor\": \"#F5F6F9\", \"font\": {\"color\": \"#4D5663\"}}, \"paper_bgcolor\": \"#F5F6F9\", \"plot_bgcolor\": \"#F5F6F9\", \"template\": {\"data\": {\"bar\": [{\"error_x\": {\"color\": \"#2a3f5f\"}, \"error_y\": {\"color\": \"#2a3f5f\"}, \"marker\": {\"line\": {\"color\": \"#E5ECF6\", \"width\": 0.5}}, \"type\": \"bar\"}], \"barpolar\": [{\"marker\": {\"line\": {\"color\": \"#E5ECF6\", \"width\": 0.5}}, \"type\": \"barpolar\"}], \"carpet\": [{\"aaxis\": {\"endlinecolor\": \"#2a3f5f\", \"gridcolor\": \"white\", \"linecolor\": \"white\", \"minorgridcolor\": \"white\", \"startlinecolor\": \"#2a3f5f\"}, \"baxis\": {\"endlinecolor\": \"#2a3f5f\", \"gridcolor\": \"white\", \"linecolor\": \"white\", \"minorgridcolor\": \"white\", \"startlinecolor\": \"#2a3f5f\"}, \"type\": \"carpet\"}], \"choropleth\": [{\"colorbar\": {\"outlinewidth\": 0, \"ticks\": \"\"}, \"type\": \"choropleth\"}], \"contour\": [{\"colorbar\": {\"outlinewidth\": 0, \"ticks\": \"\"}, \"colorscale\": [[0.0, \"#0d0887\"], [0.1111111111111111, \"#46039f\"], [0.2222222222222222, \"#7201a8\"], [0.3333333333333333, \"#9c179e\"], [0.4444444444444444, \"#bd3786\"], [0.5555555555555556, \"#d8576b\"], [0.6666666666666666, \"#ed7953\"], [0.7777777777777778, \"#fb9f3a\"], [0.8888888888888888, \"#fdca26\"], [1.0, \"#f0f921\"]], \"type\": \"contour\"}], \"contourcarpet\": [{\"colorbar\": {\"outlinewidth\": 0, \"ticks\": \"\"}, \"type\": \"contourcarpet\"}], \"heatmap\": [{\"colorbar\": {\"outlinewidth\": 0, \"ticks\": \"\"}, \"colorscale\": [[0.0, \"#0d0887\"], [0.1111111111111111, \"#46039f\"], [0.2222222222222222, \"#7201a8\"], [0.3333333333333333, \"#9c179e\"], [0.4444444444444444, \"#bd3786\"], [0.5555555555555556, \"#d8576b\"], [0.6666666666666666, \"#ed7953\"], [0.7777777777777778, \"#fb9f3a\"], [0.8888888888888888, \"#fdca26\"], [1.0, \"#f0f921\"]], \"type\": \"heatmap\"}], \"heatmapgl\": [{\"colorbar\": {\"outlinewidth\": 0, \"ticks\": \"\"}, \"colorscale\": [[0.0, \"#0d0887\"], [0.1111111111111111, \"#46039f\"], [0.2222222222222222, \"#7201a8\"], [0.3333333333333333, \"#9c179e\"], [0.4444444444444444, \"#bd3786\"], [0.5555555555555556, \"#d8576b\"], [0.6666666666666666, \"#ed7953\"], [0.7777777777777778, \"#fb9f3a\"], [0.8888888888888888, \"#fdca26\"], [1.0, \"#f0f921\"]], \"type\": \"heatmapgl\"}], \"histogram\": [{\"marker\": {\"colorbar\": {\"outlinewidth\": 0, \"ticks\": \"\"}}, \"type\": \"histogram\"}], \"histogram2d\": [{\"colorbar\": {\"outlinewidth\": 0, \"ticks\": \"\"}, \"colorscale\": [[0.0, \"#0d0887\"], [0.1111111111111111, \"#46039f\"], [0.2222222222222222, \"#7201a8\"], [0.3333333333333333, \"#9c179e\"], [0.4444444444444444, \"#bd3786\"], [0.5555555555555556, \"#d8576b\"], [0.6666666666666666, \"#ed7953\"], [0.7777777777777778, \"#fb9f3a\"], [0.8888888888888888, \"#fdca26\"], [1.0, \"#f0f921\"]], \"type\": \"histogram2d\"}], \"histogram2dcontour\": [{\"colorbar\": {\"outlinewidth\": 0, \"ticks\": \"\"}, \"colorscale\": [[0.0, \"#0d0887\"], [0.1111111111111111, \"#46039f\"], [0.2222222222222222, \"#7201a8\"], [0.3333333333333333, \"#9c179e\"], [0.4444444444444444, \"#bd3786\"], [0.5555555555555556, \"#d8576b\"], [0.6666666666666666, \"#ed7953\"], [0.7777777777777778, \"#fb9f3a\"], [0.8888888888888888, \"#fdca26\"], [1.0, \"#f0f921\"]], \"type\": \"histogram2dcontour\"}], \"mesh3d\": [{\"colorbar\": {\"outlinewidth\": 0, \"ticks\": \"\"}, \"type\": \"mesh3d\"}], \"parcoords\": [{\"line\": {\"colorbar\": {\"outlinewidth\": 0, \"ticks\": \"\"}}, \"type\": \"parcoords\"}], \"pie\": [{\"automargin\": true, \"type\": \"pie\"}], \"scatter\": [{\"marker\": {\"colorbar\": {\"outlinewidth\": 0, \"ticks\": \"\"}}, \"type\": \"scatter\"}], \"scatter3d\": [{\"line\": {\"colorbar\": {\"outlinewidth\": 0, \"ticks\": \"\"}}, \"marker\": {\"colorbar\": {\"outlinewidth\": 0, \"ticks\": \"\"}}, \"type\": \"scatter3d\"}], \"scattercarpet\": [{\"marker\": {\"colorbar\": {\"outlinewidth\": 0, \"ticks\": \"\"}}, \"type\": \"scattercarpet\"}], \"scattergeo\": [{\"marker\": {\"colorbar\": {\"outlinewidth\": 0, \"ticks\": \"\"}}, \"type\": \"scattergeo\"}], \"scattergl\": [{\"marker\": {\"colorbar\": {\"outlinewidth\": 0, \"ticks\": \"\"}}, \"type\": \"scattergl\"}], \"scattermapbox\": [{\"marker\": {\"colorbar\": {\"outlinewidth\": 0, \"ticks\": \"\"}}, \"type\": \"scattermapbox\"}], \"scatterpolar\": [{\"marker\": {\"colorbar\": {\"outlinewidth\": 0, \"ticks\": \"\"}}, \"type\": \"scatterpolar\"}], \"scatterpolargl\": [{\"marker\": {\"colorbar\": {\"outlinewidth\": 0, \"ticks\": \"\"}}, \"type\": \"scatterpolargl\"}], \"scatterternary\": [{\"marker\": {\"colorbar\": {\"outlinewidth\": 0, \"ticks\": \"\"}}, \"type\": \"scatterternary\"}], \"surface\": [{\"colorbar\": {\"outlinewidth\": 0, \"ticks\": \"\"}, \"colorscale\": [[0.0, \"#0d0887\"], [0.1111111111111111, \"#46039f\"], [0.2222222222222222, \"#7201a8\"], [0.3333333333333333, \"#9c179e\"], [0.4444444444444444, \"#bd3786\"], [0.5555555555555556, \"#d8576b\"], [0.6666666666666666, \"#ed7953\"], [0.7777777777777778, \"#fb9f3a\"], [0.8888888888888888, \"#fdca26\"], [1.0, \"#f0f921\"]], \"type\": \"surface\"}], \"table\": [{\"cells\": {\"fill\": {\"color\": \"#EBF0F8\"}, \"line\": {\"color\": \"white\"}}, \"header\": {\"fill\": {\"color\": \"#C8D4E3\"}, \"line\": {\"color\": \"white\"}}, \"type\": \"table\"}]}, \"layout\": {\"annotationdefaults\": {\"arrowcolor\": \"#2a3f5f\", \"arrowhead\": 0, \"arrowwidth\": 1}, \"coloraxis\": {\"colorbar\": {\"outlinewidth\": 0, \"ticks\": \"\"}}, \"colorscale\": {\"diverging\": [[0, \"#8e0152\"], [0.1, \"#c51b7d\"], [0.2, \"#de77ae\"], [0.3, \"#f1b6da\"], [0.4, \"#fde0ef\"], [0.5, \"#f7f7f7\"], [0.6, \"#e6f5d0\"], [0.7, \"#b8e186\"], [0.8, \"#7fbc41\"], [0.9, \"#4d9221\"], [1, \"#276419\"]], \"sequential\": [[0.0, \"#0d0887\"], [0.1111111111111111, \"#46039f\"], [0.2222222222222222, \"#7201a8\"], [0.3333333333333333, \"#9c179e\"], [0.4444444444444444, \"#bd3786\"], [0.5555555555555556, \"#d8576b\"], [0.6666666666666666, \"#ed7953\"], [0.7777777777777778, \"#fb9f3a\"], [0.8888888888888888, \"#fdca26\"], [1.0, \"#f0f921\"]], \"sequentialminus\": [[0.0, \"#0d0887\"], [0.1111111111111111, \"#46039f\"], [0.2222222222222222, \"#7201a8\"], [0.3333333333333333, \"#9c179e\"], [0.4444444444444444, \"#bd3786\"], [0.5555555555555556, \"#d8576b\"], [0.6666666666666666, \"#ed7953\"], [0.7777777777777778, \"#fb9f3a\"], [0.8888888888888888, \"#fdca26\"], [1.0, \"#f0f921\"]]}, \"colorway\": [\"#636efa\", \"#EF553B\", \"#00cc96\", \"#ab63fa\", \"#FFA15A\", \"#19d3f3\", \"#FF6692\", \"#B6E880\", \"#FF97FF\", \"#FECB52\"], \"font\": {\"color\": \"#2a3f5f\"}, \"geo\": {\"bgcolor\": \"white\", \"lakecolor\": \"white\", \"landcolor\": \"#E5ECF6\", \"showlakes\": true, \"showland\": true, \"subunitcolor\": \"white\"}, \"hoverlabel\": {\"align\": \"left\"}, \"hovermode\": \"closest\", \"mapbox\": {\"style\": \"light\"}, \"paper_bgcolor\": \"white\", \"plot_bgcolor\": \"#E5ECF6\", \"polar\": {\"angularaxis\": {\"gridcolor\": \"white\", \"linecolor\": \"white\", \"ticks\": \"\"}, \"bgcolor\": \"#E5ECF6\", \"radialaxis\": {\"gridcolor\": \"white\", \"linecolor\": \"white\", \"ticks\": \"\"}}, \"scene\": {\"xaxis\": {\"backgroundcolor\": \"#E5ECF6\", \"gridcolor\": \"white\", \"gridwidth\": 2, \"linecolor\": \"white\", \"showbackground\": true, \"ticks\": \"\", \"zerolinecolor\": \"white\"}, \"yaxis\": {\"backgroundcolor\": \"#E5ECF6\", \"gridcolor\": \"white\", \"gridwidth\": 2, \"linecolor\": \"white\", \"showbackground\": true, \"ticks\": \"\", \"zerolinecolor\": \"white\"}, \"zaxis\": {\"backgroundcolor\": \"#E5ECF6\", \"gridcolor\": \"white\", \"gridwidth\": 2, \"linecolor\": \"white\", \"showbackground\": true, \"ticks\": \"\", \"zerolinecolor\": \"white\"}}, \"shapedefaults\": {\"line\": {\"color\": \"#2a3f5f\"}}, \"ternary\": {\"aaxis\": {\"gridcolor\": \"white\", \"linecolor\": \"white\", \"ticks\": \"\"}, \"baxis\": {\"gridcolor\": \"white\", \"linecolor\": \"white\", \"ticks\": \"\"}, \"bgcolor\": \"#E5ECF6\", \"caxis\": {\"gridcolor\": \"white\", \"linecolor\": \"white\", \"ticks\": \"\"}}, \"title\": {\"x\": 0.05}, \"xaxis\": {\"automargin\": true, \"gridcolor\": \"white\", \"linecolor\": \"white\", \"ticks\": \"\", \"title\": {\"standoff\": 15}, \"zerolinecolor\": \"white\", \"zerolinewidth\": 2}, \"yaxis\": {\"automargin\": true, \"gridcolor\": \"white\", \"linecolor\": \"white\", \"ticks\": \"\", \"title\": {\"standoff\": 15}, \"zerolinecolor\": \"white\", \"zerolinewidth\": 2}}}, \"title\": {\"font\": {\"color\": \"#4D5663\"}}, \"xaxis\": {\"gridcolor\": \"#E1E5ED\", \"showgrid\": true, \"tickfont\": {\"color\": \"#4D5663\"}, \"title\": {\"font\": {\"color\": \"#4D5663\"}, \"text\": \"\"}, \"zerolinecolor\": \"#E1E5ED\"}, \"yaxis\": {\"gridcolor\": \"#E1E5ED\", \"showgrid\": true, \"tickfont\": {\"color\": \"#4D5663\"}, \"title\": {\"font\": {\"color\": \"#4D5663\"}, \"text\": \"\"}, \"zerolinecolor\": \"#E1E5ED\"}},\n",
       "                        {\"showLink\": true, \"linkText\": \"Export to plot.ly\", \"plotlyServerURL\": \"https://plot.ly\", \"responsive\": true}\n",
       "                    ).then(function(){\n",
       "                            \n",
       "var gd = document.getElementById('49707702-26da-4f25-a806-9cd87b853614');\n",
       "var x = new MutationObserver(function (mutations, observer) {{\n",
       "        var display = window.getComputedStyle(gd).display;\n",
       "        if (!display || display === 'none') {{\n",
       "            console.log([gd, 'removed!']);\n",
       "            Plotly.purge(gd);\n",
       "            observer.disconnect();\n",
       "        }}\n",
       "}});\n",
       "\n",
       "// Listen for the removal of the full notebook cells\n",
       "var notebookContainer = gd.closest('#notebook-container');\n",
       "if (notebookContainer) {{\n",
       "    x.observe(notebookContainer, {childList: true});\n",
       "}}\n",
       "\n",
       "// Listen for the clearing of the current output cell\n",
       "var outputEl = gd.closest('.output');\n",
       "if (outputEl) {{\n",
       "    x.observe(outputEl, {childList: true});\n",
       "}}\n",
       "\n",
       "                        })\n",
       "                };\n",
       "                });\n",
       "            </script>\n",
       "        </div>"
      ]
     },
     "metadata": {},
     "output_type": "display_data"
    }
   ],
   "source": [
    "df.count().iplot(kind='bar')"
   ]
  },
  {
   "cell_type": "markdown",
   "metadata": {},
   "source": [
    "## Boxplots"
   ]
  },
  {
   "cell_type": "code",
   "execution_count": 13,
   "metadata": {},
   "outputs": [
    {
     "data": {
      "application/vnd.plotly.v1+json": {
       "config": {
        "linkText": "Export to plot.ly",
        "plotlyServerURL": "https://plot.ly",
        "showLink": true
       },
       "data": [
        {
         "boxpoints": false,
         "line": {
          "width": 1.3
         },
         "marker": {
          "color": "rgba(255, 153, 51, 1.0)"
         },
         "name": "A",
         "orientation": "v",
         "type": "box",
         "y": [
          -1.0099361673355667,
          -1.0284575537950853,
          -0.11589523503021203,
          -0.3871577102854481,
          -0.8802462358509756,
          -0.5073178289505085,
          -0.25872977857744495,
          -0.8451154146551735,
          -1.6753380560258833,
          -0.3197009244061666,
          -0.13563348234303227,
          -1.311691245631022,
          -1.249731033152953,
          0.17890604821843886,
          -1.128427638771329,
          -1.1636664744849745,
          -0.9412243713819362,
          -0.38570173042512107,
          -0.8003953490624793,
          0.8825029834565344,
          1.524337052036057,
          -0.23052058779768336,
          1.9285582193640014,
          -0.872188772166427,
          -0.3176075253149898,
          2.606580520825616,
          -1.1995356504360102,
          -0.5183516090778959,
          -0.04436142535581713,
          -0.18480369022350523,
          -1.7547311219167303,
          0.4348163458344423,
          0.02896010894576578,
          1.1883323868662738,
          1.6732989603111974,
          -0.8210953393613368,
          0.5004305409127747,
          -0.22178532385423305,
          -0.7454328674035887,
          2.1180173982206956,
          1.190563692517457,
          0.3138573805554352,
          -0.9935779216404051,
          -0.3647175556508881,
          0.5068831822214218,
          0.20910917496939357,
          0.577713713083106,
          -0.29978283141123724,
          -0.2873028727788575,
          -0.46363559405313143,
          -0.9206774761598664,
          -0.755950329387749,
          0.7922037497771531,
          -0.8795695353900919,
          0.28776576333898585,
          -0.23417565168839716,
          -1.9708555241106436,
          0.9824316178908786,
          -1.98662055858986,
          -0.7296201496003367,
          0.7238839666288359,
          1.5974689722403834,
          1.801589947153041,
          -0.7232840189194383,
          -1.0681986697213794,
          -0.5992838692605261,
          2.239239240441496,
          -0.2396645330815824,
          -0.04239926731173785,
          0.8738657260289925,
          -0.8714936725210958,
          1.0533376696933532,
          0.028493839037042872,
          0.9603494061902195,
          0.8199228021104203,
          1.4708360154901292,
          -1.104738720637537,
          -1.6868861956709762,
          1.0938651017022927,
          2.1390860039617507,
          -0.3705530670203375,
          -0.18840168960734383,
          0.42753386535746246,
          0.6980400869787413,
          -0.6402916416160395,
          -0.02222079553462808,
          -0.4216825148927192,
          0.280887190385779,
          -0.643768601883412,
          -0.6875539894115286,
          -1.3443114433014156,
          -0.25555254723379944,
          1.2335524942281835,
          -0.09161187909282938,
          1.0278257484361688,
          -0.514950707958829,
          -1.6295755204874562,
          -0.53058233036871,
          -0.06432271315517117,
          -0.4852358829857144
         ]
        },
        {
         "boxpoints": false,
         "line": {
          "width": 1.3
         },
         "marker": {
          "color": "rgba(55, 128, 191, 1.0)"
         },
         "name": "B",
         "orientation": "v",
         "type": "box",
         "y": [
          0.744450190015796,
          1.1894557449729342,
          0.6014866195311764,
          -0.8880130958919555,
          0.2634422442550224,
          0.6626931843686664,
          -1.1250880401227368,
          0.4771603153029794,
          -0.1490065026960575,
          -0.9623205020230357,
          1.4401318165613903,
          1.4082689738738148,
          0.10270692830268753,
          0.01425779846376388,
          -1.480304960527278,
          -0.824423835202117,
          -0.5511105572426905,
          0.15703184361306663,
          0.9234900532311175,
          0.1613158759882807,
          -0.644491423073877,
          -1.2120176461084518,
          1.016181721468633,
          -0.6319609682834901,
          -0.24129550029875582,
          0.553567424049745,
          -0.62444452813727,
          0.22496068588193177,
          0.8743351098471469,
          1.7059386069757694,
          -1.9206327186061418,
          0.7686062004369781,
          -1.259648403612559,
          0.1096277410328048,
          0.9387094528772576,
          -0.27461979313709567,
          1.6207957707630838,
          0.06169141959846879,
          -0.4865658395535811,
          -0.5858756480838269,
          -0.8884612999138807,
          0.13300720372341124,
          1.2981909174656012,
          0.34230516992051746,
          0.4919371479311787,
          0.36239582310865504,
          -0.7208562108905195,
          0.6914975574734396,
          0.36195579934636735,
          -0.22232409309193057,
          0.065663078950636,
          0.1985313405036117,
          1.6933038949156938,
          -0.46264733238674816,
          1.7763447430055253,
          -0.640759791350102,
          -0.6793491505404466,
          0.4267992066295522,
          -1.1422053149767915,
          -0.7766786239708781,
          0.8754471153083129,
          -0.8903352167441764,
          -0.8840619009663945,
          -0.3280940175291615,
          0.3685108324294671,
          -0.5897320779624863,
          0.5219386165501887,
          0.10200882724863404,
          -0.30850418604752317,
          -0.08803823463831988,
          -1.557089116787949,
          0.5682957147945388,
          0.5278400244507687,
          1.4323269258374178,
          0.5576802769913602,
          2.204605797704065,
          -0.535349852025295,
          1.1789203019870378,
          0.30611952626236455,
          0.45594684826678866,
          1.8433513627069207,
          0.4245202276944359,
          1.031079593495038,
          1.5566392860476528,
          -0.5803530558234599,
          -1.252281916948563,
          -0.7086537222484671,
          0.5936620950802783,
          0.4854826118308957,
          -0.13808162235319374,
          0.07744183888892246,
          0.5157739214893406,
          0.1884566433660276,
          0.5637646438290826,
          -0.06990828503654249,
          0.8880289293608626,
          0.5309382058701448,
          -2.150688191460801,
          -1.0081065888477767,
          -0.6843264190330478
         ]
        },
        {
         "boxpoints": false,
         "line": {
          "width": 1.3
         },
         "marker": {
          "color": "rgba(50, 171, 96, 1.0)"
         },
         "name": "C",
         "orientation": "v",
         "type": "box",
         "y": [
          -0.10844688366607731,
          0.16733633352974903,
          -1.003064679877997,
          0.11892881146560684,
          1.3333393915304186,
          -0.6448370494894287,
          -0.036934364214063056,
          -0.3354599867804685,
          0.8594130791664836,
          2.292550494907262,
          0.5851055074273075,
          -0.22373305898021273,
          -1.318829471484427,
          -0.47687927302096245,
          0.32297553601603296,
          -0.9758488905489777,
          0.6691342481305712,
          -0.5916234672327101,
          1.5989795847107482,
          -0.008847456786420628,
          0.4361699102532506,
          0.5632537291646132,
          -0.37933737575918364,
          -1.7887425453458037,
          -0.16753674441022864,
          -0.1409974236530499,
          1.4527206204041516,
          0.2997776368855433,
          -1.252308620876837,
          1.5982594919483113,
          0.19845250704666614,
          0.056605879498077494,
          1.9644044349481293,
          0.7658980591791495,
          -1.2973172481097486,
          -0.21107855605363565,
          -0.7057809538742765,
          -0.5836330480381826,
          -0.48340573189183406,
          0.014404479745272855,
          1.243791708976414,
          0.03911915089532694,
          0.8073366696093068,
          -0.21777867566887507,
          1.3206067041685183,
          0.5533690325022966,
          0.8478371294383951,
          -0.8219481286093834,
          0.8189156313408671,
          -1.8039272994473976,
          0.8134404378623654,
          -0.839922688506824,
          1.1213654983659211,
          -0.3175238420362532,
          -1.040232527431456,
          1.9270211148796856,
          0.49816493558492425,
          0.7210957281645702,
          -1.3711562942618596,
          0.18148120905557177,
          1.4177973798560877,
          0.8473564728331587,
          -2.467072144710912,
          -0.7725036485221717,
          -0.04099859162106744,
          0.8023311379678135,
          -0.05201887677702289,
          -0.2206430931931036,
          0.013789184936669339,
          0.2812407546994943,
          0.6677118079355471,
          -1.1298860728877786,
          1.38237155109421,
          -0.3908186085017909,
          -0.6235459428811388,
          0.1525324826063132,
          0.4853510459498709,
          -0.3342588245362525,
          -1.1074568386912864,
          0.3716183728865845,
          0.1283188309393588,
          1.3247212909650026,
          -0.29847719147752716,
          -0.6070218711864458,
          -1.9899820556255035,
          -0.17916009699644542,
          -0.7586603660994995,
          -0.2276209432381251,
          -0.8404747300241181,
          0.5987703429564175,
          -0.13878088527091056,
          -0.42396204344891697,
          0.4610587122947592,
          -0.37852470756784384,
          0.14418526352165398,
          0.02070290882063936,
          1.1492810604208865,
          0.24475333684183478,
          -0.09764569239807382,
          -0.758534462637969
         ]
        },
        {
         "boxpoints": false,
         "line": {
          "width": 1.3
         },
         "marker": {
          "color": "rgba(128, 0, 128, 1.0)"
         },
         "name": "D",
         "orientation": "v",
         "type": "box",
         "y": [
          -1.1393184613711067,
          0.6793613666635172,
          0.28974041098371095,
          0.9470289347185049,
          1.855321234974801,
          -1.7722316176818371,
          1.3554955322757567,
          0.6432624264780246,
          0.34848058672818405,
          -0.37728668399111714,
          -1.759013929417471,
          -1.0671607454395564,
          -0.7795066221851681,
          -0.46696370159275197,
          0.8378772934461107,
          -1.265943442354089,
          0.707706194731624,
          -1.1598784355469942,
          0.3903579271561808,
          -0.18055035634994288,
          -1.7614489328259577,
          -1.548005517264043,
          -0.4476933691867463,
          0.4725205261924256,
          -0.9047678988456344,
          0.40299125921404544,
          0.3833443037713799,
          0.6086588925414255,
          0.10551045807600429,
          0.5398565778298426,
          -0.3253123067260765,
          2.410609715713139,
          -0.6875386256442397,
          1.803037824681518,
          -2.04461480952745,
          -1.6165455705422103,
          -0.8649796621911521,
          -0.20754981724057178,
          0.7162581858362861,
          0.3956552328909221,
          1.5562153420059015,
          -1.4048973439846717,
          0.7235465006901312,
          -1.1828001124403158,
          1.7670220708468052,
          -1.6483267663795467,
          1.2959639144400708,
          0.01137317773399804,
          0.24892171983224393,
          -1.3804822111812494,
          -0.1552211611756199,
          -0.3336621916615375,
          0.21704118913381892,
          0.22648720227245717,
          -2.3223235953886916,
          -1.6659328759101266,
          -0.43578175542352915,
          -0.020671620075946844,
          1.6098798041556606,
          0.9917772179785025,
          0.7561089928128429,
          -0.03075331935853545,
          0.9213688877157874,
          -1.7534585372719176,
          -1.0670716083211633,
          -1.2617429985339306,
          0.78279386642726,
          -1.0387525520793024,
          -0.8392526693580369,
          -0.218506857832733,
          0.20734729417789693,
          -0.3062181818320245,
          -0.8620903828109703,
          -1.3209325312822953,
          0.9747528909197947,
          -0.8663554124148628,
          0.4754132016880406,
          -0.3523819524286089,
          -1.3339226336427972,
          0.03678425634872807,
          0.16668823781780848,
          0.72486473881676,
          0.685991570942405,
          0.7495820181096875,
          0.7232736844271054,
          -1.6074542095465134,
          -0.17574514087516413,
          -1.6612646063680152,
          -1.303417435980111,
          2.0350458483027345,
          -0.5807409988730624,
          0.6720747309461574,
          -0.28525772520585135,
          2.248184362196986,
          0.7116960828106597,
          1.6614735371334814,
          -1.400668549764246,
          -0.3335111223037445,
          -2.0430793137092835,
          -1.624903816980265
         ]
        }
       ],
       "layout": {
        "legend": {
         "bgcolor": "#F5F6F9",
         "font": {
          "color": "#4D5663"
         }
        },
        "paper_bgcolor": "#F5F6F9",
        "plot_bgcolor": "#F5F6F9",
        "template": {
         "data": {
          "bar": [
           {
            "error_x": {
             "color": "#2a3f5f"
            },
            "error_y": {
             "color": "#2a3f5f"
            },
            "marker": {
             "line": {
              "color": "#E5ECF6",
              "width": 0.5
             }
            },
            "type": "bar"
           }
          ],
          "barpolar": [
           {
            "marker": {
             "line": {
              "color": "#E5ECF6",
              "width": 0.5
             }
            },
            "type": "barpolar"
           }
          ],
          "carpet": [
           {
            "aaxis": {
             "endlinecolor": "#2a3f5f",
             "gridcolor": "white",
             "linecolor": "white",
             "minorgridcolor": "white",
             "startlinecolor": "#2a3f5f"
            },
            "baxis": {
             "endlinecolor": "#2a3f5f",
             "gridcolor": "white",
             "linecolor": "white",
             "minorgridcolor": "white",
             "startlinecolor": "#2a3f5f"
            },
            "type": "carpet"
           }
          ],
          "choropleth": [
           {
            "colorbar": {
             "outlinewidth": 0,
             "ticks": ""
            },
            "type": "choropleth"
           }
          ],
          "contour": [
           {
            "colorbar": {
             "outlinewidth": 0,
             "ticks": ""
            },
            "colorscale": [
             [
              0,
              "#0d0887"
             ],
             [
              0.1111111111111111,
              "#46039f"
             ],
             [
              0.2222222222222222,
              "#7201a8"
             ],
             [
              0.3333333333333333,
              "#9c179e"
             ],
             [
              0.4444444444444444,
              "#bd3786"
             ],
             [
              0.5555555555555556,
              "#d8576b"
             ],
             [
              0.6666666666666666,
              "#ed7953"
             ],
             [
              0.7777777777777778,
              "#fb9f3a"
             ],
             [
              0.8888888888888888,
              "#fdca26"
             ],
             [
              1,
              "#f0f921"
             ]
            ],
            "type": "contour"
           }
          ],
          "contourcarpet": [
           {
            "colorbar": {
             "outlinewidth": 0,
             "ticks": ""
            },
            "type": "contourcarpet"
           }
          ],
          "heatmap": [
           {
            "colorbar": {
             "outlinewidth": 0,
             "ticks": ""
            },
            "colorscale": [
             [
              0,
              "#0d0887"
             ],
             [
              0.1111111111111111,
              "#46039f"
             ],
             [
              0.2222222222222222,
              "#7201a8"
             ],
             [
              0.3333333333333333,
              "#9c179e"
             ],
             [
              0.4444444444444444,
              "#bd3786"
             ],
             [
              0.5555555555555556,
              "#d8576b"
             ],
             [
              0.6666666666666666,
              "#ed7953"
             ],
             [
              0.7777777777777778,
              "#fb9f3a"
             ],
             [
              0.8888888888888888,
              "#fdca26"
             ],
             [
              1,
              "#f0f921"
             ]
            ],
            "type": "heatmap"
           }
          ],
          "heatmapgl": [
           {
            "colorbar": {
             "outlinewidth": 0,
             "ticks": ""
            },
            "colorscale": [
             [
              0,
              "#0d0887"
             ],
             [
              0.1111111111111111,
              "#46039f"
             ],
             [
              0.2222222222222222,
              "#7201a8"
             ],
             [
              0.3333333333333333,
              "#9c179e"
             ],
             [
              0.4444444444444444,
              "#bd3786"
             ],
             [
              0.5555555555555556,
              "#d8576b"
             ],
             [
              0.6666666666666666,
              "#ed7953"
             ],
             [
              0.7777777777777778,
              "#fb9f3a"
             ],
             [
              0.8888888888888888,
              "#fdca26"
             ],
             [
              1,
              "#f0f921"
             ]
            ],
            "type": "heatmapgl"
           }
          ],
          "histogram": [
           {
            "marker": {
             "colorbar": {
              "outlinewidth": 0,
              "ticks": ""
             }
            },
            "type": "histogram"
           }
          ],
          "histogram2d": [
           {
            "colorbar": {
             "outlinewidth": 0,
             "ticks": ""
            },
            "colorscale": [
             [
              0,
              "#0d0887"
             ],
             [
              0.1111111111111111,
              "#46039f"
             ],
             [
              0.2222222222222222,
              "#7201a8"
             ],
             [
              0.3333333333333333,
              "#9c179e"
             ],
             [
              0.4444444444444444,
              "#bd3786"
             ],
             [
              0.5555555555555556,
              "#d8576b"
             ],
             [
              0.6666666666666666,
              "#ed7953"
             ],
             [
              0.7777777777777778,
              "#fb9f3a"
             ],
             [
              0.8888888888888888,
              "#fdca26"
             ],
             [
              1,
              "#f0f921"
             ]
            ],
            "type": "histogram2d"
           }
          ],
          "histogram2dcontour": [
           {
            "colorbar": {
             "outlinewidth": 0,
             "ticks": ""
            },
            "colorscale": [
             [
              0,
              "#0d0887"
             ],
             [
              0.1111111111111111,
              "#46039f"
             ],
             [
              0.2222222222222222,
              "#7201a8"
             ],
             [
              0.3333333333333333,
              "#9c179e"
             ],
             [
              0.4444444444444444,
              "#bd3786"
             ],
             [
              0.5555555555555556,
              "#d8576b"
             ],
             [
              0.6666666666666666,
              "#ed7953"
             ],
             [
              0.7777777777777778,
              "#fb9f3a"
             ],
             [
              0.8888888888888888,
              "#fdca26"
             ],
             [
              1,
              "#f0f921"
             ]
            ],
            "type": "histogram2dcontour"
           }
          ],
          "mesh3d": [
           {
            "colorbar": {
             "outlinewidth": 0,
             "ticks": ""
            },
            "type": "mesh3d"
           }
          ],
          "parcoords": [
           {
            "line": {
             "colorbar": {
              "outlinewidth": 0,
              "ticks": ""
             }
            },
            "type": "parcoords"
           }
          ],
          "pie": [
           {
            "automargin": true,
            "type": "pie"
           }
          ],
          "scatter": [
           {
            "marker": {
             "colorbar": {
              "outlinewidth": 0,
              "ticks": ""
             }
            },
            "type": "scatter"
           }
          ],
          "scatter3d": [
           {
            "line": {
             "colorbar": {
              "outlinewidth": 0,
              "ticks": ""
             }
            },
            "marker": {
             "colorbar": {
              "outlinewidth": 0,
              "ticks": ""
             }
            },
            "type": "scatter3d"
           }
          ],
          "scattercarpet": [
           {
            "marker": {
             "colorbar": {
              "outlinewidth": 0,
              "ticks": ""
             }
            },
            "type": "scattercarpet"
           }
          ],
          "scattergeo": [
           {
            "marker": {
             "colorbar": {
              "outlinewidth": 0,
              "ticks": ""
             }
            },
            "type": "scattergeo"
           }
          ],
          "scattergl": [
           {
            "marker": {
             "colorbar": {
              "outlinewidth": 0,
              "ticks": ""
             }
            },
            "type": "scattergl"
           }
          ],
          "scattermapbox": [
           {
            "marker": {
             "colorbar": {
              "outlinewidth": 0,
              "ticks": ""
             }
            },
            "type": "scattermapbox"
           }
          ],
          "scatterpolar": [
           {
            "marker": {
             "colorbar": {
              "outlinewidth": 0,
              "ticks": ""
             }
            },
            "type": "scatterpolar"
           }
          ],
          "scatterpolargl": [
           {
            "marker": {
             "colorbar": {
              "outlinewidth": 0,
              "ticks": ""
             }
            },
            "type": "scatterpolargl"
           }
          ],
          "scatterternary": [
           {
            "marker": {
             "colorbar": {
              "outlinewidth": 0,
              "ticks": ""
             }
            },
            "type": "scatterternary"
           }
          ],
          "surface": [
           {
            "colorbar": {
             "outlinewidth": 0,
             "ticks": ""
            },
            "colorscale": [
             [
              0,
              "#0d0887"
             ],
             [
              0.1111111111111111,
              "#46039f"
             ],
             [
              0.2222222222222222,
              "#7201a8"
             ],
             [
              0.3333333333333333,
              "#9c179e"
             ],
             [
              0.4444444444444444,
              "#bd3786"
             ],
             [
              0.5555555555555556,
              "#d8576b"
             ],
             [
              0.6666666666666666,
              "#ed7953"
             ],
             [
              0.7777777777777778,
              "#fb9f3a"
             ],
             [
              0.8888888888888888,
              "#fdca26"
             ],
             [
              1,
              "#f0f921"
             ]
            ],
            "type": "surface"
           }
          ],
          "table": [
           {
            "cells": {
             "fill": {
              "color": "#EBF0F8"
             },
             "line": {
              "color": "white"
             }
            },
            "header": {
             "fill": {
              "color": "#C8D4E3"
             },
             "line": {
              "color": "white"
             }
            },
            "type": "table"
           }
          ]
         },
         "layout": {
          "annotationdefaults": {
           "arrowcolor": "#2a3f5f",
           "arrowhead": 0,
           "arrowwidth": 1
          },
          "coloraxis": {
           "colorbar": {
            "outlinewidth": 0,
            "ticks": ""
           }
          },
          "colorscale": {
           "diverging": [
            [
             0,
             "#8e0152"
            ],
            [
             0.1,
             "#c51b7d"
            ],
            [
             0.2,
             "#de77ae"
            ],
            [
             0.3,
             "#f1b6da"
            ],
            [
             0.4,
             "#fde0ef"
            ],
            [
             0.5,
             "#f7f7f7"
            ],
            [
             0.6,
             "#e6f5d0"
            ],
            [
             0.7,
             "#b8e186"
            ],
            [
             0.8,
             "#7fbc41"
            ],
            [
             0.9,
             "#4d9221"
            ],
            [
             1,
             "#276419"
            ]
           ],
           "sequential": [
            [
             0,
             "#0d0887"
            ],
            [
             0.1111111111111111,
             "#46039f"
            ],
            [
             0.2222222222222222,
             "#7201a8"
            ],
            [
             0.3333333333333333,
             "#9c179e"
            ],
            [
             0.4444444444444444,
             "#bd3786"
            ],
            [
             0.5555555555555556,
             "#d8576b"
            ],
            [
             0.6666666666666666,
             "#ed7953"
            ],
            [
             0.7777777777777778,
             "#fb9f3a"
            ],
            [
             0.8888888888888888,
             "#fdca26"
            ],
            [
             1,
             "#f0f921"
            ]
           ],
           "sequentialminus": [
            [
             0,
             "#0d0887"
            ],
            [
             0.1111111111111111,
             "#46039f"
            ],
            [
             0.2222222222222222,
             "#7201a8"
            ],
            [
             0.3333333333333333,
             "#9c179e"
            ],
            [
             0.4444444444444444,
             "#bd3786"
            ],
            [
             0.5555555555555556,
             "#d8576b"
            ],
            [
             0.6666666666666666,
             "#ed7953"
            ],
            [
             0.7777777777777778,
             "#fb9f3a"
            ],
            [
             0.8888888888888888,
             "#fdca26"
            ],
            [
             1,
             "#f0f921"
            ]
           ]
          },
          "colorway": [
           "#636efa",
           "#EF553B",
           "#00cc96",
           "#ab63fa",
           "#FFA15A",
           "#19d3f3",
           "#FF6692",
           "#B6E880",
           "#FF97FF",
           "#FECB52"
          ],
          "font": {
           "color": "#2a3f5f"
          },
          "geo": {
           "bgcolor": "white",
           "lakecolor": "white",
           "landcolor": "#E5ECF6",
           "showlakes": true,
           "showland": true,
           "subunitcolor": "white"
          },
          "hoverlabel": {
           "align": "left"
          },
          "hovermode": "closest",
          "mapbox": {
           "style": "light"
          },
          "paper_bgcolor": "white",
          "plot_bgcolor": "#E5ECF6",
          "polar": {
           "angularaxis": {
            "gridcolor": "white",
            "linecolor": "white",
            "ticks": ""
           },
           "bgcolor": "#E5ECF6",
           "radialaxis": {
            "gridcolor": "white",
            "linecolor": "white",
            "ticks": ""
           }
          },
          "scene": {
           "xaxis": {
            "backgroundcolor": "#E5ECF6",
            "gridcolor": "white",
            "gridwidth": 2,
            "linecolor": "white",
            "showbackground": true,
            "ticks": "",
            "zerolinecolor": "white"
           },
           "yaxis": {
            "backgroundcolor": "#E5ECF6",
            "gridcolor": "white",
            "gridwidth": 2,
            "linecolor": "white",
            "showbackground": true,
            "ticks": "",
            "zerolinecolor": "white"
           },
           "zaxis": {
            "backgroundcolor": "#E5ECF6",
            "gridcolor": "white",
            "gridwidth": 2,
            "linecolor": "white",
            "showbackground": true,
            "ticks": "",
            "zerolinecolor": "white"
           }
          },
          "shapedefaults": {
           "line": {
            "color": "#2a3f5f"
           }
          },
          "ternary": {
           "aaxis": {
            "gridcolor": "white",
            "linecolor": "white",
            "ticks": ""
           },
           "baxis": {
            "gridcolor": "white",
            "linecolor": "white",
            "ticks": ""
           },
           "bgcolor": "#E5ECF6",
           "caxis": {
            "gridcolor": "white",
            "linecolor": "white",
            "ticks": ""
           }
          },
          "title": {
           "x": 0.05
          },
          "xaxis": {
           "automargin": true,
           "gridcolor": "white",
           "linecolor": "white",
           "ticks": "",
           "title": {
            "standoff": 15
           },
           "zerolinecolor": "white",
           "zerolinewidth": 2
          },
          "yaxis": {
           "automargin": true,
           "gridcolor": "white",
           "linecolor": "white",
           "ticks": "",
           "title": {
            "standoff": 15
           },
           "zerolinecolor": "white",
           "zerolinewidth": 2
          }
         }
        },
        "title": {
         "font": {
          "color": "#4D5663"
         }
        },
        "xaxis": {
         "gridcolor": "#E1E5ED",
         "showgrid": true,
         "tickfont": {
          "color": "#4D5663"
         },
         "title": {
          "font": {
           "color": "#4D5663"
          },
          "text": ""
         },
         "zerolinecolor": "#E1E5ED"
        },
        "yaxis": {
         "gridcolor": "#E1E5ED",
         "showgrid": true,
         "tickfont": {
          "color": "#4D5663"
         },
         "title": {
          "font": {
           "color": "#4D5663"
          },
          "text": ""
         },
         "zerolinecolor": "#E1E5ED"
        }
       }
      },
      "text/html": [
       "<div>\n",
       "        \n",
       "        \n",
       "            <div id=\"fddc021d-14fd-4f08-bd1b-5d1e4d38f106\" class=\"plotly-graph-div\" style=\"height:525px; width:100%;\"></div>\n",
       "            <script type=\"text/javascript\">\n",
       "                require([\"plotly\"], function(Plotly) {\n",
       "                    window.PLOTLYENV=window.PLOTLYENV || {};\n",
       "                    window.PLOTLYENV.BASE_URL='https://plot.ly';\n",
       "                    \n",
       "                if (document.getElementById(\"fddc021d-14fd-4f08-bd1b-5d1e4d38f106\")) {\n",
       "                    Plotly.newPlot(\n",
       "                        'fddc021d-14fd-4f08-bd1b-5d1e4d38f106',\n",
       "                        [{\"boxpoints\": false, \"line\": {\"width\": 1.3}, \"marker\": {\"color\": \"rgba(255, 153, 51, 1.0)\"}, \"name\": \"A\", \"orientation\": \"v\", \"type\": \"box\", \"y\": [-1.0099361673355667, -1.0284575537950853, -0.11589523503021203, -0.3871577102854481, -0.8802462358509756, -0.5073178289505085, -0.25872977857744495, -0.8451154146551735, -1.6753380560258833, -0.3197009244061666, -0.13563348234303227, -1.311691245631022, -1.249731033152953, 0.17890604821843886, -1.128427638771329, -1.1636664744849745, -0.9412243713819362, -0.38570173042512107, -0.8003953490624793, 0.8825029834565344, 1.524337052036057, -0.23052058779768336, 1.9285582193640014, -0.872188772166427, -0.3176075253149898, 2.606580520825616, -1.1995356504360102, -0.5183516090778959, -0.04436142535581713, -0.18480369022350523, -1.7547311219167303, 0.4348163458344423, 0.02896010894576578, 1.1883323868662738, 1.6732989603111974, -0.8210953393613368, 0.5004305409127747, -0.22178532385423305, -0.7454328674035887, 2.1180173982206956, 1.190563692517457, 0.3138573805554352, -0.9935779216404051, -0.3647175556508881, 0.5068831822214218, 0.20910917496939357, 0.577713713083106, -0.29978283141123724, -0.2873028727788575, -0.46363559405313143, -0.9206774761598664, -0.755950329387749, 0.7922037497771531, -0.8795695353900919, 0.28776576333898585, -0.23417565168839716, -1.9708555241106436, 0.9824316178908786, -1.98662055858986, -0.7296201496003367, 0.7238839666288359, 1.5974689722403834, 1.801589947153041, -0.7232840189194383, -1.0681986697213794, -0.5992838692605261, 2.239239240441496, -0.2396645330815824, -0.04239926731173785, 0.8738657260289925, -0.8714936725210958, 1.0533376696933532, 0.028493839037042872, 0.9603494061902195, 0.8199228021104203, 1.4708360154901292, -1.104738720637537, -1.6868861956709762, 1.0938651017022927, 2.1390860039617507, -0.3705530670203375, -0.18840168960734383, 0.42753386535746246, 0.6980400869787413, -0.6402916416160395, -0.02222079553462808, -0.4216825148927192, 0.280887190385779, -0.643768601883412, -0.6875539894115286, -1.3443114433014156, -0.25555254723379944, 1.2335524942281835, -0.09161187909282938, 1.0278257484361688, -0.514950707958829, -1.6295755204874562, -0.53058233036871, -0.06432271315517117, -0.4852358829857144]}, {\"boxpoints\": false, \"line\": {\"width\": 1.3}, \"marker\": {\"color\": \"rgba(55, 128, 191, 1.0)\"}, \"name\": \"B\", \"orientation\": \"v\", \"type\": \"box\", \"y\": [0.744450190015796, 1.1894557449729342, 0.6014866195311764, -0.8880130958919555, 0.2634422442550224, 0.6626931843686664, -1.1250880401227368, 0.4771603153029794, -0.1490065026960575, -0.9623205020230357, 1.4401318165613903, 1.4082689738738148, 0.10270692830268753, 0.01425779846376388, -1.480304960527278, -0.824423835202117, -0.5511105572426905, 0.15703184361306663, 0.9234900532311175, 0.1613158759882807, -0.644491423073877, -1.2120176461084518, 1.016181721468633, -0.6319609682834901, -0.24129550029875582, 0.553567424049745, -0.62444452813727, 0.22496068588193177, 0.8743351098471469, 1.7059386069757694, -1.9206327186061418, 0.7686062004369781, -1.259648403612559, 0.1096277410328048, 0.9387094528772576, -0.27461979313709567, 1.6207957707630838, 0.06169141959846879, -0.4865658395535811, -0.5858756480838269, -0.8884612999138807, 0.13300720372341124, 1.2981909174656012, 0.34230516992051746, 0.4919371479311787, 0.36239582310865504, -0.7208562108905195, 0.6914975574734396, 0.36195579934636735, -0.22232409309193057, 0.065663078950636, 0.1985313405036117, 1.6933038949156938, -0.46264733238674816, 1.7763447430055253, -0.640759791350102, -0.6793491505404466, 0.4267992066295522, -1.1422053149767915, -0.7766786239708781, 0.8754471153083129, -0.8903352167441764, -0.8840619009663945, -0.3280940175291615, 0.3685108324294671, -0.5897320779624863, 0.5219386165501887, 0.10200882724863404, -0.30850418604752317, -0.08803823463831988, -1.557089116787949, 0.5682957147945388, 0.5278400244507687, 1.4323269258374178, 0.5576802769913602, 2.204605797704065, -0.535349852025295, 1.1789203019870378, 0.30611952626236455, 0.45594684826678866, 1.8433513627069207, 0.4245202276944359, 1.031079593495038, 1.5566392860476528, -0.5803530558234599, -1.252281916948563, -0.7086537222484671, 0.5936620950802783, 0.4854826118308957, -0.13808162235319374, 0.07744183888892246, 0.5157739214893406, 0.1884566433660276, 0.5637646438290826, -0.06990828503654249, 0.8880289293608626, 0.5309382058701448, -2.150688191460801, -1.0081065888477767, -0.6843264190330478]}, {\"boxpoints\": false, \"line\": {\"width\": 1.3}, \"marker\": {\"color\": \"rgba(50, 171, 96, 1.0)\"}, \"name\": \"C\", \"orientation\": \"v\", \"type\": \"box\", \"y\": [-0.10844688366607731, 0.16733633352974903, -1.003064679877997, 0.11892881146560684, 1.3333393915304186, -0.6448370494894287, -0.036934364214063056, -0.3354599867804685, 0.8594130791664836, 2.292550494907262, 0.5851055074273075, -0.22373305898021273, -1.318829471484427, -0.47687927302096245, 0.32297553601603296, -0.9758488905489777, 0.6691342481305712, -0.5916234672327101, 1.5989795847107482, -0.008847456786420628, 0.4361699102532506, 0.5632537291646132, -0.37933737575918364, -1.7887425453458037, -0.16753674441022864, -0.1409974236530499, 1.4527206204041516, 0.2997776368855433, -1.252308620876837, 1.5982594919483113, 0.19845250704666614, 0.056605879498077494, 1.9644044349481293, 0.7658980591791495, -1.2973172481097486, -0.21107855605363565, -0.7057809538742765, -0.5836330480381826, -0.48340573189183406, 0.014404479745272855, 1.243791708976414, 0.03911915089532694, 0.8073366696093068, -0.21777867566887507, 1.3206067041685183, 0.5533690325022966, 0.8478371294383951, -0.8219481286093834, 0.8189156313408671, -1.8039272994473976, 0.8134404378623654, -0.839922688506824, 1.1213654983659211, -0.3175238420362532, -1.040232527431456, 1.9270211148796856, 0.49816493558492425, 0.7210957281645702, -1.3711562942618596, 0.18148120905557177, 1.4177973798560877, 0.8473564728331587, -2.467072144710912, -0.7725036485221717, -0.04099859162106744, 0.8023311379678135, -0.05201887677702289, -0.2206430931931036, 0.013789184936669339, 0.2812407546994943, 0.6677118079355471, -1.1298860728877786, 1.38237155109421, -0.3908186085017909, -0.6235459428811388, 0.1525324826063132, 0.4853510459498709, -0.3342588245362525, -1.1074568386912864, 0.3716183728865845, 0.1283188309393588, 1.3247212909650026, -0.29847719147752716, -0.6070218711864458, -1.9899820556255035, -0.17916009699644542, -0.7586603660994995, -0.2276209432381251, -0.8404747300241181, 0.5987703429564175, -0.13878088527091056, -0.42396204344891697, 0.4610587122947592, -0.37852470756784384, 0.14418526352165398, 0.02070290882063936, 1.1492810604208865, 0.24475333684183478, -0.09764569239807382, -0.758534462637969]}, {\"boxpoints\": false, \"line\": {\"width\": 1.3}, \"marker\": {\"color\": \"rgba(128, 0, 128, 1.0)\"}, \"name\": \"D\", \"orientation\": \"v\", \"type\": \"box\", \"y\": [-1.1393184613711067, 0.6793613666635172, 0.28974041098371095, 0.9470289347185049, 1.855321234974801, -1.7722316176818371, 1.3554955322757567, 0.6432624264780246, 0.34848058672818405, -0.37728668399111714, -1.759013929417471, -1.0671607454395564, -0.7795066221851681, -0.46696370159275197, 0.8378772934461107, -1.265943442354089, 0.707706194731624, -1.1598784355469942, 0.3903579271561808, -0.18055035634994288, -1.7614489328259577, -1.548005517264043, -0.4476933691867463, 0.4725205261924256, -0.9047678988456344, 0.40299125921404544, 0.3833443037713799, 0.6086588925414255, 0.10551045807600429, 0.5398565778298426, -0.3253123067260765, 2.410609715713139, -0.6875386256442397, 1.803037824681518, -2.04461480952745, -1.6165455705422103, -0.8649796621911521, -0.20754981724057178, 0.7162581858362861, 0.3956552328909221, 1.5562153420059015, -1.4048973439846717, 0.7235465006901312, -1.1828001124403158, 1.7670220708468052, -1.6483267663795467, 1.2959639144400708, 0.01137317773399804, 0.24892171983224393, -1.3804822111812494, -0.1552211611756199, -0.3336621916615375, 0.21704118913381892, 0.22648720227245717, -2.3223235953886916, -1.6659328759101266, -0.43578175542352915, -0.020671620075946844, 1.6098798041556606, 0.9917772179785025, 0.7561089928128429, -0.03075331935853545, 0.9213688877157874, -1.7534585372719176, -1.0670716083211633, -1.2617429985339306, 0.78279386642726, -1.0387525520793024, -0.8392526693580369, -0.218506857832733, 0.20734729417789693, -0.3062181818320245, -0.8620903828109703, -1.3209325312822953, 0.9747528909197947, -0.8663554124148628, 0.4754132016880406, -0.3523819524286089, -1.3339226336427972, 0.03678425634872807, 0.16668823781780848, 0.72486473881676, 0.685991570942405, 0.7495820181096875, 0.7232736844271054, -1.6074542095465134, -0.17574514087516413, -1.6612646063680152, -1.303417435980111, 2.0350458483027345, -0.5807409988730624, 0.6720747309461574, -0.28525772520585135, 2.248184362196986, 0.7116960828106597, 1.6614735371334814, -1.400668549764246, -0.3335111223037445, -2.0430793137092835, -1.624903816980265]}],\n",
       "                        {\"legend\": {\"bgcolor\": \"#F5F6F9\", \"font\": {\"color\": \"#4D5663\"}}, \"paper_bgcolor\": \"#F5F6F9\", \"plot_bgcolor\": \"#F5F6F9\", \"template\": {\"data\": {\"bar\": [{\"error_x\": {\"color\": \"#2a3f5f\"}, \"error_y\": {\"color\": \"#2a3f5f\"}, \"marker\": {\"line\": {\"color\": \"#E5ECF6\", \"width\": 0.5}}, \"type\": \"bar\"}], \"barpolar\": [{\"marker\": {\"line\": {\"color\": \"#E5ECF6\", \"width\": 0.5}}, \"type\": \"barpolar\"}], \"carpet\": [{\"aaxis\": {\"endlinecolor\": \"#2a3f5f\", \"gridcolor\": \"white\", \"linecolor\": \"white\", \"minorgridcolor\": \"white\", \"startlinecolor\": \"#2a3f5f\"}, \"baxis\": {\"endlinecolor\": \"#2a3f5f\", \"gridcolor\": \"white\", \"linecolor\": \"white\", \"minorgridcolor\": \"white\", \"startlinecolor\": \"#2a3f5f\"}, \"type\": \"carpet\"}], \"choropleth\": [{\"colorbar\": {\"outlinewidth\": 0, \"ticks\": \"\"}, \"type\": \"choropleth\"}], \"contour\": [{\"colorbar\": {\"outlinewidth\": 0, \"ticks\": \"\"}, \"colorscale\": [[0.0, \"#0d0887\"], [0.1111111111111111, \"#46039f\"], [0.2222222222222222, \"#7201a8\"], [0.3333333333333333, \"#9c179e\"], [0.4444444444444444, \"#bd3786\"], [0.5555555555555556, \"#d8576b\"], [0.6666666666666666, \"#ed7953\"], [0.7777777777777778, \"#fb9f3a\"], [0.8888888888888888, \"#fdca26\"], [1.0, \"#f0f921\"]], \"type\": \"contour\"}], \"contourcarpet\": [{\"colorbar\": {\"outlinewidth\": 0, \"ticks\": \"\"}, \"type\": \"contourcarpet\"}], \"heatmap\": [{\"colorbar\": {\"outlinewidth\": 0, \"ticks\": \"\"}, \"colorscale\": [[0.0, \"#0d0887\"], [0.1111111111111111, \"#46039f\"], [0.2222222222222222, \"#7201a8\"], [0.3333333333333333, \"#9c179e\"], [0.4444444444444444, \"#bd3786\"], [0.5555555555555556, \"#d8576b\"], [0.6666666666666666, \"#ed7953\"], [0.7777777777777778, \"#fb9f3a\"], [0.8888888888888888, \"#fdca26\"], [1.0, \"#f0f921\"]], \"type\": \"heatmap\"}], \"heatmapgl\": [{\"colorbar\": {\"outlinewidth\": 0, \"ticks\": \"\"}, \"colorscale\": [[0.0, \"#0d0887\"], [0.1111111111111111, \"#46039f\"], [0.2222222222222222, \"#7201a8\"], [0.3333333333333333, \"#9c179e\"], [0.4444444444444444, \"#bd3786\"], [0.5555555555555556, \"#d8576b\"], [0.6666666666666666, \"#ed7953\"], [0.7777777777777778, \"#fb9f3a\"], [0.8888888888888888, \"#fdca26\"], [1.0, \"#f0f921\"]], \"type\": \"heatmapgl\"}], \"histogram\": [{\"marker\": {\"colorbar\": {\"outlinewidth\": 0, \"ticks\": \"\"}}, \"type\": \"histogram\"}], \"histogram2d\": [{\"colorbar\": {\"outlinewidth\": 0, \"ticks\": \"\"}, \"colorscale\": [[0.0, \"#0d0887\"], [0.1111111111111111, \"#46039f\"], [0.2222222222222222, \"#7201a8\"], [0.3333333333333333, \"#9c179e\"], [0.4444444444444444, \"#bd3786\"], [0.5555555555555556, \"#d8576b\"], [0.6666666666666666, \"#ed7953\"], [0.7777777777777778, \"#fb9f3a\"], [0.8888888888888888, \"#fdca26\"], [1.0, \"#f0f921\"]], \"type\": \"histogram2d\"}], \"histogram2dcontour\": [{\"colorbar\": {\"outlinewidth\": 0, \"ticks\": \"\"}, \"colorscale\": [[0.0, \"#0d0887\"], [0.1111111111111111, \"#46039f\"], [0.2222222222222222, \"#7201a8\"], [0.3333333333333333, \"#9c179e\"], [0.4444444444444444, \"#bd3786\"], [0.5555555555555556, \"#d8576b\"], [0.6666666666666666, \"#ed7953\"], [0.7777777777777778, \"#fb9f3a\"], [0.8888888888888888, \"#fdca26\"], [1.0, \"#f0f921\"]], \"type\": \"histogram2dcontour\"}], \"mesh3d\": [{\"colorbar\": {\"outlinewidth\": 0, \"ticks\": \"\"}, \"type\": \"mesh3d\"}], \"parcoords\": [{\"line\": {\"colorbar\": {\"outlinewidth\": 0, \"ticks\": \"\"}}, \"type\": \"parcoords\"}], \"pie\": [{\"automargin\": true, \"type\": \"pie\"}], \"scatter\": [{\"marker\": {\"colorbar\": {\"outlinewidth\": 0, \"ticks\": \"\"}}, \"type\": \"scatter\"}], \"scatter3d\": [{\"line\": {\"colorbar\": {\"outlinewidth\": 0, \"ticks\": \"\"}}, \"marker\": {\"colorbar\": {\"outlinewidth\": 0, \"ticks\": \"\"}}, \"type\": \"scatter3d\"}], \"scattercarpet\": [{\"marker\": {\"colorbar\": {\"outlinewidth\": 0, \"ticks\": \"\"}}, \"type\": \"scattercarpet\"}], \"scattergeo\": [{\"marker\": {\"colorbar\": {\"outlinewidth\": 0, \"ticks\": \"\"}}, \"type\": \"scattergeo\"}], \"scattergl\": [{\"marker\": {\"colorbar\": {\"outlinewidth\": 0, \"ticks\": \"\"}}, \"type\": \"scattergl\"}], \"scattermapbox\": [{\"marker\": {\"colorbar\": {\"outlinewidth\": 0, \"ticks\": \"\"}}, \"type\": \"scattermapbox\"}], \"scatterpolar\": [{\"marker\": {\"colorbar\": {\"outlinewidth\": 0, \"ticks\": \"\"}}, \"type\": \"scatterpolar\"}], \"scatterpolargl\": [{\"marker\": {\"colorbar\": {\"outlinewidth\": 0, \"ticks\": \"\"}}, \"type\": \"scatterpolargl\"}], \"scatterternary\": [{\"marker\": {\"colorbar\": {\"outlinewidth\": 0, \"ticks\": \"\"}}, \"type\": \"scatterternary\"}], \"surface\": [{\"colorbar\": {\"outlinewidth\": 0, \"ticks\": \"\"}, \"colorscale\": [[0.0, \"#0d0887\"], [0.1111111111111111, \"#46039f\"], [0.2222222222222222, \"#7201a8\"], [0.3333333333333333, \"#9c179e\"], [0.4444444444444444, \"#bd3786\"], [0.5555555555555556, \"#d8576b\"], [0.6666666666666666, \"#ed7953\"], [0.7777777777777778, \"#fb9f3a\"], [0.8888888888888888, \"#fdca26\"], [1.0, \"#f0f921\"]], \"type\": \"surface\"}], \"table\": [{\"cells\": {\"fill\": {\"color\": \"#EBF0F8\"}, \"line\": {\"color\": \"white\"}}, \"header\": {\"fill\": {\"color\": \"#C8D4E3\"}, \"line\": {\"color\": \"white\"}}, \"type\": \"table\"}]}, \"layout\": {\"annotationdefaults\": {\"arrowcolor\": \"#2a3f5f\", \"arrowhead\": 0, \"arrowwidth\": 1}, \"coloraxis\": {\"colorbar\": {\"outlinewidth\": 0, \"ticks\": \"\"}}, \"colorscale\": {\"diverging\": [[0, \"#8e0152\"], [0.1, \"#c51b7d\"], [0.2, \"#de77ae\"], [0.3, \"#f1b6da\"], [0.4, \"#fde0ef\"], [0.5, \"#f7f7f7\"], [0.6, \"#e6f5d0\"], [0.7, \"#b8e186\"], [0.8, \"#7fbc41\"], [0.9, \"#4d9221\"], [1, \"#276419\"]], \"sequential\": [[0.0, \"#0d0887\"], [0.1111111111111111, \"#46039f\"], [0.2222222222222222, \"#7201a8\"], [0.3333333333333333, \"#9c179e\"], [0.4444444444444444, \"#bd3786\"], [0.5555555555555556, \"#d8576b\"], [0.6666666666666666, \"#ed7953\"], [0.7777777777777778, \"#fb9f3a\"], [0.8888888888888888, \"#fdca26\"], [1.0, \"#f0f921\"]], \"sequentialminus\": [[0.0, \"#0d0887\"], [0.1111111111111111, \"#46039f\"], [0.2222222222222222, \"#7201a8\"], [0.3333333333333333, \"#9c179e\"], [0.4444444444444444, \"#bd3786\"], [0.5555555555555556, \"#d8576b\"], [0.6666666666666666, \"#ed7953\"], [0.7777777777777778, \"#fb9f3a\"], [0.8888888888888888, \"#fdca26\"], [1.0, \"#f0f921\"]]}, \"colorway\": [\"#636efa\", \"#EF553B\", \"#00cc96\", \"#ab63fa\", \"#FFA15A\", \"#19d3f3\", \"#FF6692\", \"#B6E880\", \"#FF97FF\", \"#FECB52\"], \"font\": {\"color\": \"#2a3f5f\"}, \"geo\": {\"bgcolor\": \"white\", \"lakecolor\": \"white\", \"landcolor\": \"#E5ECF6\", \"showlakes\": true, \"showland\": true, \"subunitcolor\": \"white\"}, \"hoverlabel\": {\"align\": \"left\"}, \"hovermode\": \"closest\", \"mapbox\": {\"style\": \"light\"}, \"paper_bgcolor\": \"white\", \"plot_bgcolor\": \"#E5ECF6\", \"polar\": {\"angularaxis\": {\"gridcolor\": \"white\", \"linecolor\": \"white\", \"ticks\": \"\"}, \"bgcolor\": \"#E5ECF6\", \"radialaxis\": {\"gridcolor\": \"white\", \"linecolor\": \"white\", \"ticks\": \"\"}}, \"scene\": {\"xaxis\": {\"backgroundcolor\": \"#E5ECF6\", \"gridcolor\": \"white\", \"gridwidth\": 2, \"linecolor\": \"white\", \"showbackground\": true, \"ticks\": \"\", \"zerolinecolor\": \"white\"}, \"yaxis\": {\"backgroundcolor\": \"#E5ECF6\", \"gridcolor\": \"white\", \"gridwidth\": 2, \"linecolor\": \"white\", \"showbackground\": true, \"ticks\": \"\", \"zerolinecolor\": \"white\"}, \"zaxis\": {\"backgroundcolor\": \"#E5ECF6\", \"gridcolor\": \"white\", \"gridwidth\": 2, \"linecolor\": \"white\", \"showbackground\": true, \"ticks\": \"\", \"zerolinecolor\": \"white\"}}, \"shapedefaults\": {\"line\": {\"color\": \"#2a3f5f\"}}, \"ternary\": {\"aaxis\": {\"gridcolor\": \"white\", \"linecolor\": \"white\", \"ticks\": \"\"}, \"baxis\": {\"gridcolor\": \"white\", \"linecolor\": \"white\", \"ticks\": \"\"}, \"bgcolor\": \"#E5ECF6\", \"caxis\": {\"gridcolor\": \"white\", \"linecolor\": \"white\", \"ticks\": \"\"}}, \"title\": {\"x\": 0.05}, \"xaxis\": {\"automargin\": true, \"gridcolor\": \"white\", \"linecolor\": \"white\", \"ticks\": \"\", \"title\": {\"standoff\": 15}, \"zerolinecolor\": \"white\", \"zerolinewidth\": 2}, \"yaxis\": {\"automargin\": true, \"gridcolor\": \"white\", \"linecolor\": \"white\", \"ticks\": \"\", \"title\": {\"standoff\": 15}, \"zerolinecolor\": \"white\", \"zerolinewidth\": 2}}}, \"title\": {\"font\": {\"color\": \"#4D5663\"}}, \"xaxis\": {\"gridcolor\": \"#E1E5ED\", \"showgrid\": true, \"tickfont\": {\"color\": \"#4D5663\"}, \"title\": {\"font\": {\"color\": \"#4D5663\"}, \"text\": \"\"}, \"zerolinecolor\": \"#E1E5ED\"}, \"yaxis\": {\"gridcolor\": \"#E1E5ED\", \"showgrid\": true, \"tickfont\": {\"color\": \"#4D5663\"}, \"title\": {\"font\": {\"color\": \"#4D5663\"}, \"text\": \"\"}, \"zerolinecolor\": \"#E1E5ED\"}},\n",
       "                        {\"showLink\": true, \"linkText\": \"Export to plot.ly\", \"plotlyServerURL\": \"https://plot.ly\", \"responsive\": true}\n",
       "                    ).then(function(){\n",
       "                            \n",
       "var gd = document.getElementById('fddc021d-14fd-4f08-bd1b-5d1e4d38f106');\n",
       "var x = new MutationObserver(function (mutations, observer) {{\n",
       "        var display = window.getComputedStyle(gd).display;\n",
       "        if (!display || display === 'none') {{\n",
       "            console.log([gd, 'removed!']);\n",
       "            Plotly.purge(gd);\n",
       "            observer.disconnect();\n",
       "        }}\n",
       "}});\n",
       "\n",
       "// Listen for the removal of the full notebook cells\n",
       "var notebookContainer = gd.closest('#notebook-container');\n",
       "if (notebookContainer) {{\n",
       "    x.observe(notebookContainer, {childList: true});\n",
       "}}\n",
       "\n",
       "// Listen for the clearing of the current output cell\n",
       "var outputEl = gd.closest('.output');\n",
       "if (outputEl) {{\n",
       "    x.observe(outputEl, {childList: true});\n",
       "}}\n",
       "\n",
       "                        })\n",
       "                };\n",
       "                });\n",
       "            </script>\n",
       "        </div>"
      ]
     },
     "metadata": {},
     "output_type": "display_data"
    }
   ],
   "source": [
    "df.iplot(kind='box')"
   ]
  },
  {
   "cell_type": "markdown",
   "metadata": {},
   "source": [
    "## 3d Surface"
   ]
  },
  {
   "cell_type": "code",
   "execution_count": 14,
   "metadata": {},
   "outputs": [
    {
     "data": {
      "application/vnd.plotly.v1+json": {
       "config": {
        "linkText": "Export to plot.ly",
        "plotlyServerURL": "https://plot.ly",
        "showLink": true
       },
       "data": [
        {
         "colorscale": [
          [
           0,
           "rgb(165,0,38)"
          ],
          [
           0.1,
           "rgb(215,48,39)"
          ],
          [
           0.2,
           "rgb(244,109,67)"
          ],
          [
           0.3,
           "rgb(253,174,97)"
          ],
          [
           0.4,
           "rgb(254,224,144)"
          ],
          [
           0.5,
           "rgb(255,255,191)"
          ],
          [
           0.6,
           "rgb(224,243,248)"
          ],
          [
           0.7,
           "rgb(171,217,233)"
          ],
          [
           0.8,
           "rgb(116,173,209)"
          ],
          [
           0.9,
           "rgb(69,117,180)"
          ],
          [
           1,
           "rgb(49,54,149)"
          ]
         ],
         "type": "surface",
         "x": [
          0,
          1,
          2,
          3,
          4
         ],
         "y": [
          "x",
          "y",
          "z"
         ],
         "z": [
          [
           1,
           2,
           3,
           4,
           5
          ],
          [
           10,
           20,
           30,
           20,
           10
          ],
          [
           5,
           4,
           3,
           2,
           1
          ]
         ]
        }
       ],
       "layout": {
        "legend": {
         "bgcolor": "#F5F6F9",
         "font": {
          "color": "#4D5663"
         }
        },
        "paper_bgcolor": "#F5F6F9",
        "plot_bgcolor": "#F5F6F9",
        "template": {
         "data": {
          "bar": [
           {
            "error_x": {
             "color": "#2a3f5f"
            },
            "error_y": {
             "color": "#2a3f5f"
            },
            "marker": {
             "line": {
              "color": "#E5ECF6",
              "width": 0.5
             }
            },
            "type": "bar"
           }
          ],
          "barpolar": [
           {
            "marker": {
             "line": {
              "color": "#E5ECF6",
              "width": 0.5
             }
            },
            "type": "barpolar"
           }
          ],
          "carpet": [
           {
            "aaxis": {
             "endlinecolor": "#2a3f5f",
             "gridcolor": "white",
             "linecolor": "white",
             "minorgridcolor": "white",
             "startlinecolor": "#2a3f5f"
            },
            "baxis": {
             "endlinecolor": "#2a3f5f",
             "gridcolor": "white",
             "linecolor": "white",
             "minorgridcolor": "white",
             "startlinecolor": "#2a3f5f"
            },
            "type": "carpet"
           }
          ],
          "choropleth": [
           {
            "colorbar": {
             "outlinewidth": 0,
             "ticks": ""
            },
            "type": "choropleth"
           }
          ],
          "contour": [
           {
            "colorbar": {
             "outlinewidth": 0,
             "ticks": ""
            },
            "colorscale": [
             [
              0,
              "#0d0887"
             ],
             [
              0.1111111111111111,
              "#46039f"
             ],
             [
              0.2222222222222222,
              "#7201a8"
             ],
             [
              0.3333333333333333,
              "#9c179e"
             ],
             [
              0.4444444444444444,
              "#bd3786"
             ],
             [
              0.5555555555555556,
              "#d8576b"
             ],
             [
              0.6666666666666666,
              "#ed7953"
             ],
             [
              0.7777777777777778,
              "#fb9f3a"
             ],
             [
              0.8888888888888888,
              "#fdca26"
             ],
             [
              1,
              "#f0f921"
             ]
            ],
            "type": "contour"
           }
          ],
          "contourcarpet": [
           {
            "colorbar": {
             "outlinewidth": 0,
             "ticks": ""
            },
            "type": "contourcarpet"
           }
          ],
          "heatmap": [
           {
            "colorbar": {
             "outlinewidth": 0,
             "ticks": ""
            },
            "colorscale": [
             [
              0,
              "#0d0887"
             ],
             [
              0.1111111111111111,
              "#46039f"
             ],
             [
              0.2222222222222222,
              "#7201a8"
             ],
             [
              0.3333333333333333,
              "#9c179e"
             ],
             [
              0.4444444444444444,
              "#bd3786"
             ],
             [
              0.5555555555555556,
              "#d8576b"
             ],
             [
              0.6666666666666666,
              "#ed7953"
             ],
             [
              0.7777777777777778,
              "#fb9f3a"
             ],
             [
              0.8888888888888888,
              "#fdca26"
             ],
             [
              1,
              "#f0f921"
             ]
            ],
            "type": "heatmap"
           }
          ],
          "heatmapgl": [
           {
            "colorbar": {
             "outlinewidth": 0,
             "ticks": ""
            },
            "colorscale": [
             [
              0,
              "#0d0887"
             ],
             [
              0.1111111111111111,
              "#46039f"
             ],
             [
              0.2222222222222222,
              "#7201a8"
             ],
             [
              0.3333333333333333,
              "#9c179e"
             ],
             [
              0.4444444444444444,
              "#bd3786"
             ],
             [
              0.5555555555555556,
              "#d8576b"
             ],
             [
              0.6666666666666666,
              "#ed7953"
             ],
             [
              0.7777777777777778,
              "#fb9f3a"
             ],
             [
              0.8888888888888888,
              "#fdca26"
             ],
             [
              1,
              "#f0f921"
             ]
            ],
            "type": "heatmapgl"
           }
          ],
          "histogram": [
           {
            "marker": {
             "colorbar": {
              "outlinewidth": 0,
              "ticks": ""
             }
            },
            "type": "histogram"
           }
          ],
          "histogram2d": [
           {
            "colorbar": {
             "outlinewidth": 0,
             "ticks": ""
            },
            "colorscale": [
             [
              0,
              "#0d0887"
             ],
             [
              0.1111111111111111,
              "#46039f"
             ],
             [
              0.2222222222222222,
              "#7201a8"
             ],
             [
              0.3333333333333333,
              "#9c179e"
             ],
             [
              0.4444444444444444,
              "#bd3786"
             ],
             [
              0.5555555555555556,
              "#d8576b"
             ],
             [
              0.6666666666666666,
              "#ed7953"
             ],
             [
              0.7777777777777778,
              "#fb9f3a"
             ],
             [
              0.8888888888888888,
              "#fdca26"
             ],
             [
              1,
              "#f0f921"
             ]
            ],
            "type": "histogram2d"
           }
          ],
          "histogram2dcontour": [
           {
            "colorbar": {
             "outlinewidth": 0,
             "ticks": ""
            },
            "colorscale": [
             [
              0,
              "#0d0887"
             ],
             [
              0.1111111111111111,
              "#46039f"
             ],
             [
              0.2222222222222222,
              "#7201a8"
             ],
             [
              0.3333333333333333,
              "#9c179e"
             ],
             [
              0.4444444444444444,
              "#bd3786"
             ],
             [
              0.5555555555555556,
              "#d8576b"
             ],
             [
              0.6666666666666666,
              "#ed7953"
             ],
             [
              0.7777777777777778,
              "#fb9f3a"
             ],
             [
              0.8888888888888888,
              "#fdca26"
             ],
             [
              1,
              "#f0f921"
             ]
            ],
            "type": "histogram2dcontour"
           }
          ],
          "mesh3d": [
           {
            "colorbar": {
             "outlinewidth": 0,
             "ticks": ""
            },
            "type": "mesh3d"
           }
          ],
          "parcoords": [
           {
            "line": {
             "colorbar": {
              "outlinewidth": 0,
              "ticks": ""
             }
            },
            "type": "parcoords"
           }
          ],
          "pie": [
           {
            "automargin": true,
            "type": "pie"
           }
          ],
          "scatter": [
           {
            "marker": {
             "colorbar": {
              "outlinewidth": 0,
              "ticks": ""
             }
            },
            "type": "scatter"
           }
          ],
          "scatter3d": [
           {
            "line": {
             "colorbar": {
              "outlinewidth": 0,
              "ticks": ""
             }
            },
            "marker": {
             "colorbar": {
              "outlinewidth": 0,
              "ticks": ""
             }
            },
            "type": "scatter3d"
           }
          ],
          "scattercarpet": [
           {
            "marker": {
             "colorbar": {
              "outlinewidth": 0,
              "ticks": ""
             }
            },
            "type": "scattercarpet"
           }
          ],
          "scattergeo": [
           {
            "marker": {
             "colorbar": {
              "outlinewidth": 0,
              "ticks": ""
             }
            },
            "type": "scattergeo"
           }
          ],
          "scattergl": [
           {
            "marker": {
             "colorbar": {
              "outlinewidth": 0,
              "ticks": ""
             }
            },
            "type": "scattergl"
           }
          ],
          "scattermapbox": [
           {
            "marker": {
             "colorbar": {
              "outlinewidth": 0,
              "ticks": ""
             }
            },
            "type": "scattermapbox"
           }
          ],
          "scatterpolar": [
           {
            "marker": {
             "colorbar": {
              "outlinewidth": 0,
              "ticks": ""
             }
            },
            "type": "scatterpolar"
           }
          ],
          "scatterpolargl": [
           {
            "marker": {
             "colorbar": {
              "outlinewidth": 0,
              "ticks": ""
             }
            },
            "type": "scatterpolargl"
           }
          ],
          "scatterternary": [
           {
            "marker": {
             "colorbar": {
              "outlinewidth": 0,
              "ticks": ""
             }
            },
            "type": "scatterternary"
           }
          ],
          "surface": [
           {
            "colorbar": {
             "outlinewidth": 0,
             "ticks": ""
            },
            "colorscale": [
             [
              0,
              "#0d0887"
             ],
             [
              0.1111111111111111,
              "#46039f"
             ],
             [
              0.2222222222222222,
              "#7201a8"
             ],
             [
              0.3333333333333333,
              "#9c179e"
             ],
             [
              0.4444444444444444,
              "#bd3786"
             ],
             [
              0.5555555555555556,
              "#d8576b"
             ],
             [
              0.6666666666666666,
              "#ed7953"
             ],
             [
              0.7777777777777778,
              "#fb9f3a"
             ],
             [
              0.8888888888888888,
              "#fdca26"
             ],
             [
              1,
              "#f0f921"
             ]
            ],
            "type": "surface"
           }
          ],
          "table": [
           {
            "cells": {
             "fill": {
              "color": "#EBF0F8"
             },
             "line": {
              "color": "white"
             }
            },
            "header": {
             "fill": {
              "color": "#C8D4E3"
             },
             "line": {
              "color": "white"
             }
            },
            "type": "table"
           }
          ]
         },
         "layout": {
          "annotationdefaults": {
           "arrowcolor": "#2a3f5f",
           "arrowhead": 0,
           "arrowwidth": 1
          },
          "coloraxis": {
           "colorbar": {
            "outlinewidth": 0,
            "ticks": ""
           }
          },
          "colorscale": {
           "diverging": [
            [
             0,
             "#8e0152"
            ],
            [
             0.1,
             "#c51b7d"
            ],
            [
             0.2,
             "#de77ae"
            ],
            [
             0.3,
             "#f1b6da"
            ],
            [
             0.4,
             "#fde0ef"
            ],
            [
             0.5,
             "#f7f7f7"
            ],
            [
             0.6,
             "#e6f5d0"
            ],
            [
             0.7,
             "#b8e186"
            ],
            [
             0.8,
             "#7fbc41"
            ],
            [
             0.9,
             "#4d9221"
            ],
            [
             1,
             "#276419"
            ]
           ],
           "sequential": [
            [
             0,
             "#0d0887"
            ],
            [
             0.1111111111111111,
             "#46039f"
            ],
            [
             0.2222222222222222,
             "#7201a8"
            ],
            [
             0.3333333333333333,
             "#9c179e"
            ],
            [
             0.4444444444444444,
             "#bd3786"
            ],
            [
             0.5555555555555556,
             "#d8576b"
            ],
            [
             0.6666666666666666,
             "#ed7953"
            ],
            [
             0.7777777777777778,
             "#fb9f3a"
            ],
            [
             0.8888888888888888,
             "#fdca26"
            ],
            [
             1,
             "#f0f921"
            ]
           ],
           "sequentialminus": [
            [
             0,
             "#0d0887"
            ],
            [
             0.1111111111111111,
             "#46039f"
            ],
            [
             0.2222222222222222,
             "#7201a8"
            ],
            [
             0.3333333333333333,
             "#9c179e"
            ],
            [
             0.4444444444444444,
             "#bd3786"
            ],
            [
             0.5555555555555556,
             "#d8576b"
            ],
            [
             0.6666666666666666,
             "#ed7953"
            ],
            [
             0.7777777777777778,
             "#fb9f3a"
            ],
            [
             0.8888888888888888,
             "#fdca26"
            ],
            [
             1,
             "#f0f921"
            ]
           ]
          },
          "colorway": [
           "#636efa",
           "#EF553B",
           "#00cc96",
           "#ab63fa",
           "#FFA15A",
           "#19d3f3",
           "#FF6692",
           "#B6E880",
           "#FF97FF",
           "#FECB52"
          ],
          "font": {
           "color": "#2a3f5f"
          },
          "geo": {
           "bgcolor": "white",
           "lakecolor": "white",
           "landcolor": "#E5ECF6",
           "showlakes": true,
           "showland": true,
           "subunitcolor": "white"
          },
          "hoverlabel": {
           "align": "left"
          },
          "hovermode": "closest",
          "mapbox": {
           "style": "light"
          },
          "paper_bgcolor": "white",
          "plot_bgcolor": "#E5ECF6",
          "polar": {
           "angularaxis": {
            "gridcolor": "white",
            "linecolor": "white",
            "ticks": ""
           },
           "bgcolor": "#E5ECF6",
           "radialaxis": {
            "gridcolor": "white",
            "linecolor": "white",
            "ticks": ""
           }
          },
          "scene": {
           "xaxis": {
            "backgroundcolor": "#E5ECF6",
            "gridcolor": "white",
            "gridwidth": 2,
            "linecolor": "white",
            "showbackground": true,
            "ticks": "",
            "zerolinecolor": "white"
           },
           "yaxis": {
            "backgroundcolor": "#E5ECF6",
            "gridcolor": "white",
            "gridwidth": 2,
            "linecolor": "white",
            "showbackground": true,
            "ticks": "",
            "zerolinecolor": "white"
           },
           "zaxis": {
            "backgroundcolor": "#E5ECF6",
            "gridcolor": "white",
            "gridwidth": 2,
            "linecolor": "white",
            "showbackground": true,
            "ticks": "",
            "zerolinecolor": "white"
           }
          },
          "shapedefaults": {
           "line": {
            "color": "#2a3f5f"
           }
          },
          "ternary": {
           "aaxis": {
            "gridcolor": "white",
            "linecolor": "white",
            "ticks": ""
           },
           "baxis": {
            "gridcolor": "white",
            "linecolor": "white",
            "ticks": ""
           },
           "bgcolor": "#E5ECF6",
           "caxis": {
            "gridcolor": "white",
            "linecolor": "white",
            "ticks": ""
           }
          },
          "title": {
           "x": 0.05
          },
          "xaxis": {
           "automargin": true,
           "gridcolor": "white",
           "linecolor": "white",
           "ticks": "",
           "title": {
            "standoff": 15
           },
           "zerolinecolor": "white",
           "zerolinewidth": 2
          },
          "yaxis": {
           "automargin": true,
           "gridcolor": "white",
           "linecolor": "white",
           "ticks": "",
           "title": {
            "standoff": 15
           },
           "zerolinecolor": "white",
           "zerolinewidth": 2
          }
         }
        },
        "title": {
         "font": {
          "color": "#4D5663"
         }
        },
        "xaxis": {
         "gridcolor": "#E1E5ED",
         "showgrid": true,
         "tickfont": {
          "color": "#4D5663"
         },
         "title": {
          "font": {
           "color": "#4D5663"
          },
          "text": ""
         },
         "zerolinecolor": "#E1E5ED"
        },
        "yaxis": {
         "gridcolor": "#E1E5ED",
         "showgrid": true,
         "tickfont": {
          "color": "#4D5663"
         },
         "title": {
          "font": {
           "color": "#4D5663"
          },
          "text": ""
         },
         "zerolinecolor": "#E1E5ED"
        }
       }
      },
      "text/html": [
       "<div>\n",
       "        \n",
       "        \n",
       "            <div id=\"f542de7e-e031-4013-b3e8-59b9db2edb1f\" class=\"plotly-graph-div\" style=\"height:525px; width:100%;\"></div>\n",
       "            <script type=\"text/javascript\">\n",
       "                require([\"plotly\"], function(Plotly) {\n",
       "                    window.PLOTLYENV=window.PLOTLYENV || {};\n",
       "                    window.PLOTLYENV.BASE_URL='https://plot.ly';\n",
       "                    \n",
       "                if (document.getElementById(\"f542de7e-e031-4013-b3e8-59b9db2edb1f\")) {\n",
       "                    Plotly.newPlot(\n",
       "                        'f542de7e-e031-4013-b3e8-59b9db2edb1f',\n",
       "                        [{\"colorscale\": [[0.0, \"rgb(165,0,38)\"], [0.1, \"rgb(215,48,39)\"], [0.2, \"rgb(244,109,67)\"], [0.3, \"rgb(253,174,97)\"], [0.4, \"rgb(254,224,144)\"], [0.5, \"rgb(255,255,191)\"], [0.6, \"rgb(224,243,248)\"], [0.7, \"rgb(171,217,233)\"], [0.8, \"rgb(116,173,209)\"], [0.9, \"rgb(69,117,180)\"], [1.0, \"rgb(49,54,149)\"]], \"type\": \"surface\", \"x\": [0, 1, 2, 3, 4], \"y\": [\"x\", \"y\", \"z\"], \"z\": [[1, 2, 3, 4, 5], [10, 20, 30, 20, 10], [5, 4, 3, 2, 1]]}],\n",
       "                        {\"legend\": {\"bgcolor\": \"#F5F6F9\", \"font\": {\"color\": \"#4D5663\"}}, \"paper_bgcolor\": \"#F5F6F9\", \"plot_bgcolor\": \"#F5F6F9\", \"template\": {\"data\": {\"bar\": [{\"error_x\": {\"color\": \"#2a3f5f\"}, \"error_y\": {\"color\": \"#2a3f5f\"}, \"marker\": {\"line\": {\"color\": \"#E5ECF6\", \"width\": 0.5}}, \"type\": \"bar\"}], \"barpolar\": [{\"marker\": {\"line\": {\"color\": \"#E5ECF6\", \"width\": 0.5}}, \"type\": \"barpolar\"}], \"carpet\": [{\"aaxis\": {\"endlinecolor\": \"#2a3f5f\", \"gridcolor\": \"white\", \"linecolor\": \"white\", \"minorgridcolor\": \"white\", \"startlinecolor\": \"#2a3f5f\"}, \"baxis\": {\"endlinecolor\": \"#2a3f5f\", \"gridcolor\": \"white\", \"linecolor\": \"white\", \"minorgridcolor\": \"white\", \"startlinecolor\": \"#2a3f5f\"}, \"type\": \"carpet\"}], \"choropleth\": [{\"colorbar\": {\"outlinewidth\": 0, \"ticks\": \"\"}, \"type\": \"choropleth\"}], \"contour\": [{\"colorbar\": {\"outlinewidth\": 0, \"ticks\": \"\"}, \"colorscale\": [[0.0, \"#0d0887\"], [0.1111111111111111, \"#46039f\"], [0.2222222222222222, \"#7201a8\"], [0.3333333333333333, \"#9c179e\"], [0.4444444444444444, \"#bd3786\"], [0.5555555555555556, \"#d8576b\"], [0.6666666666666666, \"#ed7953\"], [0.7777777777777778, \"#fb9f3a\"], [0.8888888888888888, \"#fdca26\"], [1.0, \"#f0f921\"]], \"type\": \"contour\"}], \"contourcarpet\": [{\"colorbar\": {\"outlinewidth\": 0, \"ticks\": \"\"}, \"type\": \"contourcarpet\"}], \"heatmap\": [{\"colorbar\": {\"outlinewidth\": 0, \"ticks\": \"\"}, \"colorscale\": [[0.0, \"#0d0887\"], [0.1111111111111111, \"#46039f\"], [0.2222222222222222, \"#7201a8\"], [0.3333333333333333, \"#9c179e\"], [0.4444444444444444, \"#bd3786\"], [0.5555555555555556, \"#d8576b\"], [0.6666666666666666, \"#ed7953\"], [0.7777777777777778, \"#fb9f3a\"], [0.8888888888888888, \"#fdca26\"], [1.0, \"#f0f921\"]], \"type\": \"heatmap\"}], \"heatmapgl\": [{\"colorbar\": {\"outlinewidth\": 0, \"ticks\": \"\"}, \"colorscale\": [[0.0, \"#0d0887\"], [0.1111111111111111, \"#46039f\"], [0.2222222222222222, \"#7201a8\"], [0.3333333333333333, \"#9c179e\"], [0.4444444444444444, \"#bd3786\"], [0.5555555555555556, \"#d8576b\"], [0.6666666666666666, \"#ed7953\"], [0.7777777777777778, \"#fb9f3a\"], [0.8888888888888888, \"#fdca26\"], [1.0, \"#f0f921\"]], \"type\": \"heatmapgl\"}], \"histogram\": [{\"marker\": {\"colorbar\": {\"outlinewidth\": 0, \"ticks\": \"\"}}, \"type\": \"histogram\"}], \"histogram2d\": [{\"colorbar\": {\"outlinewidth\": 0, \"ticks\": \"\"}, \"colorscale\": [[0.0, \"#0d0887\"], [0.1111111111111111, \"#46039f\"], [0.2222222222222222, \"#7201a8\"], [0.3333333333333333, \"#9c179e\"], [0.4444444444444444, \"#bd3786\"], [0.5555555555555556, \"#d8576b\"], [0.6666666666666666, \"#ed7953\"], [0.7777777777777778, \"#fb9f3a\"], [0.8888888888888888, \"#fdca26\"], [1.0, \"#f0f921\"]], \"type\": \"histogram2d\"}], \"histogram2dcontour\": [{\"colorbar\": {\"outlinewidth\": 0, \"ticks\": \"\"}, \"colorscale\": [[0.0, \"#0d0887\"], [0.1111111111111111, \"#46039f\"], [0.2222222222222222, \"#7201a8\"], [0.3333333333333333, \"#9c179e\"], [0.4444444444444444, \"#bd3786\"], [0.5555555555555556, \"#d8576b\"], [0.6666666666666666, \"#ed7953\"], [0.7777777777777778, \"#fb9f3a\"], [0.8888888888888888, \"#fdca26\"], [1.0, \"#f0f921\"]], \"type\": \"histogram2dcontour\"}], \"mesh3d\": [{\"colorbar\": {\"outlinewidth\": 0, \"ticks\": \"\"}, \"type\": \"mesh3d\"}], \"parcoords\": [{\"line\": {\"colorbar\": {\"outlinewidth\": 0, \"ticks\": \"\"}}, \"type\": \"parcoords\"}], \"pie\": [{\"automargin\": true, \"type\": \"pie\"}], \"scatter\": [{\"marker\": {\"colorbar\": {\"outlinewidth\": 0, \"ticks\": \"\"}}, \"type\": \"scatter\"}], \"scatter3d\": [{\"line\": {\"colorbar\": {\"outlinewidth\": 0, \"ticks\": \"\"}}, \"marker\": {\"colorbar\": {\"outlinewidth\": 0, \"ticks\": \"\"}}, \"type\": \"scatter3d\"}], \"scattercarpet\": [{\"marker\": {\"colorbar\": {\"outlinewidth\": 0, \"ticks\": \"\"}}, \"type\": \"scattercarpet\"}], \"scattergeo\": [{\"marker\": {\"colorbar\": {\"outlinewidth\": 0, \"ticks\": \"\"}}, \"type\": \"scattergeo\"}], \"scattergl\": [{\"marker\": {\"colorbar\": {\"outlinewidth\": 0, \"ticks\": \"\"}}, \"type\": \"scattergl\"}], \"scattermapbox\": [{\"marker\": {\"colorbar\": {\"outlinewidth\": 0, \"ticks\": \"\"}}, \"type\": \"scattermapbox\"}], \"scatterpolar\": [{\"marker\": {\"colorbar\": {\"outlinewidth\": 0, \"ticks\": \"\"}}, \"type\": \"scatterpolar\"}], \"scatterpolargl\": [{\"marker\": {\"colorbar\": {\"outlinewidth\": 0, \"ticks\": \"\"}}, \"type\": \"scatterpolargl\"}], \"scatterternary\": [{\"marker\": {\"colorbar\": {\"outlinewidth\": 0, \"ticks\": \"\"}}, \"type\": \"scatterternary\"}], \"surface\": [{\"colorbar\": {\"outlinewidth\": 0, \"ticks\": \"\"}, \"colorscale\": [[0.0, \"#0d0887\"], [0.1111111111111111, \"#46039f\"], [0.2222222222222222, \"#7201a8\"], [0.3333333333333333, \"#9c179e\"], [0.4444444444444444, \"#bd3786\"], [0.5555555555555556, \"#d8576b\"], [0.6666666666666666, \"#ed7953\"], [0.7777777777777778, \"#fb9f3a\"], [0.8888888888888888, \"#fdca26\"], [1.0, \"#f0f921\"]], \"type\": \"surface\"}], \"table\": [{\"cells\": {\"fill\": {\"color\": \"#EBF0F8\"}, \"line\": {\"color\": \"white\"}}, \"header\": {\"fill\": {\"color\": \"#C8D4E3\"}, \"line\": {\"color\": \"white\"}}, \"type\": \"table\"}]}, \"layout\": {\"annotationdefaults\": {\"arrowcolor\": \"#2a3f5f\", \"arrowhead\": 0, \"arrowwidth\": 1}, \"coloraxis\": {\"colorbar\": {\"outlinewidth\": 0, \"ticks\": \"\"}}, \"colorscale\": {\"diverging\": [[0, \"#8e0152\"], [0.1, \"#c51b7d\"], [0.2, \"#de77ae\"], [0.3, \"#f1b6da\"], [0.4, \"#fde0ef\"], [0.5, \"#f7f7f7\"], [0.6, \"#e6f5d0\"], [0.7, \"#b8e186\"], [0.8, \"#7fbc41\"], [0.9, \"#4d9221\"], [1, \"#276419\"]], \"sequential\": [[0.0, \"#0d0887\"], [0.1111111111111111, \"#46039f\"], [0.2222222222222222, \"#7201a8\"], [0.3333333333333333, \"#9c179e\"], [0.4444444444444444, \"#bd3786\"], [0.5555555555555556, \"#d8576b\"], [0.6666666666666666, \"#ed7953\"], [0.7777777777777778, \"#fb9f3a\"], [0.8888888888888888, \"#fdca26\"], [1.0, \"#f0f921\"]], \"sequentialminus\": [[0.0, \"#0d0887\"], [0.1111111111111111, \"#46039f\"], [0.2222222222222222, \"#7201a8\"], [0.3333333333333333, \"#9c179e\"], [0.4444444444444444, \"#bd3786\"], [0.5555555555555556, \"#d8576b\"], [0.6666666666666666, \"#ed7953\"], [0.7777777777777778, \"#fb9f3a\"], [0.8888888888888888, \"#fdca26\"], [1.0, \"#f0f921\"]]}, \"colorway\": [\"#636efa\", \"#EF553B\", \"#00cc96\", \"#ab63fa\", \"#FFA15A\", \"#19d3f3\", \"#FF6692\", \"#B6E880\", \"#FF97FF\", \"#FECB52\"], \"font\": {\"color\": \"#2a3f5f\"}, \"geo\": {\"bgcolor\": \"white\", \"lakecolor\": \"white\", \"landcolor\": \"#E5ECF6\", \"showlakes\": true, \"showland\": true, \"subunitcolor\": \"white\"}, \"hoverlabel\": {\"align\": \"left\"}, \"hovermode\": \"closest\", \"mapbox\": {\"style\": \"light\"}, \"paper_bgcolor\": \"white\", \"plot_bgcolor\": \"#E5ECF6\", \"polar\": {\"angularaxis\": {\"gridcolor\": \"white\", \"linecolor\": \"white\", \"ticks\": \"\"}, \"bgcolor\": \"#E5ECF6\", \"radialaxis\": {\"gridcolor\": \"white\", \"linecolor\": \"white\", \"ticks\": \"\"}}, \"scene\": {\"xaxis\": {\"backgroundcolor\": \"#E5ECF6\", \"gridcolor\": \"white\", \"gridwidth\": 2, \"linecolor\": \"white\", \"showbackground\": true, \"ticks\": \"\", \"zerolinecolor\": \"white\"}, \"yaxis\": {\"backgroundcolor\": \"#E5ECF6\", \"gridcolor\": \"white\", \"gridwidth\": 2, \"linecolor\": \"white\", \"showbackground\": true, \"ticks\": \"\", \"zerolinecolor\": \"white\"}, \"zaxis\": {\"backgroundcolor\": \"#E5ECF6\", \"gridcolor\": \"white\", \"gridwidth\": 2, \"linecolor\": \"white\", \"showbackground\": true, \"ticks\": \"\", \"zerolinecolor\": \"white\"}}, \"shapedefaults\": {\"line\": {\"color\": \"#2a3f5f\"}}, \"ternary\": {\"aaxis\": {\"gridcolor\": \"white\", \"linecolor\": \"white\", \"ticks\": \"\"}, \"baxis\": {\"gridcolor\": \"white\", \"linecolor\": \"white\", \"ticks\": \"\"}, \"bgcolor\": \"#E5ECF6\", \"caxis\": {\"gridcolor\": \"white\", \"linecolor\": \"white\", \"ticks\": \"\"}}, \"title\": {\"x\": 0.05}, \"xaxis\": {\"automargin\": true, \"gridcolor\": \"white\", \"linecolor\": \"white\", \"ticks\": \"\", \"title\": {\"standoff\": 15}, \"zerolinecolor\": \"white\", \"zerolinewidth\": 2}, \"yaxis\": {\"automargin\": true, \"gridcolor\": \"white\", \"linecolor\": \"white\", \"ticks\": \"\", \"title\": {\"standoff\": 15}, \"zerolinecolor\": \"white\", \"zerolinewidth\": 2}}}, \"title\": {\"font\": {\"color\": \"#4D5663\"}}, \"xaxis\": {\"gridcolor\": \"#E1E5ED\", \"showgrid\": true, \"tickfont\": {\"color\": \"#4D5663\"}, \"title\": {\"font\": {\"color\": \"#4D5663\"}, \"text\": \"\"}, \"zerolinecolor\": \"#E1E5ED\"}, \"yaxis\": {\"gridcolor\": \"#E1E5ED\", \"showgrid\": true, \"tickfont\": {\"color\": \"#4D5663\"}, \"title\": {\"font\": {\"color\": \"#4D5663\"}, \"text\": \"\"}, \"zerolinecolor\": \"#E1E5ED\"}},\n",
       "                        {\"showLink\": true, \"linkText\": \"Export to plot.ly\", \"plotlyServerURL\": \"https://plot.ly\", \"responsive\": true}\n",
       "                    ).then(function(){\n",
       "                            \n",
       "var gd = document.getElementById('f542de7e-e031-4013-b3e8-59b9db2edb1f');\n",
       "var x = new MutationObserver(function (mutations, observer) {{\n",
       "        var display = window.getComputedStyle(gd).display;\n",
       "        if (!display || display === 'none') {{\n",
       "            console.log([gd, 'removed!']);\n",
       "            Plotly.purge(gd);\n",
       "            observer.disconnect();\n",
       "        }}\n",
       "}});\n",
       "\n",
       "// Listen for the removal of the full notebook cells\n",
       "var notebookContainer = gd.closest('#notebook-container');\n",
       "if (notebookContainer) {{\n",
       "    x.observe(notebookContainer, {childList: true});\n",
       "}}\n",
       "\n",
       "// Listen for the clearing of the current output cell\n",
       "var outputEl = gd.closest('.output');\n",
       "if (outputEl) {{\n",
       "    x.observe(outputEl, {childList: true});\n",
       "}}\n",
       "\n",
       "                        })\n",
       "                };\n",
       "                });\n",
       "            </script>\n",
       "        </div>"
      ]
     },
     "metadata": {},
     "output_type": "display_data"
    }
   ],
   "source": [
    "df3 = pd.DataFrame({'x':[1,2,3,4,5],'y':[10,20,30,20,10],'z':[5,4,3,2,1]})\n",
    "df3.iplot(kind='surface',colorscale='rdylbu')"
   ]
  },
  {
   "cell_type": "markdown",
   "metadata": {},
   "source": [
    "## Spread"
   ]
  },
  {
   "cell_type": "code",
   "execution_count": 15,
   "metadata": {},
   "outputs": [
    {
     "data": {
      "application/vnd.plotly.v1+json": {
       "config": {
        "linkText": "Export to plot.ly",
        "plotlyServerURL": "https://plot.ly",
        "showLink": true
       },
       "data": [
        {
         "line": {
          "color": "rgba(255, 153, 51, 1.0)",
          "dash": "solid",
          "shape": "linear",
          "width": 1.3
         },
         "mode": "lines",
         "name": "A",
         "text": "",
         "type": "scatter",
         "x": [
          0,
          1,
          2,
          3,
          4,
          5,
          6,
          7,
          8,
          9,
          10,
          11,
          12,
          13,
          14,
          15,
          16,
          17,
          18,
          19,
          20,
          21,
          22,
          23,
          24,
          25,
          26,
          27,
          28,
          29,
          30,
          31,
          32,
          33,
          34,
          35,
          36,
          37,
          38,
          39,
          40,
          41,
          42,
          43,
          44,
          45,
          46,
          47,
          48,
          49,
          50,
          51,
          52,
          53,
          54,
          55,
          56,
          57,
          58,
          59,
          60,
          61,
          62,
          63,
          64,
          65,
          66,
          67,
          68,
          69,
          70,
          71,
          72,
          73,
          74,
          75,
          76,
          77,
          78,
          79,
          80,
          81,
          82,
          83,
          84,
          85,
          86,
          87,
          88,
          89,
          90,
          91,
          92,
          93,
          94,
          95,
          96,
          97,
          98,
          99
         ],
         "y": [
          -1.0099361673355667,
          -1.0284575537950853,
          -0.11589523503021203,
          -0.3871577102854481,
          -0.8802462358509756,
          -0.5073178289505085,
          -0.25872977857744495,
          -0.8451154146551735,
          -1.6753380560258833,
          -0.3197009244061666,
          -0.13563348234303227,
          -1.311691245631022,
          -1.249731033152953,
          0.17890604821843886,
          -1.128427638771329,
          -1.1636664744849745,
          -0.9412243713819362,
          -0.38570173042512107,
          -0.8003953490624793,
          0.8825029834565344,
          1.524337052036057,
          -0.23052058779768336,
          1.9285582193640014,
          -0.872188772166427,
          -0.3176075253149898,
          2.606580520825616,
          -1.1995356504360102,
          -0.5183516090778959,
          -0.04436142535581713,
          -0.18480369022350523,
          -1.7547311219167303,
          0.4348163458344423,
          0.02896010894576578,
          1.1883323868662738,
          1.6732989603111974,
          -0.8210953393613368,
          0.5004305409127747,
          -0.22178532385423305,
          -0.7454328674035887,
          2.1180173982206956,
          1.190563692517457,
          0.3138573805554352,
          -0.9935779216404051,
          -0.3647175556508881,
          0.5068831822214218,
          0.20910917496939357,
          0.577713713083106,
          -0.29978283141123724,
          -0.2873028727788575,
          -0.46363559405313143,
          -0.9206774761598664,
          -0.755950329387749,
          0.7922037497771531,
          -0.8795695353900919,
          0.28776576333898585,
          -0.23417565168839716,
          -1.9708555241106436,
          0.9824316178908786,
          -1.98662055858986,
          -0.7296201496003367,
          0.7238839666288359,
          1.5974689722403834,
          1.801589947153041,
          -0.7232840189194383,
          -1.0681986697213794,
          -0.5992838692605261,
          2.239239240441496,
          -0.2396645330815824,
          -0.04239926731173785,
          0.8738657260289925,
          -0.8714936725210958,
          1.0533376696933532,
          0.028493839037042872,
          0.9603494061902195,
          0.8199228021104203,
          1.4708360154901292,
          -1.104738720637537,
          -1.6868861956709762,
          1.0938651017022927,
          2.1390860039617507,
          -0.3705530670203375,
          -0.18840168960734383,
          0.42753386535746246,
          0.6980400869787413,
          -0.6402916416160395,
          -0.02222079553462808,
          -0.4216825148927192,
          0.280887190385779,
          -0.643768601883412,
          -0.6875539894115286,
          -1.3443114433014156,
          -0.25555254723379944,
          1.2335524942281835,
          -0.09161187909282938,
          1.0278257484361688,
          -0.514950707958829,
          -1.6295755204874562,
          -0.53058233036871,
          -0.06432271315517117,
          -0.4852358829857144
         ]
        },
        {
         "line": {
          "color": "rgba(55, 128, 191, 1.0)",
          "dash": "solid",
          "shape": "linear",
          "width": 1.3
         },
         "mode": "lines",
         "name": "B",
         "text": "",
         "type": "scatter",
         "x": [
          0,
          1,
          2,
          3,
          4,
          5,
          6,
          7,
          8,
          9,
          10,
          11,
          12,
          13,
          14,
          15,
          16,
          17,
          18,
          19,
          20,
          21,
          22,
          23,
          24,
          25,
          26,
          27,
          28,
          29,
          30,
          31,
          32,
          33,
          34,
          35,
          36,
          37,
          38,
          39,
          40,
          41,
          42,
          43,
          44,
          45,
          46,
          47,
          48,
          49,
          50,
          51,
          52,
          53,
          54,
          55,
          56,
          57,
          58,
          59,
          60,
          61,
          62,
          63,
          64,
          65,
          66,
          67,
          68,
          69,
          70,
          71,
          72,
          73,
          74,
          75,
          76,
          77,
          78,
          79,
          80,
          81,
          82,
          83,
          84,
          85,
          86,
          87,
          88,
          89,
          90,
          91,
          92,
          93,
          94,
          95,
          96,
          97,
          98,
          99
         ],
         "y": [
          0.744450190015796,
          1.1894557449729342,
          0.6014866195311764,
          -0.8880130958919555,
          0.2634422442550224,
          0.6626931843686664,
          -1.1250880401227368,
          0.4771603153029794,
          -0.1490065026960575,
          -0.9623205020230357,
          1.4401318165613903,
          1.4082689738738148,
          0.10270692830268753,
          0.01425779846376388,
          -1.480304960527278,
          -0.824423835202117,
          -0.5511105572426905,
          0.15703184361306663,
          0.9234900532311175,
          0.1613158759882807,
          -0.644491423073877,
          -1.2120176461084518,
          1.016181721468633,
          -0.6319609682834901,
          -0.24129550029875582,
          0.553567424049745,
          -0.62444452813727,
          0.22496068588193177,
          0.8743351098471469,
          1.7059386069757694,
          -1.9206327186061418,
          0.7686062004369781,
          -1.259648403612559,
          0.1096277410328048,
          0.9387094528772576,
          -0.27461979313709567,
          1.6207957707630838,
          0.06169141959846879,
          -0.4865658395535811,
          -0.5858756480838269,
          -0.8884612999138807,
          0.13300720372341124,
          1.2981909174656012,
          0.34230516992051746,
          0.4919371479311787,
          0.36239582310865504,
          -0.7208562108905195,
          0.6914975574734396,
          0.36195579934636735,
          -0.22232409309193057,
          0.065663078950636,
          0.1985313405036117,
          1.6933038949156938,
          -0.46264733238674816,
          1.7763447430055253,
          -0.640759791350102,
          -0.6793491505404466,
          0.4267992066295522,
          -1.1422053149767915,
          -0.7766786239708781,
          0.8754471153083129,
          -0.8903352167441764,
          -0.8840619009663945,
          -0.3280940175291615,
          0.3685108324294671,
          -0.5897320779624863,
          0.5219386165501887,
          0.10200882724863404,
          -0.30850418604752317,
          -0.08803823463831988,
          -1.557089116787949,
          0.5682957147945388,
          0.5278400244507687,
          1.4323269258374178,
          0.5576802769913602,
          2.204605797704065,
          -0.535349852025295,
          1.1789203019870378,
          0.30611952626236455,
          0.45594684826678866,
          1.8433513627069207,
          0.4245202276944359,
          1.031079593495038,
          1.5566392860476528,
          -0.5803530558234599,
          -1.252281916948563,
          -0.7086537222484671,
          0.5936620950802783,
          0.4854826118308957,
          -0.13808162235319374,
          0.07744183888892246,
          0.5157739214893406,
          0.1884566433660276,
          0.5637646438290826,
          -0.06990828503654249,
          0.8880289293608626,
          0.5309382058701448,
          -2.150688191460801,
          -1.0081065888477767,
          -0.6843264190330478
         ]
        },
        {
         "connectgaps": false,
         "fill": "tozeroy",
         "line": {
          "color": "green",
          "dash": "solid",
          "shape": "linear",
          "width": 0.5
         },
         "mode": "lines",
         "name": "Spread",
         "showlegend": false,
         "type": "scatter",
         "x": [
          0,
          1,
          2,
          3,
          4,
          5,
          6,
          7,
          8,
          9,
          10,
          11,
          12,
          13,
          14,
          15,
          16,
          17,
          18,
          19,
          20,
          21,
          22,
          23,
          24,
          25,
          26,
          27,
          28,
          29,
          30,
          31,
          32,
          33,
          34,
          35,
          36,
          37,
          38,
          39,
          40,
          41,
          42,
          43,
          44,
          45,
          46,
          47,
          48,
          49,
          50,
          51,
          52,
          53,
          54,
          55,
          56,
          57,
          58,
          59,
          60,
          61,
          62,
          63,
          64,
          65,
          66,
          67,
          68,
          69,
          70,
          71,
          72,
          73,
          74,
          75,
          76,
          77,
          78,
          79,
          80,
          81,
          82,
          83,
          84,
          85,
          86,
          87,
          88,
          89,
          90,
          91,
          92,
          93,
          94,
          95,
          96,
          97,
          98,
          99
         ],
         "xaxis": "x2",
         "y": [
          "",
          "",
          "",
          0.5008553856065074,
          "",
          "",
          0.8663582615452918,
          "",
          "",
          0.642619577616869,
          "",
          "",
          "",
          0.16464824975467499,
          0.351877321755949,
          "",
          "",
          "",
          "",
          0.7211871074682538,
          2.168828475109934,
          0.9814970583107684,
          0.9123764978953683,
          "",
          "",
          2.053013096775871,
          "",
          "",
          "",
          "",
          0.1659015966894115,
          "",
          1.2886085125583249,
          1.078704645833469,
          0.7345895074339398,
          "",
          "",
          "",
          "",
          2.7038930463045223,
          2.0790249924313375,
          0.18085017683202398,
          "",
          "",
          0.014946034290243104,
          "",
          1.2985699239736257,
          "",
          "",
          "",
          "",
          "",
          "",
          "",
          "",
          0.4065841396617048,
          "",
          0.5556324112613265,
          "",
          0.04705847437054134,
          "",
          2.4878041889845597,
          2.6856518481194356,
          "",
          "",
          "",
          1.7173006238913073,
          "",
          0.26610491873578535,
          0.9619039606673123,
          0.6855954442668533,
          0.4850419548988144,
          "",
          "",
          0.2622425251190601,
          "",
          "",
          "",
          0.7877455754399281,
          1.683139155694962,
          "",
          "",
          "",
          "",
          "",
          1.230061121413935,
          0.28697120735574794,
          "",
          "",
          "",
          "",
          "",
          1.045095850862156,
          "",
          1.0977340334727113,
          "",
          "",
          1.620105861092091,
          0.9437838756926056,
          0.1990905360473334
         ],
         "yaxis": "y2"
        },
        {
         "connectgaps": false,
         "fill": "tozeroy",
         "line": {
          "color": "red",
          "dash": "solid",
          "shape": "linear",
          "width": 0.5
         },
         "mode": "lines",
         "name": "Spread",
         "showlegend": false,
         "type": "scatter",
         "x": [
          0,
          1,
          2,
          3,
          4,
          5,
          6,
          7,
          8,
          9,
          10,
          11,
          12,
          13,
          14,
          15,
          16,
          17,
          18,
          19,
          20,
          21,
          22,
          23,
          24,
          25,
          26,
          27,
          28,
          29,
          30,
          31,
          32,
          33,
          34,
          35,
          36,
          37,
          38,
          39,
          40,
          41,
          42,
          43,
          44,
          45,
          46,
          47,
          48,
          49,
          50,
          51,
          52,
          53,
          54,
          55,
          56,
          57,
          58,
          59,
          60,
          61,
          62,
          63,
          64,
          65,
          66,
          67,
          68,
          69,
          70,
          71,
          72,
          73,
          74,
          75,
          76,
          77,
          78,
          79,
          80,
          81,
          82,
          83,
          84,
          85,
          86,
          87,
          88,
          89,
          90,
          91,
          92,
          93,
          94,
          95,
          96,
          97,
          98,
          99
         ],
         "xaxis": "x2",
         "y": [
          -1.7543863573513627,
          -2.2179132987680195,
          -0.7173818545613885,
          "",
          -1.143688480105998,
          -1.1700110133191748,
          "",
          -1.322275729958153,
          -1.5263315533298258,
          "",
          -1.5757652989044226,
          -2.719960219504837,
          -1.3524379614556405,
          "",
          "",
          -0.33924263928285747,
          -0.3901138141392456,
          -0.5427335740381877,
          -1.7238854022935968,
          "",
          "",
          "",
          "",
          -0.24022780388293685,
          -0.07631202501623399,
          "",
          -0.5750911222987402,
          -0.7433122949598276,
          -0.918696535202964,
          -1.8907422971992747,
          "",
          -0.33378985460253585,
          "",
          "",
          "",
          -0.5464755462242412,
          -1.120365229850309,
          -0.28347674345270185,
          -0.2588670278500076,
          "",
          "",
          "",
          -2.2917688391060063,
          -0.7070227255714056,
          "",
          -0.15328664813926146,
          "",
          -0.9912803888846768,
          -0.6492586721252249,
          -0.24131150096120085,
          -0.9863405551105024,
          -0.9544816698913607,
          -0.9011001451385406,
          -0.4169222030033437,
          -1.4885789796665394,
          "",
          -1.291506373570197,
          "",
          -0.8444152436130685,
          "",
          -0.15156314867947696,
          "",
          "",
          -0.39519000139027677,
          -1.4367095021508465,
          -0.009551791298039847,
          "",
          -0.34167336033021645,
          "",
          "",
          "",
          "",
          -0.49934618541372583,
          -0.47197751964719836,
          "",
          -0.7337697822139357,
          -0.569388868612242,
          -2.865806497658014,
          "",
          "",
          -2.213904429727258,
          -0.6129219173017797,
          -0.6035457281375756,
          -0.8585991990689115,
          -0.0599385857925796,
          "",
          "",
          -0.31277490469449937,
          -1.1292512137143076,
          -0.5494723670583348,
          -1.421753282190338,
          -0.77132646872314,
          "",
          -0.6553765229219121,
          "",
          -1.4029796373196917,
          -2.160513726357601,
          "",
          "",
          ""
         ],
         "yaxis": "y2"
        }
       ],
       "layout": {
        "hovermode": "x",
        "legend": {
         "bgcolor": "#F5F6F9",
         "font": {
          "color": "#4D5663"
         }
        },
        "paper_bgcolor": "#F5F6F9",
        "plot_bgcolor": "#F5F6F9",
        "template": {
         "data": {
          "bar": [
           {
            "error_x": {
             "color": "#2a3f5f"
            },
            "error_y": {
             "color": "#2a3f5f"
            },
            "marker": {
             "line": {
              "color": "#E5ECF6",
              "width": 0.5
             }
            },
            "type": "bar"
           }
          ],
          "barpolar": [
           {
            "marker": {
             "line": {
              "color": "#E5ECF6",
              "width": 0.5
             }
            },
            "type": "barpolar"
           }
          ],
          "carpet": [
           {
            "aaxis": {
             "endlinecolor": "#2a3f5f",
             "gridcolor": "white",
             "linecolor": "white",
             "minorgridcolor": "white",
             "startlinecolor": "#2a3f5f"
            },
            "baxis": {
             "endlinecolor": "#2a3f5f",
             "gridcolor": "white",
             "linecolor": "white",
             "minorgridcolor": "white",
             "startlinecolor": "#2a3f5f"
            },
            "type": "carpet"
           }
          ],
          "choropleth": [
           {
            "colorbar": {
             "outlinewidth": 0,
             "ticks": ""
            },
            "type": "choropleth"
           }
          ],
          "contour": [
           {
            "colorbar": {
             "outlinewidth": 0,
             "ticks": ""
            },
            "colorscale": [
             [
              0,
              "#0d0887"
             ],
             [
              0.1111111111111111,
              "#46039f"
             ],
             [
              0.2222222222222222,
              "#7201a8"
             ],
             [
              0.3333333333333333,
              "#9c179e"
             ],
             [
              0.4444444444444444,
              "#bd3786"
             ],
             [
              0.5555555555555556,
              "#d8576b"
             ],
             [
              0.6666666666666666,
              "#ed7953"
             ],
             [
              0.7777777777777778,
              "#fb9f3a"
             ],
             [
              0.8888888888888888,
              "#fdca26"
             ],
             [
              1,
              "#f0f921"
             ]
            ],
            "type": "contour"
           }
          ],
          "contourcarpet": [
           {
            "colorbar": {
             "outlinewidth": 0,
             "ticks": ""
            },
            "type": "contourcarpet"
           }
          ],
          "heatmap": [
           {
            "colorbar": {
             "outlinewidth": 0,
             "ticks": ""
            },
            "colorscale": [
             [
              0,
              "#0d0887"
             ],
             [
              0.1111111111111111,
              "#46039f"
             ],
             [
              0.2222222222222222,
              "#7201a8"
             ],
             [
              0.3333333333333333,
              "#9c179e"
             ],
             [
              0.4444444444444444,
              "#bd3786"
             ],
             [
              0.5555555555555556,
              "#d8576b"
             ],
             [
              0.6666666666666666,
              "#ed7953"
             ],
             [
              0.7777777777777778,
              "#fb9f3a"
             ],
             [
              0.8888888888888888,
              "#fdca26"
             ],
             [
              1,
              "#f0f921"
             ]
            ],
            "type": "heatmap"
           }
          ],
          "heatmapgl": [
           {
            "colorbar": {
             "outlinewidth": 0,
             "ticks": ""
            },
            "colorscale": [
             [
              0,
              "#0d0887"
             ],
             [
              0.1111111111111111,
              "#46039f"
             ],
             [
              0.2222222222222222,
              "#7201a8"
             ],
             [
              0.3333333333333333,
              "#9c179e"
             ],
             [
              0.4444444444444444,
              "#bd3786"
             ],
             [
              0.5555555555555556,
              "#d8576b"
             ],
             [
              0.6666666666666666,
              "#ed7953"
             ],
             [
              0.7777777777777778,
              "#fb9f3a"
             ],
             [
              0.8888888888888888,
              "#fdca26"
             ],
             [
              1,
              "#f0f921"
             ]
            ],
            "type": "heatmapgl"
           }
          ],
          "histogram": [
           {
            "marker": {
             "colorbar": {
              "outlinewidth": 0,
              "ticks": ""
             }
            },
            "type": "histogram"
           }
          ],
          "histogram2d": [
           {
            "colorbar": {
             "outlinewidth": 0,
             "ticks": ""
            },
            "colorscale": [
             [
              0,
              "#0d0887"
             ],
             [
              0.1111111111111111,
              "#46039f"
             ],
             [
              0.2222222222222222,
              "#7201a8"
             ],
             [
              0.3333333333333333,
              "#9c179e"
             ],
             [
              0.4444444444444444,
              "#bd3786"
             ],
             [
              0.5555555555555556,
              "#d8576b"
             ],
             [
              0.6666666666666666,
              "#ed7953"
             ],
             [
              0.7777777777777778,
              "#fb9f3a"
             ],
             [
              0.8888888888888888,
              "#fdca26"
             ],
             [
              1,
              "#f0f921"
             ]
            ],
            "type": "histogram2d"
           }
          ],
          "histogram2dcontour": [
           {
            "colorbar": {
             "outlinewidth": 0,
             "ticks": ""
            },
            "colorscale": [
             [
              0,
              "#0d0887"
             ],
             [
              0.1111111111111111,
              "#46039f"
             ],
             [
              0.2222222222222222,
              "#7201a8"
             ],
             [
              0.3333333333333333,
              "#9c179e"
             ],
             [
              0.4444444444444444,
              "#bd3786"
             ],
             [
              0.5555555555555556,
              "#d8576b"
             ],
             [
              0.6666666666666666,
              "#ed7953"
             ],
             [
              0.7777777777777778,
              "#fb9f3a"
             ],
             [
              0.8888888888888888,
              "#fdca26"
             ],
             [
              1,
              "#f0f921"
             ]
            ],
            "type": "histogram2dcontour"
           }
          ],
          "mesh3d": [
           {
            "colorbar": {
             "outlinewidth": 0,
             "ticks": ""
            },
            "type": "mesh3d"
           }
          ],
          "parcoords": [
           {
            "line": {
             "colorbar": {
              "outlinewidth": 0,
              "ticks": ""
             }
            },
            "type": "parcoords"
           }
          ],
          "pie": [
           {
            "automargin": true,
            "type": "pie"
           }
          ],
          "scatter": [
           {
            "marker": {
             "colorbar": {
              "outlinewidth": 0,
              "ticks": ""
             }
            },
            "type": "scatter"
           }
          ],
          "scatter3d": [
           {
            "line": {
             "colorbar": {
              "outlinewidth": 0,
              "ticks": ""
             }
            },
            "marker": {
             "colorbar": {
              "outlinewidth": 0,
              "ticks": ""
             }
            },
            "type": "scatter3d"
           }
          ],
          "scattercarpet": [
           {
            "marker": {
             "colorbar": {
              "outlinewidth": 0,
              "ticks": ""
             }
            },
            "type": "scattercarpet"
           }
          ],
          "scattergeo": [
           {
            "marker": {
             "colorbar": {
              "outlinewidth": 0,
              "ticks": ""
             }
            },
            "type": "scattergeo"
           }
          ],
          "scattergl": [
           {
            "marker": {
             "colorbar": {
              "outlinewidth": 0,
              "ticks": ""
             }
            },
            "type": "scattergl"
           }
          ],
          "scattermapbox": [
           {
            "marker": {
             "colorbar": {
              "outlinewidth": 0,
              "ticks": ""
             }
            },
            "type": "scattermapbox"
           }
          ],
          "scatterpolar": [
           {
            "marker": {
             "colorbar": {
              "outlinewidth": 0,
              "ticks": ""
             }
            },
            "type": "scatterpolar"
           }
          ],
          "scatterpolargl": [
           {
            "marker": {
             "colorbar": {
              "outlinewidth": 0,
              "ticks": ""
             }
            },
            "type": "scatterpolargl"
           }
          ],
          "scatterternary": [
           {
            "marker": {
             "colorbar": {
              "outlinewidth": 0,
              "ticks": ""
             }
            },
            "type": "scatterternary"
           }
          ],
          "surface": [
           {
            "colorbar": {
             "outlinewidth": 0,
             "ticks": ""
            },
            "colorscale": [
             [
              0,
              "#0d0887"
             ],
             [
              0.1111111111111111,
              "#46039f"
             ],
             [
              0.2222222222222222,
              "#7201a8"
             ],
             [
              0.3333333333333333,
              "#9c179e"
             ],
             [
              0.4444444444444444,
              "#bd3786"
             ],
             [
              0.5555555555555556,
              "#d8576b"
             ],
             [
              0.6666666666666666,
              "#ed7953"
             ],
             [
              0.7777777777777778,
              "#fb9f3a"
             ],
             [
              0.8888888888888888,
              "#fdca26"
             ],
             [
              1,
              "#f0f921"
             ]
            ],
            "type": "surface"
           }
          ],
          "table": [
           {
            "cells": {
             "fill": {
              "color": "#EBF0F8"
             },
             "line": {
              "color": "white"
             }
            },
            "header": {
             "fill": {
              "color": "#C8D4E3"
             },
             "line": {
              "color": "white"
             }
            },
            "type": "table"
           }
          ]
         },
         "layout": {
          "annotationdefaults": {
           "arrowcolor": "#2a3f5f",
           "arrowhead": 0,
           "arrowwidth": 1
          },
          "coloraxis": {
           "colorbar": {
            "outlinewidth": 0,
            "ticks": ""
           }
          },
          "colorscale": {
           "diverging": [
            [
             0,
             "#8e0152"
            ],
            [
             0.1,
             "#c51b7d"
            ],
            [
             0.2,
             "#de77ae"
            ],
            [
             0.3,
             "#f1b6da"
            ],
            [
             0.4,
             "#fde0ef"
            ],
            [
             0.5,
             "#f7f7f7"
            ],
            [
             0.6,
             "#e6f5d0"
            ],
            [
             0.7,
             "#b8e186"
            ],
            [
             0.8,
             "#7fbc41"
            ],
            [
             0.9,
             "#4d9221"
            ],
            [
             1,
             "#276419"
            ]
           ],
           "sequential": [
            [
             0,
             "#0d0887"
            ],
            [
             0.1111111111111111,
             "#46039f"
            ],
            [
             0.2222222222222222,
             "#7201a8"
            ],
            [
             0.3333333333333333,
             "#9c179e"
            ],
            [
             0.4444444444444444,
             "#bd3786"
            ],
            [
             0.5555555555555556,
             "#d8576b"
            ],
            [
             0.6666666666666666,
             "#ed7953"
            ],
            [
             0.7777777777777778,
             "#fb9f3a"
            ],
            [
             0.8888888888888888,
             "#fdca26"
            ],
            [
             1,
             "#f0f921"
            ]
           ],
           "sequentialminus": [
            [
             0,
             "#0d0887"
            ],
            [
             0.1111111111111111,
             "#46039f"
            ],
            [
             0.2222222222222222,
             "#7201a8"
            ],
            [
             0.3333333333333333,
             "#9c179e"
            ],
            [
             0.4444444444444444,
             "#bd3786"
            ],
            [
             0.5555555555555556,
             "#d8576b"
            ],
            [
             0.6666666666666666,
             "#ed7953"
            ],
            [
             0.7777777777777778,
             "#fb9f3a"
            ],
            [
             0.8888888888888888,
             "#fdca26"
            ],
            [
             1,
             "#f0f921"
            ]
           ]
          },
          "colorway": [
           "#636efa",
           "#EF553B",
           "#00cc96",
           "#ab63fa",
           "#FFA15A",
           "#19d3f3",
           "#FF6692",
           "#B6E880",
           "#FF97FF",
           "#FECB52"
          ],
          "font": {
           "color": "#2a3f5f"
          },
          "geo": {
           "bgcolor": "white",
           "lakecolor": "white",
           "landcolor": "#E5ECF6",
           "showlakes": true,
           "showland": true,
           "subunitcolor": "white"
          },
          "hoverlabel": {
           "align": "left"
          },
          "hovermode": "closest",
          "mapbox": {
           "style": "light"
          },
          "paper_bgcolor": "white",
          "plot_bgcolor": "#E5ECF6",
          "polar": {
           "angularaxis": {
            "gridcolor": "white",
            "linecolor": "white",
            "ticks": ""
           },
           "bgcolor": "#E5ECF6",
           "radialaxis": {
            "gridcolor": "white",
            "linecolor": "white",
            "ticks": ""
           }
          },
          "scene": {
           "xaxis": {
            "backgroundcolor": "#E5ECF6",
            "gridcolor": "white",
            "gridwidth": 2,
            "linecolor": "white",
            "showbackground": true,
            "ticks": "",
            "zerolinecolor": "white"
           },
           "yaxis": {
            "backgroundcolor": "#E5ECF6",
            "gridcolor": "white",
            "gridwidth": 2,
            "linecolor": "white",
            "showbackground": true,
            "ticks": "",
            "zerolinecolor": "white"
           },
           "zaxis": {
            "backgroundcolor": "#E5ECF6",
            "gridcolor": "white",
            "gridwidth": 2,
            "linecolor": "white",
            "showbackground": true,
            "ticks": "",
            "zerolinecolor": "white"
           }
          },
          "shapedefaults": {
           "line": {
            "color": "#2a3f5f"
           }
          },
          "ternary": {
           "aaxis": {
            "gridcolor": "white",
            "linecolor": "white",
            "ticks": ""
           },
           "baxis": {
            "gridcolor": "white",
            "linecolor": "white",
            "ticks": ""
           },
           "bgcolor": "#E5ECF6",
           "caxis": {
            "gridcolor": "white",
            "linecolor": "white",
            "ticks": ""
           }
          },
          "title": {
           "x": 0.05
          },
          "xaxis": {
           "automargin": true,
           "gridcolor": "white",
           "linecolor": "white",
           "ticks": "",
           "title": {
            "standoff": 15
           },
           "zerolinecolor": "white",
           "zerolinewidth": 2
          },
          "yaxis": {
           "automargin": true,
           "gridcolor": "white",
           "linecolor": "white",
           "ticks": "",
           "title": {
            "standoff": 15
           },
           "zerolinecolor": "white",
           "zerolinewidth": 2
          }
         }
        },
        "title": {
         "font": {
          "color": "#4D5663"
         }
        },
        "xaxis": {
         "gridcolor": "#E1E5ED",
         "showgrid": true,
         "tickfont": {
          "color": "#4D5663"
         },
         "title": {
          "font": {
           "color": "#4D5663"
          },
          "text": ""
         },
         "zerolinecolor": "#E1E5ED"
        },
        "xaxis2": {
         "anchor": "y2",
         "gridcolor": "#E1E5ED",
         "showgrid": true,
         "showticklabels": false,
         "tickfont": {
          "color": "#4D5663"
         },
         "title": {
          "font": {
           "color": "#4D5663"
          },
          "text": ""
         },
         "zerolinecolor": "#E1E5ED"
        },
        "yaxis": {
         "domain": [
          0.3,
          1
         ],
         "gridcolor": "#E1E5ED",
         "showgrid": true,
         "tickfont": {
          "color": "#4D5663"
         },
         "title": {
          "font": {
           "color": "#4D5663"
          },
          "text": ""
         },
         "zerolinecolor": "#E1E5ED"
        },
        "yaxis2": {
         "domain": [
          0,
          0.25
         ],
         "gridcolor": "#E1E5ED",
         "showgrid": true,
         "tickfont": {
          "color": "#4D5663"
         },
         "title": {
          "font": {
           "color": "#4D5663"
          },
          "text": "Spread"
         },
         "zerolinecolor": "#E1E5ED"
        }
       }
      },
      "text/html": [
       "<div>\n",
       "        \n",
       "        \n",
       "            <div id=\"b6d1cee6-561c-49fc-9a66-cead9386e764\" class=\"plotly-graph-div\" style=\"height:525px; width:100%;\"></div>\n",
       "            <script type=\"text/javascript\">\n",
       "                require([\"plotly\"], function(Plotly) {\n",
       "                    window.PLOTLYENV=window.PLOTLYENV || {};\n",
       "                    window.PLOTLYENV.BASE_URL='https://plot.ly';\n",
       "                    \n",
       "                if (document.getElementById(\"b6d1cee6-561c-49fc-9a66-cead9386e764\")) {\n",
       "                    Plotly.newPlot(\n",
       "                        'b6d1cee6-561c-49fc-9a66-cead9386e764',\n",
       "                        [{\"line\": {\"color\": \"rgba(255, 153, 51, 1.0)\", \"dash\": \"solid\", \"shape\": \"linear\", \"width\": 1.3}, \"mode\": \"lines\", \"name\": \"A\", \"text\": \"\", \"type\": \"scatter\", \"x\": [0, 1, 2, 3, 4, 5, 6, 7, 8, 9, 10, 11, 12, 13, 14, 15, 16, 17, 18, 19, 20, 21, 22, 23, 24, 25, 26, 27, 28, 29, 30, 31, 32, 33, 34, 35, 36, 37, 38, 39, 40, 41, 42, 43, 44, 45, 46, 47, 48, 49, 50, 51, 52, 53, 54, 55, 56, 57, 58, 59, 60, 61, 62, 63, 64, 65, 66, 67, 68, 69, 70, 71, 72, 73, 74, 75, 76, 77, 78, 79, 80, 81, 82, 83, 84, 85, 86, 87, 88, 89, 90, 91, 92, 93, 94, 95, 96, 97, 98, 99], \"y\": [-1.0099361673355667, -1.0284575537950853, -0.11589523503021203, -0.3871577102854481, -0.8802462358509756, -0.5073178289505085, -0.25872977857744495, -0.8451154146551735, -1.6753380560258833, -0.3197009244061666, -0.13563348234303227, -1.311691245631022, -1.249731033152953, 0.17890604821843886, -1.128427638771329, -1.1636664744849745, -0.9412243713819362, -0.38570173042512107, -0.8003953490624793, 0.8825029834565344, 1.524337052036057, -0.23052058779768336, 1.9285582193640014, -0.872188772166427, -0.3176075253149898, 2.606580520825616, -1.1995356504360102, -0.5183516090778959, -0.04436142535581713, -0.18480369022350523, -1.7547311219167303, 0.4348163458344423, 0.02896010894576578, 1.1883323868662738, 1.6732989603111974, -0.8210953393613368, 0.5004305409127747, -0.22178532385423305, -0.7454328674035887, 2.1180173982206956, 1.190563692517457, 0.3138573805554352, -0.9935779216404051, -0.3647175556508881, 0.5068831822214218, 0.20910917496939357, 0.577713713083106, -0.29978283141123724, -0.2873028727788575, -0.46363559405313143, -0.9206774761598664, -0.755950329387749, 0.7922037497771531, -0.8795695353900919, 0.28776576333898585, -0.23417565168839716, -1.9708555241106436, 0.9824316178908786, -1.98662055858986, -0.7296201496003367, 0.7238839666288359, 1.5974689722403834, 1.801589947153041, -0.7232840189194383, -1.0681986697213794, -0.5992838692605261, 2.239239240441496, -0.2396645330815824, -0.04239926731173785, 0.8738657260289925, -0.8714936725210958, 1.0533376696933532, 0.028493839037042872, 0.9603494061902195, 0.8199228021104203, 1.4708360154901292, -1.104738720637537, -1.6868861956709762, 1.0938651017022927, 2.1390860039617507, -0.3705530670203375, -0.18840168960734383, 0.42753386535746246, 0.6980400869787413, -0.6402916416160395, -0.02222079553462808, -0.4216825148927192, 0.280887190385779, -0.643768601883412, -0.6875539894115286, -1.3443114433014156, -0.25555254723379944, 1.2335524942281835, -0.09161187909282938, 1.0278257484361688, -0.514950707958829, -1.6295755204874562, -0.53058233036871, -0.06432271315517117, -0.4852358829857144]}, {\"line\": {\"color\": \"rgba(55, 128, 191, 1.0)\", \"dash\": \"solid\", \"shape\": \"linear\", \"width\": 1.3}, \"mode\": \"lines\", \"name\": \"B\", \"text\": \"\", \"type\": \"scatter\", \"x\": [0, 1, 2, 3, 4, 5, 6, 7, 8, 9, 10, 11, 12, 13, 14, 15, 16, 17, 18, 19, 20, 21, 22, 23, 24, 25, 26, 27, 28, 29, 30, 31, 32, 33, 34, 35, 36, 37, 38, 39, 40, 41, 42, 43, 44, 45, 46, 47, 48, 49, 50, 51, 52, 53, 54, 55, 56, 57, 58, 59, 60, 61, 62, 63, 64, 65, 66, 67, 68, 69, 70, 71, 72, 73, 74, 75, 76, 77, 78, 79, 80, 81, 82, 83, 84, 85, 86, 87, 88, 89, 90, 91, 92, 93, 94, 95, 96, 97, 98, 99], \"y\": [0.744450190015796, 1.1894557449729342, 0.6014866195311764, -0.8880130958919555, 0.2634422442550224, 0.6626931843686664, -1.1250880401227368, 0.4771603153029794, -0.1490065026960575, -0.9623205020230357, 1.4401318165613903, 1.4082689738738148, 0.10270692830268753, 0.01425779846376388, -1.480304960527278, -0.824423835202117, -0.5511105572426905, 0.15703184361306663, 0.9234900532311175, 0.1613158759882807, -0.644491423073877, -1.2120176461084518, 1.016181721468633, -0.6319609682834901, -0.24129550029875582, 0.553567424049745, -0.62444452813727, 0.22496068588193177, 0.8743351098471469, 1.7059386069757694, -1.9206327186061418, 0.7686062004369781, -1.259648403612559, 0.1096277410328048, 0.9387094528772576, -0.27461979313709567, 1.6207957707630838, 0.06169141959846879, -0.4865658395535811, -0.5858756480838269, -0.8884612999138807, 0.13300720372341124, 1.2981909174656012, 0.34230516992051746, 0.4919371479311787, 0.36239582310865504, -0.7208562108905195, 0.6914975574734396, 0.36195579934636735, -0.22232409309193057, 0.065663078950636, 0.1985313405036117, 1.6933038949156938, -0.46264733238674816, 1.7763447430055253, -0.640759791350102, -0.6793491505404466, 0.4267992066295522, -1.1422053149767915, -0.7766786239708781, 0.8754471153083129, -0.8903352167441764, -0.8840619009663945, -0.3280940175291615, 0.3685108324294671, -0.5897320779624863, 0.5219386165501887, 0.10200882724863404, -0.30850418604752317, -0.08803823463831988, -1.557089116787949, 0.5682957147945388, 0.5278400244507687, 1.4323269258374178, 0.5576802769913602, 2.204605797704065, -0.535349852025295, 1.1789203019870378, 0.30611952626236455, 0.45594684826678866, 1.8433513627069207, 0.4245202276944359, 1.031079593495038, 1.5566392860476528, -0.5803530558234599, -1.252281916948563, -0.7086537222484671, 0.5936620950802783, 0.4854826118308957, -0.13808162235319374, 0.07744183888892246, 0.5157739214893406, 0.1884566433660276, 0.5637646438290826, -0.06990828503654249, 0.8880289293608626, 0.5309382058701448, -2.150688191460801, -1.0081065888477767, -0.6843264190330478]}, {\"connectgaps\": false, \"fill\": \"tozeroy\", \"line\": {\"color\": \"green\", \"dash\": \"solid\", \"shape\": \"linear\", \"width\": 0.5}, \"mode\": \"lines\", \"name\": \"Spread\", \"showlegend\": false, \"type\": \"scatter\", \"x\": [0, 1, 2, 3, 4, 5, 6, 7, 8, 9, 10, 11, 12, 13, 14, 15, 16, 17, 18, 19, 20, 21, 22, 23, 24, 25, 26, 27, 28, 29, 30, 31, 32, 33, 34, 35, 36, 37, 38, 39, 40, 41, 42, 43, 44, 45, 46, 47, 48, 49, 50, 51, 52, 53, 54, 55, 56, 57, 58, 59, 60, 61, 62, 63, 64, 65, 66, 67, 68, 69, 70, 71, 72, 73, 74, 75, 76, 77, 78, 79, 80, 81, 82, 83, 84, 85, 86, 87, 88, 89, 90, 91, 92, 93, 94, 95, 96, 97, 98, 99], \"xaxis\": \"x2\", \"y\": [\"\", \"\", \"\", 0.5008553856065074, \"\", \"\", 0.8663582615452918, \"\", \"\", 0.642619577616869, \"\", \"\", \"\", 0.16464824975467499, 0.351877321755949, \"\", \"\", \"\", \"\", 0.7211871074682538, 2.168828475109934, 0.9814970583107684, 0.9123764978953683, \"\", \"\", 2.053013096775871, \"\", \"\", \"\", \"\", 0.1659015966894115, \"\", 1.2886085125583249, 1.078704645833469, 0.7345895074339398, \"\", \"\", \"\", \"\", 2.7038930463045223, 2.0790249924313375, 0.18085017683202398, \"\", \"\", 0.014946034290243104, \"\", 1.2985699239736257, \"\", \"\", \"\", \"\", \"\", \"\", \"\", \"\", 0.4065841396617048, \"\", 0.5556324112613265, \"\", 0.04705847437054134, \"\", 2.4878041889845597, 2.6856518481194356, \"\", \"\", \"\", 1.7173006238913073, \"\", 0.26610491873578535, 0.9619039606673123, 0.6855954442668533, 0.4850419548988144, \"\", \"\", 0.2622425251190601, \"\", \"\", \"\", 0.7877455754399281, 1.683139155694962, \"\", \"\", \"\", \"\", \"\", 1.230061121413935, 0.28697120735574794, \"\", \"\", \"\", \"\", \"\", 1.045095850862156, \"\", 1.0977340334727113, \"\", \"\", 1.620105861092091, 0.9437838756926056, 0.1990905360473334], \"yaxis\": \"y2\"}, {\"connectgaps\": false, \"fill\": \"tozeroy\", \"line\": {\"color\": \"red\", \"dash\": \"solid\", \"shape\": \"linear\", \"width\": 0.5}, \"mode\": \"lines\", \"name\": \"Spread\", \"showlegend\": false, \"type\": \"scatter\", \"x\": [0, 1, 2, 3, 4, 5, 6, 7, 8, 9, 10, 11, 12, 13, 14, 15, 16, 17, 18, 19, 20, 21, 22, 23, 24, 25, 26, 27, 28, 29, 30, 31, 32, 33, 34, 35, 36, 37, 38, 39, 40, 41, 42, 43, 44, 45, 46, 47, 48, 49, 50, 51, 52, 53, 54, 55, 56, 57, 58, 59, 60, 61, 62, 63, 64, 65, 66, 67, 68, 69, 70, 71, 72, 73, 74, 75, 76, 77, 78, 79, 80, 81, 82, 83, 84, 85, 86, 87, 88, 89, 90, 91, 92, 93, 94, 95, 96, 97, 98, 99], \"xaxis\": \"x2\", \"y\": [-1.7543863573513627, -2.2179132987680195, -0.7173818545613885, \"\", -1.143688480105998, -1.1700110133191748, \"\", -1.322275729958153, -1.5263315533298258, \"\", -1.5757652989044226, -2.719960219504837, -1.3524379614556405, \"\", \"\", -0.33924263928285747, -0.3901138141392456, -0.5427335740381877, -1.7238854022935968, \"\", \"\", \"\", \"\", -0.24022780388293685, -0.07631202501623399, \"\", -0.5750911222987402, -0.7433122949598276, -0.918696535202964, -1.8907422971992747, \"\", -0.33378985460253585, \"\", \"\", \"\", -0.5464755462242412, -1.120365229850309, -0.28347674345270185, -0.2588670278500076, \"\", \"\", \"\", -2.2917688391060063, -0.7070227255714056, \"\", -0.15328664813926146, \"\", -0.9912803888846768, -0.6492586721252249, -0.24131150096120085, -0.9863405551105024, -0.9544816698913607, -0.9011001451385406, -0.4169222030033437, -1.4885789796665394, \"\", -1.291506373570197, \"\", -0.8444152436130685, \"\", -0.15156314867947696, \"\", \"\", -0.39519000139027677, -1.4367095021508465, -0.009551791298039847, \"\", -0.34167336033021645, \"\", \"\", \"\", \"\", -0.49934618541372583, -0.47197751964719836, \"\", -0.7337697822139357, -0.569388868612242, -2.865806497658014, \"\", \"\", -2.213904429727258, -0.6129219173017797, -0.6035457281375756, -0.8585991990689115, -0.0599385857925796, \"\", \"\", -0.31277490469449937, -1.1292512137143076, -0.5494723670583348, -1.421753282190338, -0.77132646872314, \"\", -0.6553765229219121, \"\", -1.4029796373196917, -2.160513726357601, \"\", \"\", \"\"], \"yaxis\": \"y2\"}],\n",
       "                        {\"hovermode\": \"x\", \"legend\": {\"bgcolor\": \"#F5F6F9\", \"font\": {\"color\": \"#4D5663\"}}, \"paper_bgcolor\": \"#F5F6F9\", \"plot_bgcolor\": \"#F5F6F9\", \"template\": {\"data\": {\"bar\": [{\"error_x\": {\"color\": \"#2a3f5f\"}, \"error_y\": {\"color\": \"#2a3f5f\"}, \"marker\": {\"line\": {\"color\": \"#E5ECF6\", \"width\": 0.5}}, \"type\": \"bar\"}], \"barpolar\": [{\"marker\": {\"line\": {\"color\": \"#E5ECF6\", \"width\": 0.5}}, \"type\": \"barpolar\"}], \"carpet\": [{\"aaxis\": {\"endlinecolor\": \"#2a3f5f\", \"gridcolor\": \"white\", \"linecolor\": \"white\", \"minorgridcolor\": \"white\", \"startlinecolor\": \"#2a3f5f\"}, \"baxis\": {\"endlinecolor\": \"#2a3f5f\", \"gridcolor\": \"white\", \"linecolor\": \"white\", \"minorgridcolor\": \"white\", \"startlinecolor\": \"#2a3f5f\"}, \"type\": \"carpet\"}], \"choropleth\": [{\"colorbar\": {\"outlinewidth\": 0, \"ticks\": \"\"}, \"type\": \"choropleth\"}], \"contour\": [{\"colorbar\": {\"outlinewidth\": 0, \"ticks\": \"\"}, \"colorscale\": [[0.0, \"#0d0887\"], [0.1111111111111111, \"#46039f\"], [0.2222222222222222, \"#7201a8\"], [0.3333333333333333, \"#9c179e\"], [0.4444444444444444, \"#bd3786\"], [0.5555555555555556, \"#d8576b\"], [0.6666666666666666, \"#ed7953\"], [0.7777777777777778, \"#fb9f3a\"], [0.8888888888888888, \"#fdca26\"], [1.0, \"#f0f921\"]], \"type\": \"contour\"}], \"contourcarpet\": [{\"colorbar\": {\"outlinewidth\": 0, \"ticks\": \"\"}, \"type\": \"contourcarpet\"}], \"heatmap\": [{\"colorbar\": {\"outlinewidth\": 0, \"ticks\": \"\"}, \"colorscale\": [[0.0, \"#0d0887\"], [0.1111111111111111, \"#46039f\"], [0.2222222222222222, \"#7201a8\"], [0.3333333333333333, \"#9c179e\"], [0.4444444444444444, \"#bd3786\"], [0.5555555555555556, \"#d8576b\"], [0.6666666666666666, \"#ed7953\"], [0.7777777777777778, \"#fb9f3a\"], [0.8888888888888888, \"#fdca26\"], [1.0, \"#f0f921\"]], \"type\": \"heatmap\"}], \"heatmapgl\": [{\"colorbar\": {\"outlinewidth\": 0, \"ticks\": \"\"}, \"colorscale\": [[0.0, \"#0d0887\"], [0.1111111111111111, \"#46039f\"], [0.2222222222222222, \"#7201a8\"], [0.3333333333333333, \"#9c179e\"], [0.4444444444444444, \"#bd3786\"], [0.5555555555555556, \"#d8576b\"], [0.6666666666666666, \"#ed7953\"], [0.7777777777777778, \"#fb9f3a\"], [0.8888888888888888, \"#fdca26\"], [1.0, \"#f0f921\"]], \"type\": \"heatmapgl\"}], \"histogram\": [{\"marker\": {\"colorbar\": {\"outlinewidth\": 0, \"ticks\": \"\"}}, \"type\": \"histogram\"}], \"histogram2d\": [{\"colorbar\": {\"outlinewidth\": 0, \"ticks\": \"\"}, \"colorscale\": [[0.0, \"#0d0887\"], [0.1111111111111111, \"#46039f\"], [0.2222222222222222, \"#7201a8\"], [0.3333333333333333, \"#9c179e\"], [0.4444444444444444, \"#bd3786\"], [0.5555555555555556, \"#d8576b\"], [0.6666666666666666, \"#ed7953\"], [0.7777777777777778, \"#fb9f3a\"], [0.8888888888888888, \"#fdca26\"], [1.0, \"#f0f921\"]], \"type\": \"histogram2d\"}], \"histogram2dcontour\": [{\"colorbar\": {\"outlinewidth\": 0, \"ticks\": \"\"}, \"colorscale\": [[0.0, \"#0d0887\"], [0.1111111111111111, \"#46039f\"], [0.2222222222222222, \"#7201a8\"], [0.3333333333333333, \"#9c179e\"], [0.4444444444444444, \"#bd3786\"], [0.5555555555555556, \"#d8576b\"], [0.6666666666666666, \"#ed7953\"], [0.7777777777777778, \"#fb9f3a\"], [0.8888888888888888, \"#fdca26\"], [1.0, \"#f0f921\"]], \"type\": \"histogram2dcontour\"}], \"mesh3d\": [{\"colorbar\": {\"outlinewidth\": 0, \"ticks\": \"\"}, \"type\": \"mesh3d\"}], \"parcoords\": [{\"line\": {\"colorbar\": {\"outlinewidth\": 0, \"ticks\": \"\"}}, \"type\": \"parcoords\"}], \"pie\": [{\"automargin\": true, \"type\": \"pie\"}], \"scatter\": [{\"marker\": {\"colorbar\": {\"outlinewidth\": 0, \"ticks\": \"\"}}, \"type\": \"scatter\"}], \"scatter3d\": [{\"line\": {\"colorbar\": {\"outlinewidth\": 0, \"ticks\": \"\"}}, \"marker\": {\"colorbar\": {\"outlinewidth\": 0, \"ticks\": \"\"}}, \"type\": \"scatter3d\"}], \"scattercarpet\": [{\"marker\": {\"colorbar\": {\"outlinewidth\": 0, \"ticks\": \"\"}}, \"type\": \"scattercarpet\"}], \"scattergeo\": [{\"marker\": {\"colorbar\": {\"outlinewidth\": 0, \"ticks\": \"\"}}, \"type\": \"scattergeo\"}], \"scattergl\": [{\"marker\": {\"colorbar\": {\"outlinewidth\": 0, \"ticks\": \"\"}}, \"type\": \"scattergl\"}], \"scattermapbox\": [{\"marker\": {\"colorbar\": {\"outlinewidth\": 0, \"ticks\": \"\"}}, \"type\": \"scattermapbox\"}], \"scatterpolar\": [{\"marker\": {\"colorbar\": {\"outlinewidth\": 0, \"ticks\": \"\"}}, \"type\": \"scatterpolar\"}], \"scatterpolargl\": [{\"marker\": {\"colorbar\": {\"outlinewidth\": 0, \"ticks\": \"\"}}, \"type\": \"scatterpolargl\"}], \"scatterternary\": [{\"marker\": {\"colorbar\": {\"outlinewidth\": 0, \"ticks\": \"\"}}, \"type\": \"scatterternary\"}], \"surface\": [{\"colorbar\": {\"outlinewidth\": 0, \"ticks\": \"\"}, \"colorscale\": [[0.0, \"#0d0887\"], [0.1111111111111111, \"#46039f\"], [0.2222222222222222, \"#7201a8\"], [0.3333333333333333, \"#9c179e\"], [0.4444444444444444, \"#bd3786\"], [0.5555555555555556, \"#d8576b\"], [0.6666666666666666, \"#ed7953\"], [0.7777777777777778, \"#fb9f3a\"], [0.8888888888888888, \"#fdca26\"], [1.0, \"#f0f921\"]], \"type\": \"surface\"}], \"table\": [{\"cells\": {\"fill\": {\"color\": \"#EBF0F8\"}, \"line\": {\"color\": \"white\"}}, \"header\": {\"fill\": {\"color\": \"#C8D4E3\"}, \"line\": {\"color\": \"white\"}}, \"type\": \"table\"}]}, \"layout\": {\"annotationdefaults\": {\"arrowcolor\": \"#2a3f5f\", \"arrowhead\": 0, \"arrowwidth\": 1}, \"coloraxis\": {\"colorbar\": {\"outlinewidth\": 0, \"ticks\": \"\"}}, \"colorscale\": {\"diverging\": [[0, \"#8e0152\"], [0.1, \"#c51b7d\"], [0.2, \"#de77ae\"], [0.3, \"#f1b6da\"], [0.4, \"#fde0ef\"], [0.5, \"#f7f7f7\"], [0.6, \"#e6f5d0\"], [0.7, \"#b8e186\"], [0.8, \"#7fbc41\"], [0.9, \"#4d9221\"], [1, \"#276419\"]], \"sequential\": [[0.0, \"#0d0887\"], [0.1111111111111111, \"#46039f\"], [0.2222222222222222, \"#7201a8\"], [0.3333333333333333, \"#9c179e\"], [0.4444444444444444, \"#bd3786\"], [0.5555555555555556, \"#d8576b\"], [0.6666666666666666, \"#ed7953\"], [0.7777777777777778, \"#fb9f3a\"], [0.8888888888888888, \"#fdca26\"], [1.0, \"#f0f921\"]], \"sequentialminus\": [[0.0, \"#0d0887\"], [0.1111111111111111, \"#46039f\"], [0.2222222222222222, \"#7201a8\"], [0.3333333333333333, \"#9c179e\"], [0.4444444444444444, \"#bd3786\"], [0.5555555555555556, \"#d8576b\"], [0.6666666666666666, \"#ed7953\"], [0.7777777777777778, \"#fb9f3a\"], [0.8888888888888888, \"#fdca26\"], [1.0, \"#f0f921\"]]}, \"colorway\": [\"#636efa\", \"#EF553B\", \"#00cc96\", \"#ab63fa\", \"#FFA15A\", \"#19d3f3\", \"#FF6692\", \"#B6E880\", \"#FF97FF\", \"#FECB52\"], \"font\": {\"color\": \"#2a3f5f\"}, \"geo\": {\"bgcolor\": \"white\", \"lakecolor\": \"white\", \"landcolor\": \"#E5ECF6\", \"showlakes\": true, \"showland\": true, \"subunitcolor\": \"white\"}, \"hoverlabel\": {\"align\": \"left\"}, \"hovermode\": \"closest\", \"mapbox\": {\"style\": \"light\"}, \"paper_bgcolor\": \"white\", \"plot_bgcolor\": \"#E5ECF6\", \"polar\": {\"angularaxis\": {\"gridcolor\": \"white\", \"linecolor\": \"white\", \"ticks\": \"\"}, \"bgcolor\": \"#E5ECF6\", \"radialaxis\": {\"gridcolor\": \"white\", \"linecolor\": \"white\", \"ticks\": \"\"}}, \"scene\": {\"xaxis\": {\"backgroundcolor\": \"#E5ECF6\", \"gridcolor\": \"white\", \"gridwidth\": 2, \"linecolor\": \"white\", \"showbackground\": true, \"ticks\": \"\", \"zerolinecolor\": \"white\"}, \"yaxis\": {\"backgroundcolor\": \"#E5ECF6\", \"gridcolor\": \"white\", \"gridwidth\": 2, \"linecolor\": \"white\", \"showbackground\": true, \"ticks\": \"\", \"zerolinecolor\": \"white\"}, \"zaxis\": {\"backgroundcolor\": \"#E5ECF6\", \"gridcolor\": \"white\", \"gridwidth\": 2, \"linecolor\": \"white\", \"showbackground\": true, \"ticks\": \"\", \"zerolinecolor\": \"white\"}}, \"shapedefaults\": {\"line\": {\"color\": \"#2a3f5f\"}}, \"ternary\": {\"aaxis\": {\"gridcolor\": \"white\", \"linecolor\": \"white\", \"ticks\": \"\"}, \"baxis\": {\"gridcolor\": \"white\", \"linecolor\": \"white\", \"ticks\": \"\"}, \"bgcolor\": \"#E5ECF6\", \"caxis\": {\"gridcolor\": \"white\", \"linecolor\": \"white\", \"ticks\": \"\"}}, \"title\": {\"x\": 0.05}, \"xaxis\": {\"automargin\": true, \"gridcolor\": \"white\", \"linecolor\": \"white\", \"ticks\": \"\", \"title\": {\"standoff\": 15}, \"zerolinecolor\": \"white\", \"zerolinewidth\": 2}, \"yaxis\": {\"automargin\": true, \"gridcolor\": \"white\", \"linecolor\": \"white\", \"ticks\": \"\", \"title\": {\"standoff\": 15}, \"zerolinecolor\": \"white\", \"zerolinewidth\": 2}}}, \"title\": {\"font\": {\"color\": \"#4D5663\"}}, \"xaxis\": {\"gridcolor\": \"#E1E5ED\", \"showgrid\": true, \"tickfont\": {\"color\": \"#4D5663\"}, \"title\": {\"font\": {\"color\": \"#4D5663\"}, \"text\": \"\"}, \"zerolinecolor\": \"#E1E5ED\"}, \"xaxis2\": {\"anchor\": \"y2\", \"gridcolor\": \"#E1E5ED\", \"showgrid\": true, \"showticklabels\": false, \"tickfont\": {\"color\": \"#4D5663\"}, \"title\": {\"font\": {\"color\": \"#4D5663\"}, \"text\": \"\"}, \"zerolinecolor\": \"#E1E5ED\"}, \"yaxis\": {\"domain\": [0.3, 1], \"gridcolor\": \"#E1E5ED\", \"showgrid\": true, \"tickfont\": {\"color\": \"#4D5663\"}, \"title\": {\"font\": {\"color\": \"#4D5663\"}, \"text\": \"\"}, \"zerolinecolor\": \"#E1E5ED\"}, \"yaxis2\": {\"domain\": [0, 0.25], \"gridcolor\": \"#E1E5ED\", \"showgrid\": true, \"tickfont\": {\"color\": \"#4D5663\"}, \"title\": {\"font\": {\"color\": \"#4D5663\"}, \"text\": \"Spread\"}, \"zerolinecolor\": \"#E1E5ED\"}},\n",
       "                        {\"showLink\": true, \"linkText\": \"Export to plot.ly\", \"plotlyServerURL\": \"https://plot.ly\", \"responsive\": true}\n",
       "                    ).then(function(){\n",
       "                            \n",
       "var gd = document.getElementById('b6d1cee6-561c-49fc-9a66-cead9386e764');\n",
       "var x = new MutationObserver(function (mutations, observer) {{\n",
       "        var display = window.getComputedStyle(gd).display;\n",
       "        if (!display || display === 'none') {{\n",
       "            console.log([gd, 'removed!']);\n",
       "            Plotly.purge(gd);\n",
       "            observer.disconnect();\n",
       "        }}\n",
       "}});\n",
       "\n",
       "// Listen for the removal of the full notebook cells\n",
       "var notebookContainer = gd.closest('#notebook-container');\n",
       "if (notebookContainer) {{\n",
       "    x.observe(notebookContainer, {childList: true});\n",
       "}}\n",
       "\n",
       "// Listen for the clearing of the current output cell\n",
       "var outputEl = gd.closest('.output');\n",
       "if (outputEl) {{\n",
       "    x.observe(outputEl, {childList: true});\n",
       "}}\n",
       "\n",
       "                        })\n",
       "                };\n",
       "                });\n",
       "            </script>\n",
       "        </div>"
      ]
     },
     "metadata": {},
     "output_type": "display_data"
    }
   ],
   "source": [
    "df[['A','B']].iplot(kind='spread')"
   ]
  },
  {
   "cell_type": "markdown",
   "metadata": {},
   "source": [
    "## histogram"
   ]
  },
  {
   "cell_type": "code",
   "execution_count": 16,
   "metadata": {},
   "outputs": [
    {
     "data": {
      "application/vnd.plotly.v1+json": {
       "config": {
        "linkText": "Export to plot.ly",
        "plotlyServerURL": "https://plot.ly",
        "showLink": true
       },
       "data": [
        {
         "histfunc": "count",
         "histnorm": "",
         "marker": {
          "color": "rgba(255, 153, 51, 1.0)",
          "line": {
           "color": "#4D5663",
           "width": 1.3
          }
         },
         "name": "A",
         "nbinsx": 25,
         "opacity": 0.8,
         "orientation": "v",
         "type": "histogram",
         "x": [
          -1.0099361673355667,
          -1.0284575537950853,
          -0.11589523503021203,
          -0.3871577102854481,
          -0.8802462358509756,
          -0.5073178289505085,
          -0.25872977857744495,
          -0.8451154146551735,
          -1.6753380560258833,
          -0.3197009244061666,
          -0.13563348234303227,
          -1.311691245631022,
          -1.249731033152953,
          0.17890604821843886,
          -1.128427638771329,
          -1.1636664744849745,
          -0.9412243713819362,
          -0.38570173042512107,
          -0.8003953490624793,
          0.8825029834565344,
          1.524337052036057,
          -0.23052058779768336,
          1.9285582193640014,
          -0.872188772166427,
          -0.3176075253149898,
          2.606580520825616,
          -1.1995356504360102,
          -0.5183516090778959,
          -0.04436142535581713,
          -0.18480369022350523,
          -1.7547311219167303,
          0.4348163458344423,
          0.02896010894576578,
          1.1883323868662738,
          1.6732989603111974,
          -0.8210953393613368,
          0.5004305409127747,
          -0.22178532385423305,
          -0.7454328674035887,
          2.1180173982206956,
          1.190563692517457,
          0.3138573805554352,
          -0.9935779216404051,
          -0.3647175556508881,
          0.5068831822214218,
          0.20910917496939357,
          0.577713713083106,
          -0.29978283141123724,
          -0.2873028727788575,
          -0.46363559405313143,
          -0.9206774761598664,
          -0.755950329387749,
          0.7922037497771531,
          -0.8795695353900919,
          0.28776576333898585,
          -0.23417565168839716,
          -1.9708555241106436,
          0.9824316178908786,
          -1.98662055858986,
          -0.7296201496003367,
          0.7238839666288359,
          1.5974689722403834,
          1.801589947153041,
          -0.7232840189194383,
          -1.0681986697213794,
          -0.5992838692605261,
          2.239239240441496,
          -0.2396645330815824,
          -0.04239926731173785,
          0.8738657260289925,
          -0.8714936725210958,
          1.0533376696933532,
          0.028493839037042872,
          0.9603494061902195,
          0.8199228021104203,
          1.4708360154901292,
          -1.104738720637537,
          -1.6868861956709762,
          1.0938651017022927,
          2.1390860039617507,
          -0.3705530670203375,
          -0.18840168960734383,
          0.42753386535746246,
          0.6980400869787413,
          -0.6402916416160395,
          -0.02222079553462808,
          -0.4216825148927192,
          0.280887190385779,
          -0.643768601883412,
          -0.6875539894115286,
          -1.3443114433014156,
          -0.25555254723379944,
          1.2335524942281835,
          -0.09161187909282938,
          1.0278257484361688,
          -0.514950707958829,
          -1.6295755204874562,
          -0.53058233036871,
          -0.06432271315517117,
          -0.4852358829857144
         ]
        }
       ],
       "layout": {
        "barmode": "overlay",
        "legend": {
         "bgcolor": "#F5F6F9",
         "font": {
          "color": "#4D5663"
         }
        },
        "paper_bgcolor": "#F5F6F9",
        "plot_bgcolor": "#F5F6F9",
        "template": {
         "data": {
          "bar": [
           {
            "error_x": {
             "color": "#2a3f5f"
            },
            "error_y": {
             "color": "#2a3f5f"
            },
            "marker": {
             "line": {
              "color": "#E5ECF6",
              "width": 0.5
             }
            },
            "type": "bar"
           }
          ],
          "barpolar": [
           {
            "marker": {
             "line": {
              "color": "#E5ECF6",
              "width": 0.5
             }
            },
            "type": "barpolar"
           }
          ],
          "carpet": [
           {
            "aaxis": {
             "endlinecolor": "#2a3f5f",
             "gridcolor": "white",
             "linecolor": "white",
             "minorgridcolor": "white",
             "startlinecolor": "#2a3f5f"
            },
            "baxis": {
             "endlinecolor": "#2a3f5f",
             "gridcolor": "white",
             "linecolor": "white",
             "minorgridcolor": "white",
             "startlinecolor": "#2a3f5f"
            },
            "type": "carpet"
           }
          ],
          "choropleth": [
           {
            "colorbar": {
             "outlinewidth": 0,
             "ticks": ""
            },
            "type": "choropleth"
           }
          ],
          "contour": [
           {
            "colorbar": {
             "outlinewidth": 0,
             "ticks": ""
            },
            "colorscale": [
             [
              0,
              "#0d0887"
             ],
             [
              0.1111111111111111,
              "#46039f"
             ],
             [
              0.2222222222222222,
              "#7201a8"
             ],
             [
              0.3333333333333333,
              "#9c179e"
             ],
             [
              0.4444444444444444,
              "#bd3786"
             ],
             [
              0.5555555555555556,
              "#d8576b"
             ],
             [
              0.6666666666666666,
              "#ed7953"
             ],
             [
              0.7777777777777778,
              "#fb9f3a"
             ],
             [
              0.8888888888888888,
              "#fdca26"
             ],
             [
              1,
              "#f0f921"
             ]
            ],
            "type": "contour"
           }
          ],
          "contourcarpet": [
           {
            "colorbar": {
             "outlinewidth": 0,
             "ticks": ""
            },
            "type": "contourcarpet"
           }
          ],
          "heatmap": [
           {
            "colorbar": {
             "outlinewidth": 0,
             "ticks": ""
            },
            "colorscale": [
             [
              0,
              "#0d0887"
             ],
             [
              0.1111111111111111,
              "#46039f"
             ],
             [
              0.2222222222222222,
              "#7201a8"
             ],
             [
              0.3333333333333333,
              "#9c179e"
             ],
             [
              0.4444444444444444,
              "#bd3786"
             ],
             [
              0.5555555555555556,
              "#d8576b"
             ],
             [
              0.6666666666666666,
              "#ed7953"
             ],
             [
              0.7777777777777778,
              "#fb9f3a"
             ],
             [
              0.8888888888888888,
              "#fdca26"
             ],
             [
              1,
              "#f0f921"
             ]
            ],
            "type": "heatmap"
           }
          ],
          "heatmapgl": [
           {
            "colorbar": {
             "outlinewidth": 0,
             "ticks": ""
            },
            "colorscale": [
             [
              0,
              "#0d0887"
             ],
             [
              0.1111111111111111,
              "#46039f"
             ],
             [
              0.2222222222222222,
              "#7201a8"
             ],
             [
              0.3333333333333333,
              "#9c179e"
             ],
             [
              0.4444444444444444,
              "#bd3786"
             ],
             [
              0.5555555555555556,
              "#d8576b"
             ],
             [
              0.6666666666666666,
              "#ed7953"
             ],
             [
              0.7777777777777778,
              "#fb9f3a"
             ],
             [
              0.8888888888888888,
              "#fdca26"
             ],
             [
              1,
              "#f0f921"
             ]
            ],
            "type": "heatmapgl"
           }
          ],
          "histogram": [
           {
            "marker": {
             "colorbar": {
              "outlinewidth": 0,
              "ticks": ""
             }
            },
            "type": "histogram"
           }
          ],
          "histogram2d": [
           {
            "colorbar": {
             "outlinewidth": 0,
             "ticks": ""
            },
            "colorscale": [
             [
              0,
              "#0d0887"
             ],
             [
              0.1111111111111111,
              "#46039f"
             ],
             [
              0.2222222222222222,
              "#7201a8"
             ],
             [
              0.3333333333333333,
              "#9c179e"
             ],
             [
              0.4444444444444444,
              "#bd3786"
             ],
             [
              0.5555555555555556,
              "#d8576b"
             ],
             [
              0.6666666666666666,
              "#ed7953"
             ],
             [
              0.7777777777777778,
              "#fb9f3a"
             ],
             [
              0.8888888888888888,
              "#fdca26"
             ],
             [
              1,
              "#f0f921"
             ]
            ],
            "type": "histogram2d"
           }
          ],
          "histogram2dcontour": [
           {
            "colorbar": {
             "outlinewidth": 0,
             "ticks": ""
            },
            "colorscale": [
             [
              0,
              "#0d0887"
             ],
             [
              0.1111111111111111,
              "#46039f"
             ],
             [
              0.2222222222222222,
              "#7201a8"
             ],
             [
              0.3333333333333333,
              "#9c179e"
             ],
             [
              0.4444444444444444,
              "#bd3786"
             ],
             [
              0.5555555555555556,
              "#d8576b"
             ],
             [
              0.6666666666666666,
              "#ed7953"
             ],
             [
              0.7777777777777778,
              "#fb9f3a"
             ],
             [
              0.8888888888888888,
              "#fdca26"
             ],
             [
              1,
              "#f0f921"
             ]
            ],
            "type": "histogram2dcontour"
           }
          ],
          "mesh3d": [
           {
            "colorbar": {
             "outlinewidth": 0,
             "ticks": ""
            },
            "type": "mesh3d"
           }
          ],
          "parcoords": [
           {
            "line": {
             "colorbar": {
              "outlinewidth": 0,
              "ticks": ""
             }
            },
            "type": "parcoords"
           }
          ],
          "pie": [
           {
            "automargin": true,
            "type": "pie"
           }
          ],
          "scatter": [
           {
            "marker": {
             "colorbar": {
              "outlinewidth": 0,
              "ticks": ""
             }
            },
            "type": "scatter"
           }
          ],
          "scatter3d": [
           {
            "line": {
             "colorbar": {
              "outlinewidth": 0,
              "ticks": ""
             }
            },
            "marker": {
             "colorbar": {
              "outlinewidth": 0,
              "ticks": ""
             }
            },
            "type": "scatter3d"
           }
          ],
          "scattercarpet": [
           {
            "marker": {
             "colorbar": {
              "outlinewidth": 0,
              "ticks": ""
             }
            },
            "type": "scattercarpet"
           }
          ],
          "scattergeo": [
           {
            "marker": {
             "colorbar": {
              "outlinewidth": 0,
              "ticks": ""
             }
            },
            "type": "scattergeo"
           }
          ],
          "scattergl": [
           {
            "marker": {
             "colorbar": {
              "outlinewidth": 0,
              "ticks": ""
             }
            },
            "type": "scattergl"
           }
          ],
          "scattermapbox": [
           {
            "marker": {
             "colorbar": {
              "outlinewidth": 0,
              "ticks": ""
             }
            },
            "type": "scattermapbox"
           }
          ],
          "scatterpolar": [
           {
            "marker": {
             "colorbar": {
              "outlinewidth": 0,
              "ticks": ""
             }
            },
            "type": "scatterpolar"
           }
          ],
          "scatterpolargl": [
           {
            "marker": {
             "colorbar": {
              "outlinewidth": 0,
              "ticks": ""
             }
            },
            "type": "scatterpolargl"
           }
          ],
          "scatterternary": [
           {
            "marker": {
             "colorbar": {
              "outlinewidth": 0,
              "ticks": ""
             }
            },
            "type": "scatterternary"
           }
          ],
          "surface": [
           {
            "colorbar": {
             "outlinewidth": 0,
             "ticks": ""
            },
            "colorscale": [
             [
              0,
              "#0d0887"
             ],
             [
              0.1111111111111111,
              "#46039f"
             ],
             [
              0.2222222222222222,
              "#7201a8"
             ],
             [
              0.3333333333333333,
              "#9c179e"
             ],
             [
              0.4444444444444444,
              "#bd3786"
             ],
             [
              0.5555555555555556,
              "#d8576b"
             ],
             [
              0.6666666666666666,
              "#ed7953"
             ],
             [
              0.7777777777777778,
              "#fb9f3a"
             ],
             [
              0.8888888888888888,
              "#fdca26"
             ],
             [
              1,
              "#f0f921"
             ]
            ],
            "type": "surface"
           }
          ],
          "table": [
           {
            "cells": {
             "fill": {
              "color": "#EBF0F8"
             },
             "line": {
              "color": "white"
             }
            },
            "header": {
             "fill": {
              "color": "#C8D4E3"
             },
             "line": {
              "color": "white"
             }
            },
            "type": "table"
           }
          ]
         },
         "layout": {
          "annotationdefaults": {
           "arrowcolor": "#2a3f5f",
           "arrowhead": 0,
           "arrowwidth": 1
          },
          "coloraxis": {
           "colorbar": {
            "outlinewidth": 0,
            "ticks": ""
           }
          },
          "colorscale": {
           "diverging": [
            [
             0,
             "#8e0152"
            ],
            [
             0.1,
             "#c51b7d"
            ],
            [
             0.2,
             "#de77ae"
            ],
            [
             0.3,
             "#f1b6da"
            ],
            [
             0.4,
             "#fde0ef"
            ],
            [
             0.5,
             "#f7f7f7"
            ],
            [
             0.6,
             "#e6f5d0"
            ],
            [
             0.7,
             "#b8e186"
            ],
            [
             0.8,
             "#7fbc41"
            ],
            [
             0.9,
             "#4d9221"
            ],
            [
             1,
             "#276419"
            ]
           ],
           "sequential": [
            [
             0,
             "#0d0887"
            ],
            [
             0.1111111111111111,
             "#46039f"
            ],
            [
             0.2222222222222222,
             "#7201a8"
            ],
            [
             0.3333333333333333,
             "#9c179e"
            ],
            [
             0.4444444444444444,
             "#bd3786"
            ],
            [
             0.5555555555555556,
             "#d8576b"
            ],
            [
             0.6666666666666666,
             "#ed7953"
            ],
            [
             0.7777777777777778,
             "#fb9f3a"
            ],
            [
             0.8888888888888888,
             "#fdca26"
            ],
            [
             1,
             "#f0f921"
            ]
           ],
           "sequentialminus": [
            [
             0,
             "#0d0887"
            ],
            [
             0.1111111111111111,
             "#46039f"
            ],
            [
             0.2222222222222222,
             "#7201a8"
            ],
            [
             0.3333333333333333,
             "#9c179e"
            ],
            [
             0.4444444444444444,
             "#bd3786"
            ],
            [
             0.5555555555555556,
             "#d8576b"
            ],
            [
             0.6666666666666666,
             "#ed7953"
            ],
            [
             0.7777777777777778,
             "#fb9f3a"
            ],
            [
             0.8888888888888888,
             "#fdca26"
            ],
            [
             1,
             "#f0f921"
            ]
           ]
          },
          "colorway": [
           "#636efa",
           "#EF553B",
           "#00cc96",
           "#ab63fa",
           "#FFA15A",
           "#19d3f3",
           "#FF6692",
           "#B6E880",
           "#FF97FF",
           "#FECB52"
          ],
          "font": {
           "color": "#2a3f5f"
          },
          "geo": {
           "bgcolor": "white",
           "lakecolor": "white",
           "landcolor": "#E5ECF6",
           "showlakes": true,
           "showland": true,
           "subunitcolor": "white"
          },
          "hoverlabel": {
           "align": "left"
          },
          "hovermode": "closest",
          "mapbox": {
           "style": "light"
          },
          "paper_bgcolor": "white",
          "plot_bgcolor": "#E5ECF6",
          "polar": {
           "angularaxis": {
            "gridcolor": "white",
            "linecolor": "white",
            "ticks": ""
           },
           "bgcolor": "#E5ECF6",
           "radialaxis": {
            "gridcolor": "white",
            "linecolor": "white",
            "ticks": ""
           }
          },
          "scene": {
           "xaxis": {
            "backgroundcolor": "#E5ECF6",
            "gridcolor": "white",
            "gridwidth": 2,
            "linecolor": "white",
            "showbackground": true,
            "ticks": "",
            "zerolinecolor": "white"
           },
           "yaxis": {
            "backgroundcolor": "#E5ECF6",
            "gridcolor": "white",
            "gridwidth": 2,
            "linecolor": "white",
            "showbackground": true,
            "ticks": "",
            "zerolinecolor": "white"
           },
           "zaxis": {
            "backgroundcolor": "#E5ECF6",
            "gridcolor": "white",
            "gridwidth": 2,
            "linecolor": "white",
            "showbackground": true,
            "ticks": "",
            "zerolinecolor": "white"
           }
          },
          "shapedefaults": {
           "line": {
            "color": "#2a3f5f"
           }
          },
          "ternary": {
           "aaxis": {
            "gridcolor": "white",
            "linecolor": "white",
            "ticks": ""
           },
           "baxis": {
            "gridcolor": "white",
            "linecolor": "white",
            "ticks": ""
           },
           "bgcolor": "#E5ECF6",
           "caxis": {
            "gridcolor": "white",
            "linecolor": "white",
            "ticks": ""
           }
          },
          "title": {
           "x": 0.05
          },
          "xaxis": {
           "automargin": true,
           "gridcolor": "white",
           "linecolor": "white",
           "ticks": "",
           "title": {
            "standoff": 15
           },
           "zerolinecolor": "white",
           "zerolinewidth": 2
          },
          "yaxis": {
           "automargin": true,
           "gridcolor": "white",
           "linecolor": "white",
           "ticks": "",
           "title": {
            "standoff": 15
           },
           "zerolinecolor": "white",
           "zerolinewidth": 2
          }
         }
        },
        "title": {
         "font": {
          "color": "#4D5663"
         }
        },
        "xaxis": {
         "gridcolor": "#E1E5ED",
         "showgrid": true,
         "tickfont": {
          "color": "#4D5663"
         },
         "title": {
          "font": {
           "color": "#4D5663"
          },
          "text": ""
         },
         "zerolinecolor": "#E1E5ED"
        },
        "yaxis": {
         "gridcolor": "#E1E5ED",
         "showgrid": true,
         "tickfont": {
          "color": "#4D5663"
         },
         "title": {
          "font": {
           "color": "#4D5663"
          },
          "text": ""
         },
         "zerolinecolor": "#E1E5ED"
        }
       }
      },
      "text/html": [
       "<div>\n",
       "        \n",
       "        \n",
       "            <div id=\"5bfbe0f9-817c-40ab-859a-1870d9ccc6a5\" class=\"plotly-graph-div\" style=\"height:525px; width:100%;\"></div>\n",
       "            <script type=\"text/javascript\">\n",
       "                require([\"plotly\"], function(Plotly) {\n",
       "                    window.PLOTLYENV=window.PLOTLYENV || {};\n",
       "                    window.PLOTLYENV.BASE_URL='https://plot.ly';\n",
       "                    \n",
       "                if (document.getElementById(\"5bfbe0f9-817c-40ab-859a-1870d9ccc6a5\")) {\n",
       "                    Plotly.newPlot(\n",
       "                        '5bfbe0f9-817c-40ab-859a-1870d9ccc6a5',\n",
       "                        [{\"histfunc\": \"count\", \"histnorm\": \"\", \"marker\": {\"color\": \"rgba(255, 153, 51, 1.0)\", \"line\": {\"color\": \"#4D5663\", \"width\": 1.3}}, \"name\": \"A\", \"nbinsx\": 25, \"opacity\": 0.8, \"orientation\": \"v\", \"type\": \"histogram\", \"x\": [-1.0099361673355667, -1.0284575537950853, -0.11589523503021203, -0.3871577102854481, -0.8802462358509756, -0.5073178289505085, -0.25872977857744495, -0.8451154146551735, -1.6753380560258833, -0.3197009244061666, -0.13563348234303227, -1.311691245631022, -1.249731033152953, 0.17890604821843886, -1.128427638771329, -1.1636664744849745, -0.9412243713819362, -0.38570173042512107, -0.8003953490624793, 0.8825029834565344, 1.524337052036057, -0.23052058779768336, 1.9285582193640014, -0.872188772166427, -0.3176075253149898, 2.606580520825616, -1.1995356504360102, -0.5183516090778959, -0.04436142535581713, -0.18480369022350523, -1.7547311219167303, 0.4348163458344423, 0.02896010894576578, 1.1883323868662738, 1.6732989603111974, -0.8210953393613368, 0.5004305409127747, -0.22178532385423305, -0.7454328674035887, 2.1180173982206956, 1.190563692517457, 0.3138573805554352, -0.9935779216404051, -0.3647175556508881, 0.5068831822214218, 0.20910917496939357, 0.577713713083106, -0.29978283141123724, -0.2873028727788575, -0.46363559405313143, -0.9206774761598664, -0.755950329387749, 0.7922037497771531, -0.8795695353900919, 0.28776576333898585, -0.23417565168839716, -1.9708555241106436, 0.9824316178908786, -1.98662055858986, -0.7296201496003367, 0.7238839666288359, 1.5974689722403834, 1.801589947153041, -0.7232840189194383, -1.0681986697213794, -0.5992838692605261, 2.239239240441496, -0.2396645330815824, -0.04239926731173785, 0.8738657260289925, -0.8714936725210958, 1.0533376696933532, 0.028493839037042872, 0.9603494061902195, 0.8199228021104203, 1.4708360154901292, -1.104738720637537, -1.6868861956709762, 1.0938651017022927, 2.1390860039617507, -0.3705530670203375, -0.18840168960734383, 0.42753386535746246, 0.6980400869787413, -0.6402916416160395, -0.02222079553462808, -0.4216825148927192, 0.280887190385779, -0.643768601883412, -0.6875539894115286, -1.3443114433014156, -0.25555254723379944, 1.2335524942281835, -0.09161187909282938, 1.0278257484361688, -0.514950707958829, -1.6295755204874562, -0.53058233036871, -0.06432271315517117, -0.4852358829857144]}],\n",
       "                        {\"barmode\": \"overlay\", \"legend\": {\"bgcolor\": \"#F5F6F9\", \"font\": {\"color\": \"#4D5663\"}}, \"paper_bgcolor\": \"#F5F6F9\", \"plot_bgcolor\": \"#F5F6F9\", \"template\": {\"data\": {\"bar\": [{\"error_x\": {\"color\": \"#2a3f5f\"}, \"error_y\": {\"color\": \"#2a3f5f\"}, \"marker\": {\"line\": {\"color\": \"#E5ECF6\", \"width\": 0.5}}, \"type\": \"bar\"}], \"barpolar\": [{\"marker\": {\"line\": {\"color\": \"#E5ECF6\", \"width\": 0.5}}, \"type\": \"barpolar\"}], \"carpet\": [{\"aaxis\": {\"endlinecolor\": \"#2a3f5f\", \"gridcolor\": \"white\", \"linecolor\": \"white\", \"minorgridcolor\": \"white\", \"startlinecolor\": \"#2a3f5f\"}, \"baxis\": {\"endlinecolor\": \"#2a3f5f\", \"gridcolor\": \"white\", \"linecolor\": \"white\", \"minorgridcolor\": \"white\", \"startlinecolor\": \"#2a3f5f\"}, \"type\": \"carpet\"}], \"choropleth\": [{\"colorbar\": {\"outlinewidth\": 0, \"ticks\": \"\"}, \"type\": \"choropleth\"}], \"contour\": [{\"colorbar\": {\"outlinewidth\": 0, \"ticks\": \"\"}, \"colorscale\": [[0.0, \"#0d0887\"], [0.1111111111111111, \"#46039f\"], [0.2222222222222222, \"#7201a8\"], [0.3333333333333333, \"#9c179e\"], [0.4444444444444444, \"#bd3786\"], [0.5555555555555556, \"#d8576b\"], [0.6666666666666666, \"#ed7953\"], [0.7777777777777778, \"#fb9f3a\"], [0.8888888888888888, \"#fdca26\"], [1.0, \"#f0f921\"]], \"type\": \"contour\"}], \"contourcarpet\": [{\"colorbar\": {\"outlinewidth\": 0, \"ticks\": \"\"}, \"type\": \"contourcarpet\"}], \"heatmap\": [{\"colorbar\": {\"outlinewidth\": 0, \"ticks\": \"\"}, \"colorscale\": [[0.0, \"#0d0887\"], [0.1111111111111111, \"#46039f\"], [0.2222222222222222, \"#7201a8\"], [0.3333333333333333, \"#9c179e\"], [0.4444444444444444, \"#bd3786\"], [0.5555555555555556, \"#d8576b\"], [0.6666666666666666, \"#ed7953\"], [0.7777777777777778, \"#fb9f3a\"], [0.8888888888888888, \"#fdca26\"], [1.0, \"#f0f921\"]], \"type\": \"heatmap\"}], \"heatmapgl\": [{\"colorbar\": {\"outlinewidth\": 0, \"ticks\": \"\"}, \"colorscale\": [[0.0, \"#0d0887\"], [0.1111111111111111, \"#46039f\"], [0.2222222222222222, \"#7201a8\"], [0.3333333333333333, \"#9c179e\"], [0.4444444444444444, \"#bd3786\"], [0.5555555555555556, \"#d8576b\"], [0.6666666666666666, \"#ed7953\"], [0.7777777777777778, \"#fb9f3a\"], [0.8888888888888888, \"#fdca26\"], [1.0, \"#f0f921\"]], \"type\": \"heatmapgl\"}], \"histogram\": [{\"marker\": {\"colorbar\": {\"outlinewidth\": 0, \"ticks\": \"\"}}, \"type\": \"histogram\"}], \"histogram2d\": [{\"colorbar\": {\"outlinewidth\": 0, \"ticks\": \"\"}, \"colorscale\": [[0.0, \"#0d0887\"], [0.1111111111111111, \"#46039f\"], [0.2222222222222222, \"#7201a8\"], [0.3333333333333333, \"#9c179e\"], [0.4444444444444444, \"#bd3786\"], [0.5555555555555556, \"#d8576b\"], [0.6666666666666666, \"#ed7953\"], [0.7777777777777778, \"#fb9f3a\"], [0.8888888888888888, \"#fdca26\"], [1.0, \"#f0f921\"]], \"type\": \"histogram2d\"}], \"histogram2dcontour\": [{\"colorbar\": {\"outlinewidth\": 0, \"ticks\": \"\"}, \"colorscale\": [[0.0, \"#0d0887\"], [0.1111111111111111, \"#46039f\"], [0.2222222222222222, \"#7201a8\"], [0.3333333333333333, \"#9c179e\"], [0.4444444444444444, \"#bd3786\"], [0.5555555555555556, \"#d8576b\"], [0.6666666666666666, \"#ed7953\"], [0.7777777777777778, \"#fb9f3a\"], [0.8888888888888888, \"#fdca26\"], [1.0, \"#f0f921\"]], \"type\": \"histogram2dcontour\"}], \"mesh3d\": [{\"colorbar\": {\"outlinewidth\": 0, \"ticks\": \"\"}, \"type\": \"mesh3d\"}], \"parcoords\": [{\"line\": {\"colorbar\": {\"outlinewidth\": 0, \"ticks\": \"\"}}, \"type\": \"parcoords\"}], \"pie\": [{\"automargin\": true, \"type\": \"pie\"}], \"scatter\": [{\"marker\": {\"colorbar\": {\"outlinewidth\": 0, \"ticks\": \"\"}}, \"type\": \"scatter\"}], \"scatter3d\": [{\"line\": {\"colorbar\": {\"outlinewidth\": 0, \"ticks\": \"\"}}, \"marker\": {\"colorbar\": {\"outlinewidth\": 0, \"ticks\": \"\"}}, \"type\": \"scatter3d\"}], \"scattercarpet\": [{\"marker\": {\"colorbar\": {\"outlinewidth\": 0, \"ticks\": \"\"}}, \"type\": \"scattercarpet\"}], \"scattergeo\": [{\"marker\": {\"colorbar\": {\"outlinewidth\": 0, \"ticks\": \"\"}}, \"type\": \"scattergeo\"}], \"scattergl\": [{\"marker\": {\"colorbar\": {\"outlinewidth\": 0, \"ticks\": \"\"}}, \"type\": \"scattergl\"}], \"scattermapbox\": [{\"marker\": {\"colorbar\": {\"outlinewidth\": 0, \"ticks\": \"\"}}, \"type\": \"scattermapbox\"}], \"scatterpolar\": [{\"marker\": {\"colorbar\": {\"outlinewidth\": 0, \"ticks\": \"\"}}, \"type\": \"scatterpolar\"}], \"scatterpolargl\": [{\"marker\": {\"colorbar\": {\"outlinewidth\": 0, \"ticks\": \"\"}}, \"type\": \"scatterpolargl\"}], \"scatterternary\": [{\"marker\": {\"colorbar\": {\"outlinewidth\": 0, \"ticks\": \"\"}}, \"type\": \"scatterternary\"}], \"surface\": [{\"colorbar\": {\"outlinewidth\": 0, \"ticks\": \"\"}, \"colorscale\": [[0.0, \"#0d0887\"], [0.1111111111111111, \"#46039f\"], [0.2222222222222222, \"#7201a8\"], [0.3333333333333333, \"#9c179e\"], [0.4444444444444444, \"#bd3786\"], [0.5555555555555556, \"#d8576b\"], [0.6666666666666666, \"#ed7953\"], [0.7777777777777778, \"#fb9f3a\"], [0.8888888888888888, \"#fdca26\"], [1.0, \"#f0f921\"]], \"type\": \"surface\"}], \"table\": [{\"cells\": {\"fill\": {\"color\": \"#EBF0F8\"}, \"line\": {\"color\": \"white\"}}, \"header\": {\"fill\": {\"color\": \"#C8D4E3\"}, \"line\": {\"color\": \"white\"}}, \"type\": \"table\"}]}, \"layout\": {\"annotationdefaults\": {\"arrowcolor\": \"#2a3f5f\", \"arrowhead\": 0, \"arrowwidth\": 1}, \"coloraxis\": {\"colorbar\": {\"outlinewidth\": 0, \"ticks\": \"\"}}, \"colorscale\": {\"diverging\": [[0, \"#8e0152\"], [0.1, \"#c51b7d\"], [0.2, \"#de77ae\"], [0.3, \"#f1b6da\"], [0.4, \"#fde0ef\"], [0.5, \"#f7f7f7\"], [0.6, \"#e6f5d0\"], [0.7, \"#b8e186\"], [0.8, \"#7fbc41\"], [0.9, \"#4d9221\"], [1, \"#276419\"]], \"sequential\": [[0.0, \"#0d0887\"], [0.1111111111111111, \"#46039f\"], [0.2222222222222222, \"#7201a8\"], [0.3333333333333333, \"#9c179e\"], [0.4444444444444444, \"#bd3786\"], [0.5555555555555556, \"#d8576b\"], [0.6666666666666666, \"#ed7953\"], [0.7777777777777778, \"#fb9f3a\"], [0.8888888888888888, \"#fdca26\"], [1.0, \"#f0f921\"]], \"sequentialminus\": [[0.0, \"#0d0887\"], [0.1111111111111111, \"#46039f\"], [0.2222222222222222, \"#7201a8\"], [0.3333333333333333, \"#9c179e\"], [0.4444444444444444, \"#bd3786\"], [0.5555555555555556, \"#d8576b\"], [0.6666666666666666, \"#ed7953\"], [0.7777777777777778, \"#fb9f3a\"], [0.8888888888888888, \"#fdca26\"], [1.0, \"#f0f921\"]]}, \"colorway\": [\"#636efa\", \"#EF553B\", \"#00cc96\", \"#ab63fa\", \"#FFA15A\", \"#19d3f3\", \"#FF6692\", \"#B6E880\", \"#FF97FF\", \"#FECB52\"], \"font\": {\"color\": \"#2a3f5f\"}, \"geo\": {\"bgcolor\": \"white\", \"lakecolor\": \"white\", \"landcolor\": \"#E5ECF6\", \"showlakes\": true, \"showland\": true, \"subunitcolor\": \"white\"}, \"hoverlabel\": {\"align\": \"left\"}, \"hovermode\": \"closest\", \"mapbox\": {\"style\": \"light\"}, \"paper_bgcolor\": \"white\", \"plot_bgcolor\": \"#E5ECF6\", \"polar\": {\"angularaxis\": {\"gridcolor\": \"white\", \"linecolor\": \"white\", \"ticks\": \"\"}, \"bgcolor\": \"#E5ECF6\", \"radialaxis\": {\"gridcolor\": \"white\", \"linecolor\": \"white\", \"ticks\": \"\"}}, \"scene\": {\"xaxis\": {\"backgroundcolor\": \"#E5ECF6\", \"gridcolor\": \"white\", \"gridwidth\": 2, \"linecolor\": \"white\", \"showbackground\": true, \"ticks\": \"\", \"zerolinecolor\": \"white\"}, \"yaxis\": {\"backgroundcolor\": \"#E5ECF6\", \"gridcolor\": \"white\", \"gridwidth\": 2, \"linecolor\": \"white\", \"showbackground\": true, \"ticks\": \"\", \"zerolinecolor\": \"white\"}, \"zaxis\": {\"backgroundcolor\": \"#E5ECF6\", \"gridcolor\": \"white\", \"gridwidth\": 2, \"linecolor\": \"white\", \"showbackground\": true, \"ticks\": \"\", \"zerolinecolor\": \"white\"}}, \"shapedefaults\": {\"line\": {\"color\": \"#2a3f5f\"}}, \"ternary\": {\"aaxis\": {\"gridcolor\": \"white\", \"linecolor\": \"white\", \"ticks\": \"\"}, \"baxis\": {\"gridcolor\": \"white\", \"linecolor\": \"white\", \"ticks\": \"\"}, \"bgcolor\": \"#E5ECF6\", \"caxis\": {\"gridcolor\": \"white\", \"linecolor\": \"white\", \"ticks\": \"\"}}, \"title\": {\"x\": 0.05}, \"xaxis\": {\"automargin\": true, \"gridcolor\": \"white\", \"linecolor\": \"white\", \"ticks\": \"\", \"title\": {\"standoff\": 15}, \"zerolinecolor\": \"white\", \"zerolinewidth\": 2}, \"yaxis\": {\"automargin\": true, \"gridcolor\": \"white\", \"linecolor\": \"white\", \"ticks\": \"\", \"title\": {\"standoff\": 15}, \"zerolinecolor\": \"white\", \"zerolinewidth\": 2}}}, \"title\": {\"font\": {\"color\": \"#4D5663\"}}, \"xaxis\": {\"gridcolor\": \"#E1E5ED\", \"showgrid\": true, \"tickfont\": {\"color\": \"#4D5663\"}, \"title\": {\"font\": {\"color\": \"#4D5663\"}, \"text\": \"\"}, \"zerolinecolor\": \"#E1E5ED\"}, \"yaxis\": {\"gridcolor\": \"#E1E5ED\", \"showgrid\": true, \"tickfont\": {\"color\": \"#4D5663\"}, \"title\": {\"font\": {\"color\": \"#4D5663\"}, \"text\": \"\"}, \"zerolinecolor\": \"#E1E5ED\"}},\n",
       "                        {\"showLink\": true, \"linkText\": \"Export to plot.ly\", \"plotlyServerURL\": \"https://plot.ly\", \"responsive\": true}\n",
       "                    ).then(function(){\n",
       "                            \n",
       "var gd = document.getElementById('5bfbe0f9-817c-40ab-859a-1870d9ccc6a5');\n",
       "var x = new MutationObserver(function (mutations, observer) {{\n",
       "        var display = window.getComputedStyle(gd).display;\n",
       "        if (!display || display === 'none') {{\n",
       "            console.log([gd, 'removed!']);\n",
       "            Plotly.purge(gd);\n",
       "            observer.disconnect();\n",
       "        }}\n",
       "}});\n",
       "\n",
       "// Listen for the removal of the full notebook cells\n",
       "var notebookContainer = gd.closest('#notebook-container');\n",
       "if (notebookContainer) {{\n",
       "    x.observe(notebookContainer, {childList: true});\n",
       "}}\n",
       "\n",
       "// Listen for the clearing of the current output cell\n",
       "var outputEl = gd.closest('.output');\n",
       "if (outputEl) {{\n",
       "    x.observe(outputEl, {childList: true});\n",
       "}}\n",
       "\n",
       "                        })\n",
       "                };\n",
       "                });\n",
       "            </script>\n",
       "        </div>"
      ]
     },
     "metadata": {},
     "output_type": "display_data"
    }
   ],
   "source": [
    "df['A'].iplot(kind='hist',bins=25)"
   ]
  },
  {
   "cell_type": "code",
   "execution_count": 17,
   "metadata": {},
   "outputs": [
    {
     "data": {
      "application/vnd.plotly.v1+json": {
       "config": {
        "linkText": "Export to plot.ly",
        "plotlyServerURL": "https://plot.ly",
        "showLink": true
       },
       "data": [
        {
         "histfunc": "count",
         "histnorm": "",
         "marker": {
          "color": "rgba(255, 153, 51, 1.0)",
          "line": {
           "color": "#4D5663",
           "width": 1.3
          }
         },
         "name": "A",
         "nbinsx": 25,
         "opacity": 0.8,
         "orientation": "v",
         "type": "histogram",
         "x": [
          -1.0099361673355667,
          -1.0284575537950853,
          -0.11589523503021203,
          -0.3871577102854481,
          -0.8802462358509756,
          -0.5073178289505085,
          -0.25872977857744495,
          -0.8451154146551735,
          -1.6753380560258833,
          -0.3197009244061666,
          -0.13563348234303227,
          -1.311691245631022,
          -1.249731033152953,
          0.17890604821843886,
          -1.128427638771329,
          -1.1636664744849745,
          -0.9412243713819362,
          -0.38570173042512107,
          -0.8003953490624793,
          0.8825029834565344,
          1.524337052036057,
          -0.23052058779768336,
          1.9285582193640014,
          -0.872188772166427,
          -0.3176075253149898,
          2.606580520825616,
          -1.1995356504360102,
          -0.5183516090778959,
          -0.04436142535581713,
          -0.18480369022350523,
          -1.7547311219167303,
          0.4348163458344423,
          0.02896010894576578,
          1.1883323868662738,
          1.6732989603111974,
          -0.8210953393613368,
          0.5004305409127747,
          -0.22178532385423305,
          -0.7454328674035887,
          2.1180173982206956,
          1.190563692517457,
          0.3138573805554352,
          -0.9935779216404051,
          -0.3647175556508881,
          0.5068831822214218,
          0.20910917496939357,
          0.577713713083106,
          -0.29978283141123724,
          -0.2873028727788575,
          -0.46363559405313143,
          -0.9206774761598664,
          -0.755950329387749,
          0.7922037497771531,
          -0.8795695353900919,
          0.28776576333898585,
          -0.23417565168839716,
          -1.9708555241106436,
          0.9824316178908786,
          -1.98662055858986,
          -0.7296201496003367,
          0.7238839666288359,
          1.5974689722403834,
          1.801589947153041,
          -0.7232840189194383,
          -1.0681986697213794,
          -0.5992838692605261,
          2.239239240441496,
          -0.2396645330815824,
          -0.04239926731173785,
          0.8738657260289925,
          -0.8714936725210958,
          1.0533376696933532,
          0.028493839037042872,
          0.9603494061902195,
          0.8199228021104203,
          1.4708360154901292,
          -1.104738720637537,
          -1.6868861956709762,
          1.0938651017022927,
          2.1390860039617507,
          -0.3705530670203375,
          -0.18840168960734383,
          0.42753386535746246,
          0.6980400869787413,
          -0.6402916416160395,
          -0.02222079553462808,
          -0.4216825148927192,
          0.280887190385779,
          -0.643768601883412,
          -0.6875539894115286,
          -1.3443114433014156,
          -0.25555254723379944,
          1.2335524942281835,
          -0.09161187909282938,
          1.0278257484361688,
          -0.514950707958829,
          -1.6295755204874562,
          -0.53058233036871,
          -0.06432271315517117,
          -0.4852358829857144
         ]
        },
        {
         "histfunc": "count",
         "histnorm": "",
         "marker": {
          "color": "rgba(55, 128, 191, 1.0)",
          "line": {
           "color": "#4D5663",
           "width": 1.3
          }
         },
         "name": "B",
         "nbinsx": 25,
         "opacity": 0.8,
         "orientation": "v",
         "type": "histogram",
         "x": [
          0.744450190015796,
          1.1894557449729342,
          0.6014866195311764,
          -0.8880130958919555,
          0.2634422442550224,
          0.6626931843686664,
          -1.1250880401227368,
          0.4771603153029794,
          -0.1490065026960575,
          -0.9623205020230357,
          1.4401318165613903,
          1.4082689738738148,
          0.10270692830268753,
          0.01425779846376388,
          -1.480304960527278,
          -0.824423835202117,
          -0.5511105572426905,
          0.15703184361306663,
          0.9234900532311175,
          0.1613158759882807,
          -0.644491423073877,
          -1.2120176461084518,
          1.016181721468633,
          -0.6319609682834901,
          -0.24129550029875582,
          0.553567424049745,
          -0.62444452813727,
          0.22496068588193177,
          0.8743351098471469,
          1.7059386069757694,
          -1.9206327186061418,
          0.7686062004369781,
          -1.259648403612559,
          0.1096277410328048,
          0.9387094528772576,
          -0.27461979313709567,
          1.6207957707630838,
          0.06169141959846879,
          -0.4865658395535811,
          -0.5858756480838269,
          -0.8884612999138807,
          0.13300720372341124,
          1.2981909174656012,
          0.34230516992051746,
          0.4919371479311787,
          0.36239582310865504,
          -0.7208562108905195,
          0.6914975574734396,
          0.36195579934636735,
          -0.22232409309193057,
          0.065663078950636,
          0.1985313405036117,
          1.6933038949156938,
          -0.46264733238674816,
          1.7763447430055253,
          -0.640759791350102,
          -0.6793491505404466,
          0.4267992066295522,
          -1.1422053149767915,
          -0.7766786239708781,
          0.8754471153083129,
          -0.8903352167441764,
          -0.8840619009663945,
          -0.3280940175291615,
          0.3685108324294671,
          -0.5897320779624863,
          0.5219386165501887,
          0.10200882724863404,
          -0.30850418604752317,
          -0.08803823463831988,
          -1.557089116787949,
          0.5682957147945388,
          0.5278400244507687,
          1.4323269258374178,
          0.5576802769913602,
          2.204605797704065,
          -0.535349852025295,
          1.1789203019870378,
          0.30611952626236455,
          0.45594684826678866,
          1.8433513627069207,
          0.4245202276944359,
          1.031079593495038,
          1.5566392860476528,
          -0.5803530558234599,
          -1.252281916948563,
          -0.7086537222484671,
          0.5936620950802783,
          0.4854826118308957,
          -0.13808162235319374,
          0.07744183888892246,
          0.5157739214893406,
          0.1884566433660276,
          0.5637646438290826,
          -0.06990828503654249,
          0.8880289293608626,
          0.5309382058701448,
          -2.150688191460801,
          -1.0081065888477767,
          -0.6843264190330478
         ]
        },
        {
         "histfunc": "count",
         "histnorm": "",
         "marker": {
          "color": "rgba(50, 171, 96, 1.0)",
          "line": {
           "color": "#4D5663",
           "width": 1.3
          }
         },
         "name": "C",
         "nbinsx": 25,
         "opacity": 0.8,
         "orientation": "v",
         "type": "histogram",
         "x": [
          -0.10844688366607731,
          0.16733633352974903,
          -1.003064679877997,
          0.11892881146560684,
          1.3333393915304186,
          -0.6448370494894287,
          -0.036934364214063056,
          -0.3354599867804685,
          0.8594130791664836,
          2.292550494907262,
          0.5851055074273075,
          -0.22373305898021273,
          -1.318829471484427,
          -0.47687927302096245,
          0.32297553601603296,
          -0.9758488905489777,
          0.6691342481305712,
          -0.5916234672327101,
          1.5989795847107482,
          -0.008847456786420628,
          0.4361699102532506,
          0.5632537291646132,
          -0.37933737575918364,
          -1.7887425453458037,
          -0.16753674441022864,
          -0.1409974236530499,
          1.4527206204041516,
          0.2997776368855433,
          -1.252308620876837,
          1.5982594919483113,
          0.19845250704666614,
          0.056605879498077494,
          1.9644044349481293,
          0.7658980591791495,
          -1.2973172481097486,
          -0.21107855605363565,
          -0.7057809538742765,
          -0.5836330480381826,
          -0.48340573189183406,
          0.014404479745272855,
          1.243791708976414,
          0.03911915089532694,
          0.8073366696093068,
          -0.21777867566887507,
          1.3206067041685183,
          0.5533690325022966,
          0.8478371294383951,
          -0.8219481286093834,
          0.8189156313408671,
          -1.8039272994473976,
          0.8134404378623654,
          -0.839922688506824,
          1.1213654983659211,
          -0.3175238420362532,
          -1.040232527431456,
          1.9270211148796856,
          0.49816493558492425,
          0.7210957281645702,
          -1.3711562942618596,
          0.18148120905557177,
          1.4177973798560877,
          0.8473564728331587,
          -2.467072144710912,
          -0.7725036485221717,
          -0.04099859162106744,
          0.8023311379678135,
          -0.05201887677702289,
          -0.2206430931931036,
          0.013789184936669339,
          0.2812407546994943,
          0.6677118079355471,
          -1.1298860728877786,
          1.38237155109421,
          -0.3908186085017909,
          -0.6235459428811388,
          0.1525324826063132,
          0.4853510459498709,
          -0.3342588245362525,
          -1.1074568386912864,
          0.3716183728865845,
          0.1283188309393588,
          1.3247212909650026,
          -0.29847719147752716,
          -0.6070218711864458,
          -1.9899820556255035,
          -0.17916009699644542,
          -0.7586603660994995,
          -0.2276209432381251,
          -0.8404747300241181,
          0.5987703429564175,
          -0.13878088527091056,
          -0.42396204344891697,
          0.4610587122947592,
          -0.37852470756784384,
          0.14418526352165398,
          0.02070290882063936,
          1.1492810604208865,
          0.24475333684183478,
          -0.09764569239807382,
          -0.758534462637969
         ]
        },
        {
         "histfunc": "count",
         "histnorm": "",
         "marker": {
          "color": "rgba(128, 0, 128, 1.0)",
          "line": {
           "color": "#4D5663",
           "width": 1.3
          }
         },
         "name": "D",
         "nbinsx": 25,
         "opacity": 0.8,
         "orientation": "v",
         "type": "histogram",
         "x": [
          -1.1393184613711067,
          0.6793613666635172,
          0.28974041098371095,
          0.9470289347185049,
          1.855321234974801,
          -1.7722316176818371,
          1.3554955322757567,
          0.6432624264780246,
          0.34848058672818405,
          -0.37728668399111714,
          -1.759013929417471,
          -1.0671607454395564,
          -0.7795066221851681,
          -0.46696370159275197,
          0.8378772934461107,
          -1.265943442354089,
          0.707706194731624,
          -1.1598784355469942,
          0.3903579271561808,
          -0.18055035634994288,
          -1.7614489328259577,
          -1.548005517264043,
          -0.4476933691867463,
          0.4725205261924256,
          -0.9047678988456344,
          0.40299125921404544,
          0.3833443037713799,
          0.6086588925414255,
          0.10551045807600429,
          0.5398565778298426,
          -0.3253123067260765,
          2.410609715713139,
          -0.6875386256442397,
          1.803037824681518,
          -2.04461480952745,
          -1.6165455705422103,
          -0.8649796621911521,
          -0.20754981724057178,
          0.7162581858362861,
          0.3956552328909221,
          1.5562153420059015,
          -1.4048973439846717,
          0.7235465006901312,
          -1.1828001124403158,
          1.7670220708468052,
          -1.6483267663795467,
          1.2959639144400708,
          0.01137317773399804,
          0.24892171983224393,
          -1.3804822111812494,
          -0.1552211611756199,
          -0.3336621916615375,
          0.21704118913381892,
          0.22648720227245717,
          -2.3223235953886916,
          -1.6659328759101266,
          -0.43578175542352915,
          -0.020671620075946844,
          1.6098798041556606,
          0.9917772179785025,
          0.7561089928128429,
          -0.03075331935853545,
          0.9213688877157874,
          -1.7534585372719176,
          -1.0670716083211633,
          -1.2617429985339306,
          0.78279386642726,
          -1.0387525520793024,
          -0.8392526693580369,
          -0.218506857832733,
          0.20734729417789693,
          -0.3062181818320245,
          -0.8620903828109703,
          -1.3209325312822953,
          0.9747528909197947,
          -0.8663554124148628,
          0.4754132016880406,
          -0.3523819524286089,
          -1.3339226336427972,
          0.03678425634872807,
          0.16668823781780848,
          0.72486473881676,
          0.685991570942405,
          0.7495820181096875,
          0.7232736844271054,
          -1.6074542095465134,
          -0.17574514087516413,
          -1.6612646063680152,
          -1.303417435980111,
          2.0350458483027345,
          -0.5807409988730624,
          0.6720747309461574,
          -0.28525772520585135,
          2.248184362196986,
          0.7116960828106597,
          1.6614735371334814,
          -1.400668549764246,
          -0.3335111223037445,
          -2.0430793137092835,
          -1.624903816980265
         ]
        }
       ],
       "layout": {
        "barmode": "overlay",
        "legend": {
         "bgcolor": "#F5F6F9",
         "font": {
          "color": "#4D5663"
         }
        },
        "paper_bgcolor": "#F5F6F9",
        "plot_bgcolor": "#F5F6F9",
        "template": {
         "data": {
          "bar": [
           {
            "error_x": {
             "color": "#2a3f5f"
            },
            "error_y": {
             "color": "#2a3f5f"
            },
            "marker": {
             "line": {
              "color": "#E5ECF6",
              "width": 0.5
             }
            },
            "type": "bar"
           }
          ],
          "barpolar": [
           {
            "marker": {
             "line": {
              "color": "#E5ECF6",
              "width": 0.5
             }
            },
            "type": "barpolar"
           }
          ],
          "carpet": [
           {
            "aaxis": {
             "endlinecolor": "#2a3f5f",
             "gridcolor": "white",
             "linecolor": "white",
             "minorgridcolor": "white",
             "startlinecolor": "#2a3f5f"
            },
            "baxis": {
             "endlinecolor": "#2a3f5f",
             "gridcolor": "white",
             "linecolor": "white",
             "minorgridcolor": "white",
             "startlinecolor": "#2a3f5f"
            },
            "type": "carpet"
           }
          ],
          "choropleth": [
           {
            "colorbar": {
             "outlinewidth": 0,
             "ticks": ""
            },
            "type": "choropleth"
           }
          ],
          "contour": [
           {
            "colorbar": {
             "outlinewidth": 0,
             "ticks": ""
            },
            "colorscale": [
             [
              0,
              "#0d0887"
             ],
             [
              0.1111111111111111,
              "#46039f"
             ],
             [
              0.2222222222222222,
              "#7201a8"
             ],
             [
              0.3333333333333333,
              "#9c179e"
             ],
             [
              0.4444444444444444,
              "#bd3786"
             ],
             [
              0.5555555555555556,
              "#d8576b"
             ],
             [
              0.6666666666666666,
              "#ed7953"
             ],
             [
              0.7777777777777778,
              "#fb9f3a"
             ],
             [
              0.8888888888888888,
              "#fdca26"
             ],
             [
              1,
              "#f0f921"
             ]
            ],
            "type": "contour"
           }
          ],
          "contourcarpet": [
           {
            "colorbar": {
             "outlinewidth": 0,
             "ticks": ""
            },
            "type": "contourcarpet"
           }
          ],
          "heatmap": [
           {
            "colorbar": {
             "outlinewidth": 0,
             "ticks": ""
            },
            "colorscale": [
             [
              0,
              "#0d0887"
             ],
             [
              0.1111111111111111,
              "#46039f"
             ],
             [
              0.2222222222222222,
              "#7201a8"
             ],
             [
              0.3333333333333333,
              "#9c179e"
             ],
             [
              0.4444444444444444,
              "#bd3786"
             ],
             [
              0.5555555555555556,
              "#d8576b"
             ],
             [
              0.6666666666666666,
              "#ed7953"
             ],
             [
              0.7777777777777778,
              "#fb9f3a"
             ],
             [
              0.8888888888888888,
              "#fdca26"
             ],
             [
              1,
              "#f0f921"
             ]
            ],
            "type": "heatmap"
           }
          ],
          "heatmapgl": [
           {
            "colorbar": {
             "outlinewidth": 0,
             "ticks": ""
            },
            "colorscale": [
             [
              0,
              "#0d0887"
             ],
             [
              0.1111111111111111,
              "#46039f"
             ],
             [
              0.2222222222222222,
              "#7201a8"
             ],
             [
              0.3333333333333333,
              "#9c179e"
             ],
             [
              0.4444444444444444,
              "#bd3786"
             ],
             [
              0.5555555555555556,
              "#d8576b"
             ],
             [
              0.6666666666666666,
              "#ed7953"
             ],
             [
              0.7777777777777778,
              "#fb9f3a"
             ],
             [
              0.8888888888888888,
              "#fdca26"
             ],
             [
              1,
              "#f0f921"
             ]
            ],
            "type": "heatmapgl"
           }
          ],
          "histogram": [
           {
            "marker": {
             "colorbar": {
              "outlinewidth": 0,
              "ticks": ""
             }
            },
            "type": "histogram"
           }
          ],
          "histogram2d": [
           {
            "colorbar": {
             "outlinewidth": 0,
             "ticks": ""
            },
            "colorscale": [
             [
              0,
              "#0d0887"
             ],
             [
              0.1111111111111111,
              "#46039f"
             ],
             [
              0.2222222222222222,
              "#7201a8"
             ],
             [
              0.3333333333333333,
              "#9c179e"
             ],
             [
              0.4444444444444444,
              "#bd3786"
             ],
             [
              0.5555555555555556,
              "#d8576b"
             ],
             [
              0.6666666666666666,
              "#ed7953"
             ],
             [
              0.7777777777777778,
              "#fb9f3a"
             ],
             [
              0.8888888888888888,
              "#fdca26"
             ],
             [
              1,
              "#f0f921"
             ]
            ],
            "type": "histogram2d"
           }
          ],
          "histogram2dcontour": [
           {
            "colorbar": {
             "outlinewidth": 0,
             "ticks": ""
            },
            "colorscale": [
             [
              0,
              "#0d0887"
             ],
             [
              0.1111111111111111,
              "#46039f"
             ],
             [
              0.2222222222222222,
              "#7201a8"
             ],
             [
              0.3333333333333333,
              "#9c179e"
             ],
             [
              0.4444444444444444,
              "#bd3786"
             ],
             [
              0.5555555555555556,
              "#d8576b"
             ],
             [
              0.6666666666666666,
              "#ed7953"
             ],
             [
              0.7777777777777778,
              "#fb9f3a"
             ],
             [
              0.8888888888888888,
              "#fdca26"
             ],
             [
              1,
              "#f0f921"
             ]
            ],
            "type": "histogram2dcontour"
           }
          ],
          "mesh3d": [
           {
            "colorbar": {
             "outlinewidth": 0,
             "ticks": ""
            },
            "type": "mesh3d"
           }
          ],
          "parcoords": [
           {
            "line": {
             "colorbar": {
              "outlinewidth": 0,
              "ticks": ""
             }
            },
            "type": "parcoords"
           }
          ],
          "pie": [
           {
            "automargin": true,
            "type": "pie"
           }
          ],
          "scatter": [
           {
            "marker": {
             "colorbar": {
              "outlinewidth": 0,
              "ticks": ""
             }
            },
            "type": "scatter"
           }
          ],
          "scatter3d": [
           {
            "line": {
             "colorbar": {
              "outlinewidth": 0,
              "ticks": ""
             }
            },
            "marker": {
             "colorbar": {
              "outlinewidth": 0,
              "ticks": ""
             }
            },
            "type": "scatter3d"
           }
          ],
          "scattercarpet": [
           {
            "marker": {
             "colorbar": {
              "outlinewidth": 0,
              "ticks": ""
             }
            },
            "type": "scattercarpet"
           }
          ],
          "scattergeo": [
           {
            "marker": {
             "colorbar": {
              "outlinewidth": 0,
              "ticks": ""
             }
            },
            "type": "scattergeo"
           }
          ],
          "scattergl": [
           {
            "marker": {
             "colorbar": {
              "outlinewidth": 0,
              "ticks": ""
             }
            },
            "type": "scattergl"
           }
          ],
          "scattermapbox": [
           {
            "marker": {
             "colorbar": {
              "outlinewidth": 0,
              "ticks": ""
             }
            },
            "type": "scattermapbox"
           }
          ],
          "scatterpolar": [
           {
            "marker": {
             "colorbar": {
              "outlinewidth": 0,
              "ticks": ""
             }
            },
            "type": "scatterpolar"
           }
          ],
          "scatterpolargl": [
           {
            "marker": {
             "colorbar": {
              "outlinewidth": 0,
              "ticks": ""
             }
            },
            "type": "scatterpolargl"
           }
          ],
          "scatterternary": [
           {
            "marker": {
             "colorbar": {
              "outlinewidth": 0,
              "ticks": ""
             }
            },
            "type": "scatterternary"
           }
          ],
          "surface": [
           {
            "colorbar": {
             "outlinewidth": 0,
             "ticks": ""
            },
            "colorscale": [
             [
              0,
              "#0d0887"
             ],
             [
              0.1111111111111111,
              "#46039f"
             ],
             [
              0.2222222222222222,
              "#7201a8"
             ],
             [
              0.3333333333333333,
              "#9c179e"
             ],
             [
              0.4444444444444444,
              "#bd3786"
             ],
             [
              0.5555555555555556,
              "#d8576b"
             ],
             [
              0.6666666666666666,
              "#ed7953"
             ],
             [
              0.7777777777777778,
              "#fb9f3a"
             ],
             [
              0.8888888888888888,
              "#fdca26"
             ],
             [
              1,
              "#f0f921"
             ]
            ],
            "type": "surface"
           }
          ],
          "table": [
           {
            "cells": {
             "fill": {
              "color": "#EBF0F8"
             },
             "line": {
              "color": "white"
             }
            },
            "header": {
             "fill": {
              "color": "#C8D4E3"
             },
             "line": {
              "color": "white"
             }
            },
            "type": "table"
           }
          ]
         },
         "layout": {
          "annotationdefaults": {
           "arrowcolor": "#2a3f5f",
           "arrowhead": 0,
           "arrowwidth": 1
          },
          "coloraxis": {
           "colorbar": {
            "outlinewidth": 0,
            "ticks": ""
           }
          },
          "colorscale": {
           "diverging": [
            [
             0,
             "#8e0152"
            ],
            [
             0.1,
             "#c51b7d"
            ],
            [
             0.2,
             "#de77ae"
            ],
            [
             0.3,
             "#f1b6da"
            ],
            [
             0.4,
             "#fde0ef"
            ],
            [
             0.5,
             "#f7f7f7"
            ],
            [
             0.6,
             "#e6f5d0"
            ],
            [
             0.7,
             "#b8e186"
            ],
            [
             0.8,
             "#7fbc41"
            ],
            [
             0.9,
             "#4d9221"
            ],
            [
             1,
             "#276419"
            ]
           ],
           "sequential": [
            [
             0,
             "#0d0887"
            ],
            [
             0.1111111111111111,
             "#46039f"
            ],
            [
             0.2222222222222222,
             "#7201a8"
            ],
            [
             0.3333333333333333,
             "#9c179e"
            ],
            [
             0.4444444444444444,
             "#bd3786"
            ],
            [
             0.5555555555555556,
             "#d8576b"
            ],
            [
             0.6666666666666666,
             "#ed7953"
            ],
            [
             0.7777777777777778,
             "#fb9f3a"
            ],
            [
             0.8888888888888888,
             "#fdca26"
            ],
            [
             1,
             "#f0f921"
            ]
           ],
           "sequentialminus": [
            [
             0,
             "#0d0887"
            ],
            [
             0.1111111111111111,
             "#46039f"
            ],
            [
             0.2222222222222222,
             "#7201a8"
            ],
            [
             0.3333333333333333,
             "#9c179e"
            ],
            [
             0.4444444444444444,
             "#bd3786"
            ],
            [
             0.5555555555555556,
             "#d8576b"
            ],
            [
             0.6666666666666666,
             "#ed7953"
            ],
            [
             0.7777777777777778,
             "#fb9f3a"
            ],
            [
             0.8888888888888888,
             "#fdca26"
            ],
            [
             1,
             "#f0f921"
            ]
           ]
          },
          "colorway": [
           "#636efa",
           "#EF553B",
           "#00cc96",
           "#ab63fa",
           "#FFA15A",
           "#19d3f3",
           "#FF6692",
           "#B6E880",
           "#FF97FF",
           "#FECB52"
          ],
          "font": {
           "color": "#2a3f5f"
          },
          "geo": {
           "bgcolor": "white",
           "lakecolor": "white",
           "landcolor": "#E5ECF6",
           "showlakes": true,
           "showland": true,
           "subunitcolor": "white"
          },
          "hoverlabel": {
           "align": "left"
          },
          "hovermode": "closest",
          "mapbox": {
           "style": "light"
          },
          "paper_bgcolor": "white",
          "plot_bgcolor": "#E5ECF6",
          "polar": {
           "angularaxis": {
            "gridcolor": "white",
            "linecolor": "white",
            "ticks": ""
           },
           "bgcolor": "#E5ECF6",
           "radialaxis": {
            "gridcolor": "white",
            "linecolor": "white",
            "ticks": ""
           }
          },
          "scene": {
           "xaxis": {
            "backgroundcolor": "#E5ECF6",
            "gridcolor": "white",
            "gridwidth": 2,
            "linecolor": "white",
            "showbackground": true,
            "ticks": "",
            "zerolinecolor": "white"
           },
           "yaxis": {
            "backgroundcolor": "#E5ECF6",
            "gridcolor": "white",
            "gridwidth": 2,
            "linecolor": "white",
            "showbackground": true,
            "ticks": "",
            "zerolinecolor": "white"
           },
           "zaxis": {
            "backgroundcolor": "#E5ECF6",
            "gridcolor": "white",
            "gridwidth": 2,
            "linecolor": "white",
            "showbackground": true,
            "ticks": "",
            "zerolinecolor": "white"
           }
          },
          "shapedefaults": {
           "line": {
            "color": "#2a3f5f"
           }
          },
          "ternary": {
           "aaxis": {
            "gridcolor": "white",
            "linecolor": "white",
            "ticks": ""
           },
           "baxis": {
            "gridcolor": "white",
            "linecolor": "white",
            "ticks": ""
           },
           "bgcolor": "#E5ECF6",
           "caxis": {
            "gridcolor": "white",
            "linecolor": "white",
            "ticks": ""
           }
          },
          "title": {
           "x": 0.05
          },
          "xaxis": {
           "automargin": true,
           "gridcolor": "white",
           "linecolor": "white",
           "ticks": "",
           "title": {
            "standoff": 15
           },
           "zerolinecolor": "white",
           "zerolinewidth": 2
          },
          "yaxis": {
           "automargin": true,
           "gridcolor": "white",
           "linecolor": "white",
           "ticks": "",
           "title": {
            "standoff": 15
           },
           "zerolinecolor": "white",
           "zerolinewidth": 2
          }
         }
        },
        "title": {
         "font": {
          "color": "#4D5663"
         }
        },
        "xaxis": {
         "gridcolor": "#E1E5ED",
         "showgrid": true,
         "tickfont": {
          "color": "#4D5663"
         },
         "title": {
          "font": {
           "color": "#4D5663"
          },
          "text": ""
         },
         "zerolinecolor": "#E1E5ED"
        },
        "yaxis": {
         "gridcolor": "#E1E5ED",
         "showgrid": true,
         "tickfont": {
          "color": "#4D5663"
         },
         "title": {
          "font": {
           "color": "#4D5663"
          },
          "text": ""
         },
         "zerolinecolor": "#E1E5ED"
        }
       }
      },
      "text/html": [
       "<div>\n",
       "        \n",
       "        \n",
       "            <div id=\"8a98a821-7189-4988-9e38-4692f9816fe2\" class=\"plotly-graph-div\" style=\"height:525px; width:100%;\"></div>\n",
       "            <script type=\"text/javascript\">\n",
       "                require([\"plotly\"], function(Plotly) {\n",
       "                    window.PLOTLYENV=window.PLOTLYENV || {};\n",
       "                    window.PLOTLYENV.BASE_URL='https://plot.ly';\n",
       "                    \n",
       "                if (document.getElementById(\"8a98a821-7189-4988-9e38-4692f9816fe2\")) {\n",
       "                    Plotly.newPlot(\n",
       "                        '8a98a821-7189-4988-9e38-4692f9816fe2',\n",
       "                        [{\"histfunc\": \"count\", \"histnorm\": \"\", \"marker\": {\"color\": \"rgba(255, 153, 51, 1.0)\", \"line\": {\"color\": \"#4D5663\", \"width\": 1.3}}, \"name\": \"A\", \"nbinsx\": 25, \"opacity\": 0.8, \"orientation\": \"v\", \"type\": \"histogram\", \"x\": [-1.0099361673355667, -1.0284575537950853, -0.11589523503021203, -0.3871577102854481, -0.8802462358509756, -0.5073178289505085, -0.25872977857744495, -0.8451154146551735, -1.6753380560258833, -0.3197009244061666, -0.13563348234303227, -1.311691245631022, -1.249731033152953, 0.17890604821843886, -1.128427638771329, -1.1636664744849745, -0.9412243713819362, -0.38570173042512107, -0.8003953490624793, 0.8825029834565344, 1.524337052036057, -0.23052058779768336, 1.9285582193640014, -0.872188772166427, -0.3176075253149898, 2.606580520825616, -1.1995356504360102, -0.5183516090778959, -0.04436142535581713, -0.18480369022350523, -1.7547311219167303, 0.4348163458344423, 0.02896010894576578, 1.1883323868662738, 1.6732989603111974, -0.8210953393613368, 0.5004305409127747, -0.22178532385423305, -0.7454328674035887, 2.1180173982206956, 1.190563692517457, 0.3138573805554352, -0.9935779216404051, -0.3647175556508881, 0.5068831822214218, 0.20910917496939357, 0.577713713083106, -0.29978283141123724, -0.2873028727788575, -0.46363559405313143, -0.9206774761598664, -0.755950329387749, 0.7922037497771531, -0.8795695353900919, 0.28776576333898585, -0.23417565168839716, -1.9708555241106436, 0.9824316178908786, -1.98662055858986, -0.7296201496003367, 0.7238839666288359, 1.5974689722403834, 1.801589947153041, -0.7232840189194383, -1.0681986697213794, -0.5992838692605261, 2.239239240441496, -0.2396645330815824, -0.04239926731173785, 0.8738657260289925, -0.8714936725210958, 1.0533376696933532, 0.028493839037042872, 0.9603494061902195, 0.8199228021104203, 1.4708360154901292, -1.104738720637537, -1.6868861956709762, 1.0938651017022927, 2.1390860039617507, -0.3705530670203375, -0.18840168960734383, 0.42753386535746246, 0.6980400869787413, -0.6402916416160395, -0.02222079553462808, -0.4216825148927192, 0.280887190385779, -0.643768601883412, -0.6875539894115286, -1.3443114433014156, -0.25555254723379944, 1.2335524942281835, -0.09161187909282938, 1.0278257484361688, -0.514950707958829, -1.6295755204874562, -0.53058233036871, -0.06432271315517117, -0.4852358829857144]}, {\"histfunc\": \"count\", \"histnorm\": \"\", \"marker\": {\"color\": \"rgba(55, 128, 191, 1.0)\", \"line\": {\"color\": \"#4D5663\", \"width\": 1.3}}, \"name\": \"B\", \"nbinsx\": 25, \"opacity\": 0.8, \"orientation\": \"v\", \"type\": \"histogram\", \"x\": [0.744450190015796, 1.1894557449729342, 0.6014866195311764, -0.8880130958919555, 0.2634422442550224, 0.6626931843686664, -1.1250880401227368, 0.4771603153029794, -0.1490065026960575, -0.9623205020230357, 1.4401318165613903, 1.4082689738738148, 0.10270692830268753, 0.01425779846376388, -1.480304960527278, -0.824423835202117, -0.5511105572426905, 0.15703184361306663, 0.9234900532311175, 0.1613158759882807, -0.644491423073877, -1.2120176461084518, 1.016181721468633, -0.6319609682834901, -0.24129550029875582, 0.553567424049745, -0.62444452813727, 0.22496068588193177, 0.8743351098471469, 1.7059386069757694, -1.9206327186061418, 0.7686062004369781, -1.259648403612559, 0.1096277410328048, 0.9387094528772576, -0.27461979313709567, 1.6207957707630838, 0.06169141959846879, -0.4865658395535811, -0.5858756480838269, -0.8884612999138807, 0.13300720372341124, 1.2981909174656012, 0.34230516992051746, 0.4919371479311787, 0.36239582310865504, -0.7208562108905195, 0.6914975574734396, 0.36195579934636735, -0.22232409309193057, 0.065663078950636, 0.1985313405036117, 1.6933038949156938, -0.46264733238674816, 1.7763447430055253, -0.640759791350102, -0.6793491505404466, 0.4267992066295522, -1.1422053149767915, -0.7766786239708781, 0.8754471153083129, -0.8903352167441764, -0.8840619009663945, -0.3280940175291615, 0.3685108324294671, -0.5897320779624863, 0.5219386165501887, 0.10200882724863404, -0.30850418604752317, -0.08803823463831988, -1.557089116787949, 0.5682957147945388, 0.5278400244507687, 1.4323269258374178, 0.5576802769913602, 2.204605797704065, -0.535349852025295, 1.1789203019870378, 0.30611952626236455, 0.45594684826678866, 1.8433513627069207, 0.4245202276944359, 1.031079593495038, 1.5566392860476528, -0.5803530558234599, -1.252281916948563, -0.7086537222484671, 0.5936620950802783, 0.4854826118308957, -0.13808162235319374, 0.07744183888892246, 0.5157739214893406, 0.1884566433660276, 0.5637646438290826, -0.06990828503654249, 0.8880289293608626, 0.5309382058701448, -2.150688191460801, -1.0081065888477767, -0.6843264190330478]}, {\"histfunc\": \"count\", \"histnorm\": \"\", \"marker\": {\"color\": \"rgba(50, 171, 96, 1.0)\", \"line\": {\"color\": \"#4D5663\", \"width\": 1.3}}, \"name\": \"C\", \"nbinsx\": 25, \"opacity\": 0.8, \"orientation\": \"v\", \"type\": \"histogram\", \"x\": [-0.10844688366607731, 0.16733633352974903, -1.003064679877997, 0.11892881146560684, 1.3333393915304186, -0.6448370494894287, -0.036934364214063056, -0.3354599867804685, 0.8594130791664836, 2.292550494907262, 0.5851055074273075, -0.22373305898021273, -1.318829471484427, -0.47687927302096245, 0.32297553601603296, -0.9758488905489777, 0.6691342481305712, -0.5916234672327101, 1.5989795847107482, -0.008847456786420628, 0.4361699102532506, 0.5632537291646132, -0.37933737575918364, -1.7887425453458037, -0.16753674441022864, -0.1409974236530499, 1.4527206204041516, 0.2997776368855433, -1.252308620876837, 1.5982594919483113, 0.19845250704666614, 0.056605879498077494, 1.9644044349481293, 0.7658980591791495, -1.2973172481097486, -0.21107855605363565, -0.7057809538742765, -0.5836330480381826, -0.48340573189183406, 0.014404479745272855, 1.243791708976414, 0.03911915089532694, 0.8073366696093068, -0.21777867566887507, 1.3206067041685183, 0.5533690325022966, 0.8478371294383951, -0.8219481286093834, 0.8189156313408671, -1.8039272994473976, 0.8134404378623654, -0.839922688506824, 1.1213654983659211, -0.3175238420362532, -1.040232527431456, 1.9270211148796856, 0.49816493558492425, 0.7210957281645702, -1.3711562942618596, 0.18148120905557177, 1.4177973798560877, 0.8473564728331587, -2.467072144710912, -0.7725036485221717, -0.04099859162106744, 0.8023311379678135, -0.05201887677702289, -0.2206430931931036, 0.013789184936669339, 0.2812407546994943, 0.6677118079355471, -1.1298860728877786, 1.38237155109421, -0.3908186085017909, -0.6235459428811388, 0.1525324826063132, 0.4853510459498709, -0.3342588245362525, -1.1074568386912864, 0.3716183728865845, 0.1283188309393588, 1.3247212909650026, -0.29847719147752716, -0.6070218711864458, -1.9899820556255035, -0.17916009699644542, -0.7586603660994995, -0.2276209432381251, -0.8404747300241181, 0.5987703429564175, -0.13878088527091056, -0.42396204344891697, 0.4610587122947592, -0.37852470756784384, 0.14418526352165398, 0.02070290882063936, 1.1492810604208865, 0.24475333684183478, -0.09764569239807382, -0.758534462637969]}, {\"histfunc\": \"count\", \"histnorm\": \"\", \"marker\": {\"color\": \"rgba(128, 0, 128, 1.0)\", \"line\": {\"color\": \"#4D5663\", \"width\": 1.3}}, \"name\": \"D\", \"nbinsx\": 25, \"opacity\": 0.8, \"orientation\": \"v\", \"type\": \"histogram\", \"x\": [-1.1393184613711067, 0.6793613666635172, 0.28974041098371095, 0.9470289347185049, 1.855321234974801, -1.7722316176818371, 1.3554955322757567, 0.6432624264780246, 0.34848058672818405, -0.37728668399111714, -1.759013929417471, -1.0671607454395564, -0.7795066221851681, -0.46696370159275197, 0.8378772934461107, -1.265943442354089, 0.707706194731624, -1.1598784355469942, 0.3903579271561808, -0.18055035634994288, -1.7614489328259577, -1.548005517264043, -0.4476933691867463, 0.4725205261924256, -0.9047678988456344, 0.40299125921404544, 0.3833443037713799, 0.6086588925414255, 0.10551045807600429, 0.5398565778298426, -0.3253123067260765, 2.410609715713139, -0.6875386256442397, 1.803037824681518, -2.04461480952745, -1.6165455705422103, -0.8649796621911521, -0.20754981724057178, 0.7162581858362861, 0.3956552328909221, 1.5562153420059015, -1.4048973439846717, 0.7235465006901312, -1.1828001124403158, 1.7670220708468052, -1.6483267663795467, 1.2959639144400708, 0.01137317773399804, 0.24892171983224393, -1.3804822111812494, -0.1552211611756199, -0.3336621916615375, 0.21704118913381892, 0.22648720227245717, -2.3223235953886916, -1.6659328759101266, -0.43578175542352915, -0.020671620075946844, 1.6098798041556606, 0.9917772179785025, 0.7561089928128429, -0.03075331935853545, 0.9213688877157874, -1.7534585372719176, -1.0670716083211633, -1.2617429985339306, 0.78279386642726, -1.0387525520793024, -0.8392526693580369, -0.218506857832733, 0.20734729417789693, -0.3062181818320245, -0.8620903828109703, -1.3209325312822953, 0.9747528909197947, -0.8663554124148628, 0.4754132016880406, -0.3523819524286089, -1.3339226336427972, 0.03678425634872807, 0.16668823781780848, 0.72486473881676, 0.685991570942405, 0.7495820181096875, 0.7232736844271054, -1.6074542095465134, -0.17574514087516413, -1.6612646063680152, -1.303417435980111, 2.0350458483027345, -0.5807409988730624, 0.6720747309461574, -0.28525772520585135, 2.248184362196986, 0.7116960828106597, 1.6614735371334814, -1.400668549764246, -0.3335111223037445, -2.0430793137092835, -1.624903816980265]}],\n",
       "                        {\"barmode\": \"overlay\", \"legend\": {\"bgcolor\": \"#F5F6F9\", \"font\": {\"color\": \"#4D5663\"}}, \"paper_bgcolor\": \"#F5F6F9\", \"plot_bgcolor\": \"#F5F6F9\", \"template\": {\"data\": {\"bar\": [{\"error_x\": {\"color\": \"#2a3f5f\"}, \"error_y\": {\"color\": \"#2a3f5f\"}, \"marker\": {\"line\": {\"color\": \"#E5ECF6\", \"width\": 0.5}}, \"type\": \"bar\"}], \"barpolar\": [{\"marker\": {\"line\": {\"color\": \"#E5ECF6\", \"width\": 0.5}}, \"type\": \"barpolar\"}], \"carpet\": [{\"aaxis\": {\"endlinecolor\": \"#2a3f5f\", \"gridcolor\": \"white\", \"linecolor\": \"white\", \"minorgridcolor\": \"white\", \"startlinecolor\": \"#2a3f5f\"}, \"baxis\": {\"endlinecolor\": \"#2a3f5f\", \"gridcolor\": \"white\", \"linecolor\": \"white\", \"minorgridcolor\": \"white\", \"startlinecolor\": \"#2a3f5f\"}, \"type\": \"carpet\"}], \"choropleth\": [{\"colorbar\": {\"outlinewidth\": 0, \"ticks\": \"\"}, \"type\": \"choropleth\"}], \"contour\": [{\"colorbar\": {\"outlinewidth\": 0, \"ticks\": \"\"}, \"colorscale\": [[0.0, \"#0d0887\"], [0.1111111111111111, \"#46039f\"], [0.2222222222222222, \"#7201a8\"], [0.3333333333333333, \"#9c179e\"], [0.4444444444444444, \"#bd3786\"], [0.5555555555555556, \"#d8576b\"], [0.6666666666666666, \"#ed7953\"], [0.7777777777777778, \"#fb9f3a\"], [0.8888888888888888, \"#fdca26\"], [1.0, \"#f0f921\"]], \"type\": \"contour\"}], \"contourcarpet\": [{\"colorbar\": {\"outlinewidth\": 0, \"ticks\": \"\"}, \"type\": \"contourcarpet\"}], \"heatmap\": [{\"colorbar\": {\"outlinewidth\": 0, \"ticks\": \"\"}, \"colorscale\": [[0.0, \"#0d0887\"], [0.1111111111111111, \"#46039f\"], [0.2222222222222222, \"#7201a8\"], [0.3333333333333333, \"#9c179e\"], [0.4444444444444444, \"#bd3786\"], [0.5555555555555556, \"#d8576b\"], [0.6666666666666666, \"#ed7953\"], [0.7777777777777778, \"#fb9f3a\"], [0.8888888888888888, \"#fdca26\"], [1.0, \"#f0f921\"]], \"type\": \"heatmap\"}], \"heatmapgl\": [{\"colorbar\": {\"outlinewidth\": 0, \"ticks\": \"\"}, \"colorscale\": [[0.0, \"#0d0887\"], [0.1111111111111111, \"#46039f\"], [0.2222222222222222, \"#7201a8\"], [0.3333333333333333, \"#9c179e\"], [0.4444444444444444, \"#bd3786\"], [0.5555555555555556, \"#d8576b\"], [0.6666666666666666, \"#ed7953\"], [0.7777777777777778, \"#fb9f3a\"], [0.8888888888888888, \"#fdca26\"], [1.0, \"#f0f921\"]], \"type\": \"heatmapgl\"}], \"histogram\": [{\"marker\": {\"colorbar\": {\"outlinewidth\": 0, \"ticks\": \"\"}}, \"type\": \"histogram\"}], \"histogram2d\": [{\"colorbar\": {\"outlinewidth\": 0, \"ticks\": \"\"}, \"colorscale\": [[0.0, \"#0d0887\"], [0.1111111111111111, \"#46039f\"], [0.2222222222222222, \"#7201a8\"], [0.3333333333333333, \"#9c179e\"], [0.4444444444444444, \"#bd3786\"], [0.5555555555555556, \"#d8576b\"], [0.6666666666666666, \"#ed7953\"], [0.7777777777777778, \"#fb9f3a\"], [0.8888888888888888, \"#fdca26\"], [1.0, \"#f0f921\"]], \"type\": \"histogram2d\"}], \"histogram2dcontour\": [{\"colorbar\": {\"outlinewidth\": 0, \"ticks\": \"\"}, \"colorscale\": [[0.0, \"#0d0887\"], [0.1111111111111111, \"#46039f\"], [0.2222222222222222, \"#7201a8\"], [0.3333333333333333, \"#9c179e\"], [0.4444444444444444, \"#bd3786\"], [0.5555555555555556, \"#d8576b\"], [0.6666666666666666, \"#ed7953\"], [0.7777777777777778, \"#fb9f3a\"], [0.8888888888888888, \"#fdca26\"], [1.0, \"#f0f921\"]], \"type\": \"histogram2dcontour\"}], \"mesh3d\": [{\"colorbar\": {\"outlinewidth\": 0, \"ticks\": \"\"}, \"type\": \"mesh3d\"}], \"parcoords\": [{\"line\": {\"colorbar\": {\"outlinewidth\": 0, \"ticks\": \"\"}}, \"type\": \"parcoords\"}], \"pie\": [{\"automargin\": true, \"type\": \"pie\"}], \"scatter\": [{\"marker\": {\"colorbar\": {\"outlinewidth\": 0, \"ticks\": \"\"}}, \"type\": \"scatter\"}], \"scatter3d\": [{\"line\": {\"colorbar\": {\"outlinewidth\": 0, \"ticks\": \"\"}}, \"marker\": {\"colorbar\": {\"outlinewidth\": 0, \"ticks\": \"\"}}, \"type\": \"scatter3d\"}], \"scattercarpet\": [{\"marker\": {\"colorbar\": {\"outlinewidth\": 0, \"ticks\": \"\"}}, \"type\": \"scattercarpet\"}], \"scattergeo\": [{\"marker\": {\"colorbar\": {\"outlinewidth\": 0, \"ticks\": \"\"}}, \"type\": \"scattergeo\"}], \"scattergl\": [{\"marker\": {\"colorbar\": {\"outlinewidth\": 0, \"ticks\": \"\"}}, \"type\": \"scattergl\"}], \"scattermapbox\": [{\"marker\": {\"colorbar\": {\"outlinewidth\": 0, \"ticks\": \"\"}}, \"type\": \"scattermapbox\"}], \"scatterpolar\": [{\"marker\": {\"colorbar\": {\"outlinewidth\": 0, \"ticks\": \"\"}}, \"type\": \"scatterpolar\"}], \"scatterpolargl\": [{\"marker\": {\"colorbar\": {\"outlinewidth\": 0, \"ticks\": \"\"}}, \"type\": \"scatterpolargl\"}], \"scatterternary\": [{\"marker\": {\"colorbar\": {\"outlinewidth\": 0, \"ticks\": \"\"}}, \"type\": \"scatterternary\"}], \"surface\": [{\"colorbar\": {\"outlinewidth\": 0, \"ticks\": \"\"}, \"colorscale\": [[0.0, \"#0d0887\"], [0.1111111111111111, \"#46039f\"], [0.2222222222222222, \"#7201a8\"], [0.3333333333333333, \"#9c179e\"], [0.4444444444444444, \"#bd3786\"], [0.5555555555555556, \"#d8576b\"], [0.6666666666666666, \"#ed7953\"], [0.7777777777777778, \"#fb9f3a\"], [0.8888888888888888, \"#fdca26\"], [1.0, \"#f0f921\"]], \"type\": \"surface\"}], \"table\": [{\"cells\": {\"fill\": {\"color\": \"#EBF0F8\"}, \"line\": {\"color\": \"white\"}}, \"header\": {\"fill\": {\"color\": \"#C8D4E3\"}, \"line\": {\"color\": \"white\"}}, \"type\": \"table\"}]}, \"layout\": {\"annotationdefaults\": {\"arrowcolor\": \"#2a3f5f\", \"arrowhead\": 0, \"arrowwidth\": 1}, \"coloraxis\": {\"colorbar\": {\"outlinewidth\": 0, \"ticks\": \"\"}}, \"colorscale\": {\"diverging\": [[0, \"#8e0152\"], [0.1, \"#c51b7d\"], [0.2, \"#de77ae\"], [0.3, \"#f1b6da\"], [0.4, \"#fde0ef\"], [0.5, \"#f7f7f7\"], [0.6, \"#e6f5d0\"], [0.7, \"#b8e186\"], [0.8, \"#7fbc41\"], [0.9, \"#4d9221\"], [1, \"#276419\"]], \"sequential\": [[0.0, \"#0d0887\"], [0.1111111111111111, \"#46039f\"], [0.2222222222222222, \"#7201a8\"], [0.3333333333333333, \"#9c179e\"], [0.4444444444444444, \"#bd3786\"], [0.5555555555555556, \"#d8576b\"], [0.6666666666666666, \"#ed7953\"], [0.7777777777777778, \"#fb9f3a\"], [0.8888888888888888, \"#fdca26\"], [1.0, \"#f0f921\"]], \"sequentialminus\": [[0.0, \"#0d0887\"], [0.1111111111111111, \"#46039f\"], [0.2222222222222222, \"#7201a8\"], [0.3333333333333333, \"#9c179e\"], [0.4444444444444444, \"#bd3786\"], [0.5555555555555556, \"#d8576b\"], [0.6666666666666666, \"#ed7953\"], [0.7777777777777778, \"#fb9f3a\"], [0.8888888888888888, \"#fdca26\"], [1.0, \"#f0f921\"]]}, \"colorway\": [\"#636efa\", \"#EF553B\", \"#00cc96\", \"#ab63fa\", \"#FFA15A\", \"#19d3f3\", \"#FF6692\", \"#B6E880\", \"#FF97FF\", \"#FECB52\"], \"font\": {\"color\": \"#2a3f5f\"}, \"geo\": {\"bgcolor\": \"white\", \"lakecolor\": \"white\", \"landcolor\": \"#E5ECF6\", \"showlakes\": true, \"showland\": true, \"subunitcolor\": \"white\"}, \"hoverlabel\": {\"align\": \"left\"}, \"hovermode\": \"closest\", \"mapbox\": {\"style\": \"light\"}, \"paper_bgcolor\": \"white\", \"plot_bgcolor\": \"#E5ECF6\", \"polar\": {\"angularaxis\": {\"gridcolor\": \"white\", \"linecolor\": \"white\", \"ticks\": \"\"}, \"bgcolor\": \"#E5ECF6\", \"radialaxis\": {\"gridcolor\": \"white\", \"linecolor\": \"white\", \"ticks\": \"\"}}, \"scene\": {\"xaxis\": {\"backgroundcolor\": \"#E5ECF6\", \"gridcolor\": \"white\", \"gridwidth\": 2, \"linecolor\": \"white\", \"showbackground\": true, \"ticks\": \"\", \"zerolinecolor\": \"white\"}, \"yaxis\": {\"backgroundcolor\": \"#E5ECF6\", \"gridcolor\": \"white\", \"gridwidth\": 2, \"linecolor\": \"white\", \"showbackground\": true, \"ticks\": \"\", \"zerolinecolor\": \"white\"}, \"zaxis\": {\"backgroundcolor\": \"#E5ECF6\", \"gridcolor\": \"white\", \"gridwidth\": 2, \"linecolor\": \"white\", \"showbackground\": true, \"ticks\": \"\", \"zerolinecolor\": \"white\"}}, \"shapedefaults\": {\"line\": {\"color\": \"#2a3f5f\"}}, \"ternary\": {\"aaxis\": {\"gridcolor\": \"white\", \"linecolor\": \"white\", \"ticks\": \"\"}, \"baxis\": {\"gridcolor\": \"white\", \"linecolor\": \"white\", \"ticks\": \"\"}, \"bgcolor\": \"#E5ECF6\", \"caxis\": {\"gridcolor\": \"white\", \"linecolor\": \"white\", \"ticks\": \"\"}}, \"title\": {\"x\": 0.05}, \"xaxis\": {\"automargin\": true, \"gridcolor\": \"white\", \"linecolor\": \"white\", \"ticks\": \"\", \"title\": {\"standoff\": 15}, \"zerolinecolor\": \"white\", \"zerolinewidth\": 2}, \"yaxis\": {\"automargin\": true, \"gridcolor\": \"white\", \"linecolor\": \"white\", \"ticks\": \"\", \"title\": {\"standoff\": 15}, \"zerolinecolor\": \"white\", \"zerolinewidth\": 2}}}, \"title\": {\"font\": {\"color\": \"#4D5663\"}}, \"xaxis\": {\"gridcolor\": \"#E1E5ED\", \"showgrid\": true, \"tickfont\": {\"color\": \"#4D5663\"}, \"title\": {\"font\": {\"color\": \"#4D5663\"}, \"text\": \"\"}, \"zerolinecolor\": \"#E1E5ED\"}, \"yaxis\": {\"gridcolor\": \"#E1E5ED\", \"showgrid\": true, \"tickfont\": {\"color\": \"#4D5663\"}, \"title\": {\"font\": {\"color\": \"#4D5663\"}, \"text\": \"\"}, \"zerolinecolor\": \"#E1E5ED\"}},\n",
       "                        {\"showLink\": true, \"linkText\": \"Export to plot.ly\", \"plotlyServerURL\": \"https://plot.ly\", \"responsive\": true}\n",
       "                    ).then(function(){\n",
       "                            \n",
       "var gd = document.getElementById('8a98a821-7189-4988-9e38-4692f9816fe2');\n",
       "var x = new MutationObserver(function (mutations, observer) {{\n",
       "        var display = window.getComputedStyle(gd).display;\n",
       "        if (!display || display === 'none') {{\n",
       "            console.log([gd, 'removed!']);\n",
       "            Plotly.purge(gd);\n",
       "            observer.disconnect();\n",
       "        }}\n",
       "}});\n",
       "\n",
       "// Listen for the removal of the full notebook cells\n",
       "var notebookContainer = gd.closest('#notebook-container');\n",
       "if (notebookContainer) {{\n",
       "    x.observe(notebookContainer, {childList: true});\n",
       "}}\n",
       "\n",
       "// Listen for the clearing of the current output cell\n",
       "var outputEl = gd.closest('.output');\n",
       "if (outputEl) {{\n",
       "    x.observe(outputEl, {childList: true});\n",
       "}}\n",
       "\n",
       "                        })\n",
       "                };\n",
       "                });\n",
       "            </script>\n",
       "        </div>"
      ]
     },
     "metadata": {},
     "output_type": "display_data"
    }
   ],
   "source": [
    "df.iplot(kind='hist',bins=25)"
   ]
  },
  {
   "cell_type": "code",
   "execution_count": 18,
   "metadata": {},
   "outputs": [
    {
     "data": {
      "application/vnd.plotly.v1+json": {
       "config": {
        "linkText": "Export to plot.ly",
        "plotlyServerURL": "https://plot.ly",
        "showLink": true
       },
       "data": [
        {
         "marker": {
          "color": [
           "rgb(255, 153, 51)",
           "rgb(55, 128, 191)",
           "rgb(50, 171, 96)",
           "rgb(128, 0, 128)",
           "rgb(219, 64, 82)",
           "rgb(0, 128, 128)",
           "rgb(255, 255, 51)",
           "rgb(128, 128, 0)",
           "rgb(251, 128, 114)",
           "rgb(128, 177, 211)"
          ],
          "line": {
           "width": 1.3
          },
          "size": [
           61,
           67,
           42,
           66,
           91,
           50,
           63,
           56,
           81,
           112,
           76,
           59,
           36,
           53,
           70,
           43,
           77,
           51,
           97,
           63,
           72,
           75,
           55,
           26,
           60,
           60,
           94,
           70,
           37,
           97,
           68,
           65,
           105,
           79,
           36,
           59,
           49,
           51,
           53,
           64,
           89,
           64,
           80,
           59,
           91,
           75,
           81,
           46,
           81,
           25,
           80,
           46,
           87,
           57,
           41,
           104,
           74,
           78,
           35,
           67,
           93,
           81,
           12,
           47,
           62,
           80,
           62,
           59,
           64,
           69,
           77,
           40,
           92,
           55,
           50,
           67,
           74,
           56,
           40,
           71,
           66,
           91,
           57,
           51,
           22,
           60,
           47,
           59,
           46,
           76,
           60,
           54,
           73,
           55,
           66,
           64,
           87,
           68,
           61,
           47
          ],
          "symbol": "circle"
         },
         "mode": "markers",
         "text": "",
         "type": "scatter",
         "x": [
          -1.0099361673355667,
          -1.0284575537950853,
          -0.11589523503021203,
          -0.3871577102854481,
          -0.8802462358509756,
          -0.5073178289505085,
          -0.25872977857744495,
          -0.8451154146551735,
          -1.6753380560258833,
          -0.3197009244061666,
          -0.13563348234303227,
          -1.311691245631022,
          -1.249731033152953,
          0.17890604821843886,
          -1.128427638771329,
          -1.1636664744849745,
          -0.9412243713819362,
          -0.38570173042512107,
          -0.8003953490624793,
          0.8825029834565344,
          1.524337052036057,
          -0.23052058779768336,
          1.9285582193640014,
          -0.872188772166427,
          -0.3176075253149898,
          2.606580520825616,
          -1.1995356504360102,
          -0.5183516090778959,
          -0.04436142535581713,
          -0.18480369022350523,
          -1.7547311219167303,
          0.4348163458344423,
          0.02896010894576578,
          1.1883323868662738,
          1.6732989603111974,
          -0.8210953393613368,
          0.5004305409127747,
          -0.22178532385423305,
          -0.7454328674035887,
          2.1180173982206956,
          1.190563692517457,
          0.3138573805554352,
          -0.9935779216404051,
          -0.3647175556508881,
          0.5068831822214218,
          0.20910917496939357,
          0.577713713083106,
          -0.29978283141123724,
          -0.2873028727788575,
          -0.46363559405313143,
          -0.9206774761598664,
          -0.755950329387749,
          0.7922037497771531,
          -0.8795695353900919,
          0.28776576333898585,
          -0.23417565168839716,
          -1.9708555241106436,
          0.9824316178908786,
          -1.98662055858986,
          -0.7296201496003367,
          0.7238839666288359,
          1.5974689722403834,
          1.801589947153041,
          -0.7232840189194383,
          -1.0681986697213794,
          -0.5992838692605261,
          2.239239240441496,
          -0.2396645330815824,
          -0.04239926731173785,
          0.8738657260289925,
          -0.8714936725210958,
          1.0533376696933532,
          0.028493839037042872,
          0.9603494061902195,
          0.8199228021104203,
          1.4708360154901292,
          -1.104738720637537,
          -1.6868861956709762,
          1.0938651017022927,
          2.1390860039617507,
          -0.3705530670203375,
          -0.18840168960734383,
          0.42753386535746246,
          0.6980400869787413,
          -0.6402916416160395,
          -0.02222079553462808,
          -0.4216825148927192,
          0.280887190385779,
          -0.643768601883412,
          -0.6875539894115286,
          -1.3443114433014156,
          -0.25555254723379944,
          1.2335524942281835,
          -0.09161187909282938,
          1.0278257484361688,
          -0.514950707958829,
          -1.6295755204874562,
          -0.53058233036871,
          -0.06432271315517117,
          -0.4852358829857144
         ],
         "y": [
          0.744450190015796,
          1.1894557449729342,
          0.6014866195311764,
          -0.8880130958919555,
          0.2634422442550224,
          0.6626931843686664,
          -1.1250880401227368,
          0.4771603153029794,
          -0.1490065026960575,
          -0.9623205020230357,
          1.4401318165613903,
          1.4082689738738148,
          0.10270692830268753,
          0.01425779846376388,
          -1.480304960527278,
          -0.824423835202117,
          -0.5511105572426905,
          0.15703184361306663,
          0.9234900532311175,
          0.1613158759882807,
          -0.644491423073877,
          -1.2120176461084518,
          1.016181721468633,
          -0.6319609682834901,
          -0.24129550029875582,
          0.553567424049745,
          -0.62444452813727,
          0.22496068588193177,
          0.8743351098471469,
          1.7059386069757694,
          -1.9206327186061418,
          0.7686062004369781,
          -1.259648403612559,
          0.1096277410328048,
          0.9387094528772576,
          -0.27461979313709567,
          1.6207957707630838,
          0.06169141959846879,
          -0.4865658395535811,
          -0.5858756480838269,
          -0.8884612999138807,
          0.13300720372341124,
          1.2981909174656012,
          0.34230516992051746,
          0.4919371479311787,
          0.36239582310865504,
          -0.7208562108905195,
          0.6914975574734396,
          0.36195579934636735,
          -0.22232409309193057,
          0.065663078950636,
          0.1985313405036117,
          1.6933038949156938,
          -0.46264733238674816,
          1.7763447430055253,
          -0.640759791350102,
          -0.6793491505404466,
          0.4267992066295522,
          -1.1422053149767915,
          -0.7766786239708781,
          0.8754471153083129,
          -0.8903352167441764,
          -0.8840619009663945,
          -0.3280940175291615,
          0.3685108324294671,
          -0.5897320779624863,
          0.5219386165501887,
          0.10200882724863404,
          -0.30850418604752317,
          -0.08803823463831988,
          -1.557089116787949,
          0.5682957147945388,
          0.5278400244507687,
          1.4323269258374178,
          0.5576802769913602,
          2.204605797704065,
          -0.535349852025295,
          1.1789203019870378,
          0.30611952626236455,
          0.45594684826678866,
          1.8433513627069207,
          0.4245202276944359,
          1.031079593495038,
          1.5566392860476528,
          -0.5803530558234599,
          -1.252281916948563,
          -0.7086537222484671,
          0.5936620950802783,
          0.4854826118308957,
          -0.13808162235319374,
          0.07744183888892246,
          0.5157739214893406,
          0.1884566433660276,
          0.5637646438290826,
          -0.06990828503654249,
          0.8880289293608626,
          0.5309382058701448,
          -2.150688191460801,
          -1.0081065888477767,
          -0.6843264190330478
         ]
        }
       ],
       "layout": {
        "legend": {
         "bgcolor": "#F5F6F9",
         "font": {
          "color": "#4D5663"
         }
        },
        "paper_bgcolor": "#F5F6F9",
        "plot_bgcolor": "#F5F6F9",
        "template": {
         "data": {
          "bar": [
           {
            "error_x": {
             "color": "#2a3f5f"
            },
            "error_y": {
             "color": "#2a3f5f"
            },
            "marker": {
             "line": {
              "color": "#E5ECF6",
              "width": 0.5
             }
            },
            "type": "bar"
           }
          ],
          "barpolar": [
           {
            "marker": {
             "line": {
              "color": "#E5ECF6",
              "width": 0.5
             }
            },
            "type": "barpolar"
           }
          ],
          "carpet": [
           {
            "aaxis": {
             "endlinecolor": "#2a3f5f",
             "gridcolor": "white",
             "linecolor": "white",
             "minorgridcolor": "white",
             "startlinecolor": "#2a3f5f"
            },
            "baxis": {
             "endlinecolor": "#2a3f5f",
             "gridcolor": "white",
             "linecolor": "white",
             "minorgridcolor": "white",
             "startlinecolor": "#2a3f5f"
            },
            "type": "carpet"
           }
          ],
          "choropleth": [
           {
            "colorbar": {
             "outlinewidth": 0,
             "ticks": ""
            },
            "type": "choropleth"
           }
          ],
          "contour": [
           {
            "colorbar": {
             "outlinewidth": 0,
             "ticks": ""
            },
            "colorscale": [
             [
              0,
              "#0d0887"
             ],
             [
              0.1111111111111111,
              "#46039f"
             ],
             [
              0.2222222222222222,
              "#7201a8"
             ],
             [
              0.3333333333333333,
              "#9c179e"
             ],
             [
              0.4444444444444444,
              "#bd3786"
             ],
             [
              0.5555555555555556,
              "#d8576b"
             ],
             [
              0.6666666666666666,
              "#ed7953"
             ],
             [
              0.7777777777777778,
              "#fb9f3a"
             ],
             [
              0.8888888888888888,
              "#fdca26"
             ],
             [
              1,
              "#f0f921"
             ]
            ],
            "type": "contour"
           }
          ],
          "contourcarpet": [
           {
            "colorbar": {
             "outlinewidth": 0,
             "ticks": ""
            },
            "type": "contourcarpet"
           }
          ],
          "heatmap": [
           {
            "colorbar": {
             "outlinewidth": 0,
             "ticks": ""
            },
            "colorscale": [
             [
              0,
              "#0d0887"
             ],
             [
              0.1111111111111111,
              "#46039f"
             ],
             [
              0.2222222222222222,
              "#7201a8"
             ],
             [
              0.3333333333333333,
              "#9c179e"
             ],
             [
              0.4444444444444444,
              "#bd3786"
             ],
             [
              0.5555555555555556,
              "#d8576b"
             ],
             [
              0.6666666666666666,
              "#ed7953"
             ],
             [
              0.7777777777777778,
              "#fb9f3a"
             ],
             [
              0.8888888888888888,
              "#fdca26"
             ],
             [
              1,
              "#f0f921"
             ]
            ],
            "type": "heatmap"
           }
          ],
          "heatmapgl": [
           {
            "colorbar": {
             "outlinewidth": 0,
             "ticks": ""
            },
            "colorscale": [
             [
              0,
              "#0d0887"
             ],
             [
              0.1111111111111111,
              "#46039f"
             ],
             [
              0.2222222222222222,
              "#7201a8"
             ],
             [
              0.3333333333333333,
              "#9c179e"
             ],
             [
              0.4444444444444444,
              "#bd3786"
             ],
             [
              0.5555555555555556,
              "#d8576b"
             ],
             [
              0.6666666666666666,
              "#ed7953"
             ],
             [
              0.7777777777777778,
              "#fb9f3a"
             ],
             [
              0.8888888888888888,
              "#fdca26"
             ],
             [
              1,
              "#f0f921"
             ]
            ],
            "type": "heatmapgl"
           }
          ],
          "histogram": [
           {
            "marker": {
             "colorbar": {
              "outlinewidth": 0,
              "ticks": ""
             }
            },
            "type": "histogram"
           }
          ],
          "histogram2d": [
           {
            "colorbar": {
             "outlinewidth": 0,
             "ticks": ""
            },
            "colorscale": [
             [
              0,
              "#0d0887"
             ],
             [
              0.1111111111111111,
              "#46039f"
             ],
             [
              0.2222222222222222,
              "#7201a8"
             ],
             [
              0.3333333333333333,
              "#9c179e"
             ],
             [
              0.4444444444444444,
              "#bd3786"
             ],
             [
              0.5555555555555556,
              "#d8576b"
             ],
             [
              0.6666666666666666,
              "#ed7953"
             ],
             [
              0.7777777777777778,
              "#fb9f3a"
             ],
             [
              0.8888888888888888,
              "#fdca26"
             ],
             [
              1,
              "#f0f921"
             ]
            ],
            "type": "histogram2d"
           }
          ],
          "histogram2dcontour": [
           {
            "colorbar": {
             "outlinewidth": 0,
             "ticks": ""
            },
            "colorscale": [
             [
              0,
              "#0d0887"
             ],
             [
              0.1111111111111111,
              "#46039f"
             ],
             [
              0.2222222222222222,
              "#7201a8"
             ],
             [
              0.3333333333333333,
              "#9c179e"
             ],
             [
              0.4444444444444444,
              "#bd3786"
             ],
             [
              0.5555555555555556,
              "#d8576b"
             ],
             [
              0.6666666666666666,
              "#ed7953"
             ],
             [
              0.7777777777777778,
              "#fb9f3a"
             ],
             [
              0.8888888888888888,
              "#fdca26"
             ],
             [
              1,
              "#f0f921"
             ]
            ],
            "type": "histogram2dcontour"
           }
          ],
          "mesh3d": [
           {
            "colorbar": {
             "outlinewidth": 0,
             "ticks": ""
            },
            "type": "mesh3d"
           }
          ],
          "parcoords": [
           {
            "line": {
             "colorbar": {
              "outlinewidth": 0,
              "ticks": ""
             }
            },
            "type": "parcoords"
           }
          ],
          "pie": [
           {
            "automargin": true,
            "type": "pie"
           }
          ],
          "scatter": [
           {
            "marker": {
             "colorbar": {
              "outlinewidth": 0,
              "ticks": ""
             }
            },
            "type": "scatter"
           }
          ],
          "scatter3d": [
           {
            "line": {
             "colorbar": {
              "outlinewidth": 0,
              "ticks": ""
             }
            },
            "marker": {
             "colorbar": {
              "outlinewidth": 0,
              "ticks": ""
             }
            },
            "type": "scatter3d"
           }
          ],
          "scattercarpet": [
           {
            "marker": {
             "colorbar": {
              "outlinewidth": 0,
              "ticks": ""
             }
            },
            "type": "scattercarpet"
           }
          ],
          "scattergeo": [
           {
            "marker": {
             "colorbar": {
              "outlinewidth": 0,
              "ticks": ""
             }
            },
            "type": "scattergeo"
           }
          ],
          "scattergl": [
           {
            "marker": {
             "colorbar": {
              "outlinewidth": 0,
              "ticks": ""
             }
            },
            "type": "scattergl"
           }
          ],
          "scattermapbox": [
           {
            "marker": {
             "colorbar": {
              "outlinewidth": 0,
              "ticks": ""
             }
            },
            "type": "scattermapbox"
           }
          ],
          "scatterpolar": [
           {
            "marker": {
             "colorbar": {
              "outlinewidth": 0,
              "ticks": ""
             }
            },
            "type": "scatterpolar"
           }
          ],
          "scatterpolargl": [
           {
            "marker": {
             "colorbar": {
              "outlinewidth": 0,
              "ticks": ""
             }
            },
            "type": "scatterpolargl"
           }
          ],
          "scatterternary": [
           {
            "marker": {
             "colorbar": {
              "outlinewidth": 0,
              "ticks": ""
             }
            },
            "type": "scatterternary"
           }
          ],
          "surface": [
           {
            "colorbar": {
             "outlinewidth": 0,
             "ticks": ""
            },
            "colorscale": [
             [
              0,
              "#0d0887"
             ],
             [
              0.1111111111111111,
              "#46039f"
             ],
             [
              0.2222222222222222,
              "#7201a8"
             ],
             [
              0.3333333333333333,
              "#9c179e"
             ],
             [
              0.4444444444444444,
              "#bd3786"
             ],
             [
              0.5555555555555556,
              "#d8576b"
             ],
             [
              0.6666666666666666,
              "#ed7953"
             ],
             [
              0.7777777777777778,
              "#fb9f3a"
             ],
             [
              0.8888888888888888,
              "#fdca26"
             ],
             [
              1,
              "#f0f921"
             ]
            ],
            "type": "surface"
           }
          ],
          "table": [
           {
            "cells": {
             "fill": {
              "color": "#EBF0F8"
             },
             "line": {
              "color": "white"
             }
            },
            "header": {
             "fill": {
              "color": "#C8D4E3"
             },
             "line": {
              "color": "white"
             }
            },
            "type": "table"
           }
          ]
         },
         "layout": {
          "annotationdefaults": {
           "arrowcolor": "#2a3f5f",
           "arrowhead": 0,
           "arrowwidth": 1
          },
          "coloraxis": {
           "colorbar": {
            "outlinewidth": 0,
            "ticks": ""
           }
          },
          "colorscale": {
           "diverging": [
            [
             0,
             "#8e0152"
            ],
            [
             0.1,
             "#c51b7d"
            ],
            [
             0.2,
             "#de77ae"
            ],
            [
             0.3,
             "#f1b6da"
            ],
            [
             0.4,
             "#fde0ef"
            ],
            [
             0.5,
             "#f7f7f7"
            ],
            [
             0.6,
             "#e6f5d0"
            ],
            [
             0.7,
             "#b8e186"
            ],
            [
             0.8,
             "#7fbc41"
            ],
            [
             0.9,
             "#4d9221"
            ],
            [
             1,
             "#276419"
            ]
           ],
           "sequential": [
            [
             0,
             "#0d0887"
            ],
            [
             0.1111111111111111,
             "#46039f"
            ],
            [
             0.2222222222222222,
             "#7201a8"
            ],
            [
             0.3333333333333333,
             "#9c179e"
            ],
            [
             0.4444444444444444,
             "#bd3786"
            ],
            [
             0.5555555555555556,
             "#d8576b"
            ],
            [
             0.6666666666666666,
             "#ed7953"
            ],
            [
             0.7777777777777778,
             "#fb9f3a"
            ],
            [
             0.8888888888888888,
             "#fdca26"
            ],
            [
             1,
             "#f0f921"
            ]
           ],
           "sequentialminus": [
            [
             0,
             "#0d0887"
            ],
            [
             0.1111111111111111,
             "#46039f"
            ],
            [
             0.2222222222222222,
             "#7201a8"
            ],
            [
             0.3333333333333333,
             "#9c179e"
            ],
            [
             0.4444444444444444,
             "#bd3786"
            ],
            [
             0.5555555555555556,
             "#d8576b"
            ],
            [
             0.6666666666666666,
             "#ed7953"
            ],
            [
             0.7777777777777778,
             "#fb9f3a"
            ],
            [
             0.8888888888888888,
             "#fdca26"
            ],
            [
             1,
             "#f0f921"
            ]
           ]
          },
          "colorway": [
           "#636efa",
           "#EF553B",
           "#00cc96",
           "#ab63fa",
           "#FFA15A",
           "#19d3f3",
           "#FF6692",
           "#B6E880",
           "#FF97FF",
           "#FECB52"
          ],
          "font": {
           "color": "#2a3f5f"
          },
          "geo": {
           "bgcolor": "white",
           "lakecolor": "white",
           "landcolor": "#E5ECF6",
           "showlakes": true,
           "showland": true,
           "subunitcolor": "white"
          },
          "hoverlabel": {
           "align": "left"
          },
          "hovermode": "closest",
          "mapbox": {
           "style": "light"
          },
          "paper_bgcolor": "white",
          "plot_bgcolor": "#E5ECF6",
          "polar": {
           "angularaxis": {
            "gridcolor": "white",
            "linecolor": "white",
            "ticks": ""
           },
           "bgcolor": "#E5ECF6",
           "radialaxis": {
            "gridcolor": "white",
            "linecolor": "white",
            "ticks": ""
           }
          },
          "scene": {
           "xaxis": {
            "backgroundcolor": "#E5ECF6",
            "gridcolor": "white",
            "gridwidth": 2,
            "linecolor": "white",
            "showbackground": true,
            "ticks": "",
            "zerolinecolor": "white"
           },
           "yaxis": {
            "backgroundcolor": "#E5ECF6",
            "gridcolor": "white",
            "gridwidth": 2,
            "linecolor": "white",
            "showbackground": true,
            "ticks": "",
            "zerolinecolor": "white"
           },
           "zaxis": {
            "backgroundcolor": "#E5ECF6",
            "gridcolor": "white",
            "gridwidth": 2,
            "linecolor": "white",
            "showbackground": true,
            "ticks": "",
            "zerolinecolor": "white"
           }
          },
          "shapedefaults": {
           "line": {
            "color": "#2a3f5f"
           }
          },
          "ternary": {
           "aaxis": {
            "gridcolor": "white",
            "linecolor": "white",
            "ticks": ""
           },
           "baxis": {
            "gridcolor": "white",
            "linecolor": "white",
            "ticks": ""
           },
           "bgcolor": "#E5ECF6",
           "caxis": {
            "gridcolor": "white",
            "linecolor": "white",
            "ticks": ""
           }
          },
          "title": {
           "x": 0.05
          },
          "xaxis": {
           "automargin": true,
           "gridcolor": "white",
           "linecolor": "white",
           "ticks": "",
           "title": {
            "standoff": 15
           },
           "zerolinecolor": "white",
           "zerolinewidth": 2
          },
          "yaxis": {
           "automargin": true,
           "gridcolor": "white",
           "linecolor": "white",
           "ticks": "",
           "title": {
            "standoff": 15
           },
           "zerolinecolor": "white",
           "zerolinewidth": 2
          }
         }
        },
        "title": {
         "font": {
          "color": "#4D5663"
         }
        },
        "xaxis": {
         "gridcolor": "#E1E5ED",
         "showgrid": true,
         "tickfont": {
          "color": "#4D5663"
         },
         "title": {
          "font": {
           "color": "#4D5663"
          },
          "text": ""
         },
         "zerolinecolor": "#E1E5ED"
        },
        "yaxis": {
         "gridcolor": "#E1E5ED",
         "showgrid": true,
         "tickfont": {
          "color": "#4D5663"
         },
         "title": {
          "font": {
           "color": "#4D5663"
          },
          "text": ""
         },
         "zerolinecolor": "#E1E5ED"
        }
       }
      },
      "text/html": [
       "<div>\n",
       "        \n",
       "        \n",
       "            <div id=\"9f1bbf11-2c79-4657-9494-4ebec5ebfb89\" class=\"plotly-graph-div\" style=\"height:525px; width:100%;\"></div>\n",
       "            <script type=\"text/javascript\">\n",
       "                require([\"plotly\"], function(Plotly) {\n",
       "                    window.PLOTLYENV=window.PLOTLYENV || {};\n",
       "                    window.PLOTLYENV.BASE_URL='https://plot.ly';\n",
       "                    \n",
       "                if (document.getElementById(\"9f1bbf11-2c79-4657-9494-4ebec5ebfb89\")) {\n",
       "                    Plotly.newPlot(\n",
       "                        '9f1bbf11-2c79-4657-9494-4ebec5ebfb89',\n",
       "                        [{\"marker\": {\"color\": [\"rgb(255, 153, 51)\", \"rgb(55, 128, 191)\", \"rgb(50, 171, 96)\", \"rgb(128, 0, 128)\", \"rgb(219, 64, 82)\", \"rgb(0, 128, 128)\", \"rgb(255, 255, 51)\", \"rgb(128, 128, 0)\", \"rgb(251, 128, 114)\", \"rgb(128, 177, 211)\"], \"line\": {\"width\": 1.3}, \"size\": [61, 67, 42, 66, 91, 50, 63, 56, 81, 112, 76, 59, 36, 53, 70, 43, 77, 51, 97, 63, 72, 75, 55, 26, 60, 60, 94, 70, 37, 97, 68, 65, 105, 79, 36, 59, 49, 51, 53, 64, 89, 64, 80, 59, 91, 75, 81, 46, 81, 25, 80, 46, 87, 57, 41, 104, 74, 78, 35, 67, 93, 81, 12, 47, 62, 80, 62, 59, 64, 69, 77, 40, 92, 55, 50, 67, 74, 56, 40, 71, 66, 91, 57, 51, 22, 60, 47, 59, 46, 76, 60, 54, 73, 55, 66, 64, 87, 68, 61, 47], \"symbol\": \"circle\"}, \"mode\": \"markers\", \"text\": \"\", \"type\": \"scatter\", \"x\": [-1.0099361673355667, -1.0284575537950853, -0.11589523503021203, -0.3871577102854481, -0.8802462358509756, -0.5073178289505085, -0.25872977857744495, -0.8451154146551735, -1.6753380560258833, -0.3197009244061666, -0.13563348234303227, -1.311691245631022, -1.249731033152953, 0.17890604821843886, -1.128427638771329, -1.1636664744849745, -0.9412243713819362, -0.38570173042512107, -0.8003953490624793, 0.8825029834565344, 1.524337052036057, -0.23052058779768336, 1.9285582193640014, -0.872188772166427, -0.3176075253149898, 2.606580520825616, -1.1995356504360102, -0.5183516090778959, -0.04436142535581713, -0.18480369022350523, -1.7547311219167303, 0.4348163458344423, 0.02896010894576578, 1.1883323868662738, 1.6732989603111974, -0.8210953393613368, 0.5004305409127747, -0.22178532385423305, -0.7454328674035887, 2.1180173982206956, 1.190563692517457, 0.3138573805554352, -0.9935779216404051, -0.3647175556508881, 0.5068831822214218, 0.20910917496939357, 0.577713713083106, -0.29978283141123724, -0.2873028727788575, -0.46363559405313143, -0.9206774761598664, -0.755950329387749, 0.7922037497771531, -0.8795695353900919, 0.28776576333898585, -0.23417565168839716, -1.9708555241106436, 0.9824316178908786, -1.98662055858986, -0.7296201496003367, 0.7238839666288359, 1.5974689722403834, 1.801589947153041, -0.7232840189194383, -1.0681986697213794, -0.5992838692605261, 2.239239240441496, -0.2396645330815824, -0.04239926731173785, 0.8738657260289925, -0.8714936725210958, 1.0533376696933532, 0.028493839037042872, 0.9603494061902195, 0.8199228021104203, 1.4708360154901292, -1.104738720637537, -1.6868861956709762, 1.0938651017022927, 2.1390860039617507, -0.3705530670203375, -0.18840168960734383, 0.42753386535746246, 0.6980400869787413, -0.6402916416160395, -0.02222079553462808, -0.4216825148927192, 0.280887190385779, -0.643768601883412, -0.6875539894115286, -1.3443114433014156, -0.25555254723379944, 1.2335524942281835, -0.09161187909282938, 1.0278257484361688, -0.514950707958829, -1.6295755204874562, -0.53058233036871, -0.06432271315517117, -0.4852358829857144], \"y\": [0.744450190015796, 1.1894557449729342, 0.6014866195311764, -0.8880130958919555, 0.2634422442550224, 0.6626931843686664, -1.1250880401227368, 0.4771603153029794, -0.1490065026960575, -0.9623205020230357, 1.4401318165613903, 1.4082689738738148, 0.10270692830268753, 0.01425779846376388, -1.480304960527278, -0.824423835202117, -0.5511105572426905, 0.15703184361306663, 0.9234900532311175, 0.1613158759882807, -0.644491423073877, -1.2120176461084518, 1.016181721468633, -0.6319609682834901, -0.24129550029875582, 0.553567424049745, -0.62444452813727, 0.22496068588193177, 0.8743351098471469, 1.7059386069757694, -1.9206327186061418, 0.7686062004369781, -1.259648403612559, 0.1096277410328048, 0.9387094528772576, -0.27461979313709567, 1.6207957707630838, 0.06169141959846879, -0.4865658395535811, -0.5858756480838269, -0.8884612999138807, 0.13300720372341124, 1.2981909174656012, 0.34230516992051746, 0.4919371479311787, 0.36239582310865504, -0.7208562108905195, 0.6914975574734396, 0.36195579934636735, -0.22232409309193057, 0.065663078950636, 0.1985313405036117, 1.6933038949156938, -0.46264733238674816, 1.7763447430055253, -0.640759791350102, -0.6793491505404466, 0.4267992066295522, -1.1422053149767915, -0.7766786239708781, 0.8754471153083129, -0.8903352167441764, -0.8840619009663945, -0.3280940175291615, 0.3685108324294671, -0.5897320779624863, 0.5219386165501887, 0.10200882724863404, -0.30850418604752317, -0.08803823463831988, -1.557089116787949, 0.5682957147945388, 0.5278400244507687, 1.4323269258374178, 0.5576802769913602, 2.204605797704065, -0.535349852025295, 1.1789203019870378, 0.30611952626236455, 0.45594684826678866, 1.8433513627069207, 0.4245202276944359, 1.031079593495038, 1.5566392860476528, -0.5803530558234599, -1.252281916948563, -0.7086537222484671, 0.5936620950802783, 0.4854826118308957, -0.13808162235319374, 0.07744183888892246, 0.5157739214893406, 0.1884566433660276, 0.5637646438290826, -0.06990828503654249, 0.8880289293608626, 0.5309382058701448, -2.150688191460801, -1.0081065888477767, -0.6843264190330478]}],\n",
       "                        {\"legend\": {\"bgcolor\": \"#F5F6F9\", \"font\": {\"color\": \"#4D5663\"}}, \"paper_bgcolor\": \"#F5F6F9\", \"plot_bgcolor\": \"#F5F6F9\", \"template\": {\"data\": {\"bar\": [{\"error_x\": {\"color\": \"#2a3f5f\"}, \"error_y\": {\"color\": \"#2a3f5f\"}, \"marker\": {\"line\": {\"color\": \"#E5ECF6\", \"width\": 0.5}}, \"type\": \"bar\"}], \"barpolar\": [{\"marker\": {\"line\": {\"color\": \"#E5ECF6\", \"width\": 0.5}}, \"type\": \"barpolar\"}], \"carpet\": [{\"aaxis\": {\"endlinecolor\": \"#2a3f5f\", \"gridcolor\": \"white\", \"linecolor\": \"white\", \"minorgridcolor\": \"white\", \"startlinecolor\": \"#2a3f5f\"}, \"baxis\": {\"endlinecolor\": \"#2a3f5f\", \"gridcolor\": \"white\", \"linecolor\": \"white\", \"minorgridcolor\": \"white\", \"startlinecolor\": \"#2a3f5f\"}, \"type\": \"carpet\"}], \"choropleth\": [{\"colorbar\": {\"outlinewidth\": 0, \"ticks\": \"\"}, \"type\": \"choropleth\"}], \"contour\": [{\"colorbar\": {\"outlinewidth\": 0, \"ticks\": \"\"}, \"colorscale\": [[0.0, \"#0d0887\"], [0.1111111111111111, \"#46039f\"], [0.2222222222222222, \"#7201a8\"], [0.3333333333333333, \"#9c179e\"], [0.4444444444444444, \"#bd3786\"], [0.5555555555555556, \"#d8576b\"], [0.6666666666666666, \"#ed7953\"], [0.7777777777777778, \"#fb9f3a\"], [0.8888888888888888, \"#fdca26\"], [1.0, \"#f0f921\"]], \"type\": \"contour\"}], \"contourcarpet\": [{\"colorbar\": {\"outlinewidth\": 0, \"ticks\": \"\"}, \"type\": \"contourcarpet\"}], \"heatmap\": [{\"colorbar\": {\"outlinewidth\": 0, \"ticks\": \"\"}, \"colorscale\": [[0.0, \"#0d0887\"], [0.1111111111111111, \"#46039f\"], [0.2222222222222222, \"#7201a8\"], [0.3333333333333333, \"#9c179e\"], [0.4444444444444444, \"#bd3786\"], [0.5555555555555556, \"#d8576b\"], [0.6666666666666666, \"#ed7953\"], [0.7777777777777778, \"#fb9f3a\"], [0.8888888888888888, \"#fdca26\"], [1.0, \"#f0f921\"]], \"type\": \"heatmap\"}], \"heatmapgl\": [{\"colorbar\": {\"outlinewidth\": 0, \"ticks\": \"\"}, \"colorscale\": [[0.0, \"#0d0887\"], [0.1111111111111111, \"#46039f\"], [0.2222222222222222, \"#7201a8\"], [0.3333333333333333, \"#9c179e\"], [0.4444444444444444, \"#bd3786\"], [0.5555555555555556, \"#d8576b\"], [0.6666666666666666, \"#ed7953\"], [0.7777777777777778, \"#fb9f3a\"], [0.8888888888888888, \"#fdca26\"], [1.0, \"#f0f921\"]], \"type\": \"heatmapgl\"}], \"histogram\": [{\"marker\": {\"colorbar\": {\"outlinewidth\": 0, \"ticks\": \"\"}}, \"type\": \"histogram\"}], \"histogram2d\": [{\"colorbar\": {\"outlinewidth\": 0, \"ticks\": \"\"}, \"colorscale\": [[0.0, \"#0d0887\"], [0.1111111111111111, \"#46039f\"], [0.2222222222222222, \"#7201a8\"], [0.3333333333333333, \"#9c179e\"], [0.4444444444444444, \"#bd3786\"], [0.5555555555555556, \"#d8576b\"], [0.6666666666666666, \"#ed7953\"], [0.7777777777777778, \"#fb9f3a\"], [0.8888888888888888, \"#fdca26\"], [1.0, \"#f0f921\"]], \"type\": \"histogram2d\"}], \"histogram2dcontour\": [{\"colorbar\": {\"outlinewidth\": 0, \"ticks\": \"\"}, \"colorscale\": [[0.0, \"#0d0887\"], [0.1111111111111111, \"#46039f\"], [0.2222222222222222, \"#7201a8\"], [0.3333333333333333, \"#9c179e\"], [0.4444444444444444, \"#bd3786\"], [0.5555555555555556, \"#d8576b\"], [0.6666666666666666, \"#ed7953\"], [0.7777777777777778, \"#fb9f3a\"], [0.8888888888888888, \"#fdca26\"], [1.0, \"#f0f921\"]], \"type\": \"histogram2dcontour\"}], \"mesh3d\": [{\"colorbar\": {\"outlinewidth\": 0, \"ticks\": \"\"}, \"type\": \"mesh3d\"}], \"parcoords\": [{\"line\": {\"colorbar\": {\"outlinewidth\": 0, \"ticks\": \"\"}}, \"type\": \"parcoords\"}], \"pie\": [{\"automargin\": true, \"type\": \"pie\"}], \"scatter\": [{\"marker\": {\"colorbar\": {\"outlinewidth\": 0, \"ticks\": \"\"}}, \"type\": \"scatter\"}], \"scatter3d\": [{\"line\": {\"colorbar\": {\"outlinewidth\": 0, \"ticks\": \"\"}}, \"marker\": {\"colorbar\": {\"outlinewidth\": 0, \"ticks\": \"\"}}, \"type\": \"scatter3d\"}], \"scattercarpet\": [{\"marker\": {\"colorbar\": {\"outlinewidth\": 0, \"ticks\": \"\"}}, \"type\": \"scattercarpet\"}], \"scattergeo\": [{\"marker\": {\"colorbar\": {\"outlinewidth\": 0, \"ticks\": \"\"}}, \"type\": \"scattergeo\"}], \"scattergl\": [{\"marker\": {\"colorbar\": {\"outlinewidth\": 0, \"ticks\": \"\"}}, \"type\": \"scattergl\"}], \"scattermapbox\": [{\"marker\": {\"colorbar\": {\"outlinewidth\": 0, \"ticks\": \"\"}}, \"type\": \"scattermapbox\"}], \"scatterpolar\": [{\"marker\": {\"colorbar\": {\"outlinewidth\": 0, \"ticks\": \"\"}}, \"type\": \"scatterpolar\"}], \"scatterpolargl\": [{\"marker\": {\"colorbar\": {\"outlinewidth\": 0, \"ticks\": \"\"}}, \"type\": \"scatterpolargl\"}], \"scatterternary\": [{\"marker\": {\"colorbar\": {\"outlinewidth\": 0, \"ticks\": \"\"}}, \"type\": \"scatterternary\"}], \"surface\": [{\"colorbar\": {\"outlinewidth\": 0, \"ticks\": \"\"}, \"colorscale\": [[0.0, \"#0d0887\"], [0.1111111111111111, \"#46039f\"], [0.2222222222222222, \"#7201a8\"], [0.3333333333333333, \"#9c179e\"], [0.4444444444444444, \"#bd3786\"], [0.5555555555555556, \"#d8576b\"], [0.6666666666666666, \"#ed7953\"], [0.7777777777777778, \"#fb9f3a\"], [0.8888888888888888, \"#fdca26\"], [1.0, \"#f0f921\"]], \"type\": \"surface\"}], \"table\": [{\"cells\": {\"fill\": {\"color\": \"#EBF0F8\"}, \"line\": {\"color\": \"white\"}}, \"header\": {\"fill\": {\"color\": \"#C8D4E3\"}, \"line\": {\"color\": \"white\"}}, \"type\": \"table\"}]}, \"layout\": {\"annotationdefaults\": {\"arrowcolor\": \"#2a3f5f\", \"arrowhead\": 0, \"arrowwidth\": 1}, \"coloraxis\": {\"colorbar\": {\"outlinewidth\": 0, \"ticks\": \"\"}}, \"colorscale\": {\"diverging\": [[0, \"#8e0152\"], [0.1, \"#c51b7d\"], [0.2, \"#de77ae\"], [0.3, \"#f1b6da\"], [0.4, \"#fde0ef\"], [0.5, \"#f7f7f7\"], [0.6, \"#e6f5d0\"], [0.7, \"#b8e186\"], [0.8, \"#7fbc41\"], [0.9, \"#4d9221\"], [1, \"#276419\"]], \"sequential\": [[0.0, \"#0d0887\"], [0.1111111111111111, \"#46039f\"], [0.2222222222222222, \"#7201a8\"], [0.3333333333333333, \"#9c179e\"], [0.4444444444444444, \"#bd3786\"], [0.5555555555555556, \"#d8576b\"], [0.6666666666666666, \"#ed7953\"], [0.7777777777777778, \"#fb9f3a\"], [0.8888888888888888, \"#fdca26\"], [1.0, \"#f0f921\"]], \"sequentialminus\": [[0.0, \"#0d0887\"], [0.1111111111111111, \"#46039f\"], [0.2222222222222222, \"#7201a8\"], [0.3333333333333333, \"#9c179e\"], [0.4444444444444444, \"#bd3786\"], [0.5555555555555556, \"#d8576b\"], [0.6666666666666666, \"#ed7953\"], [0.7777777777777778, \"#fb9f3a\"], [0.8888888888888888, \"#fdca26\"], [1.0, \"#f0f921\"]]}, \"colorway\": [\"#636efa\", \"#EF553B\", \"#00cc96\", \"#ab63fa\", \"#FFA15A\", \"#19d3f3\", \"#FF6692\", \"#B6E880\", \"#FF97FF\", \"#FECB52\"], \"font\": {\"color\": \"#2a3f5f\"}, \"geo\": {\"bgcolor\": \"white\", \"lakecolor\": \"white\", \"landcolor\": \"#E5ECF6\", \"showlakes\": true, \"showland\": true, \"subunitcolor\": \"white\"}, \"hoverlabel\": {\"align\": \"left\"}, \"hovermode\": \"closest\", \"mapbox\": {\"style\": \"light\"}, \"paper_bgcolor\": \"white\", \"plot_bgcolor\": \"#E5ECF6\", \"polar\": {\"angularaxis\": {\"gridcolor\": \"white\", \"linecolor\": \"white\", \"ticks\": \"\"}, \"bgcolor\": \"#E5ECF6\", \"radialaxis\": {\"gridcolor\": \"white\", \"linecolor\": \"white\", \"ticks\": \"\"}}, \"scene\": {\"xaxis\": {\"backgroundcolor\": \"#E5ECF6\", \"gridcolor\": \"white\", \"gridwidth\": 2, \"linecolor\": \"white\", \"showbackground\": true, \"ticks\": \"\", \"zerolinecolor\": \"white\"}, \"yaxis\": {\"backgroundcolor\": \"#E5ECF6\", \"gridcolor\": \"white\", \"gridwidth\": 2, \"linecolor\": \"white\", \"showbackground\": true, \"ticks\": \"\", \"zerolinecolor\": \"white\"}, \"zaxis\": {\"backgroundcolor\": \"#E5ECF6\", \"gridcolor\": \"white\", \"gridwidth\": 2, \"linecolor\": \"white\", \"showbackground\": true, \"ticks\": \"\", \"zerolinecolor\": \"white\"}}, \"shapedefaults\": {\"line\": {\"color\": \"#2a3f5f\"}}, \"ternary\": {\"aaxis\": {\"gridcolor\": \"white\", \"linecolor\": \"white\", \"ticks\": \"\"}, \"baxis\": {\"gridcolor\": \"white\", \"linecolor\": \"white\", \"ticks\": \"\"}, \"bgcolor\": \"#E5ECF6\", \"caxis\": {\"gridcolor\": \"white\", \"linecolor\": \"white\", \"ticks\": \"\"}}, \"title\": {\"x\": 0.05}, \"xaxis\": {\"automargin\": true, \"gridcolor\": \"white\", \"linecolor\": \"white\", \"ticks\": \"\", \"title\": {\"standoff\": 15}, \"zerolinecolor\": \"white\", \"zerolinewidth\": 2}, \"yaxis\": {\"automargin\": true, \"gridcolor\": \"white\", \"linecolor\": \"white\", \"ticks\": \"\", \"title\": {\"standoff\": 15}, \"zerolinecolor\": \"white\", \"zerolinewidth\": 2}}}, \"title\": {\"font\": {\"color\": \"#4D5663\"}}, \"xaxis\": {\"gridcolor\": \"#E1E5ED\", \"showgrid\": true, \"tickfont\": {\"color\": \"#4D5663\"}, \"title\": {\"font\": {\"color\": \"#4D5663\"}, \"text\": \"\"}, \"zerolinecolor\": \"#E1E5ED\"}, \"yaxis\": {\"gridcolor\": \"#E1E5ED\", \"showgrid\": true, \"tickfont\": {\"color\": \"#4D5663\"}, \"title\": {\"font\": {\"color\": \"#4D5663\"}, \"text\": \"\"}, \"zerolinecolor\": \"#E1E5ED\"}},\n",
       "                        {\"showLink\": true, \"linkText\": \"Export to plot.ly\", \"plotlyServerURL\": \"https://plot.ly\", \"responsive\": true}\n",
       "                    ).then(function(){\n",
       "                            \n",
       "var gd = document.getElementById('9f1bbf11-2c79-4657-9494-4ebec5ebfb89');\n",
       "var x = new MutationObserver(function (mutations, observer) {{\n",
       "        var display = window.getComputedStyle(gd).display;\n",
       "        if (!display || display === 'none') {{\n",
       "            console.log([gd, 'removed!']);\n",
       "            Plotly.purge(gd);\n",
       "            observer.disconnect();\n",
       "        }}\n",
       "}});\n",
       "\n",
       "// Listen for the removal of the full notebook cells\n",
       "var notebookContainer = gd.closest('#notebook-container');\n",
       "if (notebookContainer) {{\n",
       "    x.observe(notebookContainer, {childList: true});\n",
       "}}\n",
       "\n",
       "// Listen for the clearing of the current output cell\n",
       "var outputEl = gd.closest('.output');\n",
       "if (outputEl) {{\n",
       "    x.observe(outputEl, {childList: true});\n",
       "}}\n",
       "\n",
       "                        })\n",
       "                };\n",
       "                });\n",
       "            </script>\n",
       "        </div>"
      ]
     },
     "metadata": {},
     "output_type": "display_data"
    }
   ],
   "source": [
    "df.iplot(kind='bubble',x='A',y='B',size='C')"
   ]
  },
  {
   "cell_type": "markdown",
   "metadata": {},
   "source": [
    "## scatter_matrix()\n",
    "\n",
    "Similar to sns.pairplot()"
   ]
  },
  {
   "cell_type": "code",
   "execution_count": 19,
   "metadata": {},
   "outputs": [
    {
     "data": {
      "application/vnd.plotly.v1+json": {
       "config": {
        "linkText": "Export to plot.ly",
        "plotlyServerURL": "https://plot.ly",
        "showLink": true
       },
       "data": [
        {
         "histfunc": "count",
         "histnorm": "",
         "marker": {
          "color": "rgba(255, 153, 51, 1.0)",
          "line": {
           "color": "#4D5663",
           "width": 1.3
          }
         },
         "name": "A",
         "nbinsx": 10,
         "opacity": 0.8,
         "orientation": "v",
         "type": "histogram",
         "x": [
          -1.0099361673355667,
          -1.0284575537950853,
          -0.11589523503021203,
          -0.3871577102854481,
          -0.8802462358509756,
          -0.5073178289505085,
          -0.25872977857744495,
          -0.8451154146551735,
          -1.6753380560258833,
          -0.3197009244061666,
          -0.13563348234303227,
          -1.311691245631022,
          -1.249731033152953,
          0.17890604821843886,
          -1.128427638771329,
          -1.1636664744849745,
          -0.9412243713819362,
          -0.38570173042512107,
          -0.8003953490624793,
          0.8825029834565344,
          1.524337052036057,
          -0.23052058779768336,
          1.9285582193640014,
          -0.872188772166427,
          -0.3176075253149898,
          2.606580520825616,
          -1.1995356504360102,
          -0.5183516090778959,
          -0.04436142535581713,
          -0.18480369022350523,
          -1.7547311219167303,
          0.4348163458344423,
          0.02896010894576578,
          1.1883323868662738,
          1.6732989603111974,
          -0.8210953393613368,
          0.5004305409127747,
          -0.22178532385423305,
          -0.7454328674035887,
          2.1180173982206956,
          1.190563692517457,
          0.3138573805554352,
          -0.9935779216404051,
          -0.3647175556508881,
          0.5068831822214218,
          0.20910917496939357,
          0.577713713083106,
          -0.29978283141123724,
          -0.2873028727788575,
          -0.46363559405313143,
          -0.9206774761598664,
          -0.755950329387749,
          0.7922037497771531,
          -0.8795695353900919,
          0.28776576333898585,
          -0.23417565168839716,
          -1.9708555241106436,
          0.9824316178908786,
          -1.98662055858986,
          -0.7296201496003367,
          0.7238839666288359,
          1.5974689722403834,
          1.801589947153041,
          -0.7232840189194383,
          -1.0681986697213794,
          -0.5992838692605261,
          2.239239240441496,
          -0.2396645330815824,
          -0.04239926731173785,
          0.8738657260289925,
          -0.8714936725210958,
          1.0533376696933532,
          0.028493839037042872,
          0.9603494061902195,
          0.8199228021104203,
          1.4708360154901292,
          -1.104738720637537,
          -1.6868861956709762,
          1.0938651017022927,
          2.1390860039617507,
          -0.3705530670203375,
          -0.18840168960734383,
          0.42753386535746246,
          0.6980400869787413,
          -0.6402916416160395,
          -0.02222079553462808,
          -0.4216825148927192,
          0.280887190385779,
          -0.643768601883412,
          -0.6875539894115286,
          -1.3443114433014156,
          -0.25555254723379944,
          1.2335524942281835,
          -0.09161187909282938,
          1.0278257484361688,
          -0.514950707958829,
          -1.6295755204874562,
          -0.53058233036871,
          -0.06432271315517117,
          -0.4852358829857144
         ],
         "xaxis": "x",
         "yaxis": "y"
        },
        {
         "line": {
          "color": "rgba(128, 128, 128, 1.0)",
          "dash": "solid",
          "shape": "linear",
          "width": 1.3
         },
         "marker": {
          "size": 2,
          "symbol": "circle"
         },
         "mode": "markers",
         "name": "A",
         "text": "",
         "type": "scatter",
         "x": [
          0.744450190015796,
          1.1894557449729342,
          0.6014866195311764,
          -0.8880130958919555,
          0.2634422442550224,
          0.6626931843686664,
          -1.1250880401227368,
          0.4771603153029794,
          -0.1490065026960575,
          -0.9623205020230357,
          1.4401318165613903,
          1.4082689738738148,
          0.10270692830268753,
          0.01425779846376388,
          -1.480304960527278,
          -0.824423835202117,
          -0.5511105572426905,
          0.15703184361306663,
          0.9234900532311175,
          0.1613158759882807,
          -0.644491423073877,
          -1.2120176461084518,
          1.016181721468633,
          -0.6319609682834901,
          -0.24129550029875582,
          0.553567424049745,
          -0.62444452813727,
          0.22496068588193177,
          0.8743351098471469,
          1.7059386069757694,
          -1.9206327186061418,
          0.7686062004369781,
          -1.259648403612559,
          0.1096277410328048,
          0.9387094528772576,
          -0.27461979313709567,
          1.6207957707630838,
          0.06169141959846879,
          -0.4865658395535811,
          -0.5858756480838269,
          -0.8884612999138807,
          0.13300720372341124,
          1.2981909174656012,
          0.34230516992051746,
          0.4919371479311787,
          0.36239582310865504,
          -0.7208562108905195,
          0.6914975574734396,
          0.36195579934636735,
          -0.22232409309193057,
          0.065663078950636,
          0.1985313405036117,
          1.6933038949156938,
          -0.46264733238674816,
          1.7763447430055253,
          -0.640759791350102,
          -0.6793491505404466,
          0.4267992066295522,
          -1.1422053149767915,
          -0.7766786239708781,
          0.8754471153083129,
          -0.8903352167441764,
          -0.8840619009663945,
          -0.3280940175291615,
          0.3685108324294671,
          -0.5897320779624863,
          0.5219386165501887,
          0.10200882724863404,
          -0.30850418604752317,
          -0.08803823463831988,
          -1.557089116787949,
          0.5682957147945388,
          0.5278400244507687,
          1.4323269258374178,
          0.5576802769913602,
          2.204605797704065,
          -0.535349852025295,
          1.1789203019870378,
          0.30611952626236455,
          0.45594684826678866,
          1.8433513627069207,
          0.4245202276944359,
          1.031079593495038,
          1.5566392860476528,
          -0.5803530558234599,
          -1.252281916948563,
          -0.7086537222484671,
          0.5936620950802783,
          0.4854826118308957,
          -0.13808162235319374,
          0.07744183888892246,
          0.5157739214893406,
          0.1884566433660276,
          0.5637646438290826,
          -0.06990828503654249,
          0.8880289293608626,
          0.5309382058701448,
          -2.150688191460801,
          -1.0081065888477767,
          -0.6843264190330478
         ],
         "xaxis": "x2",
         "y": [
          -1.0099361673355667,
          -1.0284575537950853,
          -0.11589523503021203,
          -0.3871577102854481,
          -0.8802462358509756,
          -0.5073178289505085,
          -0.25872977857744495,
          -0.8451154146551735,
          -1.6753380560258833,
          -0.3197009244061666,
          -0.13563348234303227,
          -1.311691245631022,
          -1.249731033152953,
          0.17890604821843886,
          -1.128427638771329,
          -1.1636664744849745,
          -0.9412243713819362,
          -0.38570173042512107,
          -0.8003953490624793,
          0.8825029834565344,
          1.524337052036057,
          -0.23052058779768336,
          1.9285582193640014,
          -0.872188772166427,
          -0.3176075253149898,
          2.606580520825616,
          -1.1995356504360102,
          -0.5183516090778959,
          -0.04436142535581713,
          -0.18480369022350523,
          -1.7547311219167303,
          0.4348163458344423,
          0.02896010894576578,
          1.1883323868662738,
          1.6732989603111974,
          -0.8210953393613368,
          0.5004305409127747,
          -0.22178532385423305,
          -0.7454328674035887,
          2.1180173982206956,
          1.190563692517457,
          0.3138573805554352,
          -0.9935779216404051,
          -0.3647175556508881,
          0.5068831822214218,
          0.20910917496939357,
          0.577713713083106,
          -0.29978283141123724,
          -0.2873028727788575,
          -0.46363559405313143,
          -0.9206774761598664,
          -0.755950329387749,
          0.7922037497771531,
          -0.8795695353900919,
          0.28776576333898585,
          -0.23417565168839716,
          -1.9708555241106436,
          0.9824316178908786,
          -1.98662055858986,
          -0.7296201496003367,
          0.7238839666288359,
          1.5974689722403834,
          1.801589947153041,
          -0.7232840189194383,
          -1.0681986697213794,
          -0.5992838692605261,
          2.239239240441496,
          -0.2396645330815824,
          -0.04239926731173785,
          0.8738657260289925,
          -0.8714936725210958,
          1.0533376696933532,
          0.028493839037042872,
          0.9603494061902195,
          0.8199228021104203,
          1.4708360154901292,
          -1.104738720637537,
          -1.6868861956709762,
          1.0938651017022927,
          2.1390860039617507,
          -0.3705530670203375,
          -0.18840168960734383,
          0.42753386535746246,
          0.6980400869787413,
          -0.6402916416160395,
          -0.02222079553462808,
          -0.4216825148927192,
          0.280887190385779,
          -0.643768601883412,
          -0.6875539894115286,
          -1.3443114433014156,
          -0.25555254723379944,
          1.2335524942281835,
          -0.09161187909282938,
          1.0278257484361688,
          -0.514950707958829,
          -1.6295755204874562,
          -0.53058233036871,
          -0.06432271315517117,
          -0.4852358829857144
         ],
         "yaxis": "y2"
        },
        {
         "line": {
          "color": "rgba(128, 128, 128, 1.0)",
          "dash": "solid",
          "shape": "linear",
          "width": 1.3
         },
         "marker": {
          "size": 2,
          "symbol": "circle"
         },
         "mode": "markers",
         "name": "A",
         "text": "",
         "type": "scatter",
         "x": [
          -0.10844688366607731,
          0.16733633352974903,
          -1.003064679877997,
          0.11892881146560684,
          1.3333393915304186,
          -0.6448370494894287,
          -0.036934364214063056,
          -0.3354599867804685,
          0.8594130791664836,
          2.292550494907262,
          0.5851055074273075,
          -0.22373305898021273,
          -1.318829471484427,
          -0.47687927302096245,
          0.32297553601603296,
          -0.9758488905489777,
          0.6691342481305712,
          -0.5916234672327101,
          1.5989795847107482,
          -0.008847456786420628,
          0.4361699102532506,
          0.5632537291646132,
          -0.37933737575918364,
          -1.7887425453458037,
          -0.16753674441022864,
          -0.1409974236530499,
          1.4527206204041516,
          0.2997776368855433,
          -1.252308620876837,
          1.5982594919483113,
          0.19845250704666614,
          0.056605879498077494,
          1.9644044349481293,
          0.7658980591791495,
          -1.2973172481097486,
          -0.21107855605363565,
          -0.7057809538742765,
          -0.5836330480381826,
          -0.48340573189183406,
          0.014404479745272855,
          1.243791708976414,
          0.03911915089532694,
          0.8073366696093068,
          -0.21777867566887507,
          1.3206067041685183,
          0.5533690325022966,
          0.8478371294383951,
          -0.8219481286093834,
          0.8189156313408671,
          -1.8039272994473976,
          0.8134404378623654,
          -0.839922688506824,
          1.1213654983659211,
          -0.3175238420362532,
          -1.040232527431456,
          1.9270211148796856,
          0.49816493558492425,
          0.7210957281645702,
          -1.3711562942618596,
          0.18148120905557177,
          1.4177973798560877,
          0.8473564728331587,
          -2.467072144710912,
          -0.7725036485221717,
          -0.04099859162106744,
          0.8023311379678135,
          -0.05201887677702289,
          -0.2206430931931036,
          0.013789184936669339,
          0.2812407546994943,
          0.6677118079355471,
          -1.1298860728877786,
          1.38237155109421,
          -0.3908186085017909,
          -0.6235459428811388,
          0.1525324826063132,
          0.4853510459498709,
          -0.3342588245362525,
          -1.1074568386912864,
          0.3716183728865845,
          0.1283188309393588,
          1.3247212909650026,
          -0.29847719147752716,
          -0.6070218711864458,
          -1.9899820556255035,
          -0.17916009699644542,
          -0.7586603660994995,
          -0.2276209432381251,
          -0.8404747300241181,
          0.5987703429564175,
          -0.13878088527091056,
          -0.42396204344891697,
          0.4610587122947592,
          -0.37852470756784384,
          0.14418526352165398,
          0.02070290882063936,
          1.1492810604208865,
          0.24475333684183478,
          -0.09764569239807382,
          -0.758534462637969
         ],
         "xaxis": "x3",
         "y": [
          -1.0099361673355667,
          -1.0284575537950853,
          -0.11589523503021203,
          -0.3871577102854481,
          -0.8802462358509756,
          -0.5073178289505085,
          -0.25872977857744495,
          -0.8451154146551735,
          -1.6753380560258833,
          -0.3197009244061666,
          -0.13563348234303227,
          -1.311691245631022,
          -1.249731033152953,
          0.17890604821843886,
          -1.128427638771329,
          -1.1636664744849745,
          -0.9412243713819362,
          -0.38570173042512107,
          -0.8003953490624793,
          0.8825029834565344,
          1.524337052036057,
          -0.23052058779768336,
          1.9285582193640014,
          -0.872188772166427,
          -0.3176075253149898,
          2.606580520825616,
          -1.1995356504360102,
          -0.5183516090778959,
          -0.04436142535581713,
          -0.18480369022350523,
          -1.7547311219167303,
          0.4348163458344423,
          0.02896010894576578,
          1.1883323868662738,
          1.6732989603111974,
          -0.8210953393613368,
          0.5004305409127747,
          -0.22178532385423305,
          -0.7454328674035887,
          2.1180173982206956,
          1.190563692517457,
          0.3138573805554352,
          -0.9935779216404051,
          -0.3647175556508881,
          0.5068831822214218,
          0.20910917496939357,
          0.577713713083106,
          -0.29978283141123724,
          -0.2873028727788575,
          -0.46363559405313143,
          -0.9206774761598664,
          -0.755950329387749,
          0.7922037497771531,
          -0.8795695353900919,
          0.28776576333898585,
          -0.23417565168839716,
          -1.9708555241106436,
          0.9824316178908786,
          -1.98662055858986,
          -0.7296201496003367,
          0.7238839666288359,
          1.5974689722403834,
          1.801589947153041,
          -0.7232840189194383,
          -1.0681986697213794,
          -0.5992838692605261,
          2.239239240441496,
          -0.2396645330815824,
          -0.04239926731173785,
          0.8738657260289925,
          -0.8714936725210958,
          1.0533376696933532,
          0.028493839037042872,
          0.9603494061902195,
          0.8199228021104203,
          1.4708360154901292,
          -1.104738720637537,
          -1.6868861956709762,
          1.0938651017022927,
          2.1390860039617507,
          -0.3705530670203375,
          -0.18840168960734383,
          0.42753386535746246,
          0.6980400869787413,
          -0.6402916416160395,
          -0.02222079553462808,
          -0.4216825148927192,
          0.280887190385779,
          -0.643768601883412,
          -0.6875539894115286,
          -1.3443114433014156,
          -0.25555254723379944,
          1.2335524942281835,
          -0.09161187909282938,
          1.0278257484361688,
          -0.514950707958829,
          -1.6295755204874562,
          -0.53058233036871,
          -0.06432271315517117,
          -0.4852358829857144
         ],
         "yaxis": "y3"
        },
        {
         "line": {
          "color": "rgba(128, 128, 128, 1.0)",
          "dash": "solid",
          "shape": "linear",
          "width": 1.3
         },
         "marker": {
          "size": 2,
          "symbol": "circle"
         },
         "mode": "markers",
         "name": "A",
         "text": "",
         "type": "scatter",
         "x": [
          -1.1393184613711067,
          0.6793613666635172,
          0.28974041098371095,
          0.9470289347185049,
          1.855321234974801,
          -1.7722316176818371,
          1.3554955322757567,
          0.6432624264780246,
          0.34848058672818405,
          -0.37728668399111714,
          -1.759013929417471,
          -1.0671607454395564,
          -0.7795066221851681,
          -0.46696370159275197,
          0.8378772934461107,
          -1.265943442354089,
          0.707706194731624,
          -1.1598784355469942,
          0.3903579271561808,
          -0.18055035634994288,
          -1.7614489328259577,
          -1.548005517264043,
          -0.4476933691867463,
          0.4725205261924256,
          -0.9047678988456344,
          0.40299125921404544,
          0.3833443037713799,
          0.6086588925414255,
          0.10551045807600429,
          0.5398565778298426,
          -0.3253123067260765,
          2.410609715713139,
          -0.6875386256442397,
          1.803037824681518,
          -2.04461480952745,
          -1.6165455705422103,
          -0.8649796621911521,
          -0.20754981724057178,
          0.7162581858362861,
          0.3956552328909221,
          1.5562153420059015,
          -1.4048973439846717,
          0.7235465006901312,
          -1.1828001124403158,
          1.7670220708468052,
          -1.6483267663795467,
          1.2959639144400708,
          0.01137317773399804,
          0.24892171983224393,
          -1.3804822111812494,
          -0.1552211611756199,
          -0.3336621916615375,
          0.21704118913381892,
          0.22648720227245717,
          -2.3223235953886916,
          -1.6659328759101266,
          -0.43578175542352915,
          -0.020671620075946844,
          1.6098798041556606,
          0.9917772179785025,
          0.7561089928128429,
          -0.03075331935853545,
          0.9213688877157874,
          -1.7534585372719176,
          -1.0670716083211633,
          -1.2617429985339306,
          0.78279386642726,
          -1.0387525520793024,
          -0.8392526693580369,
          -0.218506857832733,
          0.20734729417789693,
          -0.3062181818320245,
          -0.8620903828109703,
          -1.3209325312822953,
          0.9747528909197947,
          -0.8663554124148628,
          0.4754132016880406,
          -0.3523819524286089,
          -1.3339226336427972,
          0.03678425634872807,
          0.16668823781780848,
          0.72486473881676,
          0.685991570942405,
          0.7495820181096875,
          0.7232736844271054,
          -1.6074542095465134,
          -0.17574514087516413,
          -1.6612646063680152,
          -1.303417435980111,
          2.0350458483027345,
          -0.5807409988730624,
          0.6720747309461574,
          -0.28525772520585135,
          2.248184362196986,
          0.7116960828106597,
          1.6614735371334814,
          -1.400668549764246,
          -0.3335111223037445,
          -2.0430793137092835,
          -1.624903816980265
         ],
         "xaxis": "x4",
         "y": [
          -1.0099361673355667,
          -1.0284575537950853,
          -0.11589523503021203,
          -0.3871577102854481,
          -0.8802462358509756,
          -0.5073178289505085,
          -0.25872977857744495,
          -0.8451154146551735,
          -1.6753380560258833,
          -0.3197009244061666,
          -0.13563348234303227,
          -1.311691245631022,
          -1.249731033152953,
          0.17890604821843886,
          -1.128427638771329,
          -1.1636664744849745,
          -0.9412243713819362,
          -0.38570173042512107,
          -0.8003953490624793,
          0.8825029834565344,
          1.524337052036057,
          -0.23052058779768336,
          1.9285582193640014,
          -0.872188772166427,
          -0.3176075253149898,
          2.606580520825616,
          -1.1995356504360102,
          -0.5183516090778959,
          -0.04436142535581713,
          -0.18480369022350523,
          -1.7547311219167303,
          0.4348163458344423,
          0.02896010894576578,
          1.1883323868662738,
          1.6732989603111974,
          -0.8210953393613368,
          0.5004305409127747,
          -0.22178532385423305,
          -0.7454328674035887,
          2.1180173982206956,
          1.190563692517457,
          0.3138573805554352,
          -0.9935779216404051,
          -0.3647175556508881,
          0.5068831822214218,
          0.20910917496939357,
          0.577713713083106,
          -0.29978283141123724,
          -0.2873028727788575,
          -0.46363559405313143,
          -0.9206774761598664,
          -0.755950329387749,
          0.7922037497771531,
          -0.8795695353900919,
          0.28776576333898585,
          -0.23417565168839716,
          -1.9708555241106436,
          0.9824316178908786,
          -1.98662055858986,
          -0.7296201496003367,
          0.7238839666288359,
          1.5974689722403834,
          1.801589947153041,
          -0.7232840189194383,
          -1.0681986697213794,
          -0.5992838692605261,
          2.239239240441496,
          -0.2396645330815824,
          -0.04239926731173785,
          0.8738657260289925,
          -0.8714936725210958,
          1.0533376696933532,
          0.028493839037042872,
          0.9603494061902195,
          0.8199228021104203,
          1.4708360154901292,
          -1.104738720637537,
          -1.6868861956709762,
          1.0938651017022927,
          2.1390860039617507,
          -0.3705530670203375,
          -0.18840168960734383,
          0.42753386535746246,
          0.6980400869787413,
          -0.6402916416160395,
          -0.02222079553462808,
          -0.4216825148927192,
          0.280887190385779,
          -0.643768601883412,
          -0.6875539894115286,
          -1.3443114433014156,
          -0.25555254723379944,
          1.2335524942281835,
          -0.09161187909282938,
          1.0278257484361688,
          -0.514950707958829,
          -1.6295755204874562,
          -0.53058233036871,
          -0.06432271315517117,
          -0.4852358829857144
         ],
         "yaxis": "y4"
        },
        {
         "line": {
          "color": "rgba(128, 128, 128, 1.0)",
          "dash": "solid",
          "shape": "linear",
          "width": 1.3
         },
         "marker": {
          "size": 2,
          "symbol": "circle"
         },
         "mode": "markers",
         "name": "B",
         "text": "",
         "type": "scatter",
         "x": [
          -1.0099361673355667,
          -1.0284575537950853,
          -0.11589523503021203,
          -0.3871577102854481,
          -0.8802462358509756,
          -0.5073178289505085,
          -0.25872977857744495,
          -0.8451154146551735,
          -1.6753380560258833,
          -0.3197009244061666,
          -0.13563348234303227,
          -1.311691245631022,
          -1.249731033152953,
          0.17890604821843886,
          -1.128427638771329,
          -1.1636664744849745,
          -0.9412243713819362,
          -0.38570173042512107,
          -0.8003953490624793,
          0.8825029834565344,
          1.524337052036057,
          -0.23052058779768336,
          1.9285582193640014,
          -0.872188772166427,
          -0.3176075253149898,
          2.606580520825616,
          -1.1995356504360102,
          -0.5183516090778959,
          -0.04436142535581713,
          -0.18480369022350523,
          -1.7547311219167303,
          0.4348163458344423,
          0.02896010894576578,
          1.1883323868662738,
          1.6732989603111974,
          -0.8210953393613368,
          0.5004305409127747,
          -0.22178532385423305,
          -0.7454328674035887,
          2.1180173982206956,
          1.190563692517457,
          0.3138573805554352,
          -0.9935779216404051,
          -0.3647175556508881,
          0.5068831822214218,
          0.20910917496939357,
          0.577713713083106,
          -0.29978283141123724,
          -0.2873028727788575,
          -0.46363559405313143,
          -0.9206774761598664,
          -0.755950329387749,
          0.7922037497771531,
          -0.8795695353900919,
          0.28776576333898585,
          -0.23417565168839716,
          -1.9708555241106436,
          0.9824316178908786,
          -1.98662055858986,
          -0.7296201496003367,
          0.7238839666288359,
          1.5974689722403834,
          1.801589947153041,
          -0.7232840189194383,
          -1.0681986697213794,
          -0.5992838692605261,
          2.239239240441496,
          -0.2396645330815824,
          -0.04239926731173785,
          0.8738657260289925,
          -0.8714936725210958,
          1.0533376696933532,
          0.028493839037042872,
          0.9603494061902195,
          0.8199228021104203,
          1.4708360154901292,
          -1.104738720637537,
          -1.6868861956709762,
          1.0938651017022927,
          2.1390860039617507,
          -0.3705530670203375,
          -0.18840168960734383,
          0.42753386535746246,
          0.6980400869787413,
          -0.6402916416160395,
          -0.02222079553462808,
          -0.4216825148927192,
          0.280887190385779,
          -0.643768601883412,
          -0.6875539894115286,
          -1.3443114433014156,
          -0.25555254723379944,
          1.2335524942281835,
          -0.09161187909282938,
          1.0278257484361688,
          -0.514950707958829,
          -1.6295755204874562,
          -0.53058233036871,
          -0.06432271315517117,
          -0.4852358829857144
         ],
         "xaxis": "x5",
         "y": [
          0.744450190015796,
          1.1894557449729342,
          0.6014866195311764,
          -0.8880130958919555,
          0.2634422442550224,
          0.6626931843686664,
          -1.1250880401227368,
          0.4771603153029794,
          -0.1490065026960575,
          -0.9623205020230357,
          1.4401318165613903,
          1.4082689738738148,
          0.10270692830268753,
          0.01425779846376388,
          -1.480304960527278,
          -0.824423835202117,
          -0.5511105572426905,
          0.15703184361306663,
          0.9234900532311175,
          0.1613158759882807,
          -0.644491423073877,
          -1.2120176461084518,
          1.016181721468633,
          -0.6319609682834901,
          -0.24129550029875582,
          0.553567424049745,
          -0.62444452813727,
          0.22496068588193177,
          0.8743351098471469,
          1.7059386069757694,
          -1.9206327186061418,
          0.7686062004369781,
          -1.259648403612559,
          0.1096277410328048,
          0.9387094528772576,
          -0.27461979313709567,
          1.6207957707630838,
          0.06169141959846879,
          -0.4865658395535811,
          -0.5858756480838269,
          -0.8884612999138807,
          0.13300720372341124,
          1.2981909174656012,
          0.34230516992051746,
          0.4919371479311787,
          0.36239582310865504,
          -0.7208562108905195,
          0.6914975574734396,
          0.36195579934636735,
          -0.22232409309193057,
          0.065663078950636,
          0.1985313405036117,
          1.6933038949156938,
          -0.46264733238674816,
          1.7763447430055253,
          -0.640759791350102,
          -0.6793491505404466,
          0.4267992066295522,
          -1.1422053149767915,
          -0.7766786239708781,
          0.8754471153083129,
          -0.8903352167441764,
          -0.8840619009663945,
          -0.3280940175291615,
          0.3685108324294671,
          -0.5897320779624863,
          0.5219386165501887,
          0.10200882724863404,
          -0.30850418604752317,
          -0.08803823463831988,
          -1.557089116787949,
          0.5682957147945388,
          0.5278400244507687,
          1.4323269258374178,
          0.5576802769913602,
          2.204605797704065,
          -0.535349852025295,
          1.1789203019870378,
          0.30611952626236455,
          0.45594684826678866,
          1.8433513627069207,
          0.4245202276944359,
          1.031079593495038,
          1.5566392860476528,
          -0.5803530558234599,
          -1.252281916948563,
          -0.7086537222484671,
          0.5936620950802783,
          0.4854826118308957,
          -0.13808162235319374,
          0.07744183888892246,
          0.5157739214893406,
          0.1884566433660276,
          0.5637646438290826,
          -0.06990828503654249,
          0.8880289293608626,
          0.5309382058701448,
          -2.150688191460801,
          -1.0081065888477767,
          -0.6843264190330478
         ],
         "yaxis": "y5"
        },
        {
         "histfunc": "count",
         "histnorm": "",
         "marker": {
          "color": "rgba(55, 128, 191, 1.0)",
          "line": {
           "color": "#4D5663",
           "width": 1.3
          }
         },
         "name": "B",
         "nbinsx": 10,
         "opacity": 0.8,
         "orientation": "v",
         "type": "histogram",
         "x": [
          0.744450190015796,
          1.1894557449729342,
          0.6014866195311764,
          -0.8880130958919555,
          0.2634422442550224,
          0.6626931843686664,
          -1.1250880401227368,
          0.4771603153029794,
          -0.1490065026960575,
          -0.9623205020230357,
          1.4401318165613903,
          1.4082689738738148,
          0.10270692830268753,
          0.01425779846376388,
          -1.480304960527278,
          -0.824423835202117,
          -0.5511105572426905,
          0.15703184361306663,
          0.9234900532311175,
          0.1613158759882807,
          -0.644491423073877,
          -1.2120176461084518,
          1.016181721468633,
          -0.6319609682834901,
          -0.24129550029875582,
          0.553567424049745,
          -0.62444452813727,
          0.22496068588193177,
          0.8743351098471469,
          1.7059386069757694,
          -1.9206327186061418,
          0.7686062004369781,
          -1.259648403612559,
          0.1096277410328048,
          0.9387094528772576,
          -0.27461979313709567,
          1.6207957707630838,
          0.06169141959846879,
          -0.4865658395535811,
          -0.5858756480838269,
          -0.8884612999138807,
          0.13300720372341124,
          1.2981909174656012,
          0.34230516992051746,
          0.4919371479311787,
          0.36239582310865504,
          -0.7208562108905195,
          0.6914975574734396,
          0.36195579934636735,
          -0.22232409309193057,
          0.065663078950636,
          0.1985313405036117,
          1.6933038949156938,
          -0.46264733238674816,
          1.7763447430055253,
          -0.640759791350102,
          -0.6793491505404466,
          0.4267992066295522,
          -1.1422053149767915,
          -0.7766786239708781,
          0.8754471153083129,
          -0.8903352167441764,
          -0.8840619009663945,
          -0.3280940175291615,
          0.3685108324294671,
          -0.5897320779624863,
          0.5219386165501887,
          0.10200882724863404,
          -0.30850418604752317,
          -0.08803823463831988,
          -1.557089116787949,
          0.5682957147945388,
          0.5278400244507687,
          1.4323269258374178,
          0.5576802769913602,
          2.204605797704065,
          -0.535349852025295,
          1.1789203019870378,
          0.30611952626236455,
          0.45594684826678866,
          1.8433513627069207,
          0.4245202276944359,
          1.031079593495038,
          1.5566392860476528,
          -0.5803530558234599,
          -1.252281916948563,
          -0.7086537222484671,
          0.5936620950802783,
          0.4854826118308957,
          -0.13808162235319374,
          0.07744183888892246,
          0.5157739214893406,
          0.1884566433660276,
          0.5637646438290826,
          -0.06990828503654249,
          0.8880289293608626,
          0.5309382058701448,
          -2.150688191460801,
          -1.0081065888477767,
          -0.6843264190330478
         ],
         "xaxis": "x6",
         "yaxis": "y6"
        },
        {
         "line": {
          "color": "rgba(128, 128, 128, 1.0)",
          "dash": "solid",
          "shape": "linear",
          "width": 1.3
         },
         "marker": {
          "size": 2,
          "symbol": "circle"
         },
         "mode": "markers",
         "name": "B",
         "text": "",
         "type": "scatter",
         "x": [
          -0.10844688366607731,
          0.16733633352974903,
          -1.003064679877997,
          0.11892881146560684,
          1.3333393915304186,
          -0.6448370494894287,
          -0.036934364214063056,
          -0.3354599867804685,
          0.8594130791664836,
          2.292550494907262,
          0.5851055074273075,
          -0.22373305898021273,
          -1.318829471484427,
          -0.47687927302096245,
          0.32297553601603296,
          -0.9758488905489777,
          0.6691342481305712,
          -0.5916234672327101,
          1.5989795847107482,
          -0.008847456786420628,
          0.4361699102532506,
          0.5632537291646132,
          -0.37933737575918364,
          -1.7887425453458037,
          -0.16753674441022864,
          -0.1409974236530499,
          1.4527206204041516,
          0.2997776368855433,
          -1.252308620876837,
          1.5982594919483113,
          0.19845250704666614,
          0.056605879498077494,
          1.9644044349481293,
          0.7658980591791495,
          -1.2973172481097486,
          -0.21107855605363565,
          -0.7057809538742765,
          -0.5836330480381826,
          -0.48340573189183406,
          0.014404479745272855,
          1.243791708976414,
          0.03911915089532694,
          0.8073366696093068,
          -0.21777867566887507,
          1.3206067041685183,
          0.5533690325022966,
          0.8478371294383951,
          -0.8219481286093834,
          0.8189156313408671,
          -1.8039272994473976,
          0.8134404378623654,
          -0.839922688506824,
          1.1213654983659211,
          -0.3175238420362532,
          -1.040232527431456,
          1.9270211148796856,
          0.49816493558492425,
          0.7210957281645702,
          -1.3711562942618596,
          0.18148120905557177,
          1.4177973798560877,
          0.8473564728331587,
          -2.467072144710912,
          -0.7725036485221717,
          -0.04099859162106744,
          0.8023311379678135,
          -0.05201887677702289,
          -0.2206430931931036,
          0.013789184936669339,
          0.2812407546994943,
          0.6677118079355471,
          -1.1298860728877786,
          1.38237155109421,
          -0.3908186085017909,
          -0.6235459428811388,
          0.1525324826063132,
          0.4853510459498709,
          -0.3342588245362525,
          -1.1074568386912864,
          0.3716183728865845,
          0.1283188309393588,
          1.3247212909650026,
          -0.29847719147752716,
          -0.6070218711864458,
          -1.9899820556255035,
          -0.17916009699644542,
          -0.7586603660994995,
          -0.2276209432381251,
          -0.8404747300241181,
          0.5987703429564175,
          -0.13878088527091056,
          -0.42396204344891697,
          0.4610587122947592,
          -0.37852470756784384,
          0.14418526352165398,
          0.02070290882063936,
          1.1492810604208865,
          0.24475333684183478,
          -0.09764569239807382,
          -0.758534462637969
         ],
         "xaxis": "x7",
         "y": [
          0.744450190015796,
          1.1894557449729342,
          0.6014866195311764,
          -0.8880130958919555,
          0.2634422442550224,
          0.6626931843686664,
          -1.1250880401227368,
          0.4771603153029794,
          -0.1490065026960575,
          -0.9623205020230357,
          1.4401318165613903,
          1.4082689738738148,
          0.10270692830268753,
          0.01425779846376388,
          -1.480304960527278,
          -0.824423835202117,
          -0.5511105572426905,
          0.15703184361306663,
          0.9234900532311175,
          0.1613158759882807,
          -0.644491423073877,
          -1.2120176461084518,
          1.016181721468633,
          -0.6319609682834901,
          -0.24129550029875582,
          0.553567424049745,
          -0.62444452813727,
          0.22496068588193177,
          0.8743351098471469,
          1.7059386069757694,
          -1.9206327186061418,
          0.7686062004369781,
          -1.259648403612559,
          0.1096277410328048,
          0.9387094528772576,
          -0.27461979313709567,
          1.6207957707630838,
          0.06169141959846879,
          -0.4865658395535811,
          -0.5858756480838269,
          -0.8884612999138807,
          0.13300720372341124,
          1.2981909174656012,
          0.34230516992051746,
          0.4919371479311787,
          0.36239582310865504,
          -0.7208562108905195,
          0.6914975574734396,
          0.36195579934636735,
          -0.22232409309193057,
          0.065663078950636,
          0.1985313405036117,
          1.6933038949156938,
          -0.46264733238674816,
          1.7763447430055253,
          -0.640759791350102,
          -0.6793491505404466,
          0.4267992066295522,
          -1.1422053149767915,
          -0.7766786239708781,
          0.8754471153083129,
          -0.8903352167441764,
          -0.8840619009663945,
          -0.3280940175291615,
          0.3685108324294671,
          -0.5897320779624863,
          0.5219386165501887,
          0.10200882724863404,
          -0.30850418604752317,
          -0.08803823463831988,
          -1.557089116787949,
          0.5682957147945388,
          0.5278400244507687,
          1.4323269258374178,
          0.5576802769913602,
          2.204605797704065,
          -0.535349852025295,
          1.1789203019870378,
          0.30611952626236455,
          0.45594684826678866,
          1.8433513627069207,
          0.4245202276944359,
          1.031079593495038,
          1.5566392860476528,
          -0.5803530558234599,
          -1.252281916948563,
          -0.7086537222484671,
          0.5936620950802783,
          0.4854826118308957,
          -0.13808162235319374,
          0.07744183888892246,
          0.5157739214893406,
          0.1884566433660276,
          0.5637646438290826,
          -0.06990828503654249,
          0.8880289293608626,
          0.5309382058701448,
          -2.150688191460801,
          -1.0081065888477767,
          -0.6843264190330478
         ],
         "yaxis": "y7"
        },
        {
         "line": {
          "color": "rgba(128, 128, 128, 1.0)",
          "dash": "solid",
          "shape": "linear",
          "width": 1.3
         },
         "marker": {
          "size": 2,
          "symbol": "circle"
         },
         "mode": "markers",
         "name": "B",
         "text": "",
         "type": "scatter",
         "x": [
          -1.1393184613711067,
          0.6793613666635172,
          0.28974041098371095,
          0.9470289347185049,
          1.855321234974801,
          -1.7722316176818371,
          1.3554955322757567,
          0.6432624264780246,
          0.34848058672818405,
          -0.37728668399111714,
          -1.759013929417471,
          -1.0671607454395564,
          -0.7795066221851681,
          -0.46696370159275197,
          0.8378772934461107,
          -1.265943442354089,
          0.707706194731624,
          -1.1598784355469942,
          0.3903579271561808,
          -0.18055035634994288,
          -1.7614489328259577,
          -1.548005517264043,
          -0.4476933691867463,
          0.4725205261924256,
          -0.9047678988456344,
          0.40299125921404544,
          0.3833443037713799,
          0.6086588925414255,
          0.10551045807600429,
          0.5398565778298426,
          -0.3253123067260765,
          2.410609715713139,
          -0.6875386256442397,
          1.803037824681518,
          -2.04461480952745,
          -1.6165455705422103,
          -0.8649796621911521,
          -0.20754981724057178,
          0.7162581858362861,
          0.3956552328909221,
          1.5562153420059015,
          -1.4048973439846717,
          0.7235465006901312,
          -1.1828001124403158,
          1.7670220708468052,
          -1.6483267663795467,
          1.2959639144400708,
          0.01137317773399804,
          0.24892171983224393,
          -1.3804822111812494,
          -0.1552211611756199,
          -0.3336621916615375,
          0.21704118913381892,
          0.22648720227245717,
          -2.3223235953886916,
          -1.6659328759101266,
          -0.43578175542352915,
          -0.020671620075946844,
          1.6098798041556606,
          0.9917772179785025,
          0.7561089928128429,
          -0.03075331935853545,
          0.9213688877157874,
          -1.7534585372719176,
          -1.0670716083211633,
          -1.2617429985339306,
          0.78279386642726,
          -1.0387525520793024,
          -0.8392526693580369,
          -0.218506857832733,
          0.20734729417789693,
          -0.3062181818320245,
          -0.8620903828109703,
          -1.3209325312822953,
          0.9747528909197947,
          -0.8663554124148628,
          0.4754132016880406,
          -0.3523819524286089,
          -1.3339226336427972,
          0.03678425634872807,
          0.16668823781780848,
          0.72486473881676,
          0.685991570942405,
          0.7495820181096875,
          0.7232736844271054,
          -1.6074542095465134,
          -0.17574514087516413,
          -1.6612646063680152,
          -1.303417435980111,
          2.0350458483027345,
          -0.5807409988730624,
          0.6720747309461574,
          -0.28525772520585135,
          2.248184362196986,
          0.7116960828106597,
          1.6614735371334814,
          -1.400668549764246,
          -0.3335111223037445,
          -2.0430793137092835,
          -1.624903816980265
         ],
         "xaxis": "x8",
         "y": [
          0.744450190015796,
          1.1894557449729342,
          0.6014866195311764,
          -0.8880130958919555,
          0.2634422442550224,
          0.6626931843686664,
          -1.1250880401227368,
          0.4771603153029794,
          -0.1490065026960575,
          -0.9623205020230357,
          1.4401318165613903,
          1.4082689738738148,
          0.10270692830268753,
          0.01425779846376388,
          -1.480304960527278,
          -0.824423835202117,
          -0.5511105572426905,
          0.15703184361306663,
          0.9234900532311175,
          0.1613158759882807,
          -0.644491423073877,
          -1.2120176461084518,
          1.016181721468633,
          -0.6319609682834901,
          -0.24129550029875582,
          0.553567424049745,
          -0.62444452813727,
          0.22496068588193177,
          0.8743351098471469,
          1.7059386069757694,
          -1.9206327186061418,
          0.7686062004369781,
          -1.259648403612559,
          0.1096277410328048,
          0.9387094528772576,
          -0.27461979313709567,
          1.6207957707630838,
          0.06169141959846879,
          -0.4865658395535811,
          -0.5858756480838269,
          -0.8884612999138807,
          0.13300720372341124,
          1.2981909174656012,
          0.34230516992051746,
          0.4919371479311787,
          0.36239582310865504,
          -0.7208562108905195,
          0.6914975574734396,
          0.36195579934636735,
          -0.22232409309193057,
          0.065663078950636,
          0.1985313405036117,
          1.6933038949156938,
          -0.46264733238674816,
          1.7763447430055253,
          -0.640759791350102,
          -0.6793491505404466,
          0.4267992066295522,
          -1.1422053149767915,
          -0.7766786239708781,
          0.8754471153083129,
          -0.8903352167441764,
          -0.8840619009663945,
          -0.3280940175291615,
          0.3685108324294671,
          -0.5897320779624863,
          0.5219386165501887,
          0.10200882724863404,
          -0.30850418604752317,
          -0.08803823463831988,
          -1.557089116787949,
          0.5682957147945388,
          0.5278400244507687,
          1.4323269258374178,
          0.5576802769913602,
          2.204605797704065,
          -0.535349852025295,
          1.1789203019870378,
          0.30611952626236455,
          0.45594684826678866,
          1.8433513627069207,
          0.4245202276944359,
          1.031079593495038,
          1.5566392860476528,
          -0.5803530558234599,
          -1.252281916948563,
          -0.7086537222484671,
          0.5936620950802783,
          0.4854826118308957,
          -0.13808162235319374,
          0.07744183888892246,
          0.5157739214893406,
          0.1884566433660276,
          0.5637646438290826,
          -0.06990828503654249,
          0.8880289293608626,
          0.5309382058701448,
          -2.150688191460801,
          -1.0081065888477767,
          -0.6843264190330478
         ],
         "yaxis": "y8"
        },
        {
         "line": {
          "color": "rgba(128, 128, 128, 1.0)",
          "dash": "solid",
          "shape": "linear",
          "width": 1.3
         },
         "marker": {
          "size": 2,
          "symbol": "circle"
         },
         "mode": "markers",
         "name": "C",
         "text": "",
         "type": "scatter",
         "x": [
          -1.0099361673355667,
          -1.0284575537950853,
          -0.11589523503021203,
          -0.3871577102854481,
          -0.8802462358509756,
          -0.5073178289505085,
          -0.25872977857744495,
          -0.8451154146551735,
          -1.6753380560258833,
          -0.3197009244061666,
          -0.13563348234303227,
          -1.311691245631022,
          -1.249731033152953,
          0.17890604821843886,
          -1.128427638771329,
          -1.1636664744849745,
          -0.9412243713819362,
          -0.38570173042512107,
          -0.8003953490624793,
          0.8825029834565344,
          1.524337052036057,
          -0.23052058779768336,
          1.9285582193640014,
          -0.872188772166427,
          -0.3176075253149898,
          2.606580520825616,
          -1.1995356504360102,
          -0.5183516090778959,
          -0.04436142535581713,
          -0.18480369022350523,
          -1.7547311219167303,
          0.4348163458344423,
          0.02896010894576578,
          1.1883323868662738,
          1.6732989603111974,
          -0.8210953393613368,
          0.5004305409127747,
          -0.22178532385423305,
          -0.7454328674035887,
          2.1180173982206956,
          1.190563692517457,
          0.3138573805554352,
          -0.9935779216404051,
          -0.3647175556508881,
          0.5068831822214218,
          0.20910917496939357,
          0.577713713083106,
          -0.29978283141123724,
          -0.2873028727788575,
          -0.46363559405313143,
          -0.9206774761598664,
          -0.755950329387749,
          0.7922037497771531,
          -0.8795695353900919,
          0.28776576333898585,
          -0.23417565168839716,
          -1.9708555241106436,
          0.9824316178908786,
          -1.98662055858986,
          -0.7296201496003367,
          0.7238839666288359,
          1.5974689722403834,
          1.801589947153041,
          -0.7232840189194383,
          -1.0681986697213794,
          -0.5992838692605261,
          2.239239240441496,
          -0.2396645330815824,
          -0.04239926731173785,
          0.8738657260289925,
          -0.8714936725210958,
          1.0533376696933532,
          0.028493839037042872,
          0.9603494061902195,
          0.8199228021104203,
          1.4708360154901292,
          -1.104738720637537,
          -1.6868861956709762,
          1.0938651017022927,
          2.1390860039617507,
          -0.3705530670203375,
          -0.18840168960734383,
          0.42753386535746246,
          0.6980400869787413,
          -0.6402916416160395,
          -0.02222079553462808,
          -0.4216825148927192,
          0.280887190385779,
          -0.643768601883412,
          -0.6875539894115286,
          -1.3443114433014156,
          -0.25555254723379944,
          1.2335524942281835,
          -0.09161187909282938,
          1.0278257484361688,
          -0.514950707958829,
          -1.6295755204874562,
          -0.53058233036871,
          -0.06432271315517117,
          -0.4852358829857144
         ],
         "xaxis": "x9",
         "y": [
          -0.10844688366607731,
          0.16733633352974903,
          -1.003064679877997,
          0.11892881146560684,
          1.3333393915304186,
          -0.6448370494894287,
          -0.036934364214063056,
          -0.3354599867804685,
          0.8594130791664836,
          2.292550494907262,
          0.5851055074273075,
          -0.22373305898021273,
          -1.318829471484427,
          -0.47687927302096245,
          0.32297553601603296,
          -0.9758488905489777,
          0.6691342481305712,
          -0.5916234672327101,
          1.5989795847107482,
          -0.008847456786420628,
          0.4361699102532506,
          0.5632537291646132,
          -0.37933737575918364,
          -1.7887425453458037,
          -0.16753674441022864,
          -0.1409974236530499,
          1.4527206204041516,
          0.2997776368855433,
          -1.252308620876837,
          1.5982594919483113,
          0.19845250704666614,
          0.056605879498077494,
          1.9644044349481293,
          0.7658980591791495,
          -1.2973172481097486,
          -0.21107855605363565,
          -0.7057809538742765,
          -0.5836330480381826,
          -0.48340573189183406,
          0.014404479745272855,
          1.243791708976414,
          0.03911915089532694,
          0.8073366696093068,
          -0.21777867566887507,
          1.3206067041685183,
          0.5533690325022966,
          0.8478371294383951,
          -0.8219481286093834,
          0.8189156313408671,
          -1.8039272994473976,
          0.8134404378623654,
          -0.839922688506824,
          1.1213654983659211,
          -0.3175238420362532,
          -1.040232527431456,
          1.9270211148796856,
          0.49816493558492425,
          0.7210957281645702,
          -1.3711562942618596,
          0.18148120905557177,
          1.4177973798560877,
          0.8473564728331587,
          -2.467072144710912,
          -0.7725036485221717,
          -0.04099859162106744,
          0.8023311379678135,
          -0.05201887677702289,
          -0.2206430931931036,
          0.013789184936669339,
          0.2812407546994943,
          0.6677118079355471,
          -1.1298860728877786,
          1.38237155109421,
          -0.3908186085017909,
          -0.6235459428811388,
          0.1525324826063132,
          0.4853510459498709,
          -0.3342588245362525,
          -1.1074568386912864,
          0.3716183728865845,
          0.1283188309393588,
          1.3247212909650026,
          -0.29847719147752716,
          -0.6070218711864458,
          -1.9899820556255035,
          -0.17916009699644542,
          -0.7586603660994995,
          -0.2276209432381251,
          -0.8404747300241181,
          0.5987703429564175,
          -0.13878088527091056,
          -0.42396204344891697,
          0.4610587122947592,
          -0.37852470756784384,
          0.14418526352165398,
          0.02070290882063936,
          1.1492810604208865,
          0.24475333684183478,
          -0.09764569239807382,
          -0.758534462637969
         ],
         "yaxis": "y9"
        },
        {
         "line": {
          "color": "rgba(128, 128, 128, 1.0)",
          "dash": "solid",
          "shape": "linear",
          "width": 1.3
         },
         "marker": {
          "size": 2,
          "symbol": "circle"
         },
         "mode": "markers",
         "name": "C",
         "text": "",
         "type": "scatter",
         "x": [
          0.744450190015796,
          1.1894557449729342,
          0.6014866195311764,
          -0.8880130958919555,
          0.2634422442550224,
          0.6626931843686664,
          -1.1250880401227368,
          0.4771603153029794,
          -0.1490065026960575,
          -0.9623205020230357,
          1.4401318165613903,
          1.4082689738738148,
          0.10270692830268753,
          0.01425779846376388,
          -1.480304960527278,
          -0.824423835202117,
          -0.5511105572426905,
          0.15703184361306663,
          0.9234900532311175,
          0.1613158759882807,
          -0.644491423073877,
          -1.2120176461084518,
          1.016181721468633,
          -0.6319609682834901,
          -0.24129550029875582,
          0.553567424049745,
          -0.62444452813727,
          0.22496068588193177,
          0.8743351098471469,
          1.7059386069757694,
          -1.9206327186061418,
          0.7686062004369781,
          -1.259648403612559,
          0.1096277410328048,
          0.9387094528772576,
          -0.27461979313709567,
          1.6207957707630838,
          0.06169141959846879,
          -0.4865658395535811,
          -0.5858756480838269,
          -0.8884612999138807,
          0.13300720372341124,
          1.2981909174656012,
          0.34230516992051746,
          0.4919371479311787,
          0.36239582310865504,
          -0.7208562108905195,
          0.6914975574734396,
          0.36195579934636735,
          -0.22232409309193057,
          0.065663078950636,
          0.1985313405036117,
          1.6933038949156938,
          -0.46264733238674816,
          1.7763447430055253,
          -0.640759791350102,
          -0.6793491505404466,
          0.4267992066295522,
          -1.1422053149767915,
          -0.7766786239708781,
          0.8754471153083129,
          -0.8903352167441764,
          -0.8840619009663945,
          -0.3280940175291615,
          0.3685108324294671,
          -0.5897320779624863,
          0.5219386165501887,
          0.10200882724863404,
          -0.30850418604752317,
          -0.08803823463831988,
          -1.557089116787949,
          0.5682957147945388,
          0.5278400244507687,
          1.4323269258374178,
          0.5576802769913602,
          2.204605797704065,
          -0.535349852025295,
          1.1789203019870378,
          0.30611952626236455,
          0.45594684826678866,
          1.8433513627069207,
          0.4245202276944359,
          1.031079593495038,
          1.5566392860476528,
          -0.5803530558234599,
          -1.252281916948563,
          -0.7086537222484671,
          0.5936620950802783,
          0.4854826118308957,
          -0.13808162235319374,
          0.07744183888892246,
          0.5157739214893406,
          0.1884566433660276,
          0.5637646438290826,
          -0.06990828503654249,
          0.8880289293608626,
          0.5309382058701448,
          -2.150688191460801,
          -1.0081065888477767,
          -0.6843264190330478
         ],
         "xaxis": "x10",
         "y": [
          -0.10844688366607731,
          0.16733633352974903,
          -1.003064679877997,
          0.11892881146560684,
          1.3333393915304186,
          -0.6448370494894287,
          -0.036934364214063056,
          -0.3354599867804685,
          0.8594130791664836,
          2.292550494907262,
          0.5851055074273075,
          -0.22373305898021273,
          -1.318829471484427,
          -0.47687927302096245,
          0.32297553601603296,
          -0.9758488905489777,
          0.6691342481305712,
          -0.5916234672327101,
          1.5989795847107482,
          -0.008847456786420628,
          0.4361699102532506,
          0.5632537291646132,
          -0.37933737575918364,
          -1.7887425453458037,
          -0.16753674441022864,
          -0.1409974236530499,
          1.4527206204041516,
          0.2997776368855433,
          -1.252308620876837,
          1.5982594919483113,
          0.19845250704666614,
          0.056605879498077494,
          1.9644044349481293,
          0.7658980591791495,
          -1.2973172481097486,
          -0.21107855605363565,
          -0.7057809538742765,
          -0.5836330480381826,
          -0.48340573189183406,
          0.014404479745272855,
          1.243791708976414,
          0.03911915089532694,
          0.8073366696093068,
          -0.21777867566887507,
          1.3206067041685183,
          0.5533690325022966,
          0.8478371294383951,
          -0.8219481286093834,
          0.8189156313408671,
          -1.8039272994473976,
          0.8134404378623654,
          -0.839922688506824,
          1.1213654983659211,
          -0.3175238420362532,
          -1.040232527431456,
          1.9270211148796856,
          0.49816493558492425,
          0.7210957281645702,
          -1.3711562942618596,
          0.18148120905557177,
          1.4177973798560877,
          0.8473564728331587,
          -2.467072144710912,
          -0.7725036485221717,
          -0.04099859162106744,
          0.8023311379678135,
          -0.05201887677702289,
          -0.2206430931931036,
          0.013789184936669339,
          0.2812407546994943,
          0.6677118079355471,
          -1.1298860728877786,
          1.38237155109421,
          -0.3908186085017909,
          -0.6235459428811388,
          0.1525324826063132,
          0.4853510459498709,
          -0.3342588245362525,
          -1.1074568386912864,
          0.3716183728865845,
          0.1283188309393588,
          1.3247212909650026,
          -0.29847719147752716,
          -0.6070218711864458,
          -1.9899820556255035,
          -0.17916009699644542,
          -0.7586603660994995,
          -0.2276209432381251,
          -0.8404747300241181,
          0.5987703429564175,
          -0.13878088527091056,
          -0.42396204344891697,
          0.4610587122947592,
          -0.37852470756784384,
          0.14418526352165398,
          0.02070290882063936,
          1.1492810604208865,
          0.24475333684183478,
          -0.09764569239807382,
          -0.758534462637969
         ],
         "yaxis": "y10"
        },
        {
         "histfunc": "count",
         "histnorm": "",
         "marker": {
          "color": "rgba(50, 171, 96, 1.0)",
          "line": {
           "color": "#4D5663",
           "width": 1.3
          }
         },
         "name": "C",
         "nbinsx": 10,
         "opacity": 0.8,
         "orientation": "v",
         "type": "histogram",
         "x": [
          -0.10844688366607731,
          0.16733633352974903,
          -1.003064679877997,
          0.11892881146560684,
          1.3333393915304186,
          -0.6448370494894287,
          -0.036934364214063056,
          -0.3354599867804685,
          0.8594130791664836,
          2.292550494907262,
          0.5851055074273075,
          -0.22373305898021273,
          -1.318829471484427,
          -0.47687927302096245,
          0.32297553601603296,
          -0.9758488905489777,
          0.6691342481305712,
          -0.5916234672327101,
          1.5989795847107482,
          -0.008847456786420628,
          0.4361699102532506,
          0.5632537291646132,
          -0.37933737575918364,
          -1.7887425453458037,
          -0.16753674441022864,
          -0.1409974236530499,
          1.4527206204041516,
          0.2997776368855433,
          -1.252308620876837,
          1.5982594919483113,
          0.19845250704666614,
          0.056605879498077494,
          1.9644044349481293,
          0.7658980591791495,
          -1.2973172481097486,
          -0.21107855605363565,
          -0.7057809538742765,
          -0.5836330480381826,
          -0.48340573189183406,
          0.014404479745272855,
          1.243791708976414,
          0.03911915089532694,
          0.8073366696093068,
          -0.21777867566887507,
          1.3206067041685183,
          0.5533690325022966,
          0.8478371294383951,
          -0.8219481286093834,
          0.8189156313408671,
          -1.8039272994473976,
          0.8134404378623654,
          -0.839922688506824,
          1.1213654983659211,
          -0.3175238420362532,
          -1.040232527431456,
          1.9270211148796856,
          0.49816493558492425,
          0.7210957281645702,
          -1.3711562942618596,
          0.18148120905557177,
          1.4177973798560877,
          0.8473564728331587,
          -2.467072144710912,
          -0.7725036485221717,
          -0.04099859162106744,
          0.8023311379678135,
          -0.05201887677702289,
          -0.2206430931931036,
          0.013789184936669339,
          0.2812407546994943,
          0.6677118079355471,
          -1.1298860728877786,
          1.38237155109421,
          -0.3908186085017909,
          -0.6235459428811388,
          0.1525324826063132,
          0.4853510459498709,
          -0.3342588245362525,
          -1.1074568386912864,
          0.3716183728865845,
          0.1283188309393588,
          1.3247212909650026,
          -0.29847719147752716,
          -0.6070218711864458,
          -1.9899820556255035,
          -0.17916009699644542,
          -0.7586603660994995,
          -0.2276209432381251,
          -0.8404747300241181,
          0.5987703429564175,
          -0.13878088527091056,
          -0.42396204344891697,
          0.4610587122947592,
          -0.37852470756784384,
          0.14418526352165398,
          0.02070290882063936,
          1.1492810604208865,
          0.24475333684183478,
          -0.09764569239807382,
          -0.758534462637969
         ],
         "xaxis": "x11",
         "yaxis": "y11"
        },
        {
         "line": {
          "color": "rgba(128, 128, 128, 1.0)",
          "dash": "solid",
          "shape": "linear",
          "width": 1.3
         },
         "marker": {
          "size": 2,
          "symbol": "circle"
         },
         "mode": "markers",
         "name": "C",
         "text": "",
         "type": "scatter",
         "x": [
          -1.1393184613711067,
          0.6793613666635172,
          0.28974041098371095,
          0.9470289347185049,
          1.855321234974801,
          -1.7722316176818371,
          1.3554955322757567,
          0.6432624264780246,
          0.34848058672818405,
          -0.37728668399111714,
          -1.759013929417471,
          -1.0671607454395564,
          -0.7795066221851681,
          -0.46696370159275197,
          0.8378772934461107,
          -1.265943442354089,
          0.707706194731624,
          -1.1598784355469942,
          0.3903579271561808,
          -0.18055035634994288,
          -1.7614489328259577,
          -1.548005517264043,
          -0.4476933691867463,
          0.4725205261924256,
          -0.9047678988456344,
          0.40299125921404544,
          0.3833443037713799,
          0.6086588925414255,
          0.10551045807600429,
          0.5398565778298426,
          -0.3253123067260765,
          2.410609715713139,
          -0.6875386256442397,
          1.803037824681518,
          -2.04461480952745,
          -1.6165455705422103,
          -0.8649796621911521,
          -0.20754981724057178,
          0.7162581858362861,
          0.3956552328909221,
          1.5562153420059015,
          -1.4048973439846717,
          0.7235465006901312,
          -1.1828001124403158,
          1.7670220708468052,
          -1.6483267663795467,
          1.2959639144400708,
          0.01137317773399804,
          0.24892171983224393,
          -1.3804822111812494,
          -0.1552211611756199,
          -0.3336621916615375,
          0.21704118913381892,
          0.22648720227245717,
          -2.3223235953886916,
          -1.6659328759101266,
          -0.43578175542352915,
          -0.020671620075946844,
          1.6098798041556606,
          0.9917772179785025,
          0.7561089928128429,
          -0.03075331935853545,
          0.9213688877157874,
          -1.7534585372719176,
          -1.0670716083211633,
          -1.2617429985339306,
          0.78279386642726,
          -1.0387525520793024,
          -0.8392526693580369,
          -0.218506857832733,
          0.20734729417789693,
          -0.3062181818320245,
          -0.8620903828109703,
          -1.3209325312822953,
          0.9747528909197947,
          -0.8663554124148628,
          0.4754132016880406,
          -0.3523819524286089,
          -1.3339226336427972,
          0.03678425634872807,
          0.16668823781780848,
          0.72486473881676,
          0.685991570942405,
          0.7495820181096875,
          0.7232736844271054,
          -1.6074542095465134,
          -0.17574514087516413,
          -1.6612646063680152,
          -1.303417435980111,
          2.0350458483027345,
          -0.5807409988730624,
          0.6720747309461574,
          -0.28525772520585135,
          2.248184362196986,
          0.7116960828106597,
          1.6614735371334814,
          -1.400668549764246,
          -0.3335111223037445,
          -2.0430793137092835,
          -1.624903816980265
         ],
         "xaxis": "x12",
         "y": [
          -0.10844688366607731,
          0.16733633352974903,
          -1.003064679877997,
          0.11892881146560684,
          1.3333393915304186,
          -0.6448370494894287,
          -0.036934364214063056,
          -0.3354599867804685,
          0.8594130791664836,
          2.292550494907262,
          0.5851055074273075,
          -0.22373305898021273,
          -1.318829471484427,
          -0.47687927302096245,
          0.32297553601603296,
          -0.9758488905489777,
          0.6691342481305712,
          -0.5916234672327101,
          1.5989795847107482,
          -0.008847456786420628,
          0.4361699102532506,
          0.5632537291646132,
          -0.37933737575918364,
          -1.7887425453458037,
          -0.16753674441022864,
          -0.1409974236530499,
          1.4527206204041516,
          0.2997776368855433,
          -1.252308620876837,
          1.5982594919483113,
          0.19845250704666614,
          0.056605879498077494,
          1.9644044349481293,
          0.7658980591791495,
          -1.2973172481097486,
          -0.21107855605363565,
          -0.7057809538742765,
          -0.5836330480381826,
          -0.48340573189183406,
          0.014404479745272855,
          1.243791708976414,
          0.03911915089532694,
          0.8073366696093068,
          -0.21777867566887507,
          1.3206067041685183,
          0.5533690325022966,
          0.8478371294383951,
          -0.8219481286093834,
          0.8189156313408671,
          -1.8039272994473976,
          0.8134404378623654,
          -0.839922688506824,
          1.1213654983659211,
          -0.3175238420362532,
          -1.040232527431456,
          1.9270211148796856,
          0.49816493558492425,
          0.7210957281645702,
          -1.3711562942618596,
          0.18148120905557177,
          1.4177973798560877,
          0.8473564728331587,
          -2.467072144710912,
          -0.7725036485221717,
          -0.04099859162106744,
          0.8023311379678135,
          -0.05201887677702289,
          -0.2206430931931036,
          0.013789184936669339,
          0.2812407546994943,
          0.6677118079355471,
          -1.1298860728877786,
          1.38237155109421,
          -0.3908186085017909,
          -0.6235459428811388,
          0.1525324826063132,
          0.4853510459498709,
          -0.3342588245362525,
          -1.1074568386912864,
          0.3716183728865845,
          0.1283188309393588,
          1.3247212909650026,
          -0.29847719147752716,
          -0.6070218711864458,
          -1.9899820556255035,
          -0.17916009699644542,
          -0.7586603660994995,
          -0.2276209432381251,
          -0.8404747300241181,
          0.5987703429564175,
          -0.13878088527091056,
          -0.42396204344891697,
          0.4610587122947592,
          -0.37852470756784384,
          0.14418526352165398,
          0.02070290882063936,
          1.1492810604208865,
          0.24475333684183478,
          -0.09764569239807382,
          -0.758534462637969
         ],
         "yaxis": "y12"
        },
        {
         "line": {
          "color": "rgba(128, 128, 128, 1.0)",
          "dash": "solid",
          "shape": "linear",
          "width": 1.3
         },
         "marker": {
          "size": 2,
          "symbol": "circle"
         },
         "mode": "markers",
         "name": "D",
         "text": "",
         "type": "scatter",
         "x": [
          -1.0099361673355667,
          -1.0284575537950853,
          -0.11589523503021203,
          -0.3871577102854481,
          -0.8802462358509756,
          -0.5073178289505085,
          -0.25872977857744495,
          -0.8451154146551735,
          -1.6753380560258833,
          -0.3197009244061666,
          -0.13563348234303227,
          -1.311691245631022,
          -1.249731033152953,
          0.17890604821843886,
          -1.128427638771329,
          -1.1636664744849745,
          -0.9412243713819362,
          -0.38570173042512107,
          -0.8003953490624793,
          0.8825029834565344,
          1.524337052036057,
          -0.23052058779768336,
          1.9285582193640014,
          -0.872188772166427,
          -0.3176075253149898,
          2.606580520825616,
          -1.1995356504360102,
          -0.5183516090778959,
          -0.04436142535581713,
          -0.18480369022350523,
          -1.7547311219167303,
          0.4348163458344423,
          0.02896010894576578,
          1.1883323868662738,
          1.6732989603111974,
          -0.8210953393613368,
          0.5004305409127747,
          -0.22178532385423305,
          -0.7454328674035887,
          2.1180173982206956,
          1.190563692517457,
          0.3138573805554352,
          -0.9935779216404051,
          -0.3647175556508881,
          0.5068831822214218,
          0.20910917496939357,
          0.577713713083106,
          -0.29978283141123724,
          -0.2873028727788575,
          -0.46363559405313143,
          -0.9206774761598664,
          -0.755950329387749,
          0.7922037497771531,
          -0.8795695353900919,
          0.28776576333898585,
          -0.23417565168839716,
          -1.9708555241106436,
          0.9824316178908786,
          -1.98662055858986,
          -0.7296201496003367,
          0.7238839666288359,
          1.5974689722403834,
          1.801589947153041,
          -0.7232840189194383,
          -1.0681986697213794,
          -0.5992838692605261,
          2.239239240441496,
          -0.2396645330815824,
          -0.04239926731173785,
          0.8738657260289925,
          -0.8714936725210958,
          1.0533376696933532,
          0.028493839037042872,
          0.9603494061902195,
          0.8199228021104203,
          1.4708360154901292,
          -1.104738720637537,
          -1.6868861956709762,
          1.0938651017022927,
          2.1390860039617507,
          -0.3705530670203375,
          -0.18840168960734383,
          0.42753386535746246,
          0.6980400869787413,
          -0.6402916416160395,
          -0.02222079553462808,
          -0.4216825148927192,
          0.280887190385779,
          -0.643768601883412,
          -0.6875539894115286,
          -1.3443114433014156,
          -0.25555254723379944,
          1.2335524942281835,
          -0.09161187909282938,
          1.0278257484361688,
          -0.514950707958829,
          -1.6295755204874562,
          -0.53058233036871,
          -0.06432271315517117,
          -0.4852358829857144
         ],
         "xaxis": "x13",
         "y": [
          -1.1393184613711067,
          0.6793613666635172,
          0.28974041098371095,
          0.9470289347185049,
          1.855321234974801,
          -1.7722316176818371,
          1.3554955322757567,
          0.6432624264780246,
          0.34848058672818405,
          -0.37728668399111714,
          -1.759013929417471,
          -1.0671607454395564,
          -0.7795066221851681,
          -0.46696370159275197,
          0.8378772934461107,
          -1.265943442354089,
          0.707706194731624,
          -1.1598784355469942,
          0.3903579271561808,
          -0.18055035634994288,
          -1.7614489328259577,
          -1.548005517264043,
          -0.4476933691867463,
          0.4725205261924256,
          -0.9047678988456344,
          0.40299125921404544,
          0.3833443037713799,
          0.6086588925414255,
          0.10551045807600429,
          0.5398565778298426,
          -0.3253123067260765,
          2.410609715713139,
          -0.6875386256442397,
          1.803037824681518,
          -2.04461480952745,
          -1.6165455705422103,
          -0.8649796621911521,
          -0.20754981724057178,
          0.7162581858362861,
          0.3956552328909221,
          1.5562153420059015,
          -1.4048973439846717,
          0.7235465006901312,
          -1.1828001124403158,
          1.7670220708468052,
          -1.6483267663795467,
          1.2959639144400708,
          0.01137317773399804,
          0.24892171983224393,
          -1.3804822111812494,
          -0.1552211611756199,
          -0.3336621916615375,
          0.21704118913381892,
          0.22648720227245717,
          -2.3223235953886916,
          -1.6659328759101266,
          -0.43578175542352915,
          -0.020671620075946844,
          1.6098798041556606,
          0.9917772179785025,
          0.7561089928128429,
          -0.03075331935853545,
          0.9213688877157874,
          -1.7534585372719176,
          -1.0670716083211633,
          -1.2617429985339306,
          0.78279386642726,
          -1.0387525520793024,
          -0.8392526693580369,
          -0.218506857832733,
          0.20734729417789693,
          -0.3062181818320245,
          -0.8620903828109703,
          -1.3209325312822953,
          0.9747528909197947,
          -0.8663554124148628,
          0.4754132016880406,
          -0.3523819524286089,
          -1.3339226336427972,
          0.03678425634872807,
          0.16668823781780848,
          0.72486473881676,
          0.685991570942405,
          0.7495820181096875,
          0.7232736844271054,
          -1.6074542095465134,
          -0.17574514087516413,
          -1.6612646063680152,
          -1.303417435980111,
          2.0350458483027345,
          -0.5807409988730624,
          0.6720747309461574,
          -0.28525772520585135,
          2.248184362196986,
          0.7116960828106597,
          1.6614735371334814,
          -1.400668549764246,
          -0.3335111223037445,
          -2.0430793137092835,
          -1.624903816980265
         ],
         "yaxis": "y13"
        },
        {
         "line": {
          "color": "rgba(128, 128, 128, 1.0)",
          "dash": "solid",
          "shape": "linear",
          "width": 1.3
         },
         "marker": {
          "size": 2,
          "symbol": "circle"
         },
         "mode": "markers",
         "name": "D",
         "text": "",
         "type": "scatter",
         "x": [
          0.744450190015796,
          1.1894557449729342,
          0.6014866195311764,
          -0.8880130958919555,
          0.2634422442550224,
          0.6626931843686664,
          -1.1250880401227368,
          0.4771603153029794,
          -0.1490065026960575,
          -0.9623205020230357,
          1.4401318165613903,
          1.4082689738738148,
          0.10270692830268753,
          0.01425779846376388,
          -1.480304960527278,
          -0.824423835202117,
          -0.5511105572426905,
          0.15703184361306663,
          0.9234900532311175,
          0.1613158759882807,
          -0.644491423073877,
          -1.2120176461084518,
          1.016181721468633,
          -0.6319609682834901,
          -0.24129550029875582,
          0.553567424049745,
          -0.62444452813727,
          0.22496068588193177,
          0.8743351098471469,
          1.7059386069757694,
          -1.9206327186061418,
          0.7686062004369781,
          -1.259648403612559,
          0.1096277410328048,
          0.9387094528772576,
          -0.27461979313709567,
          1.6207957707630838,
          0.06169141959846879,
          -0.4865658395535811,
          -0.5858756480838269,
          -0.8884612999138807,
          0.13300720372341124,
          1.2981909174656012,
          0.34230516992051746,
          0.4919371479311787,
          0.36239582310865504,
          -0.7208562108905195,
          0.6914975574734396,
          0.36195579934636735,
          -0.22232409309193057,
          0.065663078950636,
          0.1985313405036117,
          1.6933038949156938,
          -0.46264733238674816,
          1.7763447430055253,
          -0.640759791350102,
          -0.6793491505404466,
          0.4267992066295522,
          -1.1422053149767915,
          -0.7766786239708781,
          0.8754471153083129,
          -0.8903352167441764,
          -0.8840619009663945,
          -0.3280940175291615,
          0.3685108324294671,
          -0.5897320779624863,
          0.5219386165501887,
          0.10200882724863404,
          -0.30850418604752317,
          -0.08803823463831988,
          -1.557089116787949,
          0.5682957147945388,
          0.5278400244507687,
          1.4323269258374178,
          0.5576802769913602,
          2.204605797704065,
          -0.535349852025295,
          1.1789203019870378,
          0.30611952626236455,
          0.45594684826678866,
          1.8433513627069207,
          0.4245202276944359,
          1.031079593495038,
          1.5566392860476528,
          -0.5803530558234599,
          -1.252281916948563,
          -0.7086537222484671,
          0.5936620950802783,
          0.4854826118308957,
          -0.13808162235319374,
          0.07744183888892246,
          0.5157739214893406,
          0.1884566433660276,
          0.5637646438290826,
          -0.06990828503654249,
          0.8880289293608626,
          0.5309382058701448,
          -2.150688191460801,
          -1.0081065888477767,
          -0.6843264190330478
         ],
         "xaxis": "x14",
         "y": [
          -1.1393184613711067,
          0.6793613666635172,
          0.28974041098371095,
          0.9470289347185049,
          1.855321234974801,
          -1.7722316176818371,
          1.3554955322757567,
          0.6432624264780246,
          0.34848058672818405,
          -0.37728668399111714,
          -1.759013929417471,
          -1.0671607454395564,
          -0.7795066221851681,
          -0.46696370159275197,
          0.8378772934461107,
          -1.265943442354089,
          0.707706194731624,
          -1.1598784355469942,
          0.3903579271561808,
          -0.18055035634994288,
          -1.7614489328259577,
          -1.548005517264043,
          -0.4476933691867463,
          0.4725205261924256,
          -0.9047678988456344,
          0.40299125921404544,
          0.3833443037713799,
          0.6086588925414255,
          0.10551045807600429,
          0.5398565778298426,
          -0.3253123067260765,
          2.410609715713139,
          -0.6875386256442397,
          1.803037824681518,
          -2.04461480952745,
          -1.6165455705422103,
          -0.8649796621911521,
          -0.20754981724057178,
          0.7162581858362861,
          0.3956552328909221,
          1.5562153420059015,
          -1.4048973439846717,
          0.7235465006901312,
          -1.1828001124403158,
          1.7670220708468052,
          -1.6483267663795467,
          1.2959639144400708,
          0.01137317773399804,
          0.24892171983224393,
          -1.3804822111812494,
          -0.1552211611756199,
          -0.3336621916615375,
          0.21704118913381892,
          0.22648720227245717,
          -2.3223235953886916,
          -1.6659328759101266,
          -0.43578175542352915,
          -0.020671620075946844,
          1.6098798041556606,
          0.9917772179785025,
          0.7561089928128429,
          -0.03075331935853545,
          0.9213688877157874,
          -1.7534585372719176,
          -1.0670716083211633,
          -1.2617429985339306,
          0.78279386642726,
          -1.0387525520793024,
          -0.8392526693580369,
          -0.218506857832733,
          0.20734729417789693,
          -0.3062181818320245,
          -0.8620903828109703,
          -1.3209325312822953,
          0.9747528909197947,
          -0.8663554124148628,
          0.4754132016880406,
          -0.3523819524286089,
          -1.3339226336427972,
          0.03678425634872807,
          0.16668823781780848,
          0.72486473881676,
          0.685991570942405,
          0.7495820181096875,
          0.7232736844271054,
          -1.6074542095465134,
          -0.17574514087516413,
          -1.6612646063680152,
          -1.303417435980111,
          2.0350458483027345,
          -0.5807409988730624,
          0.6720747309461574,
          -0.28525772520585135,
          2.248184362196986,
          0.7116960828106597,
          1.6614735371334814,
          -1.400668549764246,
          -0.3335111223037445,
          -2.0430793137092835,
          -1.624903816980265
         ],
         "yaxis": "y14"
        },
        {
         "line": {
          "color": "rgba(128, 128, 128, 1.0)",
          "dash": "solid",
          "shape": "linear",
          "width": 1.3
         },
         "marker": {
          "size": 2,
          "symbol": "circle"
         },
         "mode": "markers",
         "name": "D",
         "text": "",
         "type": "scatter",
         "x": [
          -0.10844688366607731,
          0.16733633352974903,
          -1.003064679877997,
          0.11892881146560684,
          1.3333393915304186,
          -0.6448370494894287,
          -0.036934364214063056,
          -0.3354599867804685,
          0.8594130791664836,
          2.292550494907262,
          0.5851055074273075,
          -0.22373305898021273,
          -1.318829471484427,
          -0.47687927302096245,
          0.32297553601603296,
          -0.9758488905489777,
          0.6691342481305712,
          -0.5916234672327101,
          1.5989795847107482,
          -0.008847456786420628,
          0.4361699102532506,
          0.5632537291646132,
          -0.37933737575918364,
          -1.7887425453458037,
          -0.16753674441022864,
          -0.1409974236530499,
          1.4527206204041516,
          0.2997776368855433,
          -1.252308620876837,
          1.5982594919483113,
          0.19845250704666614,
          0.056605879498077494,
          1.9644044349481293,
          0.7658980591791495,
          -1.2973172481097486,
          -0.21107855605363565,
          -0.7057809538742765,
          -0.5836330480381826,
          -0.48340573189183406,
          0.014404479745272855,
          1.243791708976414,
          0.03911915089532694,
          0.8073366696093068,
          -0.21777867566887507,
          1.3206067041685183,
          0.5533690325022966,
          0.8478371294383951,
          -0.8219481286093834,
          0.8189156313408671,
          -1.8039272994473976,
          0.8134404378623654,
          -0.839922688506824,
          1.1213654983659211,
          -0.3175238420362532,
          -1.040232527431456,
          1.9270211148796856,
          0.49816493558492425,
          0.7210957281645702,
          -1.3711562942618596,
          0.18148120905557177,
          1.4177973798560877,
          0.8473564728331587,
          -2.467072144710912,
          -0.7725036485221717,
          -0.04099859162106744,
          0.8023311379678135,
          -0.05201887677702289,
          -0.2206430931931036,
          0.013789184936669339,
          0.2812407546994943,
          0.6677118079355471,
          -1.1298860728877786,
          1.38237155109421,
          -0.3908186085017909,
          -0.6235459428811388,
          0.1525324826063132,
          0.4853510459498709,
          -0.3342588245362525,
          -1.1074568386912864,
          0.3716183728865845,
          0.1283188309393588,
          1.3247212909650026,
          -0.29847719147752716,
          -0.6070218711864458,
          -1.9899820556255035,
          -0.17916009699644542,
          -0.7586603660994995,
          -0.2276209432381251,
          -0.8404747300241181,
          0.5987703429564175,
          -0.13878088527091056,
          -0.42396204344891697,
          0.4610587122947592,
          -0.37852470756784384,
          0.14418526352165398,
          0.02070290882063936,
          1.1492810604208865,
          0.24475333684183478,
          -0.09764569239807382,
          -0.758534462637969
         ],
         "xaxis": "x15",
         "y": [
          -1.1393184613711067,
          0.6793613666635172,
          0.28974041098371095,
          0.9470289347185049,
          1.855321234974801,
          -1.7722316176818371,
          1.3554955322757567,
          0.6432624264780246,
          0.34848058672818405,
          -0.37728668399111714,
          -1.759013929417471,
          -1.0671607454395564,
          -0.7795066221851681,
          -0.46696370159275197,
          0.8378772934461107,
          -1.265943442354089,
          0.707706194731624,
          -1.1598784355469942,
          0.3903579271561808,
          -0.18055035634994288,
          -1.7614489328259577,
          -1.548005517264043,
          -0.4476933691867463,
          0.4725205261924256,
          -0.9047678988456344,
          0.40299125921404544,
          0.3833443037713799,
          0.6086588925414255,
          0.10551045807600429,
          0.5398565778298426,
          -0.3253123067260765,
          2.410609715713139,
          -0.6875386256442397,
          1.803037824681518,
          -2.04461480952745,
          -1.6165455705422103,
          -0.8649796621911521,
          -0.20754981724057178,
          0.7162581858362861,
          0.3956552328909221,
          1.5562153420059015,
          -1.4048973439846717,
          0.7235465006901312,
          -1.1828001124403158,
          1.7670220708468052,
          -1.6483267663795467,
          1.2959639144400708,
          0.01137317773399804,
          0.24892171983224393,
          -1.3804822111812494,
          -0.1552211611756199,
          -0.3336621916615375,
          0.21704118913381892,
          0.22648720227245717,
          -2.3223235953886916,
          -1.6659328759101266,
          -0.43578175542352915,
          -0.020671620075946844,
          1.6098798041556606,
          0.9917772179785025,
          0.7561089928128429,
          -0.03075331935853545,
          0.9213688877157874,
          -1.7534585372719176,
          -1.0670716083211633,
          -1.2617429985339306,
          0.78279386642726,
          -1.0387525520793024,
          -0.8392526693580369,
          -0.218506857832733,
          0.20734729417789693,
          -0.3062181818320245,
          -0.8620903828109703,
          -1.3209325312822953,
          0.9747528909197947,
          -0.8663554124148628,
          0.4754132016880406,
          -0.3523819524286089,
          -1.3339226336427972,
          0.03678425634872807,
          0.16668823781780848,
          0.72486473881676,
          0.685991570942405,
          0.7495820181096875,
          0.7232736844271054,
          -1.6074542095465134,
          -0.17574514087516413,
          -1.6612646063680152,
          -1.303417435980111,
          2.0350458483027345,
          -0.5807409988730624,
          0.6720747309461574,
          -0.28525772520585135,
          2.248184362196986,
          0.7116960828106597,
          1.6614735371334814,
          -1.400668549764246,
          -0.3335111223037445,
          -2.0430793137092835,
          -1.624903816980265
         ],
         "yaxis": "y15"
        },
        {
         "histfunc": "count",
         "histnorm": "",
         "marker": {
          "color": "rgba(128, 0, 128, 1.0)",
          "line": {
           "color": "#4D5663",
           "width": 1.3
          }
         },
         "name": "D",
         "nbinsx": 10,
         "opacity": 0.8,
         "orientation": "v",
         "type": "histogram",
         "x": [
          -1.1393184613711067,
          0.6793613666635172,
          0.28974041098371095,
          0.9470289347185049,
          1.855321234974801,
          -1.7722316176818371,
          1.3554955322757567,
          0.6432624264780246,
          0.34848058672818405,
          -0.37728668399111714,
          -1.759013929417471,
          -1.0671607454395564,
          -0.7795066221851681,
          -0.46696370159275197,
          0.8378772934461107,
          -1.265943442354089,
          0.707706194731624,
          -1.1598784355469942,
          0.3903579271561808,
          -0.18055035634994288,
          -1.7614489328259577,
          -1.548005517264043,
          -0.4476933691867463,
          0.4725205261924256,
          -0.9047678988456344,
          0.40299125921404544,
          0.3833443037713799,
          0.6086588925414255,
          0.10551045807600429,
          0.5398565778298426,
          -0.3253123067260765,
          2.410609715713139,
          -0.6875386256442397,
          1.803037824681518,
          -2.04461480952745,
          -1.6165455705422103,
          -0.8649796621911521,
          -0.20754981724057178,
          0.7162581858362861,
          0.3956552328909221,
          1.5562153420059015,
          -1.4048973439846717,
          0.7235465006901312,
          -1.1828001124403158,
          1.7670220708468052,
          -1.6483267663795467,
          1.2959639144400708,
          0.01137317773399804,
          0.24892171983224393,
          -1.3804822111812494,
          -0.1552211611756199,
          -0.3336621916615375,
          0.21704118913381892,
          0.22648720227245717,
          -2.3223235953886916,
          -1.6659328759101266,
          -0.43578175542352915,
          -0.020671620075946844,
          1.6098798041556606,
          0.9917772179785025,
          0.7561089928128429,
          -0.03075331935853545,
          0.9213688877157874,
          -1.7534585372719176,
          -1.0670716083211633,
          -1.2617429985339306,
          0.78279386642726,
          -1.0387525520793024,
          -0.8392526693580369,
          -0.218506857832733,
          0.20734729417789693,
          -0.3062181818320245,
          -0.8620903828109703,
          -1.3209325312822953,
          0.9747528909197947,
          -0.8663554124148628,
          0.4754132016880406,
          -0.3523819524286089,
          -1.3339226336427972,
          0.03678425634872807,
          0.16668823781780848,
          0.72486473881676,
          0.685991570942405,
          0.7495820181096875,
          0.7232736844271054,
          -1.6074542095465134,
          -0.17574514087516413,
          -1.6612646063680152,
          -1.303417435980111,
          2.0350458483027345,
          -0.5807409988730624,
          0.6720747309461574,
          -0.28525772520585135,
          2.248184362196986,
          0.7116960828106597,
          1.6614735371334814,
          -1.400668549764246,
          -0.3335111223037445,
          -2.0430793137092835,
          -1.624903816980265
         ],
         "xaxis": "x16",
         "yaxis": "y16"
        }
       ],
       "layout": {
        "bargap": 0.02,
        "legend": {
         "bgcolor": "#F5F6F9",
         "font": {
          "color": "#4D5663"
         }
        },
        "paper_bgcolor": "#F5F6F9",
        "plot_bgcolor": "#F5F6F9",
        "showlegend": false,
        "template": {
         "data": {
          "bar": [
           {
            "error_x": {
             "color": "#2a3f5f"
            },
            "error_y": {
             "color": "#2a3f5f"
            },
            "marker": {
             "line": {
              "color": "#E5ECF6",
              "width": 0.5
             }
            },
            "type": "bar"
           }
          ],
          "barpolar": [
           {
            "marker": {
             "line": {
              "color": "#E5ECF6",
              "width": 0.5
             }
            },
            "type": "barpolar"
           }
          ],
          "carpet": [
           {
            "aaxis": {
             "endlinecolor": "#2a3f5f",
             "gridcolor": "white",
             "linecolor": "white",
             "minorgridcolor": "white",
             "startlinecolor": "#2a3f5f"
            },
            "baxis": {
             "endlinecolor": "#2a3f5f",
             "gridcolor": "white",
             "linecolor": "white",
             "minorgridcolor": "white",
             "startlinecolor": "#2a3f5f"
            },
            "type": "carpet"
           }
          ],
          "choropleth": [
           {
            "colorbar": {
             "outlinewidth": 0,
             "ticks": ""
            },
            "type": "choropleth"
           }
          ],
          "contour": [
           {
            "colorbar": {
             "outlinewidth": 0,
             "ticks": ""
            },
            "colorscale": [
             [
              0,
              "#0d0887"
             ],
             [
              0.1111111111111111,
              "#46039f"
             ],
             [
              0.2222222222222222,
              "#7201a8"
             ],
             [
              0.3333333333333333,
              "#9c179e"
             ],
             [
              0.4444444444444444,
              "#bd3786"
             ],
             [
              0.5555555555555556,
              "#d8576b"
             ],
             [
              0.6666666666666666,
              "#ed7953"
             ],
             [
              0.7777777777777778,
              "#fb9f3a"
             ],
             [
              0.8888888888888888,
              "#fdca26"
             ],
             [
              1,
              "#f0f921"
             ]
            ],
            "type": "contour"
           }
          ],
          "contourcarpet": [
           {
            "colorbar": {
             "outlinewidth": 0,
             "ticks": ""
            },
            "type": "contourcarpet"
           }
          ],
          "heatmap": [
           {
            "colorbar": {
             "outlinewidth": 0,
             "ticks": ""
            },
            "colorscale": [
             [
              0,
              "#0d0887"
             ],
             [
              0.1111111111111111,
              "#46039f"
             ],
             [
              0.2222222222222222,
              "#7201a8"
             ],
             [
              0.3333333333333333,
              "#9c179e"
             ],
             [
              0.4444444444444444,
              "#bd3786"
             ],
             [
              0.5555555555555556,
              "#d8576b"
             ],
             [
              0.6666666666666666,
              "#ed7953"
             ],
             [
              0.7777777777777778,
              "#fb9f3a"
             ],
             [
              0.8888888888888888,
              "#fdca26"
             ],
             [
              1,
              "#f0f921"
             ]
            ],
            "type": "heatmap"
           }
          ],
          "heatmapgl": [
           {
            "colorbar": {
             "outlinewidth": 0,
             "ticks": ""
            },
            "colorscale": [
             [
              0,
              "#0d0887"
             ],
             [
              0.1111111111111111,
              "#46039f"
             ],
             [
              0.2222222222222222,
              "#7201a8"
             ],
             [
              0.3333333333333333,
              "#9c179e"
             ],
             [
              0.4444444444444444,
              "#bd3786"
             ],
             [
              0.5555555555555556,
              "#d8576b"
             ],
             [
              0.6666666666666666,
              "#ed7953"
             ],
             [
              0.7777777777777778,
              "#fb9f3a"
             ],
             [
              0.8888888888888888,
              "#fdca26"
             ],
             [
              1,
              "#f0f921"
             ]
            ],
            "type": "heatmapgl"
           }
          ],
          "histogram": [
           {
            "marker": {
             "colorbar": {
              "outlinewidth": 0,
              "ticks": ""
             }
            },
            "type": "histogram"
           }
          ],
          "histogram2d": [
           {
            "colorbar": {
             "outlinewidth": 0,
             "ticks": ""
            },
            "colorscale": [
             [
              0,
              "#0d0887"
             ],
             [
              0.1111111111111111,
              "#46039f"
             ],
             [
              0.2222222222222222,
              "#7201a8"
             ],
             [
              0.3333333333333333,
              "#9c179e"
             ],
             [
              0.4444444444444444,
              "#bd3786"
             ],
             [
              0.5555555555555556,
              "#d8576b"
             ],
             [
              0.6666666666666666,
              "#ed7953"
             ],
             [
              0.7777777777777778,
              "#fb9f3a"
             ],
             [
              0.8888888888888888,
              "#fdca26"
             ],
             [
              1,
              "#f0f921"
             ]
            ],
            "type": "histogram2d"
           }
          ],
          "histogram2dcontour": [
           {
            "colorbar": {
             "outlinewidth": 0,
             "ticks": ""
            },
            "colorscale": [
             [
              0,
              "#0d0887"
             ],
             [
              0.1111111111111111,
              "#46039f"
             ],
             [
              0.2222222222222222,
              "#7201a8"
             ],
             [
              0.3333333333333333,
              "#9c179e"
             ],
             [
              0.4444444444444444,
              "#bd3786"
             ],
             [
              0.5555555555555556,
              "#d8576b"
             ],
             [
              0.6666666666666666,
              "#ed7953"
             ],
             [
              0.7777777777777778,
              "#fb9f3a"
             ],
             [
              0.8888888888888888,
              "#fdca26"
             ],
             [
              1,
              "#f0f921"
             ]
            ],
            "type": "histogram2dcontour"
           }
          ],
          "mesh3d": [
           {
            "colorbar": {
             "outlinewidth": 0,
             "ticks": ""
            },
            "type": "mesh3d"
           }
          ],
          "parcoords": [
           {
            "line": {
             "colorbar": {
              "outlinewidth": 0,
              "ticks": ""
             }
            },
            "type": "parcoords"
           }
          ],
          "pie": [
           {
            "automargin": true,
            "type": "pie"
           }
          ],
          "scatter": [
           {
            "marker": {
             "colorbar": {
              "outlinewidth": 0,
              "ticks": ""
             }
            },
            "type": "scatter"
           }
          ],
          "scatter3d": [
           {
            "line": {
             "colorbar": {
              "outlinewidth": 0,
              "ticks": ""
             }
            },
            "marker": {
             "colorbar": {
              "outlinewidth": 0,
              "ticks": ""
             }
            },
            "type": "scatter3d"
           }
          ],
          "scattercarpet": [
           {
            "marker": {
             "colorbar": {
              "outlinewidth": 0,
              "ticks": ""
             }
            },
            "type": "scattercarpet"
           }
          ],
          "scattergeo": [
           {
            "marker": {
             "colorbar": {
              "outlinewidth": 0,
              "ticks": ""
             }
            },
            "type": "scattergeo"
           }
          ],
          "scattergl": [
           {
            "marker": {
             "colorbar": {
              "outlinewidth": 0,
              "ticks": ""
             }
            },
            "type": "scattergl"
           }
          ],
          "scattermapbox": [
           {
            "marker": {
             "colorbar": {
              "outlinewidth": 0,
              "ticks": ""
             }
            },
            "type": "scattermapbox"
           }
          ],
          "scatterpolar": [
           {
            "marker": {
             "colorbar": {
              "outlinewidth": 0,
              "ticks": ""
             }
            },
            "type": "scatterpolar"
           }
          ],
          "scatterpolargl": [
           {
            "marker": {
             "colorbar": {
              "outlinewidth": 0,
              "ticks": ""
             }
            },
            "type": "scatterpolargl"
           }
          ],
          "scatterternary": [
           {
            "marker": {
             "colorbar": {
              "outlinewidth": 0,
              "ticks": ""
             }
            },
            "type": "scatterternary"
           }
          ],
          "surface": [
           {
            "colorbar": {
             "outlinewidth": 0,
             "ticks": ""
            },
            "colorscale": [
             [
              0,
              "#0d0887"
             ],
             [
              0.1111111111111111,
              "#46039f"
             ],
             [
              0.2222222222222222,
              "#7201a8"
             ],
             [
              0.3333333333333333,
              "#9c179e"
             ],
             [
              0.4444444444444444,
              "#bd3786"
             ],
             [
              0.5555555555555556,
              "#d8576b"
             ],
             [
              0.6666666666666666,
              "#ed7953"
             ],
             [
              0.7777777777777778,
              "#fb9f3a"
             ],
             [
              0.8888888888888888,
              "#fdca26"
             ],
             [
              1,
              "#f0f921"
             ]
            ],
            "type": "surface"
           }
          ],
          "table": [
           {
            "cells": {
             "fill": {
              "color": "#EBF0F8"
             },
             "line": {
              "color": "white"
             }
            },
            "header": {
             "fill": {
              "color": "#C8D4E3"
             },
             "line": {
              "color": "white"
             }
            },
            "type": "table"
           }
          ]
         },
         "layout": {
          "annotationdefaults": {
           "arrowcolor": "#2a3f5f",
           "arrowhead": 0,
           "arrowwidth": 1
          },
          "coloraxis": {
           "colorbar": {
            "outlinewidth": 0,
            "ticks": ""
           }
          },
          "colorscale": {
           "diverging": [
            [
             0,
             "#8e0152"
            ],
            [
             0.1,
             "#c51b7d"
            ],
            [
             0.2,
             "#de77ae"
            ],
            [
             0.3,
             "#f1b6da"
            ],
            [
             0.4,
             "#fde0ef"
            ],
            [
             0.5,
             "#f7f7f7"
            ],
            [
             0.6,
             "#e6f5d0"
            ],
            [
             0.7,
             "#b8e186"
            ],
            [
             0.8,
             "#7fbc41"
            ],
            [
             0.9,
             "#4d9221"
            ],
            [
             1,
             "#276419"
            ]
           ],
           "sequential": [
            [
             0,
             "#0d0887"
            ],
            [
             0.1111111111111111,
             "#46039f"
            ],
            [
             0.2222222222222222,
             "#7201a8"
            ],
            [
             0.3333333333333333,
             "#9c179e"
            ],
            [
             0.4444444444444444,
             "#bd3786"
            ],
            [
             0.5555555555555556,
             "#d8576b"
            ],
            [
             0.6666666666666666,
             "#ed7953"
            ],
            [
             0.7777777777777778,
             "#fb9f3a"
            ],
            [
             0.8888888888888888,
             "#fdca26"
            ],
            [
             1,
             "#f0f921"
            ]
           ],
           "sequentialminus": [
            [
             0,
             "#0d0887"
            ],
            [
             0.1111111111111111,
             "#46039f"
            ],
            [
             0.2222222222222222,
             "#7201a8"
            ],
            [
             0.3333333333333333,
             "#9c179e"
            ],
            [
             0.4444444444444444,
             "#bd3786"
            ],
            [
             0.5555555555555556,
             "#d8576b"
            ],
            [
             0.6666666666666666,
             "#ed7953"
            ],
            [
             0.7777777777777778,
             "#fb9f3a"
            ],
            [
             0.8888888888888888,
             "#fdca26"
            ],
            [
             1,
             "#f0f921"
            ]
           ]
          },
          "colorway": [
           "#636efa",
           "#EF553B",
           "#00cc96",
           "#ab63fa",
           "#FFA15A",
           "#19d3f3",
           "#FF6692",
           "#B6E880",
           "#FF97FF",
           "#FECB52"
          ],
          "font": {
           "color": "#2a3f5f"
          },
          "geo": {
           "bgcolor": "white",
           "lakecolor": "white",
           "landcolor": "#E5ECF6",
           "showlakes": true,
           "showland": true,
           "subunitcolor": "white"
          },
          "hoverlabel": {
           "align": "left"
          },
          "hovermode": "closest",
          "mapbox": {
           "style": "light"
          },
          "paper_bgcolor": "white",
          "plot_bgcolor": "#E5ECF6",
          "polar": {
           "angularaxis": {
            "gridcolor": "white",
            "linecolor": "white",
            "ticks": ""
           },
           "bgcolor": "#E5ECF6",
           "radialaxis": {
            "gridcolor": "white",
            "linecolor": "white",
            "ticks": ""
           }
          },
          "scene": {
           "xaxis": {
            "backgroundcolor": "#E5ECF6",
            "gridcolor": "white",
            "gridwidth": 2,
            "linecolor": "white",
            "showbackground": true,
            "ticks": "",
            "zerolinecolor": "white"
           },
           "yaxis": {
            "backgroundcolor": "#E5ECF6",
            "gridcolor": "white",
            "gridwidth": 2,
            "linecolor": "white",
            "showbackground": true,
            "ticks": "",
            "zerolinecolor": "white"
           },
           "zaxis": {
            "backgroundcolor": "#E5ECF6",
            "gridcolor": "white",
            "gridwidth": 2,
            "linecolor": "white",
            "showbackground": true,
            "ticks": "",
            "zerolinecolor": "white"
           }
          },
          "shapedefaults": {
           "line": {
            "color": "#2a3f5f"
           }
          },
          "ternary": {
           "aaxis": {
            "gridcolor": "white",
            "linecolor": "white",
            "ticks": ""
           },
           "baxis": {
            "gridcolor": "white",
            "linecolor": "white",
            "ticks": ""
           },
           "bgcolor": "#E5ECF6",
           "caxis": {
            "gridcolor": "white",
            "linecolor": "white",
            "ticks": ""
           }
          },
          "title": {
           "x": 0.05
          },
          "xaxis": {
           "automargin": true,
           "gridcolor": "white",
           "linecolor": "white",
           "ticks": "",
           "title": {
            "standoff": 15
           },
           "zerolinecolor": "white",
           "zerolinewidth": 2
          },
          "yaxis": {
           "automargin": true,
           "gridcolor": "white",
           "linecolor": "white",
           "ticks": "",
           "title": {
            "standoff": 15
           },
           "zerolinecolor": "white",
           "zerolinewidth": 2
          }
         }
        },
        "title": {
         "font": {
          "color": "#4D5663"
         }
        },
        "xaxis": {
         "anchor": "y",
         "domain": [
          0,
          0.2125
         ],
         "gridcolor": "#E1E5ED",
         "showgrid": false,
         "tickfont": {
          "color": "#4D5663"
         },
         "title": {
          "font": {
           "color": "#4D5663"
          },
          "text": ""
         },
         "zerolinecolor": "#E1E5ED"
        },
        "xaxis10": {
         "anchor": "y10",
         "domain": [
          0.2625,
          0.475
         ],
         "gridcolor": "#E1E5ED",
         "showgrid": false,
         "tickfont": {
          "color": "#4D5663"
         },
         "title": {
          "font": {
           "color": "#4D5663"
          },
          "text": ""
         },
         "zerolinecolor": "#E1E5ED"
        },
        "xaxis11": {
         "anchor": "y11",
         "domain": [
          0.525,
          0.7375
         ],
         "gridcolor": "#E1E5ED",
         "showgrid": false,
         "tickfont": {
          "color": "#4D5663"
         },
         "title": {
          "font": {
           "color": "#4D5663"
          },
          "text": ""
         },
         "zerolinecolor": "#E1E5ED"
        },
        "xaxis12": {
         "anchor": "y12",
         "domain": [
          0.7875,
          1
         ],
         "gridcolor": "#E1E5ED",
         "showgrid": false,
         "tickfont": {
          "color": "#4D5663"
         },
         "title": {
          "font": {
           "color": "#4D5663"
          },
          "text": ""
         },
         "zerolinecolor": "#E1E5ED"
        },
        "xaxis13": {
         "anchor": "y13",
         "domain": [
          0,
          0.2125
         ],
         "gridcolor": "#E1E5ED",
         "showgrid": false,
         "tickfont": {
          "color": "#4D5663"
         },
         "title": {
          "font": {
           "color": "#4D5663"
          },
          "text": ""
         },
         "zerolinecolor": "#E1E5ED"
        },
        "xaxis14": {
         "anchor": "y14",
         "domain": [
          0.2625,
          0.475
         ],
         "gridcolor": "#E1E5ED",
         "showgrid": false,
         "tickfont": {
          "color": "#4D5663"
         },
         "title": {
          "font": {
           "color": "#4D5663"
          },
          "text": ""
         },
         "zerolinecolor": "#E1E5ED"
        },
        "xaxis15": {
         "anchor": "y15",
         "domain": [
          0.525,
          0.7375
         ],
         "gridcolor": "#E1E5ED",
         "showgrid": false,
         "tickfont": {
          "color": "#4D5663"
         },
         "title": {
          "font": {
           "color": "#4D5663"
          },
          "text": ""
         },
         "zerolinecolor": "#E1E5ED"
        },
        "xaxis16": {
         "anchor": "y16",
         "domain": [
          0.7875,
          1
         ],
         "gridcolor": "#E1E5ED",
         "showgrid": false,
         "tickfont": {
          "color": "#4D5663"
         },
         "title": {
          "font": {
           "color": "#4D5663"
          },
          "text": ""
         },
         "zerolinecolor": "#E1E5ED"
        },
        "xaxis2": {
         "anchor": "y2",
         "domain": [
          0.2625,
          0.475
         ],
         "gridcolor": "#E1E5ED",
         "showgrid": false,
         "tickfont": {
          "color": "#4D5663"
         },
         "title": {
          "font": {
           "color": "#4D5663"
          },
          "text": ""
         },
         "zerolinecolor": "#E1E5ED"
        },
        "xaxis3": {
         "anchor": "y3",
         "domain": [
          0.525,
          0.7375
         ],
         "gridcolor": "#E1E5ED",
         "showgrid": false,
         "tickfont": {
          "color": "#4D5663"
         },
         "title": {
          "font": {
           "color": "#4D5663"
          },
          "text": ""
         },
         "zerolinecolor": "#E1E5ED"
        },
        "xaxis4": {
         "anchor": "y4",
         "domain": [
          0.7875,
          1
         ],
         "gridcolor": "#E1E5ED",
         "showgrid": false,
         "tickfont": {
          "color": "#4D5663"
         },
         "title": {
          "font": {
           "color": "#4D5663"
          },
          "text": ""
         },
         "zerolinecolor": "#E1E5ED"
        },
        "xaxis5": {
         "anchor": "y5",
         "domain": [
          0,
          0.2125
         ],
         "gridcolor": "#E1E5ED",
         "showgrid": false,
         "tickfont": {
          "color": "#4D5663"
         },
         "title": {
          "font": {
           "color": "#4D5663"
          },
          "text": ""
         },
         "zerolinecolor": "#E1E5ED"
        },
        "xaxis6": {
         "anchor": "y6",
         "domain": [
          0.2625,
          0.475
         ],
         "gridcolor": "#E1E5ED",
         "showgrid": false,
         "tickfont": {
          "color": "#4D5663"
         },
         "title": {
          "font": {
           "color": "#4D5663"
          },
          "text": ""
         },
         "zerolinecolor": "#E1E5ED"
        },
        "xaxis7": {
         "anchor": "y7",
         "domain": [
          0.525,
          0.7375
         ],
         "gridcolor": "#E1E5ED",
         "showgrid": false,
         "tickfont": {
          "color": "#4D5663"
         },
         "title": {
          "font": {
           "color": "#4D5663"
          },
          "text": ""
         },
         "zerolinecolor": "#E1E5ED"
        },
        "xaxis8": {
         "anchor": "y8",
         "domain": [
          0.7875,
          1
         ],
         "gridcolor": "#E1E5ED",
         "showgrid": false,
         "tickfont": {
          "color": "#4D5663"
         },
         "title": {
          "font": {
           "color": "#4D5663"
          },
          "text": ""
         },
         "zerolinecolor": "#E1E5ED"
        },
        "xaxis9": {
         "anchor": "y9",
         "domain": [
          0,
          0.2125
         ],
         "gridcolor": "#E1E5ED",
         "showgrid": false,
         "tickfont": {
          "color": "#4D5663"
         },
         "title": {
          "font": {
           "color": "#4D5663"
          },
          "text": ""
         },
         "zerolinecolor": "#E1E5ED"
        },
        "yaxis": {
         "anchor": "x",
         "domain": [
          0.8025,
          1
         ],
         "gridcolor": "#E1E5ED",
         "showgrid": false,
         "tickfont": {
          "color": "#4D5663"
         },
         "title": {
          "font": {
           "color": "#4D5663"
          },
          "text": ""
         },
         "zerolinecolor": "#E1E5ED"
        },
        "yaxis10": {
         "anchor": "x10",
         "domain": [
          0.2675,
          0.465
         ],
         "gridcolor": "#E1E5ED",
         "showgrid": false,
         "tickfont": {
          "color": "#4D5663"
         },
         "title": {
          "font": {
           "color": "#4D5663"
          },
          "text": ""
         },
         "zerolinecolor": "#E1E5ED"
        },
        "yaxis11": {
         "anchor": "x11",
         "domain": [
          0.2675,
          0.465
         ],
         "gridcolor": "#E1E5ED",
         "showgrid": false,
         "tickfont": {
          "color": "#4D5663"
         },
         "title": {
          "font": {
           "color": "#4D5663"
          },
          "text": ""
         },
         "zerolinecolor": "#E1E5ED"
        },
        "yaxis12": {
         "anchor": "x12",
         "domain": [
          0.2675,
          0.465
         ],
         "gridcolor": "#E1E5ED",
         "showgrid": false,
         "tickfont": {
          "color": "#4D5663"
         },
         "title": {
          "font": {
           "color": "#4D5663"
          },
          "text": ""
         },
         "zerolinecolor": "#E1E5ED"
        },
        "yaxis13": {
         "anchor": "x13",
         "domain": [
          0,
          0.1975
         ],
         "gridcolor": "#E1E5ED",
         "showgrid": false,
         "tickfont": {
          "color": "#4D5663"
         },
         "title": {
          "font": {
           "color": "#4D5663"
          },
          "text": ""
         },
         "zerolinecolor": "#E1E5ED"
        },
        "yaxis14": {
         "anchor": "x14",
         "domain": [
          0,
          0.1975
         ],
         "gridcolor": "#E1E5ED",
         "showgrid": false,
         "tickfont": {
          "color": "#4D5663"
         },
         "title": {
          "font": {
           "color": "#4D5663"
          },
          "text": ""
         },
         "zerolinecolor": "#E1E5ED"
        },
        "yaxis15": {
         "anchor": "x15",
         "domain": [
          0,
          0.1975
         ],
         "gridcolor": "#E1E5ED",
         "showgrid": false,
         "tickfont": {
          "color": "#4D5663"
         },
         "title": {
          "font": {
           "color": "#4D5663"
          },
          "text": ""
         },
         "zerolinecolor": "#E1E5ED"
        },
        "yaxis16": {
         "anchor": "x16",
         "domain": [
          0,
          0.1975
         ],
         "gridcolor": "#E1E5ED",
         "showgrid": false,
         "tickfont": {
          "color": "#4D5663"
         },
         "title": {
          "font": {
           "color": "#4D5663"
          },
          "text": ""
         },
         "zerolinecolor": "#E1E5ED"
        },
        "yaxis2": {
         "anchor": "x2",
         "domain": [
          0.8025,
          1
         ],
         "gridcolor": "#E1E5ED",
         "showgrid": false,
         "tickfont": {
          "color": "#4D5663"
         },
         "title": {
          "font": {
           "color": "#4D5663"
          },
          "text": ""
         },
         "zerolinecolor": "#E1E5ED"
        },
        "yaxis3": {
         "anchor": "x3",
         "domain": [
          0.8025,
          1
         ],
         "gridcolor": "#E1E5ED",
         "showgrid": false,
         "tickfont": {
          "color": "#4D5663"
         },
         "title": {
          "font": {
           "color": "#4D5663"
          },
          "text": ""
         },
         "zerolinecolor": "#E1E5ED"
        },
        "yaxis4": {
         "anchor": "x4",
         "domain": [
          0.8025,
          1
         ],
         "gridcolor": "#E1E5ED",
         "showgrid": false,
         "tickfont": {
          "color": "#4D5663"
         },
         "title": {
          "font": {
           "color": "#4D5663"
          },
          "text": ""
         },
         "zerolinecolor": "#E1E5ED"
        },
        "yaxis5": {
         "anchor": "x5",
         "domain": [
          0.535,
          0.7325
         ],
         "gridcolor": "#E1E5ED",
         "showgrid": false,
         "tickfont": {
          "color": "#4D5663"
         },
         "title": {
          "font": {
           "color": "#4D5663"
          },
          "text": ""
         },
         "zerolinecolor": "#E1E5ED"
        },
        "yaxis6": {
         "anchor": "x6",
         "domain": [
          0.535,
          0.7325
         ],
         "gridcolor": "#E1E5ED",
         "showgrid": false,
         "tickfont": {
          "color": "#4D5663"
         },
         "title": {
          "font": {
           "color": "#4D5663"
          },
          "text": ""
         },
         "zerolinecolor": "#E1E5ED"
        },
        "yaxis7": {
         "anchor": "x7",
         "domain": [
          0.535,
          0.7325
         ],
         "gridcolor": "#E1E5ED",
         "showgrid": false,
         "tickfont": {
          "color": "#4D5663"
         },
         "title": {
          "font": {
           "color": "#4D5663"
          },
          "text": ""
         },
         "zerolinecolor": "#E1E5ED"
        },
        "yaxis8": {
         "anchor": "x8",
         "domain": [
          0.535,
          0.7325
         ],
         "gridcolor": "#E1E5ED",
         "showgrid": false,
         "tickfont": {
          "color": "#4D5663"
         },
         "title": {
          "font": {
           "color": "#4D5663"
          },
          "text": ""
         },
         "zerolinecolor": "#E1E5ED"
        },
        "yaxis9": {
         "anchor": "x9",
         "domain": [
          0.2675,
          0.465
         ],
         "gridcolor": "#E1E5ED",
         "showgrid": false,
         "tickfont": {
          "color": "#4D5663"
         },
         "title": {
          "font": {
           "color": "#4D5663"
          },
          "text": ""
         },
         "zerolinecolor": "#E1E5ED"
        }
       }
      },
      "text/html": [
       "<div>\n",
       "        \n",
       "        \n",
       "            <div id=\"4f92c6c1-8b74-4768-8206-1e93453f1661\" class=\"plotly-graph-div\" style=\"height:525px; width:100%;\"></div>\n",
       "            <script type=\"text/javascript\">\n",
       "                require([\"plotly\"], function(Plotly) {\n",
       "                    window.PLOTLYENV=window.PLOTLYENV || {};\n",
       "                    window.PLOTLYENV.BASE_URL='https://plot.ly';\n",
       "                    \n",
       "                if (document.getElementById(\"4f92c6c1-8b74-4768-8206-1e93453f1661\")) {\n",
       "                    Plotly.newPlot(\n",
       "                        '4f92c6c1-8b74-4768-8206-1e93453f1661',\n",
       "                        [{\"histfunc\": \"count\", \"histnorm\": \"\", \"marker\": {\"color\": \"rgba(255, 153, 51, 1.0)\", \"line\": {\"color\": \"#4D5663\", \"width\": 1.3}}, \"name\": \"A\", \"nbinsx\": 10, \"opacity\": 0.8, \"orientation\": \"v\", \"type\": \"histogram\", \"x\": [-1.0099361673355667, -1.0284575537950853, -0.11589523503021203, -0.3871577102854481, -0.8802462358509756, -0.5073178289505085, -0.25872977857744495, -0.8451154146551735, -1.6753380560258833, -0.3197009244061666, -0.13563348234303227, -1.311691245631022, -1.249731033152953, 0.17890604821843886, -1.128427638771329, -1.1636664744849745, -0.9412243713819362, -0.38570173042512107, -0.8003953490624793, 0.8825029834565344, 1.524337052036057, -0.23052058779768336, 1.9285582193640014, -0.872188772166427, -0.3176075253149898, 2.606580520825616, -1.1995356504360102, -0.5183516090778959, -0.04436142535581713, -0.18480369022350523, -1.7547311219167303, 0.4348163458344423, 0.02896010894576578, 1.1883323868662738, 1.6732989603111974, -0.8210953393613368, 0.5004305409127747, -0.22178532385423305, -0.7454328674035887, 2.1180173982206956, 1.190563692517457, 0.3138573805554352, -0.9935779216404051, -0.3647175556508881, 0.5068831822214218, 0.20910917496939357, 0.577713713083106, -0.29978283141123724, -0.2873028727788575, -0.46363559405313143, -0.9206774761598664, -0.755950329387749, 0.7922037497771531, -0.8795695353900919, 0.28776576333898585, -0.23417565168839716, -1.9708555241106436, 0.9824316178908786, -1.98662055858986, -0.7296201496003367, 0.7238839666288359, 1.5974689722403834, 1.801589947153041, -0.7232840189194383, -1.0681986697213794, -0.5992838692605261, 2.239239240441496, -0.2396645330815824, -0.04239926731173785, 0.8738657260289925, -0.8714936725210958, 1.0533376696933532, 0.028493839037042872, 0.9603494061902195, 0.8199228021104203, 1.4708360154901292, -1.104738720637537, -1.6868861956709762, 1.0938651017022927, 2.1390860039617507, -0.3705530670203375, -0.18840168960734383, 0.42753386535746246, 0.6980400869787413, -0.6402916416160395, -0.02222079553462808, -0.4216825148927192, 0.280887190385779, -0.643768601883412, -0.6875539894115286, -1.3443114433014156, -0.25555254723379944, 1.2335524942281835, -0.09161187909282938, 1.0278257484361688, -0.514950707958829, -1.6295755204874562, -0.53058233036871, -0.06432271315517117, -0.4852358829857144], \"xaxis\": \"x\", \"yaxis\": \"y\"}, {\"line\": {\"color\": \"rgba(128, 128, 128, 1.0)\", \"dash\": \"solid\", \"shape\": \"linear\", \"width\": 1.3}, \"marker\": {\"size\": 2, \"symbol\": \"circle\"}, \"mode\": \"markers\", \"name\": \"A\", \"text\": \"\", \"type\": \"scatter\", \"x\": [0.744450190015796, 1.1894557449729342, 0.6014866195311764, -0.8880130958919555, 0.2634422442550224, 0.6626931843686664, -1.1250880401227368, 0.4771603153029794, -0.1490065026960575, -0.9623205020230357, 1.4401318165613903, 1.4082689738738148, 0.10270692830268753, 0.01425779846376388, -1.480304960527278, -0.824423835202117, -0.5511105572426905, 0.15703184361306663, 0.9234900532311175, 0.1613158759882807, -0.644491423073877, -1.2120176461084518, 1.016181721468633, -0.6319609682834901, -0.24129550029875582, 0.553567424049745, -0.62444452813727, 0.22496068588193177, 0.8743351098471469, 1.7059386069757694, -1.9206327186061418, 0.7686062004369781, -1.259648403612559, 0.1096277410328048, 0.9387094528772576, -0.27461979313709567, 1.6207957707630838, 0.06169141959846879, -0.4865658395535811, -0.5858756480838269, -0.8884612999138807, 0.13300720372341124, 1.2981909174656012, 0.34230516992051746, 0.4919371479311787, 0.36239582310865504, -0.7208562108905195, 0.6914975574734396, 0.36195579934636735, -0.22232409309193057, 0.065663078950636, 0.1985313405036117, 1.6933038949156938, -0.46264733238674816, 1.7763447430055253, -0.640759791350102, -0.6793491505404466, 0.4267992066295522, -1.1422053149767915, -0.7766786239708781, 0.8754471153083129, -0.8903352167441764, -0.8840619009663945, -0.3280940175291615, 0.3685108324294671, -0.5897320779624863, 0.5219386165501887, 0.10200882724863404, -0.30850418604752317, -0.08803823463831988, -1.557089116787949, 0.5682957147945388, 0.5278400244507687, 1.4323269258374178, 0.5576802769913602, 2.204605797704065, -0.535349852025295, 1.1789203019870378, 0.30611952626236455, 0.45594684826678866, 1.8433513627069207, 0.4245202276944359, 1.031079593495038, 1.5566392860476528, -0.5803530558234599, -1.252281916948563, -0.7086537222484671, 0.5936620950802783, 0.4854826118308957, -0.13808162235319374, 0.07744183888892246, 0.5157739214893406, 0.1884566433660276, 0.5637646438290826, -0.06990828503654249, 0.8880289293608626, 0.5309382058701448, -2.150688191460801, -1.0081065888477767, -0.6843264190330478], \"xaxis\": \"x2\", \"y\": [-1.0099361673355667, -1.0284575537950853, -0.11589523503021203, -0.3871577102854481, -0.8802462358509756, -0.5073178289505085, -0.25872977857744495, -0.8451154146551735, -1.6753380560258833, -0.3197009244061666, -0.13563348234303227, -1.311691245631022, -1.249731033152953, 0.17890604821843886, -1.128427638771329, -1.1636664744849745, -0.9412243713819362, -0.38570173042512107, -0.8003953490624793, 0.8825029834565344, 1.524337052036057, -0.23052058779768336, 1.9285582193640014, -0.872188772166427, -0.3176075253149898, 2.606580520825616, -1.1995356504360102, -0.5183516090778959, -0.04436142535581713, -0.18480369022350523, -1.7547311219167303, 0.4348163458344423, 0.02896010894576578, 1.1883323868662738, 1.6732989603111974, -0.8210953393613368, 0.5004305409127747, -0.22178532385423305, -0.7454328674035887, 2.1180173982206956, 1.190563692517457, 0.3138573805554352, -0.9935779216404051, -0.3647175556508881, 0.5068831822214218, 0.20910917496939357, 0.577713713083106, -0.29978283141123724, -0.2873028727788575, -0.46363559405313143, -0.9206774761598664, -0.755950329387749, 0.7922037497771531, -0.8795695353900919, 0.28776576333898585, -0.23417565168839716, -1.9708555241106436, 0.9824316178908786, -1.98662055858986, -0.7296201496003367, 0.7238839666288359, 1.5974689722403834, 1.801589947153041, -0.7232840189194383, -1.0681986697213794, -0.5992838692605261, 2.239239240441496, -0.2396645330815824, -0.04239926731173785, 0.8738657260289925, -0.8714936725210958, 1.0533376696933532, 0.028493839037042872, 0.9603494061902195, 0.8199228021104203, 1.4708360154901292, -1.104738720637537, -1.6868861956709762, 1.0938651017022927, 2.1390860039617507, -0.3705530670203375, -0.18840168960734383, 0.42753386535746246, 0.6980400869787413, -0.6402916416160395, -0.02222079553462808, -0.4216825148927192, 0.280887190385779, -0.643768601883412, -0.6875539894115286, -1.3443114433014156, -0.25555254723379944, 1.2335524942281835, -0.09161187909282938, 1.0278257484361688, -0.514950707958829, -1.6295755204874562, -0.53058233036871, -0.06432271315517117, -0.4852358829857144], \"yaxis\": \"y2\"}, {\"line\": {\"color\": \"rgba(128, 128, 128, 1.0)\", \"dash\": \"solid\", \"shape\": \"linear\", \"width\": 1.3}, \"marker\": {\"size\": 2, \"symbol\": \"circle\"}, \"mode\": \"markers\", \"name\": \"A\", \"text\": \"\", \"type\": \"scatter\", \"x\": [-0.10844688366607731, 0.16733633352974903, -1.003064679877997, 0.11892881146560684, 1.3333393915304186, -0.6448370494894287, -0.036934364214063056, -0.3354599867804685, 0.8594130791664836, 2.292550494907262, 0.5851055074273075, -0.22373305898021273, -1.318829471484427, -0.47687927302096245, 0.32297553601603296, -0.9758488905489777, 0.6691342481305712, -0.5916234672327101, 1.5989795847107482, -0.008847456786420628, 0.4361699102532506, 0.5632537291646132, -0.37933737575918364, -1.7887425453458037, -0.16753674441022864, -0.1409974236530499, 1.4527206204041516, 0.2997776368855433, -1.252308620876837, 1.5982594919483113, 0.19845250704666614, 0.056605879498077494, 1.9644044349481293, 0.7658980591791495, -1.2973172481097486, -0.21107855605363565, -0.7057809538742765, -0.5836330480381826, -0.48340573189183406, 0.014404479745272855, 1.243791708976414, 0.03911915089532694, 0.8073366696093068, -0.21777867566887507, 1.3206067041685183, 0.5533690325022966, 0.8478371294383951, -0.8219481286093834, 0.8189156313408671, -1.8039272994473976, 0.8134404378623654, -0.839922688506824, 1.1213654983659211, -0.3175238420362532, -1.040232527431456, 1.9270211148796856, 0.49816493558492425, 0.7210957281645702, -1.3711562942618596, 0.18148120905557177, 1.4177973798560877, 0.8473564728331587, -2.467072144710912, -0.7725036485221717, -0.04099859162106744, 0.8023311379678135, -0.05201887677702289, -0.2206430931931036, 0.013789184936669339, 0.2812407546994943, 0.6677118079355471, -1.1298860728877786, 1.38237155109421, -0.3908186085017909, -0.6235459428811388, 0.1525324826063132, 0.4853510459498709, -0.3342588245362525, -1.1074568386912864, 0.3716183728865845, 0.1283188309393588, 1.3247212909650026, -0.29847719147752716, -0.6070218711864458, -1.9899820556255035, -0.17916009699644542, -0.7586603660994995, -0.2276209432381251, -0.8404747300241181, 0.5987703429564175, -0.13878088527091056, -0.42396204344891697, 0.4610587122947592, -0.37852470756784384, 0.14418526352165398, 0.02070290882063936, 1.1492810604208865, 0.24475333684183478, -0.09764569239807382, -0.758534462637969], \"xaxis\": \"x3\", \"y\": [-1.0099361673355667, -1.0284575537950853, -0.11589523503021203, -0.3871577102854481, -0.8802462358509756, -0.5073178289505085, -0.25872977857744495, -0.8451154146551735, -1.6753380560258833, -0.3197009244061666, -0.13563348234303227, -1.311691245631022, -1.249731033152953, 0.17890604821843886, -1.128427638771329, -1.1636664744849745, -0.9412243713819362, -0.38570173042512107, -0.8003953490624793, 0.8825029834565344, 1.524337052036057, -0.23052058779768336, 1.9285582193640014, -0.872188772166427, -0.3176075253149898, 2.606580520825616, -1.1995356504360102, -0.5183516090778959, -0.04436142535581713, -0.18480369022350523, -1.7547311219167303, 0.4348163458344423, 0.02896010894576578, 1.1883323868662738, 1.6732989603111974, -0.8210953393613368, 0.5004305409127747, -0.22178532385423305, -0.7454328674035887, 2.1180173982206956, 1.190563692517457, 0.3138573805554352, -0.9935779216404051, -0.3647175556508881, 0.5068831822214218, 0.20910917496939357, 0.577713713083106, -0.29978283141123724, -0.2873028727788575, -0.46363559405313143, -0.9206774761598664, -0.755950329387749, 0.7922037497771531, -0.8795695353900919, 0.28776576333898585, -0.23417565168839716, -1.9708555241106436, 0.9824316178908786, -1.98662055858986, -0.7296201496003367, 0.7238839666288359, 1.5974689722403834, 1.801589947153041, -0.7232840189194383, -1.0681986697213794, -0.5992838692605261, 2.239239240441496, -0.2396645330815824, -0.04239926731173785, 0.8738657260289925, -0.8714936725210958, 1.0533376696933532, 0.028493839037042872, 0.9603494061902195, 0.8199228021104203, 1.4708360154901292, -1.104738720637537, -1.6868861956709762, 1.0938651017022927, 2.1390860039617507, -0.3705530670203375, -0.18840168960734383, 0.42753386535746246, 0.6980400869787413, -0.6402916416160395, -0.02222079553462808, -0.4216825148927192, 0.280887190385779, -0.643768601883412, -0.6875539894115286, -1.3443114433014156, -0.25555254723379944, 1.2335524942281835, -0.09161187909282938, 1.0278257484361688, -0.514950707958829, -1.6295755204874562, -0.53058233036871, -0.06432271315517117, -0.4852358829857144], \"yaxis\": \"y3\"}, {\"line\": {\"color\": \"rgba(128, 128, 128, 1.0)\", \"dash\": \"solid\", \"shape\": \"linear\", \"width\": 1.3}, \"marker\": {\"size\": 2, \"symbol\": \"circle\"}, \"mode\": \"markers\", \"name\": \"A\", \"text\": \"\", \"type\": \"scatter\", \"x\": [-1.1393184613711067, 0.6793613666635172, 0.28974041098371095, 0.9470289347185049, 1.855321234974801, -1.7722316176818371, 1.3554955322757567, 0.6432624264780246, 0.34848058672818405, -0.37728668399111714, -1.759013929417471, -1.0671607454395564, -0.7795066221851681, -0.46696370159275197, 0.8378772934461107, -1.265943442354089, 0.707706194731624, -1.1598784355469942, 0.3903579271561808, -0.18055035634994288, -1.7614489328259577, -1.548005517264043, -0.4476933691867463, 0.4725205261924256, -0.9047678988456344, 0.40299125921404544, 0.3833443037713799, 0.6086588925414255, 0.10551045807600429, 0.5398565778298426, -0.3253123067260765, 2.410609715713139, -0.6875386256442397, 1.803037824681518, -2.04461480952745, -1.6165455705422103, -0.8649796621911521, -0.20754981724057178, 0.7162581858362861, 0.3956552328909221, 1.5562153420059015, -1.4048973439846717, 0.7235465006901312, -1.1828001124403158, 1.7670220708468052, -1.6483267663795467, 1.2959639144400708, 0.01137317773399804, 0.24892171983224393, -1.3804822111812494, -0.1552211611756199, -0.3336621916615375, 0.21704118913381892, 0.22648720227245717, -2.3223235953886916, -1.6659328759101266, -0.43578175542352915, -0.020671620075946844, 1.6098798041556606, 0.9917772179785025, 0.7561089928128429, -0.03075331935853545, 0.9213688877157874, -1.7534585372719176, -1.0670716083211633, -1.2617429985339306, 0.78279386642726, -1.0387525520793024, -0.8392526693580369, -0.218506857832733, 0.20734729417789693, -0.3062181818320245, -0.8620903828109703, -1.3209325312822953, 0.9747528909197947, -0.8663554124148628, 0.4754132016880406, -0.3523819524286089, -1.3339226336427972, 0.03678425634872807, 0.16668823781780848, 0.72486473881676, 0.685991570942405, 0.7495820181096875, 0.7232736844271054, -1.6074542095465134, -0.17574514087516413, -1.6612646063680152, -1.303417435980111, 2.0350458483027345, -0.5807409988730624, 0.6720747309461574, -0.28525772520585135, 2.248184362196986, 0.7116960828106597, 1.6614735371334814, -1.400668549764246, -0.3335111223037445, -2.0430793137092835, -1.624903816980265], \"xaxis\": \"x4\", \"y\": [-1.0099361673355667, -1.0284575537950853, -0.11589523503021203, -0.3871577102854481, -0.8802462358509756, -0.5073178289505085, -0.25872977857744495, -0.8451154146551735, -1.6753380560258833, -0.3197009244061666, -0.13563348234303227, -1.311691245631022, -1.249731033152953, 0.17890604821843886, -1.128427638771329, -1.1636664744849745, -0.9412243713819362, -0.38570173042512107, -0.8003953490624793, 0.8825029834565344, 1.524337052036057, -0.23052058779768336, 1.9285582193640014, -0.872188772166427, -0.3176075253149898, 2.606580520825616, -1.1995356504360102, -0.5183516090778959, -0.04436142535581713, -0.18480369022350523, -1.7547311219167303, 0.4348163458344423, 0.02896010894576578, 1.1883323868662738, 1.6732989603111974, -0.8210953393613368, 0.5004305409127747, -0.22178532385423305, -0.7454328674035887, 2.1180173982206956, 1.190563692517457, 0.3138573805554352, -0.9935779216404051, -0.3647175556508881, 0.5068831822214218, 0.20910917496939357, 0.577713713083106, -0.29978283141123724, -0.2873028727788575, -0.46363559405313143, -0.9206774761598664, -0.755950329387749, 0.7922037497771531, -0.8795695353900919, 0.28776576333898585, -0.23417565168839716, -1.9708555241106436, 0.9824316178908786, -1.98662055858986, -0.7296201496003367, 0.7238839666288359, 1.5974689722403834, 1.801589947153041, -0.7232840189194383, -1.0681986697213794, -0.5992838692605261, 2.239239240441496, -0.2396645330815824, -0.04239926731173785, 0.8738657260289925, -0.8714936725210958, 1.0533376696933532, 0.028493839037042872, 0.9603494061902195, 0.8199228021104203, 1.4708360154901292, -1.104738720637537, -1.6868861956709762, 1.0938651017022927, 2.1390860039617507, -0.3705530670203375, -0.18840168960734383, 0.42753386535746246, 0.6980400869787413, -0.6402916416160395, -0.02222079553462808, -0.4216825148927192, 0.280887190385779, -0.643768601883412, -0.6875539894115286, -1.3443114433014156, -0.25555254723379944, 1.2335524942281835, -0.09161187909282938, 1.0278257484361688, -0.514950707958829, -1.6295755204874562, -0.53058233036871, -0.06432271315517117, -0.4852358829857144], \"yaxis\": \"y4\"}, {\"line\": {\"color\": \"rgba(128, 128, 128, 1.0)\", \"dash\": \"solid\", \"shape\": \"linear\", \"width\": 1.3}, \"marker\": {\"size\": 2, \"symbol\": \"circle\"}, \"mode\": \"markers\", \"name\": \"B\", \"text\": \"\", \"type\": \"scatter\", \"x\": [-1.0099361673355667, -1.0284575537950853, -0.11589523503021203, -0.3871577102854481, -0.8802462358509756, -0.5073178289505085, -0.25872977857744495, -0.8451154146551735, -1.6753380560258833, -0.3197009244061666, -0.13563348234303227, -1.311691245631022, -1.249731033152953, 0.17890604821843886, -1.128427638771329, -1.1636664744849745, -0.9412243713819362, -0.38570173042512107, -0.8003953490624793, 0.8825029834565344, 1.524337052036057, -0.23052058779768336, 1.9285582193640014, -0.872188772166427, -0.3176075253149898, 2.606580520825616, -1.1995356504360102, -0.5183516090778959, -0.04436142535581713, -0.18480369022350523, -1.7547311219167303, 0.4348163458344423, 0.02896010894576578, 1.1883323868662738, 1.6732989603111974, -0.8210953393613368, 0.5004305409127747, -0.22178532385423305, -0.7454328674035887, 2.1180173982206956, 1.190563692517457, 0.3138573805554352, -0.9935779216404051, -0.3647175556508881, 0.5068831822214218, 0.20910917496939357, 0.577713713083106, -0.29978283141123724, -0.2873028727788575, -0.46363559405313143, -0.9206774761598664, -0.755950329387749, 0.7922037497771531, -0.8795695353900919, 0.28776576333898585, -0.23417565168839716, -1.9708555241106436, 0.9824316178908786, -1.98662055858986, -0.7296201496003367, 0.7238839666288359, 1.5974689722403834, 1.801589947153041, -0.7232840189194383, -1.0681986697213794, -0.5992838692605261, 2.239239240441496, -0.2396645330815824, -0.04239926731173785, 0.8738657260289925, -0.8714936725210958, 1.0533376696933532, 0.028493839037042872, 0.9603494061902195, 0.8199228021104203, 1.4708360154901292, -1.104738720637537, -1.6868861956709762, 1.0938651017022927, 2.1390860039617507, -0.3705530670203375, -0.18840168960734383, 0.42753386535746246, 0.6980400869787413, -0.6402916416160395, -0.02222079553462808, -0.4216825148927192, 0.280887190385779, -0.643768601883412, -0.6875539894115286, -1.3443114433014156, -0.25555254723379944, 1.2335524942281835, -0.09161187909282938, 1.0278257484361688, -0.514950707958829, -1.6295755204874562, -0.53058233036871, -0.06432271315517117, -0.4852358829857144], \"xaxis\": \"x5\", \"y\": [0.744450190015796, 1.1894557449729342, 0.6014866195311764, -0.8880130958919555, 0.2634422442550224, 0.6626931843686664, -1.1250880401227368, 0.4771603153029794, -0.1490065026960575, -0.9623205020230357, 1.4401318165613903, 1.4082689738738148, 0.10270692830268753, 0.01425779846376388, -1.480304960527278, -0.824423835202117, -0.5511105572426905, 0.15703184361306663, 0.9234900532311175, 0.1613158759882807, -0.644491423073877, -1.2120176461084518, 1.016181721468633, -0.6319609682834901, -0.24129550029875582, 0.553567424049745, -0.62444452813727, 0.22496068588193177, 0.8743351098471469, 1.7059386069757694, -1.9206327186061418, 0.7686062004369781, -1.259648403612559, 0.1096277410328048, 0.9387094528772576, -0.27461979313709567, 1.6207957707630838, 0.06169141959846879, -0.4865658395535811, -0.5858756480838269, -0.8884612999138807, 0.13300720372341124, 1.2981909174656012, 0.34230516992051746, 0.4919371479311787, 0.36239582310865504, -0.7208562108905195, 0.6914975574734396, 0.36195579934636735, -0.22232409309193057, 0.065663078950636, 0.1985313405036117, 1.6933038949156938, -0.46264733238674816, 1.7763447430055253, -0.640759791350102, -0.6793491505404466, 0.4267992066295522, -1.1422053149767915, -0.7766786239708781, 0.8754471153083129, -0.8903352167441764, -0.8840619009663945, -0.3280940175291615, 0.3685108324294671, -0.5897320779624863, 0.5219386165501887, 0.10200882724863404, -0.30850418604752317, -0.08803823463831988, -1.557089116787949, 0.5682957147945388, 0.5278400244507687, 1.4323269258374178, 0.5576802769913602, 2.204605797704065, -0.535349852025295, 1.1789203019870378, 0.30611952626236455, 0.45594684826678866, 1.8433513627069207, 0.4245202276944359, 1.031079593495038, 1.5566392860476528, -0.5803530558234599, -1.252281916948563, -0.7086537222484671, 0.5936620950802783, 0.4854826118308957, -0.13808162235319374, 0.07744183888892246, 0.5157739214893406, 0.1884566433660276, 0.5637646438290826, -0.06990828503654249, 0.8880289293608626, 0.5309382058701448, -2.150688191460801, -1.0081065888477767, -0.6843264190330478], \"yaxis\": \"y5\"}, {\"histfunc\": \"count\", \"histnorm\": \"\", \"marker\": {\"color\": \"rgba(55, 128, 191, 1.0)\", \"line\": {\"color\": \"#4D5663\", \"width\": 1.3}}, \"name\": \"B\", \"nbinsx\": 10, \"opacity\": 0.8, \"orientation\": \"v\", \"type\": \"histogram\", \"x\": [0.744450190015796, 1.1894557449729342, 0.6014866195311764, -0.8880130958919555, 0.2634422442550224, 0.6626931843686664, -1.1250880401227368, 0.4771603153029794, -0.1490065026960575, -0.9623205020230357, 1.4401318165613903, 1.4082689738738148, 0.10270692830268753, 0.01425779846376388, -1.480304960527278, -0.824423835202117, -0.5511105572426905, 0.15703184361306663, 0.9234900532311175, 0.1613158759882807, -0.644491423073877, -1.2120176461084518, 1.016181721468633, -0.6319609682834901, -0.24129550029875582, 0.553567424049745, -0.62444452813727, 0.22496068588193177, 0.8743351098471469, 1.7059386069757694, -1.9206327186061418, 0.7686062004369781, -1.259648403612559, 0.1096277410328048, 0.9387094528772576, -0.27461979313709567, 1.6207957707630838, 0.06169141959846879, -0.4865658395535811, -0.5858756480838269, -0.8884612999138807, 0.13300720372341124, 1.2981909174656012, 0.34230516992051746, 0.4919371479311787, 0.36239582310865504, -0.7208562108905195, 0.6914975574734396, 0.36195579934636735, -0.22232409309193057, 0.065663078950636, 0.1985313405036117, 1.6933038949156938, -0.46264733238674816, 1.7763447430055253, -0.640759791350102, -0.6793491505404466, 0.4267992066295522, -1.1422053149767915, -0.7766786239708781, 0.8754471153083129, -0.8903352167441764, -0.8840619009663945, -0.3280940175291615, 0.3685108324294671, -0.5897320779624863, 0.5219386165501887, 0.10200882724863404, -0.30850418604752317, -0.08803823463831988, -1.557089116787949, 0.5682957147945388, 0.5278400244507687, 1.4323269258374178, 0.5576802769913602, 2.204605797704065, -0.535349852025295, 1.1789203019870378, 0.30611952626236455, 0.45594684826678866, 1.8433513627069207, 0.4245202276944359, 1.031079593495038, 1.5566392860476528, -0.5803530558234599, -1.252281916948563, -0.7086537222484671, 0.5936620950802783, 0.4854826118308957, -0.13808162235319374, 0.07744183888892246, 0.5157739214893406, 0.1884566433660276, 0.5637646438290826, -0.06990828503654249, 0.8880289293608626, 0.5309382058701448, -2.150688191460801, -1.0081065888477767, -0.6843264190330478], \"xaxis\": \"x6\", \"yaxis\": \"y6\"}, {\"line\": {\"color\": \"rgba(128, 128, 128, 1.0)\", \"dash\": \"solid\", \"shape\": \"linear\", \"width\": 1.3}, \"marker\": {\"size\": 2, \"symbol\": \"circle\"}, \"mode\": \"markers\", \"name\": \"B\", \"text\": \"\", \"type\": \"scatter\", \"x\": [-0.10844688366607731, 0.16733633352974903, -1.003064679877997, 0.11892881146560684, 1.3333393915304186, -0.6448370494894287, -0.036934364214063056, -0.3354599867804685, 0.8594130791664836, 2.292550494907262, 0.5851055074273075, -0.22373305898021273, -1.318829471484427, -0.47687927302096245, 0.32297553601603296, -0.9758488905489777, 0.6691342481305712, -0.5916234672327101, 1.5989795847107482, -0.008847456786420628, 0.4361699102532506, 0.5632537291646132, -0.37933737575918364, -1.7887425453458037, -0.16753674441022864, -0.1409974236530499, 1.4527206204041516, 0.2997776368855433, -1.252308620876837, 1.5982594919483113, 0.19845250704666614, 0.056605879498077494, 1.9644044349481293, 0.7658980591791495, -1.2973172481097486, -0.21107855605363565, -0.7057809538742765, -0.5836330480381826, -0.48340573189183406, 0.014404479745272855, 1.243791708976414, 0.03911915089532694, 0.8073366696093068, -0.21777867566887507, 1.3206067041685183, 0.5533690325022966, 0.8478371294383951, -0.8219481286093834, 0.8189156313408671, -1.8039272994473976, 0.8134404378623654, -0.839922688506824, 1.1213654983659211, -0.3175238420362532, -1.040232527431456, 1.9270211148796856, 0.49816493558492425, 0.7210957281645702, -1.3711562942618596, 0.18148120905557177, 1.4177973798560877, 0.8473564728331587, -2.467072144710912, -0.7725036485221717, -0.04099859162106744, 0.8023311379678135, -0.05201887677702289, -0.2206430931931036, 0.013789184936669339, 0.2812407546994943, 0.6677118079355471, -1.1298860728877786, 1.38237155109421, -0.3908186085017909, -0.6235459428811388, 0.1525324826063132, 0.4853510459498709, -0.3342588245362525, -1.1074568386912864, 0.3716183728865845, 0.1283188309393588, 1.3247212909650026, -0.29847719147752716, -0.6070218711864458, -1.9899820556255035, -0.17916009699644542, -0.7586603660994995, -0.2276209432381251, -0.8404747300241181, 0.5987703429564175, -0.13878088527091056, -0.42396204344891697, 0.4610587122947592, -0.37852470756784384, 0.14418526352165398, 0.02070290882063936, 1.1492810604208865, 0.24475333684183478, -0.09764569239807382, -0.758534462637969], \"xaxis\": \"x7\", \"y\": [0.744450190015796, 1.1894557449729342, 0.6014866195311764, -0.8880130958919555, 0.2634422442550224, 0.6626931843686664, -1.1250880401227368, 0.4771603153029794, -0.1490065026960575, -0.9623205020230357, 1.4401318165613903, 1.4082689738738148, 0.10270692830268753, 0.01425779846376388, -1.480304960527278, -0.824423835202117, -0.5511105572426905, 0.15703184361306663, 0.9234900532311175, 0.1613158759882807, -0.644491423073877, -1.2120176461084518, 1.016181721468633, -0.6319609682834901, -0.24129550029875582, 0.553567424049745, -0.62444452813727, 0.22496068588193177, 0.8743351098471469, 1.7059386069757694, -1.9206327186061418, 0.7686062004369781, -1.259648403612559, 0.1096277410328048, 0.9387094528772576, -0.27461979313709567, 1.6207957707630838, 0.06169141959846879, -0.4865658395535811, -0.5858756480838269, -0.8884612999138807, 0.13300720372341124, 1.2981909174656012, 0.34230516992051746, 0.4919371479311787, 0.36239582310865504, -0.7208562108905195, 0.6914975574734396, 0.36195579934636735, -0.22232409309193057, 0.065663078950636, 0.1985313405036117, 1.6933038949156938, -0.46264733238674816, 1.7763447430055253, -0.640759791350102, -0.6793491505404466, 0.4267992066295522, -1.1422053149767915, -0.7766786239708781, 0.8754471153083129, -0.8903352167441764, -0.8840619009663945, -0.3280940175291615, 0.3685108324294671, -0.5897320779624863, 0.5219386165501887, 0.10200882724863404, -0.30850418604752317, -0.08803823463831988, -1.557089116787949, 0.5682957147945388, 0.5278400244507687, 1.4323269258374178, 0.5576802769913602, 2.204605797704065, -0.535349852025295, 1.1789203019870378, 0.30611952626236455, 0.45594684826678866, 1.8433513627069207, 0.4245202276944359, 1.031079593495038, 1.5566392860476528, -0.5803530558234599, -1.252281916948563, -0.7086537222484671, 0.5936620950802783, 0.4854826118308957, -0.13808162235319374, 0.07744183888892246, 0.5157739214893406, 0.1884566433660276, 0.5637646438290826, -0.06990828503654249, 0.8880289293608626, 0.5309382058701448, -2.150688191460801, -1.0081065888477767, -0.6843264190330478], \"yaxis\": \"y7\"}, {\"line\": {\"color\": \"rgba(128, 128, 128, 1.0)\", \"dash\": \"solid\", \"shape\": \"linear\", \"width\": 1.3}, \"marker\": {\"size\": 2, \"symbol\": \"circle\"}, \"mode\": \"markers\", \"name\": \"B\", \"text\": \"\", \"type\": \"scatter\", \"x\": [-1.1393184613711067, 0.6793613666635172, 0.28974041098371095, 0.9470289347185049, 1.855321234974801, -1.7722316176818371, 1.3554955322757567, 0.6432624264780246, 0.34848058672818405, -0.37728668399111714, -1.759013929417471, -1.0671607454395564, -0.7795066221851681, -0.46696370159275197, 0.8378772934461107, -1.265943442354089, 0.707706194731624, -1.1598784355469942, 0.3903579271561808, -0.18055035634994288, -1.7614489328259577, -1.548005517264043, -0.4476933691867463, 0.4725205261924256, -0.9047678988456344, 0.40299125921404544, 0.3833443037713799, 0.6086588925414255, 0.10551045807600429, 0.5398565778298426, -0.3253123067260765, 2.410609715713139, -0.6875386256442397, 1.803037824681518, -2.04461480952745, -1.6165455705422103, -0.8649796621911521, -0.20754981724057178, 0.7162581858362861, 0.3956552328909221, 1.5562153420059015, -1.4048973439846717, 0.7235465006901312, -1.1828001124403158, 1.7670220708468052, -1.6483267663795467, 1.2959639144400708, 0.01137317773399804, 0.24892171983224393, -1.3804822111812494, -0.1552211611756199, -0.3336621916615375, 0.21704118913381892, 0.22648720227245717, -2.3223235953886916, -1.6659328759101266, -0.43578175542352915, -0.020671620075946844, 1.6098798041556606, 0.9917772179785025, 0.7561089928128429, -0.03075331935853545, 0.9213688877157874, -1.7534585372719176, -1.0670716083211633, -1.2617429985339306, 0.78279386642726, -1.0387525520793024, -0.8392526693580369, -0.218506857832733, 0.20734729417789693, -0.3062181818320245, -0.8620903828109703, -1.3209325312822953, 0.9747528909197947, -0.8663554124148628, 0.4754132016880406, -0.3523819524286089, -1.3339226336427972, 0.03678425634872807, 0.16668823781780848, 0.72486473881676, 0.685991570942405, 0.7495820181096875, 0.7232736844271054, -1.6074542095465134, -0.17574514087516413, -1.6612646063680152, -1.303417435980111, 2.0350458483027345, -0.5807409988730624, 0.6720747309461574, -0.28525772520585135, 2.248184362196986, 0.7116960828106597, 1.6614735371334814, -1.400668549764246, -0.3335111223037445, -2.0430793137092835, -1.624903816980265], \"xaxis\": \"x8\", \"y\": [0.744450190015796, 1.1894557449729342, 0.6014866195311764, -0.8880130958919555, 0.2634422442550224, 0.6626931843686664, -1.1250880401227368, 0.4771603153029794, -0.1490065026960575, -0.9623205020230357, 1.4401318165613903, 1.4082689738738148, 0.10270692830268753, 0.01425779846376388, -1.480304960527278, -0.824423835202117, -0.5511105572426905, 0.15703184361306663, 0.9234900532311175, 0.1613158759882807, -0.644491423073877, -1.2120176461084518, 1.016181721468633, -0.6319609682834901, -0.24129550029875582, 0.553567424049745, -0.62444452813727, 0.22496068588193177, 0.8743351098471469, 1.7059386069757694, -1.9206327186061418, 0.7686062004369781, -1.259648403612559, 0.1096277410328048, 0.9387094528772576, -0.27461979313709567, 1.6207957707630838, 0.06169141959846879, -0.4865658395535811, -0.5858756480838269, -0.8884612999138807, 0.13300720372341124, 1.2981909174656012, 0.34230516992051746, 0.4919371479311787, 0.36239582310865504, -0.7208562108905195, 0.6914975574734396, 0.36195579934636735, -0.22232409309193057, 0.065663078950636, 0.1985313405036117, 1.6933038949156938, -0.46264733238674816, 1.7763447430055253, -0.640759791350102, -0.6793491505404466, 0.4267992066295522, -1.1422053149767915, -0.7766786239708781, 0.8754471153083129, -0.8903352167441764, -0.8840619009663945, -0.3280940175291615, 0.3685108324294671, -0.5897320779624863, 0.5219386165501887, 0.10200882724863404, -0.30850418604752317, -0.08803823463831988, -1.557089116787949, 0.5682957147945388, 0.5278400244507687, 1.4323269258374178, 0.5576802769913602, 2.204605797704065, -0.535349852025295, 1.1789203019870378, 0.30611952626236455, 0.45594684826678866, 1.8433513627069207, 0.4245202276944359, 1.031079593495038, 1.5566392860476528, -0.5803530558234599, -1.252281916948563, -0.7086537222484671, 0.5936620950802783, 0.4854826118308957, -0.13808162235319374, 0.07744183888892246, 0.5157739214893406, 0.1884566433660276, 0.5637646438290826, -0.06990828503654249, 0.8880289293608626, 0.5309382058701448, -2.150688191460801, -1.0081065888477767, -0.6843264190330478], \"yaxis\": \"y8\"}, {\"line\": {\"color\": \"rgba(128, 128, 128, 1.0)\", \"dash\": \"solid\", \"shape\": \"linear\", \"width\": 1.3}, \"marker\": {\"size\": 2, \"symbol\": \"circle\"}, \"mode\": \"markers\", \"name\": \"C\", \"text\": \"\", \"type\": \"scatter\", \"x\": [-1.0099361673355667, -1.0284575537950853, -0.11589523503021203, -0.3871577102854481, -0.8802462358509756, -0.5073178289505085, -0.25872977857744495, -0.8451154146551735, -1.6753380560258833, -0.3197009244061666, -0.13563348234303227, -1.311691245631022, -1.249731033152953, 0.17890604821843886, -1.128427638771329, -1.1636664744849745, -0.9412243713819362, -0.38570173042512107, -0.8003953490624793, 0.8825029834565344, 1.524337052036057, -0.23052058779768336, 1.9285582193640014, -0.872188772166427, -0.3176075253149898, 2.606580520825616, -1.1995356504360102, -0.5183516090778959, -0.04436142535581713, -0.18480369022350523, -1.7547311219167303, 0.4348163458344423, 0.02896010894576578, 1.1883323868662738, 1.6732989603111974, -0.8210953393613368, 0.5004305409127747, -0.22178532385423305, -0.7454328674035887, 2.1180173982206956, 1.190563692517457, 0.3138573805554352, -0.9935779216404051, -0.3647175556508881, 0.5068831822214218, 0.20910917496939357, 0.577713713083106, -0.29978283141123724, -0.2873028727788575, -0.46363559405313143, -0.9206774761598664, -0.755950329387749, 0.7922037497771531, -0.8795695353900919, 0.28776576333898585, -0.23417565168839716, -1.9708555241106436, 0.9824316178908786, -1.98662055858986, -0.7296201496003367, 0.7238839666288359, 1.5974689722403834, 1.801589947153041, -0.7232840189194383, -1.0681986697213794, -0.5992838692605261, 2.239239240441496, -0.2396645330815824, -0.04239926731173785, 0.8738657260289925, -0.8714936725210958, 1.0533376696933532, 0.028493839037042872, 0.9603494061902195, 0.8199228021104203, 1.4708360154901292, -1.104738720637537, -1.6868861956709762, 1.0938651017022927, 2.1390860039617507, -0.3705530670203375, -0.18840168960734383, 0.42753386535746246, 0.6980400869787413, -0.6402916416160395, -0.02222079553462808, -0.4216825148927192, 0.280887190385779, -0.643768601883412, -0.6875539894115286, -1.3443114433014156, -0.25555254723379944, 1.2335524942281835, -0.09161187909282938, 1.0278257484361688, -0.514950707958829, -1.6295755204874562, -0.53058233036871, -0.06432271315517117, -0.4852358829857144], \"xaxis\": \"x9\", \"y\": [-0.10844688366607731, 0.16733633352974903, -1.003064679877997, 0.11892881146560684, 1.3333393915304186, -0.6448370494894287, -0.036934364214063056, -0.3354599867804685, 0.8594130791664836, 2.292550494907262, 0.5851055074273075, -0.22373305898021273, -1.318829471484427, -0.47687927302096245, 0.32297553601603296, -0.9758488905489777, 0.6691342481305712, -0.5916234672327101, 1.5989795847107482, -0.008847456786420628, 0.4361699102532506, 0.5632537291646132, -0.37933737575918364, -1.7887425453458037, -0.16753674441022864, -0.1409974236530499, 1.4527206204041516, 0.2997776368855433, -1.252308620876837, 1.5982594919483113, 0.19845250704666614, 0.056605879498077494, 1.9644044349481293, 0.7658980591791495, -1.2973172481097486, -0.21107855605363565, -0.7057809538742765, -0.5836330480381826, -0.48340573189183406, 0.014404479745272855, 1.243791708976414, 0.03911915089532694, 0.8073366696093068, -0.21777867566887507, 1.3206067041685183, 0.5533690325022966, 0.8478371294383951, -0.8219481286093834, 0.8189156313408671, -1.8039272994473976, 0.8134404378623654, -0.839922688506824, 1.1213654983659211, -0.3175238420362532, -1.040232527431456, 1.9270211148796856, 0.49816493558492425, 0.7210957281645702, -1.3711562942618596, 0.18148120905557177, 1.4177973798560877, 0.8473564728331587, -2.467072144710912, -0.7725036485221717, -0.04099859162106744, 0.8023311379678135, -0.05201887677702289, -0.2206430931931036, 0.013789184936669339, 0.2812407546994943, 0.6677118079355471, -1.1298860728877786, 1.38237155109421, -0.3908186085017909, -0.6235459428811388, 0.1525324826063132, 0.4853510459498709, -0.3342588245362525, -1.1074568386912864, 0.3716183728865845, 0.1283188309393588, 1.3247212909650026, -0.29847719147752716, -0.6070218711864458, -1.9899820556255035, -0.17916009699644542, -0.7586603660994995, -0.2276209432381251, -0.8404747300241181, 0.5987703429564175, -0.13878088527091056, -0.42396204344891697, 0.4610587122947592, -0.37852470756784384, 0.14418526352165398, 0.02070290882063936, 1.1492810604208865, 0.24475333684183478, -0.09764569239807382, -0.758534462637969], \"yaxis\": \"y9\"}, {\"line\": {\"color\": \"rgba(128, 128, 128, 1.0)\", \"dash\": \"solid\", \"shape\": \"linear\", \"width\": 1.3}, \"marker\": {\"size\": 2, \"symbol\": \"circle\"}, \"mode\": \"markers\", \"name\": \"C\", \"text\": \"\", \"type\": \"scatter\", \"x\": [0.744450190015796, 1.1894557449729342, 0.6014866195311764, -0.8880130958919555, 0.2634422442550224, 0.6626931843686664, -1.1250880401227368, 0.4771603153029794, -0.1490065026960575, -0.9623205020230357, 1.4401318165613903, 1.4082689738738148, 0.10270692830268753, 0.01425779846376388, -1.480304960527278, -0.824423835202117, -0.5511105572426905, 0.15703184361306663, 0.9234900532311175, 0.1613158759882807, -0.644491423073877, -1.2120176461084518, 1.016181721468633, -0.6319609682834901, -0.24129550029875582, 0.553567424049745, -0.62444452813727, 0.22496068588193177, 0.8743351098471469, 1.7059386069757694, -1.9206327186061418, 0.7686062004369781, -1.259648403612559, 0.1096277410328048, 0.9387094528772576, -0.27461979313709567, 1.6207957707630838, 0.06169141959846879, -0.4865658395535811, -0.5858756480838269, -0.8884612999138807, 0.13300720372341124, 1.2981909174656012, 0.34230516992051746, 0.4919371479311787, 0.36239582310865504, -0.7208562108905195, 0.6914975574734396, 0.36195579934636735, -0.22232409309193057, 0.065663078950636, 0.1985313405036117, 1.6933038949156938, -0.46264733238674816, 1.7763447430055253, -0.640759791350102, -0.6793491505404466, 0.4267992066295522, -1.1422053149767915, -0.7766786239708781, 0.8754471153083129, -0.8903352167441764, -0.8840619009663945, -0.3280940175291615, 0.3685108324294671, -0.5897320779624863, 0.5219386165501887, 0.10200882724863404, -0.30850418604752317, -0.08803823463831988, -1.557089116787949, 0.5682957147945388, 0.5278400244507687, 1.4323269258374178, 0.5576802769913602, 2.204605797704065, -0.535349852025295, 1.1789203019870378, 0.30611952626236455, 0.45594684826678866, 1.8433513627069207, 0.4245202276944359, 1.031079593495038, 1.5566392860476528, -0.5803530558234599, -1.252281916948563, -0.7086537222484671, 0.5936620950802783, 0.4854826118308957, -0.13808162235319374, 0.07744183888892246, 0.5157739214893406, 0.1884566433660276, 0.5637646438290826, -0.06990828503654249, 0.8880289293608626, 0.5309382058701448, -2.150688191460801, -1.0081065888477767, -0.6843264190330478], \"xaxis\": \"x10\", \"y\": [-0.10844688366607731, 0.16733633352974903, -1.003064679877997, 0.11892881146560684, 1.3333393915304186, -0.6448370494894287, -0.036934364214063056, -0.3354599867804685, 0.8594130791664836, 2.292550494907262, 0.5851055074273075, -0.22373305898021273, -1.318829471484427, -0.47687927302096245, 0.32297553601603296, -0.9758488905489777, 0.6691342481305712, -0.5916234672327101, 1.5989795847107482, -0.008847456786420628, 0.4361699102532506, 0.5632537291646132, -0.37933737575918364, -1.7887425453458037, -0.16753674441022864, -0.1409974236530499, 1.4527206204041516, 0.2997776368855433, -1.252308620876837, 1.5982594919483113, 0.19845250704666614, 0.056605879498077494, 1.9644044349481293, 0.7658980591791495, -1.2973172481097486, -0.21107855605363565, -0.7057809538742765, -0.5836330480381826, -0.48340573189183406, 0.014404479745272855, 1.243791708976414, 0.03911915089532694, 0.8073366696093068, -0.21777867566887507, 1.3206067041685183, 0.5533690325022966, 0.8478371294383951, -0.8219481286093834, 0.8189156313408671, -1.8039272994473976, 0.8134404378623654, -0.839922688506824, 1.1213654983659211, -0.3175238420362532, -1.040232527431456, 1.9270211148796856, 0.49816493558492425, 0.7210957281645702, -1.3711562942618596, 0.18148120905557177, 1.4177973798560877, 0.8473564728331587, -2.467072144710912, -0.7725036485221717, -0.04099859162106744, 0.8023311379678135, -0.05201887677702289, -0.2206430931931036, 0.013789184936669339, 0.2812407546994943, 0.6677118079355471, -1.1298860728877786, 1.38237155109421, -0.3908186085017909, -0.6235459428811388, 0.1525324826063132, 0.4853510459498709, -0.3342588245362525, -1.1074568386912864, 0.3716183728865845, 0.1283188309393588, 1.3247212909650026, -0.29847719147752716, -0.6070218711864458, -1.9899820556255035, -0.17916009699644542, -0.7586603660994995, -0.2276209432381251, -0.8404747300241181, 0.5987703429564175, -0.13878088527091056, -0.42396204344891697, 0.4610587122947592, -0.37852470756784384, 0.14418526352165398, 0.02070290882063936, 1.1492810604208865, 0.24475333684183478, -0.09764569239807382, -0.758534462637969], \"yaxis\": \"y10\"}, {\"histfunc\": \"count\", \"histnorm\": \"\", \"marker\": {\"color\": \"rgba(50, 171, 96, 1.0)\", \"line\": {\"color\": \"#4D5663\", \"width\": 1.3}}, \"name\": \"C\", \"nbinsx\": 10, \"opacity\": 0.8, \"orientation\": \"v\", \"type\": \"histogram\", \"x\": [-0.10844688366607731, 0.16733633352974903, -1.003064679877997, 0.11892881146560684, 1.3333393915304186, -0.6448370494894287, -0.036934364214063056, -0.3354599867804685, 0.8594130791664836, 2.292550494907262, 0.5851055074273075, -0.22373305898021273, -1.318829471484427, -0.47687927302096245, 0.32297553601603296, -0.9758488905489777, 0.6691342481305712, -0.5916234672327101, 1.5989795847107482, -0.008847456786420628, 0.4361699102532506, 0.5632537291646132, -0.37933737575918364, -1.7887425453458037, -0.16753674441022864, -0.1409974236530499, 1.4527206204041516, 0.2997776368855433, -1.252308620876837, 1.5982594919483113, 0.19845250704666614, 0.056605879498077494, 1.9644044349481293, 0.7658980591791495, -1.2973172481097486, -0.21107855605363565, -0.7057809538742765, -0.5836330480381826, -0.48340573189183406, 0.014404479745272855, 1.243791708976414, 0.03911915089532694, 0.8073366696093068, -0.21777867566887507, 1.3206067041685183, 0.5533690325022966, 0.8478371294383951, -0.8219481286093834, 0.8189156313408671, -1.8039272994473976, 0.8134404378623654, -0.839922688506824, 1.1213654983659211, -0.3175238420362532, -1.040232527431456, 1.9270211148796856, 0.49816493558492425, 0.7210957281645702, -1.3711562942618596, 0.18148120905557177, 1.4177973798560877, 0.8473564728331587, -2.467072144710912, -0.7725036485221717, -0.04099859162106744, 0.8023311379678135, -0.05201887677702289, -0.2206430931931036, 0.013789184936669339, 0.2812407546994943, 0.6677118079355471, -1.1298860728877786, 1.38237155109421, -0.3908186085017909, -0.6235459428811388, 0.1525324826063132, 0.4853510459498709, -0.3342588245362525, -1.1074568386912864, 0.3716183728865845, 0.1283188309393588, 1.3247212909650026, -0.29847719147752716, -0.6070218711864458, -1.9899820556255035, -0.17916009699644542, -0.7586603660994995, -0.2276209432381251, -0.8404747300241181, 0.5987703429564175, -0.13878088527091056, -0.42396204344891697, 0.4610587122947592, -0.37852470756784384, 0.14418526352165398, 0.02070290882063936, 1.1492810604208865, 0.24475333684183478, -0.09764569239807382, -0.758534462637969], \"xaxis\": \"x11\", \"yaxis\": \"y11\"}, {\"line\": {\"color\": \"rgba(128, 128, 128, 1.0)\", \"dash\": \"solid\", \"shape\": \"linear\", \"width\": 1.3}, \"marker\": {\"size\": 2, \"symbol\": \"circle\"}, \"mode\": \"markers\", \"name\": \"C\", \"text\": \"\", \"type\": \"scatter\", \"x\": [-1.1393184613711067, 0.6793613666635172, 0.28974041098371095, 0.9470289347185049, 1.855321234974801, -1.7722316176818371, 1.3554955322757567, 0.6432624264780246, 0.34848058672818405, -0.37728668399111714, -1.759013929417471, -1.0671607454395564, -0.7795066221851681, -0.46696370159275197, 0.8378772934461107, -1.265943442354089, 0.707706194731624, -1.1598784355469942, 0.3903579271561808, -0.18055035634994288, -1.7614489328259577, -1.548005517264043, -0.4476933691867463, 0.4725205261924256, -0.9047678988456344, 0.40299125921404544, 0.3833443037713799, 0.6086588925414255, 0.10551045807600429, 0.5398565778298426, -0.3253123067260765, 2.410609715713139, -0.6875386256442397, 1.803037824681518, -2.04461480952745, -1.6165455705422103, -0.8649796621911521, -0.20754981724057178, 0.7162581858362861, 0.3956552328909221, 1.5562153420059015, -1.4048973439846717, 0.7235465006901312, -1.1828001124403158, 1.7670220708468052, -1.6483267663795467, 1.2959639144400708, 0.01137317773399804, 0.24892171983224393, -1.3804822111812494, -0.1552211611756199, -0.3336621916615375, 0.21704118913381892, 0.22648720227245717, -2.3223235953886916, -1.6659328759101266, -0.43578175542352915, -0.020671620075946844, 1.6098798041556606, 0.9917772179785025, 0.7561089928128429, -0.03075331935853545, 0.9213688877157874, -1.7534585372719176, -1.0670716083211633, -1.2617429985339306, 0.78279386642726, -1.0387525520793024, -0.8392526693580369, -0.218506857832733, 0.20734729417789693, -0.3062181818320245, -0.8620903828109703, -1.3209325312822953, 0.9747528909197947, -0.8663554124148628, 0.4754132016880406, -0.3523819524286089, -1.3339226336427972, 0.03678425634872807, 0.16668823781780848, 0.72486473881676, 0.685991570942405, 0.7495820181096875, 0.7232736844271054, -1.6074542095465134, -0.17574514087516413, -1.6612646063680152, -1.303417435980111, 2.0350458483027345, -0.5807409988730624, 0.6720747309461574, -0.28525772520585135, 2.248184362196986, 0.7116960828106597, 1.6614735371334814, -1.400668549764246, -0.3335111223037445, -2.0430793137092835, -1.624903816980265], \"xaxis\": \"x12\", \"y\": [-0.10844688366607731, 0.16733633352974903, -1.003064679877997, 0.11892881146560684, 1.3333393915304186, -0.6448370494894287, -0.036934364214063056, -0.3354599867804685, 0.8594130791664836, 2.292550494907262, 0.5851055074273075, -0.22373305898021273, -1.318829471484427, -0.47687927302096245, 0.32297553601603296, -0.9758488905489777, 0.6691342481305712, -0.5916234672327101, 1.5989795847107482, -0.008847456786420628, 0.4361699102532506, 0.5632537291646132, -0.37933737575918364, -1.7887425453458037, -0.16753674441022864, -0.1409974236530499, 1.4527206204041516, 0.2997776368855433, -1.252308620876837, 1.5982594919483113, 0.19845250704666614, 0.056605879498077494, 1.9644044349481293, 0.7658980591791495, -1.2973172481097486, -0.21107855605363565, -0.7057809538742765, -0.5836330480381826, -0.48340573189183406, 0.014404479745272855, 1.243791708976414, 0.03911915089532694, 0.8073366696093068, -0.21777867566887507, 1.3206067041685183, 0.5533690325022966, 0.8478371294383951, -0.8219481286093834, 0.8189156313408671, -1.8039272994473976, 0.8134404378623654, -0.839922688506824, 1.1213654983659211, -0.3175238420362532, -1.040232527431456, 1.9270211148796856, 0.49816493558492425, 0.7210957281645702, -1.3711562942618596, 0.18148120905557177, 1.4177973798560877, 0.8473564728331587, -2.467072144710912, -0.7725036485221717, -0.04099859162106744, 0.8023311379678135, -0.05201887677702289, -0.2206430931931036, 0.013789184936669339, 0.2812407546994943, 0.6677118079355471, -1.1298860728877786, 1.38237155109421, -0.3908186085017909, -0.6235459428811388, 0.1525324826063132, 0.4853510459498709, -0.3342588245362525, -1.1074568386912864, 0.3716183728865845, 0.1283188309393588, 1.3247212909650026, -0.29847719147752716, -0.6070218711864458, -1.9899820556255035, -0.17916009699644542, -0.7586603660994995, -0.2276209432381251, -0.8404747300241181, 0.5987703429564175, -0.13878088527091056, -0.42396204344891697, 0.4610587122947592, -0.37852470756784384, 0.14418526352165398, 0.02070290882063936, 1.1492810604208865, 0.24475333684183478, -0.09764569239807382, -0.758534462637969], \"yaxis\": \"y12\"}, {\"line\": {\"color\": \"rgba(128, 128, 128, 1.0)\", \"dash\": \"solid\", \"shape\": \"linear\", \"width\": 1.3}, \"marker\": {\"size\": 2, \"symbol\": \"circle\"}, \"mode\": \"markers\", \"name\": \"D\", \"text\": \"\", \"type\": \"scatter\", \"x\": [-1.0099361673355667, -1.0284575537950853, -0.11589523503021203, -0.3871577102854481, -0.8802462358509756, -0.5073178289505085, -0.25872977857744495, -0.8451154146551735, -1.6753380560258833, -0.3197009244061666, -0.13563348234303227, -1.311691245631022, -1.249731033152953, 0.17890604821843886, -1.128427638771329, -1.1636664744849745, -0.9412243713819362, -0.38570173042512107, -0.8003953490624793, 0.8825029834565344, 1.524337052036057, -0.23052058779768336, 1.9285582193640014, -0.872188772166427, -0.3176075253149898, 2.606580520825616, -1.1995356504360102, -0.5183516090778959, -0.04436142535581713, -0.18480369022350523, -1.7547311219167303, 0.4348163458344423, 0.02896010894576578, 1.1883323868662738, 1.6732989603111974, -0.8210953393613368, 0.5004305409127747, -0.22178532385423305, -0.7454328674035887, 2.1180173982206956, 1.190563692517457, 0.3138573805554352, -0.9935779216404051, -0.3647175556508881, 0.5068831822214218, 0.20910917496939357, 0.577713713083106, -0.29978283141123724, -0.2873028727788575, -0.46363559405313143, -0.9206774761598664, -0.755950329387749, 0.7922037497771531, -0.8795695353900919, 0.28776576333898585, -0.23417565168839716, -1.9708555241106436, 0.9824316178908786, -1.98662055858986, -0.7296201496003367, 0.7238839666288359, 1.5974689722403834, 1.801589947153041, -0.7232840189194383, -1.0681986697213794, -0.5992838692605261, 2.239239240441496, -0.2396645330815824, -0.04239926731173785, 0.8738657260289925, -0.8714936725210958, 1.0533376696933532, 0.028493839037042872, 0.9603494061902195, 0.8199228021104203, 1.4708360154901292, -1.104738720637537, -1.6868861956709762, 1.0938651017022927, 2.1390860039617507, -0.3705530670203375, -0.18840168960734383, 0.42753386535746246, 0.6980400869787413, -0.6402916416160395, -0.02222079553462808, -0.4216825148927192, 0.280887190385779, -0.643768601883412, -0.6875539894115286, -1.3443114433014156, -0.25555254723379944, 1.2335524942281835, -0.09161187909282938, 1.0278257484361688, -0.514950707958829, -1.6295755204874562, -0.53058233036871, -0.06432271315517117, -0.4852358829857144], \"xaxis\": \"x13\", \"y\": [-1.1393184613711067, 0.6793613666635172, 0.28974041098371095, 0.9470289347185049, 1.855321234974801, -1.7722316176818371, 1.3554955322757567, 0.6432624264780246, 0.34848058672818405, -0.37728668399111714, -1.759013929417471, -1.0671607454395564, -0.7795066221851681, -0.46696370159275197, 0.8378772934461107, -1.265943442354089, 0.707706194731624, -1.1598784355469942, 0.3903579271561808, -0.18055035634994288, -1.7614489328259577, -1.548005517264043, -0.4476933691867463, 0.4725205261924256, -0.9047678988456344, 0.40299125921404544, 0.3833443037713799, 0.6086588925414255, 0.10551045807600429, 0.5398565778298426, -0.3253123067260765, 2.410609715713139, -0.6875386256442397, 1.803037824681518, -2.04461480952745, -1.6165455705422103, -0.8649796621911521, -0.20754981724057178, 0.7162581858362861, 0.3956552328909221, 1.5562153420059015, -1.4048973439846717, 0.7235465006901312, -1.1828001124403158, 1.7670220708468052, -1.6483267663795467, 1.2959639144400708, 0.01137317773399804, 0.24892171983224393, -1.3804822111812494, -0.1552211611756199, -0.3336621916615375, 0.21704118913381892, 0.22648720227245717, -2.3223235953886916, -1.6659328759101266, -0.43578175542352915, -0.020671620075946844, 1.6098798041556606, 0.9917772179785025, 0.7561089928128429, -0.03075331935853545, 0.9213688877157874, -1.7534585372719176, -1.0670716083211633, -1.2617429985339306, 0.78279386642726, -1.0387525520793024, -0.8392526693580369, -0.218506857832733, 0.20734729417789693, -0.3062181818320245, -0.8620903828109703, -1.3209325312822953, 0.9747528909197947, -0.8663554124148628, 0.4754132016880406, -0.3523819524286089, -1.3339226336427972, 0.03678425634872807, 0.16668823781780848, 0.72486473881676, 0.685991570942405, 0.7495820181096875, 0.7232736844271054, -1.6074542095465134, -0.17574514087516413, -1.6612646063680152, -1.303417435980111, 2.0350458483027345, -0.5807409988730624, 0.6720747309461574, -0.28525772520585135, 2.248184362196986, 0.7116960828106597, 1.6614735371334814, -1.400668549764246, -0.3335111223037445, -2.0430793137092835, -1.624903816980265], \"yaxis\": \"y13\"}, {\"line\": {\"color\": \"rgba(128, 128, 128, 1.0)\", \"dash\": \"solid\", \"shape\": \"linear\", \"width\": 1.3}, \"marker\": {\"size\": 2, \"symbol\": \"circle\"}, \"mode\": \"markers\", \"name\": \"D\", \"text\": \"\", \"type\": \"scatter\", \"x\": [0.744450190015796, 1.1894557449729342, 0.6014866195311764, -0.8880130958919555, 0.2634422442550224, 0.6626931843686664, -1.1250880401227368, 0.4771603153029794, -0.1490065026960575, -0.9623205020230357, 1.4401318165613903, 1.4082689738738148, 0.10270692830268753, 0.01425779846376388, -1.480304960527278, -0.824423835202117, -0.5511105572426905, 0.15703184361306663, 0.9234900532311175, 0.1613158759882807, -0.644491423073877, -1.2120176461084518, 1.016181721468633, -0.6319609682834901, -0.24129550029875582, 0.553567424049745, -0.62444452813727, 0.22496068588193177, 0.8743351098471469, 1.7059386069757694, -1.9206327186061418, 0.7686062004369781, -1.259648403612559, 0.1096277410328048, 0.9387094528772576, -0.27461979313709567, 1.6207957707630838, 0.06169141959846879, -0.4865658395535811, -0.5858756480838269, -0.8884612999138807, 0.13300720372341124, 1.2981909174656012, 0.34230516992051746, 0.4919371479311787, 0.36239582310865504, -0.7208562108905195, 0.6914975574734396, 0.36195579934636735, -0.22232409309193057, 0.065663078950636, 0.1985313405036117, 1.6933038949156938, -0.46264733238674816, 1.7763447430055253, -0.640759791350102, -0.6793491505404466, 0.4267992066295522, -1.1422053149767915, -0.7766786239708781, 0.8754471153083129, -0.8903352167441764, -0.8840619009663945, -0.3280940175291615, 0.3685108324294671, -0.5897320779624863, 0.5219386165501887, 0.10200882724863404, -0.30850418604752317, -0.08803823463831988, -1.557089116787949, 0.5682957147945388, 0.5278400244507687, 1.4323269258374178, 0.5576802769913602, 2.204605797704065, -0.535349852025295, 1.1789203019870378, 0.30611952626236455, 0.45594684826678866, 1.8433513627069207, 0.4245202276944359, 1.031079593495038, 1.5566392860476528, -0.5803530558234599, -1.252281916948563, -0.7086537222484671, 0.5936620950802783, 0.4854826118308957, -0.13808162235319374, 0.07744183888892246, 0.5157739214893406, 0.1884566433660276, 0.5637646438290826, -0.06990828503654249, 0.8880289293608626, 0.5309382058701448, -2.150688191460801, -1.0081065888477767, -0.6843264190330478], \"xaxis\": \"x14\", \"y\": [-1.1393184613711067, 0.6793613666635172, 0.28974041098371095, 0.9470289347185049, 1.855321234974801, -1.7722316176818371, 1.3554955322757567, 0.6432624264780246, 0.34848058672818405, -0.37728668399111714, -1.759013929417471, -1.0671607454395564, -0.7795066221851681, -0.46696370159275197, 0.8378772934461107, -1.265943442354089, 0.707706194731624, -1.1598784355469942, 0.3903579271561808, -0.18055035634994288, -1.7614489328259577, -1.548005517264043, -0.4476933691867463, 0.4725205261924256, -0.9047678988456344, 0.40299125921404544, 0.3833443037713799, 0.6086588925414255, 0.10551045807600429, 0.5398565778298426, -0.3253123067260765, 2.410609715713139, -0.6875386256442397, 1.803037824681518, -2.04461480952745, -1.6165455705422103, -0.8649796621911521, -0.20754981724057178, 0.7162581858362861, 0.3956552328909221, 1.5562153420059015, -1.4048973439846717, 0.7235465006901312, -1.1828001124403158, 1.7670220708468052, -1.6483267663795467, 1.2959639144400708, 0.01137317773399804, 0.24892171983224393, -1.3804822111812494, -0.1552211611756199, -0.3336621916615375, 0.21704118913381892, 0.22648720227245717, -2.3223235953886916, -1.6659328759101266, -0.43578175542352915, -0.020671620075946844, 1.6098798041556606, 0.9917772179785025, 0.7561089928128429, -0.03075331935853545, 0.9213688877157874, -1.7534585372719176, -1.0670716083211633, -1.2617429985339306, 0.78279386642726, -1.0387525520793024, -0.8392526693580369, -0.218506857832733, 0.20734729417789693, -0.3062181818320245, -0.8620903828109703, -1.3209325312822953, 0.9747528909197947, -0.8663554124148628, 0.4754132016880406, -0.3523819524286089, -1.3339226336427972, 0.03678425634872807, 0.16668823781780848, 0.72486473881676, 0.685991570942405, 0.7495820181096875, 0.7232736844271054, -1.6074542095465134, -0.17574514087516413, -1.6612646063680152, -1.303417435980111, 2.0350458483027345, -0.5807409988730624, 0.6720747309461574, -0.28525772520585135, 2.248184362196986, 0.7116960828106597, 1.6614735371334814, -1.400668549764246, -0.3335111223037445, -2.0430793137092835, -1.624903816980265], \"yaxis\": \"y14\"}, {\"line\": {\"color\": \"rgba(128, 128, 128, 1.0)\", \"dash\": \"solid\", \"shape\": \"linear\", \"width\": 1.3}, \"marker\": {\"size\": 2, \"symbol\": \"circle\"}, \"mode\": \"markers\", \"name\": \"D\", \"text\": \"\", \"type\": \"scatter\", \"x\": [-0.10844688366607731, 0.16733633352974903, -1.003064679877997, 0.11892881146560684, 1.3333393915304186, -0.6448370494894287, -0.036934364214063056, -0.3354599867804685, 0.8594130791664836, 2.292550494907262, 0.5851055074273075, -0.22373305898021273, -1.318829471484427, -0.47687927302096245, 0.32297553601603296, -0.9758488905489777, 0.6691342481305712, -0.5916234672327101, 1.5989795847107482, -0.008847456786420628, 0.4361699102532506, 0.5632537291646132, -0.37933737575918364, -1.7887425453458037, -0.16753674441022864, -0.1409974236530499, 1.4527206204041516, 0.2997776368855433, -1.252308620876837, 1.5982594919483113, 0.19845250704666614, 0.056605879498077494, 1.9644044349481293, 0.7658980591791495, -1.2973172481097486, -0.21107855605363565, -0.7057809538742765, -0.5836330480381826, -0.48340573189183406, 0.014404479745272855, 1.243791708976414, 0.03911915089532694, 0.8073366696093068, -0.21777867566887507, 1.3206067041685183, 0.5533690325022966, 0.8478371294383951, -0.8219481286093834, 0.8189156313408671, -1.8039272994473976, 0.8134404378623654, -0.839922688506824, 1.1213654983659211, -0.3175238420362532, -1.040232527431456, 1.9270211148796856, 0.49816493558492425, 0.7210957281645702, -1.3711562942618596, 0.18148120905557177, 1.4177973798560877, 0.8473564728331587, -2.467072144710912, -0.7725036485221717, -0.04099859162106744, 0.8023311379678135, -0.05201887677702289, -0.2206430931931036, 0.013789184936669339, 0.2812407546994943, 0.6677118079355471, -1.1298860728877786, 1.38237155109421, -0.3908186085017909, -0.6235459428811388, 0.1525324826063132, 0.4853510459498709, -0.3342588245362525, -1.1074568386912864, 0.3716183728865845, 0.1283188309393588, 1.3247212909650026, -0.29847719147752716, -0.6070218711864458, -1.9899820556255035, -0.17916009699644542, -0.7586603660994995, -0.2276209432381251, -0.8404747300241181, 0.5987703429564175, -0.13878088527091056, -0.42396204344891697, 0.4610587122947592, -0.37852470756784384, 0.14418526352165398, 0.02070290882063936, 1.1492810604208865, 0.24475333684183478, -0.09764569239807382, -0.758534462637969], \"xaxis\": \"x15\", \"y\": [-1.1393184613711067, 0.6793613666635172, 0.28974041098371095, 0.9470289347185049, 1.855321234974801, -1.7722316176818371, 1.3554955322757567, 0.6432624264780246, 0.34848058672818405, -0.37728668399111714, -1.759013929417471, -1.0671607454395564, -0.7795066221851681, -0.46696370159275197, 0.8378772934461107, -1.265943442354089, 0.707706194731624, -1.1598784355469942, 0.3903579271561808, -0.18055035634994288, -1.7614489328259577, -1.548005517264043, -0.4476933691867463, 0.4725205261924256, -0.9047678988456344, 0.40299125921404544, 0.3833443037713799, 0.6086588925414255, 0.10551045807600429, 0.5398565778298426, -0.3253123067260765, 2.410609715713139, -0.6875386256442397, 1.803037824681518, -2.04461480952745, -1.6165455705422103, -0.8649796621911521, -0.20754981724057178, 0.7162581858362861, 0.3956552328909221, 1.5562153420059015, -1.4048973439846717, 0.7235465006901312, -1.1828001124403158, 1.7670220708468052, -1.6483267663795467, 1.2959639144400708, 0.01137317773399804, 0.24892171983224393, -1.3804822111812494, -0.1552211611756199, -0.3336621916615375, 0.21704118913381892, 0.22648720227245717, -2.3223235953886916, -1.6659328759101266, -0.43578175542352915, -0.020671620075946844, 1.6098798041556606, 0.9917772179785025, 0.7561089928128429, -0.03075331935853545, 0.9213688877157874, -1.7534585372719176, -1.0670716083211633, -1.2617429985339306, 0.78279386642726, -1.0387525520793024, -0.8392526693580369, -0.218506857832733, 0.20734729417789693, -0.3062181818320245, -0.8620903828109703, -1.3209325312822953, 0.9747528909197947, -0.8663554124148628, 0.4754132016880406, -0.3523819524286089, -1.3339226336427972, 0.03678425634872807, 0.16668823781780848, 0.72486473881676, 0.685991570942405, 0.7495820181096875, 0.7232736844271054, -1.6074542095465134, -0.17574514087516413, -1.6612646063680152, -1.303417435980111, 2.0350458483027345, -0.5807409988730624, 0.6720747309461574, -0.28525772520585135, 2.248184362196986, 0.7116960828106597, 1.6614735371334814, -1.400668549764246, -0.3335111223037445, -2.0430793137092835, -1.624903816980265], \"yaxis\": \"y15\"}, {\"histfunc\": \"count\", \"histnorm\": \"\", \"marker\": {\"color\": \"rgba(128, 0, 128, 1.0)\", \"line\": {\"color\": \"#4D5663\", \"width\": 1.3}}, \"name\": \"D\", \"nbinsx\": 10, \"opacity\": 0.8, \"orientation\": \"v\", \"type\": \"histogram\", \"x\": [-1.1393184613711067, 0.6793613666635172, 0.28974041098371095, 0.9470289347185049, 1.855321234974801, -1.7722316176818371, 1.3554955322757567, 0.6432624264780246, 0.34848058672818405, -0.37728668399111714, -1.759013929417471, -1.0671607454395564, -0.7795066221851681, -0.46696370159275197, 0.8378772934461107, -1.265943442354089, 0.707706194731624, -1.1598784355469942, 0.3903579271561808, -0.18055035634994288, -1.7614489328259577, -1.548005517264043, -0.4476933691867463, 0.4725205261924256, -0.9047678988456344, 0.40299125921404544, 0.3833443037713799, 0.6086588925414255, 0.10551045807600429, 0.5398565778298426, -0.3253123067260765, 2.410609715713139, -0.6875386256442397, 1.803037824681518, -2.04461480952745, -1.6165455705422103, -0.8649796621911521, -0.20754981724057178, 0.7162581858362861, 0.3956552328909221, 1.5562153420059015, -1.4048973439846717, 0.7235465006901312, -1.1828001124403158, 1.7670220708468052, -1.6483267663795467, 1.2959639144400708, 0.01137317773399804, 0.24892171983224393, -1.3804822111812494, -0.1552211611756199, -0.3336621916615375, 0.21704118913381892, 0.22648720227245717, -2.3223235953886916, -1.6659328759101266, -0.43578175542352915, -0.020671620075946844, 1.6098798041556606, 0.9917772179785025, 0.7561089928128429, -0.03075331935853545, 0.9213688877157874, -1.7534585372719176, -1.0670716083211633, -1.2617429985339306, 0.78279386642726, -1.0387525520793024, -0.8392526693580369, -0.218506857832733, 0.20734729417789693, -0.3062181818320245, -0.8620903828109703, -1.3209325312822953, 0.9747528909197947, -0.8663554124148628, 0.4754132016880406, -0.3523819524286089, -1.3339226336427972, 0.03678425634872807, 0.16668823781780848, 0.72486473881676, 0.685991570942405, 0.7495820181096875, 0.7232736844271054, -1.6074542095465134, -0.17574514087516413, -1.6612646063680152, -1.303417435980111, 2.0350458483027345, -0.5807409988730624, 0.6720747309461574, -0.28525772520585135, 2.248184362196986, 0.7116960828106597, 1.6614735371334814, -1.400668549764246, -0.3335111223037445, -2.0430793137092835, -1.624903816980265], \"xaxis\": \"x16\", \"yaxis\": \"y16\"}],\n",
       "                        {\"bargap\": 0.02, \"legend\": {\"bgcolor\": \"#F5F6F9\", \"font\": {\"color\": \"#4D5663\"}}, \"paper_bgcolor\": \"#F5F6F9\", \"plot_bgcolor\": \"#F5F6F9\", \"showlegend\": false, \"template\": {\"data\": {\"bar\": [{\"error_x\": {\"color\": \"#2a3f5f\"}, \"error_y\": {\"color\": \"#2a3f5f\"}, \"marker\": {\"line\": {\"color\": \"#E5ECF6\", \"width\": 0.5}}, \"type\": \"bar\"}], \"barpolar\": [{\"marker\": {\"line\": {\"color\": \"#E5ECF6\", \"width\": 0.5}}, \"type\": \"barpolar\"}], \"carpet\": [{\"aaxis\": {\"endlinecolor\": \"#2a3f5f\", \"gridcolor\": \"white\", \"linecolor\": \"white\", \"minorgridcolor\": \"white\", \"startlinecolor\": \"#2a3f5f\"}, \"baxis\": {\"endlinecolor\": \"#2a3f5f\", \"gridcolor\": \"white\", \"linecolor\": \"white\", \"minorgridcolor\": \"white\", \"startlinecolor\": \"#2a3f5f\"}, \"type\": \"carpet\"}], \"choropleth\": [{\"colorbar\": {\"outlinewidth\": 0, \"ticks\": \"\"}, \"type\": \"choropleth\"}], \"contour\": [{\"colorbar\": {\"outlinewidth\": 0, \"ticks\": \"\"}, \"colorscale\": [[0.0, \"#0d0887\"], [0.1111111111111111, \"#46039f\"], [0.2222222222222222, \"#7201a8\"], [0.3333333333333333, \"#9c179e\"], [0.4444444444444444, \"#bd3786\"], [0.5555555555555556, \"#d8576b\"], [0.6666666666666666, \"#ed7953\"], [0.7777777777777778, \"#fb9f3a\"], [0.8888888888888888, \"#fdca26\"], [1.0, \"#f0f921\"]], \"type\": \"contour\"}], \"contourcarpet\": [{\"colorbar\": {\"outlinewidth\": 0, \"ticks\": \"\"}, \"type\": \"contourcarpet\"}], \"heatmap\": [{\"colorbar\": {\"outlinewidth\": 0, \"ticks\": \"\"}, \"colorscale\": [[0.0, \"#0d0887\"], [0.1111111111111111, \"#46039f\"], [0.2222222222222222, \"#7201a8\"], [0.3333333333333333, \"#9c179e\"], [0.4444444444444444, \"#bd3786\"], [0.5555555555555556, \"#d8576b\"], [0.6666666666666666, \"#ed7953\"], [0.7777777777777778, \"#fb9f3a\"], [0.8888888888888888, \"#fdca26\"], [1.0, \"#f0f921\"]], \"type\": \"heatmap\"}], \"heatmapgl\": [{\"colorbar\": {\"outlinewidth\": 0, \"ticks\": \"\"}, \"colorscale\": [[0.0, \"#0d0887\"], [0.1111111111111111, \"#46039f\"], [0.2222222222222222, \"#7201a8\"], [0.3333333333333333, \"#9c179e\"], [0.4444444444444444, \"#bd3786\"], [0.5555555555555556, \"#d8576b\"], [0.6666666666666666, \"#ed7953\"], [0.7777777777777778, \"#fb9f3a\"], [0.8888888888888888, \"#fdca26\"], [1.0, \"#f0f921\"]], \"type\": \"heatmapgl\"}], \"histogram\": [{\"marker\": {\"colorbar\": {\"outlinewidth\": 0, \"ticks\": \"\"}}, \"type\": \"histogram\"}], \"histogram2d\": [{\"colorbar\": {\"outlinewidth\": 0, \"ticks\": \"\"}, \"colorscale\": [[0.0, \"#0d0887\"], [0.1111111111111111, \"#46039f\"], [0.2222222222222222, \"#7201a8\"], [0.3333333333333333, \"#9c179e\"], [0.4444444444444444, \"#bd3786\"], [0.5555555555555556, \"#d8576b\"], [0.6666666666666666, \"#ed7953\"], [0.7777777777777778, \"#fb9f3a\"], [0.8888888888888888, \"#fdca26\"], [1.0, \"#f0f921\"]], \"type\": \"histogram2d\"}], \"histogram2dcontour\": [{\"colorbar\": {\"outlinewidth\": 0, \"ticks\": \"\"}, \"colorscale\": [[0.0, \"#0d0887\"], [0.1111111111111111, \"#46039f\"], [0.2222222222222222, \"#7201a8\"], [0.3333333333333333, \"#9c179e\"], [0.4444444444444444, \"#bd3786\"], [0.5555555555555556, \"#d8576b\"], [0.6666666666666666, \"#ed7953\"], [0.7777777777777778, \"#fb9f3a\"], [0.8888888888888888, \"#fdca26\"], [1.0, \"#f0f921\"]], \"type\": \"histogram2dcontour\"}], \"mesh3d\": [{\"colorbar\": {\"outlinewidth\": 0, \"ticks\": \"\"}, \"type\": \"mesh3d\"}], \"parcoords\": [{\"line\": {\"colorbar\": {\"outlinewidth\": 0, \"ticks\": \"\"}}, \"type\": \"parcoords\"}], \"pie\": [{\"automargin\": true, \"type\": \"pie\"}], \"scatter\": [{\"marker\": {\"colorbar\": {\"outlinewidth\": 0, \"ticks\": \"\"}}, \"type\": \"scatter\"}], \"scatter3d\": [{\"line\": {\"colorbar\": {\"outlinewidth\": 0, \"ticks\": \"\"}}, \"marker\": {\"colorbar\": {\"outlinewidth\": 0, \"ticks\": \"\"}}, \"type\": \"scatter3d\"}], \"scattercarpet\": [{\"marker\": {\"colorbar\": {\"outlinewidth\": 0, \"ticks\": \"\"}}, \"type\": \"scattercarpet\"}], \"scattergeo\": [{\"marker\": {\"colorbar\": {\"outlinewidth\": 0, \"ticks\": \"\"}}, \"type\": \"scattergeo\"}], \"scattergl\": [{\"marker\": {\"colorbar\": {\"outlinewidth\": 0, \"ticks\": \"\"}}, \"type\": \"scattergl\"}], \"scattermapbox\": [{\"marker\": {\"colorbar\": {\"outlinewidth\": 0, \"ticks\": \"\"}}, \"type\": \"scattermapbox\"}], \"scatterpolar\": [{\"marker\": {\"colorbar\": {\"outlinewidth\": 0, \"ticks\": \"\"}}, \"type\": \"scatterpolar\"}], \"scatterpolargl\": [{\"marker\": {\"colorbar\": {\"outlinewidth\": 0, \"ticks\": \"\"}}, \"type\": \"scatterpolargl\"}], \"scatterternary\": [{\"marker\": {\"colorbar\": {\"outlinewidth\": 0, \"ticks\": \"\"}}, \"type\": \"scatterternary\"}], \"surface\": [{\"colorbar\": {\"outlinewidth\": 0, \"ticks\": \"\"}, \"colorscale\": [[0.0, \"#0d0887\"], [0.1111111111111111, \"#46039f\"], [0.2222222222222222, \"#7201a8\"], [0.3333333333333333, \"#9c179e\"], [0.4444444444444444, \"#bd3786\"], [0.5555555555555556, \"#d8576b\"], [0.6666666666666666, \"#ed7953\"], [0.7777777777777778, \"#fb9f3a\"], [0.8888888888888888, \"#fdca26\"], [1.0, \"#f0f921\"]], \"type\": \"surface\"}], \"table\": [{\"cells\": {\"fill\": {\"color\": \"#EBF0F8\"}, \"line\": {\"color\": \"white\"}}, \"header\": {\"fill\": {\"color\": \"#C8D4E3\"}, \"line\": {\"color\": \"white\"}}, \"type\": \"table\"}]}, \"layout\": {\"annotationdefaults\": {\"arrowcolor\": \"#2a3f5f\", \"arrowhead\": 0, \"arrowwidth\": 1}, \"coloraxis\": {\"colorbar\": {\"outlinewidth\": 0, \"ticks\": \"\"}}, \"colorscale\": {\"diverging\": [[0, \"#8e0152\"], [0.1, \"#c51b7d\"], [0.2, \"#de77ae\"], [0.3, \"#f1b6da\"], [0.4, \"#fde0ef\"], [0.5, \"#f7f7f7\"], [0.6, \"#e6f5d0\"], [0.7, \"#b8e186\"], [0.8, \"#7fbc41\"], [0.9, \"#4d9221\"], [1, \"#276419\"]], \"sequential\": [[0.0, \"#0d0887\"], [0.1111111111111111, \"#46039f\"], [0.2222222222222222, \"#7201a8\"], [0.3333333333333333, \"#9c179e\"], [0.4444444444444444, \"#bd3786\"], [0.5555555555555556, \"#d8576b\"], [0.6666666666666666, \"#ed7953\"], [0.7777777777777778, \"#fb9f3a\"], [0.8888888888888888, \"#fdca26\"], [1.0, \"#f0f921\"]], \"sequentialminus\": [[0.0, \"#0d0887\"], [0.1111111111111111, \"#46039f\"], [0.2222222222222222, \"#7201a8\"], [0.3333333333333333, \"#9c179e\"], [0.4444444444444444, \"#bd3786\"], [0.5555555555555556, \"#d8576b\"], [0.6666666666666666, \"#ed7953\"], [0.7777777777777778, \"#fb9f3a\"], [0.8888888888888888, \"#fdca26\"], [1.0, \"#f0f921\"]]}, \"colorway\": [\"#636efa\", \"#EF553B\", \"#00cc96\", \"#ab63fa\", \"#FFA15A\", \"#19d3f3\", \"#FF6692\", \"#B6E880\", \"#FF97FF\", \"#FECB52\"], \"font\": {\"color\": \"#2a3f5f\"}, \"geo\": {\"bgcolor\": \"white\", \"lakecolor\": \"white\", \"landcolor\": \"#E5ECF6\", \"showlakes\": true, \"showland\": true, \"subunitcolor\": \"white\"}, \"hoverlabel\": {\"align\": \"left\"}, \"hovermode\": \"closest\", \"mapbox\": {\"style\": \"light\"}, \"paper_bgcolor\": \"white\", \"plot_bgcolor\": \"#E5ECF6\", \"polar\": {\"angularaxis\": {\"gridcolor\": \"white\", \"linecolor\": \"white\", \"ticks\": \"\"}, \"bgcolor\": \"#E5ECF6\", \"radialaxis\": {\"gridcolor\": \"white\", \"linecolor\": \"white\", \"ticks\": \"\"}}, \"scene\": {\"xaxis\": {\"backgroundcolor\": \"#E5ECF6\", \"gridcolor\": \"white\", \"gridwidth\": 2, \"linecolor\": \"white\", \"showbackground\": true, \"ticks\": \"\", \"zerolinecolor\": \"white\"}, \"yaxis\": {\"backgroundcolor\": \"#E5ECF6\", \"gridcolor\": \"white\", \"gridwidth\": 2, \"linecolor\": \"white\", \"showbackground\": true, \"ticks\": \"\", \"zerolinecolor\": \"white\"}, \"zaxis\": {\"backgroundcolor\": \"#E5ECF6\", \"gridcolor\": \"white\", \"gridwidth\": 2, \"linecolor\": \"white\", \"showbackground\": true, \"ticks\": \"\", \"zerolinecolor\": \"white\"}}, \"shapedefaults\": {\"line\": {\"color\": \"#2a3f5f\"}}, \"ternary\": {\"aaxis\": {\"gridcolor\": \"white\", \"linecolor\": \"white\", \"ticks\": \"\"}, \"baxis\": {\"gridcolor\": \"white\", \"linecolor\": \"white\", \"ticks\": \"\"}, \"bgcolor\": \"#E5ECF6\", \"caxis\": {\"gridcolor\": \"white\", \"linecolor\": \"white\", \"ticks\": \"\"}}, \"title\": {\"x\": 0.05}, \"xaxis\": {\"automargin\": true, \"gridcolor\": \"white\", \"linecolor\": \"white\", \"ticks\": \"\", \"title\": {\"standoff\": 15}, \"zerolinecolor\": \"white\", \"zerolinewidth\": 2}, \"yaxis\": {\"automargin\": true, \"gridcolor\": \"white\", \"linecolor\": \"white\", \"ticks\": \"\", \"title\": {\"standoff\": 15}, \"zerolinecolor\": \"white\", \"zerolinewidth\": 2}}}, \"title\": {\"font\": {\"color\": \"#4D5663\"}}, \"xaxis\": {\"anchor\": \"y\", \"domain\": [0.0, 0.2125], \"gridcolor\": \"#E1E5ED\", \"showgrid\": false, \"tickfont\": {\"color\": \"#4D5663\"}, \"title\": {\"font\": {\"color\": \"#4D5663\"}, \"text\": \"\"}, \"zerolinecolor\": \"#E1E5ED\"}, \"xaxis10\": {\"anchor\": \"y10\", \"domain\": [0.2625, 0.475], \"gridcolor\": \"#E1E5ED\", \"showgrid\": false, \"tickfont\": {\"color\": \"#4D5663\"}, \"title\": {\"font\": {\"color\": \"#4D5663\"}, \"text\": \"\"}, \"zerolinecolor\": \"#E1E5ED\"}, \"xaxis11\": {\"anchor\": \"y11\", \"domain\": [0.525, 0.7375], \"gridcolor\": \"#E1E5ED\", \"showgrid\": false, \"tickfont\": {\"color\": \"#4D5663\"}, \"title\": {\"font\": {\"color\": \"#4D5663\"}, \"text\": \"\"}, \"zerolinecolor\": \"#E1E5ED\"}, \"xaxis12\": {\"anchor\": \"y12\", \"domain\": [0.7875, 1.0], \"gridcolor\": \"#E1E5ED\", \"showgrid\": false, \"tickfont\": {\"color\": \"#4D5663\"}, \"title\": {\"font\": {\"color\": \"#4D5663\"}, \"text\": \"\"}, \"zerolinecolor\": \"#E1E5ED\"}, \"xaxis13\": {\"anchor\": \"y13\", \"domain\": [0.0, 0.2125], \"gridcolor\": \"#E1E5ED\", \"showgrid\": false, \"tickfont\": {\"color\": \"#4D5663\"}, \"title\": {\"font\": {\"color\": \"#4D5663\"}, \"text\": \"\"}, \"zerolinecolor\": \"#E1E5ED\"}, \"xaxis14\": {\"anchor\": \"y14\", \"domain\": [0.2625, 0.475], \"gridcolor\": \"#E1E5ED\", \"showgrid\": false, \"tickfont\": {\"color\": \"#4D5663\"}, \"title\": {\"font\": {\"color\": \"#4D5663\"}, \"text\": \"\"}, \"zerolinecolor\": \"#E1E5ED\"}, \"xaxis15\": {\"anchor\": \"y15\", \"domain\": [0.525, 0.7375], \"gridcolor\": \"#E1E5ED\", \"showgrid\": false, \"tickfont\": {\"color\": \"#4D5663\"}, \"title\": {\"font\": {\"color\": \"#4D5663\"}, \"text\": \"\"}, \"zerolinecolor\": \"#E1E5ED\"}, \"xaxis16\": {\"anchor\": \"y16\", \"domain\": [0.7875, 1.0], \"gridcolor\": \"#E1E5ED\", \"showgrid\": false, \"tickfont\": {\"color\": \"#4D5663\"}, \"title\": {\"font\": {\"color\": \"#4D5663\"}, \"text\": \"\"}, \"zerolinecolor\": \"#E1E5ED\"}, \"xaxis2\": {\"anchor\": \"y2\", \"domain\": [0.2625, 0.475], \"gridcolor\": \"#E1E5ED\", \"showgrid\": false, \"tickfont\": {\"color\": \"#4D5663\"}, \"title\": {\"font\": {\"color\": \"#4D5663\"}, \"text\": \"\"}, \"zerolinecolor\": \"#E1E5ED\"}, \"xaxis3\": {\"anchor\": \"y3\", \"domain\": [0.525, 0.7375], \"gridcolor\": \"#E1E5ED\", \"showgrid\": false, \"tickfont\": {\"color\": \"#4D5663\"}, \"title\": {\"font\": {\"color\": \"#4D5663\"}, \"text\": \"\"}, \"zerolinecolor\": \"#E1E5ED\"}, \"xaxis4\": {\"anchor\": \"y4\", \"domain\": [0.7875, 1.0], \"gridcolor\": \"#E1E5ED\", \"showgrid\": false, \"tickfont\": {\"color\": \"#4D5663\"}, \"title\": {\"font\": {\"color\": \"#4D5663\"}, \"text\": \"\"}, \"zerolinecolor\": \"#E1E5ED\"}, \"xaxis5\": {\"anchor\": \"y5\", \"domain\": [0.0, 0.2125], \"gridcolor\": \"#E1E5ED\", \"showgrid\": false, \"tickfont\": {\"color\": \"#4D5663\"}, \"title\": {\"font\": {\"color\": \"#4D5663\"}, \"text\": \"\"}, \"zerolinecolor\": \"#E1E5ED\"}, \"xaxis6\": {\"anchor\": \"y6\", \"domain\": [0.2625, 0.475], \"gridcolor\": \"#E1E5ED\", \"showgrid\": false, \"tickfont\": {\"color\": \"#4D5663\"}, \"title\": {\"font\": {\"color\": \"#4D5663\"}, \"text\": \"\"}, \"zerolinecolor\": \"#E1E5ED\"}, \"xaxis7\": {\"anchor\": \"y7\", \"domain\": [0.525, 0.7375], \"gridcolor\": \"#E1E5ED\", \"showgrid\": false, \"tickfont\": {\"color\": \"#4D5663\"}, \"title\": {\"font\": {\"color\": \"#4D5663\"}, \"text\": \"\"}, \"zerolinecolor\": \"#E1E5ED\"}, \"xaxis8\": {\"anchor\": \"y8\", \"domain\": [0.7875, 1.0], \"gridcolor\": \"#E1E5ED\", \"showgrid\": false, \"tickfont\": {\"color\": \"#4D5663\"}, \"title\": {\"font\": {\"color\": \"#4D5663\"}, \"text\": \"\"}, \"zerolinecolor\": \"#E1E5ED\"}, \"xaxis9\": {\"anchor\": \"y9\", \"domain\": [0.0, 0.2125], \"gridcolor\": \"#E1E5ED\", \"showgrid\": false, \"tickfont\": {\"color\": \"#4D5663\"}, \"title\": {\"font\": {\"color\": \"#4D5663\"}, \"text\": \"\"}, \"zerolinecolor\": \"#E1E5ED\"}, \"yaxis\": {\"anchor\": \"x\", \"domain\": [0.8025, 1.0], \"gridcolor\": \"#E1E5ED\", \"showgrid\": false, \"tickfont\": {\"color\": \"#4D5663\"}, \"title\": {\"font\": {\"color\": \"#4D5663\"}, \"text\": \"\"}, \"zerolinecolor\": \"#E1E5ED\"}, \"yaxis10\": {\"anchor\": \"x10\", \"domain\": [0.2675, 0.465], \"gridcolor\": \"#E1E5ED\", \"showgrid\": false, \"tickfont\": {\"color\": \"#4D5663\"}, \"title\": {\"font\": {\"color\": \"#4D5663\"}, \"text\": \"\"}, \"zerolinecolor\": \"#E1E5ED\"}, \"yaxis11\": {\"anchor\": \"x11\", \"domain\": [0.2675, 0.465], \"gridcolor\": \"#E1E5ED\", \"showgrid\": false, \"tickfont\": {\"color\": \"#4D5663\"}, \"title\": {\"font\": {\"color\": \"#4D5663\"}, \"text\": \"\"}, \"zerolinecolor\": \"#E1E5ED\"}, \"yaxis12\": {\"anchor\": \"x12\", \"domain\": [0.2675, 0.465], \"gridcolor\": \"#E1E5ED\", \"showgrid\": false, \"tickfont\": {\"color\": \"#4D5663\"}, \"title\": {\"font\": {\"color\": \"#4D5663\"}, \"text\": \"\"}, \"zerolinecolor\": \"#E1E5ED\"}, \"yaxis13\": {\"anchor\": \"x13\", \"domain\": [0.0, 0.1975], \"gridcolor\": \"#E1E5ED\", \"showgrid\": false, \"tickfont\": {\"color\": \"#4D5663\"}, \"title\": {\"font\": {\"color\": \"#4D5663\"}, \"text\": \"\"}, \"zerolinecolor\": \"#E1E5ED\"}, \"yaxis14\": {\"anchor\": \"x14\", \"domain\": [0.0, 0.1975], \"gridcolor\": \"#E1E5ED\", \"showgrid\": false, \"tickfont\": {\"color\": \"#4D5663\"}, \"title\": {\"font\": {\"color\": \"#4D5663\"}, \"text\": \"\"}, \"zerolinecolor\": \"#E1E5ED\"}, \"yaxis15\": {\"anchor\": \"x15\", \"domain\": [0.0, 0.1975], \"gridcolor\": \"#E1E5ED\", \"showgrid\": false, \"tickfont\": {\"color\": \"#4D5663\"}, \"title\": {\"font\": {\"color\": \"#4D5663\"}, \"text\": \"\"}, \"zerolinecolor\": \"#E1E5ED\"}, \"yaxis16\": {\"anchor\": \"x16\", \"domain\": [0.0, 0.1975], \"gridcolor\": \"#E1E5ED\", \"showgrid\": false, \"tickfont\": {\"color\": \"#4D5663\"}, \"title\": {\"font\": {\"color\": \"#4D5663\"}, \"text\": \"\"}, \"zerolinecolor\": \"#E1E5ED\"}, \"yaxis2\": {\"anchor\": \"x2\", \"domain\": [0.8025, 1.0], \"gridcolor\": \"#E1E5ED\", \"showgrid\": false, \"tickfont\": {\"color\": \"#4D5663\"}, \"title\": {\"font\": {\"color\": \"#4D5663\"}, \"text\": \"\"}, \"zerolinecolor\": \"#E1E5ED\"}, \"yaxis3\": {\"anchor\": \"x3\", \"domain\": [0.8025, 1.0], \"gridcolor\": \"#E1E5ED\", \"showgrid\": false, \"tickfont\": {\"color\": \"#4D5663\"}, \"title\": {\"font\": {\"color\": \"#4D5663\"}, \"text\": \"\"}, \"zerolinecolor\": \"#E1E5ED\"}, \"yaxis4\": {\"anchor\": \"x4\", \"domain\": [0.8025, 1.0], \"gridcolor\": \"#E1E5ED\", \"showgrid\": false, \"tickfont\": {\"color\": \"#4D5663\"}, \"title\": {\"font\": {\"color\": \"#4D5663\"}, \"text\": \"\"}, \"zerolinecolor\": \"#E1E5ED\"}, \"yaxis5\": {\"anchor\": \"x5\", \"domain\": [0.535, 0.7325], \"gridcolor\": \"#E1E5ED\", \"showgrid\": false, \"tickfont\": {\"color\": \"#4D5663\"}, \"title\": {\"font\": {\"color\": \"#4D5663\"}, \"text\": \"\"}, \"zerolinecolor\": \"#E1E5ED\"}, \"yaxis6\": {\"anchor\": \"x6\", \"domain\": [0.535, 0.7325], \"gridcolor\": \"#E1E5ED\", \"showgrid\": false, \"tickfont\": {\"color\": \"#4D5663\"}, \"title\": {\"font\": {\"color\": \"#4D5663\"}, \"text\": \"\"}, \"zerolinecolor\": \"#E1E5ED\"}, \"yaxis7\": {\"anchor\": \"x7\", \"domain\": [0.535, 0.7325], \"gridcolor\": \"#E1E5ED\", \"showgrid\": false, \"tickfont\": {\"color\": \"#4D5663\"}, \"title\": {\"font\": {\"color\": \"#4D5663\"}, \"text\": \"\"}, \"zerolinecolor\": \"#E1E5ED\"}, \"yaxis8\": {\"anchor\": \"x8\", \"domain\": [0.535, 0.7325], \"gridcolor\": \"#E1E5ED\", \"showgrid\": false, \"tickfont\": {\"color\": \"#4D5663\"}, \"title\": {\"font\": {\"color\": \"#4D5663\"}, \"text\": \"\"}, \"zerolinecolor\": \"#E1E5ED\"}, \"yaxis9\": {\"anchor\": \"x9\", \"domain\": [0.2675, 0.465], \"gridcolor\": \"#E1E5ED\", \"showgrid\": false, \"tickfont\": {\"color\": \"#4D5663\"}, \"title\": {\"font\": {\"color\": \"#4D5663\"}, \"text\": \"\"}, \"zerolinecolor\": \"#E1E5ED\"}},\n",
       "                        {\"showLink\": true, \"linkText\": \"Export to plot.ly\", \"plotlyServerURL\": \"https://plot.ly\", \"responsive\": true}\n",
       "                    ).then(function(){\n",
       "                            \n",
       "var gd = document.getElementById('4f92c6c1-8b74-4768-8206-1e93453f1661');\n",
       "var x = new MutationObserver(function (mutations, observer) {{\n",
       "        var display = window.getComputedStyle(gd).display;\n",
       "        if (!display || display === 'none') {{\n",
       "            console.log([gd, 'removed!']);\n",
       "            Plotly.purge(gd);\n",
       "            observer.disconnect();\n",
       "        }}\n",
       "}});\n",
       "\n",
       "// Listen for the removal of the full notebook cells\n",
       "var notebookContainer = gd.closest('#notebook-container');\n",
       "if (notebookContainer) {{\n",
       "    x.observe(notebookContainer, {childList: true});\n",
       "}}\n",
       "\n",
       "// Listen for the clearing of the current output cell\n",
       "var outputEl = gd.closest('.output');\n",
       "if (outputEl) {{\n",
       "    x.observe(outputEl, {childList: true});\n",
       "}}\n",
       "\n",
       "                        })\n",
       "                };\n",
       "                });\n",
       "            </script>\n",
       "        </div>"
      ]
     },
     "metadata": {},
     "output_type": "display_data"
    }
   ],
   "source": [
    "df.scatter_matrix()"
   ]
  },
  {
   "cell_type": "code",
   "execution_count": null,
   "metadata": {},
   "outputs": [],
   "source": []
  }
 ],
 "metadata": {
  "kernelspec": {
   "display_name": "Python 3",
   "language": "python",
   "name": "python3"
  },
  "language_info": {
   "codemirror_mode": {
    "name": "ipython",
    "version": 3
   },
   "file_extension": ".py",
   "mimetype": "text/x-python",
   "name": "python",
   "nbconvert_exporter": "python",
   "pygments_lexer": "ipython3",
   "version": "3.7.4"
  }
 },
 "nbformat": 4,
 "nbformat_minor": 1
}
