{
 "cells": [
  {
   "cell_type": "markdown",
   "metadata": {},
   "source": [
    "# Plotly and Cufflinks"
   ]
  },
  {
   "cell_type": "markdown",
   "metadata": {},
   "source": [
    "Plotly is a library that allows you to create interactive plots that you can use in dashboards or websites (you can save them as html files or static images).\n",
    "\n",
    "## Installation\n",
    "\n",
    "In order for this all to work, you'll need to install plotly and cufflinks to call plots directly off of a pandas dataframe. These libraries are not currently available through **conda** but are available through **pip**. Install the libraries at your command line/terminal using:\n",
    "\n",
    "    pip install plotly\n",
    "    pip install cufflinks\n",
    "## Imports and Set-up"
   ]
  },
  {
   "cell_type": "code",
   "execution_count": 1,
   "metadata": {},
   "outputs": [],
   "source": [
    "import pandas as pd\n",
    "import numpy as np\n",
    "%matplotlib inline"
   ]
  },
  {
   "cell_type": "code",
   "execution_count": 2,
   "metadata": {},
   "outputs": [
    {
     "name": "stdout",
     "output_type": "stream",
     "text": [
      "4.4.1\n"
     ]
    }
   ],
   "source": [
    "from plotly import __version__\n",
    "from plotly.offline import download_plotlyjs, init_notebook_mode, plot, iplot\n",
    "\n",
    "print(__version__) # requires version >= 1.9.0"
   ]
  },
  {
   "cell_type": "code",
   "execution_count": 5,
   "metadata": {},
   "outputs": [],
   "source": [
    "import cufflinks as cf"
   ]
  },
  {
   "cell_type": "code",
   "execution_count": 6,
   "metadata": {},
   "outputs": [
    {
     "data": {
      "text/html": [
       "        <script type=\"text/javascript\">\n",
       "        window.PlotlyConfig = {MathJaxConfig: 'local'};\n",
       "        if (window.MathJax) {MathJax.Hub.Config({SVG: {font: \"STIX-Web\"}});}\n",
       "        if (typeof require !== 'undefined') {\n",
       "        require.undef(\"plotly\");\n",
       "        requirejs.config({\n",
       "            paths: {\n",
       "                'plotly': ['https://cdn.plot.ly/plotly-latest.min']\n",
       "            }\n",
       "        });\n",
       "        require(['plotly'], function(Plotly) {\n",
       "            window._Plotly = Plotly;\n",
       "        });\n",
       "        }\n",
       "        </script>\n",
       "        "
      ]
     },
     "metadata": {},
     "output_type": "display_data"
    }
   ],
   "source": [
    "# For Notebooks\n",
    "init_notebook_mode(connected=True)"
   ]
  },
  {
   "cell_type": "code",
   "execution_count": 7,
   "metadata": {},
   "outputs": [
    {
     "data": {
      "text/html": [
       "        <script type=\"text/javascript\">\n",
       "        window.PlotlyConfig = {MathJaxConfig: 'local'};\n",
       "        if (window.MathJax) {MathJax.Hub.Config({SVG: {font: \"STIX-Web\"}});}\n",
       "        if (typeof require !== 'undefined') {\n",
       "        require.undef(\"plotly\");\n",
       "        requirejs.config({\n",
       "            paths: {\n",
       "                'plotly': ['https://cdn.plot.ly/plotly-latest.min']\n",
       "            }\n",
       "        });\n",
       "        require(['plotly'], function(Plotly) {\n",
       "            window._Plotly = Plotly;\n",
       "        });\n",
       "        }\n",
       "        </script>\n",
       "        "
      ]
     },
     "metadata": {},
     "output_type": "display_data"
    }
   ],
   "source": [
    "# For offline use\n",
    "cf.go_offline()"
   ]
  },
  {
   "cell_type": "markdown",
   "metadata": {},
   "source": [
    "### Fake Data"
   ]
  },
  {
   "cell_type": "code",
   "execution_count": 9,
   "metadata": {},
   "outputs": [],
   "source": [
    "df = pd.DataFrame(np.random.randn(100,4),columns='A B C D'.split())"
   ]
  },
  {
   "cell_type": "code",
   "execution_count": 10,
   "metadata": {},
   "outputs": [
    {
     "data": {
      "text/html": [
       "<div>\n",
       "<style scoped>\n",
       "    .dataframe tbody tr th:only-of-type {\n",
       "        vertical-align: middle;\n",
       "    }\n",
       "\n",
       "    .dataframe tbody tr th {\n",
       "        vertical-align: top;\n",
       "    }\n",
       "\n",
       "    .dataframe thead th {\n",
       "        text-align: right;\n",
       "    }\n",
       "</style>\n",
       "<table border=\"1\" class=\"dataframe\">\n",
       "  <thead>\n",
       "    <tr style=\"text-align: right;\">\n",
       "      <th></th>\n",
       "      <th>A</th>\n",
       "      <th>B</th>\n",
       "      <th>C</th>\n",
       "      <th>D</th>\n",
       "    </tr>\n",
       "  </thead>\n",
       "  <tbody>\n",
       "    <tr>\n",
       "      <th>0</th>\n",
       "      <td>-1.183315</td>\n",
       "      <td>-0.589898</td>\n",
       "      <td>0.356360</td>\n",
       "      <td>-0.681528</td>\n",
       "    </tr>\n",
       "    <tr>\n",
       "      <th>1</th>\n",
       "      <td>-1.750019</td>\n",
       "      <td>-1.703561</td>\n",
       "      <td>0.537858</td>\n",
       "      <td>0.683655</td>\n",
       "    </tr>\n",
       "    <tr>\n",
       "      <th>2</th>\n",
       "      <td>1.131726</td>\n",
       "      <td>0.411953</td>\n",
       "      <td>0.617330</td>\n",
       "      <td>1.160521</td>\n",
       "    </tr>\n",
       "    <tr>\n",
       "      <th>3</th>\n",
       "      <td>-0.414999</td>\n",
       "      <td>1.174820</td>\n",
       "      <td>0.210336</td>\n",
       "      <td>-0.133052</td>\n",
       "    </tr>\n",
       "    <tr>\n",
       "      <th>4</th>\n",
       "      <td>-0.554632</td>\n",
       "      <td>-0.287438</td>\n",
       "      <td>0.445953</td>\n",
       "      <td>-2.979500</td>\n",
       "    </tr>\n",
       "  </tbody>\n",
       "</table>\n",
       "</div>"
      ],
      "text/plain": [
       "          A         B         C         D\n",
       "0 -1.183315 -0.589898  0.356360 -0.681528\n",
       "1 -1.750019 -1.703561  0.537858  0.683655\n",
       "2  1.131726  0.411953  0.617330  1.160521\n",
       "3 -0.414999  1.174820  0.210336 -0.133052\n",
       "4 -0.554632 -0.287438  0.445953 -2.979500"
      ]
     },
     "execution_count": 10,
     "metadata": {},
     "output_type": "execute_result"
    }
   ],
   "source": [
    "df.head()"
   ]
  },
  {
   "cell_type": "code",
   "execution_count": 11,
   "metadata": {},
   "outputs": [],
   "source": [
    "df2 = pd.DataFrame({'Category':['A','B','C'],'Values':[32,43,50]})"
   ]
  },
  {
   "cell_type": "code",
   "execution_count": 12,
   "metadata": {},
   "outputs": [
    {
     "data": {
      "text/html": [
       "<div>\n",
       "<style scoped>\n",
       "    .dataframe tbody tr th:only-of-type {\n",
       "        vertical-align: middle;\n",
       "    }\n",
       "\n",
       "    .dataframe tbody tr th {\n",
       "        vertical-align: top;\n",
       "    }\n",
       "\n",
       "    .dataframe thead th {\n",
       "        text-align: right;\n",
       "    }\n",
       "</style>\n",
       "<table border=\"1\" class=\"dataframe\">\n",
       "  <thead>\n",
       "    <tr style=\"text-align: right;\">\n",
       "      <th></th>\n",
       "      <th>Category</th>\n",
       "      <th>Values</th>\n",
       "    </tr>\n",
       "  </thead>\n",
       "  <tbody>\n",
       "    <tr>\n",
       "      <th>0</th>\n",
       "      <td>A</td>\n",
       "      <td>32</td>\n",
       "    </tr>\n",
       "    <tr>\n",
       "      <th>1</th>\n",
       "      <td>B</td>\n",
       "      <td>43</td>\n",
       "    </tr>\n",
       "    <tr>\n",
       "      <th>2</th>\n",
       "      <td>C</td>\n",
       "      <td>50</td>\n",
       "    </tr>\n",
       "  </tbody>\n",
       "</table>\n",
       "</div>"
      ],
      "text/plain": [
       "  Category  Values\n",
       "0        A      32\n",
       "1        B      43\n",
       "2        C      50"
      ]
     },
     "execution_count": 12,
     "metadata": {},
     "output_type": "execute_result"
    }
   ],
   "source": [
    "df2.head()"
   ]
  },
  {
   "cell_type": "markdown",
   "metadata": {},
   "source": [
    "## Using Cufflinks and iplot()\n",
    "\n",
    "* scatter\n",
    "* bar\n",
    "* box\n",
    "* spread\n",
    "* ratio\n",
    "* heatmap\n",
    "* surface\n",
    "* histogram\n",
    "* bubble"
   ]
  },
  {
   "cell_type": "markdown",
   "metadata": {},
   "source": [
    "## Scatter"
   ]
  },
  {
   "cell_type": "code",
   "execution_count": 13,
   "metadata": {},
   "outputs": [
    {
     "data": {
      "application/vnd.plotly.v1+json": {
       "config": {
        "linkText": "Export to plot.ly",
        "plotlyServerURL": "https://plot.ly",
        "showLink": true
       },
       "data": [
        {
         "line": {
          "color": "rgba(255, 153, 51, 1.0)",
          "dash": "solid",
          "shape": "linear",
          "width": 1.3
         },
         "marker": {
          "size": 10,
          "symbol": "circle"
         },
         "mode": "markers",
         "name": "B",
         "text": "",
         "type": "scatter",
         "x": [
          -1.1833147841107685,
          -1.7500193061567437,
          1.131725711797192,
          -0.4149990629871035,
          -0.5546323136266743,
          0.30716715349814916,
          0.9307409446318613,
          1.1827126886991306,
          -0.36277765018746844,
          -1.1575863885269426,
          -0.8378908404057034,
          -0.3912685021276453,
          -1.3589334660637948,
          -0.9289435721940565,
          -0.7124449800398088,
          -1.6065487619933794,
          2.332208250292037,
          0.8026240180457727,
          -0.3270519336517877,
          -0.23711569943831692,
          -1.1574596670571589,
          0.6356964428430179,
          -1.1519757857088226,
          -3.8820799601324034,
          0.7723161251731423,
          2.065264810943613,
          0.02000222388239315,
          0.3991394917296089,
          0.945535911129008,
          -1.204940020191649,
          0.2502984273434721,
          0.4384717934478959,
          -0.3157678412237403,
          0.6107843478312683,
          1.4209487036819728,
          0.8379028557999306,
          1.402820371959644,
          -0.7644680156984743,
          3.3499358837402666,
          -0.2794976581737439,
          0.7120731738683018,
          0.46511545582490277,
          0.2695328720433325,
          1.6056065472068564,
          -0.5389598099942599,
          1.5665773988947163,
          0.06510700987045681,
          0.5239553353008185,
          0.019203296036346764,
          -0.4421735345591453,
          0.14516936021065513,
          1.0355126831038233,
          -0.023036701246943896,
          1.0388811679514585,
          -0.20672847201013142,
          0.1716283164432814,
          -1.9380850409091082,
          -0.5851204532923052,
          -1.9757006147510012,
          0.34022601382222384,
          0.5079218681199503,
          0.7631189321743553,
          0.96306713033488,
          -0.8121233094405356,
          -0.9882153281714651,
          -0.4845284460071705,
          -0.02570082243243427,
          -0.03400268620872826,
          0.5047792802117658,
          -2.279607145438385,
          -0.07385901857965435,
          -1.1771511696616481,
          -0.100857518160516,
          1.0189389924248553,
          -1.6986752286473015,
          -2.2268426553186775,
          -0.9201106764549231,
          -1.060674427588634,
          0.7607522685667668,
          0.1235188485203996,
          0.046532648289906525,
          -1.1751332884820118,
          -0.4914839965164748,
          -1.7497373291544116,
          -0.3786193081224398,
          -0.13885120042759355,
          -0.6706094005349879,
          -0.38208822846680607,
          1.1451940523399124,
          -1.5857540722581318,
          1.0235693577972806,
          -1.2530876758385363,
          0.07528977828068915,
          -0.4156784952599241,
          -0.29874608294387867,
          0.48755629016495683,
          0.23878761796209058,
          -0.20848531744749169,
          -0.0689143672965231,
          1.2984345736949008
         ],
         "y": [
          -0.5898979642836217,
          -1.7035606150240423,
          0.41195268107418087,
          1.1748195587973018,
          -0.2874381187037066,
          0.5750172963551519,
          -0.6918057201108602,
          1.175390395429051,
          -0.6050538557649577,
          0.0019096459897705962,
          -0.9231136810089464,
          -0.39323459451035514,
          2.244083134591712,
          -0.2882505022052697,
          0.2781543452345917,
          0.7078101611604473,
          0.10649678961373046,
          0.16738271233384605,
          -0.2463839532113507,
          1.895360391608483,
          0.5421372027154331,
          -0.6229051777303326,
          -0.10911768413612674,
          1.4985291313289495,
          0.46005062638417077,
          -1.5223404637630722,
          -0.8075314184354632,
          0.45644429253156205,
          -2.7984474908916193,
          -1.041201734145715,
          0.3375797120780502,
          0.7627293350558662,
          -0.4582718115207457,
          0.3293598357702051,
          0.46510675786566447,
          -3.4360205185224273,
          -1.3947339927310538,
          -0.5221562099881435,
          0.11844118831730661,
          -1.4766140798725693,
          0.19975507683724641,
          -0.9339711813555169,
          0.4620682372737366,
          -2.133616090565549,
          0.3832310677836281,
          0.7267988798691072,
          -0.7422830769123931,
          1.545527709647746,
          -0.7771822405729585,
          1.0400750382376254,
          -1.6855965797420718,
          -1.4495282515512824,
          -0.2038630140221456,
          0.5565767167842305,
          0.6853447643542557,
          -2.1016656826691626,
          0.7968165469168353,
          -1.9742291602109332,
          0.015884797000142253,
          -0.33292686237909414,
          -0.28126192873968675,
          -1.164288982256235,
          0.9531908259029911,
          -0.9663699340304098,
          -0.1407555700606715,
          -0.8902939391432672,
          -0.883753820359266,
          -0.7646362892146369,
          -0.13566886289315494,
          -0.6504629597466766,
          0.46657048242165916,
          0.7078080387334367,
          0.3506441991444549,
          1.3062316775097684,
          0.7666951256814395,
          -2.1761057499896372,
          1.0886646387882366,
          0.1398003837228066,
          1.1774220915886786,
          -1.5628528424355201,
          -0.02078033990114364,
          0.2881795839775908,
          -0.45384339986760425,
          0.8287228776149175,
          -0.47309173198761245,
          0.9618766946968291,
          2.086699961485107,
          -0.3923203335643365,
          -0.3489396871594183,
          0.38009544401220324,
          -1.5582853190566033,
          -2.316080376858616,
          -0.04888223868916067,
          1.4508778558136317,
          -1.0698703039694686,
          0.3906557706873268,
          -1.296791643711909,
          -1.0090503122907404,
          0.9509049308922853,
          -0.02878651143711458
         ]
        }
       ],
       "layout": {
        "legend": {
         "bgcolor": "#F5F6F9",
         "font": {
          "color": "#4D5663"
         }
        },
        "paper_bgcolor": "#F5F6F9",
        "plot_bgcolor": "#F5F6F9",
        "template": {
         "data": {
          "bar": [
           {
            "error_x": {
             "color": "#2a3f5f"
            },
            "error_y": {
             "color": "#2a3f5f"
            },
            "marker": {
             "line": {
              "color": "#E5ECF6",
              "width": 0.5
             }
            },
            "type": "bar"
           }
          ],
          "barpolar": [
           {
            "marker": {
             "line": {
              "color": "#E5ECF6",
              "width": 0.5
             }
            },
            "type": "barpolar"
           }
          ],
          "carpet": [
           {
            "aaxis": {
             "endlinecolor": "#2a3f5f",
             "gridcolor": "white",
             "linecolor": "white",
             "minorgridcolor": "white",
             "startlinecolor": "#2a3f5f"
            },
            "baxis": {
             "endlinecolor": "#2a3f5f",
             "gridcolor": "white",
             "linecolor": "white",
             "minorgridcolor": "white",
             "startlinecolor": "#2a3f5f"
            },
            "type": "carpet"
           }
          ],
          "choropleth": [
           {
            "colorbar": {
             "outlinewidth": 0,
             "ticks": ""
            },
            "type": "choropleth"
           }
          ],
          "contour": [
           {
            "colorbar": {
             "outlinewidth": 0,
             "ticks": ""
            },
            "colorscale": [
             [
              0,
              "#0d0887"
             ],
             [
              0.1111111111111111,
              "#46039f"
             ],
             [
              0.2222222222222222,
              "#7201a8"
             ],
             [
              0.3333333333333333,
              "#9c179e"
             ],
             [
              0.4444444444444444,
              "#bd3786"
             ],
             [
              0.5555555555555556,
              "#d8576b"
             ],
             [
              0.6666666666666666,
              "#ed7953"
             ],
             [
              0.7777777777777778,
              "#fb9f3a"
             ],
             [
              0.8888888888888888,
              "#fdca26"
             ],
             [
              1,
              "#f0f921"
             ]
            ],
            "type": "contour"
           }
          ],
          "contourcarpet": [
           {
            "colorbar": {
             "outlinewidth": 0,
             "ticks": ""
            },
            "type": "contourcarpet"
           }
          ],
          "heatmap": [
           {
            "colorbar": {
             "outlinewidth": 0,
             "ticks": ""
            },
            "colorscale": [
             [
              0,
              "#0d0887"
             ],
             [
              0.1111111111111111,
              "#46039f"
             ],
             [
              0.2222222222222222,
              "#7201a8"
             ],
             [
              0.3333333333333333,
              "#9c179e"
             ],
             [
              0.4444444444444444,
              "#bd3786"
             ],
             [
              0.5555555555555556,
              "#d8576b"
             ],
             [
              0.6666666666666666,
              "#ed7953"
             ],
             [
              0.7777777777777778,
              "#fb9f3a"
             ],
             [
              0.8888888888888888,
              "#fdca26"
             ],
             [
              1,
              "#f0f921"
             ]
            ],
            "type": "heatmap"
           }
          ],
          "heatmapgl": [
           {
            "colorbar": {
             "outlinewidth": 0,
             "ticks": ""
            },
            "colorscale": [
             [
              0,
              "#0d0887"
             ],
             [
              0.1111111111111111,
              "#46039f"
             ],
             [
              0.2222222222222222,
              "#7201a8"
             ],
             [
              0.3333333333333333,
              "#9c179e"
             ],
             [
              0.4444444444444444,
              "#bd3786"
             ],
             [
              0.5555555555555556,
              "#d8576b"
             ],
             [
              0.6666666666666666,
              "#ed7953"
             ],
             [
              0.7777777777777778,
              "#fb9f3a"
             ],
             [
              0.8888888888888888,
              "#fdca26"
             ],
             [
              1,
              "#f0f921"
             ]
            ],
            "type": "heatmapgl"
           }
          ],
          "histogram": [
           {
            "marker": {
             "colorbar": {
              "outlinewidth": 0,
              "ticks": ""
             }
            },
            "type": "histogram"
           }
          ],
          "histogram2d": [
           {
            "colorbar": {
             "outlinewidth": 0,
             "ticks": ""
            },
            "colorscale": [
             [
              0,
              "#0d0887"
             ],
             [
              0.1111111111111111,
              "#46039f"
             ],
             [
              0.2222222222222222,
              "#7201a8"
             ],
             [
              0.3333333333333333,
              "#9c179e"
             ],
             [
              0.4444444444444444,
              "#bd3786"
             ],
             [
              0.5555555555555556,
              "#d8576b"
             ],
             [
              0.6666666666666666,
              "#ed7953"
             ],
             [
              0.7777777777777778,
              "#fb9f3a"
             ],
             [
              0.8888888888888888,
              "#fdca26"
             ],
             [
              1,
              "#f0f921"
             ]
            ],
            "type": "histogram2d"
           }
          ],
          "histogram2dcontour": [
           {
            "colorbar": {
             "outlinewidth": 0,
             "ticks": ""
            },
            "colorscale": [
             [
              0,
              "#0d0887"
             ],
             [
              0.1111111111111111,
              "#46039f"
             ],
             [
              0.2222222222222222,
              "#7201a8"
             ],
             [
              0.3333333333333333,
              "#9c179e"
             ],
             [
              0.4444444444444444,
              "#bd3786"
             ],
             [
              0.5555555555555556,
              "#d8576b"
             ],
             [
              0.6666666666666666,
              "#ed7953"
             ],
             [
              0.7777777777777778,
              "#fb9f3a"
             ],
             [
              0.8888888888888888,
              "#fdca26"
             ],
             [
              1,
              "#f0f921"
             ]
            ],
            "type": "histogram2dcontour"
           }
          ],
          "mesh3d": [
           {
            "colorbar": {
             "outlinewidth": 0,
             "ticks": ""
            },
            "type": "mesh3d"
           }
          ],
          "parcoords": [
           {
            "line": {
             "colorbar": {
              "outlinewidth": 0,
              "ticks": ""
             }
            },
            "type": "parcoords"
           }
          ],
          "pie": [
           {
            "automargin": true,
            "type": "pie"
           }
          ],
          "scatter": [
           {
            "marker": {
             "colorbar": {
              "outlinewidth": 0,
              "ticks": ""
             }
            },
            "type": "scatter"
           }
          ],
          "scatter3d": [
           {
            "line": {
             "colorbar": {
              "outlinewidth": 0,
              "ticks": ""
             }
            },
            "marker": {
             "colorbar": {
              "outlinewidth": 0,
              "ticks": ""
             }
            },
            "type": "scatter3d"
           }
          ],
          "scattercarpet": [
           {
            "marker": {
             "colorbar": {
              "outlinewidth": 0,
              "ticks": ""
             }
            },
            "type": "scattercarpet"
           }
          ],
          "scattergeo": [
           {
            "marker": {
             "colorbar": {
              "outlinewidth": 0,
              "ticks": ""
             }
            },
            "type": "scattergeo"
           }
          ],
          "scattergl": [
           {
            "marker": {
             "colorbar": {
              "outlinewidth": 0,
              "ticks": ""
             }
            },
            "type": "scattergl"
           }
          ],
          "scattermapbox": [
           {
            "marker": {
             "colorbar": {
              "outlinewidth": 0,
              "ticks": ""
             }
            },
            "type": "scattermapbox"
           }
          ],
          "scatterpolar": [
           {
            "marker": {
             "colorbar": {
              "outlinewidth": 0,
              "ticks": ""
             }
            },
            "type": "scatterpolar"
           }
          ],
          "scatterpolargl": [
           {
            "marker": {
             "colorbar": {
              "outlinewidth": 0,
              "ticks": ""
             }
            },
            "type": "scatterpolargl"
           }
          ],
          "scatterternary": [
           {
            "marker": {
             "colorbar": {
              "outlinewidth": 0,
              "ticks": ""
             }
            },
            "type": "scatterternary"
           }
          ],
          "surface": [
           {
            "colorbar": {
             "outlinewidth": 0,
             "ticks": ""
            },
            "colorscale": [
             [
              0,
              "#0d0887"
             ],
             [
              0.1111111111111111,
              "#46039f"
             ],
             [
              0.2222222222222222,
              "#7201a8"
             ],
             [
              0.3333333333333333,
              "#9c179e"
             ],
             [
              0.4444444444444444,
              "#bd3786"
             ],
             [
              0.5555555555555556,
              "#d8576b"
             ],
             [
              0.6666666666666666,
              "#ed7953"
             ],
             [
              0.7777777777777778,
              "#fb9f3a"
             ],
             [
              0.8888888888888888,
              "#fdca26"
             ],
             [
              1,
              "#f0f921"
             ]
            ],
            "type": "surface"
           }
          ],
          "table": [
           {
            "cells": {
             "fill": {
              "color": "#EBF0F8"
             },
             "line": {
              "color": "white"
             }
            },
            "header": {
             "fill": {
              "color": "#C8D4E3"
             },
             "line": {
              "color": "white"
             }
            },
            "type": "table"
           }
          ]
         },
         "layout": {
          "annotationdefaults": {
           "arrowcolor": "#2a3f5f",
           "arrowhead": 0,
           "arrowwidth": 1
          },
          "coloraxis": {
           "colorbar": {
            "outlinewidth": 0,
            "ticks": ""
           }
          },
          "colorscale": {
           "diverging": [
            [
             0,
             "#8e0152"
            ],
            [
             0.1,
             "#c51b7d"
            ],
            [
             0.2,
             "#de77ae"
            ],
            [
             0.3,
             "#f1b6da"
            ],
            [
             0.4,
             "#fde0ef"
            ],
            [
             0.5,
             "#f7f7f7"
            ],
            [
             0.6,
             "#e6f5d0"
            ],
            [
             0.7,
             "#b8e186"
            ],
            [
             0.8,
             "#7fbc41"
            ],
            [
             0.9,
             "#4d9221"
            ],
            [
             1,
             "#276419"
            ]
           ],
           "sequential": [
            [
             0,
             "#0d0887"
            ],
            [
             0.1111111111111111,
             "#46039f"
            ],
            [
             0.2222222222222222,
             "#7201a8"
            ],
            [
             0.3333333333333333,
             "#9c179e"
            ],
            [
             0.4444444444444444,
             "#bd3786"
            ],
            [
             0.5555555555555556,
             "#d8576b"
            ],
            [
             0.6666666666666666,
             "#ed7953"
            ],
            [
             0.7777777777777778,
             "#fb9f3a"
            ],
            [
             0.8888888888888888,
             "#fdca26"
            ],
            [
             1,
             "#f0f921"
            ]
           ],
           "sequentialminus": [
            [
             0,
             "#0d0887"
            ],
            [
             0.1111111111111111,
             "#46039f"
            ],
            [
             0.2222222222222222,
             "#7201a8"
            ],
            [
             0.3333333333333333,
             "#9c179e"
            ],
            [
             0.4444444444444444,
             "#bd3786"
            ],
            [
             0.5555555555555556,
             "#d8576b"
            ],
            [
             0.6666666666666666,
             "#ed7953"
            ],
            [
             0.7777777777777778,
             "#fb9f3a"
            ],
            [
             0.8888888888888888,
             "#fdca26"
            ],
            [
             1,
             "#f0f921"
            ]
           ]
          },
          "colorway": [
           "#636efa",
           "#EF553B",
           "#00cc96",
           "#ab63fa",
           "#FFA15A",
           "#19d3f3",
           "#FF6692",
           "#B6E880",
           "#FF97FF",
           "#FECB52"
          ],
          "font": {
           "color": "#2a3f5f"
          },
          "geo": {
           "bgcolor": "white",
           "lakecolor": "white",
           "landcolor": "#E5ECF6",
           "showlakes": true,
           "showland": true,
           "subunitcolor": "white"
          },
          "hoverlabel": {
           "align": "left"
          },
          "hovermode": "closest",
          "mapbox": {
           "style": "light"
          },
          "paper_bgcolor": "white",
          "plot_bgcolor": "#E5ECF6",
          "polar": {
           "angularaxis": {
            "gridcolor": "white",
            "linecolor": "white",
            "ticks": ""
           },
           "bgcolor": "#E5ECF6",
           "radialaxis": {
            "gridcolor": "white",
            "linecolor": "white",
            "ticks": ""
           }
          },
          "scene": {
           "xaxis": {
            "backgroundcolor": "#E5ECF6",
            "gridcolor": "white",
            "gridwidth": 2,
            "linecolor": "white",
            "showbackground": true,
            "ticks": "",
            "zerolinecolor": "white"
           },
           "yaxis": {
            "backgroundcolor": "#E5ECF6",
            "gridcolor": "white",
            "gridwidth": 2,
            "linecolor": "white",
            "showbackground": true,
            "ticks": "",
            "zerolinecolor": "white"
           },
           "zaxis": {
            "backgroundcolor": "#E5ECF6",
            "gridcolor": "white",
            "gridwidth": 2,
            "linecolor": "white",
            "showbackground": true,
            "ticks": "",
            "zerolinecolor": "white"
           }
          },
          "shapedefaults": {
           "line": {
            "color": "#2a3f5f"
           }
          },
          "ternary": {
           "aaxis": {
            "gridcolor": "white",
            "linecolor": "white",
            "ticks": ""
           },
           "baxis": {
            "gridcolor": "white",
            "linecolor": "white",
            "ticks": ""
           },
           "bgcolor": "#E5ECF6",
           "caxis": {
            "gridcolor": "white",
            "linecolor": "white",
            "ticks": ""
           }
          },
          "title": {
           "x": 0.05
          },
          "xaxis": {
           "automargin": true,
           "gridcolor": "white",
           "linecolor": "white",
           "ticks": "",
           "title": {
            "standoff": 15
           },
           "zerolinecolor": "white",
           "zerolinewidth": 2
          },
          "yaxis": {
           "automargin": true,
           "gridcolor": "white",
           "linecolor": "white",
           "ticks": "",
           "title": {
            "standoff": 15
           },
           "zerolinecolor": "white",
           "zerolinewidth": 2
          }
         }
        },
        "title": {
         "font": {
          "color": "#4D5663"
         }
        },
        "xaxis": {
         "gridcolor": "#E1E5ED",
         "showgrid": true,
         "tickfont": {
          "color": "#4D5663"
         },
         "title": {
          "font": {
           "color": "#4D5663"
          },
          "text": ""
         },
         "zerolinecolor": "#E1E5ED"
        },
        "yaxis": {
         "gridcolor": "#E1E5ED",
         "showgrid": true,
         "tickfont": {
          "color": "#4D5663"
         },
         "title": {
          "font": {
           "color": "#4D5663"
          },
          "text": ""
         },
         "zerolinecolor": "#E1E5ED"
        }
       }
      },
      "text/html": [
       "<div>\n",
       "        \n",
       "        \n",
       "            <div id=\"4c9f9256-c409-4ed9-bcb6-2dca8911bb68\" class=\"plotly-graph-div\" style=\"height:525px; width:100%;\"></div>\n",
       "            <script type=\"text/javascript\">\n",
       "                require([\"plotly\"], function(Plotly) {\n",
       "                    window.PLOTLYENV=window.PLOTLYENV || {};\n",
       "                    window.PLOTLYENV.BASE_URL='https://plot.ly';\n",
       "                    \n",
       "                if (document.getElementById(\"4c9f9256-c409-4ed9-bcb6-2dca8911bb68\")) {\n",
       "                    Plotly.newPlot(\n",
       "                        '4c9f9256-c409-4ed9-bcb6-2dca8911bb68',\n",
       "                        [{\"line\": {\"color\": \"rgba(255, 153, 51, 1.0)\", \"dash\": \"solid\", \"shape\": \"linear\", \"width\": 1.3}, \"marker\": {\"size\": 10, \"symbol\": \"circle\"}, \"mode\": \"markers\", \"name\": \"B\", \"text\": \"\", \"type\": \"scatter\", \"x\": [-1.1833147841107685, -1.7500193061567437, 1.131725711797192, -0.4149990629871035, -0.5546323136266743, 0.30716715349814916, 0.9307409446318613, 1.1827126886991306, -0.36277765018746844, -1.1575863885269426, -0.8378908404057034, -0.3912685021276453, -1.3589334660637948, -0.9289435721940565, -0.7124449800398088, -1.6065487619933794, 2.332208250292037, 0.8026240180457727, -0.3270519336517877, -0.23711569943831692, -1.1574596670571589, 0.6356964428430179, -1.1519757857088226, -3.8820799601324034, 0.7723161251731423, 2.065264810943613, 0.02000222388239315, 0.3991394917296089, 0.945535911129008, -1.204940020191649, 0.2502984273434721, 0.4384717934478959, -0.3157678412237403, 0.6107843478312683, 1.4209487036819728, 0.8379028557999306, 1.402820371959644, -0.7644680156984743, 3.3499358837402666, -0.2794976581737439, 0.7120731738683018, 0.46511545582490277, 0.2695328720433325, 1.6056065472068564, -0.5389598099942599, 1.5665773988947163, 0.06510700987045681, 0.5239553353008185, 0.019203296036346764, -0.4421735345591453, 0.14516936021065513, 1.0355126831038233, -0.023036701246943896, 1.0388811679514585, -0.20672847201013142, 0.1716283164432814, -1.9380850409091082, -0.5851204532923052, -1.9757006147510012, 0.34022601382222384, 0.5079218681199503, 0.7631189321743553, 0.96306713033488, -0.8121233094405356, -0.9882153281714651, -0.4845284460071705, -0.02570082243243427, -0.03400268620872826, 0.5047792802117658, -2.279607145438385, -0.07385901857965435, -1.1771511696616481, -0.100857518160516, 1.0189389924248553, -1.6986752286473015, -2.2268426553186775, -0.9201106764549231, -1.060674427588634, 0.7607522685667668, 0.1235188485203996, 0.046532648289906525, -1.1751332884820118, -0.4914839965164748, -1.7497373291544116, -0.3786193081224398, -0.13885120042759355, -0.6706094005349879, -0.38208822846680607, 1.1451940523399124, -1.5857540722581318, 1.0235693577972806, -1.2530876758385363, 0.07528977828068915, -0.4156784952599241, -0.29874608294387867, 0.48755629016495683, 0.23878761796209058, -0.20848531744749169, -0.0689143672965231, 1.2984345736949008], \"y\": [-0.5898979642836217, -1.7035606150240423, 0.41195268107418087, 1.1748195587973018, -0.2874381187037066, 0.5750172963551519, -0.6918057201108602, 1.175390395429051, -0.6050538557649577, 0.0019096459897705962, -0.9231136810089464, -0.39323459451035514, 2.244083134591712, -0.2882505022052697, 0.2781543452345917, 0.7078101611604473, 0.10649678961373046, 0.16738271233384605, -0.2463839532113507, 1.895360391608483, 0.5421372027154331, -0.6229051777303326, -0.10911768413612674, 1.4985291313289495, 0.46005062638417077, -1.5223404637630722, -0.8075314184354632, 0.45644429253156205, -2.7984474908916193, -1.041201734145715, 0.3375797120780502, 0.7627293350558662, -0.4582718115207457, 0.3293598357702051, 0.46510675786566447, -3.4360205185224273, -1.3947339927310538, -0.5221562099881435, 0.11844118831730661, -1.4766140798725693, 0.19975507683724641, -0.9339711813555169, 0.4620682372737366, -2.133616090565549, 0.3832310677836281, 0.7267988798691072, -0.7422830769123931, 1.545527709647746, -0.7771822405729585, 1.0400750382376254, -1.6855965797420718, -1.4495282515512824, -0.2038630140221456, 0.5565767167842305, 0.6853447643542557, -2.1016656826691626, 0.7968165469168353, -1.9742291602109332, 0.015884797000142253, -0.33292686237909414, -0.28126192873968675, -1.164288982256235, 0.9531908259029911, -0.9663699340304098, -0.1407555700606715, -0.8902939391432672, -0.883753820359266, -0.7646362892146369, -0.13566886289315494, -0.6504629597466766, 0.46657048242165916, 0.7078080387334367, 0.3506441991444549, 1.3062316775097684, 0.7666951256814395, -2.1761057499896372, 1.0886646387882366, 0.1398003837228066, 1.1774220915886786, -1.5628528424355201, -0.02078033990114364, 0.2881795839775908, -0.45384339986760425, 0.8287228776149175, -0.47309173198761245, 0.9618766946968291, 2.086699961485107, -0.3923203335643365, -0.3489396871594183, 0.38009544401220324, -1.5582853190566033, -2.316080376858616, -0.04888223868916067, 1.4508778558136317, -1.0698703039694686, 0.3906557706873268, -1.296791643711909, -1.0090503122907404, 0.9509049308922853, -0.02878651143711458]}],\n",
       "                        {\"legend\": {\"bgcolor\": \"#F5F6F9\", \"font\": {\"color\": \"#4D5663\"}}, \"paper_bgcolor\": \"#F5F6F9\", \"plot_bgcolor\": \"#F5F6F9\", \"template\": {\"data\": {\"bar\": [{\"error_x\": {\"color\": \"#2a3f5f\"}, \"error_y\": {\"color\": \"#2a3f5f\"}, \"marker\": {\"line\": {\"color\": \"#E5ECF6\", \"width\": 0.5}}, \"type\": \"bar\"}], \"barpolar\": [{\"marker\": {\"line\": {\"color\": \"#E5ECF6\", \"width\": 0.5}}, \"type\": \"barpolar\"}], \"carpet\": [{\"aaxis\": {\"endlinecolor\": \"#2a3f5f\", \"gridcolor\": \"white\", \"linecolor\": \"white\", \"minorgridcolor\": \"white\", \"startlinecolor\": \"#2a3f5f\"}, \"baxis\": {\"endlinecolor\": \"#2a3f5f\", \"gridcolor\": \"white\", \"linecolor\": \"white\", \"minorgridcolor\": \"white\", \"startlinecolor\": \"#2a3f5f\"}, \"type\": \"carpet\"}], \"choropleth\": [{\"colorbar\": {\"outlinewidth\": 0, \"ticks\": \"\"}, \"type\": \"choropleth\"}], \"contour\": [{\"colorbar\": {\"outlinewidth\": 0, \"ticks\": \"\"}, \"colorscale\": [[0.0, \"#0d0887\"], [0.1111111111111111, \"#46039f\"], [0.2222222222222222, \"#7201a8\"], [0.3333333333333333, \"#9c179e\"], [0.4444444444444444, \"#bd3786\"], [0.5555555555555556, \"#d8576b\"], [0.6666666666666666, \"#ed7953\"], [0.7777777777777778, \"#fb9f3a\"], [0.8888888888888888, \"#fdca26\"], [1.0, \"#f0f921\"]], \"type\": \"contour\"}], \"contourcarpet\": [{\"colorbar\": {\"outlinewidth\": 0, \"ticks\": \"\"}, \"type\": \"contourcarpet\"}], \"heatmap\": [{\"colorbar\": {\"outlinewidth\": 0, \"ticks\": \"\"}, \"colorscale\": [[0.0, \"#0d0887\"], [0.1111111111111111, \"#46039f\"], [0.2222222222222222, \"#7201a8\"], [0.3333333333333333, \"#9c179e\"], [0.4444444444444444, \"#bd3786\"], [0.5555555555555556, \"#d8576b\"], [0.6666666666666666, \"#ed7953\"], [0.7777777777777778, \"#fb9f3a\"], [0.8888888888888888, \"#fdca26\"], [1.0, \"#f0f921\"]], \"type\": \"heatmap\"}], \"heatmapgl\": [{\"colorbar\": {\"outlinewidth\": 0, \"ticks\": \"\"}, \"colorscale\": [[0.0, \"#0d0887\"], [0.1111111111111111, \"#46039f\"], [0.2222222222222222, \"#7201a8\"], [0.3333333333333333, \"#9c179e\"], [0.4444444444444444, \"#bd3786\"], [0.5555555555555556, \"#d8576b\"], [0.6666666666666666, \"#ed7953\"], [0.7777777777777778, \"#fb9f3a\"], [0.8888888888888888, \"#fdca26\"], [1.0, \"#f0f921\"]], \"type\": \"heatmapgl\"}], \"histogram\": [{\"marker\": {\"colorbar\": {\"outlinewidth\": 0, \"ticks\": \"\"}}, \"type\": \"histogram\"}], \"histogram2d\": [{\"colorbar\": {\"outlinewidth\": 0, \"ticks\": \"\"}, \"colorscale\": [[0.0, \"#0d0887\"], [0.1111111111111111, \"#46039f\"], [0.2222222222222222, \"#7201a8\"], [0.3333333333333333, \"#9c179e\"], [0.4444444444444444, \"#bd3786\"], [0.5555555555555556, \"#d8576b\"], [0.6666666666666666, \"#ed7953\"], [0.7777777777777778, \"#fb9f3a\"], [0.8888888888888888, \"#fdca26\"], [1.0, \"#f0f921\"]], \"type\": \"histogram2d\"}], \"histogram2dcontour\": [{\"colorbar\": {\"outlinewidth\": 0, \"ticks\": \"\"}, \"colorscale\": [[0.0, \"#0d0887\"], [0.1111111111111111, \"#46039f\"], [0.2222222222222222, \"#7201a8\"], [0.3333333333333333, \"#9c179e\"], [0.4444444444444444, \"#bd3786\"], [0.5555555555555556, \"#d8576b\"], [0.6666666666666666, \"#ed7953\"], [0.7777777777777778, \"#fb9f3a\"], [0.8888888888888888, \"#fdca26\"], [1.0, \"#f0f921\"]], \"type\": \"histogram2dcontour\"}], \"mesh3d\": [{\"colorbar\": {\"outlinewidth\": 0, \"ticks\": \"\"}, \"type\": \"mesh3d\"}], \"parcoords\": [{\"line\": {\"colorbar\": {\"outlinewidth\": 0, \"ticks\": \"\"}}, \"type\": \"parcoords\"}], \"pie\": [{\"automargin\": true, \"type\": \"pie\"}], \"scatter\": [{\"marker\": {\"colorbar\": {\"outlinewidth\": 0, \"ticks\": \"\"}}, \"type\": \"scatter\"}], \"scatter3d\": [{\"line\": {\"colorbar\": {\"outlinewidth\": 0, \"ticks\": \"\"}}, \"marker\": {\"colorbar\": {\"outlinewidth\": 0, \"ticks\": \"\"}}, \"type\": \"scatter3d\"}], \"scattercarpet\": [{\"marker\": {\"colorbar\": {\"outlinewidth\": 0, \"ticks\": \"\"}}, \"type\": \"scattercarpet\"}], \"scattergeo\": [{\"marker\": {\"colorbar\": {\"outlinewidth\": 0, \"ticks\": \"\"}}, \"type\": \"scattergeo\"}], \"scattergl\": [{\"marker\": {\"colorbar\": {\"outlinewidth\": 0, \"ticks\": \"\"}}, \"type\": \"scattergl\"}], \"scattermapbox\": [{\"marker\": {\"colorbar\": {\"outlinewidth\": 0, \"ticks\": \"\"}}, \"type\": \"scattermapbox\"}], \"scatterpolar\": [{\"marker\": {\"colorbar\": {\"outlinewidth\": 0, \"ticks\": \"\"}}, \"type\": \"scatterpolar\"}], \"scatterpolargl\": [{\"marker\": {\"colorbar\": {\"outlinewidth\": 0, \"ticks\": \"\"}}, \"type\": \"scatterpolargl\"}], \"scatterternary\": [{\"marker\": {\"colorbar\": {\"outlinewidth\": 0, \"ticks\": \"\"}}, \"type\": \"scatterternary\"}], \"surface\": [{\"colorbar\": {\"outlinewidth\": 0, \"ticks\": \"\"}, \"colorscale\": [[0.0, \"#0d0887\"], [0.1111111111111111, \"#46039f\"], [0.2222222222222222, \"#7201a8\"], [0.3333333333333333, \"#9c179e\"], [0.4444444444444444, \"#bd3786\"], [0.5555555555555556, \"#d8576b\"], [0.6666666666666666, \"#ed7953\"], [0.7777777777777778, \"#fb9f3a\"], [0.8888888888888888, \"#fdca26\"], [1.0, \"#f0f921\"]], \"type\": \"surface\"}], \"table\": [{\"cells\": {\"fill\": {\"color\": \"#EBF0F8\"}, \"line\": {\"color\": \"white\"}}, \"header\": {\"fill\": {\"color\": \"#C8D4E3\"}, \"line\": {\"color\": \"white\"}}, \"type\": \"table\"}]}, \"layout\": {\"annotationdefaults\": {\"arrowcolor\": \"#2a3f5f\", \"arrowhead\": 0, \"arrowwidth\": 1}, \"coloraxis\": {\"colorbar\": {\"outlinewidth\": 0, \"ticks\": \"\"}}, \"colorscale\": {\"diverging\": [[0, \"#8e0152\"], [0.1, \"#c51b7d\"], [0.2, \"#de77ae\"], [0.3, \"#f1b6da\"], [0.4, \"#fde0ef\"], [0.5, \"#f7f7f7\"], [0.6, \"#e6f5d0\"], [0.7, \"#b8e186\"], [0.8, \"#7fbc41\"], [0.9, \"#4d9221\"], [1, \"#276419\"]], \"sequential\": [[0.0, \"#0d0887\"], [0.1111111111111111, \"#46039f\"], [0.2222222222222222, \"#7201a8\"], [0.3333333333333333, \"#9c179e\"], [0.4444444444444444, \"#bd3786\"], [0.5555555555555556, \"#d8576b\"], [0.6666666666666666, \"#ed7953\"], [0.7777777777777778, \"#fb9f3a\"], [0.8888888888888888, \"#fdca26\"], [1.0, \"#f0f921\"]], \"sequentialminus\": [[0.0, \"#0d0887\"], [0.1111111111111111, \"#46039f\"], [0.2222222222222222, \"#7201a8\"], [0.3333333333333333, \"#9c179e\"], [0.4444444444444444, \"#bd3786\"], [0.5555555555555556, \"#d8576b\"], [0.6666666666666666, \"#ed7953\"], [0.7777777777777778, \"#fb9f3a\"], [0.8888888888888888, \"#fdca26\"], [1.0, \"#f0f921\"]]}, \"colorway\": [\"#636efa\", \"#EF553B\", \"#00cc96\", \"#ab63fa\", \"#FFA15A\", \"#19d3f3\", \"#FF6692\", \"#B6E880\", \"#FF97FF\", \"#FECB52\"], \"font\": {\"color\": \"#2a3f5f\"}, \"geo\": {\"bgcolor\": \"white\", \"lakecolor\": \"white\", \"landcolor\": \"#E5ECF6\", \"showlakes\": true, \"showland\": true, \"subunitcolor\": \"white\"}, \"hoverlabel\": {\"align\": \"left\"}, \"hovermode\": \"closest\", \"mapbox\": {\"style\": \"light\"}, \"paper_bgcolor\": \"white\", \"plot_bgcolor\": \"#E5ECF6\", \"polar\": {\"angularaxis\": {\"gridcolor\": \"white\", \"linecolor\": \"white\", \"ticks\": \"\"}, \"bgcolor\": \"#E5ECF6\", \"radialaxis\": {\"gridcolor\": \"white\", \"linecolor\": \"white\", \"ticks\": \"\"}}, \"scene\": {\"xaxis\": {\"backgroundcolor\": \"#E5ECF6\", \"gridcolor\": \"white\", \"gridwidth\": 2, \"linecolor\": \"white\", \"showbackground\": true, \"ticks\": \"\", \"zerolinecolor\": \"white\"}, \"yaxis\": {\"backgroundcolor\": \"#E5ECF6\", \"gridcolor\": \"white\", \"gridwidth\": 2, \"linecolor\": \"white\", \"showbackground\": true, \"ticks\": \"\", \"zerolinecolor\": \"white\"}, \"zaxis\": {\"backgroundcolor\": \"#E5ECF6\", \"gridcolor\": \"white\", \"gridwidth\": 2, \"linecolor\": \"white\", \"showbackground\": true, \"ticks\": \"\", \"zerolinecolor\": \"white\"}}, \"shapedefaults\": {\"line\": {\"color\": \"#2a3f5f\"}}, \"ternary\": {\"aaxis\": {\"gridcolor\": \"white\", \"linecolor\": \"white\", \"ticks\": \"\"}, \"baxis\": {\"gridcolor\": \"white\", \"linecolor\": \"white\", \"ticks\": \"\"}, \"bgcolor\": \"#E5ECF6\", \"caxis\": {\"gridcolor\": \"white\", \"linecolor\": \"white\", \"ticks\": \"\"}}, \"title\": {\"x\": 0.05}, \"xaxis\": {\"automargin\": true, \"gridcolor\": \"white\", \"linecolor\": \"white\", \"ticks\": \"\", \"title\": {\"standoff\": 15}, \"zerolinecolor\": \"white\", \"zerolinewidth\": 2}, \"yaxis\": {\"automargin\": true, \"gridcolor\": \"white\", \"linecolor\": \"white\", \"ticks\": \"\", \"title\": {\"standoff\": 15}, \"zerolinecolor\": \"white\", \"zerolinewidth\": 2}}}, \"title\": {\"font\": {\"color\": \"#4D5663\"}}, \"xaxis\": {\"gridcolor\": \"#E1E5ED\", \"showgrid\": true, \"tickfont\": {\"color\": \"#4D5663\"}, \"title\": {\"font\": {\"color\": \"#4D5663\"}, \"text\": \"\"}, \"zerolinecolor\": \"#E1E5ED\"}, \"yaxis\": {\"gridcolor\": \"#E1E5ED\", \"showgrid\": true, \"tickfont\": {\"color\": \"#4D5663\"}, \"title\": {\"font\": {\"color\": \"#4D5663\"}, \"text\": \"\"}, \"zerolinecolor\": \"#E1E5ED\"}},\n",
       "                        {\"showLink\": true, \"linkText\": \"Export to plot.ly\", \"plotlyServerURL\": \"https://plot.ly\", \"responsive\": true}\n",
       "                    ).then(function(){\n",
       "                            \n",
       "var gd = document.getElementById('4c9f9256-c409-4ed9-bcb6-2dca8911bb68');\n",
       "var x = new MutationObserver(function (mutations, observer) {{\n",
       "        var display = window.getComputedStyle(gd).display;\n",
       "        if (!display || display === 'none') {{\n",
       "            console.log([gd, 'removed!']);\n",
       "            Plotly.purge(gd);\n",
       "            observer.disconnect();\n",
       "        }}\n",
       "}});\n",
       "\n",
       "// Listen for the removal of the full notebook cells\n",
       "var notebookContainer = gd.closest('#notebook-container');\n",
       "if (notebookContainer) {{\n",
       "    x.observe(notebookContainer, {childList: true});\n",
       "}}\n",
       "\n",
       "// Listen for the clearing of the current output cell\n",
       "var outputEl = gd.closest('.output');\n",
       "if (outputEl) {{\n",
       "    x.observe(outputEl, {childList: true});\n",
       "}}\n",
       "\n",
       "                        })\n",
       "                };\n",
       "                });\n",
       "            </script>\n",
       "        </div>"
      ]
     },
     "metadata": {},
     "output_type": "display_data"
    }
   ],
   "source": [
    "df.iplot(kind='scatter',x='A',y='B',mode='markers',size=10)"
   ]
  },
  {
   "cell_type": "markdown",
   "metadata": {},
   "source": [
    "## Bar Plots"
   ]
  },
  {
   "cell_type": "code",
   "execution_count": 16,
   "metadata": {},
   "outputs": [
    {
     "data": {
      "application/vnd.plotly.v1+json": {
       "config": {
        "linkText": "Export to plot.ly",
        "plotlyServerURL": "https://plot.ly",
        "showLink": true
       },
       "data": [
        {
         "marker": {
          "color": "rgba(255, 153, 51, 0.6)",
          "line": {
           "color": "rgba(255, 153, 51, 1.0)",
           "width": 1
          }
         },
         "name": "Values",
         "orientation": "v",
         "text": "",
         "type": "bar",
         "x": [
          "A",
          "B",
          "C"
         ],
         "y": [
          32,
          43,
          50
         ]
        }
       ],
       "layout": {
        "legend": {
         "bgcolor": "#F5F6F9",
         "font": {
          "color": "#4D5663"
         }
        },
        "paper_bgcolor": "#F5F6F9",
        "plot_bgcolor": "#F5F6F9",
        "template": {
         "data": {
          "bar": [
           {
            "error_x": {
             "color": "#2a3f5f"
            },
            "error_y": {
             "color": "#2a3f5f"
            },
            "marker": {
             "line": {
              "color": "#E5ECF6",
              "width": 0.5
             }
            },
            "type": "bar"
           }
          ],
          "barpolar": [
           {
            "marker": {
             "line": {
              "color": "#E5ECF6",
              "width": 0.5
             }
            },
            "type": "barpolar"
           }
          ],
          "carpet": [
           {
            "aaxis": {
             "endlinecolor": "#2a3f5f",
             "gridcolor": "white",
             "linecolor": "white",
             "minorgridcolor": "white",
             "startlinecolor": "#2a3f5f"
            },
            "baxis": {
             "endlinecolor": "#2a3f5f",
             "gridcolor": "white",
             "linecolor": "white",
             "minorgridcolor": "white",
             "startlinecolor": "#2a3f5f"
            },
            "type": "carpet"
           }
          ],
          "choropleth": [
           {
            "colorbar": {
             "outlinewidth": 0,
             "ticks": ""
            },
            "type": "choropleth"
           }
          ],
          "contour": [
           {
            "colorbar": {
             "outlinewidth": 0,
             "ticks": ""
            },
            "colorscale": [
             [
              0,
              "#0d0887"
             ],
             [
              0.1111111111111111,
              "#46039f"
             ],
             [
              0.2222222222222222,
              "#7201a8"
             ],
             [
              0.3333333333333333,
              "#9c179e"
             ],
             [
              0.4444444444444444,
              "#bd3786"
             ],
             [
              0.5555555555555556,
              "#d8576b"
             ],
             [
              0.6666666666666666,
              "#ed7953"
             ],
             [
              0.7777777777777778,
              "#fb9f3a"
             ],
             [
              0.8888888888888888,
              "#fdca26"
             ],
             [
              1,
              "#f0f921"
             ]
            ],
            "type": "contour"
           }
          ],
          "contourcarpet": [
           {
            "colorbar": {
             "outlinewidth": 0,
             "ticks": ""
            },
            "type": "contourcarpet"
           }
          ],
          "heatmap": [
           {
            "colorbar": {
             "outlinewidth": 0,
             "ticks": ""
            },
            "colorscale": [
             [
              0,
              "#0d0887"
             ],
             [
              0.1111111111111111,
              "#46039f"
             ],
             [
              0.2222222222222222,
              "#7201a8"
             ],
             [
              0.3333333333333333,
              "#9c179e"
             ],
             [
              0.4444444444444444,
              "#bd3786"
             ],
             [
              0.5555555555555556,
              "#d8576b"
             ],
             [
              0.6666666666666666,
              "#ed7953"
             ],
             [
              0.7777777777777778,
              "#fb9f3a"
             ],
             [
              0.8888888888888888,
              "#fdca26"
             ],
             [
              1,
              "#f0f921"
             ]
            ],
            "type": "heatmap"
           }
          ],
          "heatmapgl": [
           {
            "colorbar": {
             "outlinewidth": 0,
             "ticks": ""
            },
            "colorscale": [
             [
              0,
              "#0d0887"
             ],
             [
              0.1111111111111111,
              "#46039f"
             ],
             [
              0.2222222222222222,
              "#7201a8"
             ],
             [
              0.3333333333333333,
              "#9c179e"
             ],
             [
              0.4444444444444444,
              "#bd3786"
             ],
             [
              0.5555555555555556,
              "#d8576b"
             ],
             [
              0.6666666666666666,
              "#ed7953"
             ],
             [
              0.7777777777777778,
              "#fb9f3a"
             ],
             [
              0.8888888888888888,
              "#fdca26"
             ],
             [
              1,
              "#f0f921"
             ]
            ],
            "type": "heatmapgl"
           }
          ],
          "histogram": [
           {
            "marker": {
             "colorbar": {
              "outlinewidth": 0,
              "ticks": ""
             }
            },
            "type": "histogram"
           }
          ],
          "histogram2d": [
           {
            "colorbar": {
             "outlinewidth": 0,
             "ticks": ""
            },
            "colorscale": [
             [
              0,
              "#0d0887"
             ],
             [
              0.1111111111111111,
              "#46039f"
             ],
             [
              0.2222222222222222,
              "#7201a8"
             ],
             [
              0.3333333333333333,
              "#9c179e"
             ],
             [
              0.4444444444444444,
              "#bd3786"
             ],
             [
              0.5555555555555556,
              "#d8576b"
             ],
             [
              0.6666666666666666,
              "#ed7953"
             ],
             [
              0.7777777777777778,
              "#fb9f3a"
             ],
             [
              0.8888888888888888,
              "#fdca26"
             ],
             [
              1,
              "#f0f921"
             ]
            ],
            "type": "histogram2d"
           }
          ],
          "histogram2dcontour": [
           {
            "colorbar": {
             "outlinewidth": 0,
             "ticks": ""
            },
            "colorscale": [
             [
              0,
              "#0d0887"
             ],
             [
              0.1111111111111111,
              "#46039f"
             ],
             [
              0.2222222222222222,
              "#7201a8"
             ],
             [
              0.3333333333333333,
              "#9c179e"
             ],
             [
              0.4444444444444444,
              "#bd3786"
             ],
             [
              0.5555555555555556,
              "#d8576b"
             ],
             [
              0.6666666666666666,
              "#ed7953"
             ],
             [
              0.7777777777777778,
              "#fb9f3a"
             ],
             [
              0.8888888888888888,
              "#fdca26"
             ],
             [
              1,
              "#f0f921"
             ]
            ],
            "type": "histogram2dcontour"
           }
          ],
          "mesh3d": [
           {
            "colorbar": {
             "outlinewidth": 0,
             "ticks": ""
            },
            "type": "mesh3d"
           }
          ],
          "parcoords": [
           {
            "line": {
             "colorbar": {
              "outlinewidth": 0,
              "ticks": ""
             }
            },
            "type": "parcoords"
           }
          ],
          "pie": [
           {
            "automargin": true,
            "type": "pie"
           }
          ],
          "scatter": [
           {
            "marker": {
             "colorbar": {
              "outlinewidth": 0,
              "ticks": ""
             }
            },
            "type": "scatter"
           }
          ],
          "scatter3d": [
           {
            "line": {
             "colorbar": {
              "outlinewidth": 0,
              "ticks": ""
             }
            },
            "marker": {
             "colorbar": {
              "outlinewidth": 0,
              "ticks": ""
             }
            },
            "type": "scatter3d"
           }
          ],
          "scattercarpet": [
           {
            "marker": {
             "colorbar": {
              "outlinewidth": 0,
              "ticks": ""
             }
            },
            "type": "scattercarpet"
           }
          ],
          "scattergeo": [
           {
            "marker": {
             "colorbar": {
              "outlinewidth": 0,
              "ticks": ""
             }
            },
            "type": "scattergeo"
           }
          ],
          "scattergl": [
           {
            "marker": {
             "colorbar": {
              "outlinewidth": 0,
              "ticks": ""
             }
            },
            "type": "scattergl"
           }
          ],
          "scattermapbox": [
           {
            "marker": {
             "colorbar": {
              "outlinewidth": 0,
              "ticks": ""
             }
            },
            "type": "scattermapbox"
           }
          ],
          "scatterpolar": [
           {
            "marker": {
             "colorbar": {
              "outlinewidth": 0,
              "ticks": ""
             }
            },
            "type": "scatterpolar"
           }
          ],
          "scatterpolargl": [
           {
            "marker": {
             "colorbar": {
              "outlinewidth": 0,
              "ticks": ""
             }
            },
            "type": "scatterpolargl"
           }
          ],
          "scatterternary": [
           {
            "marker": {
             "colorbar": {
              "outlinewidth": 0,
              "ticks": ""
             }
            },
            "type": "scatterternary"
           }
          ],
          "surface": [
           {
            "colorbar": {
             "outlinewidth": 0,
             "ticks": ""
            },
            "colorscale": [
             [
              0,
              "#0d0887"
             ],
             [
              0.1111111111111111,
              "#46039f"
             ],
             [
              0.2222222222222222,
              "#7201a8"
             ],
             [
              0.3333333333333333,
              "#9c179e"
             ],
             [
              0.4444444444444444,
              "#bd3786"
             ],
             [
              0.5555555555555556,
              "#d8576b"
             ],
             [
              0.6666666666666666,
              "#ed7953"
             ],
             [
              0.7777777777777778,
              "#fb9f3a"
             ],
             [
              0.8888888888888888,
              "#fdca26"
             ],
             [
              1,
              "#f0f921"
             ]
            ],
            "type": "surface"
           }
          ],
          "table": [
           {
            "cells": {
             "fill": {
              "color": "#EBF0F8"
             },
             "line": {
              "color": "white"
             }
            },
            "header": {
             "fill": {
              "color": "#C8D4E3"
             },
             "line": {
              "color": "white"
             }
            },
            "type": "table"
           }
          ]
         },
         "layout": {
          "annotationdefaults": {
           "arrowcolor": "#2a3f5f",
           "arrowhead": 0,
           "arrowwidth": 1
          },
          "coloraxis": {
           "colorbar": {
            "outlinewidth": 0,
            "ticks": ""
           }
          },
          "colorscale": {
           "diverging": [
            [
             0,
             "#8e0152"
            ],
            [
             0.1,
             "#c51b7d"
            ],
            [
             0.2,
             "#de77ae"
            ],
            [
             0.3,
             "#f1b6da"
            ],
            [
             0.4,
             "#fde0ef"
            ],
            [
             0.5,
             "#f7f7f7"
            ],
            [
             0.6,
             "#e6f5d0"
            ],
            [
             0.7,
             "#b8e186"
            ],
            [
             0.8,
             "#7fbc41"
            ],
            [
             0.9,
             "#4d9221"
            ],
            [
             1,
             "#276419"
            ]
           ],
           "sequential": [
            [
             0,
             "#0d0887"
            ],
            [
             0.1111111111111111,
             "#46039f"
            ],
            [
             0.2222222222222222,
             "#7201a8"
            ],
            [
             0.3333333333333333,
             "#9c179e"
            ],
            [
             0.4444444444444444,
             "#bd3786"
            ],
            [
             0.5555555555555556,
             "#d8576b"
            ],
            [
             0.6666666666666666,
             "#ed7953"
            ],
            [
             0.7777777777777778,
             "#fb9f3a"
            ],
            [
             0.8888888888888888,
             "#fdca26"
            ],
            [
             1,
             "#f0f921"
            ]
           ],
           "sequentialminus": [
            [
             0,
             "#0d0887"
            ],
            [
             0.1111111111111111,
             "#46039f"
            ],
            [
             0.2222222222222222,
             "#7201a8"
            ],
            [
             0.3333333333333333,
             "#9c179e"
            ],
            [
             0.4444444444444444,
             "#bd3786"
            ],
            [
             0.5555555555555556,
             "#d8576b"
            ],
            [
             0.6666666666666666,
             "#ed7953"
            ],
            [
             0.7777777777777778,
             "#fb9f3a"
            ],
            [
             0.8888888888888888,
             "#fdca26"
            ],
            [
             1,
             "#f0f921"
            ]
           ]
          },
          "colorway": [
           "#636efa",
           "#EF553B",
           "#00cc96",
           "#ab63fa",
           "#FFA15A",
           "#19d3f3",
           "#FF6692",
           "#B6E880",
           "#FF97FF",
           "#FECB52"
          ],
          "font": {
           "color": "#2a3f5f"
          },
          "geo": {
           "bgcolor": "white",
           "lakecolor": "white",
           "landcolor": "#E5ECF6",
           "showlakes": true,
           "showland": true,
           "subunitcolor": "white"
          },
          "hoverlabel": {
           "align": "left"
          },
          "hovermode": "closest",
          "mapbox": {
           "style": "light"
          },
          "paper_bgcolor": "white",
          "plot_bgcolor": "#E5ECF6",
          "polar": {
           "angularaxis": {
            "gridcolor": "white",
            "linecolor": "white",
            "ticks": ""
           },
           "bgcolor": "#E5ECF6",
           "radialaxis": {
            "gridcolor": "white",
            "linecolor": "white",
            "ticks": ""
           }
          },
          "scene": {
           "xaxis": {
            "backgroundcolor": "#E5ECF6",
            "gridcolor": "white",
            "gridwidth": 2,
            "linecolor": "white",
            "showbackground": true,
            "ticks": "",
            "zerolinecolor": "white"
           },
           "yaxis": {
            "backgroundcolor": "#E5ECF6",
            "gridcolor": "white",
            "gridwidth": 2,
            "linecolor": "white",
            "showbackground": true,
            "ticks": "",
            "zerolinecolor": "white"
           },
           "zaxis": {
            "backgroundcolor": "#E5ECF6",
            "gridcolor": "white",
            "gridwidth": 2,
            "linecolor": "white",
            "showbackground": true,
            "ticks": "",
            "zerolinecolor": "white"
           }
          },
          "shapedefaults": {
           "line": {
            "color": "#2a3f5f"
           }
          },
          "ternary": {
           "aaxis": {
            "gridcolor": "white",
            "linecolor": "white",
            "ticks": ""
           },
           "baxis": {
            "gridcolor": "white",
            "linecolor": "white",
            "ticks": ""
           },
           "bgcolor": "#E5ECF6",
           "caxis": {
            "gridcolor": "white",
            "linecolor": "white",
            "ticks": ""
           }
          },
          "title": {
           "x": 0.05
          },
          "xaxis": {
           "automargin": true,
           "gridcolor": "white",
           "linecolor": "white",
           "ticks": "",
           "title": {
            "standoff": 15
           },
           "zerolinecolor": "white",
           "zerolinewidth": 2
          },
          "yaxis": {
           "automargin": true,
           "gridcolor": "white",
           "linecolor": "white",
           "ticks": "",
           "title": {
            "standoff": 15
           },
           "zerolinecolor": "white",
           "zerolinewidth": 2
          }
         }
        },
        "title": {
         "font": {
          "color": "#4D5663"
         }
        },
        "xaxis": {
         "gridcolor": "#E1E5ED",
         "showgrid": true,
         "tickfont": {
          "color": "#4D5663"
         },
         "title": {
          "font": {
           "color": "#4D5663"
          },
          "text": ""
         },
         "zerolinecolor": "#E1E5ED"
        },
        "yaxis": {
         "gridcolor": "#E1E5ED",
         "showgrid": true,
         "tickfont": {
          "color": "#4D5663"
         },
         "title": {
          "font": {
           "color": "#4D5663"
          },
          "text": ""
         },
         "zerolinecolor": "#E1E5ED"
        }
       }
      },
      "text/html": [
       "<div>\n",
       "        \n",
       "        \n",
       "            <div id=\"f385af6b-dd3c-4283-b7ff-4999db28451d\" class=\"plotly-graph-div\" style=\"height:525px; width:100%;\"></div>\n",
       "            <script type=\"text/javascript\">\n",
       "                require([\"plotly\"], function(Plotly) {\n",
       "                    window.PLOTLYENV=window.PLOTLYENV || {};\n",
       "                    window.PLOTLYENV.BASE_URL='https://plot.ly';\n",
       "                    \n",
       "                if (document.getElementById(\"f385af6b-dd3c-4283-b7ff-4999db28451d\")) {\n",
       "                    Plotly.newPlot(\n",
       "                        'f385af6b-dd3c-4283-b7ff-4999db28451d',\n",
       "                        [{\"marker\": {\"color\": \"rgba(255, 153, 51, 0.6)\", \"line\": {\"color\": \"rgba(255, 153, 51, 1.0)\", \"width\": 1}}, \"name\": \"Values\", \"orientation\": \"v\", \"text\": \"\", \"type\": \"bar\", \"x\": [\"A\", \"B\", \"C\"], \"y\": [32, 43, 50]}],\n",
       "                        {\"legend\": {\"bgcolor\": \"#F5F6F9\", \"font\": {\"color\": \"#4D5663\"}}, \"paper_bgcolor\": \"#F5F6F9\", \"plot_bgcolor\": \"#F5F6F9\", \"template\": {\"data\": {\"bar\": [{\"error_x\": {\"color\": \"#2a3f5f\"}, \"error_y\": {\"color\": \"#2a3f5f\"}, \"marker\": {\"line\": {\"color\": \"#E5ECF6\", \"width\": 0.5}}, \"type\": \"bar\"}], \"barpolar\": [{\"marker\": {\"line\": {\"color\": \"#E5ECF6\", \"width\": 0.5}}, \"type\": \"barpolar\"}], \"carpet\": [{\"aaxis\": {\"endlinecolor\": \"#2a3f5f\", \"gridcolor\": \"white\", \"linecolor\": \"white\", \"minorgridcolor\": \"white\", \"startlinecolor\": \"#2a3f5f\"}, \"baxis\": {\"endlinecolor\": \"#2a3f5f\", \"gridcolor\": \"white\", \"linecolor\": \"white\", \"minorgridcolor\": \"white\", \"startlinecolor\": \"#2a3f5f\"}, \"type\": \"carpet\"}], \"choropleth\": [{\"colorbar\": {\"outlinewidth\": 0, \"ticks\": \"\"}, \"type\": \"choropleth\"}], \"contour\": [{\"colorbar\": {\"outlinewidth\": 0, \"ticks\": \"\"}, \"colorscale\": [[0.0, \"#0d0887\"], [0.1111111111111111, \"#46039f\"], [0.2222222222222222, \"#7201a8\"], [0.3333333333333333, \"#9c179e\"], [0.4444444444444444, \"#bd3786\"], [0.5555555555555556, \"#d8576b\"], [0.6666666666666666, \"#ed7953\"], [0.7777777777777778, \"#fb9f3a\"], [0.8888888888888888, \"#fdca26\"], [1.0, \"#f0f921\"]], \"type\": \"contour\"}], \"contourcarpet\": [{\"colorbar\": {\"outlinewidth\": 0, \"ticks\": \"\"}, \"type\": \"contourcarpet\"}], \"heatmap\": [{\"colorbar\": {\"outlinewidth\": 0, \"ticks\": \"\"}, \"colorscale\": [[0.0, \"#0d0887\"], [0.1111111111111111, \"#46039f\"], [0.2222222222222222, \"#7201a8\"], [0.3333333333333333, \"#9c179e\"], [0.4444444444444444, \"#bd3786\"], [0.5555555555555556, \"#d8576b\"], [0.6666666666666666, \"#ed7953\"], [0.7777777777777778, \"#fb9f3a\"], [0.8888888888888888, \"#fdca26\"], [1.0, \"#f0f921\"]], \"type\": \"heatmap\"}], \"heatmapgl\": [{\"colorbar\": {\"outlinewidth\": 0, \"ticks\": \"\"}, \"colorscale\": [[0.0, \"#0d0887\"], [0.1111111111111111, \"#46039f\"], [0.2222222222222222, \"#7201a8\"], [0.3333333333333333, \"#9c179e\"], [0.4444444444444444, \"#bd3786\"], [0.5555555555555556, \"#d8576b\"], [0.6666666666666666, \"#ed7953\"], [0.7777777777777778, \"#fb9f3a\"], [0.8888888888888888, \"#fdca26\"], [1.0, \"#f0f921\"]], \"type\": \"heatmapgl\"}], \"histogram\": [{\"marker\": {\"colorbar\": {\"outlinewidth\": 0, \"ticks\": \"\"}}, \"type\": \"histogram\"}], \"histogram2d\": [{\"colorbar\": {\"outlinewidth\": 0, \"ticks\": \"\"}, \"colorscale\": [[0.0, \"#0d0887\"], [0.1111111111111111, \"#46039f\"], [0.2222222222222222, \"#7201a8\"], [0.3333333333333333, \"#9c179e\"], [0.4444444444444444, \"#bd3786\"], [0.5555555555555556, \"#d8576b\"], [0.6666666666666666, \"#ed7953\"], [0.7777777777777778, \"#fb9f3a\"], [0.8888888888888888, \"#fdca26\"], [1.0, \"#f0f921\"]], \"type\": \"histogram2d\"}], \"histogram2dcontour\": [{\"colorbar\": {\"outlinewidth\": 0, \"ticks\": \"\"}, \"colorscale\": [[0.0, \"#0d0887\"], [0.1111111111111111, \"#46039f\"], [0.2222222222222222, \"#7201a8\"], [0.3333333333333333, \"#9c179e\"], [0.4444444444444444, \"#bd3786\"], [0.5555555555555556, \"#d8576b\"], [0.6666666666666666, \"#ed7953\"], [0.7777777777777778, \"#fb9f3a\"], [0.8888888888888888, \"#fdca26\"], [1.0, \"#f0f921\"]], \"type\": \"histogram2dcontour\"}], \"mesh3d\": [{\"colorbar\": {\"outlinewidth\": 0, \"ticks\": \"\"}, \"type\": \"mesh3d\"}], \"parcoords\": [{\"line\": {\"colorbar\": {\"outlinewidth\": 0, \"ticks\": \"\"}}, \"type\": \"parcoords\"}], \"pie\": [{\"automargin\": true, \"type\": \"pie\"}], \"scatter\": [{\"marker\": {\"colorbar\": {\"outlinewidth\": 0, \"ticks\": \"\"}}, \"type\": \"scatter\"}], \"scatter3d\": [{\"line\": {\"colorbar\": {\"outlinewidth\": 0, \"ticks\": \"\"}}, \"marker\": {\"colorbar\": {\"outlinewidth\": 0, \"ticks\": \"\"}}, \"type\": \"scatter3d\"}], \"scattercarpet\": [{\"marker\": {\"colorbar\": {\"outlinewidth\": 0, \"ticks\": \"\"}}, \"type\": \"scattercarpet\"}], \"scattergeo\": [{\"marker\": {\"colorbar\": {\"outlinewidth\": 0, \"ticks\": \"\"}}, \"type\": \"scattergeo\"}], \"scattergl\": [{\"marker\": {\"colorbar\": {\"outlinewidth\": 0, \"ticks\": \"\"}}, \"type\": \"scattergl\"}], \"scattermapbox\": [{\"marker\": {\"colorbar\": {\"outlinewidth\": 0, \"ticks\": \"\"}}, \"type\": \"scattermapbox\"}], \"scatterpolar\": [{\"marker\": {\"colorbar\": {\"outlinewidth\": 0, \"ticks\": \"\"}}, \"type\": \"scatterpolar\"}], \"scatterpolargl\": [{\"marker\": {\"colorbar\": {\"outlinewidth\": 0, \"ticks\": \"\"}}, \"type\": \"scatterpolargl\"}], \"scatterternary\": [{\"marker\": {\"colorbar\": {\"outlinewidth\": 0, \"ticks\": \"\"}}, \"type\": \"scatterternary\"}], \"surface\": [{\"colorbar\": {\"outlinewidth\": 0, \"ticks\": \"\"}, \"colorscale\": [[0.0, \"#0d0887\"], [0.1111111111111111, \"#46039f\"], [0.2222222222222222, \"#7201a8\"], [0.3333333333333333, \"#9c179e\"], [0.4444444444444444, \"#bd3786\"], [0.5555555555555556, \"#d8576b\"], [0.6666666666666666, \"#ed7953\"], [0.7777777777777778, \"#fb9f3a\"], [0.8888888888888888, \"#fdca26\"], [1.0, \"#f0f921\"]], \"type\": \"surface\"}], \"table\": [{\"cells\": {\"fill\": {\"color\": \"#EBF0F8\"}, \"line\": {\"color\": \"white\"}}, \"header\": {\"fill\": {\"color\": \"#C8D4E3\"}, \"line\": {\"color\": \"white\"}}, \"type\": \"table\"}]}, \"layout\": {\"annotationdefaults\": {\"arrowcolor\": \"#2a3f5f\", \"arrowhead\": 0, \"arrowwidth\": 1}, \"coloraxis\": {\"colorbar\": {\"outlinewidth\": 0, \"ticks\": \"\"}}, \"colorscale\": {\"diverging\": [[0, \"#8e0152\"], [0.1, \"#c51b7d\"], [0.2, \"#de77ae\"], [0.3, \"#f1b6da\"], [0.4, \"#fde0ef\"], [0.5, \"#f7f7f7\"], [0.6, \"#e6f5d0\"], [0.7, \"#b8e186\"], [0.8, \"#7fbc41\"], [0.9, \"#4d9221\"], [1, \"#276419\"]], \"sequential\": [[0.0, \"#0d0887\"], [0.1111111111111111, \"#46039f\"], [0.2222222222222222, \"#7201a8\"], [0.3333333333333333, \"#9c179e\"], [0.4444444444444444, \"#bd3786\"], [0.5555555555555556, \"#d8576b\"], [0.6666666666666666, \"#ed7953\"], [0.7777777777777778, \"#fb9f3a\"], [0.8888888888888888, \"#fdca26\"], [1.0, \"#f0f921\"]], \"sequentialminus\": [[0.0, \"#0d0887\"], [0.1111111111111111, \"#46039f\"], [0.2222222222222222, \"#7201a8\"], [0.3333333333333333, \"#9c179e\"], [0.4444444444444444, \"#bd3786\"], [0.5555555555555556, \"#d8576b\"], [0.6666666666666666, \"#ed7953\"], [0.7777777777777778, \"#fb9f3a\"], [0.8888888888888888, \"#fdca26\"], [1.0, \"#f0f921\"]]}, \"colorway\": [\"#636efa\", \"#EF553B\", \"#00cc96\", \"#ab63fa\", \"#FFA15A\", \"#19d3f3\", \"#FF6692\", \"#B6E880\", \"#FF97FF\", \"#FECB52\"], \"font\": {\"color\": \"#2a3f5f\"}, \"geo\": {\"bgcolor\": \"white\", \"lakecolor\": \"white\", \"landcolor\": \"#E5ECF6\", \"showlakes\": true, \"showland\": true, \"subunitcolor\": \"white\"}, \"hoverlabel\": {\"align\": \"left\"}, \"hovermode\": \"closest\", \"mapbox\": {\"style\": \"light\"}, \"paper_bgcolor\": \"white\", \"plot_bgcolor\": \"#E5ECF6\", \"polar\": {\"angularaxis\": {\"gridcolor\": \"white\", \"linecolor\": \"white\", \"ticks\": \"\"}, \"bgcolor\": \"#E5ECF6\", \"radialaxis\": {\"gridcolor\": \"white\", \"linecolor\": \"white\", \"ticks\": \"\"}}, \"scene\": {\"xaxis\": {\"backgroundcolor\": \"#E5ECF6\", \"gridcolor\": \"white\", \"gridwidth\": 2, \"linecolor\": \"white\", \"showbackground\": true, \"ticks\": \"\", \"zerolinecolor\": \"white\"}, \"yaxis\": {\"backgroundcolor\": \"#E5ECF6\", \"gridcolor\": \"white\", \"gridwidth\": 2, \"linecolor\": \"white\", \"showbackground\": true, \"ticks\": \"\", \"zerolinecolor\": \"white\"}, \"zaxis\": {\"backgroundcolor\": \"#E5ECF6\", \"gridcolor\": \"white\", \"gridwidth\": 2, \"linecolor\": \"white\", \"showbackground\": true, \"ticks\": \"\", \"zerolinecolor\": \"white\"}}, \"shapedefaults\": {\"line\": {\"color\": \"#2a3f5f\"}}, \"ternary\": {\"aaxis\": {\"gridcolor\": \"white\", \"linecolor\": \"white\", \"ticks\": \"\"}, \"baxis\": {\"gridcolor\": \"white\", \"linecolor\": \"white\", \"ticks\": \"\"}, \"bgcolor\": \"#E5ECF6\", \"caxis\": {\"gridcolor\": \"white\", \"linecolor\": \"white\", \"ticks\": \"\"}}, \"title\": {\"x\": 0.05}, \"xaxis\": {\"automargin\": true, \"gridcolor\": \"white\", \"linecolor\": \"white\", \"ticks\": \"\", \"title\": {\"standoff\": 15}, \"zerolinecolor\": \"white\", \"zerolinewidth\": 2}, \"yaxis\": {\"automargin\": true, \"gridcolor\": \"white\", \"linecolor\": \"white\", \"ticks\": \"\", \"title\": {\"standoff\": 15}, \"zerolinecolor\": \"white\", \"zerolinewidth\": 2}}}, \"title\": {\"font\": {\"color\": \"#4D5663\"}}, \"xaxis\": {\"gridcolor\": \"#E1E5ED\", \"showgrid\": true, \"tickfont\": {\"color\": \"#4D5663\"}, \"title\": {\"font\": {\"color\": \"#4D5663\"}, \"text\": \"\"}, \"zerolinecolor\": \"#E1E5ED\"}, \"yaxis\": {\"gridcolor\": \"#E1E5ED\", \"showgrid\": true, \"tickfont\": {\"color\": \"#4D5663\"}, \"title\": {\"font\": {\"color\": \"#4D5663\"}, \"text\": \"\"}, \"zerolinecolor\": \"#E1E5ED\"}},\n",
       "                        {\"showLink\": true, \"linkText\": \"Export to plot.ly\", \"plotlyServerURL\": \"https://plot.ly\", \"responsive\": true}\n",
       "                    ).then(function(){\n",
       "                            \n",
       "var gd = document.getElementById('f385af6b-dd3c-4283-b7ff-4999db28451d');\n",
       "var x = new MutationObserver(function (mutations, observer) {{\n",
       "        var display = window.getComputedStyle(gd).display;\n",
       "        if (!display || display === 'none') {{\n",
       "            console.log([gd, 'removed!']);\n",
       "            Plotly.purge(gd);\n",
       "            observer.disconnect();\n",
       "        }}\n",
       "}});\n",
       "\n",
       "// Listen for the removal of the full notebook cells\n",
       "var notebookContainer = gd.closest('#notebook-container');\n",
       "if (notebookContainer) {{\n",
       "    x.observe(notebookContainer, {childList: true});\n",
       "}}\n",
       "\n",
       "// Listen for the clearing of the current output cell\n",
       "var outputEl = gd.closest('.output');\n",
       "if (outputEl) {{\n",
       "    x.observe(outputEl, {childList: true});\n",
       "}}\n",
       "\n",
       "                        })\n",
       "                };\n",
       "                });\n",
       "            </script>\n",
       "        </div>"
      ]
     },
     "metadata": {},
     "output_type": "display_data"
    }
   ],
   "source": [
    "df2.iplot(kind='bar',x='Category',y='Values')"
   ]
  },
  {
   "cell_type": "code",
   "execution_count": 17,
   "metadata": {},
   "outputs": [
    {
     "data": {
      "application/vnd.plotly.v1+json": {
       "config": {
        "linkText": "Export to plot.ly",
        "plotlyServerURL": "https://plot.ly",
        "showLink": true
       },
       "data": [
        {
         "marker": {
          "color": "rgba(255, 153, 51, 0.6)",
          "line": {
           "color": "rgba(255, 153, 51, 1.0)",
           "width": 1
          }
         },
         "name": "None",
         "orientation": "v",
         "text": "",
         "type": "bar",
         "x": [
          "A",
          "B",
          "C",
          "D"
         ],
         "y": [
          100,
          100,
          100,
          100
         ]
        }
       ],
       "layout": {
        "legend": {
         "bgcolor": "#F5F6F9",
         "font": {
          "color": "#4D5663"
         }
        },
        "paper_bgcolor": "#F5F6F9",
        "plot_bgcolor": "#F5F6F9",
        "template": {
         "data": {
          "bar": [
           {
            "error_x": {
             "color": "#2a3f5f"
            },
            "error_y": {
             "color": "#2a3f5f"
            },
            "marker": {
             "line": {
              "color": "#E5ECF6",
              "width": 0.5
             }
            },
            "type": "bar"
           }
          ],
          "barpolar": [
           {
            "marker": {
             "line": {
              "color": "#E5ECF6",
              "width": 0.5
             }
            },
            "type": "barpolar"
           }
          ],
          "carpet": [
           {
            "aaxis": {
             "endlinecolor": "#2a3f5f",
             "gridcolor": "white",
             "linecolor": "white",
             "minorgridcolor": "white",
             "startlinecolor": "#2a3f5f"
            },
            "baxis": {
             "endlinecolor": "#2a3f5f",
             "gridcolor": "white",
             "linecolor": "white",
             "minorgridcolor": "white",
             "startlinecolor": "#2a3f5f"
            },
            "type": "carpet"
           }
          ],
          "choropleth": [
           {
            "colorbar": {
             "outlinewidth": 0,
             "ticks": ""
            },
            "type": "choropleth"
           }
          ],
          "contour": [
           {
            "colorbar": {
             "outlinewidth": 0,
             "ticks": ""
            },
            "colorscale": [
             [
              0,
              "#0d0887"
             ],
             [
              0.1111111111111111,
              "#46039f"
             ],
             [
              0.2222222222222222,
              "#7201a8"
             ],
             [
              0.3333333333333333,
              "#9c179e"
             ],
             [
              0.4444444444444444,
              "#bd3786"
             ],
             [
              0.5555555555555556,
              "#d8576b"
             ],
             [
              0.6666666666666666,
              "#ed7953"
             ],
             [
              0.7777777777777778,
              "#fb9f3a"
             ],
             [
              0.8888888888888888,
              "#fdca26"
             ],
             [
              1,
              "#f0f921"
             ]
            ],
            "type": "contour"
           }
          ],
          "contourcarpet": [
           {
            "colorbar": {
             "outlinewidth": 0,
             "ticks": ""
            },
            "type": "contourcarpet"
           }
          ],
          "heatmap": [
           {
            "colorbar": {
             "outlinewidth": 0,
             "ticks": ""
            },
            "colorscale": [
             [
              0,
              "#0d0887"
             ],
             [
              0.1111111111111111,
              "#46039f"
             ],
             [
              0.2222222222222222,
              "#7201a8"
             ],
             [
              0.3333333333333333,
              "#9c179e"
             ],
             [
              0.4444444444444444,
              "#bd3786"
             ],
             [
              0.5555555555555556,
              "#d8576b"
             ],
             [
              0.6666666666666666,
              "#ed7953"
             ],
             [
              0.7777777777777778,
              "#fb9f3a"
             ],
             [
              0.8888888888888888,
              "#fdca26"
             ],
             [
              1,
              "#f0f921"
             ]
            ],
            "type": "heatmap"
           }
          ],
          "heatmapgl": [
           {
            "colorbar": {
             "outlinewidth": 0,
             "ticks": ""
            },
            "colorscale": [
             [
              0,
              "#0d0887"
             ],
             [
              0.1111111111111111,
              "#46039f"
             ],
             [
              0.2222222222222222,
              "#7201a8"
             ],
             [
              0.3333333333333333,
              "#9c179e"
             ],
             [
              0.4444444444444444,
              "#bd3786"
             ],
             [
              0.5555555555555556,
              "#d8576b"
             ],
             [
              0.6666666666666666,
              "#ed7953"
             ],
             [
              0.7777777777777778,
              "#fb9f3a"
             ],
             [
              0.8888888888888888,
              "#fdca26"
             ],
             [
              1,
              "#f0f921"
             ]
            ],
            "type": "heatmapgl"
           }
          ],
          "histogram": [
           {
            "marker": {
             "colorbar": {
              "outlinewidth": 0,
              "ticks": ""
             }
            },
            "type": "histogram"
           }
          ],
          "histogram2d": [
           {
            "colorbar": {
             "outlinewidth": 0,
             "ticks": ""
            },
            "colorscale": [
             [
              0,
              "#0d0887"
             ],
             [
              0.1111111111111111,
              "#46039f"
             ],
             [
              0.2222222222222222,
              "#7201a8"
             ],
             [
              0.3333333333333333,
              "#9c179e"
             ],
             [
              0.4444444444444444,
              "#bd3786"
             ],
             [
              0.5555555555555556,
              "#d8576b"
             ],
             [
              0.6666666666666666,
              "#ed7953"
             ],
             [
              0.7777777777777778,
              "#fb9f3a"
             ],
             [
              0.8888888888888888,
              "#fdca26"
             ],
             [
              1,
              "#f0f921"
             ]
            ],
            "type": "histogram2d"
           }
          ],
          "histogram2dcontour": [
           {
            "colorbar": {
             "outlinewidth": 0,
             "ticks": ""
            },
            "colorscale": [
             [
              0,
              "#0d0887"
             ],
             [
              0.1111111111111111,
              "#46039f"
             ],
             [
              0.2222222222222222,
              "#7201a8"
             ],
             [
              0.3333333333333333,
              "#9c179e"
             ],
             [
              0.4444444444444444,
              "#bd3786"
             ],
             [
              0.5555555555555556,
              "#d8576b"
             ],
             [
              0.6666666666666666,
              "#ed7953"
             ],
             [
              0.7777777777777778,
              "#fb9f3a"
             ],
             [
              0.8888888888888888,
              "#fdca26"
             ],
             [
              1,
              "#f0f921"
             ]
            ],
            "type": "histogram2dcontour"
           }
          ],
          "mesh3d": [
           {
            "colorbar": {
             "outlinewidth": 0,
             "ticks": ""
            },
            "type": "mesh3d"
           }
          ],
          "parcoords": [
           {
            "line": {
             "colorbar": {
              "outlinewidth": 0,
              "ticks": ""
             }
            },
            "type": "parcoords"
           }
          ],
          "pie": [
           {
            "automargin": true,
            "type": "pie"
           }
          ],
          "scatter": [
           {
            "marker": {
             "colorbar": {
              "outlinewidth": 0,
              "ticks": ""
             }
            },
            "type": "scatter"
           }
          ],
          "scatter3d": [
           {
            "line": {
             "colorbar": {
              "outlinewidth": 0,
              "ticks": ""
             }
            },
            "marker": {
             "colorbar": {
              "outlinewidth": 0,
              "ticks": ""
             }
            },
            "type": "scatter3d"
           }
          ],
          "scattercarpet": [
           {
            "marker": {
             "colorbar": {
              "outlinewidth": 0,
              "ticks": ""
             }
            },
            "type": "scattercarpet"
           }
          ],
          "scattergeo": [
           {
            "marker": {
             "colorbar": {
              "outlinewidth": 0,
              "ticks": ""
             }
            },
            "type": "scattergeo"
           }
          ],
          "scattergl": [
           {
            "marker": {
             "colorbar": {
              "outlinewidth": 0,
              "ticks": ""
             }
            },
            "type": "scattergl"
           }
          ],
          "scattermapbox": [
           {
            "marker": {
             "colorbar": {
              "outlinewidth": 0,
              "ticks": ""
             }
            },
            "type": "scattermapbox"
           }
          ],
          "scatterpolar": [
           {
            "marker": {
             "colorbar": {
              "outlinewidth": 0,
              "ticks": ""
             }
            },
            "type": "scatterpolar"
           }
          ],
          "scatterpolargl": [
           {
            "marker": {
             "colorbar": {
              "outlinewidth": 0,
              "ticks": ""
             }
            },
            "type": "scatterpolargl"
           }
          ],
          "scatterternary": [
           {
            "marker": {
             "colorbar": {
              "outlinewidth": 0,
              "ticks": ""
             }
            },
            "type": "scatterternary"
           }
          ],
          "surface": [
           {
            "colorbar": {
             "outlinewidth": 0,
             "ticks": ""
            },
            "colorscale": [
             [
              0,
              "#0d0887"
             ],
             [
              0.1111111111111111,
              "#46039f"
             ],
             [
              0.2222222222222222,
              "#7201a8"
             ],
             [
              0.3333333333333333,
              "#9c179e"
             ],
             [
              0.4444444444444444,
              "#bd3786"
             ],
             [
              0.5555555555555556,
              "#d8576b"
             ],
             [
              0.6666666666666666,
              "#ed7953"
             ],
             [
              0.7777777777777778,
              "#fb9f3a"
             ],
             [
              0.8888888888888888,
              "#fdca26"
             ],
             [
              1,
              "#f0f921"
             ]
            ],
            "type": "surface"
           }
          ],
          "table": [
           {
            "cells": {
             "fill": {
              "color": "#EBF0F8"
             },
             "line": {
              "color": "white"
             }
            },
            "header": {
             "fill": {
              "color": "#C8D4E3"
             },
             "line": {
              "color": "white"
             }
            },
            "type": "table"
           }
          ]
         },
         "layout": {
          "annotationdefaults": {
           "arrowcolor": "#2a3f5f",
           "arrowhead": 0,
           "arrowwidth": 1
          },
          "coloraxis": {
           "colorbar": {
            "outlinewidth": 0,
            "ticks": ""
           }
          },
          "colorscale": {
           "diverging": [
            [
             0,
             "#8e0152"
            ],
            [
             0.1,
             "#c51b7d"
            ],
            [
             0.2,
             "#de77ae"
            ],
            [
             0.3,
             "#f1b6da"
            ],
            [
             0.4,
             "#fde0ef"
            ],
            [
             0.5,
             "#f7f7f7"
            ],
            [
             0.6,
             "#e6f5d0"
            ],
            [
             0.7,
             "#b8e186"
            ],
            [
             0.8,
             "#7fbc41"
            ],
            [
             0.9,
             "#4d9221"
            ],
            [
             1,
             "#276419"
            ]
           ],
           "sequential": [
            [
             0,
             "#0d0887"
            ],
            [
             0.1111111111111111,
             "#46039f"
            ],
            [
             0.2222222222222222,
             "#7201a8"
            ],
            [
             0.3333333333333333,
             "#9c179e"
            ],
            [
             0.4444444444444444,
             "#bd3786"
            ],
            [
             0.5555555555555556,
             "#d8576b"
            ],
            [
             0.6666666666666666,
             "#ed7953"
            ],
            [
             0.7777777777777778,
             "#fb9f3a"
            ],
            [
             0.8888888888888888,
             "#fdca26"
            ],
            [
             1,
             "#f0f921"
            ]
           ],
           "sequentialminus": [
            [
             0,
             "#0d0887"
            ],
            [
             0.1111111111111111,
             "#46039f"
            ],
            [
             0.2222222222222222,
             "#7201a8"
            ],
            [
             0.3333333333333333,
             "#9c179e"
            ],
            [
             0.4444444444444444,
             "#bd3786"
            ],
            [
             0.5555555555555556,
             "#d8576b"
            ],
            [
             0.6666666666666666,
             "#ed7953"
            ],
            [
             0.7777777777777778,
             "#fb9f3a"
            ],
            [
             0.8888888888888888,
             "#fdca26"
            ],
            [
             1,
             "#f0f921"
            ]
           ]
          },
          "colorway": [
           "#636efa",
           "#EF553B",
           "#00cc96",
           "#ab63fa",
           "#FFA15A",
           "#19d3f3",
           "#FF6692",
           "#B6E880",
           "#FF97FF",
           "#FECB52"
          ],
          "font": {
           "color": "#2a3f5f"
          },
          "geo": {
           "bgcolor": "white",
           "lakecolor": "white",
           "landcolor": "#E5ECF6",
           "showlakes": true,
           "showland": true,
           "subunitcolor": "white"
          },
          "hoverlabel": {
           "align": "left"
          },
          "hovermode": "closest",
          "mapbox": {
           "style": "light"
          },
          "paper_bgcolor": "white",
          "plot_bgcolor": "#E5ECF6",
          "polar": {
           "angularaxis": {
            "gridcolor": "white",
            "linecolor": "white",
            "ticks": ""
           },
           "bgcolor": "#E5ECF6",
           "radialaxis": {
            "gridcolor": "white",
            "linecolor": "white",
            "ticks": ""
           }
          },
          "scene": {
           "xaxis": {
            "backgroundcolor": "#E5ECF6",
            "gridcolor": "white",
            "gridwidth": 2,
            "linecolor": "white",
            "showbackground": true,
            "ticks": "",
            "zerolinecolor": "white"
           },
           "yaxis": {
            "backgroundcolor": "#E5ECF6",
            "gridcolor": "white",
            "gridwidth": 2,
            "linecolor": "white",
            "showbackground": true,
            "ticks": "",
            "zerolinecolor": "white"
           },
           "zaxis": {
            "backgroundcolor": "#E5ECF6",
            "gridcolor": "white",
            "gridwidth": 2,
            "linecolor": "white",
            "showbackground": true,
            "ticks": "",
            "zerolinecolor": "white"
           }
          },
          "shapedefaults": {
           "line": {
            "color": "#2a3f5f"
           }
          },
          "ternary": {
           "aaxis": {
            "gridcolor": "white",
            "linecolor": "white",
            "ticks": ""
           },
           "baxis": {
            "gridcolor": "white",
            "linecolor": "white",
            "ticks": ""
           },
           "bgcolor": "#E5ECF6",
           "caxis": {
            "gridcolor": "white",
            "linecolor": "white",
            "ticks": ""
           }
          },
          "title": {
           "x": 0.05
          },
          "xaxis": {
           "automargin": true,
           "gridcolor": "white",
           "linecolor": "white",
           "ticks": "",
           "title": {
            "standoff": 15
           },
           "zerolinecolor": "white",
           "zerolinewidth": 2
          },
          "yaxis": {
           "automargin": true,
           "gridcolor": "white",
           "linecolor": "white",
           "ticks": "",
           "title": {
            "standoff": 15
           },
           "zerolinecolor": "white",
           "zerolinewidth": 2
          }
         }
        },
        "title": {
         "font": {
          "color": "#4D5663"
         }
        },
        "xaxis": {
         "gridcolor": "#E1E5ED",
         "showgrid": true,
         "tickfont": {
          "color": "#4D5663"
         },
         "title": {
          "font": {
           "color": "#4D5663"
          },
          "text": ""
         },
         "zerolinecolor": "#E1E5ED"
        },
        "yaxis": {
         "gridcolor": "#E1E5ED",
         "showgrid": true,
         "tickfont": {
          "color": "#4D5663"
         },
         "title": {
          "font": {
           "color": "#4D5663"
          },
          "text": ""
         },
         "zerolinecolor": "#E1E5ED"
        }
       }
      },
      "text/html": [
       "<div>\n",
       "        \n",
       "        \n",
       "            <div id=\"15268d3d-1567-45ce-84a3-103f3a2a8950\" class=\"plotly-graph-div\" style=\"height:525px; width:100%;\"></div>\n",
       "            <script type=\"text/javascript\">\n",
       "                require([\"plotly\"], function(Plotly) {\n",
       "                    window.PLOTLYENV=window.PLOTLYENV || {};\n",
       "                    window.PLOTLYENV.BASE_URL='https://plot.ly';\n",
       "                    \n",
       "                if (document.getElementById(\"15268d3d-1567-45ce-84a3-103f3a2a8950\")) {\n",
       "                    Plotly.newPlot(\n",
       "                        '15268d3d-1567-45ce-84a3-103f3a2a8950',\n",
       "                        [{\"marker\": {\"color\": \"rgba(255, 153, 51, 0.6)\", \"line\": {\"color\": \"rgba(255, 153, 51, 1.0)\", \"width\": 1}}, \"name\": \"None\", \"orientation\": \"v\", \"text\": \"\", \"type\": \"bar\", \"x\": [\"A\", \"B\", \"C\", \"D\"], \"y\": [100, 100, 100, 100]}],\n",
       "                        {\"legend\": {\"bgcolor\": \"#F5F6F9\", \"font\": {\"color\": \"#4D5663\"}}, \"paper_bgcolor\": \"#F5F6F9\", \"plot_bgcolor\": \"#F5F6F9\", \"template\": {\"data\": {\"bar\": [{\"error_x\": {\"color\": \"#2a3f5f\"}, \"error_y\": {\"color\": \"#2a3f5f\"}, \"marker\": {\"line\": {\"color\": \"#E5ECF6\", \"width\": 0.5}}, \"type\": \"bar\"}], \"barpolar\": [{\"marker\": {\"line\": {\"color\": \"#E5ECF6\", \"width\": 0.5}}, \"type\": \"barpolar\"}], \"carpet\": [{\"aaxis\": {\"endlinecolor\": \"#2a3f5f\", \"gridcolor\": \"white\", \"linecolor\": \"white\", \"minorgridcolor\": \"white\", \"startlinecolor\": \"#2a3f5f\"}, \"baxis\": {\"endlinecolor\": \"#2a3f5f\", \"gridcolor\": \"white\", \"linecolor\": \"white\", \"minorgridcolor\": \"white\", \"startlinecolor\": \"#2a3f5f\"}, \"type\": \"carpet\"}], \"choropleth\": [{\"colorbar\": {\"outlinewidth\": 0, \"ticks\": \"\"}, \"type\": \"choropleth\"}], \"contour\": [{\"colorbar\": {\"outlinewidth\": 0, \"ticks\": \"\"}, \"colorscale\": [[0.0, \"#0d0887\"], [0.1111111111111111, \"#46039f\"], [0.2222222222222222, \"#7201a8\"], [0.3333333333333333, \"#9c179e\"], [0.4444444444444444, \"#bd3786\"], [0.5555555555555556, \"#d8576b\"], [0.6666666666666666, \"#ed7953\"], [0.7777777777777778, \"#fb9f3a\"], [0.8888888888888888, \"#fdca26\"], [1.0, \"#f0f921\"]], \"type\": \"contour\"}], \"contourcarpet\": [{\"colorbar\": {\"outlinewidth\": 0, \"ticks\": \"\"}, \"type\": \"contourcarpet\"}], \"heatmap\": [{\"colorbar\": {\"outlinewidth\": 0, \"ticks\": \"\"}, \"colorscale\": [[0.0, \"#0d0887\"], [0.1111111111111111, \"#46039f\"], [0.2222222222222222, \"#7201a8\"], [0.3333333333333333, \"#9c179e\"], [0.4444444444444444, \"#bd3786\"], [0.5555555555555556, \"#d8576b\"], [0.6666666666666666, \"#ed7953\"], [0.7777777777777778, \"#fb9f3a\"], [0.8888888888888888, \"#fdca26\"], [1.0, \"#f0f921\"]], \"type\": \"heatmap\"}], \"heatmapgl\": [{\"colorbar\": {\"outlinewidth\": 0, \"ticks\": \"\"}, \"colorscale\": [[0.0, \"#0d0887\"], [0.1111111111111111, \"#46039f\"], [0.2222222222222222, \"#7201a8\"], [0.3333333333333333, \"#9c179e\"], [0.4444444444444444, \"#bd3786\"], [0.5555555555555556, \"#d8576b\"], [0.6666666666666666, \"#ed7953\"], [0.7777777777777778, \"#fb9f3a\"], [0.8888888888888888, \"#fdca26\"], [1.0, \"#f0f921\"]], \"type\": \"heatmapgl\"}], \"histogram\": [{\"marker\": {\"colorbar\": {\"outlinewidth\": 0, \"ticks\": \"\"}}, \"type\": \"histogram\"}], \"histogram2d\": [{\"colorbar\": {\"outlinewidth\": 0, \"ticks\": \"\"}, \"colorscale\": [[0.0, \"#0d0887\"], [0.1111111111111111, \"#46039f\"], [0.2222222222222222, \"#7201a8\"], [0.3333333333333333, \"#9c179e\"], [0.4444444444444444, \"#bd3786\"], [0.5555555555555556, \"#d8576b\"], [0.6666666666666666, \"#ed7953\"], [0.7777777777777778, \"#fb9f3a\"], [0.8888888888888888, \"#fdca26\"], [1.0, \"#f0f921\"]], \"type\": \"histogram2d\"}], \"histogram2dcontour\": [{\"colorbar\": {\"outlinewidth\": 0, \"ticks\": \"\"}, \"colorscale\": [[0.0, \"#0d0887\"], [0.1111111111111111, \"#46039f\"], [0.2222222222222222, \"#7201a8\"], [0.3333333333333333, \"#9c179e\"], [0.4444444444444444, \"#bd3786\"], [0.5555555555555556, \"#d8576b\"], [0.6666666666666666, \"#ed7953\"], [0.7777777777777778, \"#fb9f3a\"], [0.8888888888888888, \"#fdca26\"], [1.0, \"#f0f921\"]], \"type\": \"histogram2dcontour\"}], \"mesh3d\": [{\"colorbar\": {\"outlinewidth\": 0, \"ticks\": \"\"}, \"type\": \"mesh3d\"}], \"parcoords\": [{\"line\": {\"colorbar\": {\"outlinewidth\": 0, \"ticks\": \"\"}}, \"type\": \"parcoords\"}], \"pie\": [{\"automargin\": true, \"type\": \"pie\"}], \"scatter\": [{\"marker\": {\"colorbar\": {\"outlinewidth\": 0, \"ticks\": \"\"}}, \"type\": \"scatter\"}], \"scatter3d\": [{\"line\": {\"colorbar\": {\"outlinewidth\": 0, \"ticks\": \"\"}}, \"marker\": {\"colorbar\": {\"outlinewidth\": 0, \"ticks\": \"\"}}, \"type\": \"scatter3d\"}], \"scattercarpet\": [{\"marker\": {\"colorbar\": {\"outlinewidth\": 0, \"ticks\": \"\"}}, \"type\": \"scattercarpet\"}], \"scattergeo\": [{\"marker\": {\"colorbar\": {\"outlinewidth\": 0, \"ticks\": \"\"}}, \"type\": \"scattergeo\"}], \"scattergl\": [{\"marker\": {\"colorbar\": {\"outlinewidth\": 0, \"ticks\": \"\"}}, \"type\": \"scattergl\"}], \"scattermapbox\": [{\"marker\": {\"colorbar\": {\"outlinewidth\": 0, \"ticks\": \"\"}}, \"type\": \"scattermapbox\"}], \"scatterpolar\": [{\"marker\": {\"colorbar\": {\"outlinewidth\": 0, \"ticks\": \"\"}}, \"type\": \"scatterpolar\"}], \"scatterpolargl\": [{\"marker\": {\"colorbar\": {\"outlinewidth\": 0, \"ticks\": \"\"}}, \"type\": \"scatterpolargl\"}], \"scatterternary\": [{\"marker\": {\"colorbar\": {\"outlinewidth\": 0, \"ticks\": \"\"}}, \"type\": \"scatterternary\"}], \"surface\": [{\"colorbar\": {\"outlinewidth\": 0, \"ticks\": \"\"}, \"colorscale\": [[0.0, \"#0d0887\"], [0.1111111111111111, \"#46039f\"], [0.2222222222222222, \"#7201a8\"], [0.3333333333333333, \"#9c179e\"], [0.4444444444444444, \"#bd3786\"], [0.5555555555555556, \"#d8576b\"], [0.6666666666666666, \"#ed7953\"], [0.7777777777777778, \"#fb9f3a\"], [0.8888888888888888, \"#fdca26\"], [1.0, \"#f0f921\"]], \"type\": \"surface\"}], \"table\": [{\"cells\": {\"fill\": {\"color\": \"#EBF0F8\"}, \"line\": {\"color\": \"white\"}}, \"header\": {\"fill\": {\"color\": \"#C8D4E3\"}, \"line\": {\"color\": \"white\"}}, \"type\": \"table\"}]}, \"layout\": {\"annotationdefaults\": {\"arrowcolor\": \"#2a3f5f\", \"arrowhead\": 0, \"arrowwidth\": 1}, \"coloraxis\": {\"colorbar\": {\"outlinewidth\": 0, \"ticks\": \"\"}}, \"colorscale\": {\"diverging\": [[0, \"#8e0152\"], [0.1, \"#c51b7d\"], [0.2, \"#de77ae\"], [0.3, \"#f1b6da\"], [0.4, \"#fde0ef\"], [0.5, \"#f7f7f7\"], [0.6, \"#e6f5d0\"], [0.7, \"#b8e186\"], [0.8, \"#7fbc41\"], [0.9, \"#4d9221\"], [1, \"#276419\"]], \"sequential\": [[0.0, \"#0d0887\"], [0.1111111111111111, \"#46039f\"], [0.2222222222222222, \"#7201a8\"], [0.3333333333333333, \"#9c179e\"], [0.4444444444444444, \"#bd3786\"], [0.5555555555555556, \"#d8576b\"], [0.6666666666666666, \"#ed7953\"], [0.7777777777777778, \"#fb9f3a\"], [0.8888888888888888, \"#fdca26\"], [1.0, \"#f0f921\"]], \"sequentialminus\": [[0.0, \"#0d0887\"], [0.1111111111111111, \"#46039f\"], [0.2222222222222222, \"#7201a8\"], [0.3333333333333333, \"#9c179e\"], [0.4444444444444444, \"#bd3786\"], [0.5555555555555556, \"#d8576b\"], [0.6666666666666666, \"#ed7953\"], [0.7777777777777778, \"#fb9f3a\"], [0.8888888888888888, \"#fdca26\"], [1.0, \"#f0f921\"]]}, \"colorway\": [\"#636efa\", \"#EF553B\", \"#00cc96\", \"#ab63fa\", \"#FFA15A\", \"#19d3f3\", \"#FF6692\", \"#B6E880\", \"#FF97FF\", \"#FECB52\"], \"font\": {\"color\": \"#2a3f5f\"}, \"geo\": {\"bgcolor\": \"white\", \"lakecolor\": \"white\", \"landcolor\": \"#E5ECF6\", \"showlakes\": true, \"showland\": true, \"subunitcolor\": \"white\"}, \"hoverlabel\": {\"align\": \"left\"}, \"hovermode\": \"closest\", \"mapbox\": {\"style\": \"light\"}, \"paper_bgcolor\": \"white\", \"plot_bgcolor\": \"#E5ECF6\", \"polar\": {\"angularaxis\": {\"gridcolor\": \"white\", \"linecolor\": \"white\", \"ticks\": \"\"}, \"bgcolor\": \"#E5ECF6\", \"radialaxis\": {\"gridcolor\": \"white\", \"linecolor\": \"white\", \"ticks\": \"\"}}, \"scene\": {\"xaxis\": {\"backgroundcolor\": \"#E5ECF6\", \"gridcolor\": \"white\", \"gridwidth\": 2, \"linecolor\": \"white\", \"showbackground\": true, \"ticks\": \"\", \"zerolinecolor\": \"white\"}, \"yaxis\": {\"backgroundcolor\": \"#E5ECF6\", \"gridcolor\": \"white\", \"gridwidth\": 2, \"linecolor\": \"white\", \"showbackground\": true, \"ticks\": \"\", \"zerolinecolor\": \"white\"}, \"zaxis\": {\"backgroundcolor\": \"#E5ECF6\", \"gridcolor\": \"white\", \"gridwidth\": 2, \"linecolor\": \"white\", \"showbackground\": true, \"ticks\": \"\", \"zerolinecolor\": \"white\"}}, \"shapedefaults\": {\"line\": {\"color\": \"#2a3f5f\"}}, \"ternary\": {\"aaxis\": {\"gridcolor\": \"white\", \"linecolor\": \"white\", \"ticks\": \"\"}, \"baxis\": {\"gridcolor\": \"white\", \"linecolor\": \"white\", \"ticks\": \"\"}, \"bgcolor\": \"#E5ECF6\", \"caxis\": {\"gridcolor\": \"white\", \"linecolor\": \"white\", \"ticks\": \"\"}}, \"title\": {\"x\": 0.05}, \"xaxis\": {\"automargin\": true, \"gridcolor\": \"white\", \"linecolor\": \"white\", \"ticks\": \"\", \"title\": {\"standoff\": 15}, \"zerolinecolor\": \"white\", \"zerolinewidth\": 2}, \"yaxis\": {\"automargin\": true, \"gridcolor\": \"white\", \"linecolor\": \"white\", \"ticks\": \"\", \"title\": {\"standoff\": 15}, \"zerolinecolor\": \"white\", \"zerolinewidth\": 2}}}, \"title\": {\"font\": {\"color\": \"#4D5663\"}}, \"xaxis\": {\"gridcolor\": \"#E1E5ED\", \"showgrid\": true, \"tickfont\": {\"color\": \"#4D5663\"}, \"title\": {\"font\": {\"color\": \"#4D5663\"}, \"text\": \"\"}, \"zerolinecolor\": \"#E1E5ED\"}, \"yaxis\": {\"gridcolor\": \"#E1E5ED\", \"showgrid\": true, \"tickfont\": {\"color\": \"#4D5663\"}, \"title\": {\"font\": {\"color\": \"#4D5663\"}, \"text\": \"\"}, \"zerolinecolor\": \"#E1E5ED\"}},\n",
       "                        {\"showLink\": true, \"linkText\": \"Export to plot.ly\", \"plotlyServerURL\": \"https://plot.ly\", \"responsive\": true}\n",
       "                    ).then(function(){\n",
       "                            \n",
       "var gd = document.getElementById('15268d3d-1567-45ce-84a3-103f3a2a8950');\n",
       "var x = new MutationObserver(function (mutations, observer) {{\n",
       "        var display = window.getComputedStyle(gd).display;\n",
       "        if (!display || display === 'none') {{\n",
       "            console.log([gd, 'removed!']);\n",
       "            Plotly.purge(gd);\n",
       "            observer.disconnect();\n",
       "        }}\n",
       "}});\n",
       "\n",
       "// Listen for the removal of the full notebook cells\n",
       "var notebookContainer = gd.closest('#notebook-container');\n",
       "if (notebookContainer) {{\n",
       "    x.observe(notebookContainer, {childList: true});\n",
       "}}\n",
       "\n",
       "// Listen for the clearing of the current output cell\n",
       "var outputEl = gd.closest('.output');\n",
       "if (outputEl) {{\n",
       "    x.observe(outputEl, {childList: true});\n",
       "}}\n",
       "\n",
       "                        })\n",
       "                };\n",
       "                });\n",
       "            </script>\n",
       "        </div>"
      ]
     },
     "metadata": {},
     "output_type": "display_data"
    }
   ],
   "source": [
    "df.count().iplot(kind='bar')"
   ]
  },
  {
   "cell_type": "markdown",
   "metadata": {},
   "source": [
    "## Boxplots"
   ]
  },
  {
   "cell_type": "code",
   "execution_count": 18,
   "metadata": {},
   "outputs": [
    {
     "data": {
      "application/vnd.plotly.v1+json": {
       "config": {
        "linkText": "Export to plot.ly",
        "plotlyServerURL": "https://plot.ly",
        "showLink": true
       },
       "data": [
        {
         "boxpoints": false,
         "line": {
          "width": 1.3
         },
         "marker": {
          "color": "rgba(255, 153, 51, 1.0)"
         },
         "name": "A",
         "orientation": "v",
         "type": "box",
         "y": [
          -1.1833147841107685,
          -1.7500193061567437,
          1.131725711797192,
          -0.4149990629871035,
          -0.5546323136266743,
          0.30716715349814916,
          0.9307409446318613,
          1.1827126886991306,
          -0.36277765018746844,
          -1.1575863885269426,
          -0.8378908404057034,
          -0.3912685021276453,
          -1.3589334660637948,
          -0.9289435721940565,
          -0.7124449800398088,
          -1.6065487619933794,
          2.332208250292037,
          0.8026240180457727,
          -0.3270519336517877,
          -0.23711569943831692,
          -1.1574596670571589,
          0.6356964428430179,
          -1.1519757857088226,
          -3.8820799601324034,
          0.7723161251731423,
          2.065264810943613,
          0.02000222388239315,
          0.3991394917296089,
          0.945535911129008,
          -1.204940020191649,
          0.2502984273434721,
          0.4384717934478959,
          -0.3157678412237403,
          0.6107843478312683,
          1.4209487036819728,
          0.8379028557999306,
          1.402820371959644,
          -0.7644680156984743,
          3.3499358837402666,
          -0.2794976581737439,
          0.7120731738683018,
          0.46511545582490277,
          0.2695328720433325,
          1.6056065472068564,
          -0.5389598099942599,
          1.5665773988947163,
          0.06510700987045681,
          0.5239553353008185,
          0.019203296036346764,
          -0.4421735345591453,
          0.14516936021065513,
          1.0355126831038233,
          -0.023036701246943896,
          1.0388811679514585,
          -0.20672847201013142,
          0.1716283164432814,
          -1.9380850409091082,
          -0.5851204532923052,
          -1.9757006147510012,
          0.34022601382222384,
          0.5079218681199503,
          0.7631189321743553,
          0.96306713033488,
          -0.8121233094405356,
          -0.9882153281714651,
          -0.4845284460071705,
          -0.02570082243243427,
          -0.03400268620872826,
          0.5047792802117658,
          -2.279607145438385,
          -0.07385901857965435,
          -1.1771511696616481,
          -0.100857518160516,
          1.0189389924248553,
          -1.6986752286473015,
          -2.2268426553186775,
          -0.9201106764549231,
          -1.060674427588634,
          0.7607522685667668,
          0.1235188485203996,
          0.046532648289906525,
          -1.1751332884820118,
          -0.4914839965164748,
          -1.7497373291544116,
          -0.3786193081224398,
          -0.13885120042759355,
          -0.6706094005349879,
          -0.38208822846680607,
          1.1451940523399124,
          -1.5857540722581318,
          1.0235693577972806,
          -1.2530876758385363,
          0.07528977828068915,
          -0.4156784952599241,
          -0.29874608294387867,
          0.48755629016495683,
          0.23878761796209058,
          -0.20848531744749169,
          -0.0689143672965231,
          1.2984345736949008
         ]
        },
        {
         "boxpoints": false,
         "line": {
          "width": 1.3
         },
         "marker": {
          "color": "rgba(55, 128, 191, 1.0)"
         },
         "name": "B",
         "orientation": "v",
         "type": "box",
         "y": [
          -0.5898979642836217,
          -1.7035606150240423,
          0.41195268107418087,
          1.1748195587973018,
          -0.2874381187037066,
          0.5750172963551519,
          -0.6918057201108602,
          1.175390395429051,
          -0.6050538557649577,
          0.0019096459897705962,
          -0.9231136810089464,
          -0.39323459451035514,
          2.244083134591712,
          -0.2882505022052697,
          0.2781543452345917,
          0.7078101611604473,
          0.10649678961373046,
          0.16738271233384605,
          -0.2463839532113507,
          1.895360391608483,
          0.5421372027154331,
          -0.6229051777303326,
          -0.10911768413612674,
          1.4985291313289495,
          0.46005062638417077,
          -1.5223404637630722,
          -0.8075314184354632,
          0.45644429253156205,
          -2.7984474908916193,
          -1.041201734145715,
          0.3375797120780502,
          0.7627293350558662,
          -0.4582718115207457,
          0.3293598357702051,
          0.46510675786566447,
          -3.4360205185224273,
          -1.3947339927310538,
          -0.5221562099881435,
          0.11844118831730661,
          -1.4766140798725693,
          0.19975507683724641,
          -0.9339711813555169,
          0.4620682372737366,
          -2.133616090565549,
          0.3832310677836281,
          0.7267988798691072,
          -0.7422830769123931,
          1.545527709647746,
          -0.7771822405729585,
          1.0400750382376254,
          -1.6855965797420718,
          -1.4495282515512824,
          -0.2038630140221456,
          0.5565767167842305,
          0.6853447643542557,
          -2.1016656826691626,
          0.7968165469168353,
          -1.9742291602109332,
          0.015884797000142253,
          -0.33292686237909414,
          -0.28126192873968675,
          -1.164288982256235,
          0.9531908259029911,
          -0.9663699340304098,
          -0.1407555700606715,
          -0.8902939391432672,
          -0.883753820359266,
          -0.7646362892146369,
          -0.13566886289315494,
          -0.6504629597466766,
          0.46657048242165916,
          0.7078080387334367,
          0.3506441991444549,
          1.3062316775097684,
          0.7666951256814395,
          -2.1761057499896372,
          1.0886646387882366,
          0.1398003837228066,
          1.1774220915886786,
          -1.5628528424355201,
          -0.02078033990114364,
          0.2881795839775908,
          -0.45384339986760425,
          0.8287228776149175,
          -0.47309173198761245,
          0.9618766946968291,
          2.086699961485107,
          -0.3923203335643365,
          -0.3489396871594183,
          0.38009544401220324,
          -1.5582853190566033,
          -2.316080376858616,
          -0.04888223868916067,
          1.4508778558136317,
          -1.0698703039694686,
          0.3906557706873268,
          -1.296791643711909,
          -1.0090503122907404,
          0.9509049308922853,
          -0.02878651143711458
         ]
        },
        {
         "boxpoints": false,
         "line": {
          "width": 1.3
         },
         "marker": {
          "color": "rgba(50, 171, 96, 1.0)"
         },
         "name": "C",
         "orientation": "v",
         "type": "box",
         "y": [
          0.3563595190481723,
          0.5378580625673637,
          0.6173298842049206,
          0.21033550597258313,
          0.44595295816020464,
          0.04734465427785705,
          0.29451514142542107,
          -0.9104362947239052,
          -0.07368373573215535,
          -0.49009579808053116,
          -0.7516560112746027,
          -0.5218355203683539,
          1.0572321458187806,
          -0.19125214921783798,
          -0.8841145793948796,
          -2.3351823124441653,
          0.15341418212355862,
          -0.08823652936084907,
          -0.007883833663842916,
          -0.23585000687120442,
          0.9031303932803689,
          -0.19828958817470044,
          -0.4566188095966283,
          -0.04207055140836586,
          0.2606122258073981,
          0.582451791438679,
          -0.5150976508274104,
          -1.7002930623164572,
          0.927234615632159,
          -0.33999207269869747,
          1.2865951541218563,
          1.2052286004215986,
          -0.034560345581458735,
          -0.1965009735122464,
          0.5788489442796333,
          1.086961676923334,
          1.0517377487472919,
          -0.7778358913150859,
          -0.014333865174890886,
          -1.308274320048806,
          -1.019456586799028,
          1.7877339835004995,
          -0.29094327359053807,
          0.6471806866229206,
          -0.3917125919254808,
          -0.27322823899618803,
          1.094360822140504,
          0.9843093557171149,
          0.18072487387927072,
          0.7345787459591877,
          1.2031898005141421,
          0.6275078194912926,
          -0.3838280425665974,
          -0.11864517969486123,
          -1.0481010822032037,
          -0.13614210035050264,
          0.37261715026318526,
          0.2754932744602963,
          1.2566765340484616,
          -2.327316910825752,
          -0.0337140788528213,
          1.083572109682462,
          0.4020341114343595,
          -0.4476381375854337,
          -0.5479889019832572,
          -1.1601106017360991,
          0.9268847350783452,
          1.3062521338048927,
          2.3696307070086213,
          1.2939936462791204,
          -1.3474579967385054,
          0.7560208066533932,
          0.340328573525602,
          -0.3037446854112319,
          0.14992534941418062,
          0.6981484777917132,
          -1.600137624225199,
          -0.33559716548704815,
          -1.020606706556866,
          1.6218541220366733,
          0.5249322439679205,
          1.2645200714561968,
          -0.5997953207598887,
          -0.8667687617263371,
          0.34602584543690884,
          -0.1154494792571628,
          1.2234381967219794,
          0.4141928086174913,
          -0.49233108234498496,
          -0.34025603284701117,
          0.4300105000890438,
          1.2458895710075948,
          -0.14245016207378774,
          -0.30065296961149235,
          -0.7830309295774042,
          -0.4031855979781393,
          -0.4867573638752105,
          -0.9515469823851814,
          -0.14694131466044105,
          -1.3708606419981288
         ]
        },
        {
         "boxpoints": false,
         "line": {
          "width": 1.3
         },
         "marker": {
          "color": "rgba(128, 0, 128, 1.0)"
         },
         "name": "D",
         "orientation": "v",
         "type": "box",
         "y": [
          -0.6815278090096228,
          0.6836545158540465,
          1.1605213141149195,
          -0.133052458115378,
          -2.979500348480578,
          -0.17772982983823818,
          0.33662075084103943,
          0.8237252349356241,
          1.2155185449253194,
          -0.07648790492327208,
          0.17557566222118365,
          1.4172786923625398,
          0.41023207422787317,
          0.4145840112629592,
          -0.953117960299787,
          1.3902345027918306,
          1.3114591275083565,
          0.37103721204853013,
          1.628584056249766,
          -0.4673707338263525,
          -1.1063509644652172,
          -1.2155338781292224,
          -1.2364022292687875,
          -1.6046087199475132,
          -0.42975066485651914,
          -0.6459359742825395,
          -0.011123596704090351,
          -0.6090853660218682,
          -0.34495894566061597,
          -1.3289599971268262,
          0.7160617352260024,
          -0.37536288095791126,
          -0.6598275895874195,
          -0.9102383622568297,
          -0.3907467067769348,
          2.2817547532041442,
          -0.6931662646971632,
          1.1980966518067875,
          -0.02004411852091231,
          -0.5752395136091221,
          1.2339878709992507,
          -0.2910186234388754,
          1.7759472267876908,
          -0.5431273262618557,
          0.05313825638943675,
          0.2529395777393483,
          0.6079683298852785,
          -0.30212749638410447,
          0.5929116743683776,
          0.6769126419051446,
          2.642585156974257,
          -0.7494424202356387,
          -0.28006733520712335,
          0.5042486184901078,
          0.47419946719610684,
          1.6040680901475013,
          0.973932341470313,
          -0.44950804122739146,
          0.007291868666570613,
          1.0692110221647848,
          -0.7914495847751928,
          -1.5324654850731874,
          -0.5050034502786495,
          -0.7957449591032016,
          0.7211054593963526,
          1.6239848914863952,
          -1.1889529552975984,
          -1.80725971645796,
          -0.1567435717692518,
          1.8863153428561543,
          -0.32596644920844425,
          -1.9491709247132945,
          -0.9943818222384481,
          1.3002735299490298,
          -0.2707542788536193,
          -1.6214993010961989,
          0.07197454848896413,
          0.7028756859541337,
          -1.3855443155607186,
          -0.9359776704337875,
          0.979856625282574,
          0.07954809091402387,
          0.3659749882479351,
          -1.167821128119484,
          -1.7564234558593752,
          -0.7426087044916253,
          0.7794977072509554,
          -0.19306460574406453,
          0.18558965551803455,
          2.579384339758135,
          -0.10036507426068357,
          2.0156085373107837,
          0.8077953402897897,
          0.05250687146482705,
          -1.097473699324034,
          -0.7407063456432476,
          0.7742610571080611,
          -1.087755049692921,
          -1.4286581098621647,
          -0.33755508978657744
         ]
        }
       ],
       "layout": {
        "legend": {
         "bgcolor": "#F5F6F9",
         "font": {
          "color": "#4D5663"
         }
        },
        "paper_bgcolor": "#F5F6F9",
        "plot_bgcolor": "#F5F6F9",
        "template": {
         "data": {
          "bar": [
           {
            "error_x": {
             "color": "#2a3f5f"
            },
            "error_y": {
             "color": "#2a3f5f"
            },
            "marker": {
             "line": {
              "color": "#E5ECF6",
              "width": 0.5
             }
            },
            "type": "bar"
           }
          ],
          "barpolar": [
           {
            "marker": {
             "line": {
              "color": "#E5ECF6",
              "width": 0.5
             }
            },
            "type": "barpolar"
           }
          ],
          "carpet": [
           {
            "aaxis": {
             "endlinecolor": "#2a3f5f",
             "gridcolor": "white",
             "linecolor": "white",
             "minorgridcolor": "white",
             "startlinecolor": "#2a3f5f"
            },
            "baxis": {
             "endlinecolor": "#2a3f5f",
             "gridcolor": "white",
             "linecolor": "white",
             "minorgridcolor": "white",
             "startlinecolor": "#2a3f5f"
            },
            "type": "carpet"
           }
          ],
          "choropleth": [
           {
            "colorbar": {
             "outlinewidth": 0,
             "ticks": ""
            },
            "type": "choropleth"
           }
          ],
          "contour": [
           {
            "colorbar": {
             "outlinewidth": 0,
             "ticks": ""
            },
            "colorscale": [
             [
              0,
              "#0d0887"
             ],
             [
              0.1111111111111111,
              "#46039f"
             ],
             [
              0.2222222222222222,
              "#7201a8"
             ],
             [
              0.3333333333333333,
              "#9c179e"
             ],
             [
              0.4444444444444444,
              "#bd3786"
             ],
             [
              0.5555555555555556,
              "#d8576b"
             ],
             [
              0.6666666666666666,
              "#ed7953"
             ],
             [
              0.7777777777777778,
              "#fb9f3a"
             ],
             [
              0.8888888888888888,
              "#fdca26"
             ],
             [
              1,
              "#f0f921"
             ]
            ],
            "type": "contour"
           }
          ],
          "contourcarpet": [
           {
            "colorbar": {
             "outlinewidth": 0,
             "ticks": ""
            },
            "type": "contourcarpet"
           }
          ],
          "heatmap": [
           {
            "colorbar": {
             "outlinewidth": 0,
             "ticks": ""
            },
            "colorscale": [
             [
              0,
              "#0d0887"
             ],
             [
              0.1111111111111111,
              "#46039f"
             ],
             [
              0.2222222222222222,
              "#7201a8"
             ],
             [
              0.3333333333333333,
              "#9c179e"
             ],
             [
              0.4444444444444444,
              "#bd3786"
             ],
             [
              0.5555555555555556,
              "#d8576b"
             ],
             [
              0.6666666666666666,
              "#ed7953"
             ],
             [
              0.7777777777777778,
              "#fb9f3a"
             ],
             [
              0.8888888888888888,
              "#fdca26"
             ],
             [
              1,
              "#f0f921"
             ]
            ],
            "type": "heatmap"
           }
          ],
          "heatmapgl": [
           {
            "colorbar": {
             "outlinewidth": 0,
             "ticks": ""
            },
            "colorscale": [
             [
              0,
              "#0d0887"
             ],
             [
              0.1111111111111111,
              "#46039f"
             ],
             [
              0.2222222222222222,
              "#7201a8"
             ],
             [
              0.3333333333333333,
              "#9c179e"
             ],
             [
              0.4444444444444444,
              "#bd3786"
             ],
             [
              0.5555555555555556,
              "#d8576b"
             ],
             [
              0.6666666666666666,
              "#ed7953"
             ],
             [
              0.7777777777777778,
              "#fb9f3a"
             ],
             [
              0.8888888888888888,
              "#fdca26"
             ],
             [
              1,
              "#f0f921"
             ]
            ],
            "type": "heatmapgl"
           }
          ],
          "histogram": [
           {
            "marker": {
             "colorbar": {
              "outlinewidth": 0,
              "ticks": ""
             }
            },
            "type": "histogram"
           }
          ],
          "histogram2d": [
           {
            "colorbar": {
             "outlinewidth": 0,
             "ticks": ""
            },
            "colorscale": [
             [
              0,
              "#0d0887"
             ],
             [
              0.1111111111111111,
              "#46039f"
             ],
             [
              0.2222222222222222,
              "#7201a8"
             ],
             [
              0.3333333333333333,
              "#9c179e"
             ],
             [
              0.4444444444444444,
              "#bd3786"
             ],
             [
              0.5555555555555556,
              "#d8576b"
             ],
             [
              0.6666666666666666,
              "#ed7953"
             ],
             [
              0.7777777777777778,
              "#fb9f3a"
             ],
             [
              0.8888888888888888,
              "#fdca26"
             ],
             [
              1,
              "#f0f921"
             ]
            ],
            "type": "histogram2d"
           }
          ],
          "histogram2dcontour": [
           {
            "colorbar": {
             "outlinewidth": 0,
             "ticks": ""
            },
            "colorscale": [
             [
              0,
              "#0d0887"
             ],
             [
              0.1111111111111111,
              "#46039f"
             ],
             [
              0.2222222222222222,
              "#7201a8"
             ],
             [
              0.3333333333333333,
              "#9c179e"
             ],
             [
              0.4444444444444444,
              "#bd3786"
             ],
             [
              0.5555555555555556,
              "#d8576b"
             ],
             [
              0.6666666666666666,
              "#ed7953"
             ],
             [
              0.7777777777777778,
              "#fb9f3a"
             ],
             [
              0.8888888888888888,
              "#fdca26"
             ],
             [
              1,
              "#f0f921"
             ]
            ],
            "type": "histogram2dcontour"
           }
          ],
          "mesh3d": [
           {
            "colorbar": {
             "outlinewidth": 0,
             "ticks": ""
            },
            "type": "mesh3d"
           }
          ],
          "parcoords": [
           {
            "line": {
             "colorbar": {
              "outlinewidth": 0,
              "ticks": ""
             }
            },
            "type": "parcoords"
           }
          ],
          "pie": [
           {
            "automargin": true,
            "type": "pie"
           }
          ],
          "scatter": [
           {
            "marker": {
             "colorbar": {
              "outlinewidth": 0,
              "ticks": ""
             }
            },
            "type": "scatter"
           }
          ],
          "scatter3d": [
           {
            "line": {
             "colorbar": {
              "outlinewidth": 0,
              "ticks": ""
             }
            },
            "marker": {
             "colorbar": {
              "outlinewidth": 0,
              "ticks": ""
             }
            },
            "type": "scatter3d"
           }
          ],
          "scattercarpet": [
           {
            "marker": {
             "colorbar": {
              "outlinewidth": 0,
              "ticks": ""
             }
            },
            "type": "scattercarpet"
           }
          ],
          "scattergeo": [
           {
            "marker": {
             "colorbar": {
              "outlinewidth": 0,
              "ticks": ""
             }
            },
            "type": "scattergeo"
           }
          ],
          "scattergl": [
           {
            "marker": {
             "colorbar": {
              "outlinewidth": 0,
              "ticks": ""
             }
            },
            "type": "scattergl"
           }
          ],
          "scattermapbox": [
           {
            "marker": {
             "colorbar": {
              "outlinewidth": 0,
              "ticks": ""
             }
            },
            "type": "scattermapbox"
           }
          ],
          "scatterpolar": [
           {
            "marker": {
             "colorbar": {
              "outlinewidth": 0,
              "ticks": ""
             }
            },
            "type": "scatterpolar"
           }
          ],
          "scatterpolargl": [
           {
            "marker": {
             "colorbar": {
              "outlinewidth": 0,
              "ticks": ""
             }
            },
            "type": "scatterpolargl"
           }
          ],
          "scatterternary": [
           {
            "marker": {
             "colorbar": {
              "outlinewidth": 0,
              "ticks": ""
             }
            },
            "type": "scatterternary"
           }
          ],
          "surface": [
           {
            "colorbar": {
             "outlinewidth": 0,
             "ticks": ""
            },
            "colorscale": [
             [
              0,
              "#0d0887"
             ],
             [
              0.1111111111111111,
              "#46039f"
             ],
             [
              0.2222222222222222,
              "#7201a8"
             ],
             [
              0.3333333333333333,
              "#9c179e"
             ],
             [
              0.4444444444444444,
              "#bd3786"
             ],
             [
              0.5555555555555556,
              "#d8576b"
             ],
             [
              0.6666666666666666,
              "#ed7953"
             ],
             [
              0.7777777777777778,
              "#fb9f3a"
             ],
             [
              0.8888888888888888,
              "#fdca26"
             ],
             [
              1,
              "#f0f921"
             ]
            ],
            "type": "surface"
           }
          ],
          "table": [
           {
            "cells": {
             "fill": {
              "color": "#EBF0F8"
             },
             "line": {
              "color": "white"
             }
            },
            "header": {
             "fill": {
              "color": "#C8D4E3"
             },
             "line": {
              "color": "white"
             }
            },
            "type": "table"
           }
          ]
         },
         "layout": {
          "annotationdefaults": {
           "arrowcolor": "#2a3f5f",
           "arrowhead": 0,
           "arrowwidth": 1
          },
          "coloraxis": {
           "colorbar": {
            "outlinewidth": 0,
            "ticks": ""
           }
          },
          "colorscale": {
           "diverging": [
            [
             0,
             "#8e0152"
            ],
            [
             0.1,
             "#c51b7d"
            ],
            [
             0.2,
             "#de77ae"
            ],
            [
             0.3,
             "#f1b6da"
            ],
            [
             0.4,
             "#fde0ef"
            ],
            [
             0.5,
             "#f7f7f7"
            ],
            [
             0.6,
             "#e6f5d0"
            ],
            [
             0.7,
             "#b8e186"
            ],
            [
             0.8,
             "#7fbc41"
            ],
            [
             0.9,
             "#4d9221"
            ],
            [
             1,
             "#276419"
            ]
           ],
           "sequential": [
            [
             0,
             "#0d0887"
            ],
            [
             0.1111111111111111,
             "#46039f"
            ],
            [
             0.2222222222222222,
             "#7201a8"
            ],
            [
             0.3333333333333333,
             "#9c179e"
            ],
            [
             0.4444444444444444,
             "#bd3786"
            ],
            [
             0.5555555555555556,
             "#d8576b"
            ],
            [
             0.6666666666666666,
             "#ed7953"
            ],
            [
             0.7777777777777778,
             "#fb9f3a"
            ],
            [
             0.8888888888888888,
             "#fdca26"
            ],
            [
             1,
             "#f0f921"
            ]
           ],
           "sequentialminus": [
            [
             0,
             "#0d0887"
            ],
            [
             0.1111111111111111,
             "#46039f"
            ],
            [
             0.2222222222222222,
             "#7201a8"
            ],
            [
             0.3333333333333333,
             "#9c179e"
            ],
            [
             0.4444444444444444,
             "#bd3786"
            ],
            [
             0.5555555555555556,
             "#d8576b"
            ],
            [
             0.6666666666666666,
             "#ed7953"
            ],
            [
             0.7777777777777778,
             "#fb9f3a"
            ],
            [
             0.8888888888888888,
             "#fdca26"
            ],
            [
             1,
             "#f0f921"
            ]
           ]
          },
          "colorway": [
           "#636efa",
           "#EF553B",
           "#00cc96",
           "#ab63fa",
           "#FFA15A",
           "#19d3f3",
           "#FF6692",
           "#B6E880",
           "#FF97FF",
           "#FECB52"
          ],
          "font": {
           "color": "#2a3f5f"
          },
          "geo": {
           "bgcolor": "white",
           "lakecolor": "white",
           "landcolor": "#E5ECF6",
           "showlakes": true,
           "showland": true,
           "subunitcolor": "white"
          },
          "hoverlabel": {
           "align": "left"
          },
          "hovermode": "closest",
          "mapbox": {
           "style": "light"
          },
          "paper_bgcolor": "white",
          "plot_bgcolor": "#E5ECF6",
          "polar": {
           "angularaxis": {
            "gridcolor": "white",
            "linecolor": "white",
            "ticks": ""
           },
           "bgcolor": "#E5ECF6",
           "radialaxis": {
            "gridcolor": "white",
            "linecolor": "white",
            "ticks": ""
           }
          },
          "scene": {
           "xaxis": {
            "backgroundcolor": "#E5ECF6",
            "gridcolor": "white",
            "gridwidth": 2,
            "linecolor": "white",
            "showbackground": true,
            "ticks": "",
            "zerolinecolor": "white"
           },
           "yaxis": {
            "backgroundcolor": "#E5ECF6",
            "gridcolor": "white",
            "gridwidth": 2,
            "linecolor": "white",
            "showbackground": true,
            "ticks": "",
            "zerolinecolor": "white"
           },
           "zaxis": {
            "backgroundcolor": "#E5ECF6",
            "gridcolor": "white",
            "gridwidth": 2,
            "linecolor": "white",
            "showbackground": true,
            "ticks": "",
            "zerolinecolor": "white"
           }
          },
          "shapedefaults": {
           "line": {
            "color": "#2a3f5f"
           }
          },
          "ternary": {
           "aaxis": {
            "gridcolor": "white",
            "linecolor": "white",
            "ticks": ""
           },
           "baxis": {
            "gridcolor": "white",
            "linecolor": "white",
            "ticks": ""
           },
           "bgcolor": "#E5ECF6",
           "caxis": {
            "gridcolor": "white",
            "linecolor": "white",
            "ticks": ""
           }
          },
          "title": {
           "x": 0.05
          },
          "xaxis": {
           "automargin": true,
           "gridcolor": "white",
           "linecolor": "white",
           "ticks": "",
           "title": {
            "standoff": 15
           },
           "zerolinecolor": "white",
           "zerolinewidth": 2
          },
          "yaxis": {
           "automargin": true,
           "gridcolor": "white",
           "linecolor": "white",
           "ticks": "",
           "title": {
            "standoff": 15
           },
           "zerolinecolor": "white",
           "zerolinewidth": 2
          }
         }
        },
        "title": {
         "font": {
          "color": "#4D5663"
         }
        },
        "xaxis": {
         "gridcolor": "#E1E5ED",
         "showgrid": true,
         "tickfont": {
          "color": "#4D5663"
         },
         "title": {
          "font": {
           "color": "#4D5663"
          },
          "text": ""
         },
         "zerolinecolor": "#E1E5ED"
        },
        "yaxis": {
         "gridcolor": "#E1E5ED",
         "showgrid": true,
         "tickfont": {
          "color": "#4D5663"
         },
         "title": {
          "font": {
           "color": "#4D5663"
          },
          "text": ""
         },
         "zerolinecolor": "#E1E5ED"
        }
       }
      },
      "text/html": [
       "<div>\n",
       "        \n",
       "        \n",
       "            <div id=\"f6abea75-0534-4099-b479-4a3448e22594\" class=\"plotly-graph-div\" style=\"height:525px; width:100%;\"></div>\n",
       "            <script type=\"text/javascript\">\n",
       "                require([\"plotly\"], function(Plotly) {\n",
       "                    window.PLOTLYENV=window.PLOTLYENV || {};\n",
       "                    window.PLOTLYENV.BASE_URL='https://plot.ly';\n",
       "                    \n",
       "                if (document.getElementById(\"f6abea75-0534-4099-b479-4a3448e22594\")) {\n",
       "                    Plotly.newPlot(\n",
       "                        'f6abea75-0534-4099-b479-4a3448e22594',\n",
       "                        [{\"boxpoints\": false, \"line\": {\"width\": 1.3}, \"marker\": {\"color\": \"rgba(255, 153, 51, 1.0)\"}, \"name\": \"A\", \"orientation\": \"v\", \"type\": \"box\", \"y\": [-1.1833147841107685, -1.7500193061567437, 1.131725711797192, -0.4149990629871035, -0.5546323136266743, 0.30716715349814916, 0.9307409446318613, 1.1827126886991306, -0.36277765018746844, -1.1575863885269426, -0.8378908404057034, -0.3912685021276453, -1.3589334660637948, -0.9289435721940565, -0.7124449800398088, -1.6065487619933794, 2.332208250292037, 0.8026240180457727, -0.3270519336517877, -0.23711569943831692, -1.1574596670571589, 0.6356964428430179, -1.1519757857088226, -3.8820799601324034, 0.7723161251731423, 2.065264810943613, 0.02000222388239315, 0.3991394917296089, 0.945535911129008, -1.204940020191649, 0.2502984273434721, 0.4384717934478959, -0.3157678412237403, 0.6107843478312683, 1.4209487036819728, 0.8379028557999306, 1.402820371959644, -0.7644680156984743, 3.3499358837402666, -0.2794976581737439, 0.7120731738683018, 0.46511545582490277, 0.2695328720433325, 1.6056065472068564, -0.5389598099942599, 1.5665773988947163, 0.06510700987045681, 0.5239553353008185, 0.019203296036346764, -0.4421735345591453, 0.14516936021065513, 1.0355126831038233, -0.023036701246943896, 1.0388811679514585, -0.20672847201013142, 0.1716283164432814, -1.9380850409091082, -0.5851204532923052, -1.9757006147510012, 0.34022601382222384, 0.5079218681199503, 0.7631189321743553, 0.96306713033488, -0.8121233094405356, -0.9882153281714651, -0.4845284460071705, -0.02570082243243427, -0.03400268620872826, 0.5047792802117658, -2.279607145438385, -0.07385901857965435, -1.1771511696616481, -0.100857518160516, 1.0189389924248553, -1.6986752286473015, -2.2268426553186775, -0.9201106764549231, -1.060674427588634, 0.7607522685667668, 0.1235188485203996, 0.046532648289906525, -1.1751332884820118, -0.4914839965164748, -1.7497373291544116, -0.3786193081224398, -0.13885120042759355, -0.6706094005349879, -0.38208822846680607, 1.1451940523399124, -1.5857540722581318, 1.0235693577972806, -1.2530876758385363, 0.07528977828068915, -0.4156784952599241, -0.29874608294387867, 0.48755629016495683, 0.23878761796209058, -0.20848531744749169, -0.0689143672965231, 1.2984345736949008]}, {\"boxpoints\": false, \"line\": {\"width\": 1.3}, \"marker\": {\"color\": \"rgba(55, 128, 191, 1.0)\"}, \"name\": \"B\", \"orientation\": \"v\", \"type\": \"box\", \"y\": [-0.5898979642836217, -1.7035606150240423, 0.41195268107418087, 1.1748195587973018, -0.2874381187037066, 0.5750172963551519, -0.6918057201108602, 1.175390395429051, -0.6050538557649577, 0.0019096459897705962, -0.9231136810089464, -0.39323459451035514, 2.244083134591712, -0.2882505022052697, 0.2781543452345917, 0.7078101611604473, 0.10649678961373046, 0.16738271233384605, -0.2463839532113507, 1.895360391608483, 0.5421372027154331, -0.6229051777303326, -0.10911768413612674, 1.4985291313289495, 0.46005062638417077, -1.5223404637630722, -0.8075314184354632, 0.45644429253156205, -2.7984474908916193, -1.041201734145715, 0.3375797120780502, 0.7627293350558662, -0.4582718115207457, 0.3293598357702051, 0.46510675786566447, -3.4360205185224273, -1.3947339927310538, -0.5221562099881435, 0.11844118831730661, -1.4766140798725693, 0.19975507683724641, -0.9339711813555169, 0.4620682372737366, -2.133616090565549, 0.3832310677836281, 0.7267988798691072, -0.7422830769123931, 1.545527709647746, -0.7771822405729585, 1.0400750382376254, -1.6855965797420718, -1.4495282515512824, -0.2038630140221456, 0.5565767167842305, 0.6853447643542557, -2.1016656826691626, 0.7968165469168353, -1.9742291602109332, 0.015884797000142253, -0.33292686237909414, -0.28126192873968675, -1.164288982256235, 0.9531908259029911, -0.9663699340304098, -0.1407555700606715, -0.8902939391432672, -0.883753820359266, -0.7646362892146369, -0.13566886289315494, -0.6504629597466766, 0.46657048242165916, 0.7078080387334367, 0.3506441991444549, 1.3062316775097684, 0.7666951256814395, -2.1761057499896372, 1.0886646387882366, 0.1398003837228066, 1.1774220915886786, -1.5628528424355201, -0.02078033990114364, 0.2881795839775908, -0.45384339986760425, 0.8287228776149175, -0.47309173198761245, 0.9618766946968291, 2.086699961485107, -0.3923203335643365, -0.3489396871594183, 0.38009544401220324, -1.5582853190566033, -2.316080376858616, -0.04888223868916067, 1.4508778558136317, -1.0698703039694686, 0.3906557706873268, -1.296791643711909, -1.0090503122907404, 0.9509049308922853, -0.02878651143711458]}, {\"boxpoints\": false, \"line\": {\"width\": 1.3}, \"marker\": {\"color\": \"rgba(50, 171, 96, 1.0)\"}, \"name\": \"C\", \"orientation\": \"v\", \"type\": \"box\", \"y\": [0.3563595190481723, 0.5378580625673637, 0.6173298842049206, 0.21033550597258313, 0.44595295816020464, 0.04734465427785705, 0.29451514142542107, -0.9104362947239052, -0.07368373573215535, -0.49009579808053116, -0.7516560112746027, -0.5218355203683539, 1.0572321458187806, -0.19125214921783798, -0.8841145793948796, -2.3351823124441653, 0.15341418212355862, -0.08823652936084907, -0.007883833663842916, -0.23585000687120442, 0.9031303932803689, -0.19828958817470044, -0.4566188095966283, -0.04207055140836586, 0.2606122258073981, 0.582451791438679, -0.5150976508274104, -1.7002930623164572, 0.927234615632159, -0.33999207269869747, 1.2865951541218563, 1.2052286004215986, -0.034560345581458735, -0.1965009735122464, 0.5788489442796333, 1.086961676923334, 1.0517377487472919, -0.7778358913150859, -0.014333865174890886, -1.308274320048806, -1.019456586799028, 1.7877339835004995, -0.29094327359053807, 0.6471806866229206, -0.3917125919254808, -0.27322823899618803, 1.094360822140504, 0.9843093557171149, 0.18072487387927072, 0.7345787459591877, 1.2031898005141421, 0.6275078194912926, -0.3838280425665974, -0.11864517969486123, -1.0481010822032037, -0.13614210035050264, 0.37261715026318526, 0.2754932744602963, 1.2566765340484616, -2.327316910825752, -0.0337140788528213, 1.083572109682462, 0.4020341114343595, -0.4476381375854337, -0.5479889019832572, -1.1601106017360991, 0.9268847350783452, 1.3062521338048927, 2.3696307070086213, 1.2939936462791204, -1.3474579967385054, 0.7560208066533932, 0.340328573525602, -0.3037446854112319, 0.14992534941418062, 0.6981484777917132, -1.600137624225199, -0.33559716548704815, -1.020606706556866, 1.6218541220366733, 0.5249322439679205, 1.2645200714561968, -0.5997953207598887, -0.8667687617263371, 0.34602584543690884, -0.1154494792571628, 1.2234381967219794, 0.4141928086174913, -0.49233108234498496, -0.34025603284701117, 0.4300105000890438, 1.2458895710075948, -0.14245016207378774, -0.30065296961149235, -0.7830309295774042, -0.4031855979781393, -0.4867573638752105, -0.9515469823851814, -0.14694131466044105, -1.3708606419981288]}, {\"boxpoints\": false, \"line\": {\"width\": 1.3}, \"marker\": {\"color\": \"rgba(128, 0, 128, 1.0)\"}, \"name\": \"D\", \"orientation\": \"v\", \"type\": \"box\", \"y\": [-0.6815278090096228, 0.6836545158540465, 1.1605213141149195, -0.133052458115378, -2.979500348480578, -0.17772982983823818, 0.33662075084103943, 0.8237252349356241, 1.2155185449253194, -0.07648790492327208, 0.17557566222118365, 1.4172786923625398, 0.41023207422787317, 0.4145840112629592, -0.953117960299787, 1.3902345027918306, 1.3114591275083565, 0.37103721204853013, 1.628584056249766, -0.4673707338263525, -1.1063509644652172, -1.2155338781292224, -1.2364022292687875, -1.6046087199475132, -0.42975066485651914, -0.6459359742825395, -0.011123596704090351, -0.6090853660218682, -0.34495894566061597, -1.3289599971268262, 0.7160617352260024, -0.37536288095791126, -0.6598275895874195, -0.9102383622568297, -0.3907467067769348, 2.2817547532041442, -0.6931662646971632, 1.1980966518067875, -0.02004411852091231, -0.5752395136091221, 1.2339878709992507, -0.2910186234388754, 1.7759472267876908, -0.5431273262618557, 0.05313825638943675, 0.2529395777393483, 0.6079683298852785, -0.30212749638410447, 0.5929116743683776, 0.6769126419051446, 2.642585156974257, -0.7494424202356387, -0.28006733520712335, 0.5042486184901078, 0.47419946719610684, 1.6040680901475013, 0.973932341470313, -0.44950804122739146, 0.007291868666570613, 1.0692110221647848, -0.7914495847751928, -1.5324654850731874, -0.5050034502786495, -0.7957449591032016, 0.7211054593963526, 1.6239848914863952, -1.1889529552975984, -1.80725971645796, -0.1567435717692518, 1.8863153428561543, -0.32596644920844425, -1.9491709247132945, -0.9943818222384481, 1.3002735299490298, -0.2707542788536193, -1.6214993010961989, 0.07197454848896413, 0.7028756859541337, -1.3855443155607186, -0.9359776704337875, 0.979856625282574, 0.07954809091402387, 0.3659749882479351, -1.167821128119484, -1.7564234558593752, -0.7426087044916253, 0.7794977072509554, -0.19306460574406453, 0.18558965551803455, 2.579384339758135, -0.10036507426068357, 2.0156085373107837, 0.8077953402897897, 0.05250687146482705, -1.097473699324034, -0.7407063456432476, 0.7742610571080611, -1.087755049692921, -1.4286581098621647, -0.33755508978657744]}],\n",
       "                        {\"legend\": {\"bgcolor\": \"#F5F6F9\", \"font\": {\"color\": \"#4D5663\"}}, \"paper_bgcolor\": \"#F5F6F9\", \"plot_bgcolor\": \"#F5F6F9\", \"template\": {\"data\": {\"bar\": [{\"error_x\": {\"color\": \"#2a3f5f\"}, \"error_y\": {\"color\": \"#2a3f5f\"}, \"marker\": {\"line\": {\"color\": \"#E5ECF6\", \"width\": 0.5}}, \"type\": \"bar\"}], \"barpolar\": [{\"marker\": {\"line\": {\"color\": \"#E5ECF6\", \"width\": 0.5}}, \"type\": \"barpolar\"}], \"carpet\": [{\"aaxis\": {\"endlinecolor\": \"#2a3f5f\", \"gridcolor\": \"white\", \"linecolor\": \"white\", \"minorgridcolor\": \"white\", \"startlinecolor\": \"#2a3f5f\"}, \"baxis\": {\"endlinecolor\": \"#2a3f5f\", \"gridcolor\": \"white\", \"linecolor\": \"white\", \"minorgridcolor\": \"white\", \"startlinecolor\": \"#2a3f5f\"}, \"type\": \"carpet\"}], \"choropleth\": [{\"colorbar\": {\"outlinewidth\": 0, \"ticks\": \"\"}, \"type\": \"choropleth\"}], \"contour\": [{\"colorbar\": {\"outlinewidth\": 0, \"ticks\": \"\"}, \"colorscale\": [[0.0, \"#0d0887\"], [0.1111111111111111, \"#46039f\"], [0.2222222222222222, \"#7201a8\"], [0.3333333333333333, \"#9c179e\"], [0.4444444444444444, \"#bd3786\"], [0.5555555555555556, \"#d8576b\"], [0.6666666666666666, \"#ed7953\"], [0.7777777777777778, \"#fb9f3a\"], [0.8888888888888888, \"#fdca26\"], [1.0, \"#f0f921\"]], \"type\": \"contour\"}], \"contourcarpet\": [{\"colorbar\": {\"outlinewidth\": 0, \"ticks\": \"\"}, \"type\": \"contourcarpet\"}], \"heatmap\": [{\"colorbar\": {\"outlinewidth\": 0, \"ticks\": \"\"}, \"colorscale\": [[0.0, \"#0d0887\"], [0.1111111111111111, \"#46039f\"], [0.2222222222222222, \"#7201a8\"], [0.3333333333333333, \"#9c179e\"], [0.4444444444444444, \"#bd3786\"], [0.5555555555555556, \"#d8576b\"], [0.6666666666666666, \"#ed7953\"], [0.7777777777777778, \"#fb9f3a\"], [0.8888888888888888, \"#fdca26\"], [1.0, \"#f0f921\"]], \"type\": \"heatmap\"}], \"heatmapgl\": [{\"colorbar\": {\"outlinewidth\": 0, \"ticks\": \"\"}, \"colorscale\": [[0.0, \"#0d0887\"], [0.1111111111111111, \"#46039f\"], [0.2222222222222222, \"#7201a8\"], [0.3333333333333333, \"#9c179e\"], [0.4444444444444444, \"#bd3786\"], [0.5555555555555556, \"#d8576b\"], [0.6666666666666666, \"#ed7953\"], [0.7777777777777778, \"#fb9f3a\"], [0.8888888888888888, \"#fdca26\"], [1.0, \"#f0f921\"]], \"type\": \"heatmapgl\"}], \"histogram\": [{\"marker\": {\"colorbar\": {\"outlinewidth\": 0, \"ticks\": \"\"}}, \"type\": \"histogram\"}], \"histogram2d\": [{\"colorbar\": {\"outlinewidth\": 0, \"ticks\": \"\"}, \"colorscale\": [[0.0, \"#0d0887\"], [0.1111111111111111, \"#46039f\"], [0.2222222222222222, \"#7201a8\"], [0.3333333333333333, \"#9c179e\"], [0.4444444444444444, \"#bd3786\"], [0.5555555555555556, \"#d8576b\"], [0.6666666666666666, \"#ed7953\"], [0.7777777777777778, \"#fb9f3a\"], [0.8888888888888888, \"#fdca26\"], [1.0, \"#f0f921\"]], \"type\": \"histogram2d\"}], \"histogram2dcontour\": [{\"colorbar\": {\"outlinewidth\": 0, \"ticks\": \"\"}, \"colorscale\": [[0.0, \"#0d0887\"], [0.1111111111111111, \"#46039f\"], [0.2222222222222222, \"#7201a8\"], [0.3333333333333333, \"#9c179e\"], [0.4444444444444444, \"#bd3786\"], [0.5555555555555556, \"#d8576b\"], [0.6666666666666666, \"#ed7953\"], [0.7777777777777778, \"#fb9f3a\"], [0.8888888888888888, \"#fdca26\"], [1.0, \"#f0f921\"]], \"type\": \"histogram2dcontour\"}], \"mesh3d\": [{\"colorbar\": {\"outlinewidth\": 0, \"ticks\": \"\"}, \"type\": \"mesh3d\"}], \"parcoords\": [{\"line\": {\"colorbar\": {\"outlinewidth\": 0, \"ticks\": \"\"}}, \"type\": \"parcoords\"}], \"pie\": [{\"automargin\": true, \"type\": \"pie\"}], \"scatter\": [{\"marker\": {\"colorbar\": {\"outlinewidth\": 0, \"ticks\": \"\"}}, \"type\": \"scatter\"}], \"scatter3d\": [{\"line\": {\"colorbar\": {\"outlinewidth\": 0, \"ticks\": \"\"}}, \"marker\": {\"colorbar\": {\"outlinewidth\": 0, \"ticks\": \"\"}}, \"type\": \"scatter3d\"}], \"scattercarpet\": [{\"marker\": {\"colorbar\": {\"outlinewidth\": 0, \"ticks\": \"\"}}, \"type\": \"scattercarpet\"}], \"scattergeo\": [{\"marker\": {\"colorbar\": {\"outlinewidth\": 0, \"ticks\": \"\"}}, \"type\": \"scattergeo\"}], \"scattergl\": [{\"marker\": {\"colorbar\": {\"outlinewidth\": 0, \"ticks\": \"\"}}, \"type\": \"scattergl\"}], \"scattermapbox\": [{\"marker\": {\"colorbar\": {\"outlinewidth\": 0, \"ticks\": \"\"}}, \"type\": \"scattermapbox\"}], \"scatterpolar\": [{\"marker\": {\"colorbar\": {\"outlinewidth\": 0, \"ticks\": \"\"}}, \"type\": \"scatterpolar\"}], \"scatterpolargl\": [{\"marker\": {\"colorbar\": {\"outlinewidth\": 0, \"ticks\": \"\"}}, \"type\": \"scatterpolargl\"}], \"scatterternary\": [{\"marker\": {\"colorbar\": {\"outlinewidth\": 0, \"ticks\": \"\"}}, \"type\": \"scatterternary\"}], \"surface\": [{\"colorbar\": {\"outlinewidth\": 0, \"ticks\": \"\"}, \"colorscale\": [[0.0, \"#0d0887\"], [0.1111111111111111, \"#46039f\"], [0.2222222222222222, \"#7201a8\"], [0.3333333333333333, \"#9c179e\"], [0.4444444444444444, \"#bd3786\"], [0.5555555555555556, \"#d8576b\"], [0.6666666666666666, \"#ed7953\"], [0.7777777777777778, \"#fb9f3a\"], [0.8888888888888888, \"#fdca26\"], [1.0, \"#f0f921\"]], \"type\": \"surface\"}], \"table\": [{\"cells\": {\"fill\": {\"color\": \"#EBF0F8\"}, \"line\": {\"color\": \"white\"}}, \"header\": {\"fill\": {\"color\": \"#C8D4E3\"}, \"line\": {\"color\": \"white\"}}, \"type\": \"table\"}]}, \"layout\": {\"annotationdefaults\": {\"arrowcolor\": \"#2a3f5f\", \"arrowhead\": 0, \"arrowwidth\": 1}, \"coloraxis\": {\"colorbar\": {\"outlinewidth\": 0, \"ticks\": \"\"}}, \"colorscale\": {\"diverging\": [[0, \"#8e0152\"], [0.1, \"#c51b7d\"], [0.2, \"#de77ae\"], [0.3, \"#f1b6da\"], [0.4, \"#fde0ef\"], [0.5, \"#f7f7f7\"], [0.6, \"#e6f5d0\"], [0.7, \"#b8e186\"], [0.8, \"#7fbc41\"], [0.9, \"#4d9221\"], [1, \"#276419\"]], \"sequential\": [[0.0, \"#0d0887\"], [0.1111111111111111, \"#46039f\"], [0.2222222222222222, \"#7201a8\"], [0.3333333333333333, \"#9c179e\"], [0.4444444444444444, \"#bd3786\"], [0.5555555555555556, \"#d8576b\"], [0.6666666666666666, \"#ed7953\"], [0.7777777777777778, \"#fb9f3a\"], [0.8888888888888888, \"#fdca26\"], [1.0, \"#f0f921\"]], \"sequentialminus\": [[0.0, \"#0d0887\"], [0.1111111111111111, \"#46039f\"], [0.2222222222222222, \"#7201a8\"], [0.3333333333333333, \"#9c179e\"], [0.4444444444444444, \"#bd3786\"], [0.5555555555555556, \"#d8576b\"], [0.6666666666666666, \"#ed7953\"], [0.7777777777777778, \"#fb9f3a\"], [0.8888888888888888, \"#fdca26\"], [1.0, \"#f0f921\"]]}, \"colorway\": [\"#636efa\", \"#EF553B\", \"#00cc96\", \"#ab63fa\", \"#FFA15A\", \"#19d3f3\", \"#FF6692\", \"#B6E880\", \"#FF97FF\", \"#FECB52\"], \"font\": {\"color\": \"#2a3f5f\"}, \"geo\": {\"bgcolor\": \"white\", \"lakecolor\": \"white\", \"landcolor\": \"#E5ECF6\", \"showlakes\": true, \"showland\": true, \"subunitcolor\": \"white\"}, \"hoverlabel\": {\"align\": \"left\"}, \"hovermode\": \"closest\", \"mapbox\": {\"style\": \"light\"}, \"paper_bgcolor\": \"white\", \"plot_bgcolor\": \"#E5ECF6\", \"polar\": {\"angularaxis\": {\"gridcolor\": \"white\", \"linecolor\": \"white\", \"ticks\": \"\"}, \"bgcolor\": \"#E5ECF6\", \"radialaxis\": {\"gridcolor\": \"white\", \"linecolor\": \"white\", \"ticks\": \"\"}}, \"scene\": {\"xaxis\": {\"backgroundcolor\": \"#E5ECF6\", \"gridcolor\": \"white\", \"gridwidth\": 2, \"linecolor\": \"white\", \"showbackground\": true, \"ticks\": \"\", \"zerolinecolor\": \"white\"}, \"yaxis\": {\"backgroundcolor\": \"#E5ECF6\", \"gridcolor\": \"white\", \"gridwidth\": 2, \"linecolor\": \"white\", \"showbackground\": true, \"ticks\": \"\", \"zerolinecolor\": \"white\"}, \"zaxis\": {\"backgroundcolor\": \"#E5ECF6\", \"gridcolor\": \"white\", \"gridwidth\": 2, \"linecolor\": \"white\", \"showbackground\": true, \"ticks\": \"\", \"zerolinecolor\": \"white\"}}, \"shapedefaults\": {\"line\": {\"color\": \"#2a3f5f\"}}, \"ternary\": {\"aaxis\": {\"gridcolor\": \"white\", \"linecolor\": \"white\", \"ticks\": \"\"}, \"baxis\": {\"gridcolor\": \"white\", \"linecolor\": \"white\", \"ticks\": \"\"}, \"bgcolor\": \"#E5ECF6\", \"caxis\": {\"gridcolor\": \"white\", \"linecolor\": \"white\", \"ticks\": \"\"}}, \"title\": {\"x\": 0.05}, \"xaxis\": {\"automargin\": true, \"gridcolor\": \"white\", \"linecolor\": \"white\", \"ticks\": \"\", \"title\": {\"standoff\": 15}, \"zerolinecolor\": \"white\", \"zerolinewidth\": 2}, \"yaxis\": {\"automargin\": true, \"gridcolor\": \"white\", \"linecolor\": \"white\", \"ticks\": \"\", \"title\": {\"standoff\": 15}, \"zerolinecolor\": \"white\", \"zerolinewidth\": 2}}}, \"title\": {\"font\": {\"color\": \"#4D5663\"}}, \"xaxis\": {\"gridcolor\": \"#E1E5ED\", \"showgrid\": true, \"tickfont\": {\"color\": \"#4D5663\"}, \"title\": {\"font\": {\"color\": \"#4D5663\"}, \"text\": \"\"}, \"zerolinecolor\": \"#E1E5ED\"}, \"yaxis\": {\"gridcolor\": \"#E1E5ED\", \"showgrid\": true, \"tickfont\": {\"color\": \"#4D5663\"}, \"title\": {\"font\": {\"color\": \"#4D5663\"}, \"text\": \"\"}, \"zerolinecolor\": \"#E1E5ED\"}},\n",
       "                        {\"showLink\": true, \"linkText\": \"Export to plot.ly\", \"plotlyServerURL\": \"https://plot.ly\", \"responsive\": true}\n",
       "                    ).then(function(){\n",
       "                            \n",
       "var gd = document.getElementById('f6abea75-0534-4099-b479-4a3448e22594');\n",
       "var x = new MutationObserver(function (mutations, observer) {{\n",
       "        var display = window.getComputedStyle(gd).display;\n",
       "        if (!display || display === 'none') {{\n",
       "            console.log([gd, 'removed!']);\n",
       "            Plotly.purge(gd);\n",
       "            observer.disconnect();\n",
       "        }}\n",
       "}});\n",
       "\n",
       "// Listen for the removal of the full notebook cells\n",
       "var notebookContainer = gd.closest('#notebook-container');\n",
       "if (notebookContainer) {{\n",
       "    x.observe(notebookContainer, {childList: true});\n",
       "}}\n",
       "\n",
       "// Listen for the clearing of the current output cell\n",
       "var outputEl = gd.closest('.output');\n",
       "if (outputEl) {{\n",
       "    x.observe(outputEl, {childList: true});\n",
       "}}\n",
       "\n",
       "                        })\n",
       "                };\n",
       "                });\n",
       "            </script>\n",
       "        </div>"
      ]
     },
     "metadata": {},
     "output_type": "display_data"
    }
   ],
   "source": [
    "df.iplot(kind='box')"
   ]
  },
  {
   "cell_type": "markdown",
   "metadata": {},
   "source": [
    "## 3d Surface"
   ]
  },
  {
   "cell_type": "code",
   "execution_count": 19,
   "metadata": {},
   "outputs": [
    {
     "data": {
      "application/vnd.plotly.v1+json": {
       "config": {
        "linkText": "Export to plot.ly",
        "plotlyServerURL": "https://plot.ly",
        "showLink": true
       },
       "data": [
        {
         "colorscale": [
          [
           0,
           "rgb(165,0,38)"
          ],
          [
           0.1,
           "rgb(215,48,39)"
          ],
          [
           0.2,
           "rgb(244,109,67)"
          ],
          [
           0.3,
           "rgb(253,174,97)"
          ],
          [
           0.4,
           "rgb(254,224,144)"
          ],
          [
           0.5,
           "rgb(255,255,191)"
          ],
          [
           0.6,
           "rgb(224,243,248)"
          ],
          [
           0.7,
           "rgb(171,217,233)"
          ],
          [
           0.8,
           "rgb(116,173,209)"
          ],
          [
           0.9,
           "rgb(69,117,180)"
          ],
          [
           1,
           "rgb(49,54,149)"
          ]
         ],
         "type": "surface",
         "x": [
          0,
          1,
          2,
          3,
          4
         ],
         "y": [
          "x",
          "y",
          "z"
         ],
         "z": [
          [
           1,
           2,
           3,
           4,
           5
          ],
          [
           10,
           20,
           30,
           20,
           10
          ],
          [
           5,
           4,
           3,
           2,
           1
          ]
         ]
        }
       ],
       "layout": {
        "legend": {
         "bgcolor": "#F5F6F9",
         "font": {
          "color": "#4D5663"
         }
        },
        "paper_bgcolor": "#F5F6F9",
        "plot_bgcolor": "#F5F6F9",
        "template": {
         "data": {
          "bar": [
           {
            "error_x": {
             "color": "#2a3f5f"
            },
            "error_y": {
             "color": "#2a3f5f"
            },
            "marker": {
             "line": {
              "color": "#E5ECF6",
              "width": 0.5
             }
            },
            "type": "bar"
           }
          ],
          "barpolar": [
           {
            "marker": {
             "line": {
              "color": "#E5ECF6",
              "width": 0.5
             }
            },
            "type": "barpolar"
           }
          ],
          "carpet": [
           {
            "aaxis": {
             "endlinecolor": "#2a3f5f",
             "gridcolor": "white",
             "linecolor": "white",
             "minorgridcolor": "white",
             "startlinecolor": "#2a3f5f"
            },
            "baxis": {
             "endlinecolor": "#2a3f5f",
             "gridcolor": "white",
             "linecolor": "white",
             "minorgridcolor": "white",
             "startlinecolor": "#2a3f5f"
            },
            "type": "carpet"
           }
          ],
          "choropleth": [
           {
            "colorbar": {
             "outlinewidth": 0,
             "ticks": ""
            },
            "type": "choropleth"
           }
          ],
          "contour": [
           {
            "colorbar": {
             "outlinewidth": 0,
             "ticks": ""
            },
            "colorscale": [
             [
              0,
              "#0d0887"
             ],
             [
              0.1111111111111111,
              "#46039f"
             ],
             [
              0.2222222222222222,
              "#7201a8"
             ],
             [
              0.3333333333333333,
              "#9c179e"
             ],
             [
              0.4444444444444444,
              "#bd3786"
             ],
             [
              0.5555555555555556,
              "#d8576b"
             ],
             [
              0.6666666666666666,
              "#ed7953"
             ],
             [
              0.7777777777777778,
              "#fb9f3a"
             ],
             [
              0.8888888888888888,
              "#fdca26"
             ],
             [
              1,
              "#f0f921"
             ]
            ],
            "type": "contour"
           }
          ],
          "contourcarpet": [
           {
            "colorbar": {
             "outlinewidth": 0,
             "ticks": ""
            },
            "type": "contourcarpet"
           }
          ],
          "heatmap": [
           {
            "colorbar": {
             "outlinewidth": 0,
             "ticks": ""
            },
            "colorscale": [
             [
              0,
              "#0d0887"
             ],
             [
              0.1111111111111111,
              "#46039f"
             ],
             [
              0.2222222222222222,
              "#7201a8"
             ],
             [
              0.3333333333333333,
              "#9c179e"
             ],
             [
              0.4444444444444444,
              "#bd3786"
             ],
             [
              0.5555555555555556,
              "#d8576b"
             ],
             [
              0.6666666666666666,
              "#ed7953"
             ],
             [
              0.7777777777777778,
              "#fb9f3a"
             ],
             [
              0.8888888888888888,
              "#fdca26"
             ],
             [
              1,
              "#f0f921"
             ]
            ],
            "type": "heatmap"
           }
          ],
          "heatmapgl": [
           {
            "colorbar": {
             "outlinewidth": 0,
             "ticks": ""
            },
            "colorscale": [
             [
              0,
              "#0d0887"
             ],
             [
              0.1111111111111111,
              "#46039f"
             ],
             [
              0.2222222222222222,
              "#7201a8"
             ],
             [
              0.3333333333333333,
              "#9c179e"
             ],
             [
              0.4444444444444444,
              "#bd3786"
             ],
             [
              0.5555555555555556,
              "#d8576b"
             ],
             [
              0.6666666666666666,
              "#ed7953"
             ],
             [
              0.7777777777777778,
              "#fb9f3a"
             ],
             [
              0.8888888888888888,
              "#fdca26"
             ],
             [
              1,
              "#f0f921"
             ]
            ],
            "type": "heatmapgl"
           }
          ],
          "histogram": [
           {
            "marker": {
             "colorbar": {
              "outlinewidth": 0,
              "ticks": ""
             }
            },
            "type": "histogram"
           }
          ],
          "histogram2d": [
           {
            "colorbar": {
             "outlinewidth": 0,
             "ticks": ""
            },
            "colorscale": [
             [
              0,
              "#0d0887"
             ],
             [
              0.1111111111111111,
              "#46039f"
             ],
             [
              0.2222222222222222,
              "#7201a8"
             ],
             [
              0.3333333333333333,
              "#9c179e"
             ],
             [
              0.4444444444444444,
              "#bd3786"
             ],
             [
              0.5555555555555556,
              "#d8576b"
             ],
             [
              0.6666666666666666,
              "#ed7953"
             ],
             [
              0.7777777777777778,
              "#fb9f3a"
             ],
             [
              0.8888888888888888,
              "#fdca26"
             ],
             [
              1,
              "#f0f921"
             ]
            ],
            "type": "histogram2d"
           }
          ],
          "histogram2dcontour": [
           {
            "colorbar": {
             "outlinewidth": 0,
             "ticks": ""
            },
            "colorscale": [
             [
              0,
              "#0d0887"
             ],
             [
              0.1111111111111111,
              "#46039f"
             ],
             [
              0.2222222222222222,
              "#7201a8"
             ],
             [
              0.3333333333333333,
              "#9c179e"
             ],
             [
              0.4444444444444444,
              "#bd3786"
             ],
             [
              0.5555555555555556,
              "#d8576b"
             ],
             [
              0.6666666666666666,
              "#ed7953"
             ],
             [
              0.7777777777777778,
              "#fb9f3a"
             ],
             [
              0.8888888888888888,
              "#fdca26"
             ],
             [
              1,
              "#f0f921"
             ]
            ],
            "type": "histogram2dcontour"
           }
          ],
          "mesh3d": [
           {
            "colorbar": {
             "outlinewidth": 0,
             "ticks": ""
            },
            "type": "mesh3d"
           }
          ],
          "parcoords": [
           {
            "line": {
             "colorbar": {
              "outlinewidth": 0,
              "ticks": ""
             }
            },
            "type": "parcoords"
           }
          ],
          "pie": [
           {
            "automargin": true,
            "type": "pie"
           }
          ],
          "scatter": [
           {
            "marker": {
             "colorbar": {
              "outlinewidth": 0,
              "ticks": ""
             }
            },
            "type": "scatter"
           }
          ],
          "scatter3d": [
           {
            "line": {
             "colorbar": {
              "outlinewidth": 0,
              "ticks": ""
             }
            },
            "marker": {
             "colorbar": {
              "outlinewidth": 0,
              "ticks": ""
             }
            },
            "type": "scatter3d"
           }
          ],
          "scattercarpet": [
           {
            "marker": {
             "colorbar": {
              "outlinewidth": 0,
              "ticks": ""
             }
            },
            "type": "scattercarpet"
           }
          ],
          "scattergeo": [
           {
            "marker": {
             "colorbar": {
              "outlinewidth": 0,
              "ticks": ""
             }
            },
            "type": "scattergeo"
           }
          ],
          "scattergl": [
           {
            "marker": {
             "colorbar": {
              "outlinewidth": 0,
              "ticks": ""
             }
            },
            "type": "scattergl"
           }
          ],
          "scattermapbox": [
           {
            "marker": {
             "colorbar": {
              "outlinewidth": 0,
              "ticks": ""
             }
            },
            "type": "scattermapbox"
           }
          ],
          "scatterpolar": [
           {
            "marker": {
             "colorbar": {
              "outlinewidth": 0,
              "ticks": ""
             }
            },
            "type": "scatterpolar"
           }
          ],
          "scatterpolargl": [
           {
            "marker": {
             "colorbar": {
              "outlinewidth": 0,
              "ticks": ""
             }
            },
            "type": "scatterpolargl"
           }
          ],
          "scatterternary": [
           {
            "marker": {
             "colorbar": {
              "outlinewidth": 0,
              "ticks": ""
             }
            },
            "type": "scatterternary"
           }
          ],
          "surface": [
           {
            "colorbar": {
             "outlinewidth": 0,
             "ticks": ""
            },
            "colorscale": [
             [
              0,
              "#0d0887"
             ],
             [
              0.1111111111111111,
              "#46039f"
             ],
             [
              0.2222222222222222,
              "#7201a8"
             ],
             [
              0.3333333333333333,
              "#9c179e"
             ],
             [
              0.4444444444444444,
              "#bd3786"
             ],
             [
              0.5555555555555556,
              "#d8576b"
             ],
             [
              0.6666666666666666,
              "#ed7953"
             ],
             [
              0.7777777777777778,
              "#fb9f3a"
             ],
             [
              0.8888888888888888,
              "#fdca26"
             ],
             [
              1,
              "#f0f921"
             ]
            ],
            "type": "surface"
           }
          ],
          "table": [
           {
            "cells": {
             "fill": {
              "color": "#EBF0F8"
             },
             "line": {
              "color": "white"
             }
            },
            "header": {
             "fill": {
              "color": "#C8D4E3"
             },
             "line": {
              "color": "white"
             }
            },
            "type": "table"
           }
          ]
         },
         "layout": {
          "annotationdefaults": {
           "arrowcolor": "#2a3f5f",
           "arrowhead": 0,
           "arrowwidth": 1
          },
          "coloraxis": {
           "colorbar": {
            "outlinewidth": 0,
            "ticks": ""
           }
          },
          "colorscale": {
           "diverging": [
            [
             0,
             "#8e0152"
            ],
            [
             0.1,
             "#c51b7d"
            ],
            [
             0.2,
             "#de77ae"
            ],
            [
             0.3,
             "#f1b6da"
            ],
            [
             0.4,
             "#fde0ef"
            ],
            [
             0.5,
             "#f7f7f7"
            ],
            [
             0.6,
             "#e6f5d0"
            ],
            [
             0.7,
             "#b8e186"
            ],
            [
             0.8,
             "#7fbc41"
            ],
            [
             0.9,
             "#4d9221"
            ],
            [
             1,
             "#276419"
            ]
           ],
           "sequential": [
            [
             0,
             "#0d0887"
            ],
            [
             0.1111111111111111,
             "#46039f"
            ],
            [
             0.2222222222222222,
             "#7201a8"
            ],
            [
             0.3333333333333333,
             "#9c179e"
            ],
            [
             0.4444444444444444,
             "#bd3786"
            ],
            [
             0.5555555555555556,
             "#d8576b"
            ],
            [
             0.6666666666666666,
             "#ed7953"
            ],
            [
             0.7777777777777778,
             "#fb9f3a"
            ],
            [
             0.8888888888888888,
             "#fdca26"
            ],
            [
             1,
             "#f0f921"
            ]
           ],
           "sequentialminus": [
            [
             0,
             "#0d0887"
            ],
            [
             0.1111111111111111,
             "#46039f"
            ],
            [
             0.2222222222222222,
             "#7201a8"
            ],
            [
             0.3333333333333333,
             "#9c179e"
            ],
            [
             0.4444444444444444,
             "#bd3786"
            ],
            [
             0.5555555555555556,
             "#d8576b"
            ],
            [
             0.6666666666666666,
             "#ed7953"
            ],
            [
             0.7777777777777778,
             "#fb9f3a"
            ],
            [
             0.8888888888888888,
             "#fdca26"
            ],
            [
             1,
             "#f0f921"
            ]
           ]
          },
          "colorway": [
           "#636efa",
           "#EF553B",
           "#00cc96",
           "#ab63fa",
           "#FFA15A",
           "#19d3f3",
           "#FF6692",
           "#B6E880",
           "#FF97FF",
           "#FECB52"
          ],
          "font": {
           "color": "#2a3f5f"
          },
          "geo": {
           "bgcolor": "white",
           "lakecolor": "white",
           "landcolor": "#E5ECF6",
           "showlakes": true,
           "showland": true,
           "subunitcolor": "white"
          },
          "hoverlabel": {
           "align": "left"
          },
          "hovermode": "closest",
          "mapbox": {
           "style": "light"
          },
          "paper_bgcolor": "white",
          "plot_bgcolor": "#E5ECF6",
          "polar": {
           "angularaxis": {
            "gridcolor": "white",
            "linecolor": "white",
            "ticks": ""
           },
           "bgcolor": "#E5ECF6",
           "radialaxis": {
            "gridcolor": "white",
            "linecolor": "white",
            "ticks": ""
           }
          },
          "scene": {
           "xaxis": {
            "backgroundcolor": "#E5ECF6",
            "gridcolor": "white",
            "gridwidth": 2,
            "linecolor": "white",
            "showbackground": true,
            "ticks": "",
            "zerolinecolor": "white"
           },
           "yaxis": {
            "backgroundcolor": "#E5ECF6",
            "gridcolor": "white",
            "gridwidth": 2,
            "linecolor": "white",
            "showbackground": true,
            "ticks": "",
            "zerolinecolor": "white"
           },
           "zaxis": {
            "backgroundcolor": "#E5ECF6",
            "gridcolor": "white",
            "gridwidth": 2,
            "linecolor": "white",
            "showbackground": true,
            "ticks": "",
            "zerolinecolor": "white"
           }
          },
          "shapedefaults": {
           "line": {
            "color": "#2a3f5f"
           }
          },
          "ternary": {
           "aaxis": {
            "gridcolor": "white",
            "linecolor": "white",
            "ticks": ""
           },
           "baxis": {
            "gridcolor": "white",
            "linecolor": "white",
            "ticks": ""
           },
           "bgcolor": "#E5ECF6",
           "caxis": {
            "gridcolor": "white",
            "linecolor": "white",
            "ticks": ""
           }
          },
          "title": {
           "x": 0.05
          },
          "xaxis": {
           "automargin": true,
           "gridcolor": "white",
           "linecolor": "white",
           "ticks": "",
           "title": {
            "standoff": 15
           },
           "zerolinecolor": "white",
           "zerolinewidth": 2
          },
          "yaxis": {
           "automargin": true,
           "gridcolor": "white",
           "linecolor": "white",
           "ticks": "",
           "title": {
            "standoff": 15
           },
           "zerolinecolor": "white",
           "zerolinewidth": 2
          }
         }
        },
        "title": {
         "font": {
          "color": "#4D5663"
         }
        },
        "xaxis": {
         "gridcolor": "#E1E5ED",
         "showgrid": true,
         "tickfont": {
          "color": "#4D5663"
         },
         "title": {
          "font": {
           "color": "#4D5663"
          },
          "text": ""
         },
         "zerolinecolor": "#E1E5ED"
        },
        "yaxis": {
         "gridcolor": "#E1E5ED",
         "showgrid": true,
         "tickfont": {
          "color": "#4D5663"
         },
         "title": {
          "font": {
           "color": "#4D5663"
          },
          "text": ""
         },
         "zerolinecolor": "#E1E5ED"
        }
       }
      },
      "text/html": [
       "<div>\n",
       "        \n",
       "        \n",
       "            <div id=\"7aad1df1-160b-4f89-9aa3-020ac736f2b4\" class=\"plotly-graph-div\" style=\"height:525px; width:100%;\"></div>\n",
       "            <script type=\"text/javascript\">\n",
       "                require([\"plotly\"], function(Plotly) {\n",
       "                    window.PLOTLYENV=window.PLOTLYENV || {};\n",
       "                    window.PLOTLYENV.BASE_URL='https://plot.ly';\n",
       "                    \n",
       "                if (document.getElementById(\"7aad1df1-160b-4f89-9aa3-020ac736f2b4\")) {\n",
       "                    Plotly.newPlot(\n",
       "                        '7aad1df1-160b-4f89-9aa3-020ac736f2b4',\n",
       "                        [{\"colorscale\": [[0.0, \"rgb(165,0,38)\"], [0.1, \"rgb(215,48,39)\"], [0.2, \"rgb(244,109,67)\"], [0.3, \"rgb(253,174,97)\"], [0.4, \"rgb(254,224,144)\"], [0.5, \"rgb(255,255,191)\"], [0.6, \"rgb(224,243,248)\"], [0.7, \"rgb(171,217,233)\"], [0.8, \"rgb(116,173,209)\"], [0.9, \"rgb(69,117,180)\"], [1.0, \"rgb(49,54,149)\"]], \"type\": \"surface\", \"x\": [0, 1, 2, 3, 4], \"y\": [\"x\", \"y\", \"z\"], \"z\": [[1, 2, 3, 4, 5], [10, 20, 30, 20, 10], [5, 4, 3, 2, 1]]}],\n",
       "                        {\"legend\": {\"bgcolor\": \"#F5F6F9\", \"font\": {\"color\": \"#4D5663\"}}, \"paper_bgcolor\": \"#F5F6F9\", \"plot_bgcolor\": \"#F5F6F9\", \"template\": {\"data\": {\"bar\": [{\"error_x\": {\"color\": \"#2a3f5f\"}, \"error_y\": {\"color\": \"#2a3f5f\"}, \"marker\": {\"line\": {\"color\": \"#E5ECF6\", \"width\": 0.5}}, \"type\": \"bar\"}], \"barpolar\": [{\"marker\": {\"line\": {\"color\": \"#E5ECF6\", \"width\": 0.5}}, \"type\": \"barpolar\"}], \"carpet\": [{\"aaxis\": {\"endlinecolor\": \"#2a3f5f\", \"gridcolor\": \"white\", \"linecolor\": \"white\", \"minorgridcolor\": \"white\", \"startlinecolor\": \"#2a3f5f\"}, \"baxis\": {\"endlinecolor\": \"#2a3f5f\", \"gridcolor\": \"white\", \"linecolor\": \"white\", \"minorgridcolor\": \"white\", \"startlinecolor\": \"#2a3f5f\"}, \"type\": \"carpet\"}], \"choropleth\": [{\"colorbar\": {\"outlinewidth\": 0, \"ticks\": \"\"}, \"type\": \"choropleth\"}], \"contour\": [{\"colorbar\": {\"outlinewidth\": 0, \"ticks\": \"\"}, \"colorscale\": [[0.0, \"#0d0887\"], [0.1111111111111111, \"#46039f\"], [0.2222222222222222, \"#7201a8\"], [0.3333333333333333, \"#9c179e\"], [0.4444444444444444, \"#bd3786\"], [0.5555555555555556, \"#d8576b\"], [0.6666666666666666, \"#ed7953\"], [0.7777777777777778, \"#fb9f3a\"], [0.8888888888888888, \"#fdca26\"], [1.0, \"#f0f921\"]], \"type\": \"contour\"}], \"contourcarpet\": [{\"colorbar\": {\"outlinewidth\": 0, \"ticks\": \"\"}, \"type\": \"contourcarpet\"}], \"heatmap\": [{\"colorbar\": {\"outlinewidth\": 0, \"ticks\": \"\"}, \"colorscale\": [[0.0, \"#0d0887\"], [0.1111111111111111, \"#46039f\"], [0.2222222222222222, \"#7201a8\"], [0.3333333333333333, \"#9c179e\"], [0.4444444444444444, \"#bd3786\"], [0.5555555555555556, \"#d8576b\"], [0.6666666666666666, \"#ed7953\"], [0.7777777777777778, \"#fb9f3a\"], [0.8888888888888888, \"#fdca26\"], [1.0, \"#f0f921\"]], \"type\": \"heatmap\"}], \"heatmapgl\": [{\"colorbar\": {\"outlinewidth\": 0, \"ticks\": \"\"}, \"colorscale\": [[0.0, \"#0d0887\"], [0.1111111111111111, \"#46039f\"], [0.2222222222222222, \"#7201a8\"], [0.3333333333333333, \"#9c179e\"], [0.4444444444444444, \"#bd3786\"], [0.5555555555555556, \"#d8576b\"], [0.6666666666666666, \"#ed7953\"], [0.7777777777777778, \"#fb9f3a\"], [0.8888888888888888, \"#fdca26\"], [1.0, \"#f0f921\"]], \"type\": \"heatmapgl\"}], \"histogram\": [{\"marker\": {\"colorbar\": {\"outlinewidth\": 0, \"ticks\": \"\"}}, \"type\": \"histogram\"}], \"histogram2d\": [{\"colorbar\": {\"outlinewidth\": 0, \"ticks\": \"\"}, \"colorscale\": [[0.0, \"#0d0887\"], [0.1111111111111111, \"#46039f\"], [0.2222222222222222, \"#7201a8\"], [0.3333333333333333, \"#9c179e\"], [0.4444444444444444, \"#bd3786\"], [0.5555555555555556, \"#d8576b\"], [0.6666666666666666, \"#ed7953\"], [0.7777777777777778, \"#fb9f3a\"], [0.8888888888888888, \"#fdca26\"], [1.0, \"#f0f921\"]], \"type\": \"histogram2d\"}], \"histogram2dcontour\": [{\"colorbar\": {\"outlinewidth\": 0, \"ticks\": \"\"}, \"colorscale\": [[0.0, \"#0d0887\"], [0.1111111111111111, \"#46039f\"], [0.2222222222222222, \"#7201a8\"], [0.3333333333333333, \"#9c179e\"], [0.4444444444444444, \"#bd3786\"], [0.5555555555555556, \"#d8576b\"], [0.6666666666666666, \"#ed7953\"], [0.7777777777777778, \"#fb9f3a\"], [0.8888888888888888, \"#fdca26\"], [1.0, \"#f0f921\"]], \"type\": \"histogram2dcontour\"}], \"mesh3d\": [{\"colorbar\": {\"outlinewidth\": 0, \"ticks\": \"\"}, \"type\": \"mesh3d\"}], \"parcoords\": [{\"line\": {\"colorbar\": {\"outlinewidth\": 0, \"ticks\": \"\"}}, \"type\": \"parcoords\"}], \"pie\": [{\"automargin\": true, \"type\": \"pie\"}], \"scatter\": [{\"marker\": {\"colorbar\": {\"outlinewidth\": 0, \"ticks\": \"\"}}, \"type\": \"scatter\"}], \"scatter3d\": [{\"line\": {\"colorbar\": {\"outlinewidth\": 0, \"ticks\": \"\"}}, \"marker\": {\"colorbar\": {\"outlinewidth\": 0, \"ticks\": \"\"}}, \"type\": \"scatter3d\"}], \"scattercarpet\": [{\"marker\": {\"colorbar\": {\"outlinewidth\": 0, \"ticks\": \"\"}}, \"type\": \"scattercarpet\"}], \"scattergeo\": [{\"marker\": {\"colorbar\": {\"outlinewidth\": 0, \"ticks\": \"\"}}, \"type\": \"scattergeo\"}], \"scattergl\": [{\"marker\": {\"colorbar\": {\"outlinewidth\": 0, \"ticks\": \"\"}}, \"type\": \"scattergl\"}], \"scattermapbox\": [{\"marker\": {\"colorbar\": {\"outlinewidth\": 0, \"ticks\": \"\"}}, \"type\": \"scattermapbox\"}], \"scatterpolar\": [{\"marker\": {\"colorbar\": {\"outlinewidth\": 0, \"ticks\": \"\"}}, \"type\": \"scatterpolar\"}], \"scatterpolargl\": [{\"marker\": {\"colorbar\": {\"outlinewidth\": 0, \"ticks\": \"\"}}, \"type\": \"scatterpolargl\"}], \"scatterternary\": [{\"marker\": {\"colorbar\": {\"outlinewidth\": 0, \"ticks\": \"\"}}, \"type\": \"scatterternary\"}], \"surface\": [{\"colorbar\": {\"outlinewidth\": 0, \"ticks\": \"\"}, \"colorscale\": [[0.0, \"#0d0887\"], [0.1111111111111111, \"#46039f\"], [0.2222222222222222, \"#7201a8\"], [0.3333333333333333, \"#9c179e\"], [0.4444444444444444, \"#bd3786\"], [0.5555555555555556, \"#d8576b\"], [0.6666666666666666, \"#ed7953\"], [0.7777777777777778, \"#fb9f3a\"], [0.8888888888888888, \"#fdca26\"], [1.0, \"#f0f921\"]], \"type\": \"surface\"}], \"table\": [{\"cells\": {\"fill\": {\"color\": \"#EBF0F8\"}, \"line\": {\"color\": \"white\"}}, \"header\": {\"fill\": {\"color\": \"#C8D4E3\"}, \"line\": {\"color\": \"white\"}}, \"type\": \"table\"}]}, \"layout\": {\"annotationdefaults\": {\"arrowcolor\": \"#2a3f5f\", \"arrowhead\": 0, \"arrowwidth\": 1}, \"coloraxis\": {\"colorbar\": {\"outlinewidth\": 0, \"ticks\": \"\"}}, \"colorscale\": {\"diverging\": [[0, \"#8e0152\"], [0.1, \"#c51b7d\"], [0.2, \"#de77ae\"], [0.3, \"#f1b6da\"], [0.4, \"#fde0ef\"], [0.5, \"#f7f7f7\"], [0.6, \"#e6f5d0\"], [0.7, \"#b8e186\"], [0.8, \"#7fbc41\"], [0.9, \"#4d9221\"], [1, \"#276419\"]], \"sequential\": [[0.0, \"#0d0887\"], [0.1111111111111111, \"#46039f\"], [0.2222222222222222, \"#7201a8\"], [0.3333333333333333, \"#9c179e\"], [0.4444444444444444, \"#bd3786\"], [0.5555555555555556, \"#d8576b\"], [0.6666666666666666, \"#ed7953\"], [0.7777777777777778, \"#fb9f3a\"], [0.8888888888888888, \"#fdca26\"], [1.0, \"#f0f921\"]], \"sequentialminus\": [[0.0, \"#0d0887\"], [0.1111111111111111, \"#46039f\"], [0.2222222222222222, \"#7201a8\"], [0.3333333333333333, \"#9c179e\"], [0.4444444444444444, \"#bd3786\"], [0.5555555555555556, \"#d8576b\"], [0.6666666666666666, \"#ed7953\"], [0.7777777777777778, \"#fb9f3a\"], [0.8888888888888888, \"#fdca26\"], [1.0, \"#f0f921\"]]}, \"colorway\": [\"#636efa\", \"#EF553B\", \"#00cc96\", \"#ab63fa\", \"#FFA15A\", \"#19d3f3\", \"#FF6692\", \"#B6E880\", \"#FF97FF\", \"#FECB52\"], \"font\": {\"color\": \"#2a3f5f\"}, \"geo\": {\"bgcolor\": \"white\", \"lakecolor\": \"white\", \"landcolor\": \"#E5ECF6\", \"showlakes\": true, \"showland\": true, \"subunitcolor\": \"white\"}, \"hoverlabel\": {\"align\": \"left\"}, \"hovermode\": \"closest\", \"mapbox\": {\"style\": \"light\"}, \"paper_bgcolor\": \"white\", \"plot_bgcolor\": \"#E5ECF6\", \"polar\": {\"angularaxis\": {\"gridcolor\": \"white\", \"linecolor\": \"white\", \"ticks\": \"\"}, \"bgcolor\": \"#E5ECF6\", \"radialaxis\": {\"gridcolor\": \"white\", \"linecolor\": \"white\", \"ticks\": \"\"}}, \"scene\": {\"xaxis\": {\"backgroundcolor\": \"#E5ECF6\", \"gridcolor\": \"white\", \"gridwidth\": 2, \"linecolor\": \"white\", \"showbackground\": true, \"ticks\": \"\", \"zerolinecolor\": \"white\"}, \"yaxis\": {\"backgroundcolor\": \"#E5ECF6\", \"gridcolor\": \"white\", \"gridwidth\": 2, \"linecolor\": \"white\", \"showbackground\": true, \"ticks\": \"\", \"zerolinecolor\": \"white\"}, \"zaxis\": {\"backgroundcolor\": \"#E5ECF6\", \"gridcolor\": \"white\", \"gridwidth\": 2, \"linecolor\": \"white\", \"showbackground\": true, \"ticks\": \"\", \"zerolinecolor\": \"white\"}}, \"shapedefaults\": {\"line\": {\"color\": \"#2a3f5f\"}}, \"ternary\": {\"aaxis\": {\"gridcolor\": \"white\", \"linecolor\": \"white\", \"ticks\": \"\"}, \"baxis\": {\"gridcolor\": \"white\", \"linecolor\": \"white\", \"ticks\": \"\"}, \"bgcolor\": \"#E5ECF6\", \"caxis\": {\"gridcolor\": \"white\", \"linecolor\": \"white\", \"ticks\": \"\"}}, \"title\": {\"x\": 0.05}, \"xaxis\": {\"automargin\": true, \"gridcolor\": \"white\", \"linecolor\": \"white\", \"ticks\": \"\", \"title\": {\"standoff\": 15}, \"zerolinecolor\": \"white\", \"zerolinewidth\": 2}, \"yaxis\": {\"automargin\": true, \"gridcolor\": \"white\", \"linecolor\": \"white\", \"ticks\": \"\", \"title\": {\"standoff\": 15}, \"zerolinecolor\": \"white\", \"zerolinewidth\": 2}}}, \"title\": {\"font\": {\"color\": \"#4D5663\"}}, \"xaxis\": {\"gridcolor\": \"#E1E5ED\", \"showgrid\": true, \"tickfont\": {\"color\": \"#4D5663\"}, \"title\": {\"font\": {\"color\": \"#4D5663\"}, \"text\": \"\"}, \"zerolinecolor\": \"#E1E5ED\"}, \"yaxis\": {\"gridcolor\": \"#E1E5ED\", \"showgrid\": true, \"tickfont\": {\"color\": \"#4D5663\"}, \"title\": {\"font\": {\"color\": \"#4D5663\"}, \"text\": \"\"}, \"zerolinecolor\": \"#E1E5ED\"}},\n",
       "                        {\"showLink\": true, \"linkText\": \"Export to plot.ly\", \"plotlyServerURL\": \"https://plot.ly\", \"responsive\": true}\n",
       "                    ).then(function(){\n",
       "                            \n",
       "var gd = document.getElementById('7aad1df1-160b-4f89-9aa3-020ac736f2b4');\n",
       "var x = new MutationObserver(function (mutations, observer) {{\n",
       "        var display = window.getComputedStyle(gd).display;\n",
       "        if (!display || display === 'none') {{\n",
       "            console.log([gd, 'removed!']);\n",
       "            Plotly.purge(gd);\n",
       "            observer.disconnect();\n",
       "        }}\n",
       "}});\n",
       "\n",
       "// Listen for the removal of the full notebook cells\n",
       "var notebookContainer = gd.closest('#notebook-container');\n",
       "if (notebookContainer) {{\n",
       "    x.observe(notebookContainer, {childList: true});\n",
       "}}\n",
       "\n",
       "// Listen for the clearing of the current output cell\n",
       "var outputEl = gd.closest('.output');\n",
       "if (outputEl) {{\n",
       "    x.observe(outputEl, {childList: true});\n",
       "}}\n",
       "\n",
       "                        })\n",
       "                };\n",
       "                });\n",
       "            </script>\n",
       "        </div>"
      ]
     },
     "metadata": {},
     "output_type": "display_data"
    }
   ],
   "source": [
    "df3 = pd.DataFrame({'x':[1,2,3,4,5],'y':[10,20,30,20,10],'z':[5,4,3,2,1]})\n",
    "df3.iplot(kind='surface',colorscale='rdylbu')"
   ]
  },
  {
   "cell_type": "markdown",
   "metadata": {},
   "source": [
    "## Spread"
   ]
  },
  {
   "cell_type": "code",
   "execution_count": 20,
   "metadata": {},
   "outputs": [
    {
     "data": {
      "application/vnd.plotly.v1+json": {
       "config": {
        "linkText": "Export to plot.ly",
        "plotlyServerURL": "https://plot.ly",
        "showLink": true
       },
       "data": [
        {
         "line": {
          "color": "rgba(255, 153, 51, 1.0)",
          "dash": "solid",
          "shape": "linear",
          "width": 1.3
         },
         "mode": "lines",
         "name": "A",
         "text": "",
         "type": "scatter",
         "x": [
          0,
          1,
          2,
          3,
          4,
          5,
          6,
          7,
          8,
          9,
          10,
          11,
          12,
          13,
          14,
          15,
          16,
          17,
          18,
          19,
          20,
          21,
          22,
          23,
          24,
          25,
          26,
          27,
          28,
          29,
          30,
          31,
          32,
          33,
          34,
          35,
          36,
          37,
          38,
          39,
          40,
          41,
          42,
          43,
          44,
          45,
          46,
          47,
          48,
          49,
          50,
          51,
          52,
          53,
          54,
          55,
          56,
          57,
          58,
          59,
          60,
          61,
          62,
          63,
          64,
          65,
          66,
          67,
          68,
          69,
          70,
          71,
          72,
          73,
          74,
          75,
          76,
          77,
          78,
          79,
          80,
          81,
          82,
          83,
          84,
          85,
          86,
          87,
          88,
          89,
          90,
          91,
          92,
          93,
          94,
          95,
          96,
          97,
          98,
          99
         ],
         "y": [
          -1.1833147841107685,
          -1.7500193061567437,
          1.131725711797192,
          -0.4149990629871035,
          -0.5546323136266743,
          0.30716715349814916,
          0.9307409446318613,
          1.1827126886991306,
          -0.36277765018746844,
          -1.1575863885269426,
          -0.8378908404057034,
          -0.3912685021276453,
          -1.3589334660637948,
          -0.9289435721940565,
          -0.7124449800398088,
          -1.6065487619933794,
          2.332208250292037,
          0.8026240180457727,
          -0.3270519336517877,
          -0.23711569943831692,
          -1.1574596670571589,
          0.6356964428430179,
          -1.1519757857088226,
          -3.8820799601324034,
          0.7723161251731423,
          2.065264810943613,
          0.02000222388239315,
          0.3991394917296089,
          0.945535911129008,
          -1.204940020191649,
          0.2502984273434721,
          0.4384717934478959,
          -0.3157678412237403,
          0.6107843478312683,
          1.4209487036819728,
          0.8379028557999306,
          1.402820371959644,
          -0.7644680156984743,
          3.3499358837402666,
          -0.2794976581737439,
          0.7120731738683018,
          0.46511545582490277,
          0.2695328720433325,
          1.6056065472068564,
          -0.5389598099942599,
          1.5665773988947163,
          0.06510700987045681,
          0.5239553353008185,
          0.019203296036346764,
          -0.4421735345591453,
          0.14516936021065513,
          1.0355126831038233,
          -0.023036701246943896,
          1.0388811679514585,
          -0.20672847201013142,
          0.1716283164432814,
          -1.9380850409091082,
          -0.5851204532923052,
          -1.9757006147510012,
          0.34022601382222384,
          0.5079218681199503,
          0.7631189321743553,
          0.96306713033488,
          -0.8121233094405356,
          -0.9882153281714651,
          -0.4845284460071705,
          -0.02570082243243427,
          -0.03400268620872826,
          0.5047792802117658,
          -2.279607145438385,
          -0.07385901857965435,
          -1.1771511696616481,
          -0.100857518160516,
          1.0189389924248553,
          -1.6986752286473015,
          -2.2268426553186775,
          -0.9201106764549231,
          -1.060674427588634,
          0.7607522685667668,
          0.1235188485203996,
          0.046532648289906525,
          -1.1751332884820118,
          -0.4914839965164748,
          -1.7497373291544116,
          -0.3786193081224398,
          -0.13885120042759355,
          -0.6706094005349879,
          -0.38208822846680607,
          1.1451940523399124,
          -1.5857540722581318,
          1.0235693577972806,
          -1.2530876758385363,
          0.07528977828068915,
          -0.4156784952599241,
          -0.29874608294387867,
          0.48755629016495683,
          0.23878761796209058,
          -0.20848531744749169,
          -0.0689143672965231,
          1.2984345736949008
         ]
        },
        {
         "line": {
          "color": "rgba(55, 128, 191, 1.0)",
          "dash": "solid",
          "shape": "linear",
          "width": 1.3
         },
         "mode": "lines",
         "name": "B",
         "text": "",
         "type": "scatter",
         "x": [
          0,
          1,
          2,
          3,
          4,
          5,
          6,
          7,
          8,
          9,
          10,
          11,
          12,
          13,
          14,
          15,
          16,
          17,
          18,
          19,
          20,
          21,
          22,
          23,
          24,
          25,
          26,
          27,
          28,
          29,
          30,
          31,
          32,
          33,
          34,
          35,
          36,
          37,
          38,
          39,
          40,
          41,
          42,
          43,
          44,
          45,
          46,
          47,
          48,
          49,
          50,
          51,
          52,
          53,
          54,
          55,
          56,
          57,
          58,
          59,
          60,
          61,
          62,
          63,
          64,
          65,
          66,
          67,
          68,
          69,
          70,
          71,
          72,
          73,
          74,
          75,
          76,
          77,
          78,
          79,
          80,
          81,
          82,
          83,
          84,
          85,
          86,
          87,
          88,
          89,
          90,
          91,
          92,
          93,
          94,
          95,
          96,
          97,
          98,
          99
         ],
         "y": [
          -0.5898979642836217,
          -1.7035606150240423,
          0.41195268107418087,
          1.1748195587973018,
          -0.2874381187037066,
          0.5750172963551519,
          -0.6918057201108602,
          1.175390395429051,
          -0.6050538557649577,
          0.0019096459897705962,
          -0.9231136810089464,
          -0.39323459451035514,
          2.244083134591712,
          -0.2882505022052697,
          0.2781543452345917,
          0.7078101611604473,
          0.10649678961373046,
          0.16738271233384605,
          -0.2463839532113507,
          1.895360391608483,
          0.5421372027154331,
          -0.6229051777303326,
          -0.10911768413612674,
          1.4985291313289495,
          0.46005062638417077,
          -1.5223404637630722,
          -0.8075314184354632,
          0.45644429253156205,
          -2.7984474908916193,
          -1.041201734145715,
          0.3375797120780502,
          0.7627293350558662,
          -0.4582718115207457,
          0.3293598357702051,
          0.46510675786566447,
          -3.4360205185224273,
          -1.3947339927310538,
          -0.5221562099881435,
          0.11844118831730661,
          -1.4766140798725693,
          0.19975507683724641,
          -0.9339711813555169,
          0.4620682372737366,
          -2.133616090565549,
          0.3832310677836281,
          0.7267988798691072,
          -0.7422830769123931,
          1.545527709647746,
          -0.7771822405729585,
          1.0400750382376254,
          -1.6855965797420718,
          -1.4495282515512824,
          -0.2038630140221456,
          0.5565767167842305,
          0.6853447643542557,
          -2.1016656826691626,
          0.7968165469168353,
          -1.9742291602109332,
          0.015884797000142253,
          -0.33292686237909414,
          -0.28126192873968675,
          -1.164288982256235,
          0.9531908259029911,
          -0.9663699340304098,
          -0.1407555700606715,
          -0.8902939391432672,
          -0.883753820359266,
          -0.7646362892146369,
          -0.13566886289315494,
          -0.6504629597466766,
          0.46657048242165916,
          0.7078080387334367,
          0.3506441991444549,
          1.3062316775097684,
          0.7666951256814395,
          -2.1761057499896372,
          1.0886646387882366,
          0.1398003837228066,
          1.1774220915886786,
          -1.5628528424355201,
          -0.02078033990114364,
          0.2881795839775908,
          -0.45384339986760425,
          0.8287228776149175,
          -0.47309173198761245,
          0.9618766946968291,
          2.086699961485107,
          -0.3923203335643365,
          -0.3489396871594183,
          0.38009544401220324,
          -1.5582853190566033,
          -2.316080376858616,
          -0.04888223868916067,
          1.4508778558136317,
          -1.0698703039694686,
          0.3906557706873268,
          -1.296791643711909,
          -1.0090503122907404,
          0.9509049308922853,
          -0.02878651143711458
         ]
        },
        {
         "connectgaps": false,
         "fill": "tozeroy",
         "line": {
          "color": "green",
          "dash": "solid",
          "shape": "linear",
          "width": 0.5
         },
         "mode": "lines",
         "name": "Spread",
         "showlegend": false,
         "type": "scatter",
         "x": [
          0,
          1,
          2,
          3,
          4,
          5,
          6,
          7,
          8,
          9,
          10,
          11,
          12,
          13,
          14,
          15,
          16,
          17,
          18,
          19,
          20,
          21,
          22,
          23,
          24,
          25,
          26,
          27,
          28,
          29,
          30,
          31,
          32,
          33,
          34,
          35,
          36,
          37,
          38,
          39,
          40,
          41,
          42,
          43,
          44,
          45,
          46,
          47,
          48,
          49,
          50,
          51,
          52,
          53,
          54,
          55,
          56,
          57,
          58,
          59,
          60,
          61,
          62,
          63,
          64,
          65,
          66,
          67,
          68,
          69,
          70,
          71,
          72,
          73,
          74,
          75,
          76,
          77,
          78,
          79,
          80,
          81,
          82,
          83,
          84,
          85,
          86,
          87,
          88,
          89,
          90,
          91,
          92,
          93,
          94,
          95,
          96,
          97,
          98,
          99
         ],
         "xaxis": "x2",
         "y": [
          "",
          "",
          0.719773030723011,
          "",
          "",
          "",
          1.6225466647427216,
          0.007322293270079605,
          0.2422762055774893,
          "",
          0.08522284060324303,
          0.0019660923827098387,
          "",
          "",
          "",
          "",
          2.2257114606783066,
          0.6352413057119266,
          "",
          "",
          "",
          1.2586016205733506,
          "",
          "",
          0.31226549878897153,
          3.5876052747066853,
          0.8275336423178563,
          "",
          3.7439834020206275,
          "",
          "",
          "",
          0.1425039702970054,
          0.2814245120610632,
          0.9558419458163083,
          4.273923374322358,
          2.797554364690698,
          "",
          3.23149469542296,
          1.1971164216988255,
          0.5123180970310555,
          1.3990866371804196,
          "",
          3.7392226377724054,
          "",
          0.8397785190256091,
          0.80739008678285,
          "",
          0.7963855366093052,
          "",
          1.830765939952727,
          2.485040934655106,
          0.1808263127752017,
          0.482304451167228,
          "",
          2.273293999112444,
          "",
          1.3891087069186279,
          "",
          0.6731528762013179,
          0.7891837968596371,
          1.9274079144305905,
          0.009876304431888916,
          0.15424662458987426,
          "",
          0.40576549313609667,
          0.8580529979268317,
          0.7306336030059086,
          0.6404481431049207,
          "",
          "",
          "",
          "",
          "",
          "",
          "",
          "",
          "",
          "",
          1.6863716909559197,
          0.06731298819105017,
          "",
          "",
          "",
          0.09447242386517263,
          "",
          "",
          0.01023210509753042,
          1.4941337394993308,
          "",
          2.581854676853884,
          1.0629927010200795,
          0.12417201696984982,
          "",
          0.77112422102559,
          0.09690051947763001,
          1.5355792616739996,
          0.8005649948432487,
          "",
          1.3272210851320154
         ],
         "yaxis": "y2"
        },
        {
         "connectgaps": false,
         "fill": "tozeroy",
         "line": {
          "color": "red",
          "dash": "solid",
          "shape": "linear",
          "width": 0.5
         },
         "mode": "lines",
         "name": "Spread",
         "showlegend": false,
         "type": "scatter",
         "x": [
          0,
          1,
          2,
          3,
          4,
          5,
          6,
          7,
          8,
          9,
          10,
          11,
          12,
          13,
          14,
          15,
          16,
          17,
          18,
          19,
          20,
          21,
          22,
          23,
          24,
          25,
          26,
          27,
          28,
          29,
          30,
          31,
          32,
          33,
          34,
          35,
          36,
          37,
          38,
          39,
          40,
          41,
          42,
          43,
          44,
          45,
          46,
          47,
          48,
          49,
          50,
          51,
          52,
          53,
          54,
          55,
          56,
          57,
          58,
          59,
          60,
          61,
          62,
          63,
          64,
          65,
          66,
          67,
          68,
          69,
          70,
          71,
          72,
          73,
          74,
          75,
          76,
          77,
          78,
          79,
          80,
          81,
          82,
          83,
          84,
          85,
          86,
          87,
          88,
          89,
          90,
          91,
          92,
          93,
          94,
          95,
          96,
          97,
          98,
          99
         ],
         "xaxis": "x2",
         "y": [
          -0.5934168198271468,
          -0.0464586911327014,
          "",
          -1.5898186217844053,
          -0.2671941949229677,
          -0.2678501428570027,
          "",
          "",
          "",
          -1.1594960345167131,
          "",
          "",
          -3.603016600655507,
          -0.6406930699887868,
          -0.9905993252744005,
          -2.3143589231538266,
          "",
          "",
          -0.08066798044043699,
          -2.1324760910468,
          -1.6995968697725918,
          "",
          -1.0428581015726959,
          -5.380609091461353,
          "",
          "",
          "",
          -0.05730480080195316,
          "",
          -0.163738286045934,
          -0.08728128473457814,
          -0.32425754160797027,
          "",
          "",
          "",
          "",
          "",
          -0.24231180571033084,
          "",
          "",
          "",
          "",
          -0.1925353652304041,
          "",
          -0.922190877777888,
          "",
          "",
          -1.0215723743469276,
          "",
          -1.4822485727967707,
          "",
          "",
          "",
          "",
          -0.8920732363643872,
          "",
          -2.7349015878259433,
          "",
          -1.9915854117511436,
          "",
          "",
          "",
          "",
          "",
          -0.8474597581107935,
          "",
          "",
          "",
          "",
          -1.6291441856917084,
          -0.5404295010013135,
          -1.8849592083950848,
          -0.4515017173049709,
          -0.2872926850849131,
          -2.465370354328741,
          -0.050736905329040294,
          -2.0087753152431596,
          -1.2004748113114405,
          -0.4166698230219118,
          "",
          "",
          -1.4633128724596025,
          -0.03764059664887054,
          -2.578460206769329,
          "",
          -1.1007278951244226,
          -2.757309362020095,
          "",
          "",
          -1.965849516270335,
          "",
          "",
          "",
          -1.8665563510735559,
          "",
          "",
          "",
          "",
          -1.0198192981888083,
          ""
         ],
         "yaxis": "y2"
        }
       ],
       "layout": {
        "hovermode": "x",
        "legend": {
         "bgcolor": "#F5F6F9",
         "font": {
          "color": "#4D5663"
         }
        },
        "paper_bgcolor": "#F5F6F9",
        "plot_bgcolor": "#F5F6F9",
        "template": {
         "data": {
          "bar": [
           {
            "error_x": {
             "color": "#2a3f5f"
            },
            "error_y": {
             "color": "#2a3f5f"
            },
            "marker": {
             "line": {
              "color": "#E5ECF6",
              "width": 0.5
             }
            },
            "type": "bar"
           }
          ],
          "barpolar": [
           {
            "marker": {
             "line": {
              "color": "#E5ECF6",
              "width": 0.5
             }
            },
            "type": "barpolar"
           }
          ],
          "carpet": [
           {
            "aaxis": {
             "endlinecolor": "#2a3f5f",
             "gridcolor": "white",
             "linecolor": "white",
             "minorgridcolor": "white",
             "startlinecolor": "#2a3f5f"
            },
            "baxis": {
             "endlinecolor": "#2a3f5f",
             "gridcolor": "white",
             "linecolor": "white",
             "minorgridcolor": "white",
             "startlinecolor": "#2a3f5f"
            },
            "type": "carpet"
           }
          ],
          "choropleth": [
           {
            "colorbar": {
             "outlinewidth": 0,
             "ticks": ""
            },
            "type": "choropleth"
           }
          ],
          "contour": [
           {
            "colorbar": {
             "outlinewidth": 0,
             "ticks": ""
            },
            "colorscale": [
             [
              0,
              "#0d0887"
             ],
             [
              0.1111111111111111,
              "#46039f"
             ],
             [
              0.2222222222222222,
              "#7201a8"
             ],
             [
              0.3333333333333333,
              "#9c179e"
             ],
             [
              0.4444444444444444,
              "#bd3786"
             ],
             [
              0.5555555555555556,
              "#d8576b"
             ],
             [
              0.6666666666666666,
              "#ed7953"
             ],
             [
              0.7777777777777778,
              "#fb9f3a"
             ],
             [
              0.8888888888888888,
              "#fdca26"
             ],
             [
              1,
              "#f0f921"
             ]
            ],
            "type": "contour"
           }
          ],
          "contourcarpet": [
           {
            "colorbar": {
             "outlinewidth": 0,
             "ticks": ""
            },
            "type": "contourcarpet"
           }
          ],
          "heatmap": [
           {
            "colorbar": {
             "outlinewidth": 0,
             "ticks": ""
            },
            "colorscale": [
             [
              0,
              "#0d0887"
             ],
             [
              0.1111111111111111,
              "#46039f"
             ],
             [
              0.2222222222222222,
              "#7201a8"
             ],
             [
              0.3333333333333333,
              "#9c179e"
             ],
             [
              0.4444444444444444,
              "#bd3786"
             ],
             [
              0.5555555555555556,
              "#d8576b"
             ],
             [
              0.6666666666666666,
              "#ed7953"
             ],
             [
              0.7777777777777778,
              "#fb9f3a"
             ],
             [
              0.8888888888888888,
              "#fdca26"
             ],
             [
              1,
              "#f0f921"
             ]
            ],
            "type": "heatmap"
           }
          ],
          "heatmapgl": [
           {
            "colorbar": {
             "outlinewidth": 0,
             "ticks": ""
            },
            "colorscale": [
             [
              0,
              "#0d0887"
             ],
             [
              0.1111111111111111,
              "#46039f"
             ],
             [
              0.2222222222222222,
              "#7201a8"
             ],
             [
              0.3333333333333333,
              "#9c179e"
             ],
             [
              0.4444444444444444,
              "#bd3786"
             ],
             [
              0.5555555555555556,
              "#d8576b"
             ],
             [
              0.6666666666666666,
              "#ed7953"
             ],
             [
              0.7777777777777778,
              "#fb9f3a"
             ],
             [
              0.8888888888888888,
              "#fdca26"
             ],
             [
              1,
              "#f0f921"
             ]
            ],
            "type": "heatmapgl"
           }
          ],
          "histogram": [
           {
            "marker": {
             "colorbar": {
              "outlinewidth": 0,
              "ticks": ""
             }
            },
            "type": "histogram"
           }
          ],
          "histogram2d": [
           {
            "colorbar": {
             "outlinewidth": 0,
             "ticks": ""
            },
            "colorscale": [
             [
              0,
              "#0d0887"
             ],
             [
              0.1111111111111111,
              "#46039f"
             ],
             [
              0.2222222222222222,
              "#7201a8"
             ],
             [
              0.3333333333333333,
              "#9c179e"
             ],
             [
              0.4444444444444444,
              "#bd3786"
             ],
             [
              0.5555555555555556,
              "#d8576b"
             ],
             [
              0.6666666666666666,
              "#ed7953"
             ],
             [
              0.7777777777777778,
              "#fb9f3a"
             ],
             [
              0.8888888888888888,
              "#fdca26"
             ],
             [
              1,
              "#f0f921"
             ]
            ],
            "type": "histogram2d"
           }
          ],
          "histogram2dcontour": [
           {
            "colorbar": {
             "outlinewidth": 0,
             "ticks": ""
            },
            "colorscale": [
             [
              0,
              "#0d0887"
             ],
             [
              0.1111111111111111,
              "#46039f"
             ],
             [
              0.2222222222222222,
              "#7201a8"
             ],
             [
              0.3333333333333333,
              "#9c179e"
             ],
             [
              0.4444444444444444,
              "#bd3786"
             ],
             [
              0.5555555555555556,
              "#d8576b"
             ],
             [
              0.6666666666666666,
              "#ed7953"
             ],
             [
              0.7777777777777778,
              "#fb9f3a"
             ],
             [
              0.8888888888888888,
              "#fdca26"
             ],
             [
              1,
              "#f0f921"
             ]
            ],
            "type": "histogram2dcontour"
           }
          ],
          "mesh3d": [
           {
            "colorbar": {
             "outlinewidth": 0,
             "ticks": ""
            },
            "type": "mesh3d"
           }
          ],
          "parcoords": [
           {
            "line": {
             "colorbar": {
              "outlinewidth": 0,
              "ticks": ""
             }
            },
            "type": "parcoords"
           }
          ],
          "pie": [
           {
            "automargin": true,
            "type": "pie"
           }
          ],
          "scatter": [
           {
            "marker": {
             "colorbar": {
              "outlinewidth": 0,
              "ticks": ""
             }
            },
            "type": "scatter"
           }
          ],
          "scatter3d": [
           {
            "line": {
             "colorbar": {
              "outlinewidth": 0,
              "ticks": ""
             }
            },
            "marker": {
             "colorbar": {
              "outlinewidth": 0,
              "ticks": ""
             }
            },
            "type": "scatter3d"
           }
          ],
          "scattercarpet": [
           {
            "marker": {
             "colorbar": {
              "outlinewidth": 0,
              "ticks": ""
             }
            },
            "type": "scattercarpet"
           }
          ],
          "scattergeo": [
           {
            "marker": {
             "colorbar": {
              "outlinewidth": 0,
              "ticks": ""
             }
            },
            "type": "scattergeo"
           }
          ],
          "scattergl": [
           {
            "marker": {
             "colorbar": {
              "outlinewidth": 0,
              "ticks": ""
             }
            },
            "type": "scattergl"
           }
          ],
          "scattermapbox": [
           {
            "marker": {
             "colorbar": {
              "outlinewidth": 0,
              "ticks": ""
             }
            },
            "type": "scattermapbox"
           }
          ],
          "scatterpolar": [
           {
            "marker": {
             "colorbar": {
              "outlinewidth": 0,
              "ticks": ""
             }
            },
            "type": "scatterpolar"
           }
          ],
          "scatterpolargl": [
           {
            "marker": {
             "colorbar": {
              "outlinewidth": 0,
              "ticks": ""
             }
            },
            "type": "scatterpolargl"
           }
          ],
          "scatterternary": [
           {
            "marker": {
             "colorbar": {
              "outlinewidth": 0,
              "ticks": ""
             }
            },
            "type": "scatterternary"
           }
          ],
          "surface": [
           {
            "colorbar": {
             "outlinewidth": 0,
             "ticks": ""
            },
            "colorscale": [
             [
              0,
              "#0d0887"
             ],
             [
              0.1111111111111111,
              "#46039f"
             ],
             [
              0.2222222222222222,
              "#7201a8"
             ],
             [
              0.3333333333333333,
              "#9c179e"
             ],
             [
              0.4444444444444444,
              "#bd3786"
             ],
             [
              0.5555555555555556,
              "#d8576b"
             ],
             [
              0.6666666666666666,
              "#ed7953"
             ],
             [
              0.7777777777777778,
              "#fb9f3a"
             ],
             [
              0.8888888888888888,
              "#fdca26"
             ],
             [
              1,
              "#f0f921"
             ]
            ],
            "type": "surface"
           }
          ],
          "table": [
           {
            "cells": {
             "fill": {
              "color": "#EBF0F8"
             },
             "line": {
              "color": "white"
             }
            },
            "header": {
             "fill": {
              "color": "#C8D4E3"
             },
             "line": {
              "color": "white"
             }
            },
            "type": "table"
           }
          ]
         },
         "layout": {
          "annotationdefaults": {
           "arrowcolor": "#2a3f5f",
           "arrowhead": 0,
           "arrowwidth": 1
          },
          "coloraxis": {
           "colorbar": {
            "outlinewidth": 0,
            "ticks": ""
           }
          },
          "colorscale": {
           "diverging": [
            [
             0,
             "#8e0152"
            ],
            [
             0.1,
             "#c51b7d"
            ],
            [
             0.2,
             "#de77ae"
            ],
            [
             0.3,
             "#f1b6da"
            ],
            [
             0.4,
             "#fde0ef"
            ],
            [
             0.5,
             "#f7f7f7"
            ],
            [
             0.6,
             "#e6f5d0"
            ],
            [
             0.7,
             "#b8e186"
            ],
            [
             0.8,
             "#7fbc41"
            ],
            [
             0.9,
             "#4d9221"
            ],
            [
             1,
             "#276419"
            ]
           ],
           "sequential": [
            [
             0,
             "#0d0887"
            ],
            [
             0.1111111111111111,
             "#46039f"
            ],
            [
             0.2222222222222222,
             "#7201a8"
            ],
            [
             0.3333333333333333,
             "#9c179e"
            ],
            [
             0.4444444444444444,
             "#bd3786"
            ],
            [
             0.5555555555555556,
             "#d8576b"
            ],
            [
             0.6666666666666666,
             "#ed7953"
            ],
            [
             0.7777777777777778,
             "#fb9f3a"
            ],
            [
             0.8888888888888888,
             "#fdca26"
            ],
            [
             1,
             "#f0f921"
            ]
           ],
           "sequentialminus": [
            [
             0,
             "#0d0887"
            ],
            [
             0.1111111111111111,
             "#46039f"
            ],
            [
             0.2222222222222222,
             "#7201a8"
            ],
            [
             0.3333333333333333,
             "#9c179e"
            ],
            [
             0.4444444444444444,
             "#bd3786"
            ],
            [
             0.5555555555555556,
             "#d8576b"
            ],
            [
             0.6666666666666666,
             "#ed7953"
            ],
            [
             0.7777777777777778,
             "#fb9f3a"
            ],
            [
             0.8888888888888888,
             "#fdca26"
            ],
            [
             1,
             "#f0f921"
            ]
           ]
          },
          "colorway": [
           "#636efa",
           "#EF553B",
           "#00cc96",
           "#ab63fa",
           "#FFA15A",
           "#19d3f3",
           "#FF6692",
           "#B6E880",
           "#FF97FF",
           "#FECB52"
          ],
          "font": {
           "color": "#2a3f5f"
          },
          "geo": {
           "bgcolor": "white",
           "lakecolor": "white",
           "landcolor": "#E5ECF6",
           "showlakes": true,
           "showland": true,
           "subunitcolor": "white"
          },
          "hoverlabel": {
           "align": "left"
          },
          "hovermode": "closest",
          "mapbox": {
           "style": "light"
          },
          "paper_bgcolor": "white",
          "plot_bgcolor": "#E5ECF6",
          "polar": {
           "angularaxis": {
            "gridcolor": "white",
            "linecolor": "white",
            "ticks": ""
           },
           "bgcolor": "#E5ECF6",
           "radialaxis": {
            "gridcolor": "white",
            "linecolor": "white",
            "ticks": ""
           }
          },
          "scene": {
           "xaxis": {
            "backgroundcolor": "#E5ECF6",
            "gridcolor": "white",
            "gridwidth": 2,
            "linecolor": "white",
            "showbackground": true,
            "ticks": "",
            "zerolinecolor": "white"
           },
           "yaxis": {
            "backgroundcolor": "#E5ECF6",
            "gridcolor": "white",
            "gridwidth": 2,
            "linecolor": "white",
            "showbackground": true,
            "ticks": "",
            "zerolinecolor": "white"
           },
           "zaxis": {
            "backgroundcolor": "#E5ECF6",
            "gridcolor": "white",
            "gridwidth": 2,
            "linecolor": "white",
            "showbackground": true,
            "ticks": "",
            "zerolinecolor": "white"
           }
          },
          "shapedefaults": {
           "line": {
            "color": "#2a3f5f"
           }
          },
          "ternary": {
           "aaxis": {
            "gridcolor": "white",
            "linecolor": "white",
            "ticks": ""
           },
           "baxis": {
            "gridcolor": "white",
            "linecolor": "white",
            "ticks": ""
           },
           "bgcolor": "#E5ECF6",
           "caxis": {
            "gridcolor": "white",
            "linecolor": "white",
            "ticks": ""
           }
          },
          "title": {
           "x": 0.05
          },
          "xaxis": {
           "automargin": true,
           "gridcolor": "white",
           "linecolor": "white",
           "ticks": "",
           "title": {
            "standoff": 15
           },
           "zerolinecolor": "white",
           "zerolinewidth": 2
          },
          "yaxis": {
           "automargin": true,
           "gridcolor": "white",
           "linecolor": "white",
           "ticks": "",
           "title": {
            "standoff": 15
           },
           "zerolinecolor": "white",
           "zerolinewidth": 2
          }
         }
        },
        "title": {
         "font": {
          "color": "#4D5663"
         }
        },
        "xaxis": {
         "gridcolor": "#E1E5ED",
         "showgrid": true,
         "tickfont": {
          "color": "#4D5663"
         },
         "title": {
          "font": {
           "color": "#4D5663"
          },
          "text": ""
         },
         "zerolinecolor": "#E1E5ED"
        },
        "xaxis2": {
         "anchor": "y2",
         "gridcolor": "#E1E5ED",
         "showgrid": true,
         "showticklabels": false,
         "tickfont": {
          "color": "#4D5663"
         },
         "title": {
          "font": {
           "color": "#4D5663"
          },
          "text": ""
         },
         "zerolinecolor": "#E1E5ED"
        },
        "yaxis": {
         "domain": [
          0.3,
          1
         ],
         "gridcolor": "#E1E5ED",
         "showgrid": true,
         "tickfont": {
          "color": "#4D5663"
         },
         "title": {
          "font": {
           "color": "#4D5663"
          },
          "text": ""
         },
         "zerolinecolor": "#E1E5ED"
        },
        "yaxis2": {
         "domain": [
          0,
          0.25
         ],
         "gridcolor": "#E1E5ED",
         "showgrid": true,
         "tickfont": {
          "color": "#4D5663"
         },
         "title": {
          "font": {
           "color": "#4D5663"
          },
          "text": "Spread"
         },
         "zerolinecolor": "#E1E5ED"
        }
       }
      },
      "text/html": [
       "<div>\n",
       "        \n",
       "        \n",
       "            <div id=\"29caf956-ae82-44bf-a146-636bd37b4c10\" class=\"plotly-graph-div\" style=\"height:525px; width:100%;\"></div>\n",
       "            <script type=\"text/javascript\">\n",
       "                require([\"plotly\"], function(Plotly) {\n",
       "                    window.PLOTLYENV=window.PLOTLYENV || {};\n",
       "                    window.PLOTLYENV.BASE_URL='https://plot.ly';\n",
       "                    \n",
       "                if (document.getElementById(\"29caf956-ae82-44bf-a146-636bd37b4c10\")) {\n",
       "                    Plotly.newPlot(\n",
       "                        '29caf956-ae82-44bf-a146-636bd37b4c10',\n",
       "                        [{\"line\": {\"color\": \"rgba(255, 153, 51, 1.0)\", \"dash\": \"solid\", \"shape\": \"linear\", \"width\": 1.3}, \"mode\": \"lines\", \"name\": \"A\", \"text\": \"\", \"type\": \"scatter\", \"x\": [0, 1, 2, 3, 4, 5, 6, 7, 8, 9, 10, 11, 12, 13, 14, 15, 16, 17, 18, 19, 20, 21, 22, 23, 24, 25, 26, 27, 28, 29, 30, 31, 32, 33, 34, 35, 36, 37, 38, 39, 40, 41, 42, 43, 44, 45, 46, 47, 48, 49, 50, 51, 52, 53, 54, 55, 56, 57, 58, 59, 60, 61, 62, 63, 64, 65, 66, 67, 68, 69, 70, 71, 72, 73, 74, 75, 76, 77, 78, 79, 80, 81, 82, 83, 84, 85, 86, 87, 88, 89, 90, 91, 92, 93, 94, 95, 96, 97, 98, 99], \"y\": [-1.1833147841107685, -1.7500193061567437, 1.131725711797192, -0.4149990629871035, -0.5546323136266743, 0.30716715349814916, 0.9307409446318613, 1.1827126886991306, -0.36277765018746844, -1.1575863885269426, -0.8378908404057034, -0.3912685021276453, -1.3589334660637948, -0.9289435721940565, -0.7124449800398088, -1.6065487619933794, 2.332208250292037, 0.8026240180457727, -0.3270519336517877, -0.23711569943831692, -1.1574596670571589, 0.6356964428430179, -1.1519757857088226, -3.8820799601324034, 0.7723161251731423, 2.065264810943613, 0.02000222388239315, 0.3991394917296089, 0.945535911129008, -1.204940020191649, 0.2502984273434721, 0.4384717934478959, -0.3157678412237403, 0.6107843478312683, 1.4209487036819728, 0.8379028557999306, 1.402820371959644, -0.7644680156984743, 3.3499358837402666, -0.2794976581737439, 0.7120731738683018, 0.46511545582490277, 0.2695328720433325, 1.6056065472068564, -0.5389598099942599, 1.5665773988947163, 0.06510700987045681, 0.5239553353008185, 0.019203296036346764, -0.4421735345591453, 0.14516936021065513, 1.0355126831038233, -0.023036701246943896, 1.0388811679514585, -0.20672847201013142, 0.1716283164432814, -1.9380850409091082, -0.5851204532923052, -1.9757006147510012, 0.34022601382222384, 0.5079218681199503, 0.7631189321743553, 0.96306713033488, -0.8121233094405356, -0.9882153281714651, -0.4845284460071705, -0.02570082243243427, -0.03400268620872826, 0.5047792802117658, -2.279607145438385, -0.07385901857965435, -1.1771511696616481, -0.100857518160516, 1.0189389924248553, -1.6986752286473015, -2.2268426553186775, -0.9201106764549231, -1.060674427588634, 0.7607522685667668, 0.1235188485203996, 0.046532648289906525, -1.1751332884820118, -0.4914839965164748, -1.7497373291544116, -0.3786193081224398, -0.13885120042759355, -0.6706094005349879, -0.38208822846680607, 1.1451940523399124, -1.5857540722581318, 1.0235693577972806, -1.2530876758385363, 0.07528977828068915, -0.4156784952599241, -0.29874608294387867, 0.48755629016495683, 0.23878761796209058, -0.20848531744749169, -0.0689143672965231, 1.2984345736949008]}, {\"line\": {\"color\": \"rgba(55, 128, 191, 1.0)\", \"dash\": \"solid\", \"shape\": \"linear\", \"width\": 1.3}, \"mode\": \"lines\", \"name\": \"B\", \"text\": \"\", \"type\": \"scatter\", \"x\": [0, 1, 2, 3, 4, 5, 6, 7, 8, 9, 10, 11, 12, 13, 14, 15, 16, 17, 18, 19, 20, 21, 22, 23, 24, 25, 26, 27, 28, 29, 30, 31, 32, 33, 34, 35, 36, 37, 38, 39, 40, 41, 42, 43, 44, 45, 46, 47, 48, 49, 50, 51, 52, 53, 54, 55, 56, 57, 58, 59, 60, 61, 62, 63, 64, 65, 66, 67, 68, 69, 70, 71, 72, 73, 74, 75, 76, 77, 78, 79, 80, 81, 82, 83, 84, 85, 86, 87, 88, 89, 90, 91, 92, 93, 94, 95, 96, 97, 98, 99], \"y\": [-0.5898979642836217, -1.7035606150240423, 0.41195268107418087, 1.1748195587973018, -0.2874381187037066, 0.5750172963551519, -0.6918057201108602, 1.175390395429051, -0.6050538557649577, 0.0019096459897705962, -0.9231136810089464, -0.39323459451035514, 2.244083134591712, -0.2882505022052697, 0.2781543452345917, 0.7078101611604473, 0.10649678961373046, 0.16738271233384605, -0.2463839532113507, 1.895360391608483, 0.5421372027154331, -0.6229051777303326, -0.10911768413612674, 1.4985291313289495, 0.46005062638417077, -1.5223404637630722, -0.8075314184354632, 0.45644429253156205, -2.7984474908916193, -1.041201734145715, 0.3375797120780502, 0.7627293350558662, -0.4582718115207457, 0.3293598357702051, 0.46510675786566447, -3.4360205185224273, -1.3947339927310538, -0.5221562099881435, 0.11844118831730661, -1.4766140798725693, 0.19975507683724641, -0.9339711813555169, 0.4620682372737366, -2.133616090565549, 0.3832310677836281, 0.7267988798691072, -0.7422830769123931, 1.545527709647746, -0.7771822405729585, 1.0400750382376254, -1.6855965797420718, -1.4495282515512824, -0.2038630140221456, 0.5565767167842305, 0.6853447643542557, -2.1016656826691626, 0.7968165469168353, -1.9742291602109332, 0.015884797000142253, -0.33292686237909414, -0.28126192873968675, -1.164288982256235, 0.9531908259029911, -0.9663699340304098, -0.1407555700606715, -0.8902939391432672, -0.883753820359266, -0.7646362892146369, -0.13566886289315494, -0.6504629597466766, 0.46657048242165916, 0.7078080387334367, 0.3506441991444549, 1.3062316775097684, 0.7666951256814395, -2.1761057499896372, 1.0886646387882366, 0.1398003837228066, 1.1774220915886786, -1.5628528424355201, -0.02078033990114364, 0.2881795839775908, -0.45384339986760425, 0.8287228776149175, -0.47309173198761245, 0.9618766946968291, 2.086699961485107, -0.3923203335643365, -0.3489396871594183, 0.38009544401220324, -1.5582853190566033, -2.316080376858616, -0.04888223868916067, 1.4508778558136317, -1.0698703039694686, 0.3906557706873268, -1.296791643711909, -1.0090503122907404, 0.9509049308922853, -0.02878651143711458]}, {\"connectgaps\": false, \"fill\": \"tozeroy\", \"line\": {\"color\": \"green\", \"dash\": \"solid\", \"shape\": \"linear\", \"width\": 0.5}, \"mode\": \"lines\", \"name\": \"Spread\", \"showlegend\": false, \"type\": \"scatter\", \"x\": [0, 1, 2, 3, 4, 5, 6, 7, 8, 9, 10, 11, 12, 13, 14, 15, 16, 17, 18, 19, 20, 21, 22, 23, 24, 25, 26, 27, 28, 29, 30, 31, 32, 33, 34, 35, 36, 37, 38, 39, 40, 41, 42, 43, 44, 45, 46, 47, 48, 49, 50, 51, 52, 53, 54, 55, 56, 57, 58, 59, 60, 61, 62, 63, 64, 65, 66, 67, 68, 69, 70, 71, 72, 73, 74, 75, 76, 77, 78, 79, 80, 81, 82, 83, 84, 85, 86, 87, 88, 89, 90, 91, 92, 93, 94, 95, 96, 97, 98, 99], \"xaxis\": \"x2\", \"y\": [\"\", \"\", 0.719773030723011, \"\", \"\", \"\", 1.6225466647427216, 0.007322293270079605, 0.2422762055774893, \"\", 0.08522284060324303, 0.0019660923827098387, \"\", \"\", \"\", \"\", 2.2257114606783066, 0.6352413057119266, \"\", \"\", \"\", 1.2586016205733506, \"\", \"\", 0.31226549878897153, 3.5876052747066853, 0.8275336423178563, \"\", 3.7439834020206275, \"\", \"\", \"\", 0.1425039702970054, 0.2814245120610632, 0.9558419458163083, 4.273923374322358, 2.797554364690698, \"\", 3.23149469542296, 1.1971164216988255, 0.5123180970310555, 1.3990866371804196, \"\", 3.7392226377724054, \"\", 0.8397785190256091, 0.80739008678285, \"\", 0.7963855366093052, \"\", 1.830765939952727, 2.485040934655106, 0.1808263127752017, 0.482304451167228, \"\", 2.273293999112444, \"\", 1.3891087069186279, \"\", 0.6731528762013179, 0.7891837968596371, 1.9274079144305905, 0.009876304431888916, 0.15424662458987426, \"\", 0.40576549313609667, 0.8580529979268317, 0.7306336030059086, 0.6404481431049207, \"\", \"\", \"\", \"\", \"\", \"\", \"\", \"\", \"\", \"\", 1.6863716909559197, 0.06731298819105017, \"\", \"\", \"\", 0.09447242386517263, \"\", \"\", 0.01023210509753042, 1.4941337394993308, \"\", 2.581854676853884, 1.0629927010200795, 0.12417201696984982, \"\", 0.77112422102559, 0.09690051947763001, 1.5355792616739996, 0.8005649948432487, \"\", 1.3272210851320154], \"yaxis\": \"y2\"}, {\"connectgaps\": false, \"fill\": \"tozeroy\", \"line\": {\"color\": \"red\", \"dash\": \"solid\", \"shape\": \"linear\", \"width\": 0.5}, \"mode\": \"lines\", \"name\": \"Spread\", \"showlegend\": false, \"type\": \"scatter\", \"x\": [0, 1, 2, 3, 4, 5, 6, 7, 8, 9, 10, 11, 12, 13, 14, 15, 16, 17, 18, 19, 20, 21, 22, 23, 24, 25, 26, 27, 28, 29, 30, 31, 32, 33, 34, 35, 36, 37, 38, 39, 40, 41, 42, 43, 44, 45, 46, 47, 48, 49, 50, 51, 52, 53, 54, 55, 56, 57, 58, 59, 60, 61, 62, 63, 64, 65, 66, 67, 68, 69, 70, 71, 72, 73, 74, 75, 76, 77, 78, 79, 80, 81, 82, 83, 84, 85, 86, 87, 88, 89, 90, 91, 92, 93, 94, 95, 96, 97, 98, 99], \"xaxis\": \"x2\", \"y\": [-0.5934168198271468, -0.0464586911327014, \"\", -1.5898186217844053, -0.2671941949229677, -0.2678501428570027, \"\", \"\", \"\", -1.1594960345167131, \"\", \"\", -3.603016600655507, -0.6406930699887868, -0.9905993252744005, -2.3143589231538266, \"\", \"\", -0.08066798044043699, -2.1324760910468, -1.6995968697725918, \"\", -1.0428581015726959, -5.380609091461353, \"\", \"\", \"\", -0.05730480080195316, \"\", -0.163738286045934, -0.08728128473457814, -0.32425754160797027, \"\", \"\", \"\", \"\", \"\", -0.24231180571033084, \"\", \"\", \"\", \"\", -0.1925353652304041, \"\", -0.922190877777888, \"\", \"\", -1.0215723743469276, \"\", -1.4822485727967707, \"\", \"\", \"\", \"\", -0.8920732363643872, \"\", -2.7349015878259433, \"\", -1.9915854117511436, \"\", \"\", \"\", \"\", \"\", -0.8474597581107935, \"\", \"\", \"\", \"\", -1.6291441856917084, -0.5404295010013135, -1.8849592083950848, -0.4515017173049709, -0.2872926850849131, -2.465370354328741, -0.050736905329040294, -2.0087753152431596, -1.2004748113114405, -0.4166698230219118, \"\", \"\", -1.4633128724596025, -0.03764059664887054, -2.578460206769329, \"\", -1.1007278951244226, -2.757309362020095, \"\", \"\", -1.965849516270335, \"\", \"\", \"\", -1.8665563510735559, \"\", \"\", \"\", \"\", -1.0198192981888083, \"\"], \"yaxis\": \"y2\"}],\n",
       "                        {\"hovermode\": \"x\", \"legend\": {\"bgcolor\": \"#F5F6F9\", \"font\": {\"color\": \"#4D5663\"}}, \"paper_bgcolor\": \"#F5F6F9\", \"plot_bgcolor\": \"#F5F6F9\", \"template\": {\"data\": {\"bar\": [{\"error_x\": {\"color\": \"#2a3f5f\"}, \"error_y\": {\"color\": \"#2a3f5f\"}, \"marker\": {\"line\": {\"color\": \"#E5ECF6\", \"width\": 0.5}}, \"type\": \"bar\"}], \"barpolar\": [{\"marker\": {\"line\": {\"color\": \"#E5ECF6\", \"width\": 0.5}}, \"type\": \"barpolar\"}], \"carpet\": [{\"aaxis\": {\"endlinecolor\": \"#2a3f5f\", \"gridcolor\": \"white\", \"linecolor\": \"white\", \"minorgridcolor\": \"white\", \"startlinecolor\": \"#2a3f5f\"}, \"baxis\": {\"endlinecolor\": \"#2a3f5f\", \"gridcolor\": \"white\", \"linecolor\": \"white\", \"minorgridcolor\": \"white\", \"startlinecolor\": \"#2a3f5f\"}, \"type\": \"carpet\"}], \"choropleth\": [{\"colorbar\": {\"outlinewidth\": 0, \"ticks\": \"\"}, \"type\": \"choropleth\"}], \"contour\": [{\"colorbar\": {\"outlinewidth\": 0, \"ticks\": \"\"}, \"colorscale\": [[0.0, \"#0d0887\"], [0.1111111111111111, \"#46039f\"], [0.2222222222222222, \"#7201a8\"], [0.3333333333333333, \"#9c179e\"], [0.4444444444444444, \"#bd3786\"], [0.5555555555555556, \"#d8576b\"], [0.6666666666666666, \"#ed7953\"], [0.7777777777777778, \"#fb9f3a\"], [0.8888888888888888, \"#fdca26\"], [1.0, \"#f0f921\"]], \"type\": \"contour\"}], \"contourcarpet\": [{\"colorbar\": {\"outlinewidth\": 0, \"ticks\": \"\"}, \"type\": \"contourcarpet\"}], \"heatmap\": [{\"colorbar\": {\"outlinewidth\": 0, \"ticks\": \"\"}, \"colorscale\": [[0.0, \"#0d0887\"], [0.1111111111111111, \"#46039f\"], [0.2222222222222222, \"#7201a8\"], [0.3333333333333333, \"#9c179e\"], [0.4444444444444444, \"#bd3786\"], [0.5555555555555556, \"#d8576b\"], [0.6666666666666666, \"#ed7953\"], [0.7777777777777778, \"#fb9f3a\"], [0.8888888888888888, \"#fdca26\"], [1.0, \"#f0f921\"]], \"type\": \"heatmap\"}], \"heatmapgl\": [{\"colorbar\": {\"outlinewidth\": 0, \"ticks\": \"\"}, \"colorscale\": [[0.0, \"#0d0887\"], [0.1111111111111111, \"#46039f\"], [0.2222222222222222, \"#7201a8\"], [0.3333333333333333, \"#9c179e\"], [0.4444444444444444, \"#bd3786\"], [0.5555555555555556, \"#d8576b\"], [0.6666666666666666, \"#ed7953\"], [0.7777777777777778, \"#fb9f3a\"], [0.8888888888888888, \"#fdca26\"], [1.0, \"#f0f921\"]], \"type\": \"heatmapgl\"}], \"histogram\": [{\"marker\": {\"colorbar\": {\"outlinewidth\": 0, \"ticks\": \"\"}}, \"type\": \"histogram\"}], \"histogram2d\": [{\"colorbar\": {\"outlinewidth\": 0, \"ticks\": \"\"}, \"colorscale\": [[0.0, \"#0d0887\"], [0.1111111111111111, \"#46039f\"], [0.2222222222222222, \"#7201a8\"], [0.3333333333333333, \"#9c179e\"], [0.4444444444444444, \"#bd3786\"], [0.5555555555555556, \"#d8576b\"], [0.6666666666666666, \"#ed7953\"], [0.7777777777777778, \"#fb9f3a\"], [0.8888888888888888, \"#fdca26\"], [1.0, \"#f0f921\"]], \"type\": \"histogram2d\"}], \"histogram2dcontour\": [{\"colorbar\": {\"outlinewidth\": 0, \"ticks\": \"\"}, \"colorscale\": [[0.0, \"#0d0887\"], [0.1111111111111111, \"#46039f\"], [0.2222222222222222, \"#7201a8\"], [0.3333333333333333, \"#9c179e\"], [0.4444444444444444, \"#bd3786\"], [0.5555555555555556, \"#d8576b\"], [0.6666666666666666, \"#ed7953\"], [0.7777777777777778, \"#fb9f3a\"], [0.8888888888888888, \"#fdca26\"], [1.0, \"#f0f921\"]], \"type\": \"histogram2dcontour\"}], \"mesh3d\": [{\"colorbar\": {\"outlinewidth\": 0, \"ticks\": \"\"}, \"type\": \"mesh3d\"}], \"parcoords\": [{\"line\": {\"colorbar\": {\"outlinewidth\": 0, \"ticks\": \"\"}}, \"type\": \"parcoords\"}], \"pie\": [{\"automargin\": true, \"type\": \"pie\"}], \"scatter\": [{\"marker\": {\"colorbar\": {\"outlinewidth\": 0, \"ticks\": \"\"}}, \"type\": \"scatter\"}], \"scatter3d\": [{\"line\": {\"colorbar\": {\"outlinewidth\": 0, \"ticks\": \"\"}}, \"marker\": {\"colorbar\": {\"outlinewidth\": 0, \"ticks\": \"\"}}, \"type\": \"scatter3d\"}], \"scattercarpet\": [{\"marker\": {\"colorbar\": {\"outlinewidth\": 0, \"ticks\": \"\"}}, \"type\": \"scattercarpet\"}], \"scattergeo\": [{\"marker\": {\"colorbar\": {\"outlinewidth\": 0, \"ticks\": \"\"}}, \"type\": \"scattergeo\"}], \"scattergl\": [{\"marker\": {\"colorbar\": {\"outlinewidth\": 0, \"ticks\": \"\"}}, \"type\": \"scattergl\"}], \"scattermapbox\": [{\"marker\": {\"colorbar\": {\"outlinewidth\": 0, \"ticks\": \"\"}}, \"type\": \"scattermapbox\"}], \"scatterpolar\": [{\"marker\": {\"colorbar\": {\"outlinewidth\": 0, \"ticks\": \"\"}}, \"type\": \"scatterpolar\"}], \"scatterpolargl\": [{\"marker\": {\"colorbar\": {\"outlinewidth\": 0, \"ticks\": \"\"}}, \"type\": \"scatterpolargl\"}], \"scatterternary\": [{\"marker\": {\"colorbar\": {\"outlinewidth\": 0, \"ticks\": \"\"}}, \"type\": \"scatterternary\"}], \"surface\": [{\"colorbar\": {\"outlinewidth\": 0, \"ticks\": \"\"}, \"colorscale\": [[0.0, \"#0d0887\"], [0.1111111111111111, \"#46039f\"], [0.2222222222222222, \"#7201a8\"], [0.3333333333333333, \"#9c179e\"], [0.4444444444444444, \"#bd3786\"], [0.5555555555555556, \"#d8576b\"], [0.6666666666666666, \"#ed7953\"], [0.7777777777777778, \"#fb9f3a\"], [0.8888888888888888, \"#fdca26\"], [1.0, \"#f0f921\"]], \"type\": \"surface\"}], \"table\": [{\"cells\": {\"fill\": {\"color\": \"#EBF0F8\"}, \"line\": {\"color\": \"white\"}}, \"header\": {\"fill\": {\"color\": \"#C8D4E3\"}, \"line\": {\"color\": \"white\"}}, \"type\": \"table\"}]}, \"layout\": {\"annotationdefaults\": {\"arrowcolor\": \"#2a3f5f\", \"arrowhead\": 0, \"arrowwidth\": 1}, \"coloraxis\": {\"colorbar\": {\"outlinewidth\": 0, \"ticks\": \"\"}}, \"colorscale\": {\"diverging\": [[0, \"#8e0152\"], [0.1, \"#c51b7d\"], [0.2, \"#de77ae\"], [0.3, \"#f1b6da\"], [0.4, \"#fde0ef\"], [0.5, \"#f7f7f7\"], [0.6, \"#e6f5d0\"], [0.7, \"#b8e186\"], [0.8, \"#7fbc41\"], [0.9, \"#4d9221\"], [1, \"#276419\"]], \"sequential\": [[0.0, \"#0d0887\"], [0.1111111111111111, \"#46039f\"], [0.2222222222222222, \"#7201a8\"], [0.3333333333333333, \"#9c179e\"], [0.4444444444444444, \"#bd3786\"], [0.5555555555555556, \"#d8576b\"], [0.6666666666666666, \"#ed7953\"], [0.7777777777777778, \"#fb9f3a\"], [0.8888888888888888, \"#fdca26\"], [1.0, \"#f0f921\"]], \"sequentialminus\": [[0.0, \"#0d0887\"], [0.1111111111111111, \"#46039f\"], [0.2222222222222222, \"#7201a8\"], [0.3333333333333333, \"#9c179e\"], [0.4444444444444444, \"#bd3786\"], [0.5555555555555556, \"#d8576b\"], [0.6666666666666666, \"#ed7953\"], [0.7777777777777778, \"#fb9f3a\"], [0.8888888888888888, \"#fdca26\"], [1.0, \"#f0f921\"]]}, \"colorway\": [\"#636efa\", \"#EF553B\", \"#00cc96\", \"#ab63fa\", \"#FFA15A\", \"#19d3f3\", \"#FF6692\", \"#B6E880\", \"#FF97FF\", \"#FECB52\"], \"font\": {\"color\": \"#2a3f5f\"}, \"geo\": {\"bgcolor\": \"white\", \"lakecolor\": \"white\", \"landcolor\": \"#E5ECF6\", \"showlakes\": true, \"showland\": true, \"subunitcolor\": \"white\"}, \"hoverlabel\": {\"align\": \"left\"}, \"hovermode\": \"closest\", \"mapbox\": {\"style\": \"light\"}, \"paper_bgcolor\": \"white\", \"plot_bgcolor\": \"#E5ECF6\", \"polar\": {\"angularaxis\": {\"gridcolor\": \"white\", \"linecolor\": \"white\", \"ticks\": \"\"}, \"bgcolor\": \"#E5ECF6\", \"radialaxis\": {\"gridcolor\": \"white\", \"linecolor\": \"white\", \"ticks\": \"\"}}, \"scene\": {\"xaxis\": {\"backgroundcolor\": \"#E5ECF6\", \"gridcolor\": \"white\", \"gridwidth\": 2, \"linecolor\": \"white\", \"showbackground\": true, \"ticks\": \"\", \"zerolinecolor\": \"white\"}, \"yaxis\": {\"backgroundcolor\": \"#E5ECF6\", \"gridcolor\": \"white\", \"gridwidth\": 2, \"linecolor\": \"white\", \"showbackground\": true, \"ticks\": \"\", \"zerolinecolor\": \"white\"}, \"zaxis\": {\"backgroundcolor\": \"#E5ECF6\", \"gridcolor\": \"white\", \"gridwidth\": 2, \"linecolor\": \"white\", \"showbackground\": true, \"ticks\": \"\", \"zerolinecolor\": \"white\"}}, \"shapedefaults\": {\"line\": {\"color\": \"#2a3f5f\"}}, \"ternary\": {\"aaxis\": {\"gridcolor\": \"white\", \"linecolor\": \"white\", \"ticks\": \"\"}, \"baxis\": {\"gridcolor\": \"white\", \"linecolor\": \"white\", \"ticks\": \"\"}, \"bgcolor\": \"#E5ECF6\", \"caxis\": {\"gridcolor\": \"white\", \"linecolor\": \"white\", \"ticks\": \"\"}}, \"title\": {\"x\": 0.05}, \"xaxis\": {\"automargin\": true, \"gridcolor\": \"white\", \"linecolor\": \"white\", \"ticks\": \"\", \"title\": {\"standoff\": 15}, \"zerolinecolor\": \"white\", \"zerolinewidth\": 2}, \"yaxis\": {\"automargin\": true, \"gridcolor\": \"white\", \"linecolor\": \"white\", \"ticks\": \"\", \"title\": {\"standoff\": 15}, \"zerolinecolor\": \"white\", \"zerolinewidth\": 2}}}, \"title\": {\"font\": {\"color\": \"#4D5663\"}}, \"xaxis\": {\"gridcolor\": \"#E1E5ED\", \"showgrid\": true, \"tickfont\": {\"color\": \"#4D5663\"}, \"title\": {\"font\": {\"color\": \"#4D5663\"}, \"text\": \"\"}, \"zerolinecolor\": \"#E1E5ED\"}, \"xaxis2\": {\"anchor\": \"y2\", \"gridcolor\": \"#E1E5ED\", \"showgrid\": true, \"showticklabels\": false, \"tickfont\": {\"color\": \"#4D5663\"}, \"title\": {\"font\": {\"color\": \"#4D5663\"}, \"text\": \"\"}, \"zerolinecolor\": \"#E1E5ED\"}, \"yaxis\": {\"domain\": [0.3, 1], \"gridcolor\": \"#E1E5ED\", \"showgrid\": true, \"tickfont\": {\"color\": \"#4D5663\"}, \"title\": {\"font\": {\"color\": \"#4D5663\"}, \"text\": \"\"}, \"zerolinecolor\": \"#E1E5ED\"}, \"yaxis2\": {\"domain\": [0, 0.25], \"gridcolor\": \"#E1E5ED\", \"showgrid\": true, \"tickfont\": {\"color\": \"#4D5663\"}, \"title\": {\"font\": {\"color\": \"#4D5663\"}, \"text\": \"Spread\"}, \"zerolinecolor\": \"#E1E5ED\"}},\n",
       "                        {\"showLink\": true, \"linkText\": \"Export to plot.ly\", \"plotlyServerURL\": \"https://plot.ly\", \"responsive\": true}\n",
       "                    ).then(function(){\n",
       "                            \n",
       "var gd = document.getElementById('29caf956-ae82-44bf-a146-636bd37b4c10');\n",
       "var x = new MutationObserver(function (mutations, observer) {{\n",
       "        var display = window.getComputedStyle(gd).display;\n",
       "        if (!display || display === 'none') {{\n",
       "            console.log([gd, 'removed!']);\n",
       "            Plotly.purge(gd);\n",
       "            observer.disconnect();\n",
       "        }}\n",
       "}});\n",
       "\n",
       "// Listen for the removal of the full notebook cells\n",
       "var notebookContainer = gd.closest('#notebook-container');\n",
       "if (notebookContainer) {{\n",
       "    x.observe(notebookContainer, {childList: true});\n",
       "}}\n",
       "\n",
       "// Listen for the clearing of the current output cell\n",
       "var outputEl = gd.closest('.output');\n",
       "if (outputEl) {{\n",
       "    x.observe(outputEl, {childList: true});\n",
       "}}\n",
       "\n",
       "                        })\n",
       "                };\n",
       "                });\n",
       "            </script>\n",
       "        </div>"
      ]
     },
     "metadata": {},
     "output_type": "display_data"
    }
   ],
   "source": [
    "df[['A','B']].iplot(kind='spread')"
   ]
  },
  {
   "cell_type": "markdown",
   "metadata": {},
   "source": [
    "## histogram"
   ]
  },
  {
   "cell_type": "code",
   "execution_count": 21,
   "metadata": {},
   "outputs": [
    {
     "data": {
      "application/vnd.plotly.v1+json": {
       "config": {
        "linkText": "Export to plot.ly",
        "plotlyServerURL": "https://plot.ly",
        "showLink": true
       },
       "data": [
        {
         "histfunc": "count",
         "histnorm": "",
         "marker": {
          "color": "rgba(255, 153, 51, 1.0)",
          "line": {
           "color": "#4D5663",
           "width": 1.3
          }
         },
         "name": "A",
         "nbinsx": 25,
         "opacity": 0.8,
         "orientation": "v",
         "type": "histogram",
         "x": [
          -1.1833147841107685,
          -1.7500193061567437,
          1.131725711797192,
          -0.4149990629871035,
          -0.5546323136266743,
          0.30716715349814916,
          0.9307409446318613,
          1.1827126886991306,
          -0.36277765018746844,
          -1.1575863885269426,
          -0.8378908404057034,
          -0.3912685021276453,
          -1.3589334660637948,
          -0.9289435721940565,
          -0.7124449800398088,
          -1.6065487619933794,
          2.332208250292037,
          0.8026240180457727,
          -0.3270519336517877,
          -0.23711569943831692,
          -1.1574596670571589,
          0.6356964428430179,
          -1.1519757857088226,
          -3.8820799601324034,
          0.7723161251731423,
          2.065264810943613,
          0.02000222388239315,
          0.3991394917296089,
          0.945535911129008,
          -1.204940020191649,
          0.2502984273434721,
          0.4384717934478959,
          -0.3157678412237403,
          0.6107843478312683,
          1.4209487036819728,
          0.8379028557999306,
          1.402820371959644,
          -0.7644680156984743,
          3.3499358837402666,
          -0.2794976581737439,
          0.7120731738683018,
          0.46511545582490277,
          0.2695328720433325,
          1.6056065472068564,
          -0.5389598099942599,
          1.5665773988947163,
          0.06510700987045681,
          0.5239553353008185,
          0.019203296036346764,
          -0.4421735345591453,
          0.14516936021065513,
          1.0355126831038233,
          -0.023036701246943896,
          1.0388811679514585,
          -0.20672847201013142,
          0.1716283164432814,
          -1.9380850409091082,
          -0.5851204532923052,
          -1.9757006147510012,
          0.34022601382222384,
          0.5079218681199503,
          0.7631189321743553,
          0.96306713033488,
          -0.8121233094405356,
          -0.9882153281714651,
          -0.4845284460071705,
          -0.02570082243243427,
          -0.03400268620872826,
          0.5047792802117658,
          -2.279607145438385,
          -0.07385901857965435,
          -1.1771511696616481,
          -0.100857518160516,
          1.0189389924248553,
          -1.6986752286473015,
          -2.2268426553186775,
          -0.9201106764549231,
          -1.060674427588634,
          0.7607522685667668,
          0.1235188485203996,
          0.046532648289906525,
          -1.1751332884820118,
          -0.4914839965164748,
          -1.7497373291544116,
          -0.3786193081224398,
          -0.13885120042759355,
          -0.6706094005349879,
          -0.38208822846680607,
          1.1451940523399124,
          -1.5857540722581318,
          1.0235693577972806,
          -1.2530876758385363,
          0.07528977828068915,
          -0.4156784952599241,
          -0.29874608294387867,
          0.48755629016495683,
          0.23878761796209058,
          -0.20848531744749169,
          -0.0689143672965231,
          1.2984345736949008
         ]
        }
       ],
       "layout": {
        "barmode": "overlay",
        "legend": {
         "bgcolor": "#F5F6F9",
         "font": {
          "color": "#4D5663"
         }
        },
        "paper_bgcolor": "#F5F6F9",
        "plot_bgcolor": "#F5F6F9",
        "template": {
         "data": {
          "bar": [
           {
            "error_x": {
             "color": "#2a3f5f"
            },
            "error_y": {
             "color": "#2a3f5f"
            },
            "marker": {
             "line": {
              "color": "#E5ECF6",
              "width": 0.5
             }
            },
            "type": "bar"
           }
          ],
          "barpolar": [
           {
            "marker": {
             "line": {
              "color": "#E5ECF6",
              "width": 0.5
             }
            },
            "type": "barpolar"
           }
          ],
          "carpet": [
           {
            "aaxis": {
             "endlinecolor": "#2a3f5f",
             "gridcolor": "white",
             "linecolor": "white",
             "minorgridcolor": "white",
             "startlinecolor": "#2a3f5f"
            },
            "baxis": {
             "endlinecolor": "#2a3f5f",
             "gridcolor": "white",
             "linecolor": "white",
             "minorgridcolor": "white",
             "startlinecolor": "#2a3f5f"
            },
            "type": "carpet"
           }
          ],
          "choropleth": [
           {
            "colorbar": {
             "outlinewidth": 0,
             "ticks": ""
            },
            "type": "choropleth"
           }
          ],
          "contour": [
           {
            "colorbar": {
             "outlinewidth": 0,
             "ticks": ""
            },
            "colorscale": [
             [
              0,
              "#0d0887"
             ],
             [
              0.1111111111111111,
              "#46039f"
             ],
             [
              0.2222222222222222,
              "#7201a8"
             ],
             [
              0.3333333333333333,
              "#9c179e"
             ],
             [
              0.4444444444444444,
              "#bd3786"
             ],
             [
              0.5555555555555556,
              "#d8576b"
             ],
             [
              0.6666666666666666,
              "#ed7953"
             ],
             [
              0.7777777777777778,
              "#fb9f3a"
             ],
             [
              0.8888888888888888,
              "#fdca26"
             ],
             [
              1,
              "#f0f921"
             ]
            ],
            "type": "contour"
           }
          ],
          "contourcarpet": [
           {
            "colorbar": {
             "outlinewidth": 0,
             "ticks": ""
            },
            "type": "contourcarpet"
           }
          ],
          "heatmap": [
           {
            "colorbar": {
             "outlinewidth": 0,
             "ticks": ""
            },
            "colorscale": [
             [
              0,
              "#0d0887"
             ],
             [
              0.1111111111111111,
              "#46039f"
             ],
             [
              0.2222222222222222,
              "#7201a8"
             ],
             [
              0.3333333333333333,
              "#9c179e"
             ],
             [
              0.4444444444444444,
              "#bd3786"
             ],
             [
              0.5555555555555556,
              "#d8576b"
             ],
             [
              0.6666666666666666,
              "#ed7953"
             ],
             [
              0.7777777777777778,
              "#fb9f3a"
             ],
             [
              0.8888888888888888,
              "#fdca26"
             ],
             [
              1,
              "#f0f921"
             ]
            ],
            "type": "heatmap"
           }
          ],
          "heatmapgl": [
           {
            "colorbar": {
             "outlinewidth": 0,
             "ticks": ""
            },
            "colorscale": [
             [
              0,
              "#0d0887"
             ],
             [
              0.1111111111111111,
              "#46039f"
             ],
             [
              0.2222222222222222,
              "#7201a8"
             ],
             [
              0.3333333333333333,
              "#9c179e"
             ],
             [
              0.4444444444444444,
              "#bd3786"
             ],
             [
              0.5555555555555556,
              "#d8576b"
             ],
             [
              0.6666666666666666,
              "#ed7953"
             ],
             [
              0.7777777777777778,
              "#fb9f3a"
             ],
             [
              0.8888888888888888,
              "#fdca26"
             ],
             [
              1,
              "#f0f921"
             ]
            ],
            "type": "heatmapgl"
           }
          ],
          "histogram": [
           {
            "marker": {
             "colorbar": {
              "outlinewidth": 0,
              "ticks": ""
             }
            },
            "type": "histogram"
           }
          ],
          "histogram2d": [
           {
            "colorbar": {
             "outlinewidth": 0,
             "ticks": ""
            },
            "colorscale": [
             [
              0,
              "#0d0887"
             ],
             [
              0.1111111111111111,
              "#46039f"
             ],
             [
              0.2222222222222222,
              "#7201a8"
             ],
             [
              0.3333333333333333,
              "#9c179e"
             ],
             [
              0.4444444444444444,
              "#bd3786"
             ],
             [
              0.5555555555555556,
              "#d8576b"
             ],
             [
              0.6666666666666666,
              "#ed7953"
             ],
             [
              0.7777777777777778,
              "#fb9f3a"
             ],
             [
              0.8888888888888888,
              "#fdca26"
             ],
             [
              1,
              "#f0f921"
             ]
            ],
            "type": "histogram2d"
           }
          ],
          "histogram2dcontour": [
           {
            "colorbar": {
             "outlinewidth": 0,
             "ticks": ""
            },
            "colorscale": [
             [
              0,
              "#0d0887"
             ],
             [
              0.1111111111111111,
              "#46039f"
             ],
             [
              0.2222222222222222,
              "#7201a8"
             ],
             [
              0.3333333333333333,
              "#9c179e"
             ],
             [
              0.4444444444444444,
              "#bd3786"
             ],
             [
              0.5555555555555556,
              "#d8576b"
             ],
             [
              0.6666666666666666,
              "#ed7953"
             ],
             [
              0.7777777777777778,
              "#fb9f3a"
             ],
             [
              0.8888888888888888,
              "#fdca26"
             ],
             [
              1,
              "#f0f921"
             ]
            ],
            "type": "histogram2dcontour"
           }
          ],
          "mesh3d": [
           {
            "colorbar": {
             "outlinewidth": 0,
             "ticks": ""
            },
            "type": "mesh3d"
           }
          ],
          "parcoords": [
           {
            "line": {
             "colorbar": {
              "outlinewidth": 0,
              "ticks": ""
             }
            },
            "type": "parcoords"
           }
          ],
          "pie": [
           {
            "automargin": true,
            "type": "pie"
           }
          ],
          "scatter": [
           {
            "marker": {
             "colorbar": {
              "outlinewidth": 0,
              "ticks": ""
             }
            },
            "type": "scatter"
           }
          ],
          "scatter3d": [
           {
            "line": {
             "colorbar": {
              "outlinewidth": 0,
              "ticks": ""
             }
            },
            "marker": {
             "colorbar": {
              "outlinewidth": 0,
              "ticks": ""
             }
            },
            "type": "scatter3d"
           }
          ],
          "scattercarpet": [
           {
            "marker": {
             "colorbar": {
              "outlinewidth": 0,
              "ticks": ""
             }
            },
            "type": "scattercarpet"
           }
          ],
          "scattergeo": [
           {
            "marker": {
             "colorbar": {
              "outlinewidth": 0,
              "ticks": ""
             }
            },
            "type": "scattergeo"
           }
          ],
          "scattergl": [
           {
            "marker": {
             "colorbar": {
              "outlinewidth": 0,
              "ticks": ""
             }
            },
            "type": "scattergl"
           }
          ],
          "scattermapbox": [
           {
            "marker": {
             "colorbar": {
              "outlinewidth": 0,
              "ticks": ""
             }
            },
            "type": "scattermapbox"
           }
          ],
          "scatterpolar": [
           {
            "marker": {
             "colorbar": {
              "outlinewidth": 0,
              "ticks": ""
             }
            },
            "type": "scatterpolar"
           }
          ],
          "scatterpolargl": [
           {
            "marker": {
             "colorbar": {
              "outlinewidth": 0,
              "ticks": ""
             }
            },
            "type": "scatterpolargl"
           }
          ],
          "scatterternary": [
           {
            "marker": {
             "colorbar": {
              "outlinewidth": 0,
              "ticks": ""
             }
            },
            "type": "scatterternary"
           }
          ],
          "surface": [
           {
            "colorbar": {
             "outlinewidth": 0,
             "ticks": ""
            },
            "colorscale": [
             [
              0,
              "#0d0887"
             ],
             [
              0.1111111111111111,
              "#46039f"
             ],
             [
              0.2222222222222222,
              "#7201a8"
             ],
             [
              0.3333333333333333,
              "#9c179e"
             ],
             [
              0.4444444444444444,
              "#bd3786"
             ],
             [
              0.5555555555555556,
              "#d8576b"
             ],
             [
              0.6666666666666666,
              "#ed7953"
             ],
             [
              0.7777777777777778,
              "#fb9f3a"
             ],
             [
              0.8888888888888888,
              "#fdca26"
             ],
             [
              1,
              "#f0f921"
             ]
            ],
            "type": "surface"
           }
          ],
          "table": [
           {
            "cells": {
             "fill": {
              "color": "#EBF0F8"
             },
             "line": {
              "color": "white"
             }
            },
            "header": {
             "fill": {
              "color": "#C8D4E3"
             },
             "line": {
              "color": "white"
             }
            },
            "type": "table"
           }
          ]
         },
         "layout": {
          "annotationdefaults": {
           "arrowcolor": "#2a3f5f",
           "arrowhead": 0,
           "arrowwidth": 1
          },
          "coloraxis": {
           "colorbar": {
            "outlinewidth": 0,
            "ticks": ""
           }
          },
          "colorscale": {
           "diverging": [
            [
             0,
             "#8e0152"
            ],
            [
             0.1,
             "#c51b7d"
            ],
            [
             0.2,
             "#de77ae"
            ],
            [
             0.3,
             "#f1b6da"
            ],
            [
             0.4,
             "#fde0ef"
            ],
            [
             0.5,
             "#f7f7f7"
            ],
            [
             0.6,
             "#e6f5d0"
            ],
            [
             0.7,
             "#b8e186"
            ],
            [
             0.8,
             "#7fbc41"
            ],
            [
             0.9,
             "#4d9221"
            ],
            [
             1,
             "#276419"
            ]
           ],
           "sequential": [
            [
             0,
             "#0d0887"
            ],
            [
             0.1111111111111111,
             "#46039f"
            ],
            [
             0.2222222222222222,
             "#7201a8"
            ],
            [
             0.3333333333333333,
             "#9c179e"
            ],
            [
             0.4444444444444444,
             "#bd3786"
            ],
            [
             0.5555555555555556,
             "#d8576b"
            ],
            [
             0.6666666666666666,
             "#ed7953"
            ],
            [
             0.7777777777777778,
             "#fb9f3a"
            ],
            [
             0.8888888888888888,
             "#fdca26"
            ],
            [
             1,
             "#f0f921"
            ]
           ],
           "sequentialminus": [
            [
             0,
             "#0d0887"
            ],
            [
             0.1111111111111111,
             "#46039f"
            ],
            [
             0.2222222222222222,
             "#7201a8"
            ],
            [
             0.3333333333333333,
             "#9c179e"
            ],
            [
             0.4444444444444444,
             "#bd3786"
            ],
            [
             0.5555555555555556,
             "#d8576b"
            ],
            [
             0.6666666666666666,
             "#ed7953"
            ],
            [
             0.7777777777777778,
             "#fb9f3a"
            ],
            [
             0.8888888888888888,
             "#fdca26"
            ],
            [
             1,
             "#f0f921"
            ]
           ]
          },
          "colorway": [
           "#636efa",
           "#EF553B",
           "#00cc96",
           "#ab63fa",
           "#FFA15A",
           "#19d3f3",
           "#FF6692",
           "#B6E880",
           "#FF97FF",
           "#FECB52"
          ],
          "font": {
           "color": "#2a3f5f"
          },
          "geo": {
           "bgcolor": "white",
           "lakecolor": "white",
           "landcolor": "#E5ECF6",
           "showlakes": true,
           "showland": true,
           "subunitcolor": "white"
          },
          "hoverlabel": {
           "align": "left"
          },
          "hovermode": "closest",
          "mapbox": {
           "style": "light"
          },
          "paper_bgcolor": "white",
          "plot_bgcolor": "#E5ECF6",
          "polar": {
           "angularaxis": {
            "gridcolor": "white",
            "linecolor": "white",
            "ticks": ""
           },
           "bgcolor": "#E5ECF6",
           "radialaxis": {
            "gridcolor": "white",
            "linecolor": "white",
            "ticks": ""
           }
          },
          "scene": {
           "xaxis": {
            "backgroundcolor": "#E5ECF6",
            "gridcolor": "white",
            "gridwidth": 2,
            "linecolor": "white",
            "showbackground": true,
            "ticks": "",
            "zerolinecolor": "white"
           },
           "yaxis": {
            "backgroundcolor": "#E5ECF6",
            "gridcolor": "white",
            "gridwidth": 2,
            "linecolor": "white",
            "showbackground": true,
            "ticks": "",
            "zerolinecolor": "white"
           },
           "zaxis": {
            "backgroundcolor": "#E5ECF6",
            "gridcolor": "white",
            "gridwidth": 2,
            "linecolor": "white",
            "showbackground": true,
            "ticks": "",
            "zerolinecolor": "white"
           }
          },
          "shapedefaults": {
           "line": {
            "color": "#2a3f5f"
           }
          },
          "ternary": {
           "aaxis": {
            "gridcolor": "white",
            "linecolor": "white",
            "ticks": ""
           },
           "baxis": {
            "gridcolor": "white",
            "linecolor": "white",
            "ticks": ""
           },
           "bgcolor": "#E5ECF6",
           "caxis": {
            "gridcolor": "white",
            "linecolor": "white",
            "ticks": ""
           }
          },
          "title": {
           "x": 0.05
          },
          "xaxis": {
           "automargin": true,
           "gridcolor": "white",
           "linecolor": "white",
           "ticks": "",
           "title": {
            "standoff": 15
           },
           "zerolinecolor": "white",
           "zerolinewidth": 2
          },
          "yaxis": {
           "automargin": true,
           "gridcolor": "white",
           "linecolor": "white",
           "ticks": "",
           "title": {
            "standoff": 15
           },
           "zerolinecolor": "white",
           "zerolinewidth": 2
          }
         }
        },
        "title": {
         "font": {
          "color": "#4D5663"
         }
        },
        "xaxis": {
         "gridcolor": "#E1E5ED",
         "showgrid": true,
         "tickfont": {
          "color": "#4D5663"
         },
         "title": {
          "font": {
           "color": "#4D5663"
          },
          "text": ""
         },
         "zerolinecolor": "#E1E5ED"
        },
        "yaxis": {
         "gridcolor": "#E1E5ED",
         "showgrid": true,
         "tickfont": {
          "color": "#4D5663"
         },
         "title": {
          "font": {
           "color": "#4D5663"
          },
          "text": ""
         },
         "zerolinecolor": "#E1E5ED"
        }
       }
      },
      "text/html": [
       "<div>\n",
       "        \n",
       "        \n",
       "            <div id=\"e79e0cfc-dd39-49ae-aba9-de95730de6f5\" class=\"plotly-graph-div\" style=\"height:525px; width:100%;\"></div>\n",
       "            <script type=\"text/javascript\">\n",
       "                require([\"plotly\"], function(Plotly) {\n",
       "                    window.PLOTLYENV=window.PLOTLYENV || {};\n",
       "                    window.PLOTLYENV.BASE_URL='https://plot.ly';\n",
       "                    \n",
       "                if (document.getElementById(\"e79e0cfc-dd39-49ae-aba9-de95730de6f5\")) {\n",
       "                    Plotly.newPlot(\n",
       "                        'e79e0cfc-dd39-49ae-aba9-de95730de6f5',\n",
       "                        [{\"histfunc\": \"count\", \"histnorm\": \"\", \"marker\": {\"color\": \"rgba(255, 153, 51, 1.0)\", \"line\": {\"color\": \"#4D5663\", \"width\": 1.3}}, \"name\": \"A\", \"nbinsx\": 25, \"opacity\": 0.8, \"orientation\": \"v\", \"type\": \"histogram\", \"x\": [-1.1833147841107685, -1.7500193061567437, 1.131725711797192, -0.4149990629871035, -0.5546323136266743, 0.30716715349814916, 0.9307409446318613, 1.1827126886991306, -0.36277765018746844, -1.1575863885269426, -0.8378908404057034, -0.3912685021276453, -1.3589334660637948, -0.9289435721940565, -0.7124449800398088, -1.6065487619933794, 2.332208250292037, 0.8026240180457727, -0.3270519336517877, -0.23711569943831692, -1.1574596670571589, 0.6356964428430179, -1.1519757857088226, -3.8820799601324034, 0.7723161251731423, 2.065264810943613, 0.02000222388239315, 0.3991394917296089, 0.945535911129008, -1.204940020191649, 0.2502984273434721, 0.4384717934478959, -0.3157678412237403, 0.6107843478312683, 1.4209487036819728, 0.8379028557999306, 1.402820371959644, -0.7644680156984743, 3.3499358837402666, -0.2794976581737439, 0.7120731738683018, 0.46511545582490277, 0.2695328720433325, 1.6056065472068564, -0.5389598099942599, 1.5665773988947163, 0.06510700987045681, 0.5239553353008185, 0.019203296036346764, -0.4421735345591453, 0.14516936021065513, 1.0355126831038233, -0.023036701246943896, 1.0388811679514585, -0.20672847201013142, 0.1716283164432814, -1.9380850409091082, -0.5851204532923052, -1.9757006147510012, 0.34022601382222384, 0.5079218681199503, 0.7631189321743553, 0.96306713033488, -0.8121233094405356, -0.9882153281714651, -0.4845284460071705, -0.02570082243243427, -0.03400268620872826, 0.5047792802117658, -2.279607145438385, -0.07385901857965435, -1.1771511696616481, -0.100857518160516, 1.0189389924248553, -1.6986752286473015, -2.2268426553186775, -0.9201106764549231, -1.060674427588634, 0.7607522685667668, 0.1235188485203996, 0.046532648289906525, -1.1751332884820118, -0.4914839965164748, -1.7497373291544116, -0.3786193081224398, -0.13885120042759355, -0.6706094005349879, -0.38208822846680607, 1.1451940523399124, -1.5857540722581318, 1.0235693577972806, -1.2530876758385363, 0.07528977828068915, -0.4156784952599241, -0.29874608294387867, 0.48755629016495683, 0.23878761796209058, -0.20848531744749169, -0.0689143672965231, 1.2984345736949008]}],\n",
       "                        {\"barmode\": \"overlay\", \"legend\": {\"bgcolor\": \"#F5F6F9\", \"font\": {\"color\": \"#4D5663\"}}, \"paper_bgcolor\": \"#F5F6F9\", \"plot_bgcolor\": \"#F5F6F9\", \"template\": {\"data\": {\"bar\": [{\"error_x\": {\"color\": \"#2a3f5f\"}, \"error_y\": {\"color\": \"#2a3f5f\"}, \"marker\": {\"line\": {\"color\": \"#E5ECF6\", \"width\": 0.5}}, \"type\": \"bar\"}], \"barpolar\": [{\"marker\": {\"line\": {\"color\": \"#E5ECF6\", \"width\": 0.5}}, \"type\": \"barpolar\"}], \"carpet\": [{\"aaxis\": {\"endlinecolor\": \"#2a3f5f\", \"gridcolor\": \"white\", \"linecolor\": \"white\", \"minorgridcolor\": \"white\", \"startlinecolor\": \"#2a3f5f\"}, \"baxis\": {\"endlinecolor\": \"#2a3f5f\", \"gridcolor\": \"white\", \"linecolor\": \"white\", \"minorgridcolor\": \"white\", \"startlinecolor\": \"#2a3f5f\"}, \"type\": \"carpet\"}], \"choropleth\": [{\"colorbar\": {\"outlinewidth\": 0, \"ticks\": \"\"}, \"type\": \"choropleth\"}], \"contour\": [{\"colorbar\": {\"outlinewidth\": 0, \"ticks\": \"\"}, \"colorscale\": [[0.0, \"#0d0887\"], [0.1111111111111111, \"#46039f\"], [0.2222222222222222, \"#7201a8\"], [0.3333333333333333, \"#9c179e\"], [0.4444444444444444, \"#bd3786\"], [0.5555555555555556, \"#d8576b\"], [0.6666666666666666, \"#ed7953\"], [0.7777777777777778, \"#fb9f3a\"], [0.8888888888888888, \"#fdca26\"], [1.0, \"#f0f921\"]], \"type\": \"contour\"}], \"contourcarpet\": [{\"colorbar\": {\"outlinewidth\": 0, \"ticks\": \"\"}, \"type\": \"contourcarpet\"}], \"heatmap\": [{\"colorbar\": {\"outlinewidth\": 0, \"ticks\": \"\"}, \"colorscale\": [[0.0, \"#0d0887\"], [0.1111111111111111, \"#46039f\"], [0.2222222222222222, \"#7201a8\"], [0.3333333333333333, \"#9c179e\"], [0.4444444444444444, \"#bd3786\"], [0.5555555555555556, \"#d8576b\"], [0.6666666666666666, \"#ed7953\"], [0.7777777777777778, \"#fb9f3a\"], [0.8888888888888888, \"#fdca26\"], [1.0, \"#f0f921\"]], \"type\": \"heatmap\"}], \"heatmapgl\": [{\"colorbar\": {\"outlinewidth\": 0, \"ticks\": \"\"}, \"colorscale\": [[0.0, \"#0d0887\"], [0.1111111111111111, \"#46039f\"], [0.2222222222222222, \"#7201a8\"], [0.3333333333333333, \"#9c179e\"], [0.4444444444444444, \"#bd3786\"], [0.5555555555555556, \"#d8576b\"], [0.6666666666666666, \"#ed7953\"], [0.7777777777777778, \"#fb9f3a\"], [0.8888888888888888, \"#fdca26\"], [1.0, \"#f0f921\"]], \"type\": \"heatmapgl\"}], \"histogram\": [{\"marker\": {\"colorbar\": {\"outlinewidth\": 0, \"ticks\": \"\"}}, \"type\": \"histogram\"}], \"histogram2d\": [{\"colorbar\": {\"outlinewidth\": 0, \"ticks\": \"\"}, \"colorscale\": [[0.0, \"#0d0887\"], [0.1111111111111111, \"#46039f\"], [0.2222222222222222, \"#7201a8\"], [0.3333333333333333, \"#9c179e\"], [0.4444444444444444, \"#bd3786\"], [0.5555555555555556, \"#d8576b\"], [0.6666666666666666, \"#ed7953\"], [0.7777777777777778, \"#fb9f3a\"], [0.8888888888888888, \"#fdca26\"], [1.0, \"#f0f921\"]], \"type\": \"histogram2d\"}], \"histogram2dcontour\": [{\"colorbar\": {\"outlinewidth\": 0, \"ticks\": \"\"}, \"colorscale\": [[0.0, \"#0d0887\"], [0.1111111111111111, \"#46039f\"], [0.2222222222222222, \"#7201a8\"], [0.3333333333333333, \"#9c179e\"], [0.4444444444444444, \"#bd3786\"], [0.5555555555555556, \"#d8576b\"], [0.6666666666666666, \"#ed7953\"], [0.7777777777777778, \"#fb9f3a\"], [0.8888888888888888, \"#fdca26\"], [1.0, \"#f0f921\"]], \"type\": \"histogram2dcontour\"}], \"mesh3d\": [{\"colorbar\": {\"outlinewidth\": 0, \"ticks\": \"\"}, \"type\": \"mesh3d\"}], \"parcoords\": [{\"line\": {\"colorbar\": {\"outlinewidth\": 0, \"ticks\": \"\"}}, \"type\": \"parcoords\"}], \"pie\": [{\"automargin\": true, \"type\": \"pie\"}], \"scatter\": [{\"marker\": {\"colorbar\": {\"outlinewidth\": 0, \"ticks\": \"\"}}, \"type\": \"scatter\"}], \"scatter3d\": [{\"line\": {\"colorbar\": {\"outlinewidth\": 0, \"ticks\": \"\"}}, \"marker\": {\"colorbar\": {\"outlinewidth\": 0, \"ticks\": \"\"}}, \"type\": \"scatter3d\"}], \"scattercarpet\": [{\"marker\": {\"colorbar\": {\"outlinewidth\": 0, \"ticks\": \"\"}}, \"type\": \"scattercarpet\"}], \"scattergeo\": [{\"marker\": {\"colorbar\": {\"outlinewidth\": 0, \"ticks\": \"\"}}, \"type\": \"scattergeo\"}], \"scattergl\": [{\"marker\": {\"colorbar\": {\"outlinewidth\": 0, \"ticks\": \"\"}}, \"type\": \"scattergl\"}], \"scattermapbox\": [{\"marker\": {\"colorbar\": {\"outlinewidth\": 0, \"ticks\": \"\"}}, \"type\": \"scattermapbox\"}], \"scatterpolar\": [{\"marker\": {\"colorbar\": {\"outlinewidth\": 0, \"ticks\": \"\"}}, \"type\": \"scatterpolar\"}], \"scatterpolargl\": [{\"marker\": {\"colorbar\": {\"outlinewidth\": 0, \"ticks\": \"\"}}, \"type\": \"scatterpolargl\"}], \"scatterternary\": [{\"marker\": {\"colorbar\": {\"outlinewidth\": 0, \"ticks\": \"\"}}, \"type\": \"scatterternary\"}], \"surface\": [{\"colorbar\": {\"outlinewidth\": 0, \"ticks\": \"\"}, \"colorscale\": [[0.0, \"#0d0887\"], [0.1111111111111111, \"#46039f\"], [0.2222222222222222, \"#7201a8\"], [0.3333333333333333, \"#9c179e\"], [0.4444444444444444, \"#bd3786\"], [0.5555555555555556, \"#d8576b\"], [0.6666666666666666, \"#ed7953\"], [0.7777777777777778, \"#fb9f3a\"], [0.8888888888888888, \"#fdca26\"], [1.0, \"#f0f921\"]], \"type\": \"surface\"}], \"table\": [{\"cells\": {\"fill\": {\"color\": \"#EBF0F8\"}, \"line\": {\"color\": \"white\"}}, \"header\": {\"fill\": {\"color\": \"#C8D4E3\"}, \"line\": {\"color\": \"white\"}}, \"type\": \"table\"}]}, \"layout\": {\"annotationdefaults\": {\"arrowcolor\": \"#2a3f5f\", \"arrowhead\": 0, \"arrowwidth\": 1}, \"coloraxis\": {\"colorbar\": {\"outlinewidth\": 0, \"ticks\": \"\"}}, \"colorscale\": {\"diverging\": [[0, \"#8e0152\"], [0.1, \"#c51b7d\"], [0.2, \"#de77ae\"], [0.3, \"#f1b6da\"], [0.4, \"#fde0ef\"], [0.5, \"#f7f7f7\"], [0.6, \"#e6f5d0\"], [0.7, \"#b8e186\"], [0.8, \"#7fbc41\"], [0.9, \"#4d9221\"], [1, \"#276419\"]], \"sequential\": [[0.0, \"#0d0887\"], [0.1111111111111111, \"#46039f\"], [0.2222222222222222, \"#7201a8\"], [0.3333333333333333, \"#9c179e\"], [0.4444444444444444, \"#bd3786\"], [0.5555555555555556, \"#d8576b\"], [0.6666666666666666, \"#ed7953\"], [0.7777777777777778, \"#fb9f3a\"], [0.8888888888888888, \"#fdca26\"], [1.0, \"#f0f921\"]], \"sequentialminus\": [[0.0, \"#0d0887\"], [0.1111111111111111, \"#46039f\"], [0.2222222222222222, \"#7201a8\"], [0.3333333333333333, \"#9c179e\"], [0.4444444444444444, \"#bd3786\"], [0.5555555555555556, \"#d8576b\"], [0.6666666666666666, \"#ed7953\"], [0.7777777777777778, \"#fb9f3a\"], [0.8888888888888888, \"#fdca26\"], [1.0, \"#f0f921\"]]}, \"colorway\": [\"#636efa\", \"#EF553B\", \"#00cc96\", \"#ab63fa\", \"#FFA15A\", \"#19d3f3\", \"#FF6692\", \"#B6E880\", \"#FF97FF\", \"#FECB52\"], \"font\": {\"color\": \"#2a3f5f\"}, \"geo\": {\"bgcolor\": \"white\", \"lakecolor\": \"white\", \"landcolor\": \"#E5ECF6\", \"showlakes\": true, \"showland\": true, \"subunitcolor\": \"white\"}, \"hoverlabel\": {\"align\": \"left\"}, \"hovermode\": \"closest\", \"mapbox\": {\"style\": \"light\"}, \"paper_bgcolor\": \"white\", \"plot_bgcolor\": \"#E5ECF6\", \"polar\": {\"angularaxis\": {\"gridcolor\": \"white\", \"linecolor\": \"white\", \"ticks\": \"\"}, \"bgcolor\": \"#E5ECF6\", \"radialaxis\": {\"gridcolor\": \"white\", \"linecolor\": \"white\", \"ticks\": \"\"}}, \"scene\": {\"xaxis\": {\"backgroundcolor\": \"#E5ECF6\", \"gridcolor\": \"white\", \"gridwidth\": 2, \"linecolor\": \"white\", \"showbackground\": true, \"ticks\": \"\", \"zerolinecolor\": \"white\"}, \"yaxis\": {\"backgroundcolor\": \"#E5ECF6\", \"gridcolor\": \"white\", \"gridwidth\": 2, \"linecolor\": \"white\", \"showbackground\": true, \"ticks\": \"\", \"zerolinecolor\": \"white\"}, \"zaxis\": {\"backgroundcolor\": \"#E5ECF6\", \"gridcolor\": \"white\", \"gridwidth\": 2, \"linecolor\": \"white\", \"showbackground\": true, \"ticks\": \"\", \"zerolinecolor\": \"white\"}}, \"shapedefaults\": {\"line\": {\"color\": \"#2a3f5f\"}}, \"ternary\": {\"aaxis\": {\"gridcolor\": \"white\", \"linecolor\": \"white\", \"ticks\": \"\"}, \"baxis\": {\"gridcolor\": \"white\", \"linecolor\": \"white\", \"ticks\": \"\"}, \"bgcolor\": \"#E5ECF6\", \"caxis\": {\"gridcolor\": \"white\", \"linecolor\": \"white\", \"ticks\": \"\"}}, \"title\": {\"x\": 0.05}, \"xaxis\": {\"automargin\": true, \"gridcolor\": \"white\", \"linecolor\": \"white\", \"ticks\": \"\", \"title\": {\"standoff\": 15}, \"zerolinecolor\": \"white\", \"zerolinewidth\": 2}, \"yaxis\": {\"automargin\": true, \"gridcolor\": \"white\", \"linecolor\": \"white\", \"ticks\": \"\", \"title\": {\"standoff\": 15}, \"zerolinecolor\": \"white\", \"zerolinewidth\": 2}}}, \"title\": {\"font\": {\"color\": \"#4D5663\"}}, \"xaxis\": {\"gridcolor\": \"#E1E5ED\", \"showgrid\": true, \"tickfont\": {\"color\": \"#4D5663\"}, \"title\": {\"font\": {\"color\": \"#4D5663\"}, \"text\": \"\"}, \"zerolinecolor\": \"#E1E5ED\"}, \"yaxis\": {\"gridcolor\": \"#E1E5ED\", \"showgrid\": true, \"tickfont\": {\"color\": \"#4D5663\"}, \"title\": {\"font\": {\"color\": \"#4D5663\"}, \"text\": \"\"}, \"zerolinecolor\": \"#E1E5ED\"}},\n",
       "                        {\"showLink\": true, \"linkText\": \"Export to plot.ly\", \"plotlyServerURL\": \"https://plot.ly\", \"responsive\": true}\n",
       "                    ).then(function(){\n",
       "                            \n",
       "var gd = document.getElementById('e79e0cfc-dd39-49ae-aba9-de95730de6f5');\n",
       "var x = new MutationObserver(function (mutations, observer) {{\n",
       "        var display = window.getComputedStyle(gd).display;\n",
       "        if (!display || display === 'none') {{\n",
       "            console.log([gd, 'removed!']);\n",
       "            Plotly.purge(gd);\n",
       "            observer.disconnect();\n",
       "        }}\n",
       "}});\n",
       "\n",
       "// Listen for the removal of the full notebook cells\n",
       "var notebookContainer = gd.closest('#notebook-container');\n",
       "if (notebookContainer) {{\n",
       "    x.observe(notebookContainer, {childList: true});\n",
       "}}\n",
       "\n",
       "// Listen for the clearing of the current output cell\n",
       "var outputEl = gd.closest('.output');\n",
       "if (outputEl) {{\n",
       "    x.observe(outputEl, {childList: true});\n",
       "}}\n",
       "\n",
       "                        })\n",
       "                };\n",
       "                });\n",
       "            </script>\n",
       "        </div>"
      ]
     },
     "metadata": {},
     "output_type": "display_data"
    }
   ],
   "source": [
    "df['A'].iplot(kind='hist',bins=25)"
   ]
  },
  {
   "cell_type": "code",
   "execution_count": 23,
   "metadata": {},
   "outputs": [
    {
     "data": {
      "application/vnd.plotly.v1+json": {
       "config": {
        "linkText": "Export to plot.ly",
        "plotlyServerURL": "https://plot.ly",
        "showLink": true
       },
       "data": [
        {
         "histfunc": "count",
         "histnorm": "",
         "marker": {
          "color": "rgba(255, 153, 51, 1.0)",
          "line": {
           "color": "#4D5663",
           "width": 1.3
          }
         },
         "name": "A",
         "nbinsx": 25,
         "opacity": 0.8,
         "orientation": "v",
         "type": "histogram",
         "x": [
          -1.1833147841107685,
          -1.7500193061567437,
          1.131725711797192,
          -0.4149990629871035,
          -0.5546323136266743,
          0.30716715349814916,
          0.9307409446318613,
          1.1827126886991306,
          -0.36277765018746844,
          -1.1575863885269426,
          -0.8378908404057034,
          -0.3912685021276453,
          -1.3589334660637948,
          -0.9289435721940565,
          -0.7124449800398088,
          -1.6065487619933794,
          2.332208250292037,
          0.8026240180457727,
          -0.3270519336517877,
          -0.23711569943831692,
          -1.1574596670571589,
          0.6356964428430179,
          -1.1519757857088226,
          -3.8820799601324034,
          0.7723161251731423,
          2.065264810943613,
          0.02000222388239315,
          0.3991394917296089,
          0.945535911129008,
          -1.204940020191649,
          0.2502984273434721,
          0.4384717934478959,
          -0.3157678412237403,
          0.6107843478312683,
          1.4209487036819728,
          0.8379028557999306,
          1.402820371959644,
          -0.7644680156984743,
          3.3499358837402666,
          -0.2794976581737439,
          0.7120731738683018,
          0.46511545582490277,
          0.2695328720433325,
          1.6056065472068564,
          -0.5389598099942599,
          1.5665773988947163,
          0.06510700987045681,
          0.5239553353008185,
          0.019203296036346764,
          -0.4421735345591453,
          0.14516936021065513,
          1.0355126831038233,
          -0.023036701246943896,
          1.0388811679514585,
          -0.20672847201013142,
          0.1716283164432814,
          -1.9380850409091082,
          -0.5851204532923052,
          -1.9757006147510012,
          0.34022601382222384,
          0.5079218681199503,
          0.7631189321743553,
          0.96306713033488,
          -0.8121233094405356,
          -0.9882153281714651,
          -0.4845284460071705,
          -0.02570082243243427,
          -0.03400268620872826,
          0.5047792802117658,
          -2.279607145438385,
          -0.07385901857965435,
          -1.1771511696616481,
          -0.100857518160516,
          1.0189389924248553,
          -1.6986752286473015,
          -2.2268426553186775,
          -0.9201106764549231,
          -1.060674427588634,
          0.7607522685667668,
          0.1235188485203996,
          0.046532648289906525,
          -1.1751332884820118,
          -0.4914839965164748,
          -1.7497373291544116,
          -0.3786193081224398,
          -0.13885120042759355,
          -0.6706094005349879,
          -0.38208822846680607,
          1.1451940523399124,
          -1.5857540722581318,
          1.0235693577972806,
          -1.2530876758385363,
          0.07528977828068915,
          -0.4156784952599241,
          -0.29874608294387867,
          0.48755629016495683,
          0.23878761796209058,
          -0.20848531744749169,
          -0.0689143672965231,
          1.2984345736949008
         ]
        },
        {
         "histfunc": "count",
         "histnorm": "",
         "marker": {
          "color": "rgba(55, 128, 191, 1.0)",
          "line": {
           "color": "#4D5663",
           "width": 1.3
          }
         },
         "name": "B",
         "nbinsx": 25,
         "opacity": 0.8,
         "orientation": "v",
         "type": "histogram",
         "x": [
          -0.5898979642836217,
          -1.7035606150240423,
          0.41195268107418087,
          1.1748195587973018,
          -0.2874381187037066,
          0.5750172963551519,
          -0.6918057201108602,
          1.175390395429051,
          -0.6050538557649577,
          0.0019096459897705962,
          -0.9231136810089464,
          -0.39323459451035514,
          2.244083134591712,
          -0.2882505022052697,
          0.2781543452345917,
          0.7078101611604473,
          0.10649678961373046,
          0.16738271233384605,
          -0.2463839532113507,
          1.895360391608483,
          0.5421372027154331,
          -0.6229051777303326,
          -0.10911768413612674,
          1.4985291313289495,
          0.46005062638417077,
          -1.5223404637630722,
          -0.8075314184354632,
          0.45644429253156205,
          -2.7984474908916193,
          -1.041201734145715,
          0.3375797120780502,
          0.7627293350558662,
          -0.4582718115207457,
          0.3293598357702051,
          0.46510675786566447,
          -3.4360205185224273,
          -1.3947339927310538,
          -0.5221562099881435,
          0.11844118831730661,
          -1.4766140798725693,
          0.19975507683724641,
          -0.9339711813555169,
          0.4620682372737366,
          -2.133616090565549,
          0.3832310677836281,
          0.7267988798691072,
          -0.7422830769123931,
          1.545527709647746,
          -0.7771822405729585,
          1.0400750382376254,
          -1.6855965797420718,
          -1.4495282515512824,
          -0.2038630140221456,
          0.5565767167842305,
          0.6853447643542557,
          -2.1016656826691626,
          0.7968165469168353,
          -1.9742291602109332,
          0.015884797000142253,
          -0.33292686237909414,
          -0.28126192873968675,
          -1.164288982256235,
          0.9531908259029911,
          -0.9663699340304098,
          -0.1407555700606715,
          -0.8902939391432672,
          -0.883753820359266,
          -0.7646362892146369,
          -0.13566886289315494,
          -0.6504629597466766,
          0.46657048242165916,
          0.7078080387334367,
          0.3506441991444549,
          1.3062316775097684,
          0.7666951256814395,
          -2.1761057499896372,
          1.0886646387882366,
          0.1398003837228066,
          1.1774220915886786,
          -1.5628528424355201,
          -0.02078033990114364,
          0.2881795839775908,
          -0.45384339986760425,
          0.8287228776149175,
          -0.47309173198761245,
          0.9618766946968291,
          2.086699961485107,
          -0.3923203335643365,
          -0.3489396871594183,
          0.38009544401220324,
          -1.5582853190566033,
          -2.316080376858616,
          -0.04888223868916067,
          1.4508778558136317,
          -1.0698703039694686,
          0.3906557706873268,
          -1.296791643711909,
          -1.0090503122907404,
          0.9509049308922853,
          -0.02878651143711458
         ]
        },
        {
         "histfunc": "count",
         "histnorm": "",
         "marker": {
          "color": "rgba(50, 171, 96, 1.0)",
          "line": {
           "color": "#4D5663",
           "width": 1.3
          }
         },
         "name": "C",
         "nbinsx": 25,
         "opacity": 0.8,
         "orientation": "v",
         "type": "histogram",
         "x": [
          0.3563595190481723,
          0.5378580625673637,
          0.6173298842049206,
          0.21033550597258313,
          0.44595295816020464,
          0.04734465427785705,
          0.29451514142542107,
          -0.9104362947239052,
          -0.07368373573215535,
          -0.49009579808053116,
          -0.7516560112746027,
          -0.5218355203683539,
          1.0572321458187806,
          -0.19125214921783798,
          -0.8841145793948796,
          -2.3351823124441653,
          0.15341418212355862,
          -0.08823652936084907,
          -0.007883833663842916,
          -0.23585000687120442,
          0.9031303932803689,
          -0.19828958817470044,
          -0.4566188095966283,
          -0.04207055140836586,
          0.2606122258073981,
          0.582451791438679,
          -0.5150976508274104,
          -1.7002930623164572,
          0.927234615632159,
          -0.33999207269869747,
          1.2865951541218563,
          1.2052286004215986,
          -0.034560345581458735,
          -0.1965009735122464,
          0.5788489442796333,
          1.086961676923334,
          1.0517377487472919,
          -0.7778358913150859,
          -0.014333865174890886,
          -1.308274320048806,
          -1.019456586799028,
          1.7877339835004995,
          -0.29094327359053807,
          0.6471806866229206,
          -0.3917125919254808,
          -0.27322823899618803,
          1.094360822140504,
          0.9843093557171149,
          0.18072487387927072,
          0.7345787459591877,
          1.2031898005141421,
          0.6275078194912926,
          -0.3838280425665974,
          -0.11864517969486123,
          -1.0481010822032037,
          -0.13614210035050264,
          0.37261715026318526,
          0.2754932744602963,
          1.2566765340484616,
          -2.327316910825752,
          -0.0337140788528213,
          1.083572109682462,
          0.4020341114343595,
          -0.4476381375854337,
          -0.5479889019832572,
          -1.1601106017360991,
          0.9268847350783452,
          1.3062521338048927,
          2.3696307070086213,
          1.2939936462791204,
          -1.3474579967385054,
          0.7560208066533932,
          0.340328573525602,
          -0.3037446854112319,
          0.14992534941418062,
          0.6981484777917132,
          -1.600137624225199,
          -0.33559716548704815,
          -1.020606706556866,
          1.6218541220366733,
          0.5249322439679205,
          1.2645200714561968,
          -0.5997953207598887,
          -0.8667687617263371,
          0.34602584543690884,
          -0.1154494792571628,
          1.2234381967219794,
          0.4141928086174913,
          -0.49233108234498496,
          -0.34025603284701117,
          0.4300105000890438,
          1.2458895710075948,
          -0.14245016207378774,
          -0.30065296961149235,
          -0.7830309295774042,
          -0.4031855979781393,
          -0.4867573638752105,
          -0.9515469823851814,
          -0.14694131466044105,
          -1.3708606419981288
         ]
        },
        {
         "histfunc": "count",
         "histnorm": "",
         "marker": {
          "color": "rgba(128, 0, 128, 1.0)",
          "line": {
           "color": "#4D5663",
           "width": 1.3
          }
         },
         "name": "D",
         "nbinsx": 25,
         "opacity": 0.8,
         "orientation": "v",
         "type": "histogram",
         "x": [
          -0.6815278090096228,
          0.6836545158540465,
          1.1605213141149195,
          -0.133052458115378,
          -2.979500348480578,
          -0.17772982983823818,
          0.33662075084103943,
          0.8237252349356241,
          1.2155185449253194,
          -0.07648790492327208,
          0.17557566222118365,
          1.4172786923625398,
          0.41023207422787317,
          0.4145840112629592,
          -0.953117960299787,
          1.3902345027918306,
          1.3114591275083565,
          0.37103721204853013,
          1.628584056249766,
          -0.4673707338263525,
          -1.1063509644652172,
          -1.2155338781292224,
          -1.2364022292687875,
          -1.6046087199475132,
          -0.42975066485651914,
          -0.6459359742825395,
          -0.011123596704090351,
          -0.6090853660218682,
          -0.34495894566061597,
          -1.3289599971268262,
          0.7160617352260024,
          -0.37536288095791126,
          -0.6598275895874195,
          -0.9102383622568297,
          -0.3907467067769348,
          2.2817547532041442,
          -0.6931662646971632,
          1.1980966518067875,
          -0.02004411852091231,
          -0.5752395136091221,
          1.2339878709992507,
          -0.2910186234388754,
          1.7759472267876908,
          -0.5431273262618557,
          0.05313825638943675,
          0.2529395777393483,
          0.6079683298852785,
          -0.30212749638410447,
          0.5929116743683776,
          0.6769126419051446,
          2.642585156974257,
          -0.7494424202356387,
          -0.28006733520712335,
          0.5042486184901078,
          0.47419946719610684,
          1.6040680901475013,
          0.973932341470313,
          -0.44950804122739146,
          0.007291868666570613,
          1.0692110221647848,
          -0.7914495847751928,
          -1.5324654850731874,
          -0.5050034502786495,
          -0.7957449591032016,
          0.7211054593963526,
          1.6239848914863952,
          -1.1889529552975984,
          -1.80725971645796,
          -0.1567435717692518,
          1.8863153428561543,
          -0.32596644920844425,
          -1.9491709247132945,
          -0.9943818222384481,
          1.3002735299490298,
          -0.2707542788536193,
          -1.6214993010961989,
          0.07197454848896413,
          0.7028756859541337,
          -1.3855443155607186,
          -0.9359776704337875,
          0.979856625282574,
          0.07954809091402387,
          0.3659749882479351,
          -1.167821128119484,
          -1.7564234558593752,
          -0.7426087044916253,
          0.7794977072509554,
          -0.19306460574406453,
          0.18558965551803455,
          2.579384339758135,
          -0.10036507426068357,
          2.0156085373107837,
          0.8077953402897897,
          0.05250687146482705,
          -1.097473699324034,
          -0.7407063456432476,
          0.7742610571080611,
          -1.087755049692921,
          -1.4286581098621647,
          -0.33755508978657744
         ]
        }
       ],
       "layout": {
        "barmode": "overlay",
        "legend": {
         "bgcolor": "#F5F6F9",
         "font": {
          "color": "#4D5663"
         }
        },
        "paper_bgcolor": "#F5F6F9",
        "plot_bgcolor": "#F5F6F9",
        "template": {
         "data": {
          "bar": [
           {
            "error_x": {
             "color": "#2a3f5f"
            },
            "error_y": {
             "color": "#2a3f5f"
            },
            "marker": {
             "line": {
              "color": "#E5ECF6",
              "width": 0.5
             }
            },
            "type": "bar"
           }
          ],
          "barpolar": [
           {
            "marker": {
             "line": {
              "color": "#E5ECF6",
              "width": 0.5
             }
            },
            "type": "barpolar"
           }
          ],
          "carpet": [
           {
            "aaxis": {
             "endlinecolor": "#2a3f5f",
             "gridcolor": "white",
             "linecolor": "white",
             "minorgridcolor": "white",
             "startlinecolor": "#2a3f5f"
            },
            "baxis": {
             "endlinecolor": "#2a3f5f",
             "gridcolor": "white",
             "linecolor": "white",
             "minorgridcolor": "white",
             "startlinecolor": "#2a3f5f"
            },
            "type": "carpet"
           }
          ],
          "choropleth": [
           {
            "colorbar": {
             "outlinewidth": 0,
             "ticks": ""
            },
            "type": "choropleth"
           }
          ],
          "contour": [
           {
            "colorbar": {
             "outlinewidth": 0,
             "ticks": ""
            },
            "colorscale": [
             [
              0,
              "#0d0887"
             ],
             [
              0.1111111111111111,
              "#46039f"
             ],
             [
              0.2222222222222222,
              "#7201a8"
             ],
             [
              0.3333333333333333,
              "#9c179e"
             ],
             [
              0.4444444444444444,
              "#bd3786"
             ],
             [
              0.5555555555555556,
              "#d8576b"
             ],
             [
              0.6666666666666666,
              "#ed7953"
             ],
             [
              0.7777777777777778,
              "#fb9f3a"
             ],
             [
              0.8888888888888888,
              "#fdca26"
             ],
             [
              1,
              "#f0f921"
             ]
            ],
            "type": "contour"
           }
          ],
          "contourcarpet": [
           {
            "colorbar": {
             "outlinewidth": 0,
             "ticks": ""
            },
            "type": "contourcarpet"
           }
          ],
          "heatmap": [
           {
            "colorbar": {
             "outlinewidth": 0,
             "ticks": ""
            },
            "colorscale": [
             [
              0,
              "#0d0887"
             ],
             [
              0.1111111111111111,
              "#46039f"
             ],
             [
              0.2222222222222222,
              "#7201a8"
             ],
             [
              0.3333333333333333,
              "#9c179e"
             ],
             [
              0.4444444444444444,
              "#bd3786"
             ],
             [
              0.5555555555555556,
              "#d8576b"
             ],
             [
              0.6666666666666666,
              "#ed7953"
             ],
             [
              0.7777777777777778,
              "#fb9f3a"
             ],
             [
              0.8888888888888888,
              "#fdca26"
             ],
             [
              1,
              "#f0f921"
             ]
            ],
            "type": "heatmap"
           }
          ],
          "heatmapgl": [
           {
            "colorbar": {
             "outlinewidth": 0,
             "ticks": ""
            },
            "colorscale": [
             [
              0,
              "#0d0887"
             ],
             [
              0.1111111111111111,
              "#46039f"
             ],
             [
              0.2222222222222222,
              "#7201a8"
             ],
             [
              0.3333333333333333,
              "#9c179e"
             ],
             [
              0.4444444444444444,
              "#bd3786"
             ],
             [
              0.5555555555555556,
              "#d8576b"
             ],
             [
              0.6666666666666666,
              "#ed7953"
             ],
             [
              0.7777777777777778,
              "#fb9f3a"
             ],
             [
              0.8888888888888888,
              "#fdca26"
             ],
             [
              1,
              "#f0f921"
             ]
            ],
            "type": "heatmapgl"
           }
          ],
          "histogram": [
           {
            "marker": {
             "colorbar": {
              "outlinewidth": 0,
              "ticks": ""
             }
            },
            "type": "histogram"
           }
          ],
          "histogram2d": [
           {
            "colorbar": {
             "outlinewidth": 0,
             "ticks": ""
            },
            "colorscale": [
             [
              0,
              "#0d0887"
             ],
             [
              0.1111111111111111,
              "#46039f"
             ],
             [
              0.2222222222222222,
              "#7201a8"
             ],
             [
              0.3333333333333333,
              "#9c179e"
             ],
             [
              0.4444444444444444,
              "#bd3786"
             ],
             [
              0.5555555555555556,
              "#d8576b"
             ],
             [
              0.6666666666666666,
              "#ed7953"
             ],
             [
              0.7777777777777778,
              "#fb9f3a"
             ],
             [
              0.8888888888888888,
              "#fdca26"
             ],
             [
              1,
              "#f0f921"
             ]
            ],
            "type": "histogram2d"
           }
          ],
          "histogram2dcontour": [
           {
            "colorbar": {
             "outlinewidth": 0,
             "ticks": ""
            },
            "colorscale": [
             [
              0,
              "#0d0887"
             ],
             [
              0.1111111111111111,
              "#46039f"
             ],
             [
              0.2222222222222222,
              "#7201a8"
             ],
             [
              0.3333333333333333,
              "#9c179e"
             ],
             [
              0.4444444444444444,
              "#bd3786"
             ],
             [
              0.5555555555555556,
              "#d8576b"
             ],
             [
              0.6666666666666666,
              "#ed7953"
             ],
             [
              0.7777777777777778,
              "#fb9f3a"
             ],
             [
              0.8888888888888888,
              "#fdca26"
             ],
             [
              1,
              "#f0f921"
             ]
            ],
            "type": "histogram2dcontour"
           }
          ],
          "mesh3d": [
           {
            "colorbar": {
             "outlinewidth": 0,
             "ticks": ""
            },
            "type": "mesh3d"
           }
          ],
          "parcoords": [
           {
            "line": {
             "colorbar": {
              "outlinewidth": 0,
              "ticks": ""
             }
            },
            "type": "parcoords"
           }
          ],
          "pie": [
           {
            "automargin": true,
            "type": "pie"
           }
          ],
          "scatter": [
           {
            "marker": {
             "colorbar": {
              "outlinewidth": 0,
              "ticks": ""
             }
            },
            "type": "scatter"
           }
          ],
          "scatter3d": [
           {
            "line": {
             "colorbar": {
              "outlinewidth": 0,
              "ticks": ""
             }
            },
            "marker": {
             "colorbar": {
              "outlinewidth": 0,
              "ticks": ""
             }
            },
            "type": "scatter3d"
           }
          ],
          "scattercarpet": [
           {
            "marker": {
             "colorbar": {
              "outlinewidth": 0,
              "ticks": ""
             }
            },
            "type": "scattercarpet"
           }
          ],
          "scattergeo": [
           {
            "marker": {
             "colorbar": {
              "outlinewidth": 0,
              "ticks": ""
             }
            },
            "type": "scattergeo"
           }
          ],
          "scattergl": [
           {
            "marker": {
             "colorbar": {
              "outlinewidth": 0,
              "ticks": ""
             }
            },
            "type": "scattergl"
           }
          ],
          "scattermapbox": [
           {
            "marker": {
             "colorbar": {
              "outlinewidth": 0,
              "ticks": ""
             }
            },
            "type": "scattermapbox"
           }
          ],
          "scatterpolar": [
           {
            "marker": {
             "colorbar": {
              "outlinewidth": 0,
              "ticks": ""
             }
            },
            "type": "scatterpolar"
           }
          ],
          "scatterpolargl": [
           {
            "marker": {
             "colorbar": {
              "outlinewidth": 0,
              "ticks": ""
             }
            },
            "type": "scatterpolargl"
           }
          ],
          "scatterternary": [
           {
            "marker": {
             "colorbar": {
              "outlinewidth": 0,
              "ticks": ""
             }
            },
            "type": "scatterternary"
           }
          ],
          "surface": [
           {
            "colorbar": {
             "outlinewidth": 0,
             "ticks": ""
            },
            "colorscale": [
             [
              0,
              "#0d0887"
             ],
             [
              0.1111111111111111,
              "#46039f"
             ],
             [
              0.2222222222222222,
              "#7201a8"
             ],
             [
              0.3333333333333333,
              "#9c179e"
             ],
             [
              0.4444444444444444,
              "#bd3786"
             ],
             [
              0.5555555555555556,
              "#d8576b"
             ],
             [
              0.6666666666666666,
              "#ed7953"
             ],
             [
              0.7777777777777778,
              "#fb9f3a"
             ],
             [
              0.8888888888888888,
              "#fdca26"
             ],
             [
              1,
              "#f0f921"
             ]
            ],
            "type": "surface"
           }
          ],
          "table": [
           {
            "cells": {
             "fill": {
              "color": "#EBF0F8"
             },
             "line": {
              "color": "white"
             }
            },
            "header": {
             "fill": {
              "color": "#C8D4E3"
             },
             "line": {
              "color": "white"
             }
            },
            "type": "table"
           }
          ]
         },
         "layout": {
          "annotationdefaults": {
           "arrowcolor": "#2a3f5f",
           "arrowhead": 0,
           "arrowwidth": 1
          },
          "coloraxis": {
           "colorbar": {
            "outlinewidth": 0,
            "ticks": ""
           }
          },
          "colorscale": {
           "diverging": [
            [
             0,
             "#8e0152"
            ],
            [
             0.1,
             "#c51b7d"
            ],
            [
             0.2,
             "#de77ae"
            ],
            [
             0.3,
             "#f1b6da"
            ],
            [
             0.4,
             "#fde0ef"
            ],
            [
             0.5,
             "#f7f7f7"
            ],
            [
             0.6,
             "#e6f5d0"
            ],
            [
             0.7,
             "#b8e186"
            ],
            [
             0.8,
             "#7fbc41"
            ],
            [
             0.9,
             "#4d9221"
            ],
            [
             1,
             "#276419"
            ]
           ],
           "sequential": [
            [
             0,
             "#0d0887"
            ],
            [
             0.1111111111111111,
             "#46039f"
            ],
            [
             0.2222222222222222,
             "#7201a8"
            ],
            [
             0.3333333333333333,
             "#9c179e"
            ],
            [
             0.4444444444444444,
             "#bd3786"
            ],
            [
             0.5555555555555556,
             "#d8576b"
            ],
            [
             0.6666666666666666,
             "#ed7953"
            ],
            [
             0.7777777777777778,
             "#fb9f3a"
            ],
            [
             0.8888888888888888,
             "#fdca26"
            ],
            [
             1,
             "#f0f921"
            ]
           ],
           "sequentialminus": [
            [
             0,
             "#0d0887"
            ],
            [
             0.1111111111111111,
             "#46039f"
            ],
            [
             0.2222222222222222,
             "#7201a8"
            ],
            [
             0.3333333333333333,
             "#9c179e"
            ],
            [
             0.4444444444444444,
             "#bd3786"
            ],
            [
             0.5555555555555556,
             "#d8576b"
            ],
            [
             0.6666666666666666,
             "#ed7953"
            ],
            [
             0.7777777777777778,
             "#fb9f3a"
            ],
            [
             0.8888888888888888,
             "#fdca26"
            ],
            [
             1,
             "#f0f921"
            ]
           ]
          },
          "colorway": [
           "#636efa",
           "#EF553B",
           "#00cc96",
           "#ab63fa",
           "#FFA15A",
           "#19d3f3",
           "#FF6692",
           "#B6E880",
           "#FF97FF",
           "#FECB52"
          ],
          "font": {
           "color": "#2a3f5f"
          },
          "geo": {
           "bgcolor": "white",
           "lakecolor": "white",
           "landcolor": "#E5ECF6",
           "showlakes": true,
           "showland": true,
           "subunitcolor": "white"
          },
          "hoverlabel": {
           "align": "left"
          },
          "hovermode": "closest",
          "mapbox": {
           "style": "light"
          },
          "paper_bgcolor": "white",
          "plot_bgcolor": "#E5ECF6",
          "polar": {
           "angularaxis": {
            "gridcolor": "white",
            "linecolor": "white",
            "ticks": ""
           },
           "bgcolor": "#E5ECF6",
           "radialaxis": {
            "gridcolor": "white",
            "linecolor": "white",
            "ticks": ""
           }
          },
          "scene": {
           "xaxis": {
            "backgroundcolor": "#E5ECF6",
            "gridcolor": "white",
            "gridwidth": 2,
            "linecolor": "white",
            "showbackground": true,
            "ticks": "",
            "zerolinecolor": "white"
           },
           "yaxis": {
            "backgroundcolor": "#E5ECF6",
            "gridcolor": "white",
            "gridwidth": 2,
            "linecolor": "white",
            "showbackground": true,
            "ticks": "",
            "zerolinecolor": "white"
           },
           "zaxis": {
            "backgroundcolor": "#E5ECF6",
            "gridcolor": "white",
            "gridwidth": 2,
            "linecolor": "white",
            "showbackground": true,
            "ticks": "",
            "zerolinecolor": "white"
           }
          },
          "shapedefaults": {
           "line": {
            "color": "#2a3f5f"
           }
          },
          "ternary": {
           "aaxis": {
            "gridcolor": "white",
            "linecolor": "white",
            "ticks": ""
           },
           "baxis": {
            "gridcolor": "white",
            "linecolor": "white",
            "ticks": ""
           },
           "bgcolor": "#E5ECF6",
           "caxis": {
            "gridcolor": "white",
            "linecolor": "white",
            "ticks": ""
           }
          },
          "title": {
           "x": 0.05
          },
          "xaxis": {
           "automargin": true,
           "gridcolor": "white",
           "linecolor": "white",
           "ticks": "",
           "title": {
            "standoff": 15
           },
           "zerolinecolor": "white",
           "zerolinewidth": 2
          },
          "yaxis": {
           "automargin": true,
           "gridcolor": "white",
           "linecolor": "white",
           "ticks": "",
           "title": {
            "standoff": 15
           },
           "zerolinecolor": "white",
           "zerolinewidth": 2
          }
         }
        },
        "title": {
         "font": {
          "color": "#4D5663"
         }
        },
        "xaxis": {
         "gridcolor": "#E1E5ED",
         "showgrid": true,
         "tickfont": {
          "color": "#4D5663"
         },
         "title": {
          "font": {
           "color": "#4D5663"
          },
          "text": ""
         },
         "zerolinecolor": "#E1E5ED"
        },
        "yaxis": {
         "gridcolor": "#E1E5ED",
         "showgrid": true,
         "tickfont": {
          "color": "#4D5663"
         },
         "title": {
          "font": {
           "color": "#4D5663"
          },
          "text": ""
         },
         "zerolinecolor": "#E1E5ED"
        }
       }
      },
      "text/html": [
       "<div>\n",
       "        \n",
       "        \n",
       "            <div id=\"4ad06cf5-7adf-43ec-9824-c36f773ed192\" class=\"plotly-graph-div\" style=\"height:525px; width:100%;\"></div>\n",
       "            <script type=\"text/javascript\">\n",
       "                require([\"plotly\"], function(Plotly) {\n",
       "                    window.PLOTLYENV=window.PLOTLYENV || {};\n",
       "                    window.PLOTLYENV.BASE_URL='https://plot.ly';\n",
       "                    \n",
       "                if (document.getElementById(\"4ad06cf5-7adf-43ec-9824-c36f773ed192\")) {\n",
       "                    Plotly.newPlot(\n",
       "                        '4ad06cf5-7adf-43ec-9824-c36f773ed192',\n",
       "                        [{\"histfunc\": \"count\", \"histnorm\": \"\", \"marker\": {\"color\": \"rgba(255, 153, 51, 1.0)\", \"line\": {\"color\": \"#4D5663\", \"width\": 1.3}}, \"name\": \"A\", \"nbinsx\": 25, \"opacity\": 0.8, \"orientation\": \"v\", \"type\": \"histogram\", \"x\": [-1.1833147841107685, -1.7500193061567437, 1.131725711797192, -0.4149990629871035, -0.5546323136266743, 0.30716715349814916, 0.9307409446318613, 1.1827126886991306, -0.36277765018746844, -1.1575863885269426, -0.8378908404057034, -0.3912685021276453, -1.3589334660637948, -0.9289435721940565, -0.7124449800398088, -1.6065487619933794, 2.332208250292037, 0.8026240180457727, -0.3270519336517877, -0.23711569943831692, -1.1574596670571589, 0.6356964428430179, -1.1519757857088226, -3.8820799601324034, 0.7723161251731423, 2.065264810943613, 0.02000222388239315, 0.3991394917296089, 0.945535911129008, -1.204940020191649, 0.2502984273434721, 0.4384717934478959, -0.3157678412237403, 0.6107843478312683, 1.4209487036819728, 0.8379028557999306, 1.402820371959644, -0.7644680156984743, 3.3499358837402666, -0.2794976581737439, 0.7120731738683018, 0.46511545582490277, 0.2695328720433325, 1.6056065472068564, -0.5389598099942599, 1.5665773988947163, 0.06510700987045681, 0.5239553353008185, 0.019203296036346764, -0.4421735345591453, 0.14516936021065513, 1.0355126831038233, -0.023036701246943896, 1.0388811679514585, -0.20672847201013142, 0.1716283164432814, -1.9380850409091082, -0.5851204532923052, -1.9757006147510012, 0.34022601382222384, 0.5079218681199503, 0.7631189321743553, 0.96306713033488, -0.8121233094405356, -0.9882153281714651, -0.4845284460071705, -0.02570082243243427, -0.03400268620872826, 0.5047792802117658, -2.279607145438385, -0.07385901857965435, -1.1771511696616481, -0.100857518160516, 1.0189389924248553, -1.6986752286473015, -2.2268426553186775, -0.9201106764549231, -1.060674427588634, 0.7607522685667668, 0.1235188485203996, 0.046532648289906525, -1.1751332884820118, -0.4914839965164748, -1.7497373291544116, -0.3786193081224398, -0.13885120042759355, -0.6706094005349879, -0.38208822846680607, 1.1451940523399124, -1.5857540722581318, 1.0235693577972806, -1.2530876758385363, 0.07528977828068915, -0.4156784952599241, -0.29874608294387867, 0.48755629016495683, 0.23878761796209058, -0.20848531744749169, -0.0689143672965231, 1.2984345736949008]}, {\"histfunc\": \"count\", \"histnorm\": \"\", \"marker\": {\"color\": \"rgba(55, 128, 191, 1.0)\", \"line\": {\"color\": \"#4D5663\", \"width\": 1.3}}, \"name\": \"B\", \"nbinsx\": 25, \"opacity\": 0.8, \"orientation\": \"v\", \"type\": \"histogram\", \"x\": [-0.5898979642836217, -1.7035606150240423, 0.41195268107418087, 1.1748195587973018, -0.2874381187037066, 0.5750172963551519, -0.6918057201108602, 1.175390395429051, -0.6050538557649577, 0.0019096459897705962, -0.9231136810089464, -0.39323459451035514, 2.244083134591712, -0.2882505022052697, 0.2781543452345917, 0.7078101611604473, 0.10649678961373046, 0.16738271233384605, -0.2463839532113507, 1.895360391608483, 0.5421372027154331, -0.6229051777303326, -0.10911768413612674, 1.4985291313289495, 0.46005062638417077, -1.5223404637630722, -0.8075314184354632, 0.45644429253156205, -2.7984474908916193, -1.041201734145715, 0.3375797120780502, 0.7627293350558662, -0.4582718115207457, 0.3293598357702051, 0.46510675786566447, -3.4360205185224273, -1.3947339927310538, -0.5221562099881435, 0.11844118831730661, -1.4766140798725693, 0.19975507683724641, -0.9339711813555169, 0.4620682372737366, -2.133616090565549, 0.3832310677836281, 0.7267988798691072, -0.7422830769123931, 1.545527709647746, -0.7771822405729585, 1.0400750382376254, -1.6855965797420718, -1.4495282515512824, -0.2038630140221456, 0.5565767167842305, 0.6853447643542557, -2.1016656826691626, 0.7968165469168353, -1.9742291602109332, 0.015884797000142253, -0.33292686237909414, -0.28126192873968675, -1.164288982256235, 0.9531908259029911, -0.9663699340304098, -0.1407555700606715, -0.8902939391432672, -0.883753820359266, -0.7646362892146369, -0.13566886289315494, -0.6504629597466766, 0.46657048242165916, 0.7078080387334367, 0.3506441991444549, 1.3062316775097684, 0.7666951256814395, -2.1761057499896372, 1.0886646387882366, 0.1398003837228066, 1.1774220915886786, -1.5628528424355201, -0.02078033990114364, 0.2881795839775908, -0.45384339986760425, 0.8287228776149175, -0.47309173198761245, 0.9618766946968291, 2.086699961485107, -0.3923203335643365, -0.3489396871594183, 0.38009544401220324, -1.5582853190566033, -2.316080376858616, -0.04888223868916067, 1.4508778558136317, -1.0698703039694686, 0.3906557706873268, -1.296791643711909, -1.0090503122907404, 0.9509049308922853, -0.02878651143711458]}, {\"histfunc\": \"count\", \"histnorm\": \"\", \"marker\": {\"color\": \"rgba(50, 171, 96, 1.0)\", \"line\": {\"color\": \"#4D5663\", \"width\": 1.3}}, \"name\": \"C\", \"nbinsx\": 25, \"opacity\": 0.8, \"orientation\": \"v\", \"type\": \"histogram\", \"x\": [0.3563595190481723, 0.5378580625673637, 0.6173298842049206, 0.21033550597258313, 0.44595295816020464, 0.04734465427785705, 0.29451514142542107, -0.9104362947239052, -0.07368373573215535, -0.49009579808053116, -0.7516560112746027, -0.5218355203683539, 1.0572321458187806, -0.19125214921783798, -0.8841145793948796, -2.3351823124441653, 0.15341418212355862, -0.08823652936084907, -0.007883833663842916, -0.23585000687120442, 0.9031303932803689, -0.19828958817470044, -0.4566188095966283, -0.04207055140836586, 0.2606122258073981, 0.582451791438679, -0.5150976508274104, -1.7002930623164572, 0.927234615632159, -0.33999207269869747, 1.2865951541218563, 1.2052286004215986, -0.034560345581458735, -0.1965009735122464, 0.5788489442796333, 1.086961676923334, 1.0517377487472919, -0.7778358913150859, -0.014333865174890886, -1.308274320048806, -1.019456586799028, 1.7877339835004995, -0.29094327359053807, 0.6471806866229206, -0.3917125919254808, -0.27322823899618803, 1.094360822140504, 0.9843093557171149, 0.18072487387927072, 0.7345787459591877, 1.2031898005141421, 0.6275078194912926, -0.3838280425665974, -0.11864517969486123, -1.0481010822032037, -0.13614210035050264, 0.37261715026318526, 0.2754932744602963, 1.2566765340484616, -2.327316910825752, -0.0337140788528213, 1.083572109682462, 0.4020341114343595, -0.4476381375854337, -0.5479889019832572, -1.1601106017360991, 0.9268847350783452, 1.3062521338048927, 2.3696307070086213, 1.2939936462791204, -1.3474579967385054, 0.7560208066533932, 0.340328573525602, -0.3037446854112319, 0.14992534941418062, 0.6981484777917132, -1.600137624225199, -0.33559716548704815, -1.020606706556866, 1.6218541220366733, 0.5249322439679205, 1.2645200714561968, -0.5997953207598887, -0.8667687617263371, 0.34602584543690884, -0.1154494792571628, 1.2234381967219794, 0.4141928086174913, -0.49233108234498496, -0.34025603284701117, 0.4300105000890438, 1.2458895710075948, -0.14245016207378774, -0.30065296961149235, -0.7830309295774042, -0.4031855979781393, -0.4867573638752105, -0.9515469823851814, -0.14694131466044105, -1.3708606419981288]}, {\"histfunc\": \"count\", \"histnorm\": \"\", \"marker\": {\"color\": \"rgba(128, 0, 128, 1.0)\", \"line\": {\"color\": \"#4D5663\", \"width\": 1.3}}, \"name\": \"D\", \"nbinsx\": 25, \"opacity\": 0.8, \"orientation\": \"v\", \"type\": \"histogram\", \"x\": [-0.6815278090096228, 0.6836545158540465, 1.1605213141149195, -0.133052458115378, -2.979500348480578, -0.17772982983823818, 0.33662075084103943, 0.8237252349356241, 1.2155185449253194, -0.07648790492327208, 0.17557566222118365, 1.4172786923625398, 0.41023207422787317, 0.4145840112629592, -0.953117960299787, 1.3902345027918306, 1.3114591275083565, 0.37103721204853013, 1.628584056249766, -0.4673707338263525, -1.1063509644652172, -1.2155338781292224, -1.2364022292687875, -1.6046087199475132, -0.42975066485651914, -0.6459359742825395, -0.011123596704090351, -0.6090853660218682, -0.34495894566061597, -1.3289599971268262, 0.7160617352260024, -0.37536288095791126, -0.6598275895874195, -0.9102383622568297, -0.3907467067769348, 2.2817547532041442, -0.6931662646971632, 1.1980966518067875, -0.02004411852091231, -0.5752395136091221, 1.2339878709992507, -0.2910186234388754, 1.7759472267876908, -0.5431273262618557, 0.05313825638943675, 0.2529395777393483, 0.6079683298852785, -0.30212749638410447, 0.5929116743683776, 0.6769126419051446, 2.642585156974257, -0.7494424202356387, -0.28006733520712335, 0.5042486184901078, 0.47419946719610684, 1.6040680901475013, 0.973932341470313, -0.44950804122739146, 0.007291868666570613, 1.0692110221647848, -0.7914495847751928, -1.5324654850731874, -0.5050034502786495, -0.7957449591032016, 0.7211054593963526, 1.6239848914863952, -1.1889529552975984, -1.80725971645796, -0.1567435717692518, 1.8863153428561543, -0.32596644920844425, -1.9491709247132945, -0.9943818222384481, 1.3002735299490298, -0.2707542788536193, -1.6214993010961989, 0.07197454848896413, 0.7028756859541337, -1.3855443155607186, -0.9359776704337875, 0.979856625282574, 0.07954809091402387, 0.3659749882479351, -1.167821128119484, -1.7564234558593752, -0.7426087044916253, 0.7794977072509554, -0.19306460574406453, 0.18558965551803455, 2.579384339758135, -0.10036507426068357, 2.0156085373107837, 0.8077953402897897, 0.05250687146482705, -1.097473699324034, -0.7407063456432476, 0.7742610571080611, -1.087755049692921, -1.4286581098621647, -0.33755508978657744]}],\n",
       "                        {\"barmode\": \"overlay\", \"legend\": {\"bgcolor\": \"#F5F6F9\", \"font\": {\"color\": \"#4D5663\"}}, \"paper_bgcolor\": \"#F5F6F9\", \"plot_bgcolor\": \"#F5F6F9\", \"template\": {\"data\": {\"bar\": [{\"error_x\": {\"color\": \"#2a3f5f\"}, \"error_y\": {\"color\": \"#2a3f5f\"}, \"marker\": {\"line\": {\"color\": \"#E5ECF6\", \"width\": 0.5}}, \"type\": \"bar\"}], \"barpolar\": [{\"marker\": {\"line\": {\"color\": \"#E5ECF6\", \"width\": 0.5}}, \"type\": \"barpolar\"}], \"carpet\": [{\"aaxis\": {\"endlinecolor\": \"#2a3f5f\", \"gridcolor\": \"white\", \"linecolor\": \"white\", \"minorgridcolor\": \"white\", \"startlinecolor\": \"#2a3f5f\"}, \"baxis\": {\"endlinecolor\": \"#2a3f5f\", \"gridcolor\": \"white\", \"linecolor\": \"white\", \"minorgridcolor\": \"white\", \"startlinecolor\": \"#2a3f5f\"}, \"type\": \"carpet\"}], \"choropleth\": [{\"colorbar\": {\"outlinewidth\": 0, \"ticks\": \"\"}, \"type\": \"choropleth\"}], \"contour\": [{\"colorbar\": {\"outlinewidth\": 0, \"ticks\": \"\"}, \"colorscale\": [[0.0, \"#0d0887\"], [0.1111111111111111, \"#46039f\"], [0.2222222222222222, \"#7201a8\"], [0.3333333333333333, \"#9c179e\"], [0.4444444444444444, \"#bd3786\"], [0.5555555555555556, \"#d8576b\"], [0.6666666666666666, \"#ed7953\"], [0.7777777777777778, \"#fb9f3a\"], [0.8888888888888888, \"#fdca26\"], [1.0, \"#f0f921\"]], \"type\": \"contour\"}], \"contourcarpet\": [{\"colorbar\": {\"outlinewidth\": 0, \"ticks\": \"\"}, \"type\": \"contourcarpet\"}], \"heatmap\": [{\"colorbar\": {\"outlinewidth\": 0, \"ticks\": \"\"}, \"colorscale\": [[0.0, \"#0d0887\"], [0.1111111111111111, \"#46039f\"], [0.2222222222222222, \"#7201a8\"], [0.3333333333333333, \"#9c179e\"], [0.4444444444444444, \"#bd3786\"], [0.5555555555555556, \"#d8576b\"], [0.6666666666666666, \"#ed7953\"], [0.7777777777777778, \"#fb9f3a\"], [0.8888888888888888, \"#fdca26\"], [1.0, \"#f0f921\"]], \"type\": \"heatmap\"}], \"heatmapgl\": [{\"colorbar\": {\"outlinewidth\": 0, \"ticks\": \"\"}, \"colorscale\": [[0.0, \"#0d0887\"], [0.1111111111111111, \"#46039f\"], [0.2222222222222222, \"#7201a8\"], [0.3333333333333333, \"#9c179e\"], [0.4444444444444444, \"#bd3786\"], [0.5555555555555556, \"#d8576b\"], [0.6666666666666666, \"#ed7953\"], [0.7777777777777778, \"#fb9f3a\"], [0.8888888888888888, \"#fdca26\"], [1.0, \"#f0f921\"]], \"type\": \"heatmapgl\"}], \"histogram\": [{\"marker\": {\"colorbar\": {\"outlinewidth\": 0, \"ticks\": \"\"}}, \"type\": \"histogram\"}], \"histogram2d\": [{\"colorbar\": {\"outlinewidth\": 0, \"ticks\": \"\"}, \"colorscale\": [[0.0, \"#0d0887\"], [0.1111111111111111, \"#46039f\"], [0.2222222222222222, \"#7201a8\"], [0.3333333333333333, \"#9c179e\"], [0.4444444444444444, \"#bd3786\"], [0.5555555555555556, \"#d8576b\"], [0.6666666666666666, \"#ed7953\"], [0.7777777777777778, \"#fb9f3a\"], [0.8888888888888888, \"#fdca26\"], [1.0, \"#f0f921\"]], \"type\": \"histogram2d\"}], \"histogram2dcontour\": [{\"colorbar\": {\"outlinewidth\": 0, \"ticks\": \"\"}, \"colorscale\": [[0.0, \"#0d0887\"], [0.1111111111111111, \"#46039f\"], [0.2222222222222222, \"#7201a8\"], [0.3333333333333333, \"#9c179e\"], [0.4444444444444444, \"#bd3786\"], [0.5555555555555556, \"#d8576b\"], [0.6666666666666666, \"#ed7953\"], [0.7777777777777778, \"#fb9f3a\"], [0.8888888888888888, \"#fdca26\"], [1.0, \"#f0f921\"]], \"type\": \"histogram2dcontour\"}], \"mesh3d\": [{\"colorbar\": {\"outlinewidth\": 0, \"ticks\": \"\"}, \"type\": \"mesh3d\"}], \"parcoords\": [{\"line\": {\"colorbar\": {\"outlinewidth\": 0, \"ticks\": \"\"}}, \"type\": \"parcoords\"}], \"pie\": [{\"automargin\": true, \"type\": \"pie\"}], \"scatter\": [{\"marker\": {\"colorbar\": {\"outlinewidth\": 0, \"ticks\": \"\"}}, \"type\": \"scatter\"}], \"scatter3d\": [{\"line\": {\"colorbar\": {\"outlinewidth\": 0, \"ticks\": \"\"}}, \"marker\": {\"colorbar\": {\"outlinewidth\": 0, \"ticks\": \"\"}}, \"type\": \"scatter3d\"}], \"scattercarpet\": [{\"marker\": {\"colorbar\": {\"outlinewidth\": 0, \"ticks\": \"\"}}, \"type\": \"scattercarpet\"}], \"scattergeo\": [{\"marker\": {\"colorbar\": {\"outlinewidth\": 0, \"ticks\": \"\"}}, \"type\": \"scattergeo\"}], \"scattergl\": [{\"marker\": {\"colorbar\": {\"outlinewidth\": 0, \"ticks\": \"\"}}, \"type\": \"scattergl\"}], \"scattermapbox\": [{\"marker\": {\"colorbar\": {\"outlinewidth\": 0, \"ticks\": \"\"}}, \"type\": \"scattermapbox\"}], \"scatterpolar\": [{\"marker\": {\"colorbar\": {\"outlinewidth\": 0, \"ticks\": \"\"}}, \"type\": \"scatterpolar\"}], \"scatterpolargl\": [{\"marker\": {\"colorbar\": {\"outlinewidth\": 0, \"ticks\": \"\"}}, \"type\": \"scatterpolargl\"}], \"scatterternary\": [{\"marker\": {\"colorbar\": {\"outlinewidth\": 0, \"ticks\": \"\"}}, \"type\": \"scatterternary\"}], \"surface\": [{\"colorbar\": {\"outlinewidth\": 0, \"ticks\": \"\"}, \"colorscale\": [[0.0, \"#0d0887\"], [0.1111111111111111, \"#46039f\"], [0.2222222222222222, \"#7201a8\"], [0.3333333333333333, \"#9c179e\"], [0.4444444444444444, \"#bd3786\"], [0.5555555555555556, \"#d8576b\"], [0.6666666666666666, \"#ed7953\"], [0.7777777777777778, \"#fb9f3a\"], [0.8888888888888888, \"#fdca26\"], [1.0, \"#f0f921\"]], \"type\": \"surface\"}], \"table\": [{\"cells\": {\"fill\": {\"color\": \"#EBF0F8\"}, \"line\": {\"color\": \"white\"}}, \"header\": {\"fill\": {\"color\": \"#C8D4E3\"}, \"line\": {\"color\": \"white\"}}, \"type\": \"table\"}]}, \"layout\": {\"annotationdefaults\": {\"arrowcolor\": \"#2a3f5f\", \"arrowhead\": 0, \"arrowwidth\": 1}, \"coloraxis\": {\"colorbar\": {\"outlinewidth\": 0, \"ticks\": \"\"}}, \"colorscale\": {\"diverging\": [[0, \"#8e0152\"], [0.1, \"#c51b7d\"], [0.2, \"#de77ae\"], [0.3, \"#f1b6da\"], [0.4, \"#fde0ef\"], [0.5, \"#f7f7f7\"], [0.6, \"#e6f5d0\"], [0.7, \"#b8e186\"], [0.8, \"#7fbc41\"], [0.9, \"#4d9221\"], [1, \"#276419\"]], \"sequential\": [[0.0, \"#0d0887\"], [0.1111111111111111, \"#46039f\"], [0.2222222222222222, \"#7201a8\"], [0.3333333333333333, \"#9c179e\"], [0.4444444444444444, \"#bd3786\"], [0.5555555555555556, \"#d8576b\"], [0.6666666666666666, \"#ed7953\"], [0.7777777777777778, \"#fb9f3a\"], [0.8888888888888888, \"#fdca26\"], [1.0, \"#f0f921\"]], \"sequentialminus\": [[0.0, \"#0d0887\"], [0.1111111111111111, \"#46039f\"], [0.2222222222222222, \"#7201a8\"], [0.3333333333333333, \"#9c179e\"], [0.4444444444444444, \"#bd3786\"], [0.5555555555555556, \"#d8576b\"], [0.6666666666666666, \"#ed7953\"], [0.7777777777777778, \"#fb9f3a\"], [0.8888888888888888, \"#fdca26\"], [1.0, \"#f0f921\"]]}, \"colorway\": [\"#636efa\", \"#EF553B\", \"#00cc96\", \"#ab63fa\", \"#FFA15A\", \"#19d3f3\", \"#FF6692\", \"#B6E880\", \"#FF97FF\", \"#FECB52\"], \"font\": {\"color\": \"#2a3f5f\"}, \"geo\": {\"bgcolor\": \"white\", \"lakecolor\": \"white\", \"landcolor\": \"#E5ECF6\", \"showlakes\": true, \"showland\": true, \"subunitcolor\": \"white\"}, \"hoverlabel\": {\"align\": \"left\"}, \"hovermode\": \"closest\", \"mapbox\": {\"style\": \"light\"}, \"paper_bgcolor\": \"white\", \"plot_bgcolor\": \"#E5ECF6\", \"polar\": {\"angularaxis\": {\"gridcolor\": \"white\", \"linecolor\": \"white\", \"ticks\": \"\"}, \"bgcolor\": \"#E5ECF6\", \"radialaxis\": {\"gridcolor\": \"white\", \"linecolor\": \"white\", \"ticks\": \"\"}}, \"scene\": {\"xaxis\": {\"backgroundcolor\": \"#E5ECF6\", \"gridcolor\": \"white\", \"gridwidth\": 2, \"linecolor\": \"white\", \"showbackground\": true, \"ticks\": \"\", \"zerolinecolor\": \"white\"}, \"yaxis\": {\"backgroundcolor\": \"#E5ECF6\", \"gridcolor\": \"white\", \"gridwidth\": 2, \"linecolor\": \"white\", \"showbackground\": true, \"ticks\": \"\", \"zerolinecolor\": \"white\"}, \"zaxis\": {\"backgroundcolor\": \"#E5ECF6\", \"gridcolor\": \"white\", \"gridwidth\": 2, \"linecolor\": \"white\", \"showbackground\": true, \"ticks\": \"\", \"zerolinecolor\": \"white\"}}, \"shapedefaults\": {\"line\": {\"color\": \"#2a3f5f\"}}, \"ternary\": {\"aaxis\": {\"gridcolor\": \"white\", \"linecolor\": \"white\", \"ticks\": \"\"}, \"baxis\": {\"gridcolor\": \"white\", \"linecolor\": \"white\", \"ticks\": \"\"}, \"bgcolor\": \"#E5ECF6\", \"caxis\": {\"gridcolor\": \"white\", \"linecolor\": \"white\", \"ticks\": \"\"}}, \"title\": {\"x\": 0.05}, \"xaxis\": {\"automargin\": true, \"gridcolor\": \"white\", \"linecolor\": \"white\", \"ticks\": \"\", \"title\": {\"standoff\": 15}, \"zerolinecolor\": \"white\", \"zerolinewidth\": 2}, \"yaxis\": {\"automargin\": true, \"gridcolor\": \"white\", \"linecolor\": \"white\", \"ticks\": \"\", \"title\": {\"standoff\": 15}, \"zerolinecolor\": \"white\", \"zerolinewidth\": 2}}}, \"title\": {\"font\": {\"color\": \"#4D5663\"}}, \"xaxis\": {\"gridcolor\": \"#E1E5ED\", \"showgrid\": true, \"tickfont\": {\"color\": \"#4D5663\"}, \"title\": {\"font\": {\"color\": \"#4D5663\"}, \"text\": \"\"}, \"zerolinecolor\": \"#E1E5ED\"}, \"yaxis\": {\"gridcolor\": \"#E1E5ED\", \"showgrid\": true, \"tickfont\": {\"color\": \"#4D5663\"}, \"title\": {\"font\": {\"color\": \"#4D5663\"}, \"text\": \"\"}, \"zerolinecolor\": \"#E1E5ED\"}},\n",
       "                        {\"showLink\": true, \"linkText\": \"Export to plot.ly\", \"plotlyServerURL\": \"https://plot.ly\", \"responsive\": true}\n",
       "                    ).then(function(){\n",
       "                            \n",
       "var gd = document.getElementById('4ad06cf5-7adf-43ec-9824-c36f773ed192');\n",
       "var x = new MutationObserver(function (mutations, observer) {{\n",
       "        var display = window.getComputedStyle(gd).display;\n",
       "        if (!display || display === 'none') {{\n",
       "            console.log([gd, 'removed!']);\n",
       "            Plotly.purge(gd);\n",
       "            observer.disconnect();\n",
       "        }}\n",
       "}});\n",
       "\n",
       "// Listen for the removal of the full notebook cells\n",
       "var notebookContainer = gd.closest('#notebook-container');\n",
       "if (notebookContainer) {{\n",
       "    x.observe(notebookContainer, {childList: true});\n",
       "}}\n",
       "\n",
       "// Listen for the clearing of the current output cell\n",
       "var outputEl = gd.closest('.output');\n",
       "if (outputEl) {{\n",
       "    x.observe(outputEl, {childList: true});\n",
       "}}\n",
       "\n",
       "                        })\n",
       "                };\n",
       "                });\n",
       "            </script>\n",
       "        </div>"
      ]
     },
     "metadata": {},
     "output_type": "display_data"
    }
   ],
   "source": [
    "df.iplot(kind='hist',bins=25)"
   ]
  },
  {
   "cell_type": "code",
   "execution_count": 24,
   "metadata": {},
   "outputs": [
    {
     "data": {
      "application/vnd.plotly.v1+json": {
       "config": {
        "linkText": "Export to plot.ly",
        "plotlyServerURL": "https://plot.ly",
        "showLink": true
       },
       "data": [
        {
         "marker": {
          "color": [
           "rgb(255, 153, 51)",
           "rgb(55, 128, 191)",
           "rgb(50, 171, 96)",
           "rgb(128, 0, 128)",
           "rgb(219, 64, 82)",
           "rgb(0, 128, 128)",
           "rgb(255, 255, 51)",
           "rgb(128, 128, 0)",
           "rgb(251, 128, 114)",
           "rgb(128, 177, 211)"
          ],
          "line": {
           "width": 1.3
          },
          "size": [
           69,
           73,
           74,
           66,
           71,
           62,
           67,
           42,
           60,
           51,
           45,
           50,
           84,
           57,
           42,
           12,
           64,
           59,
           61,
           56,
           80,
           57,
           51,
           60,
           67,
           74,
           50,
           25,
           81,
           54,
           88,
           87,
           60,
           57,
           73,
           84,
           83,
           45,
           61,
           33,
           39,
           99,
           55,
           75,
           53,
           55,
           84,
           82,
           65,
           77,
           87,
           74,
           53,
           59,
           39,
           58,
           69,
           67,
           88,
           12,
           60,
           84,
           70,
           52,
           49,
           36,
           81,
           89,
           112,
           89,
           32,
           77,
           68,
           55,
           64,
           76,
           27,
           54,
           39,
           96,
           72,
           88,
           48,
           43,
           68,
           59,
           87,
           70,
           51,
           54,
           70,
           88,
           58,
           55,
           44,
           53,
           51,
           41,
           58,
           32
          ],
          "symbol": "circle"
         },
         "mode": "markers",
         "text": "",
         "type": "scatter",
         "x": [
          -1.1833147841107685,
          -1.7500193061567437,
          1.131725711797192,
          -0.4149990629871035,
          -0.5546323136266743,
          0.30716715349814916,
          0.9307409446318613,
          1.1827126886991306,
          -0.36277765018746844,
          -1.1575863885269426,
          -0.8378908404057034,
          -0.3912685021276453,
          -1.3589334660637948,
          -0.9289435721940565,
          -0.7124449800398088,
          -1.6065487619933794,
          2.332208250292037,
          0.8026240180457727,
          -0.3270519336517877,
          -0.23711569943831692,
          -1.1574596670571589,
          0.6356964428430179,
          -1.1519757857088226,
          -3.8820799601324034,
          0.7723161251731423,
          2.065264810943613,
          0.02000222388239315,
          0.3991394917296089,
          0.945535911129008,
          -1.204940020191649,
          0.2502984273434721,
          0.4384717934478959,
          -0.3157678412237403,
          0.6107843478312683,
          1.4209487036819728,
          0.8379028557999306,
          1.402820371959644,
          -0.7644680156984743,
          3.3499358837402666,
          -0.2794976581737439,
          0.7120731738683018,
          0.46511545582490277,
          0.2695328720433325,
          1.6056065472068564,
          -0.5389598099942599,
          1.5665773988947163,
          0.06510700987045681,
          0.5239553353008185,
          0.019203296036346764,
          -0.4421735345591453,
          0.14516936021065513,
          1.0355126831038233,
          -0.023036701246943896,
          1.0388811679514585,
          -0.20672847201013142,
          0.1716283164432814,
          -1.9380850409091082,
          -0.5851204532923052,
          -1.9757006147510012,
          0.34022601382222384,
          0.5079218681199503,
          0.7631189321743553,
          0.96306713033488,
          -0.8121233094405356,
          -0.9882153281714651,
          -0.4845284460071705,
          -0.02570082243243427,
          -0.03400268620872826,
          0.5047792802117658,
          -2.279607145438385,
          -0.07385901857965435,
          -1.1771511696616481,
          -0.100857518160516,
          1.0189389924248553,
          -1.6986752286473015,
          -2.2268426553186775,
          -0.9201106764549231,
          -1.060674427588634,
          0.7607522685667668,
          0.1235188485203996,
          0.046532648289906525,
          -1.1751332884820118,
          -0.4914839965164748,
          -1.7497373291544116,
          -0.3786193081224398,
          -0.13885120042759355,
          -0.6706094005349879,
          -0.38208822846680607,
          1.1451940523399124,
          -1.5857540722581318,
          1.0235693577972806,
          -1.2530876758385363,
          0.07528977828068915,
          -0.4156784952599241,
          -0.29874608294387867,
          0.48755629016495683,
          0.23878761796209058,
          -0.20848531744749169,
          -0.0689143672965231,
          1.2984345736949008
         ],
         "y": [
          -0.5898979642836217,
          -1.7035606150240423,
          0.41195268107418087,
          1.1748195587973018,
          -0.2874381187037066,
          0.5750172963551519,
          -0.6918057201108602,
          1.175390395429051,
          -0.6050538557649577,
          0.0019096459897705962,
          -0.9231136810089464,
          -0.39323459451035514,
          2.244083134591712,
          -0.2882505022052697,
          0.2781543452345917,
          0.7078101611604473,
          0.10649678961373046,
          0.16738271233384605,
          -0.2463839532113507,
          1.895360391608483,
          0.5421372027154331,
          -0.6229051777303326,
          -0.10911768413612674,
          1.4985291313289495,
          0.46005062638417077,
          -1.5223404637630722,
          -0.8075314184354632,
          0.45644429253156205,
          -2.7984474908916193,
          -1.041201734145715,
          0.3375797120780502,
          0.7627293350558662,
          -0.4582718115207457,
          0.3293598357702051,
          0.46510675786566447,
          -3.4360205185224273,
          -1.3947339927310538,
          -0.5221562099881435,
          0.11844118831730661,
          -1.4766140798725693,
          0.19975507683724641,
          -0.9339711813555169,
          0.4620682372737366,
          -2.133616090565549,
          0.3832310677836281,
          0.7267988798691072,
          -0.7422830769123931,
          1.545527709647746,
          -0.7771822405729585,
          1.0400750382376254,
          -1.6855965797420718,
          -1.4495282515512824,
          -0.2038630140221456,
          0.5565767167842305,
          0.6853447643542557,
          -2.1016656826691626,
          0.7968165469168353,
          -1.9742291602109332,
          0.015884797000142253,
          -0.33292686237909414,
          -0.28126192873968675,
          -1.164288982256235,
          0.9531908259029911,
          -0.9663699340304098,
          -0.1407555700606715,
          -0.8902939391432672,
          -0.883753820359266,
          -0.7646362892146369,
          -0.13566886289315494,
          -0.6504629597466766,
          0.46657048242165916,
          0.7078080387334367,
          0.3506441991444549,
          1.3062316775097684,
          0.7666951256814395,
          -2.1761057499896372,
          1.0886646387882366,
          0.1398003837228066,
          1.1774220915886786,
          -1.5628528424355201,
          -0.02078033990114364,
          0.2881795839775908,
          -0.45384339986760425,
          0.8287228776149175,
          -0.47309173198761245,
          0.9618766946968291,
          2.086699961485107,
          -0.3923203335643365,
          -0.3489396871594183,
          0.38009544401220324,
          -1.5582853190566033,
          -2.316080376858616,
          -0.04888223868916067,
          1.4508778558136317,
          -1.0698703039694686,
          0.3906557706873268,
          -1.296791643711909,
          -1.0090503122907404,
          0.9509049308922853,
          -0.02878651143711458
         ]
        }
       ],
       "layout": {
        "legend": {
         "bgcolor": "#F5F6F9",
         "font": {
          "color": "#4D5663"
         }
        },
        "paper_bgcolor": "#F5F6F9",
        "plot_bgcolor": "#F5F6F9",
        "template": {
         "data": {
          "bar": [
           {
            "error_x": {
             "color": "#2a3f5f"
            },
            "error_y": {
             "color": "#2a3f5f"
            },
            "marker": {
             "line": {
              "color": "#E5ECF6",
              "width": 0.5
             }
            },
            "type": "bar"
           }
          ],
          "barpolar": [
           {
            "marker": {
             "line": {
              "color": "#E5ECF6",
              "width": 0.5
             }
            },
            "type": "barpolar"
           }
          ],
          "carpet": [
           {
            "aaxis": {
             "endlinecolor": "#2a3f5f",
             "gridcolor": "white",
             "linecolor": "white",
             "minorgridcolor": "white",
             "startlinecolor": "#2a3f5f"
            },
            "baxis": {
             "endlinecolor": "#2a3f5f",
             "gridcolor": "white",
             "linecolor": "white",
             "minorgridcolor": "white",
             "startlinecolor": "#2a3f5f"
            },
            "type": "carpet"
           }
          ],
          "choropleth": [
           {
            "colorbar": {
             "outlinewidth": 0,
             "ticks": ""
            },
            "type": "choropleth"
           }
          ],
          "contour": [
           {
            "colorbar": {
             "outlinewidth": 0,
             "ticks": ""
            },
            "colorscale": [
             [
              0,
              "#0d0887"
             ],
             [
              0.1111111111111111,
              "#46039f"
             ],
             [
              0.2222222222222222,
              "#7201a8"
             ],
             [
              0.3333333333333333,
              "#9c179e"
             ],
             [
              0.4444444444444444,
              "#bd3786"
             ],
             [
              0.5555555555555556,
              "#d8576b"
             ],
             [
              0.6666666666666666,
              "#ed7953"
             ],
             [
              0.7777777777777778,
              "#fb9f3a"
             ],
             [
              0.8888888888888888,
              "#fdca26"
             ],
             [
              1,
              "#f0f921"
             ]
            ],
            "type": "contour"
           }
          ],
          "contourcarpet": [
           {
            "colorbar": {
             "outlinewidth": 0,
             "ticks": ""
            },
            "type": "contourcarpet"
           }
          ],
          "heatmap": [
           {
            "colorbar": {
             "outlinewidth": 0,
             "ticks": ""
            },
            "colorscale": [
             [
              0,
              "#0d0887"
             ],
             [
              0.1111111111111111,
              "#46039f"
             ],
             [
              0.2222222222222222,
              "#7201a8"
             ],
             [
              0.3333333333333333,
              "#9c179e"
             ],
             [
              0.4444444444444444,
              "#bd3786"
             ],
             [
              0.5555555555555556,
              "#d8576b"
             ],
             [
              0.6666666666666666,
              "#ed7953"
             ],
             [
              0.7777777777777778,
              "#fb9f3a"
             ],
             [
              0.8888888888888888,
              "#fdca26"
             ],
             [
              1,
              "#f0f921"
             ]
            ],
            "type": "heatmap"
           }
          ],
          "heatmapgl": [
           {
            "colorbar": {
             "outlinewidth": 0,
             "ticks": ""
            },
            "colorscale": [
             [
              0,
              "#0d0887"
             ],
             [
              0.1111111111111111,
              "#46039f"
             ],
             [
              0.2222222222222222,
              "#7201a8"
             ],
             [
              0.3333333333333333,
              "#9c179e"
             ],
             [
              0.4444444444444444,
              "#bd3786"
             ],
             [
              0.5555555555555556,
              "#d8576b"
             ],
             [
              0.6666666666666666,
              "#ed7953"
             ],
             [
              0.7777777777777778,
              "#fb9f3a"
             ],
             [
              0.8888888888888888,
              "#fdca26"
             ],
             [
              1,
              "#f0f921"
             ]
            ],
            "type": "heatmapgl"
           }
          ],
          "histogram": [
           {
            "marker": {
             "colorbar": {
              "outlinewidth": 0,
              "ticks": ""
             }
            },
            "type": "histogram"
           }
          ],
          "histogram2d": [
           {
            "colorbar": {
             "outlinewidth": 0,
             "ticks": ""
            },
            "colorscale": [
             [
              0,
              "#0d0887"
             ],
             [
              0.1111111111111111,
              "#46039f"
             ],
             [
              0.2222222222222222,
              "#7201a8"
             ],
             [
              0.3333333333333333,
              "#9c179e"
             ],
             [
              0.4444444444444444,
              "#bd3786"
             ],
             [
              0.5555555555555556,
              "#d8576b"
             ],
             [
              0.6666666666666666,
              "#ed7953"
             ],
             [
              0.7777777777777778,
              "#fb9f3a"
             ],
             [
              0.8888888888888888,
              "#fdca26"
             ],
             [
              1,
              "#f0f921"
             ]
            ],
            "type": "histogram2d"
           }
          ],
          "histogram2dcontour": [
           {
            "colorbar": {
             "outlinewidth": 0,
             "ticks": ""
            },
            "colorscale": [
             [
              0,
              "#0d0887"
             ],
             [
              0.1111111111111111,
              "#46039f"
             ],
             [
              0.2222222222222222,
              "#7201a8"
             ],
             [
              0.3333333333333333,
              "#9c179e"
             ],
             [
              0.4444444444444444,
              "#bd3786"
             ],
             [
              0.5555555555555556,
              "#d8576b"
             ],
             [
              0.6666666666666666,
              "#ed7953"
             ],
             [
              0.7777777777777778,
              "#fb9f3a"
             ],
             [
              0.8888888888888888,
              "#fdca26"
             ],
             [
              1,
              "#f0f921"
             ]
            ],
            "type": "histogram2dcontour"
           }
          ],
          "mesh3d": [
           {
            "colorbar": {
             "outlinewidth": 0,
             "ticks": ""
            },
            "type": "mesh3d"
           }
          ],
          "parcoords": [
           {
            "line": {
             "colorbar": {
              "outlinewidth": 0,
              "ticks": ""
             }
            },
            "type": "parcoords"
           }
          ],
          "pie": [
           {
            "automargin": true,
            "type": "pie"
           }
          ],
          "scatter": [
           {
            "marker": {
             "colorbar": {
              "outlinewidth": 0,
              "ticks": ""
             }
            },
            "type": "scatter"
           }
          ],
          "scatter3d": [
           {
            "line": {
             "colorbar": {
              "outlinewidth": 0,
              "ticks": ""
             }
            },
            "marker": {
             "colorbar": {
              "outlinewidth": 0,
              "ticks": ""
             }
            },
            "type": "scatter3d"
           }
          ],
          "scattercarpet": [
           {
            "marker": {
             "colorbar": {
              "outlinewidth": 0,
              "ticks": ""
             }
            },
            "type": "scattercarpet"
           }
          ],
          "scattergeo": [
           {
            "marker": {
             "colorbar": {
              "outlinewidth": 0,
              "ticks": ""
             }
            },
            "type": "scattergeo"
           }
          ],
          "scattergl": [
           {
            "marker": {
             "colorbar": {
              "outlinewidth": 0,
              "ticks": ""
             }
            },
            "type": "scattergl"
           }
          ],
          "scattermapbox": [
           {
            "marker": {
             "colorbar": {
              "outlinewidth": 0,
              "ticks": ""
             }
            },
            "type": "scattermapbox"
           }
          ],
          "scatterpolar": [
           {
            "marker": {
             "colorbar": {
              "outlinewidth": 0,
              "ticks": ""
             }
            },
            "type": "scatterpolar"
           }
          ],
          "scatterpolargl": [
           {
            "marker": {
             "colorbar": {
              "outlinewidth": 0,
              "ticks": ""
             }
            },
            "type": "scatterpolargl"
           }
          ],
          "scatterternary": [
           {
            "marker": {
             "colorbar": {
              "outlinewidth": 0,
              "ticks": ""
             }
            },
            "type": "scatterternary"
           }
          ],
          "surface": [
           {
            "colorbar": {
             "outlinewidth": 0,
             "ticks": ""
            },
            "colorscale": [
             [
              0,
              "#0d0887"
             ],
             [
              0.1111111111111111,
              "#46039f"
             ],
             [
              0.2222222222222222,
              "#7201a8"
             ],
             [
              0.3333333333333333,
              "#9c179e"
             ],
             [
              0.4444444444444444,
              "#bd3786"
             ],
             [
              0.5555555555555556,
              "#d8576b"
             ],
             [
              0.6666666666666666,
              "#ed7953"
             ],
             [
              0.7777777777777778,
              "#fb9f3a"
             ],
             [
              0.8888888888888888,
              "#fdca26"
             ],
             [
              1,
              "#f0f921"
             ]
            ],
            "type": "surface"
           }
          ],
          "table": [
           {
            "cells": {
             "fill": {
              "color": "#EBF0F8"
             },
             "line": {
              "color": "white"
             }
            },
            "header": {
             "fill": {
              "color": "#C8D4E3"
             },
             "line": {
              "color": "white"
             }
            },
            "type": "table"
           }
          ]
         },
         "layout": {
          "annotationdefaults": {
           "arrowcolor": "#2a3f5f",
           "arrowhead": 0,
           "arrowwidth": 1
          },
          "coloraxis": {
           "colorbar": {
            "outlinewidth": 0,
            "ticks": ""
           }
          },
          "colorscale": {
           "diverging": [
            [
             0,
             "#8e0152"
            ],
            [
             0.1,
             "#c51b7d"
            ],
            [
             0.2,
             "#de77ae"
            ],
            [
             0.3,
             "#f1b6da"
            ],
            [
             0.4,
             "#fde0ef"
            ],
            [
             0.5,
             "#f7f7f7"
            ],
            [
             0.6,
             "#e6f5d0"
            ],
            [
             0.7,
             "#b8e186"
            ],
            [
             0.8,
             "#7fbc41"
            ],
            [
             0.9,
             "#4d9221"
            ],
            [
             1,
             "#276419"
            ]
           ],
           "sequential": [
            [
             0,
             "#0d0887"
            ],
            [
             0.1111111111111111,
             "#46039f"
            ],
            [
             0.2222222222222222,
             "#7201a8"
            ],
            [
             0.3333333333333333,
             "#9c179e"
            ],
            [
             0.4444444444444444,
             "#bd3786"
            ],
            [
             0.5555555555555556,
             "#d8576b"
            ],
            [
             0.6666666666666666,
             "#ed7953"
            ],
            [
             0.7777777777777778,
             "#fb9f3a"
            ],
            [
             0.8888888888888888,
             "#fdca26"
            ],
            [
             1,
             "#f0f921"
            ]
           ],
           "sequentialminus": [
            [
             0,
             "#0d0887"
            ],
            [
             0.1111111111111111,
             "#46039f"
            ],
            [
             0.2222222222222222,
             "#7201a8"
            ],
            [
             0.3333333333333333,
             "#9c179e"
            ],
            [
             0.4444444444444444,
             "#bd3786"
            ],
            [
             0.5555555555555556,
             "#d8576b"
            ],
            [
             0.6666666666666666,
             "#ed7953"
            ],
            [
             0.7777777777777778,
             "#fb9f3a"
            ],
            [
             0.8888888888888888,
             "#fdca26"
            ],
            [
             1,
             "#f0f921"
            ]
           ]
          },
          "colorway": [
           "#636efa",
           "#EF553B",
           "#00cc96",
           "#ab63fa",
           "#FFA15A",
           "#19d3f3",
           "#FF6692",
           "#B6E880",
           "#FF97FF",
           "#FECB52"
          ],
          "font": {
           "color": "#2a3f5f"
          },
          "geo": {
           "bgcolor": "white",
           "lakecolor": "white",
           "landcolor": "#E5ECF6",
           "showlakes": true,
           "showland": true,
           "subunitcolor": "white"
          },
          "hoverlabel": {
           "align": "left"
          },
          "hovermode": "closest",
          "mapbox": {
           "style": "light"
          },
          "paper_bgcolor": "white",
          "plot_bgcolor": "#E5ECF6",
          "polar": {
           "angularaxis": {
            "gridcolor": "white",
            "linecolor": "white",
            "ticks": ""
           },
           "bgcolor": "#E5ECF6",
           "radialaxis": {
            "gridcolor": "white",
            "linecolor": "white",
            "ticks": ""
           }
          },
          "scene": {
           "xaxis": {
            "backgroundcolor": "#E5ECF6",
            "gridcolor": "white",
            "gridwidth": 2,
            "linecolor": "white",
            "showbackground": true,
            "ticks": "",
            "zerolinecolor": "white"
           },
           "yaxis": {
            "backgroundcolor": "#E5ECF6",
            "gridcolor": "white",
            "gridwidth": 2,
            "linecolor": "white",
            "showbackground": true,
            "ticks": "",
            "zerolinecolor": "white"
           },
           "zaxis": {
            "backgroundcolor": "#E5ECF6",
            "gridcolor": "white",
            "gridwidth": 2,
            "linecolor": "white",
            "showbackground": true,
            "ticks": "",
            "zerolinecolor": "white"
           }
          },
          "shapedefaults": {
           "line": {
            "color": "#2a3f5f"
           }
          },
          "ternary": {
           "aaxis": {
            "gridcolor": "white",
            "linecolor": "white",
            "ticks": ""
           },
           "baxis": {
            "gridcolor": "white",
            "linecolor": "white",
            "ticks": ""
           },
           "bgcolor": "#E5ECF6",
           "caxis": {
            "gridcolor": "white",
            "linecolor": "white",
            "ticks": ""
           }
          },
          "title": {
           "x": 0.05
          },
          "xaxis": {
           "automargin": true,
           "gridcolor": "white",
           "linecolor": "white",
           "ticks": "",
           "title": {
            "standoff": 15
           },
           "zerolinecolor": "white",
           "zerolinewidth": 2
          },
          "yaxis": {
           "automargin": true,
           "gridcolor": "white",
           "linecolor": "white",
           "ticks": "",
           "title": {
            "standoff": 15
           },
           "zerolinecolor": "white",
           "zerolinewidth": 2
          }
         }
        },
        "title": {
         "font": {
          "color": "#4D5663"
         }
        },
        "xaxis": {
         "gridcolor": "#E1E5ED",
         "showgrid": true,
         "tickfont": {
          "color": "#4D5663"
         },
         "title": {
          "font": {
           "color": "#4D5663"
          },
          "text": ""
         },
         "zerolinecolor": "#E1E5ED"
        },
        "yaxis": {
         "gridcolor": "#E1E5ED",
         "showgrid": true,
         "tickfont": {
          "color": "#4D5663"
         },
         "title": {
          "font": {
           "color": "#4D5663"
          },
          "text": ""
         },
         "zerolinecolor": "#E1E5ED"
        }
       }
      },
      "text/html": [
       "<div>\n",
       "        \n",
       "        \n",
       "            <div id=\"6ccfe04d-8f81-4fc4-a9fe-f326004d786d\" class=\"plotly-graph-div\" style=\"height:525px; width:100%;\"></div>\n",
       "            <script type=\"text/javascript\">\n",
       "                require([\"plotly\"], function(Plotly) {\n",
       "                    window.PLOTLYENV=window.PLOTLYENV || {};\n",
       "                    window.PLOTLYENV.BASE_URL='https://plot.ly';\n",
       "                    \n",
       "                if (document.getElementById(\"6ccfe04d-8f81-4fc4-a9fe-f326004d786d\")) {\n",
       "                    Plotly.newPlot(\n",
       "                        '6ccfe04d-8f81-4fc4-a9fe-f326004d786d',\n",
       "                        [{\"marker\": {\"color\": [\"rgb(255, 153, 51)\", \"rgb(55, 128, 191)\", \"rgb(50, 171, 96)\", \"rgb(128, 0, 128)\", \"rgb(219, 64, 82)\", \"rgb(0, 128, 128)\", \"rgb(255, 255, 51)\", \"rgb(128, 128, 0)\", \"rgb(251, 128, 114)\", \"rgb(128, 177, 211)\"], \"line\": {\"width\": 1.3}, \"size\": [69, 73, 74, 66, 71, 62, 67, 42, 60, 51, 45, 50, 84, 57, 42, 12, 64, 59, 61, 56, 80, 57, 51, 60, 67, 74, 50, 25, 81, 54, 88, 87, 60, 57, 73, 84, 83, 45, 61, 33, 39, 99, 55, 75, 53, 55, 84, 82, 65, 77, 87, 74, 53, 59, 39, 58, 69, 67, 88, 12, 60, 84, 70, 52, 49, 36, 81, 89, 112, 89, 32, 77, 68, 55, 64, 76, 27, 54, 39, 96, 72, 88, 48, 43, 68, 59, 87, 70, 51, 54, 70, 88, 58, 55, 44, 53, 51, 41, 58, 32], \"symbol\": \"circle\"}, \"mode\": \"markers\", \"text\": \"\", \"type\": \"scatter\", \"x\": [-1.1833147841107685, -1.7500193061567437, 1.131725711797192, -0.4149990629871035, -0.5546323136266743, 0.30716715349814916, 0.9307409446318613, 1.1827126886991306, -0.36277765018746844, -1.1575863885269426, -0.8378908404057034, -0.3912685021276453, -1.3589334660637948, -0.9289435721940565, -0.7124449800398088, -1.6065487619933794, 2.332208250292037, 0.8026240180457727, -0.3270519336517877, -0.23711569943831692, -1.1574596670571589, 0.6356964428430179, -1.1519757857088226, -3.8820799601324034, 0.7723161251731423, 2.065264810943613, 0.02000222388239315, 0.3991394917296089, 0.945535911129008, -1.204940020191649, 0.2502984273434721, 0.4384717934478959, -0.3157678412237403, 0.6107843478312683, 1.4209487036819728, 0.8379028557999306, 1.402820371959644, -0.7644680156984743, 3.3499358837402666, -0.2794976581737439, 0.7120731738683018, 0.46511545582490277, 0.2695328720433325, 1.6056065472068564, -0.5389598099942599, 1.5665773988947163, 0.06510700987045681, 0.5239553353008185, 0.019203296036346764, -0.4421735345591453, 0.14516936021065513, 1.0355126831038233, -0.023036701246943896, 1.0388811679514585, -0.20672847201013142, 0.1716283164432814, -1.9380850409091082, -0.5851204532923052, -1.9757006147510012, 0.34022601382222384, 0.5079218681199503, 0.7631189321743553, 0.96306713033488, -0.8121233094405356, -0.9882153281714651, -0.4845284460071705, -0.02570082243243427, -0.03400268620872826, 0.5047792802117658, -2.279607145438385, -0.07385901857965435, -1.1771511696616481, -0.100857518160516, 1.0189389924248553, -1.6986752286473015, -2.2268426553186775, -0.9201106764549231, -1.060674427588634, 0.7607522685667668, 0.1235188485203996, 0.046532648289906525, -1.1751332884820118, -0.4914839965164748, -1.7497373291544116, -0.3786193081224398, -0.13885120042759355, -0.6706094005349879, -0.38208822846680607, 1.1451940523399124, -1.5857540722581318, 1.0235693577972806, -1.2530876758385363, 0.07528977828068915, -0.4156784952599241, -0.29874608294387867, 0.48755629016495683, 0.23878761796209058, -0.20848531744749169, -0.0689143672965231, 1.2984345736949008], \"y\": [-0.5898979642836217, -1.7035606150240423, 0.41195268107418087, 1.1748195587973018, -0.2874381187037066, 0.5750172963551519, -0.6918057201108602, 1.175390395429051, -0.6050538557649577, 0.0019096459897705962, -0.9231136810089464, -0.39323459451035514, 2.244083134591712, -0.2882505022052697, 0.2781543452345917, 0.7078101611604473, 0.10649678961373046, 0.16738271233384605, -0.2463839532113507, 1.895360391608483, 0.5421372027154331, -0.6229051777303326, -0.10911768413612674, 1.4985291313289495, 0.46005062638417077, -1.5223404637630722, -0.8075314184354632, 0.45644429253156205, -2.7984474908916193, -1.041201734145715, 0.3375797120780502, 0.7627293350558662, -0.4582718115207457, 0.3293598357702051, 0.46510675786566447, -3.4360205185224273, -1.3947339927310538, -0.5221562099881435, 0.11844118831730661, -1.4766140798725693, 0.19975507683724641, -0.9339711813555169, 0.4620682372737366, -2.133616090565549, 0.3832310677836281, 0.7267988798691072, -0.7422830769123931, 1.545527709647746, -0.7771822405729585, 1.0400750382376254, -1.6855965797420718, -1.4495282515512824, -0.2038630140221456, 0.5565767167842305, 0.6853447643542557, -2.1016656826691626, 0.7968165469168353, -1.9742291602109332, 0.015884797000142253, -0.33292686237909414, -0.28126192873968675, -1.164288982256235, 0.9531908259029911, -0.9663699340304098, -0.1407555700606715, -0.8902939391432672, -0.883753820359266, -0.7646362892146369, -0.13566886289315494, -0.6504629597466766, 0.46657048242165916, 0.7078080387334367, 0.3506441991444549, 1.3062316775097684, 0.7666951256814395, -2.1761057499896372, 1.0886646387882366, 0.1398003837228066, 1.1774220915886786, -1.5628528424355201, -0.02078033990114364, 0.2881795839775908, -0.45384339986760425, 0.8287228776149175, -0.47309173198761245, 0.9618766946968291, 2.086699961485107, -0.3923203335643365, -0.3489396871594183, 0.38009544401220324, -1.5582853190566033, -2.316080376858616, -0.04888223868916067, 1.4508778558136317, -1.0698703039694686, 0.3906557706873268, -1.296791643711909, -1.0090503122907404, 0.9509049308922853, -0.02878651143711458]}],\n",
       "                        {\"legend\": {\"bgcolor\": \"#F5F6F9\", \"font\": {\"color\": \"#4D5663\"}}, \"paper_bgcolor\": \"#F5F6F9\", \"plot_bgcolor\": \"#F5F6F9\", \"template\": {\"data\": {\"bar\": [{\"error_x\": {\"color\": \"#2a3f5f\"}, \"error_y\": {\"color\": \"#2a3f5f\"}, \"marker\": {\"line\": {\"color\": \"#E5ECF6\", \"width\": 0.5}}, \"type\": \"bar\"}], \"barpolar\": [{\"marker\": {\"line\": {\"color\": \"#E5ECF6\", \"width\": 0.5}}, \"type\": \"barpolar\"}], \"carpet\": [{\"aaxis\": {\"endlinecolor\": \"#2a3f5f\", \"gridcolor\": \"white\", \"linecolor\": \"white\", \"minorgridcolor\": \"white\", \"startlinecolor\": \"#2a3f5f\"}, \"baxis\": {\"endlinecolor\": \"#2a3f5f\", \"gridcolor\": \"white\", \"linecolor\": \"white\", \"minorgridcolor\": \"white\", \"startlinecolor\": \"#2a3f5f\"}, \"type\": \"carpet\"}], \"choropleth\": [{\"colorbar\": {\"outlinewidth\": 0, \"ticks\": \"\"}, \"type\": \"choropleth\"}], \"contour\": [{\"colorbar\": {\"outlinewidth\": 0, \"ticks\": \"\"}, \"colorscale\": [[0.0, \"#0d0887\"], [0.1111111111111111, \"#46039f\"], [0.2222222222222222, \"#7201a8\"], [0.3333333333333333, \"#9c179e\"], [0.4444444444444444, \"#bd3786\"], [0.5555555555555556, \"#d8576b\"], [0.6666666666666666, \"#ed7953\"], [0.7777777777777778, \"#fb9f3a\"], [0.8888888888888888, \"#fdca26\"], [1.0, \"#f0f921\"]], \"type\": \"contour\"}], \"contourcarpet\": [{\"colorbar\": {\"outlinewidth\": 0, \"ticks\": \"\"}, \"type\": \"contourcarpet\"}], \"heatmap\": [{\"colorbar\": {\"outlinewidth\": 0, \"ticks\": \"\"}, \"colorscale\": [[0.0, \"#0d0887\"], [0.1111111111111111, \"#46039f\"], [0.2222222222222222, \"#7201a8\"], [0.3333333333333333, \"#9c179e\"], [0.4444444444444444, \"#bd3786\"], [0.5555555555555556, \"#d8576b\"], [0.6666666666666666, \"#ed7953\"], [0.7777777777777778, \"#fb9f3a\"], [0.8888888888888888, \"#fdca26\"], [1.0, \"#f0f921\"]], \"type\": \"heatmap\"}], \"heatmapgl\": [{\"colorbar\": {\"outlinewidth\": 0, \"ticks\": \"\"}, \"colorscale\": [[0.0, \"#0d0887\"], [0.1111111111111111, \"#46039f\"], [0.2222222222222222, \"#7201a8\"], [0.3333333333333333, \"#9c179e\"], [0.4444444444444444, \"#bd3786\"], [0.5555555555555556, \"#d8576b\"], [0.6666666666666666, \"#ed7953\"], [0.7777777777777778, \"#fb9f3a\"], [0.8888888888888888, \"#fdca26\"], [1.0, \"#f0f921\"]], \"type\": \"heatmapgl\"}], \"histogram\": [{\"marker\": {\"colorbar\": {\"outlinewidth\": 0, \"ticks\": \"\"}}, \"type\": \"histogram\"}], \"histogram2d\": [{\"colorbar\": {\"outlinewidth\": 0, \"ticks\": \"\"}, \"colorscale\": [[0.0, \"#0d0887\"], [0.1111111111111111, \"#46039f\"], [0.2222222222222222, \"#7201a8\"], [0.3333333333333333, \"#9c179e\"], [0.4444444444444444, \"#bd3786\"], [0.5555555555555556, \"#d8576b\"], [0.6666666666666666, \"#ed7953\"], [0.7777777777777778, \"#fb9f3a\"], [0.8888888888888888, \"#fdca26\"], [1.0, \"#f0f921\"]], \"type\": \"histogram2d\"}], \"histogram2dcontour\": [{\"colorbar\": {\"outlinewidth\": 0, \"ticks\": \"\"}, \"colorscale\": [[0.0, \"#0d0887\"], [0.1111111111111111, \"#46039f\"], [0.2222222222222222, \"#7201a8\"], [0.3333333333333333, \"#9c179e\"], [0.4444444444444444, \"#bd3786\"], [0.5555555555555556, \"#d8576b\"], [0.6666666666666666, \"#ed7953\"], [0.7777777777777778, \"#fb9f3a\"], [0.8888888888888888, \"#fdca26\"], [1.0, \"#f0f921\"]], \"type\": \"histogram2dcontour\"}], \"mesh3d\": [{\"colorbar\": {\"outlinewidth\": 0, \"ticks\": \"\"}, \"type\": \"mesh3d\"}], \"parcoords\": [{\"line\": {\"colorbar\": {\"outlinewidth\": 0, \"ticks\": \"\"}}, \"type\": \"parcoords\"}], \"pie\": [{\"automargin\": true, \"type\": \"pie\"}], \"scatter\": [{\"marker\": {\"colorbar\": {\"outlinewidth\": 0, \"ticks\": \"\"}}, \"type\": \"scatter\"}], \"scatter3d\": [{\"line\": {\"colorbar\": {\"outlinewidth\": 0, \"ticks\": \"\"}}, \"marker\": {\"colorbar\": {\"outlinewidth\": 0, \"ticks\": \"\"}}, \"type\": \"scatter3d\"}], \"scattercarpet\": [{\"marker\": {\"colorbar\": {\"outlinewidth\": 0, \"ticks\": \"\"}}, \"type\": \"scattercarpet\"}], \"scattergeo\": [{\"marker\": {\"colorbar\": {\"outlinewidth\": 0, \"ticks\": \"\"}}, \"type\": \"scattergeo\"}], \"scattergl\": [{\"marker\": {\"colorbar\": {\"outlinewidth\": 0, \"ticks\": \"\"}}, \"type\": \"scattergl\"}], \"scattermapbox\": [{\"marker\": {\"colorbar\": {\"outlinewidth\": 0, \"ticks\": \"\"}}, \"type\": \"scattermapbox\"}], \"scatterpolar\": [{\"marker\": {\"colorbar\": {\"outlinewidth\": 0, \"ticks\": \"\"}}, \"type\": \"scatterpolar\"}], \"scatterpolargl\": [{\"marker\": {\"colorbar\": {\"outlinewidth\": 0, \"ticks\": \"\"}}, \"type\": \"scatterpolargl\"}], \"scatterternary\": [{\"marker\": {\"colorbar\": {\"outlinewidth\": 0, \"ticks\": \"\"}}, \"type\": \"scatterternary\"}], \"surface\": [{\"colorbar\": {\"outlinewidth\": 0, \"ticks\": \"\"}, \"colorscale\": [[0.0, \"#0d0887\"], [0.1111111111111111, \"#46039f\"], [0.2222222222222222, \"#7201a8\"], [0.3333333333333333, \"#9c179e\"], [0.4444444444444444, \"#bd3786\"], [0.5555555555555556, \"#d8576b\"], [0.6666666666666666, \"#ed7953\"], [0.7777777777777778, \"#fb9f3a\"], [0.8888888888888888, \"#fdca26\"], [1.0, \"#f0f921\"]], \"type\": \"surface\"}], \"table\": [{\"cells\": {\"fill\": {\"color\": \"#EBF0F8\"}, \"line\": {\"color\": \"white\"}}, \"header\": {\"fill\": {\"color\": \"#C8D4E3\"}, \"line\": {\"color\": \"white\"}}, \"type\": \"table\"}]}, \"layout\": {\"annotationdefaults\": {\"arrowcolor\": \"#2a3f5f\", \"arrowhead\": 0, \"arrowwidth\": 1}, \"coloraxis\": {\"colorbar\": {\"outlinewidth\": 0, \"ticks\": \"\"}}, \"colorscale\": {\"diverging\": [[0, \"#8e0152\"], [0.1, \"#c51b7d\"], [0.2, \"#de77ae\"], [0.3, \"#f1b6da\"], [0.4, \"#fde0ef\"], [0.5, \"#f7f7f7\"], [0.6, \"#e6f5d0\"], [0.7, \"#b8e186\"], [0.8, \"#7fbc41\"], [0.9, \"#4d9221\"], [1, \"#276419\"]], \"sequential\": [[0.0, \"#0d0887\"], [0.1111111111111111, \"#46039f\"], [0.2222222222222222, \"#7201a8\"], [0.3333333333333333, \"#9c179e\"], [0.4444444444444444, \"#bd3786\"], [0.5555555555555556, \"#d8576b\"], [0.6666666666666666, \"#ed7953\"], [0.7777777777777778, \"#fb9f3a\"], [0.8888888888888888, \"#fdca26\"], [1.0, \"#f0f921\"]], \"sequentialminus\": [[0.0, \"#0d0887\"], [0.1111111111111111, \"#46039f\"], [0.2222222222222222, \"#7201a8\"], [0.3333333333333333, \"#9c179e\"], [0.4444444444444444, \"#bd3786\"], [0.5555555555555556, \"#d8576b\"], [0.6666666666666666, \"#ed7953\"], [0.7777777777777778, \"#fb9f3a\"], [0.8888888888888888, \"#fdca26\"], [1.0, \"#f0f921\"]]}, \"colorway\": [\"#636efa\", \"#EF553B\", \"#00cc96\", \"#ab63fa\", \"#FFA15A\", \"#19d3f3\", \"#FF6692\", \"#B6E880\", \"#FF97FF\", \"#FECB52\"], \"font\": {\"color\": \"#2a3f5f\"}, \"geo\": {\"bgcolor\": \"white\", \"lakecolor\": \"white\", \"landcolor\": \"#E5ECF6\", \"showlakes\": true, \"showland\": true, \"subunitcolor\": \"white\"}, \"hoverlabel\": {\"align\": \"left\"}, \"hovermode\": \"closest\", \"mapbox\": {\"style\": \"light\"}, \"paper_bgcolor\": \"white\", \"plot_bgcolor\": \"#E5ECF6\", \"polar\": {\"angularaxis\": {\"gridcolor\": \"white\", \"linecolor\": \"white\", \"ticks\": \"\"}, \"bgcolor\": \"#E5ECF6\", \"radialaxis\": {\"gridcolor\": \"white\", \"linecolor\": \"white\", \"ticks\": \"\"}}, \"scene\": {\"xaxis\": {\"backgroundcolor\": \"#E5ECF6\", \"gridcolor\": \"white\", \"gridwidth\": 2, \"linecolor\": \"white\", \"showbackground\": true, \"ticks\": \"\", \"zerolinecolor\": \"white\"}, \"yaxis\": {\"backgroundcolor\": \"#E5ECF6\", \"gridcolor\": \"white\", \"gridwidth\": 2, \"linecolor\": \"white\", \"showbackground\": true, \"ticks\": \"\", \"zerolinecolor\": \"white\"}, \"zaxis\": {\"backgroundcolor\": \"#E5ECF6\", \"gridcolor\": \"white\", \"gridwidth\": 2, \"linecolor\": \"white\", \"showbackground\": true, \"ticks\": \"\", \"zerolinecolor\": \"white\"}}, \"shapedefaults\": {\"line\": {\"color\": \"#2a3f5f\"}}, \"ternary\": {\"aaxis\": {\"gridcolor\": \"white\", \"linecolor\": \"white\", \"ticks\": \"\"}, \"baxis\": {\"gridcolor\": \"white\", \"linecolor\": \"white\", \"ticks\": \"\"}, \"bgcolor\": \"#E5ECF6\", \"caxis\": {\"gridcolor\": \"white\", \"linecolor\": \"white\", \"ticks\": \"\"}}, \"title\": {\"x\": 0.05}, \"xaxis\": {\"automargin\": true, \"gridcolor\": \"white\", \"linecolor\": \"white\", \"ticks\": \"\", \"title\": {\"standoff\": 15}, \"zerolinecolor\": \"white\", \"zerolinewidth\": 2}, \"yaxis\": {\"automargin\": true, \"gridcolor\": \"white\", \"linecolor\": \"white\", \"ticks\": \"\", \"title\": {\"standoff\": 15}, \"zerolinecolor\": \"white\", \"zerolinewidth\": 2}}}, \"title\": {\"font\": {\"color\": \"#4D5663\"}}, \"xaxis\": {\"gridcolor\": \"#E1E5ED\", \"showgrid\": true, \"tickfont\": {\"color\": \"#4D5663\"}, \"title\": {\"font\": {\"color\": \"#4D5663\"}, \"text\": \"\"}, \"zerolinecolor\": \"#E1E5ED\"}, \"yaxis\": {\"gridcolor\": \"#E1E5ED\", \"showgrid\": true, \"tickfont\": {\"color\": \"#4D5663\"}, \"title\": {\"font\": {\"color\": \"#4D5663\"}, \"text\": \"\"}, \"zerolinecolor\": \"#E1E5ED\"}},\n",
       "                        {\"showLink\": true, \"linkText\": \"Export to plot.ly\", \"plotlyServerURL\": \"https://plot.ly\", \"responsive\": true}\n",
       "                    ).then(function(){\n",
       "                            \n",
       "var gd = document.getElementById('6ccfe04d-8f81-4fc4-a9fe-f326004d786d');\n",
       "var x = new MutationObserver(function (mutations, observer) {{\n",
       "        var display = window.getComputedStyle(gd).display;\n",
       "        if (!display || display === 'none') {{\n",
       "            console.log([gd, 'removed!']);\n",
       "            Plotly.purge(gd);\n",
       "            observer.disconnect();\n",
       "        }}\n",
       "}});\n",
       "\n",
       "// Listen for the removal of the full notebook cells\n",
       "var notebookContainer = gd.closest('#notebook-container');\n",
       "if (notebookContainer) {{\n",
       "    x.observe(notebookContainer, {childList: true});\n",
       "}}\n",
       "\n",
       "// Listen for the clearing of the current output cell\n",
       "var outputEl = gd.closest('.output');\n",
       "if (outputEl) {{\n",
       "    x.observe(outputEl, {childList: true});\n",
       "}}\n",
       "\n",
       "                        })\n",
       "                };\n",
       "                });\n",
       "            </script>\n",
       "        </div>"
      ]
     },
     "metadata": {},
     "output_type": "display_data"
    }
   ],
   "source": [
    "df.iplot(kind='bubble',x='A',y='B',size='C')"
   ]
  },
  {
   "cell_type": "markdown",
   "metadata": {},
   "source": [
    "## scatter_matrix()\n",
    "\n",
    "Similar to sns.pairplot()"
   ]
  },
  {
   "cell_type": "code",
   "execution_count": 27,
   "metadata": {},
   "outputs": [
    {
     "data": {
      "application/vnd.plotly.v1+json": {
       "config": {
        "linkText": "Export to plot.ly",
        "plotlyServerURL": "https://plot.ly",
        "showLink": true
       },
       "data": [
        {
         "histfunc": "count",
         "histnorm": "",
         "marker": {
          "color": "rgba(255, 153, 51, 1.0)",
          "line": {
           "color": "#4D5663",
           "width": 1.3
          }
         },
         "name": "A",
         "nbinsx": 10,
         "opacity": 0.8,
         "orientation": "v",
         "type": "histogram",
         "x": [
          -1.1833147841107685,
          -1.7500193061567437,
          1.131725711797192,
          -0.4149990629871035,
          -0.5546323136266743,
          0.30716715349814916,
          0.9307409446318613,
          1.1827126886991306,
          -0.36277765018746844,
          -1.1575863885269426,
          -0.8378908404057034,
          -0.3912685021276453,
          -1.3589334660637948,
          -0.9289435721940565,
          -0.7124449800398088,
          -1.6065487619933794,
          2.332208250292037,
          0.8026240180457727,
          -0.3270519336517877,
          -0.23711569943831692,
          -1.1574596670571589,
          0.6356964428430179,
          -1.1519757857088226,
          -3.8820799601324034,
          0.7723161251731423,
          2.065264810943613,
          0.02000222388239315,
          0.3991394917296089,
          0.945535911129008,
          -1.204940020191649,
          0.2502984273434721,
          0.4384717934478959,
          -0.3157678412237403,
          0.6107843478312683,
          1.4209487036819728,
          0.8379028557999306,
          1.402820371959644,
          -0.7644680156984743,
          3.3499358837402666,
          -0.2794976581737439,
          0.7120731738683018,
          0.46511545582490277,
          0.2695328720433325,
          1.6056065472068564,
          -0.5389598099942599,
          1.5665773988947163,
          0.06510700987045681,
          0.5239553353008185,
          0.019203296036346764,
          -0.4421735345591453,
          0.14516936021065513,
          1.0355126831038233,
          -0.023036701246943896,
          1.0388811679514585,
          -0.20672847201013142,
          0.1716283164432814,
          -1.9380850409091082,
          -0.5851204532923052,
          -1.9757006147510012,
          0.34022601382222384,
          0.5079218681199503,
          0.7631189321743553,
          0.96306713033488,
          -0.8121233094405356,
          -0.9882153281714651,
          -0.4845284460071705,
          -0.02570082243243427,
          -0.03400268620872826,
          0.5047792802117658,
          -2.279607145438385,
          -0.07385901857965435,
          -1.1771511696616481,
          -0.100857518160516,
          1.0189389924248553,
          -1.6986752286473015,
          -2.2268426553186775,
          -0.9201106764549231,
          -1.060674427588634,
          0.7607522685667668,
          0.1235188485203996,
          0.046532648289906525,
          -1.1751332884820118,
          -0.4914839965164748,
          -1.7497373291544116,
          -0.3786193081224398,
          -0.13885120042759355,
          -0.6706094005349879,
          -0.38208822846680607,
          1.1451940523399124,
          -1.5857540722581318,
          1.0235693577972806,
          -1.2530876758385363,
          0.07528977828068915,
          -0.4156784952599241,
          -0.29874608294387867,
          0.48755629016495683,
          0.23878761796209058,
          -0.20848531744749169,
          -0.0689143672965231,
          1.2984345736949008
         ],
         "xaxis": "x",
         "yaxis": "y"
        },
        {
         "line": {
          "color": "rgba(128, 128, 128, 1.0)",
          "dash": "solid",
          "shape": "linear",
          "width": 1.3
         },
         "marker": {
          "size": 2,
          "symbol": "circle"
         },
         "mode": "markers",
         "name": "A",
         "text": "",
         "type": "scatter",
         "x": [
          -0.5898979642836217,
          -1.7035606150240423,
          0.41195268107418087,
          1.1748195587973018,
          -0.2874381187037066,
          0.5750172963551519,
          -0.6918057201108602,
          1.175390395429051,
          -0.6050538557649577,
          0.0019096459897705962,
          -0.9231136810089464,
          -0.39323459451035514,
          2.244083134591712,
          -0.2882505022052697,
          0.2781543452345917,
          0.7078101611604473,
          0.10649678961373046,
          0.16738271233384605,
          -0.2463839532113507,
          1.895360391608483,
          0.5421372027154331,
          -0.6229051777303326,
          -0.10911768413612674,
          1.4985291313289495,
          0.46005062638417077,
          -1.5223404637630722,
          -0.8075314184354632,
          0.45644429253156205,
          -2.7984474908916193,
          -1.041201734145715,
          0.3375797120780502,
          0.7627293350558662,
          -0.4582718115207457,
          0.3293598357702051,
          0.46510675786566447,
          -3.4360205185224273,
          -1.3947339927310538,
          -0.5221562099881435,
          0.11844118831730661,
          -1.4766140798725693,
          0.19975507683724641,
          -0.9339711813555169,
          0.4620682372737366,
          -2.133616090565549,
          0.3832310677836281,
          0.7267988798691072,
          -0.7422830769123931,
          1.545527709647746,
          -0.7771822405729585,
          1.0400750382376254,
          -1.6855965797420718,
          -1.4495282515512824,
          -0.2038630140221456,
          0.5565767167842305,
          0.6853447643542557,
          -2.1016656826691626,
          0.7968165469168353,
          -1.9742291602109332,
          0.015884797000142253,
          -0.33292686237909414,
          -0.28126192873968675,
          -1.164288982256235,
          0.9531908259029911,
          -0.9663699340304098,
          -0.1407555700606715,
          -0.8902939391432672,
          -0.883753820359266,
          -0.7646362892146369,
          -0.13566886289315494,
          -0.6504629597466766,
          0.46657048242165916,
          0.7078080387334367,
          0.3506441991444549,
          1.3062316775097684,
          0.7666951256814395,
          -2.1761057499896372,
          1.0886646387882366,
          0.1398003837228066,
          1.1774220915886786,
          -1.5628528424355201,
          -0.02078033990114364,
          0.2881795839775908,
          -0.45384339986760425,
          0.8287228776149175,
          -0.47309173198761245,
          0.9618766946968291,
          2.086699961485107,
          -0.3923203335643365,
          -0.3489396871594183,
          0.38009544401220324,
          -1.5582853190566033,
          -2.316080376858616,
          -0.04888223868916067,
          1.4508778558136317,
          -1.0698703039694686,
          0.3906557706873268,
          -1.296791643711909,
          -1.0090503122907404,
          0.9509049308922853,
          -0.02878651143711458
         ],
         "xaxis": "x2",
         "y": [
          -1.1833147841107685,
          -1.7500193061567437,
          1.131725711797192,
          -0.4149990629871035,
          -0.5546323136266743,
          0.30716715349814916,
          0.9307409446318613,
          1.1827126886991306,
          -0.36277765018746844,
          -1.1575863885269426,
          -0.8378908404057034,
          -0.3912685021276453,
          -1.3589334660637948,
          -0.9289435721940565,
          -0.7124449800398088,
          -1.6065487619933794,
          2.332208250292037,
          0.8026240180457727,
          -0.3270519336517877,
          -0.23711569943831692,
          -1.1574596670571589,
          0.6356964428430179,
          -1.1519757857088226,
          -3.8820799601324034,
          0.7723161251731423,
          2.065264810943613,
          0.02000222388239315,
          0.3991394917296089,
          0.945535911129008,
          -1.204940020191649,
          0.2502984273434721,
          0.4384717934478959,
          -0.3157678412237403,
          0.6107843478312683,
          1.4209487036819728,
          0.8379028557999306,
          1.402820371959644,
          -0.7644680156984743,
          3.3499358837402666,
          -0.2794976581737439,
          0.7120731738683018,
          0.46511545582490277,
          0.2695328720433325,
          1.6056065472068564,
          -0.5389598099942599,
          1.5665773988947163,
          0.06510700987045681,
          0.5239553353008185,
          0.019203296036346764,
          -0.4421735345591453,
          0.14516936021065513,
          1.0355126831038233,
          -0.023036701246943896,
          1.0388811679514585,
          -0.20672847201013142,
          0.1716283164432814,
          -1.9380850409091082,
          -0.5851204532923052,
          -1.9757006147510012,
          0.34022601382222384,
          0.5079218681199503,
          0.7631189321743553,
          0.96306713033488,
          -0.8121233094405356,
          -0.9882153281714651,
          -0.4845284460071705,
          -0.02570082243243427,
          -0.03400268620872826,
          0.5047792802117658,
          -2.279607145438385,
          -0.07385901857965435,
          -1.1771511696616481,
          -0.100857518160516,
          1.0189389924248553,
          -1.6986752286473015,
          -2.2268426553186775,
          -0.9201106764549231,
          -1.060674427588634,
          0.7607522685667668,
          0.1235188485203996,
          0.046532648289906525,
          -1.1751332884820118,
          -0.4914839965164748,
          -1.7497373291544116,
          -0.3786193081224398,
          -0.13885120042759355,
          -0.6706094005349879,
          -0.38208822846680607,
          1.1451940523399124,
          -1.5857540722581318,
          1.0235693577972806,
          -1.2530876758385363,
          0.07528977828068915,
          -0.4156784952599241,
          -0.29874608294387867,
          0.48755629016495683,
          0.23878761796209058,
          -0.20848531744749169,
          -0.0689143672965231,
          1.2984345736949008
         ],
         "yaxis": "y2"
        },
        {
         "line": {
          "color": "rgba(128, 128, 128, 1.0)",
          "dash": "solid",
          "shape": "linear",
          "width": 1.3
         },
         "marker": {
          "size": 2,
          "symbol": "circle"
         },
         "mode": "markers",
         "name": "A",
         "text": "",
         "type": "scatter",
         "x": [
          0.3563595190481723,
          0.5378580625673637,
          0.6173298842049206,
          0.21033550597258313,
          0.44595295816020464,
          0.04734465427785705,
          0.29451514142542107,
          -0.9104362947239052,
          -0.07368373573215535,
          -0.49009579808053116,
          -0.7516560112746027,
          -0.5218355203683539,
          1.0572321458187806,
          -0.19125214921783798,
          -0.8841145793948796,
          -2.3351823124441653,
          0.15341418212355862,
          -0.08823652936084907,
          -0.007883833663842916,
          -0.23585000687120442,
          0.9031303932803689,
          -0.19828958817470044,
          -0.4566188095966283,
          -0.04207055140836586,
          0.2606122258073981,
          0.582451791438679,
          -0.5150976508274104,
          -1.7002930623164572,
          0.927234615632159,
          -0.33999207269869747,
          1.2865951541218563,
          1.2052286004215986,
          -0.034560345581458735,
          -0.1965009735122464,
          0.5788489442796333,
          1.086961676923334,
          1.0517377487472919,
          -0.7778358913150859,
          -0.014333865174890886,
          -1.308274320048806,
          -1.019456586799028,
          1.7877339835004995,
          -0.29094327359053807,
          0.6471806866229206,
          -0.3917125919254808,
          -0.27322823899618803,
          1.094360822140504,
          0.9843093557171149,
          0.18072487387927072,
          0.7345787459591877,
          1.2031898005141421,
          0.6275078194912926,
          -0.3838280425665974,
          -0.11864517969486123,
          -1.0481010822032037,
          -0.13614210035050264,
          0.37261715026318526,
          0.2754932744602963,
          1.2566765340484616,
          -2.327316910825752,
          -0.0337140788528213,
          1.083572109682462,
          0.4020341114343595,
          -0.4476381375854337,
          -0.5479889019832572,
          -1.1601106017360991,
          0.9268847350783452,
          1.3062521338048927,
          2.3696307070086213,
          1.2939936462791204,
          -1.3474579967385054,
          0.7560208066533932,
          0.340328573525602,
          -0.3037446854112319,
          0.14992534941418062,
          0.6981484777917132,
          -1.600137624225199,
          -0.33559716548704815,
          -1.020606706556866,
          1.6218541220366733,
          0.5249322439679205,
          1.2645200714561968,
          -0.5997953207598887,
          -0.8667687617263371,
          0.34602584543690884,
          -0.1154494792571628,
          1.2234381967219794,
          0.4141928086174913,
          -0.49233108234498496,
          -0.34025603284701117,
          0.4300105000890438,
          1.2458895710075948,
          -0.14245016207378774,
          -0.30065296961149235,
          -0.7830309295774042,
          -0.4031855979781393,
          -0.4867573638752105,
          -0.9515469823851814,
          -0.14694131466044105,
          -1.3708606419981288
         ],
         "xaxis": "x3",
         "y": [
          -1.1833147841107685,
          -1.7500193061567437,
          1.131725711797192,
          -0.4149990629871035,
          -0.5546323136266743,
          0.30716715349814916,
          0.9307409446318613,
          1.1827126886991306,
          -0.36277765018746844,
          -1.1575863885269426,
          -0.8378908404057034,
          -0.3912685021276453,
          -1.3589334660637948,
          -0.9289435721940565,
          -0.7124449800398088,
          -1.6065487619933794,
          2.332208250292037,
          0.8026240180457727,
          -0.3270519336517877,
          -0.23711569943831692,
          -1.1574596670571589,
          0.6356964428430179,
          -1.1519757857088226,
          -3.8820799601324034,
          0.7723161251731423,
          2.065264810943613,
          0.02000222388239315,
          0.3991394917296089,
          0.945535911129008,
          -1.204940020191649,
          0.2502984273434721,
          0.4384717934478959,
          -0.3157678412237403,
          0.6107843478312683,
          1.4209487036819728,
          0.8379028557999306,
          1.402820371959644,
          -0.7644680156984743,
          3.3499358837402666,
          -0.2794976581737439,
          0.7120731738683018,
          0.46511545582490277,
          0.2695328720433325,
          1.6056065472068564,
          -0.5389598099942599,
          1.5665773988947163,
          0.06510700987045681,
          0.5239553353008185,
          0.019203296036346764,
          -0.4421735345591453,
          0.14516936021065513,
          1.0355126831038233,
          -0.023036701246943896,
          1.0388811679514585,
          -0.20672847201013142,
          0.1716283164432814,
          -1.9380850409091082,
          -0.5851204532923052,
          -1.9757006147510012,
          0.34022601382222384,
          0.5079218681199503,
          0.7631189321743553,
          0.96306713033488,
          -0.8121233094405356,
          -0.9882153281714651,
          -0.4845284460071705,
          -0.02570082243243427,
          -0.03400268620872826,
          0.5047792802117658,
          -2.279607145438385,
          -0.07385901857965435,
          -1.1771511696616481,
          -0.100857518160516,
          1.0189389924248553,
          -1.6986752286473015,
          -2.2268426553186775,
          -0.9201106764549231,
          -1.060674427588634,
          0.7607522685667668,
          0.1235188485203996,
          0.046532648289906525,
          -1.1751332884820118,
          -0.4914839965164748,
          -1.7497373291544116,
          -0.3786193081224398,
          -0.13885120042759355,
          -0.6706094005349879,
          -0.38208822846680607,
          1.1451940523399124,
          -1.5857540722581318,
          1.0235693577972806,
          -1.2530876758385363,
          0.07528977828068915,
          -0.4156784952599241,
          -0.29874608294387867,
          0.48755629016495683,
          0.23878761796209058,
          -0.20848531744749169,
          -0.0689143672965231,
          1.2984345736949008
         ],
         "yaxis": "y3"
        },
        {
         "line": {
          "color": "rgba(128, 128, 128, 1.0)",
          "dash": "solid",
          "shape": "linear",
          "width": 1.3
         },
         "marker": {
          "size": 2,
          "symbol": "circle"
         },
         "mode": "markers",
         "name": "A",
         "text": "",
         "type": "scatter",
         "x": [
          -0.6815278090096228,
          0.6836545158540465,
          1.1605213141149195,
          -0.133052458115378,
          -2.979500348480578,
          -0.17772982983823818,
          0.33662075084103943,
          0.8237252349356241,
          1.2155185449253194,
          -0.07648790492327208,
          0.17557566222118365,
          1.4172786923625398,
          0.41023207422787317,
          0.4145840112629592,
          -0.953117960299787,
          1.3902345027918306,
          1.3114591275083565,
          0.37103721204853013,
          1.628584056249766,
          -0.4673707338263525,
          -1.1063509644652172,
          -1.2155338781292224,
          -1.2364022292687875,
          -1.6046087199475132,
          -0.42975066485651914,
          -0.6459359742825395,
          -0.011123596704090351,
          -0.6090853660218682,
          -0.34495894566061597,
          -1.3289599971268262,
          0.7160617352260024,
          -0.37536288095791126,
          -0.6598275895874195,
          -0.9102383622568297,
          -0.3907467067769348,
          2.2817547532041442,
          -0.6931662646971632,
          1.1980966518067875,
          -0.02004411852091231,
          -0.5752395136091221,
          1.2339878709992507,
          -0.2910186234388754,
          1.7759472267876908,
          -0.5431273262618557,
          0.05313825638943675,
          0.2529395777393483,
          0.6079683298852785,
          -0.30212749638410447,
          0.5929116743683776,
          0.6769126419051446,
          2.642585156974257,
          -0.7494424202356387,
          -0.28006733520712335,
          0.5042486184901078,
          0.47419946719610684,
          1.6040680901475013,
          0.973932341470313,
          -0.44950804122739146,
          0.007291868666570613,
          1.0692110221647848,
          -0.7914495847751928,
          -1.5324654850731874,
          -0.5050034502786495,
          -0.7957449591032016,
          0.7211054593963526,
          1.6239848914863952,
          -1.1889529552975984,
          -1.80725971645796,
          -0.1567435717692518,
          1.8863153428561543,
          -0.32596644920844425,
          -1.9491709247132945,
          -0.9943818222384481,
          1.3002735299490298,
          -0.2707542788536193,
          -1.6214993010961989,
          0.07197454848896413,
          0.7028756859541337,
          -1.3855443155607186,
          -0.9359776704337875,
          0.979856625282574,
          0.07954809091402387,
          0.3659749882479351,
          -1.167821128119484,
          -1.7564234558593752,
          -0.7426087044916253,
          0.7794977072509554,
          -0.19306460574406453,
          0.18558965551803455,
          2.579384339758135,
          -0.10036507426068357,
          2.0156085373107837,
          0.8077953402897897,
          0.05250687146482705,
          -1.097473699324034,
          -0.7407063456432476,
          0.7742610571080611,
          -1.087755049692921,
          -1.4286581098621647,
          -0.33755508978657744
         ],
         "xaxis": "x4",
         "y": [
          -1.1833147841107685,
          -1.7500193061567437,
          1.131725711797192,
          -0.4149990629871035,
          -0.5546323136266743,
          0.30716715349814916,
          0.9307409446318613,
          1.1827126886991306,
          -0.36277765018746844,
          -1.1575863885269426,
          -0.8378908404057034,
          -0.3912685021276453,
          -1.3589334660637948,
          -0.9289435721940565,
          -0.7124449800398088,
          -1.6065487619933794,
          2.332208250292037,
          0.8026240180457727,
          -0.3270519336517877,
          -0.23711569943831692,
          -1.1574596670571589,
          0.6356964428430179,
          -1.1519757857088226,
          -3.8820799601324034,
          0.7723161251731423,
          2.065264810943613,
          0.02000222388239315,
          0.3991394917296089,
          0.945535911129008,
          -1.204940020191649,
          0.2502984273434721,
          0.4384717934478959,
          -0.3157678412237403,
          0.6107843478312683,
          1.4209487036819728,
          0.8379028557999306,
          1.402820371959644,
          -0.7644680156984743,
          3.3499358837402666,
          -0.2794976581737439,
          0.7120731738683018,
          0.46511545582490277,
          0.2695328720433325,
          1.6056065472068564,
          -0.5389598099942599,
          1.5665773988947163,
          0.06510700987045681,
          0.5239553353008185,
          0.019203296036346764,
          -0.4421735345591453,
          0.14516936021065513,
          1.0355126831038233,
          -0.023036701246943896,
          1.0388811679514585,
          -0.20672847201013142,
          0.1716283164432814,
          -1.9380850409091082,
          -0.5851204532923052,
          -1.9757006147510012,
          0.34022601382222384,
          0.5079218681199503,
          0.7631189321743553,
          0.96306713033488,
          -0.8121233094405356,
          -0.9882153281714651,
          -0.4845284460071705,
          -0.02570082243243427,
          -0.03400268620872826,
          0.5047792802117658,
          -2.279607145438385,
          -0.07385901857965435,
          -1.1771511696616481,
          -0.100857518160516,
          1.0189389924248553,
          -1.6986752286473015,
          -2.2268426553186775,
          -0.9201106764549231,
          -1.060674427588634,
          0.7607522685667668,
          0.1235188485203996,
          0.046532648289906525,
          -1.1751332884820118,
          -0.4914839965164748,
          -1.7497373291544116,
          -0.3786193081224398,
          -0.13885120042759355,
          -0.6706094005349879,
          -0.38208822846680607,
          1.1451940523399124,
          -1.5857540722581318,
          1.0235693577972806,
          -1.2530876758385363,
          0.07528977828068915,
          -0.4156784952599241,
          -0.29874608294387867,
          0.48755629016495683,
          0.23878761796209058,
          -0.20848531744749169,
          -0.0689143672965231,
          1.2984345736949008
         ],
         "yaxis": "y4"
        },
        {
         "line": {
          "color": "rgba(128, 128, 128, 1.0)",
          "dash": "solid",
          "shape": "linear",
          "width": 1.3
         },
         "marker": {
          "size": 2,
          "symbol": "circle"
         },
         "mode": "markers",
         "name": "B",
         "text": "",
         "type": "scatter",
         "x": [
          -1.1833147841107685,
          -1.7500193061567437,
          1.131725711797192,
          -0.4149990629871035,
          -0.5546323136266743,
          0.30716715349814916,
          0.9307409446318613,
          1.1827126886991306,
          -0.36277765018746844,
          -1.1575863885269426,
          -0.8378908404057034,
          -0.3912685021276453,
          -1.3589334660637948,
          -0.9289435721940565,
          -0.7124449800398088,
          -1.6065487619933794,
          2.332208250292037,
          0.8026240180457727,
          -0.3270519336517877,
          -0.23711569943831692,
          -1.1574596670571589,
          0.6356964428430179,
          -1.1519757857088226,
          -3.8820799601324034,
          0.7723161251731423,
          2.065264810943613,
          0.02000222388239315,
          0.3991394917296089,
          0.945535911129008,
          -1.204940020191649,
          0.2502984273434721,
          0.4384717934478959,
          -0.3157678412237403,
          0.6107843478312683,
          1.4209487036819728,
          0.8379028557999306,
          1.402820371959644,
          -0.7644680156984743,
          3.3499358837402666,
          -0.2794976581737439,
          0.7120731738683018,
          0.46511545582490277,
          0.2695328720433325,
          1.6056065472068564,
          -0.5389598099942599,
          1.5665773988947163,
          0.06510700987045681,
          0.5239553353008185,
          0.019203296036346764,
          -0.4421735345591453,
          0.14516936021065513,
          1.0355126831038233,
          -0.023036701246943896,
          1.0388811679514585,
          -0.20672847201013142,
          0.1716283164432814,
          -1.9380850409091082,
          -0.5851204532923052,
          -1.9757006147510012,
          0.34022601382222384,
          0.5079218681199503,
          0.7631189321743553,
          0.96306713033488,
          -0.8121233094405356,
          -0.9882153281714651,
          -0.4845284460071705,
          -0.02570082243243427,
          -0.03400268620872826,
          0.5047792802117658,
          -2.279607145438385,
          -0.07385901857965435,
          -1.1771511696616481,
          -0.100857518160516,
          1.0189389924248553,
          -1.6986752286473015,
          -2.2268426553186775,
          -0.9201106764549231,
          -1.060674427588634,
          0.7607522685667668,
          0.1235188485203996,
          0.046532648289906525,
          -1.1751332884820118,
          -0.4914839965164748,
          -1.7497373291544116,
          -0.3786193081224398,
          -0.13885120042759355,
          -0.6706094005349879,
          -0.38208822846680607,
          1.1451940523399124,
          -1.5857540722581318,
          1.0235693577972806,
          -1.2530876758385363,
          0.07528977828068915,
          -0.4156784952599241,
          -0.29874608294387867,
          0.48755629016495683,
          0.23878761796209058,
          -0.20848531744749169,
          -0.0689143672965231,
          1.2984345736949008
         ],
         "xaxis": "x5",
         "y": [
          -0.5898979642836217,
          -1.7035606150240423,
          0.41195268107418087,
          1.1748195587973018,
          -0.2874381187037066,
          0.5750172963551519,
          -0.6918057201108602,
          1.175390395429051,
          -0.6050538557649577,
          0.0019096459897705962,
          -0.9231136810089464,
          -0.39323459451035514,
          2.244083134591712,
          -0.2882505022052697,
          0.2781543452345917,
          0.7078101611604473,
          0.10649678961373046,
          0.16738271233384605,
          -0.2463839532113507,
          1.895360391608483,
          0.5421372027154331,
          -0.6229051777303326,
          -0.10911768413612674,
          1.4985291313289495,
          0.46005062638417077,
          -1.5223404637630722,
          -0.8075314184354632,
          0.45644429253156205,
          -2.7984474908916193,
          -1.041201734145715,
          0.3375797120780502,
          0.7627293350558662,
          -0.4582718115207457,
          0.3293598357702051,
          0.46510675786566447,
          -3.4360205185224273,
          -1.3947339927310538,
          -0.5221562099881435,
          0.11844118831730661,
          -1.4766140798725693,
          0.19975507683724641,
          -0.9339711813555169,
          0.4620682372737366,
          -2.133616090565549,
          0.3832310677836281,
          0.7267988798691072,
          -0.7422830769123931,
          1.545527709647746,
          -0.7771822405729585,
          1.0400750382376254,
          -1.6855965797420718,
          -1.4495282515512824,
          -0.2038630140221456,
          0.5565767167842305,
          0.6853447643542557,
          -2.1016656826691626,
          0.7968165469168353,
          -1.9742291602109332,
          0.015884797000142253,
          -0.33292686237909414,
          -0.28126192873968675,
          -1.164288982256235,
          0.9531908259029911,
          -0.9663699340304098,
          -0.1407555700606715,
          -0.8902939391432672,
          -0.883753820359266,
          -0.7646362892146369,
          -0.13566886289315494,
          -0.6504629597466766,
          0.46657048242165916,
          0.7078080387334367,
          0.3506441991444549,
          1.3062316775097684,
          0.7666951256814395,
          -2.1761057499896372,
          1.0886646387882366,
          0.1398003837228066,
          1.1774220915886786,
          -1.5628528424355201,
          -0.02078033990114364,
          0.2881795839775908,
          -0.45384339986760425,
          0.8287228776149175,
          -0.47309173198761245,
          0.9618766946968291,
          2.086699961485107,
          -0.3923203335643365,
          -0.3489396871594183,
          0.38009544401220324,
          -1.5582853190566033,
          -2.316080376858616,
          -0.04888223868916067,
          1.4508778558136317,
          -1.0698703039694686,
          0.3906557706873268,
          -1.296791643711909,
          -1.0090503122907404,
          0.9509049308922853,
          -0.02878651143711458
         ],
         "yaxis": "y5"
        },
        {
         "histfunc": "count",
         "histnorm": "",
         "marker": {
          "color": "rgba(55, 128, 191, 1.0)",
          "line": {
           "color": "#4D5663",
           "width": 1.3
          }
         },
         "name": "B",
         "nbinsx": 10,
         "opacity": 0.8,
         "orientation": "v",
         "type": "histogram",
         "x": [
          -0.5898979642836217,
          -1.7035606150240423,
          0.41195268107418087,
          1.1748195587973018,
          -0.2874381187037066,
          0.5750172963551519,
          -0.6918057201108602,
          1.175390395429051,
          -0.6050538557649577,
          0.0019096459897705962,
          -0.9231136810089464,
          -0.39323459451035514,
          2.244083134591712,
          -0.2882505022052697,
          0.2781543452345917,
          0.7078101611604473,
          0.10649678961373046,
          0.16738271233384605,
          -0.2463839532113507,
          1.895360391608483,
          0.5421372027154331,
          -0.6229051777303326,
          -0.10911768413612674,
          1.4985291313289495,
          0.46005062638417077,
          -1.5223404637630722,
          -0.8075314184354632,
          0.45644429253156205,
          -2.7984474908916193,
          -1.041201734145715,
          0.3375797120780502,
          0.7627293350558662,
          -0.4582718115207457,
          0.3293598357702051,
          0.46510675786566447,
          -3.4360205185224273,
          -1.3947339927310538,
          -0.5221562099881435,
          0.11844118831730661,
          -1.4766140798725693,
          0.19975507683724641,
          -0.9339711813555169,
          0.4620682372737366,
          -2.133616090565549,
          0.3832310677836281,
          0.7267988798691072,
          -0.7422830769123931,
          1.545527709647746,
          -0.7771822405729585,
          1.0400750382376254,
          -1.6855965797420718,
          -1.4495282515512824,
          -0.2038630140221456,
          0.5565767167842305,
          0.6853447643542557,
          -2.1016656826691626,
          0.7968165469168353,
          -1.9742291602109332,
          0.015884797000142253,
          -0.33292686237909414,
          -0.28126192873968675,
          -1.164288982256235,
          0.9531908259029911,
          -0.9663699340304098,
          -0.1407555700606715,
          -0.8902939391432672,
          -0.883753820359266,
          -0.7646362892146369,
          -0.13566886289315494,
          -0.6504629597466766,
          0.46657048242165916,
          0.7078080387334367,
          0.3506441991444549,
          1.3062316775097684,
          0.7666951256814395,
          -2.1761057499896372,
          1.0886646387882366,
          0.1398003837228066,
          1.1774220915886786,
          -1.5628528424355201,
          -0.02078033990114364,
          0.2881795839775908,
          -0.45384339986760425,
          0.8287228776149175,
          -0.47309173198761245,
          0.9618766946968291,
          2.086699961485107,
          -0.3923203335643365,
          -0.3489396871594183,
          0.38009544401220324,
          -1.5582853190566033,
          -2.316080376858616,
          -0.04888223868916067,
          1.4508778558136317,
          -1.0698703039694686,
          0.3906557706873268,
          -1.296791643711909,
          -1.0090503122907404,
          0.9509049308922853,
          -0.02878651143711458
         ],
         "xaxis": "x6",
         "yaxis": "y6"
        },
        {
         "line": {
          "color": "rgba(128, 128, 128, 1.0)",
          "dash": "solid",
          "shape": "linear",
          "width": 1.3
         },
         "marker": {
          "size": 2,
          "symbol": "circle"
         },
         "mode": "markers",
         "name": "B",
         "text": "",
         "type": "scatter",
         "x": [
          0.3563595190481723,
          0.5378580625673637,
          0.6173298842049206,
          0.21033550597258313,
          0.44595295816020464,
          0.04734465427785705,
          0.29451514142542107,
          -0.9104362947239052,
          -0.07368373573215535,
          -0.49009579808053116,
          -0.7516560112746027,
          -0.5218355203683539,
          1.0572321458187806,
          -0.19125214921783798,
          -0.8841145793948796,
          -2.3351823124441653,
          0.15341418212355862,
          -0.08823652936084907,
          -0.007883833663842916,
          -0.23585000687120442,
          0.9031303932803689,
          -0.19828958817470044,
          -0.4566188095966283,
          -0.04207055140836586,
          0.2606122258073981,
          0.582451791438679,
          -0.5150976508274104,
          -1.7002930623164572,
          0.927234615632159,
          -0.33999207269869747,
          1.2865951541218563,
          1.2052286004215986,
          -0.034560345581458735,
          -0.1965009735122464,
          0.5788489442796333,
          1.086961676923334,
          1.0517377487472919,
          -0.7778358913150859,
          -0.014333865174890886,
          -1.308274320048806,
          -1.019456586799028,
          1.7877339835004995,
          -0.29094327359053807,
          0.6471806866229206,
          -0.3917125919254808,
          -0.27322823899618803,
          1.094360822140504,
          0.9843093557171149,
          0.18072487387927072,
          0.7345787459591877,
          1.2031898005141421,
          0.6275078194912926,
          -0.3838280425665974,
          -0.11864517969486123,
          -1.0481010822032037,
          -0.13614210035050264,
          0.37261715026318526,
          0.2754932744602963,
          1.2566765340484616,
          -2.327316910825752,
          -0.0337140788528213,
          1.083572109682462,
          0.4020341114343595,
          -0.4476381375854337,
          -0.5479889019832572,
          -1.1601106017360991,
          0.9268847350783452,
          1.3062521338048927,
          2.3696307070086213,
          1.2939936462791204,
          -1.3474579967385054,
          0.7560208066533932,
          0.340328573525602,
          -0.3037446854112319,
          0.14992534941418062,
          0.6981484777917132,
          -1.600137624225199,
          -0.33559716548704815,
          -1.020606706556866,
          1.6218541220366733,
          0.5249322439679205,
          1.2645200714561968,
          -0.5997953207598887,
          -0.8667687617263371,
          0.34602584543690884,
          -0.1154494792571628,
          1.2234381967219794,
          0.4141928086174913,
          -0.49233108234498496,
          -0.34025603284701117,
          0.4300105000890438,
          1.2458895710075948,
          -0.14245016207378774,
          -0.30065296961149235,
          -0.7830309295774042,
          -0.4031855979781393,
          -0.4867573638752105,
          -0.9515469823851814,
          -0.14694131466044105,
          -1.3708606419981288
         ],
         "xaxis": "x7",
         "y": [
          -0.5898979642836217,
          -1.7035606150240423,
          0.41195268107418087,
          1.1748195587973018,
          -0.2874381187037066,
          0.5750172963551519,
          -0.6918057201108602,
          1.175390395429051,
          -0.6050538557649577,
          0.0019096459897705962,
          -0.9231136810089464,
          -0.39323459451035514,
          2.244083134591712,
          -0.2882505022052697,
          0.2781543452345917,
          0.7078101611604473,
          0.10649678961373046,
          0.16738271233384605,
          -0.2463839532113507,
          1.895360391608483,
          0.5421372027154331,
          -0.6229051777303326,
          -0.10911768413612674,
          1.4985291313289495,
          0.46005062638417077,
          -1.5223404637630722,
          -0.8075314184354632,
          0.45644429253156205,
          -2.7984474908916193,
          -1.041201734145715,
          0.3375797120780502,
          0.7627293350558662,
          -0.4582718115207457,
          0.3293598357702051,
          0.46510675786566447,
          -3.4360205185224273,
          -1.3947339927310538,
          -0.5221562099881435,
          0.11844118831730661,
          -1.4766140798725693,
          0.19975507683724641,
          -0.9339711813555169,
          0.4620682372737366,
          -2.133616090565549,
          0.3832310677836281,
          0.7267988798691072,
          -0.7422830769123931,
          1.545527709647746,
          -0.7771822405729585,
          1.0400750382376254,
          -1.6855965797420718,
          -1.4495282515512824,
          -0.2038630140221456,
          0.5565767167842305,
          0.6853447643542557,
          -2.1016656826691626,
          0.7968165469168353,
          -1.9742291602109332,
          0.015884797000142253,
          -0.33292686237909414,
          -0.28126192873968675,
          -1.164288982256235,
          0.9531908259029911,
          -0.9663699340304098,
          -0.1407555700606715,
          -0.8902939391432672,
          -0.883753820359266,
          -0.7646362892146369,
          -0.13566886289315494,
          -0.6504629597466766,
          0.46657048242165916,
          0.7078080387334367,
          0.3506441991444549,
          1.3062316775097684,
          0.7666951256814395,
          -2.1761057499896372,
          1.0886646387882366,
          0.1398003837228066,
          1.1774220915886786,
          -1.5628528424355201,
          -0.02078033990114364,
          0.2881795839775908,
          -0.45384339986760425,
          0.8287228776149175,
          -0.47309173198761245,
          0.9618766946968291,
          2.086699961485107,
          -0.3923203335643365,
          -0.3489396871594183,
          0.38009544401220324,
          -1.5582853190566033,
          -2.316080376858616,
          -0.04888223868916067,
          1.4508778558136317,
          -1.0698703039694686,
          0.3906557706873268,
          -1.296791643711909,
          -1.0090503122907404,
          0.9509049308922853,
          -0.02878651143711458
         ],
         "yaxis": "y7"
        },
        {
         "line": {
          "color": "rgba(128, 128, 128, 1.0)",
          "dash": "solid",
          "shape": "linear",
          "width": 1.3
         },
         "marker": {
          "size": 2,
          "symbol": "circle"
         },
         "mode": "markers",
         "name": "B",
         "text": "",
         "type": "scatter",
         "x": [
          -0.6815278090096228,
          0.6836545158540465,
          1.1605213141149195,
          -0.133052458115378,
          -2.979500348480578,
          -0.17772982983823818,
          0.33662075084103943,
          0.8237252349356241,
          1.2155185449253194,
          -0.07648790492327208,
          0.17557566222118365,
          1.4172786923625398,
          0.41023207422787317,
          0.4145840112629592,
          -0.953117960299787,
          1.3902345027918306,
          1.3114591275083565,
          0.37103721204853013,
          1.628584056249766,
          -0.4673707338263525,
          -1.1063509644652172,
          -1.2155338781292224,
          -1.2364022292687875,
          -1.6046087199475132,
          -0.42975066485651914,
          -0.6459359742825395,
          -0.011123596704090351,
          -0.6090853660218682,
          -0.34495894566061597,
          -1.3289599971268262,
          0.7160617352260024,
          -0.37536288095791126,
          -0.6598275895874195,
          -0.9102383622568297,
          -0.3907467067769348,
          2.2817547532041442,
          -0.6931662646971632,
          1.1980966518067875,
          -0.02004411852091231,
          -0.5752395136091221,
          1.2339878709992507,
          -0.2910186234388754,
          1.7759472267876908,
          -0.5431273262618557,
          0.05313825638943675,
          0.2529395777393483,
          0.6079683298852785,
          -0.30212749638410447,
          0.5929116743683776,
          0.6769126419051446,
          2.642585156974257,
          -0.7494424202356387,
          -0.28006733520712335,
          0.5042486184901078,
          0.47419946719610684,
          1.6040680901475013,
          0.973932341470313,
          -0.44950804122739146,
          0.007291868666570613,
          1.0692110221647848,
          -0.7914495847751928,
          -1.5324654850731874,
          -0.5050034502786495,
          -0.7957449591032016,
          0.7211054593963526,
          1.6239848914863952,
          -1.1889529552975984,
          -1.80725971645796,
          -0.1567435717692518,
          1.8863153428561543,
          -0.32596644920844425,
          -1.9491709247132945,
          -0.9943818222384481,
          1.3002735299490298,
          -0.2707542788536193,
          -1.6214993010961989,
          0.07197454848896413,
          0.7028756859541337,
          -1.3855443155607186,
          -0.9359776704337875,
          0.979856625282574,
          0.07954809091402387,
          0.3659749882479351,
          -1.167821128119484,
          -1.7564234558593752,
          -0.7426087044916253,
          0.7794977072509554,
          -0.19306460574406453,
          0.18558965551803455,
          2.579384339758135,
          -0.10036507426068357,
          2.0156085373107837,
          0.8077953402897897,
          0.05250687146482705,
          -1.097473699324034,
          -0.7407063456432476,
          0.7742610571080611,
          -1.087755049692921,
          -1.4286581098621647,
          -0.33755508978657744
         ],
         "xaxis": "x8",
         "y": [
          -0.5898979642836217,
          -1.7035606150240423,
          0.41195268107418087,
          1.1748195587973018,
          -0.2874381187037066,
          0.5750172963551519,
          -0.6918057201108602,
          1.175390395429051,
          -0.6050538557649577,
          0.0019096459897705962,
          -0.9231136810089464,
          -0.39323459451035514,
          2.244083134591712,
          -0.2882505022052697,
          0.2781543452345917,
          0.7078101611604473,
          0.10649678961373046,
          0.16738271233384605,
          -0.2463839532113507,
          1.895360391608483,
          0.5421372027154331,
          -0.6229051777303326,
          -0.10911768413612674,
          1.4985291313289495,
          0.46005062638417077,
          -1.5223404637630722,
          -0.8075314184354632,
          0.45644429253156205,
          -2.7984474908916193,
          -1.041201734145715,
          0.3375797120780502,
          0.7627293350558662,
          -0.4582718115207457,
          0.3293598357702051,
          0.46510675786566447,
          -3.4360205185224273,
          -1.3947339927310538,
          -0.5221562099881435,
          0.11844118831730661,
          -1.4766140798725693,
          0.19975507683724641,
          -0.9339711813555169,
          0.4620682372737366,
          -2.133616090565549,
          0.3832310677836281,
          0.7267988798691072,
          -0.7422830769123931,
          1.545527709647746,
          -0.7771822405729585,
          1.0400750382376254,
          -1.6855965797420718,
          -1.4495282515512824,
          -0.2038630140221456,
          0.5565767167842305,
          0.6853447643542557,
          -2.1016656826691626,
          0.7968165469168353,
          -1.9742291602109332,
          0.015884797000142253,
          -0.33292686237909414,
          -0.28126192873968675,
          -1.164288982256235,
          0.9531908259029911,
          -0.9663699340304098,
          -0.1407555700606715,
          -0.8902939391432672,
          -0.883753820359266,
          -0.7646362892146369,
          -0.13566886289315494,
          -0.6504629597466766,
          0.46657048242165916,
          0.7078080387334367,
          0.3506441991444549,
          1.3062316775097684,
          0.7666951256814395,
          -2.1761057499896372,
          1.0886646387882366,
          0.1398003837228066,
          1.1774220915886786,
          -1.5628528424355201,
          -0.02078033990114364,
          0.2881795839775908,
          -0.45384339986760425,
          0.8287228776149175,
          -0.47309173198761245,
          0.9618766946968291,
          2.086699961485107,
          -0.3923203335643365,
          -0.3489396871594183,
          0.38009544401220324,
          -1.5582853190566033,
          -2.316080376858616,
          -0.04888223868916067,
          1.4508778558136317,
          -1.0698703039694686,
          0.3906557706873268,
          -1.296791643711909,
          -1.0090503122907404,
          0.9509049308922853,
          -0.02878651143711458
         ],
         "yaxis": "y8"
        },
        {
         "line": {
          "color": "rgba(128, 128, 128, 1.0)",
          "dash": "solid",
          "shape": "linear",
          "width": 1.3
         },
         "marker": {
          "size": 2,
          "symbol": "circle"
         },
         "mode": "markers",
         "name": "C",
         "text": "",
         "type": "scatter",
         "x": [
          -1.1833147841107685,
          -1.7500193061567437,
          1.131725711797192,
          -0.4149990629871035,
          -0.5546323136266743,
          0.30716715349814916,
          0.9307409446318613,
          1.1827126886991306,
          -0.36277765018746844,
          -1.1575863885269426,
          -0.8378908404057034,
          -0.3912685021276453,
          -1.3589334660637948,
          -0.9289435721940565,
          -0.7124449800398088,
          -1.6065487619933794,
          2.332208250292037,
          0.8026240180457727,
          -0.3270519336517877,
          -0.23711569943831692,
          -1.1574596670571589,
          0.6356964428430179,
          -1.1519757857088226,
          -3.8820799601324034,
          0.7723161251731423,
          2.065264810943613,
          0.02000222388239315,
          0.3991394917296089,
          0.945535911129008,
          -1.204940020191649,
          0.2502984273434721,
          0.4384717934478959,
          -0.3157678412237403,
          0.6107843478312683,
          1.4209487036819728,
          0.8379028557999306,
          1.402820371959644,
          -0.7644680156984743,
          3.3499358837402666,
          -0.2794976581737439,
          0.7120731738683018,
          0.46511545582490277,
          0.2695328720433325,
          1.6056065472068564,
          -0.5389598099942599,
          1.5665773988947163,
          0.06510700987045681,
          0.5239553353008185,
          0.019203296036346764,
          -0.4421735345591453,
          0.14516936021065513,
          1.0355126831038233,
          -0.023036701246943896,
          1.0388811679514585,
          -0.20672847201013142,
          0.1716283164432814,
          -1.9380850409091082,
          -0.5851204532923052,
          -1.9757006147510012,
          0.34022601382222384,
          0.5079218681199503,
          0.7631189321743553,
          0.96306713033488,
          -0.8121233094405356,
          -0.9882153281714651,
          -0.4845284460071705,
          -0.02570082243243427,
          -0.03400268620872826,
          0.5047792802117658,
          -2.279607145438385,
          -0.07385901857965435,
          -1.1771511696616481,
          -0.100857518160516,
          1.0189389924248553,
          -1.6986752286473015,
          -2.2268426553186775,
          -0.9201106764549231,
          -1.060674427588634,
          0.7607522685667668,
          0.1235188485203996,
          0.046532648289906525,
          -1.1751332884820118,
          -0.4914839965164748,
          -1.7497373291544116,
          -0.3786193081224398,
          -0.13885120042759355,
          -0.6706094005349879,
          -0.38208822846680607,
          1.1451940523399124,
          -1.5857540722581318,
          1.0235693577972806,
          -1.2530876758385363,
          0.07528977828068915,
          -0.4156784952599241,
          -0.29874608294387867,
          0.48755629016495683,
          0.23878761796209058,
          -0.20848531744749169,
          -0.0689143672965231,
          1.2984345736949008
         ],
         "xaxis": "x9",
         "y": [
          0.3563595190481723,
          0.5378580625673637,
          0.6173298842049206,
          0.21033550597258313,
          0.44595295816020464,
          0.04734465427785705,
          0.29451514142542107,
          -0.9104362947239052,
          -0.07368373573215535,
          -0.49009579808053116,
          -0.7516560112746027,
          -0.5218355203683539,
          1.0572321458187806,
          -0.19125214921783798,
          -0.8841145793948796,
          -2.3351823124441653,
          0.15341418212355862,
          -0.08823652936084907,
          -0.007883833663842916,
          -0.23585000687120442,
          0.9031303932803689,
          -0.19828958817470044,
          -0.4566188095966283,
          -0.04207055140836586,
          0.2606122258073981,
          0.582451791438679,
          -0.5150976508274104,
          -1.7002930623164572,
          0.927234615632159,
          -0.33999207269869747,
          1.2865951541218563,
          1.2052286004215986,
          -0.034560345581458735,
          -0.1965009735122464,
          0.5788489442796333,
          1.086961676923334,
          1.0517377487472919,
          -0.7778358913150859,
          -0.014333865174890886,
          -1.308274320048806,
          -1.019456586799028,
          1.7877339835004995,
          -0.29094327359053807,
          0.6471806866229206,
          -0.3917125919254808,
          -0.27322823899618803,
          1.094360822140504,
          0.9843093557171149,
          0.18072487387927072,
          0.7345787459591877,
          1.2031898005141421,
          0.6275078194912926,
          -0.3838280425665974,
          -0.11864517969486123,
          -1.0481010822032037,
          -0.13614210035050264,
          0.37261715026318526,
          0.2754932744602963,
          1.2566765340484616,
          -2.327316910825752,
          -0.0337140788528213,
          1.083572109682462,
          0.4020341114343595,
          -0.4476381375854337,
          -0.5479889019832572,
          -1.1601106017360991,
          0.9268847350783452,
          1.3062521338048927,
          2.3696307070086213,
          1.2939936462791204,
          -1.3474579967385054,
          0.7560208066533932,
          0.340328573525602,
          -0.3037446854112319,
          0.14992534941418062,
          0.6981484777917132,
          -1.600137624225199,
          -0.33559716548704815,
          -1.020606706556866,
          1.6218541220366733,
          0.5249322439679205,
          1.2645200714561968,
          -0.5997953207598887,
          -0.8667687617263371,
          0.34602584543690884,
          -0.1154494792571628,
          1.2234381967219794,
          0.4141928086174913,
          -0.49233108234498496,
          -0.34025603284701117,
          0.4300105000890438,
          1.2458895710075948,
          -0.14245016207378774,
          -0.30065296961149235,
          -0.7830309295774042,
          -0.4031855979781393,
          -0.4867573638752105,
          -0.9515469823851814,
          -0.14694131466044105,
          -1.3708606419981288
         ],
         "yaxis": "y9"
        },
        {
         "line": {
          "color": "rgba(128, 128, 128, 1.0)",
          "dash": "solid",
          "shape": "linear",
          "width": 1.3
         },
         "marker": {
          "size": 2,
          "symbol": "circle"
         },
         "mode": "markers",
         "name": "C",
         "text": "",
         "type": "scatter",
         "x": [
          -0.5898979642836217,
          -1.7035606150240423,
          0.41195268107418087,
          1.1748195587973018,
          -0.2874381187037066,
          0.5750172963551519,
          -0.6918057201108602,
          1.175390395429051,
          -0.6050538557649577,
          0.0019096459897705962,
          -0.9231136810089464,
          -0.39323459451035514,
          2.244083134591712,
          -0.2882505022052697,
          0.2781543452345917,
          0.7078101611604473,
          0.10649678961373046,
          0.16738271233384605,
          -0.2463839532113507,
          1.895360391608483,
          0.5421372027154331,
          -0.6229051777303326,
          -0.10911768413612674,
          1.4985291313289495,
          0.46005062638417077,
          -1.5223404637630722,
          -0.8075314184354632,
          0.45644429253156205,
          -2.7984474908916193,
          -1.041201734145715,
          0.3375797120780502,
          0.7627293350558662,
          -0.4582718115207457,
          0.3293598357702051,
          0.46510675786566447,
          -3.4360205185224273,
          -1.3947339927310538,
          -0.5221562099881435,
          0.11844118831730661,
          -1.4766140798725693,
          0.19975507683724641,
          -0.9339711813555169,
          0.4620682372737366,
          -2.133616090565549,
          0.3832310677836281,
          0.7267988798691072,
          -0.7422830769123931,
          1.545527709647746,
          -0.7771822405729585,
          1.0400750382376254,
          -1.6855965797420718,
          -1.4495282515512824,
          -0.2038630140221456,
          0.5565767167842305,
          0.6853447643542557,
          -2.1016656826691626,
          0.7968165469168353,
          -1.9742291602109332,
          0.015884797000142253,
          -0.33292686237909414,
          -0.28126192873968675,
          -1.164288982256235,
          0.9531908259029911,
          -0.9663699340304098,
          -0.1407555700606715,
          -0.8902939391432672,
          -0.883753820359266,
          -0.7646362892146369,
          -0.13566886289315494,
          -0.6504629597466766,
          0.46657048242165916,
          0.7078080387334367,
          0.3506441991444549,
          1.3062316775097684,
          0.7666951256814395,
          -2.1761057499896372,
          1.0886646387882366,
          0.1398003837228066,
          1.1774220915886786,
          -1.5628528424355201,
          -0.02078033990114364,
          0.2881795839775908,
          -0.45384339986760425,
          0.8287228776149175,
          -0.47309173198761245,
          0.9618766946968291,
          2.086699961485107,
          -0.3923203335643365,
          -0.3489396871594183,
          0.38009544401220324,
          -1.5582853190566033,
          -2.316080376858616,
          -0.04888223868916067,
          1.4508778558136317,
          -1.0698703039694686,
          0.3906557706873268,
          -1.296791643711909,
          -1.0090503122907404,
          0.9509049308922853,
          -0.02878651143711458
         ],
         "xaxis": "x10",
         "y": [
          0.3563595190481723,
          0.5378580625673637,
          0.6173298842049206,
          0.21033550597258313,
          0.44595295816020464,
          0.04734465427785705,
          0.29451514142542107,
          -0.9104362947239052,
          -0.07368373573215535,
          -0.49009579808053116,
          -0.7516560112746027,
          -0.5218355203683539,
          1.0572321458187806,
          -0.19125214921783798,
          -0.8841145793948796,
          -2.3351823124441653,
          0.15341418212355862,
          -0.08823652936084907,
          -0.007883833663842916,
          -0.23585000687120442,
          0.9031303932803689,
          -0.19828958817470044,
          -0.4566188095966283,
          -0.04207055140836586,
          0.2606122258073981,
          0.582451791438679,
          -0.5150976508274104,
          -1.7002930623164572,
          0.927234615632159,
          -0.33999207269869747,
          1.2865951541218563,
          1.2052286004215986,
          -0.034560345581458735,
          -0.1965009735122464,
          0.5788489442796333,
          1.086961676923334,
          1.0517377487472919,
          -0.7778358913150859,
          -0.014333865174890886,
          -1.308274320048806,
          -1.019456586799028,
          1.7877339835004995,
          -0.29094327359053807,
          0.6471806866229206,
          -0.3917125919254808,
          -0.27322823899618803,
          1.094360822140504,
          0.9843093557171149,
          0.18072487387927072,
          0.7345787459591877,
          1.2031898005141421,
          0.6275078194912926,
          -0.3838280425665974,
          -0.11864517969486123,
          -1.0481010822032037,
          -0.13614210035050264,
          0.37261715026318526,
          0.2754932744602963,
          1.2566765340484616,
          -2.327316910825752,
          -0.0337140788528213,
          1.083572109682462,
          0.4020341114343595,
          -0.4476381375854337,
          -0.5479889019832572,
          -1.1601106017360991,
          0.9268847350783452,
          1.3062521338048927,
          2.3696307070086213,
          1.2939936462791204,
          -1.3474579967385054,
          0.7560208066533932,
          0.340328573525602,
          -0.3037446854112319,
          0.14992534941418062,
          0.6981484777917132,
          -1.600137624225199,
          -0.33559716548704815,
          -1.020606706556866,
          1.6218541220366733,
          0.5249322439679205,
          1.2645200714561968,
          -0.5997953207598887,
          -0.8667687617263371,
          0.34602584543690884,
          -0.1154494792571628,
          1.2234381967219794,
          0.4141928086174913,
          -0.49233108234498496,
          -0.34025603284701117,
          0.4300105000890438,
          1.2458895710075948,
          -0.14245016207378774,
          -0.30065296961149235,
          -0.7830309295774042,
          -0.4031855979781393,
          -0.4867573638752105,
          -0.9515469823851814,
          -0.14694131466044105,
          -1.3708606419981288
         ],
         "yaxis": "y10"
        },
        {
         "histfunc": "count",
         "histnorm": "",
         "marker": {
          "color": "rgba(50, 171, 96, 1.0)",
          "line": {
           "color": "#4D5663",
           "width": 1.3
          }
         },
         "name": "C",
         "nbinsx": 10,
         "opacity": 0.8,
         "orientation": "v",
         "type": "histogram",
         "x": [
          0.3563595190481723,
          0.5378580625673637,
          0.6173298842049206,
          0.21033550597258313,
          0.44595295816020464,
          0.04734465427785705,
          0.29451514142542107,
          -0.9104362947239052,
          -0.07368373573215535,
          -0.49009579808053116,
          -0.7516560112746027,
          -0.5218355203683539,
          1.0572321458187806,
          -0.19125214921783798,
          -0.8841145793948796,
          -2.3351823124441653,
          0.15341418212355862,
          -0.08823652936084907,
          -0.007883833663842916,
          -0.23585000687120442,
          0.9031303932803689,
          -0.19828958817470044,
          -0.4566188095966283,
          -0.04207055140836586,
          0.2606122258073981,
          0.582451791438679,
          -0.5150976508274104,
          -1.7002930623164572,
          0.927234615632159,
          -0.33999207269869747,
          1.2865951541218563,
          1.2052286004215986,
          -0.034560345581458735,
          -0.1965009735122464,
          0.5788489442796333,
          1.086961676923334,
          1.0517377487472919,
          -0.7778358913150859,
          -0.014333865174890886,
          -1.308274320048806,
          -1.019456586799028,
          1.7877339835004995,
          -0.29094327359053807,
          0.6471806866229206,
          -0.3917125919254808,
          -0.27322823899618803,
          1.094360822140504,
          0.9843093557171149,
          0.18072487387927072,
          0.7345787459591877,
          1.2031898005141421,
          0.6275078194912926,
          -0.3838280425665974,
          -0.11864517969486123,
          -1.0481010822032037,
          -0.13614210035050264,
          0.37261715026318526,
          0.2754932744602963,
          1.2566765340484616,
          -2.327316910825752,
          -0.0337140788528213,
          1.083572109682462,
          0.4020341114343595,
          -0.4476381375854337,
          -0.5479889019832572,
          -1.1601106017360991,
          0.9268847350783452,
          1.3062521338048927,
          2.3696307070086213,
          1.2939936462791204,
          -1.3474579967385054,
          0.7560208066533932,
          0.340328573525602,
          -0.3037446854112319,
          0.14992534941418062,
          0.6981484777917132,
          -1.600137624225199,
          -0.33559716548704815,
          -1.020606706556866,
          1.6218541220366733,
          0.5249322439679205,
          1.2645200714561968,
          -0.5997953207598887,
          -0.8667687617263371,
          0.34602584543690884,
          -0.1154494792571628,
          1.2234381967219794,
          0.4141928086174913,
          -0.49233108234498496,
          -0.34025603284701117,
          0.4300105000890438,
          1.2458895710075948,
          -0.14245016207378774,
          -0.30065296961149235,
          -0.7830309295774042,
          -0.4031855979781393,
          -0.4867573638752105,
          -0.9515469823851814,
          -0.14694131466044105,
          -1.3708606419981288
         ],
         "xaxis": "x11",
         "yaxis": "y11"
        },
        {
         "line": {
          "color": "rgba(128, 128, 128, 1.0)",
          "dash": "solid",
          "shape": "linear",
          "width": 1.3
         },
         "marker": {
          "size": 2,
          "symbol": "circle"
         },
         "mode": "markers",
         "name": "C",
         "text": "",
         "type": "scatter",
         "x": [
          -0.6815278090096228,
          0.6836545158540465,
          1.1605213141149195,
          -0.133052458115378,
          -2.979500348480578,
          -0.17772982983823818,
          0.33662075084103943,
          0.8237252349356241,
          1.2155185449253194,
          -0.07648790492327208,
          0.17557566222118365,
          1.4172786923625398,
          0.41023207422787317,
          0.4145840112629592,
          -0.953117960299787,
          1.3902345027918306,
          1.3114591275083565,
          0.37103721204853013,
          1.628584056249766,
          -0.4673707338263525,
          -1.1063509644652172,
          -1.2155338781292224,
          -1.2364022292687875,
          -1.6046087199475132,
          -0.42975066485651914,
          -0.6459359742825395,
          -0.011123596704090351,
          -0.6090853660218682,
          -0.34495894566061597,
          -1.3289599971268262,
          0.7160617352260024,
          -0.37536288095791126,
          -0.6598275895874195,
          -0.9102383622568297,
          -0.3907467067769348,
          2.2817547532041442,
          -0.6931662646971632,
          1.1980966518067875,
          -0.02004411852091231,
          -0.5752395136091221,
          1.2339878709992507,
          -0.2910186234388754,
          1.7759472267876908,
          -0.5431273262618557,
          0.05313825638943675,
          0.2529395777393483,
          0.6079683298852785,
          -0.30212749638410447,
          0.5929116743683776,
          0.6769126419051446,
          2.642585156974257,
          -0.7494424202356387,
          -0.28006733520712335,
          0.5042486184901078,
          0.47419946719610684,
          1.6040680901475013,
          0.973932341470313,
          -0.44950804122739146,
          0.007291868666570613,
          1.0692110221647848,
          -0.7914495847751928,
          -1.5324654850731874,
          -0.5050034502786495,
          -0.7957449591032016,
          0.7211054593963526,
          1.6239848914863952,
          -1.1889529552975984,
          -1.80725971645796,
          -0.1567435717692518,
          1.8863153428561543,
          -0.32596644920844425,
          -1.9491709247132945,
          -0.9943818222384481,
          1.3002735299490298,
          -0.2707542788536193,
          -1.6214993010961989,
          0.07197454848896413,
          0.7028756859541337,
          -1.3855443155607186,
          -0.9359776704337875,
          0.979856625282574,
          0.07954809091402387,
          0.3659749882479351,
          -1.167821128119484,
          -1.7564234558593752,
          -0.7426087044916253,
          0.7794977072509554,
          -0.19306460574406453,
          0.18558965551803455,
          2.579384339758135,
          -0.10036507426068357,
          2.0156085373107837,
          0.8077953402897897,
          0.05250687146482705,
          -1.097473699324034,
          -0.7407063456432476,
          0.7742610571080611,
          -1.087755049692921,
          -1.4286581098621647,
          -0.33755508978657744
         ],
         "xaxis": "x12",
         "y": [
          0.3563595190481723,
          0.5378580625673637,
          0.6173298842049206,
          0.21033550597258313,
          0.44595295816020464,
          0.04734465427785705,
          0.29451514142542107,
          -0.9104362947239052,
          -0.07368373573215535,
          -0.49009579808053116,
          -0.7516560112746027,
          -0.5218355203683539,
          1.0572321458187806,
          -0.19125214921783798,
          -0.8841145793948796,
          -2.3351823124441653,
          0.15341418212355862,
          -0.08823652936084907,
          -0.007883833663842916,
          -0.23585000687120442,
          0.9031303932803689,
          -0.19828958817470044,
          -0.4566188095966283,
          -0.04207055140836586,
          0.2606122258073981,
          0.582451791438679,
          -0.5150976508274104,
          -1.7002930623164572,
          0.927234615632159,
          -0.33999207269869747,
          1.2865951541218563,
          1.2052286004215986,
          -0.034560345581458735,
          -0.1965009735122464,
          0.5788489442796333,
          1.086961676923334,
          1.0517377487472919,
          -0.7778358913150859,
          -0.014333865174890886,
          -1.308274320048806,
          -1.019456586799028,
          1.7877339835004995,
          -0.29094327359053807,
          0.6471806866229206,
          -0.3917125919254808,
          -0.27322823899618803,
          1.094360822140504,
          0.9843093557171149,
          0.18072487387927072,
          0.7345787459591877,
          1.2031898005141421,
          0.6275078194912926,
          -0.3838280425665974,
          -0.11864517969486123,
          -1.0481010822032037,
          -0.13614210035050264,
          0.37261715026318526,
          0.2754932744602963,
          1.2566765340484616,
          -2.327316910825752,
          -0.0337140788528213,
          1.083572109682462,
          0.4020341114343595,
          -0.4476381375854337,
          -0.5479889019832572,
          -1.1601106017360991,
          0.9268847350783452,
          1.3062521338048927,
          2.3696307070086213,
          1.2939936462791204,
          -1.3474579967385054,
          0.7560208066533932,
          0.340328573525602,
          -0.3037446854112319,
          0.14992534941418062,
          0.6981484777917132,
          -1.600137624225199,
          -0.33559716548704815,
          -1.020606706556866,
          1.6218541220366733,
          0.5249322439679205,
          1.2645200714561968,
          -0.5997953207598887,
          -0.8667687617263371,
          0.34602584543690884,
          -0.1154494792571628,
          1.2234381967219794,
          0.4141928086174913,
          -0.49233108234498496,
          -0.34025603284701117,
          0.4300105000890438,
          1.2458895710075948,
          -0.14245016207378774,
          -0.30065296961149235,
          -0.7830309295774042,
          -0.4031855979781393,
          -0.4867573638752105,
          -0.9515469823851814,
          -0.14694131466044105,
          -1.3708606419981288
         ],
         "yaxis": "y12"
        },
        {
         "line": {
          "color": "rgba(128, 128, 128, 1.0)",
          "dash": "solid",
          "shape": "linear",
          "width": 1.3
         },
         "marker": {
          "size": 2,
          "symbol": "circle"
         },
         "mode": "markers",
         "name": "D",
         "text": "",
         "type": "scatter",
         "x": [
          -1.1833147841107685,
          -1.7500193061567437,
          1.131725711797192,
          -0.4149990629871035,
          -0.5546323136266743,
          0.30716715349814916,
          0.9307409446318613,
          1.1827126886991306,
          -0.36277765018746844,
          -1.1575863885269426,
          -0.8378908404057034,
          -0.3912685021276453,
          -1.3589334660637948,
          -0.9289435721940565,
          -0.7124449800398088,
          -1.6065487619933794,
          2.332208250292037,
          0.8026240180457727,
          -0.3270519336517877,
          -0.23711569943831692,
          -1.1574596670571589,
          0.6356964428430179,
          -1.1519757857088226,
          -3.8820799601324034,
          0.7723161251731423,
          2.065264810943613,
          0.02000222388239315,
          0.3991394917296089,
          0.945535911129008,
          -1.204940020191649,
          0.2502984273434721,
          0.4384717934478959,
          -0.3157678412237403,
          0.6107843478312683,
          1.4209487036819728,
          0.8379028557999306,
          1.402820371959644,
          -0.7644680156984743,
          3.3499358837402666,
          -0.2794976581737439,
          0.7120731738683018,
          0.46511545582490277,
          0.2695328720433325,
          1.6056065472068564,
          -0.5389598099942599,
          1.5665773988947163,
          0.06510700987045681,
          0.5239553353008185,
          0.019203296036346764,
          -0.4421735345591453,
          0.14516936021065513,
          1.0355126831038233,
          -0.023036701246943896,
          1.0388811679514585,
          -0.20672847201013142,
          0.1716283164432814,
          -1.9380850409091082,
          -0.5851204532923052,
          -1.9757006147510012,
          0.34022601382222384,
          0.5079218681199503,
          0.7631189321743553,
          0.96306713033488,
          -0.8121233094405356,
          -0.9882153281714651,
          -0.4845284460071705,
          -0.02570082243243427,
          -0.03400268620872826,
          0.5047792802117658,
          -2.279607145438385,
          -0.07385901857965435,
          -1.1771511696616481,
          -0.100857518160516,
          1.0189389924248553,
          -1.6986752286473015,
          -2.2268426553186775,
          -0.9201106764549231,
          -1.060674427588634,
          0.7607522685667668,
          0.1235188485203996,
          0.046532648289906525,
          -1.1751332884820118,
          -0.4914839965164748,
          -1.7497373291544116,
          -0.3786193081224398,
          -0.13885120042759355,
          -0.6706094005349879,
          -0.38208822846680607,
          1.1451940523399124,
          -1.5857540722581318,
          1.0235693577972806,
          -1.2530876758385363,
          0.07528977828068915,
          -0.4156784952599241,
          -0.29874608294387867,
          0.48755629016495683,
          0.23878761796209058,
          -0.20848531744749169,
          -0.0689143672965231,
          1.2984345736949008
         ],
         "xaxis": "x13",
         "y": [
          -0.6815278090096228,
          0.6836545158540465,
          1.1605213141149195,
          -0.133052458115378,
          -2.979500348480578,
          -0.17772982983823818,
          0.33662075084103943,
          0.8237252349356241,
          1.2155185449253194,
          -0.07648790492327208,
          0.17557566222118365,
          1.4172786923625398,
          0.41023207422787317,
          0.4145840112629592,
          -0.953117960299787,
          1.3902345027918306,
          1.3114591275083565,
          0.37103721204853013,
          1.628584056249766,
          -0.4673707338263525,
          -1.1063509644652172,
          -1.2155338781292224,
          -1.2364022292687875,
          -1.6046087199475132,
          -0.42975066485651914,
          -0.6459359742825395,
          -0.011123596704090351,
          -0.6090853660218682,
          -0.34495894566061597,
          -1.3289599971268262,
          0.7160617352260024,
          -0.37536288095791126,
          -0.6598275895874195,
          -0.9102383622568297,
          -0.3907467067769348,
          2.2817547532041442,
          -0.6931662646971632,
          1.1980966518067875,
          -0.02004411852091231,
          -0.5752395136091221,
          1.2339878709992507,
          -0.2910186234388754,
          1.7759472267876908,
          -0.5431273262618557,
          0.05313825638943675,
          0.2529395777393483,
          0.6079683298852785,
          -0.30212749638410447,
          0.5929116743683776,
          0.6769126419051446,
          2.642585156974257,
          -0.7494424202356387,
          -0.28006733520712335,
          0.5042486184901078,
          0.47419946719610684,
          1.6040680901475013,
          0.973932341470313,
          -0.44950804122739146,
          0.007291868666570613,
          1.0692110221647848,
          -0.7914495847751928,
          -1.5324654850731874,
          -0.5050034502786495,
          -0.7957449591032016,
          0.7211054593963526,
          1.6239848914863952,
          -1.1889529552975984,
          -1.80725971645796,
          -0.1567435717692518,
          1.8863153428561543,
          -0.32596644920844425,
          -1.9491709247132945,
          -0.9943818222384481,
          1.3002735299490298,
          -0.2707542788536193,
          -1.6214993010961989,
          0.07197454848896413,
          0.7028756859541337,
          -1.3855443155607186,
          -0.9359776704337875,
          0.979856625282574,
          0.07954809091402387,
          0.3659749882479351,
          -1.167821128119484,
          -1.7564234558593752,
          -0.7426087044916253,
          0.7794977072509554,
          -0.19306460574406453,
          0.18558965551803455,
          2.579384339758135,
          -0.10036507426068357,
          2.0156085373107837,
          0.8077953402897897,
          0.05250687146482705,
          -1.097473699324034,
          -0.7407063456432476,
          0.7742610571080611,
          -1.087755049692921,
          -1.4286581098621647,
          -0.33755508978657744
         ],
         "yaxis": "y13"
        },
        {
         "line": {
          "color": "rgba(128, 128, 128, 1.0)",
          "dash": "solid",
          "shape": "linear",
          "width": 1.3
         },
         "marker": {
          "size": 2,
          "symbol": "circle"
         },
         "mode": "markers",
         "name": "D",
         "text": "",
         "type": "scatter",
         "x": [
          -0.5898979642836217,
          -1.7035606150240423,
          0.41195268107418087,
          1.1748195587973018,
          -0.2874381187037066,
          0.5750172963551519,
          -0.6918057201108602,
          1.175390395429051,
          -0.6050538557649577,
          0.0019096459897705962,
          -0.9231136810089464,
          -0.39323459451035514,
          2.244083134591712,
          -0.2882505022052697,
          0.2781543452345917,
          0.7078101611604473,
          0.10649678961373046,
          0.16738271233384605,
          -0.2463839532113507,
          1.895360391608483,
          0.5421372027154331,
          -0.6229051777303326,
          -0.10911768413612674,
          1.4985291313289495,
          0.46005062638417077,
          -1.5223404637630722,
          -0.8075314184354632,
          0.45644429253156205,
          -2.7984474908916193,
          -1.041201734145715,
          0.3375797120780502,
          0.7627293350558662,
          -0.4582718115207457,
          0.3293598357702051,
          0.46510675786566447,
          -3.4360205185224273,
          -1.3947339927310538,
          -0.5221562099881435,
          0.11844118831730661,
          -1.4766140798725693,
          0.19975507683724641,
          -0.9339711813555169,
          0.4620682372737366,
          -2.133616090565549,
          0.3832310677836281,
          0.7267988798691072,
          -0.7422830769123931,
          1.545527709647746,
          -0.7771822405729585,
          1.0400750382376254,
          -1.6855965797420718,
          -1.4495282515512824,
          -0.2038630140221456,
          0.5565767167842305,
          0.6853447643542557,
          -2.1016656826691626,
          0.7968165469168353,
          -1.9742291602109332,
          0.015884797000142253,
          -0.33292686237909414,
          -0.28126192873968675,
          -1.164288982256235,
          0.9531908259029911,
          -0.9663699340304098,
          -0.1407555700606715,
          -0.8902939391432672,
          -0.883753820359266,
          -0.7646362892146369,
          -0.13566886289315494,
          -0.6504629597466766,
          0.46657048242165916,
          0.7078080387334367,
          0.3506441991444549,
          1.3062316775097684,
          0.7666951256814395,
          -2.1761057499896372,
          1.0886646387882366,
          0.1398003837228066,
          1.1774220915886786,
          -1.5628528424355201,
          -0.02078033990114364,
          0.2881795839775908,
          -0.45384339986760425,
          0.8287228776149175,
          -0.47309173198761245,
          0.9618766946968291,
          2.086699961485107,
          -0.3923203335643365,
          -0.3489396871594183,
          0.38009544401220324,
          -1.5582853190566033,
          -2.316080376858616,
          -0.04888223868916067,
          1.4508778558136317,
          -1.0698703039694686,
          0.3906557706873268,
          -1.296791643711909,
          -1.0090503122907404,
          0.9509049308922853,
          -0.02878651143711458
         ],
         "xaxis": "x14",
         "y": [
          -0.6815278090096228,
          0.6836545158540465,
          1.1605213141149195,
          -0.133052458115378,
          -2.979500348480578,
          -0.17772982983823818,
          0.33662075084103943,
          0.8237252349356241,
          1.2155185449253194,
          -0.07648790492327208,
          0.17557566222118365,
          1.4172786923625398,
          0.41023207422787317,
          0.4145840112629592,
          -0.953117960299787,
          1.3902345027918306,
          1.3114591275083565,
          0.37103721204853013,
          1.628584056249766,
          -0.4673707338263525,
          -1.1063509644652172,
          -1.2155338781292224,
          -1.2364022292687875,
          -1.6046087199475132,
          -0.42975066485651914,
          -0.6459359742825395,
          -0.011123596704090351,
          -0.6090853660218682,
          -0.34495894566061597,
          -1.3289599971268262,
          0.7160617352260024,
          -0.37536288095791126,
          -0.6598275895874195,
          -0.9102383622568297,
          -0.3907467067769348,
          2.2817547532041442,
          -0.6931662646971632,
          1.1980966518067875,
          -0.02004411852091231,
          -0.5752395136091221,
          1.2339878709992507,
          -0.2910186234388754,
          1.7759472267876908,
          -0.5431273262618557,
          0.05313825638943675,
          0.2529395777393483,
          0.6079683298852785,
          -0.30212749638410447,
          0.5929116743683776,
          0.6769126419051446,
          2.642585156974257,
          -0.7494424202356387,
          -0.28006733520712335,
          0.5042486184901078,
          0.47419946719610684,
          1.6040680901475013,
          0.973932341470313,
          -0.44950804122739146,
          0.007291868666570613,
          1.0692110221647848,
          -0.7914495847751928,
          -1.5324654850731874,
          -0.5050034502786495,
          -0.7957449591032016,
          0.7211054593963526,
          1.6239848914863952,
          -1.1889529552975984,
          -1.80725971645796,
          -0.1567435717692518,
          1.8863153428561543,
          -0.32596644920844425,
          -1.9491709247132945,
          -0.9943818222384481,
          1.3002735299490298,
          -0.2707542788536193,
          -1.6214993010961989,
          0.07197454848896413,
          0.7028756859541337,
          -1.3855443155607186,
          -0.9359776704337875,
          0.979856625282574,
          0.07954809091402387,
          0.3659749882479351,
          -1.167821128119484,
          -1.7564234558593752,
          -0.7426087044916253,
          0.7794977072509554,
          -0.19306460574406453,
          0.18558965551803455,
          2.579384339758135,
          -0.10036507426068357,
          2.0156085373107837,
          0.8077953402897897,
          0.05250687146482705,
          -1.097473699324034,
          -0.7407063456432476,
          0.7742610571080611,
          -1.087755049692921,
          -1.4286581098621647,
          -0.33755508978657744
         ],
         "yaxis": "y14"
        },
        {
         "line": {
          "color": "rgba(128, 128, 128, 1.0)",
          "dash": "solid",
          "shape": "linear",
          "width": 1.3
         },
         "marker": {
          "size": 2,
          "symbol": "circle"
         },
         "mode": "markers",
         "name": "D",
         "text": "",
         "type": "scatter",
         "x": [
          0.3563595190481723,
          0.5378580625673637,
          0.6173298842049206,
          0.21033550597258313,
          0.44595295816020464,
          0.04734465427785705,
          0.29451514142542107,
          -0.9104362947239052,
          -0.07368373573215535,
          -0.49009579808053116,
          -0.7516560112746027,
          -0.5218355203683539,
          1.0572321458187806,
          -0.19125214921783798,
          -0.8841145793948796,
          -2.3351823124441653,
          0.15341418212355862,
          -0.08823652936084907,
          -0.007883833663842916,
          -0.23585000687120442,
          0.9031303932803689,
          -0.19828958817470044,
          -0.4566188095966283,
          -0.04207055140836586,
          0.2606122258073981,
          0.582451791438679,
          -0.5150976508274104,
          -1.7002930623164572,
          0.927234615632159,
          -0.33999207269869747,
          1.2865951541218563,
          1.2052286004215986,
          -0.034560345581458735,
          -0.1965009735122464,
          0.5788489442796333,
          1.086961676923334,
          1.0517377487472919,
          -0.7778358913150859,
          -0.014333865174890886,
          -1.308274320048806,
          -1.019456586799028,
          1.7877339835004995,
          -0.29094327359053807,
          0.6471806866229206,
          -0.3917125919254808,
          -0.27322823899618803,
          1.094360822140504,
          0.9843093557171149,
          0.18072487387927072,
          0.7345787459591877,
          1.2031898005141421,
          0.6275078194912926,
          -0.3838280425665974,
          -0.11864517969486123,
          -1.0481010822032037,
          -0.13614210035050264,
          0.37261715026318526,
          0.2754932744602963,
          1.2566765340484616,
          -2.327316910825752,
          -0.0337140788528213,
          1.083572109682462,
          0.4020341114343595,
          -0.4476381375854337,
          -0.5479889019832572,
          -1.1601106017360991,
          0.9268847350783452,
          1.3062521338048927,
          2.3696307070086213,
          1.2939936462791204,
          -1.3474579967385054,
          0.7560208066533932,
          0.340328573525602,
          -0.3037446854112319,
          0.14992534941418062,
          0.6981484777917132,
          -1.600137624225199,
          -0.33559716548704815,
          -1.020606706556866,
          1.6218541220366733,
          0.5249322439679205,
          1.2645200714561968,
          -0.5997953207598887,
          -0.8667687617263371,
          0.34602584543690884,
          -0.1154494792571628,
          1.2234381967219794,
          0.4141928086174913,
          -0.49233108234498496,
          -0.34025603284701117,
          0.4300105000890438,
          1.2458895710075948,
          -0.14245016207378774,
          -0.30065296961149235,
          -0.7830309295774042,
          -0.4031855979781393,
          -0.4867573638752105,
          -0.9515469823851814,
          -0.14694131466044105,
          -1.3708606419981288
         ],
         "xaxis": "x15",
         "y": [
          -0.6815278090096228,
          0.6836545158540465,
          1.1605213141149195,
          -0.133052458115378,
          -2.979500348480578,
          -0.17772982983823818,
          0.33662075084103943,
          0.8237252349356241,
          1.2155185449253194,
          -0.07648790492327208,
          0.17557566222118365,
          1.4172786923625398,
          0.41023207422787317,
          0.4145840112629592,
          -0.953117960299787,
          1.3902345027918306,
          1.3114591275083565,
          0.37103721204853013,
          1.628584056249766,
          -0.4673707338263525,
          -1.1063509644652172,
          -1.2155338781292224,
          -1.2364022292687875,
          -1.6046087199475132,
          -0.42975066485651914,
          -0.6459359742825395,
          -0.011123596704090351,
          -0.6090853660218682,
          -0.34495894566061597,
          -1.3289599971268262,
          0.7160617352260024,
          -0.37536288095791126,
          -0.6598275895874195,
          -0.9102383622568297,
          -0.3907467067769348,
          2.2817547532041442,
          -0.6931662646971632,
          1.1980966518067875,
          -0.02004411852091231,
          -0.5752395136091221,
          1.2339878709992507,
          -0.2910186234388754,
          1.7759472267876908,
          -0.5431273262618557,
          0.05313825638943675,
          0.2529395777393483,
          0.6079683298852785,
          -0.30212749638410447,
          0.5929116743683776,
          0.6769126419051446,
          2.642585156974257,
          -0.7494424202356387,
          -0.28006733520712335,
          0.5042486184901078,
          0.47419946719610684,
          1.6040680901475013,
          0.973932341470313,
          -0.44950804122739146,
          0.007291868666570613,
          1.0692110221647848,
          -0.7914495847751928,
          -1.5324654850731874,
          -0.5050034502786495,
          -0.7957449591032016,
          0.7211054593963526,
          1.6239848914863952,
          -1.1889529552975984,
          -1.80725971645796,
          -0.1567435717692518,
          1.8863153428561543,
          -0.32596644920844425,
          -1.9491709247132945,
          -0.9943818222384481,
          1.3002735299490298,
          -0.2707542788536193,
          -1.6214993010961989,
          0.07197454848896413,
          0.7028756859541337,
          -1.3855443155607186,
          -0.9359776704337875,
          0.979856625282574,
          0.07954809091402387,
          0.3659749882479351,
          -1.167821128119484,
          -1.7564234558593752,
          -0.7426087044916253,
          0.7794977072509554,
          -0.19306460574406453,
          0.18558965551803455,
          2.579384339758135,
          -0.10036507426068357,
          2.0156085373107837,
          0.8077953402897897,
          0.05250687146482705,
          -1.097473699324034,
          -0.7407063456432476,
          0.7742610571080611,
          -1.087755049692921,
          -1.4286581098621647,
          -0.33755508978657744
         ],
         "yaxis": "y15"
        },
        {
         "histfunc": "count",
         "histnorm": "",
         "marker": {
          "color": "rgba(128, 0, 128, 1.0)",
          "line": {
           "color": "#4D5663",
           "width": 1.3
          }
         },
         "name": "D",
         "nbinsx": 10,
         "opacity": 0.8,
         "orientation": "v",
         "type": "histogram",
         "x": [
          -0.6815278090096228,
          0.6836545158540465,
          1.1605213141149195,
          -0.133052458115378,
          -2.979500348480578,
          -0.17772982983823818,
          0.33662075084103943,
          0.8237252349356241,
          1.2155185449253194,
          -0.07648790492327208,
          0.17557566222118365,
          1.4172786923625398,
          0.41023207422787317,
          0.4145840112629592,
          -0.953117960299787,
          1.3902345027918306,
          1.3114591275083565,
          0.37103721204853013,
          1.628584056249766,
          -0.4673707338263525,
          -1.1063509644652172,
          -1.2155338781292224,
          -1.2364022292687875,
          -1.6046087199475132,
          -0.42975066485651914,
          -0.6459359742825395,
          -0.011123596704090351,
          -0.6090853660218682,
          -0.34495894566061597,
          -1.3289599971268262,
          0.7160617352260024,
          -0.37536288095791126,
          -0.6598275895874195,
          -0.9102383622568297,
          -0.3907467067769348,
          2.2817547532041442,
          -0.6931662646971632,
          1.1980966518067875,
          -0.02004411852091231,
          -0.5752395136091221,
          1.2339878709992507,
          -0.2910186234388754,
          1.7759472267876908,
          -0.5431273262618557,
          0.05313825638943675,
          0.2529395777393483,
          0.6079683298852785,
          -0.30212749638410447,
          0.5929116743683776,
          0.6769126419051446,
          2.642585156974257,
          -0.7494424202356387,
          -0.28006733520712335,
          0.5042486184901078,
          0.47419946719610684,
          1.6040680901475013,
          0.973932341470313,
          -0.44950804122739146,
          0.007291868666570613,
          1.0692110221647848,
          -0.7914495847751928,
          -1.5324654850731874,
          -0.5050034502786495,
          -0.7957449591032016,
          0.7211054593963526,
          1.6239848914863952,
          -1.1889529552975984,
          -1.80725971645796,
          -0.1567435717692518,
          1.8863153428561543,
          -0.32596644920844425,
          -1.9491709247132945,
          -0.9943818222384481,
          1.3002735299490298,
          -0.2707542788536193,
          -1.6214993010961989,
          0.07197454848896413,
          0.7028756859541337,
          -1.3855443155607186,
          -0.9359776704337875,
          0.979856625282574,
          0.07954809091402387,
          0.3659749882479351,
          -1.167821128119484,
          -1.7564234558593752,
          -0.7426087044916253,
          0.7794977072509554,
          -0.19306460574406453,
          0.18558965551803455,
          2.579384339758135,
          -0.10036507426068357,
          2.0156085373107837,
          0.8077953402897897,
          0.05250687146482705,
          -1.097473699324034,
          -0.7407063456432476,
          0.7742610571080611,
          -1.087755049692921,
          -1.4286581098621647,
          -0.33755508978657744
         ],
         "xaxis": "x16",
         "yaxis": "y16"
        }
       ],
       "layout": {
        "bargap": 0.02,
        "legend": {
         "bgcolor": "#F5F6F9",
         "font": {
          "color": "#4D5663"
         }
        },
        "paper_bgcolor": "#F5F6F9",
        "plot_bgcolor": "#F5F6F9",
        "showlegend": false,
        "template": {
         "data": {
          "bar": [
           {
            "error_x": {
             "color": "#2a3f5f"
            },
            "error_y": {
             "color": "#2a3f5f"
            },
            "marker": {
             "line": {
              "color": "#E5ECF6",
              "width": 0.5
             }
            },
            "type": "bar"
           }
          ],
          "barpolar": [
           {
            "marker": {
             "line": {
              "color": "#E5ECF6",
              "width": 0.5
             }
            },
            "type": "barpolar"
           }
          ],
          "carpet": [
           {
            "aaxis": {
             "endlinecolor": "#2a3f5f",
             "gridcolor": "white",
             "linecolor": "white",
             "minorgridcolor": "white",
             "startlinecolor": "#2a3f5f"
            },
            "baxis": {
             "endlinecolor": "#2a3f5f",
             "gridcolor": "white",
             "linecolor": "white",
             "minorgridcolor": "white",
             "startlinecolor": "#2a3f5f"
            },
            "type": "carpet"
           }
          ],
          "choropleth": [
           {
            "colorbar": {
             "outlinewidth": 0,
             "ticks": ""
            },
            "type": "choropleth"
           }
          ],
          "contour": [
           {
            "colorbar": {
             "outlinewidth": 0,
             "ticks": ""
            },
            "colorscale": [
             [
              0,
              "#0d0887"
             ],
             [
              0.1111111111111111,
              "#46039f"
             ],
             [
              0.2222222222222222,
              "#7201a8"
             ],
             [
              0.3333333333333333,
              "#9c179e"
             ],
             [
              0.4444444444444444,
              "#bd3786"
             ],
             [
              0.5555555555555556,
              "#d8576b"
             ],
             [
              0.6666666666666666,
              "#ed7953"
             ],
             [
              0.7777777777777778,
              "#fb9f3a"
             ],
             [
              0.8888888888888888,
              "#fdca26"
             ],
             [
              1,
              "#f0f921"
             ]
            ],
            "type": "contour"
           }
          ],
          "contourcarpet": [
           {
            "colorbar": {
             "outlinewidth": 0,
             "ticks": ""
            },
            "type": "contourcarpet"
           }
          ],
          "heatmap": [
           {
            "colorbar": {
             "outlinewidth": 0,
             "ticks": ""
            },
            "colorscale": [
             [
              0,
              "#0d0887"
             ],
             [
              0.1111111111111111,
              "#46039f"
             ],
             [
              0.2222222222222222,
              "#7201a8"
             ],
             [
              0.3333333333333333,
              "#9c179e"
             ],
             [
              0.4444444444444444,
              "#bd3786"
             ],
             [
              0.5555555555555556,
              "#d8576b"
             ],
             [
              0.6666666666666666,
              "#ed7953"
             ],
             [
              0.7777777777777778,
              "#fb9f3a"
             ],
             [
              0.8888888888888888,
              "#fdca26"
             ],
             [
              1,
              "#f0f921"
             ]
            ],
            "type": "heatmap"
           }
          ],
          "heatmapgl": [
           {
            "colorbar": {
             "outlinewidth": 0,
             "ticks": ""
            },
            "colorscale": [
             [
              0,
              "#0d0887"
             ],
             [
              0.1111111111111111,
              "#46039f"
             ],
             [
              0.2222222222222222,
              "#7201a8"
             ],
             [
              0.3333333333333333,
              "#9c179e"
             ],
             [
              0.4444444444444444,
              "#bd3786"
             ],
             [
              0.5555555555555556,
              "#d8576b"
             ],
             [
              0.6666666666666666,
              "#ed7953"
             ],
             [
              0.7777777777777778,
              "#fb9f3a"
             ],
             [
              0.8888888888888888,
              "#fdca26"
             ],
             [
              1,
              "#f0f921"
             ]
            ],
            "type": "heatmapgl"
           }
          ],
          "histogram": [
           {
            "marker": {
             "colorbar": {
              "outlinewidth": 0,
              "ticks": ""
             }
            },
            "type": "histogram"
           }
          ],
          "histogram2d": [
           {
            "colorbar": {
             "outlinewidth": 0,
             "ticks": ""
            },
            "colorscale": [
             [
              0,
              "#0d0887"
             ],
             [
              0.1111111111111111,
              "#46039f"
             ],
             [
              0.2222222222222222,
              "#7201a8"
             ],
             [
              0.3333333333333333,
              "#9c179e"
             ],
             [
              0.4444444444444444,
              "#bd3786"
             ],
             [
              0.5555555555555556,
              "#d8576b"
             ],
             [
              0.6666666666666666,
              "#ed7953"
             ],
             [
              0.7777777777777778,
              "#fb9f3a"
             ],
             [
              0.8888888888888888,
              "#fdca26"
             ],
             [
              1,
              "#f0f921"
             ]
            ],
            "type": "histogram2d"
           }
          ],
          "histogram2dcontour": [
           {
            "colorbar": {
             "outlinewidth": 0,
             "ticks": ""
            },
            "colorscale": [
             [
              0,
              "#0d0887"
             ],
             [
              0.1111111111111111,
              "#46039f"
             ],
             [
              0.2222222222222222,
              "#7201a8"
             ],
             [
              0.3333333333333333,
              "#9c179e"
             ],
             [
              0.4444444444444444,
              "#bd3786"
             ],
             [
              0.5555555555555556,
              "#d8576b"
             ],
             [
              0.6666666666666666,
              "#ed7953"
             ],
             [
              0.7777777777777778,
              "#fb9f3a"
             ],
             [
              0.8888888888888888,
              "#fdca26"
             ],
             [
              1,
              "#f0f921"
             ]
            ],
            "type": "histogram2dcontour"
           }
          ],
          "mesh3d": [
           {
            "colorbar": {
             "outlinewidth": 0,
             "ticks": ""
            },
            "type": "mesh3d"
           }
          ],
          "parcoords": [
           {
            "line": {
             "colorbar": {
              "outlinewidth": 0,
              "ticks": ""
             }
            },
            "type": "parcoords"
           }
          ],
          "pie": [
           {
            "automargin": true,
            "type": "pie"
           }
          ],
          "scatter": [
           {
            "marker": {
             "colorbar": {
              "outlinewidth": 0,
              "ticks": ""
             }
            },
            "type": "scatter"
           }
          ],
          "scatter3d": [
           {
            "line": {
             "colorbar": {
              "outlinewidth": 0,
              "ticks": ""
             }
            },
            "marker": {
             "colorbar": {
              "outlinewidth": 0,
              "ticks": ""
             }
            },
            "type": "scatter3d"
           }
          ],
          "scattercarpet": [
           {
            "marker": {
             "colorbar": {
              "outlinewidth": 0,
              "ticks": ""
             }
            },
            "type": "scattercarpet"
           }
          ],
          "scattergeo": [
           {
            "marker": {
             "colorbar": {
              "outlinewidth": 0,
              "ticks": ""
             }
            },
            "type": "scattergeo"
           }
          ],
          "scattergl": [
           {
            "marker": {
             "colorbar": {
              "outlinewidth": 0,
              "ticks": ""
             }
            },
            "type": "scattergl"
           }
          ],
          "scattermapbox": [
           {
            "marker": {
             "colorbar": {
              "outlinewidth": 0,
              "ticks": ""
             }
            },
            "type": "scattermapbox"
           }
          ],
          "scatterpolar": [
           {
            "marker": {
             "colorbar": {
              "outlinewidth": 0,
              "ticks": ""
             }
            },
            "type": "scatterpolar"
           }
          ],
          "scatterpolargl": [
           {
            "marker": {
             "colorbar": {
              "outlinewidth": 0,
              "ticks": ""
             }
            },
            "type": "scatterpolargl"
           }
          ],
          "scatterternary": [
           {
            "marker": {
             "colorbar": {
              "outlinewidth": 0,
              "ticks": ""
             }
            },
            "type": "scatterternary"
           }
          ],
          "surface": [
           {
            "colorbar": {
             "outlinewidth": 0,
             "ticks": ""
            },
            "colorscale": [
             [
              0,
              "#0d0887"
             ],
             [
              0.1111111111111111,
              "#46039f"
             ],
             [
              0.2222222222222222,
              "#7201a8"
             ],
             [
              0.3333333333333333,
              "#9c179e"
             ],
             [
              0.4444444444444444,
              "#bd3786"
             ],
             [
              0.5555555555555556,
              "#d8576b"
             ],
             [
              0.6666666666666666,
              "#ed7953"
             ],
             [
              0.7777777777777778,
              "#fb9f3a"
             ],
             [
              0.8888888888888888,
              "#fdca26"
             ],
             [
              1,
              "#f0f921"
             ]
            ],
            "type": "surface"
           }
          ],
          "table": [
           {
            "cells": {
             "fill": {
              "color": "#EBF0F8"
             },
             "line": {
              "color": "white"
             }
            },
            "header": {
             "fill": {
              "color": "#C8D4E3"
             },
             "line": {
              "color": "white"
             }
            },
            "type": "table"
           }
          ]
         },
         "layout": {
          "annotationdefaults": {
           "arrowcolor": "#2a3f5f",
           "arrowhead": 0,
           "arrowwidth": 1
          },
          "coloraxis": {
           "colorbar": {
            "outlinewidth": 0,
            "ticks": ""
           }
          },
          "colorscale": {
           "diverging": [
            [
             0,
             "#8e0152"
            ],
            [
             0.1,
             "#c51b7d"
            ],
            [
             0.2,
             "#de77ae"
            ],
            [
             0.3,
             "#f1b6da"
            ],
            [
             0.4,
             "#fde0ef"
            ],
            [
             0.5,
             "#f7f7f7"
            ],
            [
             0.6,
             "#e6f5d0"
            ],
            [
             0.7,
             "#b8e186"
            ],
            [
             0.8,
             "#7fbc41"
            ],
            [
             0.9,
             "#4d9221"
            ],
            [
             1,
             "#276419"
            ]
           ],
           "sequential": [
            [
             0,
             "#0d0887"
            ],
            [
             0.1111111111111111,
             "#46039f"
            ],
            [
             0.2222222222222222,
             "#7201a8"
            ],
            [
             0.3333333333333333,
             "#9c179e"
            ],
            [
             0.4444444444444444,
             "#bd3786"
            ],
            [
             0.5555555555555556,
             "#d8576b"
            ],
            [
             0.6666666666666666,
             "#ed7953"
            ],
            [
             0.7777777777777778,
             "#fb9f3a"
            ],
            [
             0.8888888888888888,
             "#fdca26"
            ],
            [
             1,
             "#f0f921"
            ]
           ],
           "sequentialminus": [
            [
             0,
             "#0d0887"
            ],
            [
             0.1111111111111111,
             "#46039f"
            ],
            [
             0.2222222222222222,
             "#7201a8"
            ],
            [
             0.3333333333333333,
             "#9c179e"
            ],
            [
             0.4444444444444444,
             "#bd3786"
            ],
            [
             0.5555555555555556,
             "#d8576b"
            ],
            [
             0.6666666666666666,
             "#ed7953"
            ],
            [
             0.7777777777777778,
             "#fb9f3a"
            ],
            [
             0.8888888888888888,
             "#fdca26"
            ],
            [
             1,
             "#f0f921"
            ]
           ]
          },
          "colorway": [
           "#636efa",
           "#EF553B",
           "#00cc96",
           "#ab63fa",
           "#FFA15A",
           "#19d3f3",
           "#FF6692",
           "#B6E880",
           "#FF97FF",
           "#FECB52"
          ],
          "font": {
           "color": "#2a3f5f"
          },
          "geo": {
           "bgcolor": "white",
           "lakecolor": "white",
           "landcolor": "#E5ECF6",
           "showlakes": true,
           "showland": true,
           "subunitcolor": "white"
          },
          "hoverlabel": {
           "align": "left"
          },
          "hovermode": "closest",
          "mapbox": {
           "style": "light"
          },
          "paper_bgcolor": "white",
          "plot_bgcolor": "#E5ECF6",
          "polar": {
           "angularaxis": {
            "gridcolor": "white",
            "linecolor": "white",
            "ticks": ""
           },
           "bgcolor": "#E5ECF6",
           "radialaxis": {
            "gridcolor": "white",
            "linecolor": "white",
            "ticks": ""
           }
          },
          "scene": {
           "xaxis": {
            "backgroundcolor": "#E5ECF6",
            "gridcolor": "white",
            "gridwidth": 2,
            "linecolor": "white",
            "showbackground": true,
            "ticks": "",
            "zerolinecolor": "white"
           },
           "yaxis": {
            "backgroundcolor": "#E5ECF6",
            "gridcolor": "white",
            "gridwidth": 2,
            "linecolor": "white",
            "showbackground": true,
            "ticks": "",
            "zerolinecolor": "white"
           },
           "zaxis": {
            "backgroundcolor": "#E5ECF6",
            "gridcolor": "white",
            "gridwidth": 2,
            "linecolor": "white",
            "showbackground": true,
            "ticks": "",
            "zerolinecolor": "white"
           }
          },
          "shapedefaults": {
           "line": {
            "color": "#2a3f5f"
           }
          },
          "ternary": {
           "aaxis": {
            "gridcolor": "white",
            "linecolor": "white",
            "ticks": ""
           },
           "baxis": {
            "gridcolor": "white",
            "linecolor": "white",
            "ticks": ""
           },
           "bgcolor": "#E5ECF6",
           "caxis": {
            "gridcolor": "white",
            "linecolor": "white",
            "ticks": ""
           }
          },
          "title": {
           "x": 0.05
          },
          "xaxis": {
           "automargin": true,
           "gridcolor": "white",
           "linecolor": "white",
           "ticks": "",
           "title": {
            "standoff": 15
           },
           "zerolinecolor": "white",
           "zerolinewidth": 2
          },
          "yaxis": {
           "automargin": true,
           "gridcolor": "white",
           "linecolor": "white",
           "ticks": "",
           "title": {
            "standoff": 15
           },
           "zerolinecolor": "white",
           "zerolinewidth": 2
          }
         }
        },
        "title": {
         "font": {
          "color": "#4D5663"
         }
        },
        "xaxis": {
         "anchor": "y",
         "domain": [
          0,
          0.2125
         ],
         "gridcolor": "#E1E5ED",
         "showgrid": false,
         "tickfont": {
          "color": "#4D5663"
         },
         "title": {
          "font": {
           "color": "#4D5663"
          },
          "text": ""
         },
         "zerolinecolor": "#E1E5ED"
        },
        "xaxis10": {
         "anchor": "y10",
         "domain": [
          0.2625,
          0.475
         ],
         "gridcolor": "#E1E5ED",
         "showgrid": false,
         "tickfont": {
          "color": "#4D5663"
         },
         "title": {
          "font": {
           "color": "#4D5663"
          },
          "text": ""
         },
         "zerolinecolor": "#E1E5ED"
        },
        "xaxis11": {
         "anchor": "y11",
         "domain": [
          0.525,
          0.7375
         ],
         "gridcolor": "#E1E5ED",
         "showgrid": false,
         "tickfont": {
          "color": "#4D5663"
         },
         "title": {
          "font": {
           "color": "#4D5663"
          },
          "text": ""
         },
         "zerolinecolor": "#E1E5ED"
        },
        "xaxis12": {
         "anchor": "y12",
         "domain": [
          0.7875,
          1
         ],
         "gridcolor": "#E1E5ED",
         "showgrid": false,
         "tickfont": {
          "color": "#4D5663"
         },
         "title": {
          "font": {
           "color": "#4D5663"
          },
          "text": ""
         },
         "zerolinecolor": "#E1E5ED"
        },
        "xaxis13": {
         "anchor": "y13",
         "domain": [
          0,
          0.2125
         ],
         "gridcolor": "#E1E5ED",
         "showgrid": false,
         "tickfont": {
          "color": "#4D5663"
         },
         "title": {
          "font": {
           "color": "#4D5663"
          },
          "text": ""
         },
         "zerolinecolor": "#E1E5ED"
        },
        "xaxis14": {
         "anchor": "y14",
         "domain": [
          0.2625,
          0.475
         ],
         "gridcolor": "#E1E5ED",
         "showgrid": false,
         "tickfont": {
          "color": "#4D5663"
         },
         "title": {
          "font": {
           "color": "#4D5663"
          },
          "text": ""
         },
         "zerolinecolor": "#E1E5ED"
        },
        "xaxis15": {
         "anchor": "y15",
         "domain": [
          0.525,
          0.7375
         ],
         "gridcolor": "#E1E5ED",
         "showgrid": false,
         "tickfont": {
          "color": "#4D5663"
         },
         "title": {
          "font": {
           "color": "#4D5663"
          },
          "text": ""
         },
         "zerolinecolor": "#E1E5ED"
        },
        "xaxis16": {
         "anchor": "y16",
         "domain": [
          0.7875,
          1
         ],
         "gridcolor": "#E1E5ED",
         "showgrid": false,
         "tickfont": {
          "color": "#4D5663"
         },
         "title": {
          "font": {
           "color": "#4D5663"
          },
          "text": ""
         },
         "zerolinecolor": "#E1E5ED"
        },
        "xaxis2": {
         "anchor": "y2",
         "domain": [
          0.2625,
          0.475
         ],
         "gridcolor": "#E1E5ED",
         "showgrid": false,
         "tickfont": {
          "color": "#4D5663"
         },
         "title": {
          "font": {
           "color": "#4D5663"
          },
          "text": ""
         },
         "zerolinecolor": "#E1E5ED"
        },
        "xaxis3": {
         "anchor": "y3",
         "domain": [
          0.525,
          0.7375
         ],
         "gridcolor": "#E1E5ED",
         "showgrid": false,
         "tickfont": {
          "color": "#4D5663"
         },
         "title": {
          "font": {
           "color": "#4D5663"
          },
          "text": ""
         },
         "zerolinecolor": "#E1E5ED"
        },
        "xaxis4": {
         "anchor": "y4",
         "domain": [
          0.7875,
          1
         ],
         "gridcolor": "#E1E5ED",
         "showgrid": false,
         "tickfont": {
          "color": "#4D5663"
         },
         "title": {
          "font": {
           "color": "#4D5663"
          },
          "text": ""
         },
         "zerolinecolor": "#E1E5ED"
        },
        "xaxis5": {
         "anchor": "y5",
         "domain": [
          0,
          0.2125
         ],
         "gridcolor": "#E1E5ED",
         "showgrid": false,
         "tickfont": {
          "color": "#4D5663"
         },
         "title": {
          "font": {
           "color": "#4D5663"
          },
          "text": ""
         },
         "zerolinecolor": "#E1E5ED"
        },
        "xaxis6": {
         "anchor": "y6",
         "domain": [
          0.2625,
          0.475
         ],
         "gridcolor": "#E1E5ED",
         "showgrid": false,
         "tickfont": {
          "color": "#4D5663"
         },
         "title": {
          "font": {
           "color": "#4D5663"
          },
          "text": ""
         },
         "zerolinecolor": "#E1E5ED"
        },
        "xaxis7": {
         "anchor": "y7",
         "domain": [
          0.525,
          0.7375
         ],
         "gridcolor": "#E1E5ED",
         "showgrid": false,
         "tickfont": {
          "color": "#4D5663"
         },
         "title": {
          "font": {
           "color": "#4D5663"
          },
          "text": ""
         },
         "zerolinecolor": "#E1E5ED"
        },
        "xaxis8": {
         "anchor": "y8",
         "domain": [
          0.7875,
          1
         ],
         "gridcolor": "#E1E5ED",
         "showgrid": false,
         "tickfont": {
          "color": "#4D5663"
         },
         "title": {
          "font": {
           "color": "#4D5663"
          },
          "text": ""
         },
         "zerolinecolor": "#E1E5ED"
        },
        "xaxis9": {
         "anchor": "y9",
         "domain": [
          0,
          0.2125
         ],
         "gridcolor": "#E1E5ED",
         "showgrid": false,
         "tickfont": {
          "color": "#4D5663"
         },
         "title": {
          "font": {
           "color": "#4D5663"
          },
          "text": ""
         },
         "zerolinecolor": "#E1E5ED"
        },
        "yaxis": {
         "anchor": "x",
         "domain": [
          0.8025,
          1
         ],
         "gridcolor": "#E1E5ED",
         "showgrid": false,
         "tickfont": {
          "color": "#4D5663"
         },
         "title": {
          "font": {
           "color": "#4D5663"
          },
          "text": ""
         },
         "zerolinecolor": "#E1E5ED"
        },
        "yaxis10": {
         "anchor": "x10",
         "domain": [
          0.2675,
          0.465
         ],
         "gridcolor": "#E1E5ED",
         "showgrid": false,
         "tickfont": {
          "color": "#4D5663"
         },
         "title": {
          "font": {
           "color": "#4D5663"
          },
          "text": ""
         },
         "zerolinecolor": "#E1E5ED"
        },
        "yaxis11": {
         "anchor": "x11",
         "domain": [
          0.2675,
          0.465
         ],
         "gridcolor": "#E1E5ED",
         "showgrid": false,
         "tickfont": {
          "color": "#4D5663"
         },
         "title": {
          "font": {
           "color": "#4D5663"
          },
          "text": ""
         },
         "zerolinecolor": "#E1E5ED"
        },
        "yaxis12": {
         "anchor": "x12",
         "domain": [
          0.2675,
          0.465
         ],
         "gridcolor": "#E1E5ED",
         "showgrid": false,
         "tickfont": {
          "color": "#4D5663"
         },
         "title": {
          "font": {
           "color": "#4D5663"
          },
          "text": ""
         },
         "zerolinecolor": "#E1E5ED"
        },
        "yaxis13": {
         "anchor": "x13",
         "domain": [
          0,
          0.1975
         ],
         "gridcolor": "#E1E5ED",
         "showgrid": false,
         "tickfont": {
          "color": "#4D5663"
         },
         "title": {
          "font": {
           "color": "#4D5663"
          },
          "text": ""
         },
         "zerolinecolor": "#E1E5ED"
        },
        "yaxis14": {
         "anchor": "x14",
         "domain": [
          0,
          0.1975
         ],
         "gridcolor": "#E1E5ED",
         "showgrid": false,
         "tickfont": {
          "color": "#4D5663"
         },
         "title": {
          "font": {
           "color": "#4D5663"
          },
          "text": ""
         },
         "zerolinecolor": "#E1E5ED"
        },
        "yaxis15": {
         "anchor": "x15",
         "domain": [
          0,
          0.1975
         ],
         "gridcolor": "#E1E5ED",
         "showgrid": false,
         "tickfont": {
          "color": "#4D5663"
         },
         "title": {
          "font": {
           "color": "#4D5663"
          },
          "text": ""
         },
         "zerolinecolor": "#E1E5ED"
        },
        "yaxis16": {
         "anchor": "x16",
         "domain": [
          0,
          0.1975
         ],
         "gridcolor": "#E1E5ED",
         "showgrid": false,
         "tickfont": {
          "color": "#4D5663"
         },
         "title": {
          "font": {
           "color": "#4D5663"
          },
          "text": ""
         },
         "zerolinecolor": "#E1E5ED"
        },
        "yaxis2": {
         "anchor": "x2",
         "domain": [
          0.8025,
          1
         ],
         "gridcolor": "#E1E5ED",
         "showgrid": false,
         "tickfont": {
          "color": "#4D5663"
         },
         "title": {
          "font": {
           "color": "#4D5663"
          },
          "text": ""
         },
         "zerolinecolor": "#E1E5ED"
        },
        "yaxis3": {
         "anchor": "x3",
         "domain": [
          0.8025,
          1
         ],
         "gridcolor": "#E1E5ED",
         "showgrid": false,
         "tickfont": {
          "color": "#4D5663"
         },
         "title": {
          "font": {
           "color": "#4D5663"
          },
          "text": ""
         },
         "zerolinecolor": "#E1E5ED"
        },
        "yaxis4": {
         "anchor": "x4",
         "domain": [
          0.8025,
          1
         ],
         "gridcolor": "#E1E5ED",
         "showgrid": false,
         "tickfont": {
          "color": "#4D5663"
         },
         "title": {
          "font": {
           "color": "#4D5663"
          },
          "text": ""
         },
         "zerolinecolor": "#E1E5ED"
        },
        "yaxis5": {
         "anchor": "x5",
         "domain": [
          0.535,
          0.7325
         ],
         "gridcolor": "#E1E5ED",
         "showgrid": false,
         "tickfont": {
          "color": "#4D5663"
         },
         "title": {
          "font": {
           "color": "#4D5663"
          },
          "text": ""
         },
         "zerolinecolor": "#E1E5ED"
        },
        "yaxis6": {
         "anchor": "x6",
         "domain": [
          0.535,
          0.7325
         ],
         "gridcolor": "#E1E5ED",
         "showgrid": false,
         "tickfont": {
          "color": "#4D5663"
         },
         "title": {
          "font": {
           "color": "#4D5663"
          },
          "text": ""
         },
         "zerolinecolor": "#E1E5ED"
        },
        "yaxis7": {
         "anchor": "x7",
         "domain": [
          0.535,
          0.7325
         ],
         "gridcolor": "#E1E5ED",
         "showgrid": false,
         "tickfont": {
          "color": "#4D5663"
         },
         "title": {
          "font": {
           "color": "#4D5663"
          },
          "text": ""
         },
         "zerolinecolor": "#E1E5ED"
        },
        "yaxis8": {
         "anchor": "x8",
         "domain": [
          0.535,
          0.7325
         ],
         "gridcolor": "#E1E5ED",
         "showgrid": false,
         "tickfont": {
          "color": "#4D5663"
         },
         "title": {
          "font": {
           "color": "#4D5663"
          },
          "text": ""
         },
         "zerolinecolor": "#E1E5ED"
        },
        "yaxis9": {
         "anchor": "x9",
         "domain": [
          0.2675,
          0.465
         ],
         "gridcolor": "#E1E5ED",
         "showgrid": false,
         "tickfont": {
          "color": "#4D5663"
         },
         "title": {
          "font": {
           "color": "#4D5663"
          },
          "text": ""
         },
         "zerolinecolor": "#E1E5ED"
        }
       }
      },
      "text/html": [
       "<div>\n",
       "        \n",
       "        \n",
       "            <div id=\"6e60600a-d277-4cee-a8d8-a1d673ca991f\" class=\"plotly-graph-div\" style=\"height:525px; width:100%;\"></div>\n",
       "            <script type=\"text/javascript\">\n",
       "                require([\"plotly\"], function(Plotly) {\n",
       "                    window.PLOTLYENV=window.PLOTLYENV || {};\n",
       "                    window.PLOTLYENV.BASE_URL='https://plot.ly';\n",
       "                    \n",
       "                if (document.getElementById(\"6e60600a-d277-4cee-a8d8-a1d673ca991f\")) {\n",
       "                    Plotly.newPlot(\n",
       "                        '6e60600a-d277-4cee-a8d8-a1d673ca991f',\n",
       "                        [{\"histfunc\": \"count\", \"histnorm\": \"\", \"marker\": {\"color\": \"rgba(255, 153, 51, 1.0)\", \"line\": {\"color\": \"#4D5663\", \"width\": 1.3}}, \"name\": \"A\", \"nbinsx\": 10, \"opacity\": 0.8, \"orientation\": \"v\", \"type\": \"histogram\", \"x\": [-1.1833147841107685, -1.7500193061567437, 1.131725711797192, -0.4149990629871035, -0.5546323136266743, 0.30716715349814916, 0.9307409446318613, 1.1827126886991306, -0.36277765018746844, -1.1575863885269426, -0.8378908404057034, -0.3912685021276453, -1.3589334660637948, -0.9289435721940565, -0.7124449800398088, -1.6065487619933794, 2.332208250292037, 0.8026240180457727, -0.3270519336517877, -0.23711569943831692, -1.1574596670571589, 0.6356964428430179, -1.1519757857088226, -3.8820799601324034, 0.7723161251731423, 2.065264810943613, 0.02000222388239315, 0.3991394917296089, 0.945535911129008, -1.204940020191649, 0.2502984273434721, 0.4384717934478959, -0.3157678412237403, 0.6107843478312683, 1.4209487036819728, 0.8379028557999306, 1.402820371959644, -0.7644680156984743, 3.3499358837402666, -0.2794976581737439, 0.7120731738683018, 0.46511545582490277, 0.2695328720433325, 1.6056065472068564, -0.5389598099942599, 1.5665773988947163, 0.06510700987045681, 0.5239553353008185, 0.019203296036346764, -0.4421735345591453, 0.14516936021065513, 1.0355126831038233, -0.023036701246943896, 1.0388811679514585, -0.20672847201013142, 0.1716283164432814, -1.9380850409091082, -0.5851204532923052, -1.9757006147510012, 0.34022601382222384, 0.5079218681199503, 0.7631189321743553, 0.96306713033488, -0.8121233094405356, -0.9882153281714651, -0.4845284460071705, -0.02570082243243427, -0.03400268620872826, 0.5047792802117658, -2.279607145438385, -0.07385901857965435, -1.1771511696616481, -0.100857518160516, 1.0189389924248553, -1.6986752286473015, -2.2268426553186775, -0.9201106764549231, -1.060674427588634, 0.7607522685667668, 0.1235188485203996, 0.046532648289906525, -1.1751332884820118, -0.4914839965164748, -1.7497373291544116, -0.3786193081224398, -0.13885120042759355, -0.6706094005349879, -0.38208822846680607, 1.1451940523399124, -1.5857540722581318, 1.0235693577972806, -1.2530876758385363, 0.07528977828068915, -0.4156784952599241, -0.29874608294387867, 0.48755629016495683, 0.23878761796209058, -0.20848531744749169, -0.0689143672965231, 1.2984345736949008], \"xaxis\": \"x\", \"yaxis\": \"y\"}, {\"line\": {\"color\": \"rgba(128, 128, 128, 1.0)\", \"dash\": \"solid\", \"shape\": \"linear\", \"width\": 1.3}, \"marker\": {\"size\": 2, \"symbol\": \"circle\"}, \"mode\": \"markers\", \"name\": \"A\", \"text\": \"\", \"type\": \"scatter\", \"x\": [-0.5898979642836217, -1.7035606150240423, 0.41195268107418087, 1.1748195587973018, -0.2874381187037066, 0.5750172963551519, -0.6918057201108602, 1.175390395429051, -0.6050538557649577, 0.0019096459897705962, -0.9231136810089464, -0.39323459451035514, 2.244083134591712, -0.2882505022052697, 0.2781543452345917, 0.7078101611604473, 0.10649678961373046, 0.16738271233384605, -0.2463839532113507, 1.895360391608483, 0.5421372027154331, -0.6229051777303326, -0.10911768413612674, 1.4985291313289495, 0.46005062638417077, -1.5223404637630722, -0.8075314184354632, 0.45644429253156205, -2.7984474908916193, -1.041201734145715, 0.3375797120780502, 0.7627293350558662, -0.4582718115207457, 0.3293598357702051, 0.46510675786566447, -3.4360205185224273, -1.3947339927310538, -0.5221562099881435, 0.11844118831730661, -1.4766140798725693, 0.19975507683724641, -0.9339711813555169, 0.4620682372737366, -2.133616090565549, 0.3832310677836281, 0.7267988798691072, -0.7422830769123931, 1.545527709647746, -0.7771822405729585, 1.0400750382376254, -1.6855965797420718, -1.4495282515512824, -0.2038630140221456, 0.5565767167842305, 0.6853447643542557, -2.1016656826691626, 0.7968165469168353, -1.9742291602109332, 0.015884797000142253, -0.33292686237909414, -0.28126192873968675, -1.164288982256235, 0.9531908259029911, -0.9663699340304098, -0.1407555700606715, -0.8902939391432672, -0.883753820359266, -0.7646362892146369, -0.13566886289315494, -0.6504629597466766, 0.46657048242165916, 0.7078080387334367, 0.3506441991444549, 1.3062316775097684, 0.7666951256814395, -2.1761057499896372, 1.0886646387882366, 0.1398003837228066, 1.1774220915886786, -1.5628528424355201, -0.02078033990114364, 0.2881795839775908, -0.45384339986760425, 0.8287228776149175, -0.47309173198761245, 0.9618766946968291, 2.086699961485107, -0.3923203335643365, -0.3489396871594183, 0.38009544401220324, -1.5582853190566033, -2.316080376858616, -0.04888223868916067, 1.4508778558136317, -1.0698703039694686, 0.3906557706873268, -1.296791643711909, -1.0090503122907404, 0.9509049308922853, -0.02878651143711458], \"xaxis\": \"x2\", \"y\": [-1.1833147841107685, -1.7500193061567437, 1.131725711797192, -0.4149990629871035, -0.5546323136266743, 0.30716715349814916, 0.9307409446318613, 1.1827126886991306, -0.36277765018746844, -1.1575863885269426, -0.8378908404057034, -0.3912685021276453, -1.3589334660637948, -0.9289435721940565, -0.7124449800398088, -1.6065487619933794, 2.332208250292037, 0.8026240180457727, -0.3270519336517877, -0.23711569943831692, -1.1574596670571589, 0.6356964428430179, -1.1519757857088226, -3.8820799601324034, 0.7723161251731423, 2.065264810943613, 0.02000222388239315, 0.3991394917296089, 0.945535911129008, -1.204940020191649, 0.2502984273434721, 0.4384717934478959, -0.3157678412237403, 0.6107843478312683, 1.4209487036819728, 0.8379028557999306, 1.402820371959644, -0.7644680156984743, 3.3499358837402666, -0.2794976581737439, 0.7120731738683018, 0.46511545582490277, 0.2695328720433325, 1.6056065472068564, -0.5389598099942599, 1.5665773988947163, 0.06510700987045681, 0.5239553353008185, 0.019203296036346764, -0.4421735345591453, 0.14516936021065513, 1.0355126831038233, -0.023036701246943896, 1.0388811679514585, -0.20672847201013142, 0.1716283164432814, -1.9380850409091082, -0.5851204532923052, -1.9757006147510012, 0.34022601382222384, 0.5079218681199503, 0.7631189321743553, 0.96306713033488, -0.8121233094405356, -0.9882153281714651, -0.4845284460071705, -0.02570082243243427, -0.03400268620872826, 0.5047792802117658, -2.279607145438385, -0.07385901857965435, -1.1771511696616481, -0.100857518160516, 1.0189389924248553, -1.6986752286473015, -2.2268426553186775, -0.9201106764549231, -1.060674427588634, 0.7607522685667668, 0.1235188485203996, 0.046532648289906525, -1.1751332884820118, -0.4914839965164748, -1.7497373291544116, -0.3786193081224398, -0.13885120042759355, -0.6706094005349879, -0.38208822846680607, 1.1451940523399124, -1.5857540722581318, 1.0235693577972806, -1.2530876758385363, 0.07528977828068915, -0.4156784952599241, -0.29874608294387867, 0.48755629016495683, 0.23878761796209058, -0.20848531744749169, -0.0689143672965231, 1.2984345736949008], \"yaxis\": \"y2\"}, {\"line\": {\"color\": \"rgba(128, 128, 128, 1.0)\", \"dash\": \"solid\", \"shape\": \"linear\", \"width\": 1.3}, \"marker\": {\"size\": 2, \"symbol\": \"circle\"}, \"mode\": \"markers\", \"name\": \"A\", \"text\": \"\", \"type\": \"scatter\", \"x\": [0.3563595190481723, 0.5378580625673637, 0.6173298842049206, 0.21033550597258313, 0.44595295816020464, 0.04734465427785705, 0.29451514142542107, -0.9104362947239052, -0.07368373573215535, -0.49009579808053116, -0.7516560112746027, -0.5218355203683539, 1.0572321458187806, -0.19125214921783798, -0.8841145793948796, -2.3351823124441653, 0.15341418212355862, -0.08823652936084907, -0.007883833663842916, -0.23585000687120442, 0.9031303932803689, -0.19828958817470044, -0.4566188095966283, -0.04207055140836586, 0.2606122258073981, 0.582451791438679, -0.5150976508274104, -1.7002930623164572, 0.927234615632159, -0.33999207269869747, 1.2865951541218563, 1.2052286004215986, -0.034560345581458735, -0.1965009735122464, 0.5788489442796333, 1.086961676923334, 1.0517377487472919, -0.7778358913150859, -0.014333865174890886, -1.308274320048806, -1.019456586799028, 1.7877339835004995, -0.29094327359053807, 0.6471806866229206, -0.3917125919254808, -0.27322823899618803, 1.094360822140504, 0.9843093557171149, 0.18072487387927072, 0.7345787459591877, 1.2031898005141421, 0.6275078194912926, -0.3838280425665974, -0.11864517969486123, -1.0481010822032037, -0.13614210035050264, 0.37261715026318526, 0.2754932744602963, 1.2566765340484616, -2.327316910825752, -0.0337140788528213, 1.083572109682462, 0.4020341114343595, -0.4476381375854337, -0.5479889019832572, -1.1601106017360991, 0.9268847350783452, 1.3062521338048927, 2.3696307070086213, 1.2939936462791204, -1.3474579967385054, 0.7560208066533932, 0.340328573525602, -0.3037446854112319, 0.14992534941418062, 0.6981484777917132, -1.600137624225199, -0.33559716548704815, -1.020606706556866, 1.6218541220366733, 0.5249322439679205, 1.2645200714561968, -0.5997953207598887, -0.8667687617263371, 0.34602584543690884, -0.1154494792571628, 1.2234381967219794, 0.4141928086174913, -0.49233108234498496, -0.34025603284701117, 0.4300105000890438, 1.2458895710075948, -0.14245016207378774, -0.30065296961149235, -0.7830309295774042, -0.4031855979781393, -0.4867573638752105, -0.9515469823851814, -0.14694131466044105, -1.3708606419981288], \"xaxis\": \"x3\", \"y\": [-1.1833147841107685, -1.7500193061567437, 1.131725711797192, -0.4149990629871035, -0.5546323136266743, 0.30716715349814916, 0.9307409446318613, 1.1827126886991306, -0.36277765018746844, -1.1575863885269426, -0.8378908404057034, -0.3912685021276453, -1.3589334660637948, -0.9289435721940565, -0.7124449800398088, -1.6065487619933794, 2.332208250292037, 0.8026240180457727, -0.3270519336517877, -0.23711569943831692, -1.1574596670571589, 0.6356964428430179, -1.1519757857088226, -3.8820799601324034, 0.7723161251731423, 2.065264810943613, 0.02000222388239315, 0.3991394917296089, 0.945535911129008, -1.204940020191649, 0.2502984273434721, 0.4384717934478959, -0.3157678412237403, 0.6107843478312683, 1.4209487036819728, 0.8379028557999306, 1.402820371959644, -0.7644680156984743, 3.3499358837402666, -0.2794976581737439, 0.7120731738683018, 0.46511545582490277, 0.2695328720433325, 1.6056065472068564, -0.5389598099942599, 1.5665773988947163, 0.06510700987045681, 0.5239553353008185, 0.019203296036346764, -0.4421735345591453, 0.14516936021065513, 1.0355126831038233, -0.023036701246943896, 1.0388811679514585, -0.20672847201013142, 0.1716283164432814, -1.9380850409091082, -0.5851204532923052, -1.9757006147510012, 0.34022601382222384, 0.5079218681199503, 0.7631189321743553, 0.96306713033488, -0.8121233094405356, -0.9882153281714651, -0.4845284460071705, -0.02570082243243427, -0.03400268620872826, 0.5047792802117658, -2.279607145438385, -0.07385901857965435, -1.1771511696616481, -0.100857518160516, 1.0189389924248553, -1.6986752286473015, -2.2268426553186775, -0.9201106764549231, -1.060674427588634, 0.7607522685667668, 0.1235188485203996, 0.046532648289906525, -1.1751332884820118, -0.4914839965164748, -1.7497373291544116, -0.3786193081224398, -0.13885120042759355, -0.6706094005349879, -0.38208822846680607, 1.1451940523399124, -1.5857540722581318, 1.0235693577972806, -1.2530876758385363, 0.07528977828068915, -0.4156784952599241, -0.29874608294387867, 0.48755629016495683, 0.23878761796209058, -0.20848531744749169, -0.0689143672965231, 1.2984345736949008], \"yaxis\": \"y3\"}, {\"line\": {\"color\": \"rgba(128, 128, 128, 1.0)\", \"dash\": \"solid\", \"shape\": \"linear\", \"width\": 1.3}, \"marker\": {\"size\": 2, \"symbol\": \"circle\"}, \"mode\": \"markers\", \"name\": \"A\", \"text\": \"\", \"type\": \"scatter\", \"x\": [-0.6815278090096228, 0.6836545158540465, 1.1605213141149195, -0.133052458115378, -2.979500348480578, -0.17772982983823818, 0.33662075084103943, 0.8237252349356241, 1.2155185449253194, -0.07648790492327208, 0.17557566222118365, 1.4172786923625398, 0.41023207422787317, 0.4145840112629592, -0.953117960299787, 1.3902345027918306, 1.3114591275083565, 0.37103721204853013, 1.628584056249766, -0.4673707338263525, -1.1063509644652172, -1.2155338781292224, -1.2364022292687875, -1.6046087199475132, -0.42975066485651914, -0.6459359742825395, -0.011123596704090351, -0.6090853660218682, -0.34495894566061597, -1.3289599971268262, 0.7160617352260024, -0.37536288095791126, -0.6598275895874195, -0.9102383622568297, -0.3907467067769348, 2.2817547532041442, -0.6931662646971632, 1.1980966518067875, -0.02004411852091231, -0.5752395136091221, 1.2339878709992507, -0.2910186234388754, 1.7759472267876908, -0.5431273262618557, 0.05313825638943675, 0.2529395777393483, 0.6079683298852785, -0.30212749638410447, 0.5929116743683776, 0.6769126419051446, 2.642585156974257, -0.7494424202356387, -0.28006733520712335, 0.5042486184901078, 0.47419946719610684, 1.6040680901475013, 0.973932341470313, -0.44950804122739146, 0.007291868666570613, 1.0692110221647848, -0.7914495847751928, -1.5324654850731874, -0.5050034502786495, -0.7957449591032016, 0.7211054593963526, 1.6239848914863952, -1.1889529552975984, -1.80725971645796, -0.1567435717692518, 1.8863153428561543, -0.32596644920844425, -1.9491709247132945, -0.9943818222384481, 1.3002735299490298, -0.2707542788536193, -1.6214993010961989, 0.07197454848896413, 0.7028756859541337, -1.3855443155607186, -0.9359776704337875, 0.979856625282574, 0.07954809091402387, 0.3659749882479351, -1.167821128119484, -1.7564234558593752, -0.7426087044916253, 0.7794977072509554, -0.19306460574406453, 0.18558965551803455, 2.579384339758135, -0.10036507426068357, 2.0156085373107837, 0.8077953402897897, 0.05250687146482705, -1.097473699324034, -0.7407063456432476, 0.7742610571080611, -1.087755049692921, -1.4286581098621647, -0.33755508978657744], \"xaxis\": \"x4\", \"y\": [-1.1833147841107685, -1.7500193061567437, 1.131725711797192, -0.4149990629871035, -0.5546323136266743, 0.30716715349814916, 0.9307409446318613, 1.1827126886991306, -0.36277765018746844, -1.1575863885269426, -0.8378908404057034, -0.3912685021276453, -1.3589334660637948, -0.9289435721940565, -0.7124449800398088, -1.6065487619933794, 2.332208250292037, 0.8026240180457727, -0.3270519336517877, -0.23711569943831692, -1.1574596670571589, 0.6356964428430179, -1.1519757857088226, -3.8820799601324034, 0.7723161251731423, 2.065264810943613, 0.02000222388239315, 0.3991394917296089, 0.945535911129008, -1.204940020191649, 0.2502984273434721, 0.4384717934478959, -0.3157678412237403, 0.6107843478312683, 1.4209487036819728, 0.8379028557999306, 1.402820371959644, -0.7644680156984743, 3.3499358837402666, -0.2794976581737439, 0.7120731738683018, 0.46511545582490277, 0.2695328720433325, 1.6056065472068564, -0.5389598099942599, 1.5665773988947163, 0.06510700987045681, 0.5239553353008185, 0.019203296036346764, -0.4421735345591453, 0.14516936021065513, 1.0355126831038233, -0.023036701246943896, 1.0388811679514585, -0.20672847201013142, 0.1716283164432814, -1.9380850409091082, -0.5851204532923052, -1.9757006147510012, 0.34022601382222384, 0.5079218681199503, 0.7631189321743553, 0.96306713033488, -0.8121233094405356, -0.9882153281714651, -0.4845284460071705, -0.02570082243243427, -0.03400268620872826, 0.5047792802117658, -2.279607145438385, -0.07385901857965435, -1.1771511696616481, -0.100857518160516, 1.0189389924248553, -1.6986752286473015, -2.2268426553186775, -0.9201106764549231, -1.060674427588634, 0.7607522685667668, 0.1235188485203996, 0.046532648289906525, -1.1751332884820118, -0.4914839965164748, -1.7497373291544116, -0.3786193081224398, -0.13885120042759355, -0.6706094005349879, -0.38208822846680607, 1.1451940523399124, -1.5857540722581318, 1.0235693577972806, -1.2530876758385363, 0.07528977828068915, -0.4156784952599241, -0.29874608294387867, 0.48755629016495683, 0.23878761796209058, -0.20848531744749169, -0.0689143672965231, 1.2984345736949008], \"yaxis\": \"y4\"}, {\"line\": {\"color\": \"rgba(128, 128, 128, 1.0)\", \"dash\": \"solid\", \"shape\": \"linear\", \"width\": 1.3}, \"marker\": {\"size\": 2, \"symbol\": \"circle\"}, \"mode\": \"markers\", \"name\": \"B\", \"text\": \"\", \"type\": \"scatter\", \"x\": [-1.1833147841107685, -1.7500193061567437, 1.131725711797192, -0.4149990629871035, -0.5546323136266743, 0.30716715349814916, 0.9307409446318613, 1.1827126886991306, -0.36277765018746844, -1.1575863885269426, -0.8378908404057034, -0.3912685021276453, -1.3589334660637948, -0.9289435721940565, -0.7124449800398088, -1.6065487619933794, 2.332208250292037, 0.8026240180457727, -0.3270519336517877, -0.23711569943831692, -1.1574596670571589, 0.6356964428430179, -1.1519757857088226, -3.8820799601324034, 0.7723161251731423, 2.065264810943613, 0.02000222388239315, 0.3991394917296089, 0.945535911129008, -1.204940020191649, 0.2502984273434721, 0.4384717934478959, -0.3157678412237403, 0.6107843478312683, 1.4209487036819728, 0.8379028557999306, 1.402820371959644, -0.7644680156984743, 3.3499358837402666, -0.2794976581737439, 0.7120731738683018, 0.46511545582490277, 0.2695328720433325, 1.6056065472068564, -0.5389598099942599, 1.5665773988947163, 0.06510700987045681, 0.5239553353008185, 0.019203296036346764, -0.4421735345591453, 0.14516936021065513, 1.0355126831038233, -0.023036701246943896, 1.0388811679514585, -0.20672847201013142, 0.1716283164432814, -1.9380850409091082, -0.5851204532923052, -1.9757006147510012, 0.34022601382222384, 0.5079218681199503, 0.7631189321743553, 0.96306713033488, -0.8121233094405356, -0.9882153281714651, -0.4845284460071705, -0.02570082243243427, -0.03400268620872826, 0.5047792802117658, -2.279607145438385, -0.07385901857965435, -1.1771511696616481, -0.100857518160516, 1.0189389924248553, -1.6986752286473015, -2.2268426553186775, -0.9201106764549231, -1.060674427588634, 0.7607522685667668, 0.1235188485203996, 0.046532648289906525, -1.1751332884820118, -0.4914839965164748, -1.7497373291544116, -0.3786193081224398, -0.13885120042759355, -0.6706094005349879, -0.38208822846680607, 1.1451940523399124, -1.5857540722581318, 1.0235693577972806, -1.2530876758385363, 0.07528977828068915, -0.4156784952599241, -0.29874608294387867, 0.48755629016495683, 0.23878761796209058, -0.20848531744749169, -0.0689143672965231, 1.2984345736949008], \"xaxis\": \"x5\", \"y\": [-0.5898979642836217, -1.7035606150240423, 0.41195268107418087, 1.1748195587973018, -0.2874381187037066, 0.5750172963551519, -0.6918057201108602, 1.175390395429051, -0.6050538557649577, 0.0019096459897705962, -0.9231136810089464, -0.39323459451035514, 2.244083134591712, -0.2882505022052697, 0.2781543452345917, 0.7078101611604473, 0.10649678961373046, 0.16738271233384605, -0.2463839532113507, 1.895360391608483, 0.5421372027154331, -0.6229051777303326, -0.10911768413612674, 1.4985291313289495, 0.46005062638417077, -1.5223404637630722, -0.8075314184354632, 0.45644429253156205, -2.7984474908916193, -1.041201734145715, 0.3375797120780502, 0.7627293350558662, -0.4582718115207457, 0.3293598357702051, 0.46510675786566447, -3.4360205185224273, -1.3947339927310538, -0.5221562099881435, 0.11844118831730661, -1.4766140798725693, 0.19975507683724641, -0.9339711813555169, 0.4620682372737366, -2.133616090565549, 0.3832310677836281, 0.7267988798691072, -0.7422830769123931, 1.545527709647746, -0.7771822405729585, 1.0400750382376254, -1.6855965797420718, -1.4495282515512824, -0.2038630140221456, 0.5565767167842305, 0.6853447643542557, -2.1016656826691626, 0.7968165469168353, -1.9742291602109332, 0.015884797000142253, -0.33292686237909414, -0.28126192873968675, -1.164288982256235, 0.9531908259029911, -0.9663699340304098, -0.1407555700606715, -0.8902939391432672, -0.883753820359266, -0.7646362892146369, -0.13566886289315494, -0.6504629597466766, 0.46657048242165916, 0.7078080387334367, 0.3506441991444549, 1.3062316775097684, 0.7666951256814395, -2.1761057499896372, 1.0886646387882366, 0.1398003837228066, 1.1774220915886786, -1.5628528424355201, -0.02078033990114364, 0.2881795839775908, -0.45384339986760425, 0.8287228776149175, -0.47309173198761245, 0.9618766946968291, 2.086699961485107, -0.3923203335643365, -0.3489396871594183, 0.38009544401220324, -1.5582853190566033, -2.316080376858616, -0.04888223868916067, 1.4508778558136317, -1.0698703039694686, 0.3906557706873268, -1.296791643711909, -1.0090503122907404, 0.9509049308922853, -0.02878651143711458], \"yaxis\": \"y5\"}, {\"histfunc\": \"count\", \"histnorm\": \"\", \"marker\": {\"color\": \"rgba(55, 128, 191, 1.0)\", \"line\": {\"color\": \"#4D5663\", \"width\": 1.3}}, \"name\": \"B\", \"nbinsx\": 10, \"opacity\": 0.8, \"orientation\": \"v\", \"type\": \"histogram\", \"x\": [-0.5898979642836217, -1.7035606150240423, 0.41195268107418087, 1.1748195587973018, -0.2874381187037066, 0.5750172963551519, -0.6918057201108602, 1.175390395429051, -0.6050538557649577, 0.0019096459897705962, -0.9231136810089464, -0.39323459451035514, 2.244083134591712, -0.2882505022052697, 0.2781543452345917, 0.7078101611604473, 0.10649678961373046, 0.16738271233384605, -0.2463839532113507, 1.895360391608483, 0.5421372027154331, -0.6229051777303326, -0.10911768413612674, 1.4985291313289495, 0.46005062638417077, -1.5223404637630722, -0.8075314184354632, 0.45644429253156205, -2.7984474908916193, -1.041201734145715, 0.3375797120780502, 0.7627293350558662, -0.4582718115207457, 0.3293598357702051, 0.46510675786566447, -3.4360205185224273, -1.3947339927310538, -0.5221562099881435, 0.11844118831730661, -1.4766140798725693, 0.19975507683724641, -0.9339711813555169, 0.4620682372737366, -2.133616090565549, 0.3832310677836281, 0.7267988798691072, -0.7422830769123931, 1.545527709647746, -0.7771822405729585, 1.0400750382376254, -1.6855965797420718, -1.4495282515512824, -0.2038630140221456, 0.5565767167842305, 0.6853447643542557, -2.1016656826691626, 0.7968165469168353, -1.9742291602109332, 0.015884797000142253, -0.33292686237909414, -0.28126192873968675, -1.164288982256235, 0.9531908259029911, -0.9663699340304098, -0.1407555700606715, -0.8902939391432672, -0.883753820359266, -0.7646362892146369, -0.13566886289315494, -0.6504629597466766, 0.46657048242165916, 0.7078080387334367, 0.3506441991444549, 1.3062316775097684, 0.7666951256814395, -2.1761057499896372, 1.0886646387882366, 0.1398003837228066, 1.1774220915886786, -1.5628528424355201, -0.02078033990114364, 0.2881795839775908, -0.45384339986760425, 0.8287228776149175, -0.47309173198761245, 0.9618766946968291, 2.086699961485107, -0.3923203335643365, -0.3489396871594183, 0.38009544401220324, -1.5582853190566033, -2.316080376858616, -0.04888223868916067, 1.4508778558136317, -1.0698703039694686, 0.3906557706873268, -1.296791643711909, -1.0090503122907404, 0.9509049308922853, -0.02878651143711458], \"xaxis\": \"x6\", \"yaxis\": \"y6\"}, {\"line\": {\"color\": \"rgba(128, 128, 128, 1.0)\", \"dash\": \"solid\", \"shape\": \"linear\", \"width\": 1.3}, \"marker\": {\"size\": 2, \"symbol\": \"circle\"}, \"mode\": \"markers\", \"name\": \"B\", \"text\": \"\", \"type\": \"scatter\", \"x\": [0.3563595190481723, 0.5378580625673637, 0.6173298842049206, 0.21033550597258313, 0.44595295816020464, 0.04734465427785705, 0.29451514142542107, -0.9104362947239052, -0.07368373573215535, -0.49009579808053116, -0.7516560112746027, -0.5218355203683539, 1.0572321458187806, -0.19125214921783798, -0.8841145793948796, -2.3351823124441653, 0.15341418212355862, -0.08823652936084907, -0.007883833663842916, -0.23585000687120442, 0.9031303932803689, -0.19828958817470044, -0.4566188095966283, -0.04207055140836586, 0.2606122258073981, 0.582451791438679, -0.5150976508274104, -1.7002930623164572, 0.927234615632159, -0.33999207269869747, 1.2865951541218563, 1.2052286004215986, -0.034560345581458735, -0.1965009735122464, 0.5788489442796333, 1.086961676923334, 1.0517377487472919, -0.7778358913150859, -0.014333865174890886, -1.308274320048806, -1.019456586799028, 1.7877339835004995, -0.29094327359053807, 0.6471806866229206, -0.3917125919254808, -0.27322823899618803, 1.094360822140504, 0.9843093557171149, 0.18072487387927072, 0.7345787459591877, 1.2031898005141421, 0.6275078194912926, -0.3838280425665974, -0.11864517969486123, -1.0481010822032037, -0.13614210035050264, 0.37261715026318526, 0.2754932744602963, 1.2566765340484616, -2.327316910825752, -0.0337140788528213, 1.083572109682462, 0.4020341114343595, -0.4476381375854337, -0.5479889019832572, -1.1601106017360991, 0.9268847350783452, 1.3062521338048927, 2.3696307070086213, 1.2939936462791204, -1.3474579967385054, 0.7560208066533932, 0.340328573525602, -0.3037446854112319, 0.14992534941418062, 0.6981484777917132, -1.600137624225199, -0.33559716548704815, -1.020606706556866, 1.6218541220366733, 0.5249322439679205, 1.2645200714561968, -0.5997953207598887, -0.8667687617263371, 0.34602584543690884, -0.1154494792571628, 1.2234381967219794, 0.4141928086174913, -0.49233108234498496, -0.34025603284701117, 0.4300105000890438, 1.2458895710075948, -0.14245016207378774, -0.30065296961149235, -0.7830309295774042, -0.4031855979781393, -0.4867573638752105, -0.9515469823851814, -0.14694131466044105, -1.3708606419981288], \"xaxis\": \"x7\", \"y\": [-0.5898979642836217, -1.7035606150240423, 0.41195268107418087, 1.1748195587973018, -0.2874381187037066, 0.5750172963551519, -0.6918057201108602, 1.175390395429051, -0.6050538557649577, 0.0019096459897705962, -0.9231136810089464, -0.39323459451035514, 2.244083134591712, -0.2882505022052697, 0.2781543452345917, 0.7078101611604473, 0.10649678961373046, 0.16738271233384605, -0.2463839532113507, 1.895360391608483, 0.5421372027154331, -0.6229051777303326, -0.10911768413612674, 1.4985291313289495, 0.46005062638417077, -1.5223404637630722, -0.8075314184354632, 0.45644429253156205, -2.7984474908916193, -1.041201734145715, 0.3375797120780502, 0.7627293350558662, -0.4582718115207457, 0.3293598357702051, 0.46510675786566447, -3.4360205185224273, -1.3947339927310538, -0.5221562099881435, 0.11844118831730661, -1.4766140798725693, 0.19975507683724641, -0.9339711813555169, 0.4620682372737366, -2.133616090565549, 0.3832310677836281, 0.7267988798691072, -0.7422830769123931, 1.545527709647746, -0.7771822405729585, 1.0400750382376254, -1.6855965797420718, -1.4495282515512824, -0.2038630140221456, 0.5565767167842305, 0.6853447643542557, -2.1016656826691626, 0.7968165469168353, -1.9742291602109332, 0.015884797000142253, -0.33292686237909414, -0.28126192873968675, -1.164288982256235, 0.9531908259029911, -0.9663699340304098, -0.1407555700606715, -0.8902939391432672, -0.883753820359266, -0.7646362892146369, -0.13566886289315494, -0.6504629597466766, 0.46657048242165916, 0.7078080387334367, 0.3506441991444549, 1.3062316775097684, 0.7666951256814395, -2.1761057499896372, 1.0886646387882366, 0.1398003837228066, 1.1774220915886786, -1.5628528424355201, -0.02078033990114364, 0.2881795839775908, -0.45384339986760425, 0.8287228776149175, -0.47309173198761245, 0.9618766946968291, 2.086699961485107, -0.3923203335643365, -0.3489396871594183, 0.38009544401220324, -1.5582853190566033, -2.316080376858616, -0.04888223868916067, 1.4508778558136317, -1.0698703039694686, 0.3906557706873268, -1.296791643711909, -1.0090503122907404, 0.9509049308922853, -0.02878651143711458], \"yaxis\": \"y7\"}, {\"line\": {\"color\": \"rgba(128, 128, 128, 1.0)\", \"dash\": \"solid\", \"shape\": \"linear\", \"width\": 1.3}, \"marker\": {\"size\": 2, \"symbol\": \"circle\"}, \"mode\": \"markers\", \"name\": \"B\", \"text\": \"\", \"type\": \"scatter\", \"x\": [-0.6815278090096228, 0.6836545158540465, 1.1605213141149195, -0.133052458115378, -2.979500348480578, -0.17772982983823818, 0.33662075084103943, 0.8237252349356241, 1.2155185449253194, -0.07648790492327208, 0.17557566222118365, 1.4172786923625398, 0.41023207422787317, 0.4145840112629592, -0.953117960299787, 1.3902345027918306, 1.3114591275083565, 0.37103721204853013, 1.628584056249766, -0.4673707338263525, -1.1063509644652172, -1.2155338781292224, -1.2364022292687875, -1.6046087199475132, -0.42975066485651914, -0.6459359742825395, -0.011123596704090351, -0.6090853660218682, -0.34495894566061597, -1.3289599971268262, 0.7160617352260024, -0.37536288095791126, -0.6598275895874195, -0.9102383622568297, -0.3907467067769348, 2.2817547532041442, -0.6931662646971632, 1.1980966518067875, -0.02004411852091231, -0.5752395136091221, 1.2339878709992507, -0.2910186234388754, 1.7759472267876908, -0.5431273262618557, 0.05313825638943675, 0.2529395777393483, 0.6079683298852785, -0.30212749638410447, 0.5929116743683776, 0.6769126419051446, 2.642585156974257, -0.7494424202356387, -0.28006733520712335, 0.5042486184901078, 0.47419946719610684, 1.6040680901475013, 0.973932341470313, -0.44950804122739146, 0.007291868666570613, 1.0692110221647848, -0.7914495847751928, -1.5324654850731874, -0.5050034502786495, -0.7957449591032016, 0.7211054593963526, 1.6239848914863952, -1.1889529552975984, -1.80725971645796, -0.1567435717692518, 1.8863153428561543, -0.32596644920844425, -1.9491709247132945, -0.9943818222384481, 1.3002735299490298, -0.2707542788536193, -1.6214993010961989, 0.07197454848896413, 0.7028756859541337, -1.3855443155607186, -0.9359776704337875, 0.979856625282574, 0.07954809091402387, 0.3659749882479351, -1.167821128119484, -1.7564234558593752, -0.7426087044916253, 0.7794977072509554, -0.19306460574406453, 0.18558965551803455, 2.579384339758135, -0.10036507426068357, 2.0156085373107837, 0.8077953402897897, 0.05250687146482705, -1.097473699324034, -0.7407063456432476, 0.7742610571080611, -1.087755049692921, -1.4286581098621647, -0.33755508978657744], \"xaxis\": \"x8\", \"y\": [-0.5898979642836217, -1.7035606150240423, 0.41195268107418087, 1.1748195587973018, -0.2874381187037066, 0.5750172963551519, -0.6918057201108602, 1.175390395429051, -0.6050538557649577, 0.0019096459897705962, -0.9231136810089464, -0.39323459451035514, 2.244083134591712, -0.2882505022052697, 0.2781543452345917, 0.7078101611604473, 0.10649678961373046, 0.16738271233384605, -0.2463839532113507, 1.895360391608483, 0.5421372027154331, -0.6229051777303326, -0.10911768413612674, 1.4985291313289495, 0.46005062638417077, -1.5223404637630722, -0.8075314184354632, 0.45644429253156205, -2.7984474908916193, -1.041201734145715, 0.3375797120780502, 0.7627293350558662, -0.4582718115207457, 0.3293598357702051, 0.46510675786566447, -3.4360205185224273, -1.3947339927310538, -0.5221562099881435, 0.11844118831730661, -1.4766140798725693, 0.19975507683724641, -0.9339711813555169, 0.4620682372737366, -2.133616090565549, 0.3832310677836281, 0.7267988798691072, -0.7422830769123931, 1.545527709647746, -0.7771822405729585, 1.0400750382376254, -1.6855965797420718, -1.4495282515512824, -0.2038630140221456, 0.5565767167842305, 0.6853447643542557, -2.1016656826691626, 0.7968165469168353, -1.9742291602109332, 0.015884797000142253, -0.33292686237909414, -0.28126192873968675, -1.164288982256235, 0.9531908259029911, -0.9663699340304098, -0.1407555700606715, -0.8902939391432672, -0.883753820359266, -0.7646362892146369, -0.13566886289315494, -0.6504629597466766, 0.46657048242165916, 0.7078080387334367, 0.3506441991444549, 1.3062316775097684, 0.7666951256814395, -2.1761057499896372, 1.0886646387882366, 0.1398003837228066, 1.1774220915886786, -1.5628528424355201, -0.02078033990114364, 0.2881795839775908, -0.45384339986760425, 0.8287228776149175, -0.47309173198761245, 0.9618766946968291, 2.086699961485107, -0.3923203335643365, -0.3489396871594183, 0.38009544401220324, -1.5582853190566033, -2.316080376858616, -0.04888223868916067, 1.4508778558136317, -1.0698703039694686, 0.3906557706873268, -1.296791643711909, -1.0090503122907404, 0.9509049308922853, -0.02878651143711458], \"yaxis\": \"y8\"}, {\"line\": {\"color\": \"rgba(128, 128, 128, 1.0)\", \"dash\": \"solid\", \"shape\": \"linear\", \"width\": 1.3}, \"marker\": {\"size\": 2, \"symbol\": \"circle\"}, \"mode\": \"markers\", \"name\": \"C\", \"text\": \"\", \"type\": \"scatter\", \"x\": [-1.1833147841107685, -1.7500193061567437, 1.131725711797192, -0.4149990629871035, -0.5546323136266743, 0.30716715349814916, 0.9307409446318613, 1.1827126886991306, -0.36277765018746844, -1.1575863885269426, -0.8378908404057034, -0.3912685021276453, -1.3589334660637948, -0.9289435721940565, -0.7124449800398088, -1.6065487619933794, 2.332208250292037, 0.8026240180457727, -0.3270519336517877, -0.23711569943831692, -1.1574596670571589, 0.6356964428430179, -1.1519757857088226, -3.8820799601324034, 0.7723161251731423, 2.065264810943613, 0.02000222388239315, 0.3991394917296089, 0.945535911129008, -1.204940020191649, 0.2502984273434721, 0.4384717934478959, -0.3157678412237403, 0.6107843478312683, 1.4209487036819728, 0.8379028557999306, 1.402820371959644, -0.7644680156984743, 3.3499358837402666, -0.2794976581737439, 0.7120731738683018, 0.46511545582490277, 0.2695328720433325, 1.6056065472068564, -0.5389598099942599, 1.5665773988947163, 0.06510700987045681, 0.5239553353008185, 0.019203296036346764, -0.4421735345591453, 0.14516936021065513, 1.0355126831038233, -0.023036701246943896, 1.0388811679514585, -0.20672847201013142, 0.1716283164432814, -1.9380850409091082, -0.5851204532923052, -1.9757006147510012, 0.34022601382222384, 0.5079218681199503, 0.7631189321743553, 0.96306713033488, -0.8121233094405356, -0.9882153281714651, -0.4845284460071705, -0.02570082243243427, -0.03400268620872826, 0.5047792802117658, -2.279607145438385, -0.07385901857965435, -1.1771511696616481, -0.100857518160516, 1.0189389924248553, -1.6986752286473015, -2.2268426553186775, -0.9201106764549231, -1.060674427588634, 0.7607522685667668, 0.1235188485203996, 0.046532648289906525, -1.1751332884820118, -0.4914839965164748, -1.7497373291544116, -0.3786193081224398, -0.13885120042759355, -0.6706094005349879, -0.38208822846680607, 1.1451940523399124, -1.5857540722581318, 1.0235693577972806, -1.2530876758385363, 0.07528977828068915, -0.4156784952599241, -0.29874608294387867, 0.48755629016495683, 0.23878761796209058, -0.20848531744749169, -0.0689143672965231, 1.2984345736949008], \"xaxis\": \"x9\", \"y\": [0.3563595190481723, 0.5378580625673637, 0.6173298842049206, 0.21033550597258313, 0.44595295816020464, 0.04734465427785705, 0.29451514142542107, -0.9104362947239052, -0.07368373573215535, -0.49009579808053116, -0.7516560112746027, -0.5218355203683539, 1.0572321458187806, -0.19125214921783798, -0.8841145793948796, -2.3351823124441653, 0.15341418212355862, -0.08823652936084907, -0.007883833663842916, -0.23585000687120442, 0.9031303932803689, -0.19828958817470044, -0.4566188095966283, -0.04207055140836586, 0.2606122258073981, 0.582451791438679, -0.5150976508274104, -1.7002930623164572, 0.927234615632159, -0.33999207269869747, 1.2865951541218563, 1.2052286004215986, -0.034560345581458735, -0.1965009735122464, 0.5788489442796333, 1.086961676923334, 1.0517377487472919, -0.7778358913150859, -0.014333865174890886, -1.308274320048806, -1.019456586799028, 1.7877339835004995, -0.29094327359053807, 0.6471806866229206, -0.3917125919254808, -0.27322823899618803, 1.094360822140504, 0.9843093557171149, 0.18072487387927072, 0.7345787459591877, 1.2031898005141421, 0.6275078194912926, -0.3838280425665974, -0.11864517969486123, -1.0481010822032037, -0.13614210035050264, 0.37261715026318526, 0.2754932744602963, 1.2566765340484616, -2.327316910825752, -0.0337140788528213, 1.083572109682462, 0.4020341114343595, -0.4476381375854337, -0.5479889019832572, -1.1601106017360991, 0.9268847350783452, 1.3062521338048927, 2.3696307070086213, 1.2939936462791204, -1.3474579967385054, 0.7560208066533932, 0.340328573525602, -0.3037446854112319, 0.14992534941418062, 0.6981484777917132, -1.600137624225199, -0.33559716548704815, -1.020606706556866, 1.6218541220366733, 0.5249322439679205, 1.2645200714561968, -0.5997953207598887, -0.8667687617263371, 0.34602584543690884, -0.1154494792571628, 1.2234381967219794, 0.4141928086174913, -0.49233108234498496, -0.34025603284701117, 0.4300105000890438, 1.2458895710075948, -0.14245016207378774, -0.30065296961149235, -0.7830309295774042, -0.4031855979781393, -0.4867573638752105, -0.9515469823851814, -0.14694131466044105, -1.3708606419981288], \"yaxis\": \"y9\"}, {\"line\": {\"color\": \"rgba(128, 128, 128, 1.0)\", \"dash\": \"solid\", \"shape\": \"linear\", \"width\": 1.3}, \"marker\": {\"size\": 2, \"symbol\": \"circle\"}, \"mode\": \"markers\", \"name\": \"C\", \"text\": \"\", \"type\": \"scatter\", \"x\": [-0.5898979642836217, -1.7035606150240423, 0.41195268107418087, 1.1748195587973018, -0.2874381187037066, 0.5750172963551519, -0.6918057201108602, 1.175390395429051, -0.6050538557649577, 0.0019096459897705962, -0.9231136810089464, -0.39323459451035514, 2.244083134591712, -0.2882505022052697, 0.2781543452345917, 0.7078101611604473, 0.10649678961373046, 0.16738271233384605, -0.2463839532113507, 1.895360391608483, 0.5421372027154331, -0.6229051777303326, -0.10911768413612674, 1.4985291313289495, 0.46005062638417077, -1.5223404637630722, -0.8075314184354632, 0.45644429253156205, -2.7984474908916193, -1.041201734145715, 0.3375797120780502, 0.7627293350558662, -0.4582718115207457, 0.3293598357702051, 0.46510675786566447, -3.4360205185224273, -1.3947339927310538, -0.5221562099881435, 0.11844118831730661, -1.4766140798725693, 0.19975507683724641, -0.9339711813555169, 0.4620682372737366, -2.133616090565549, 0.3832310677836281, 0.7267988798691072, -0.7422830769123931, 1.545527709647746, -0.7771822405729585, 1.0400750382376254, -1.6855965797420718, -1.4495282515512824, -0.2038630140221456, 0.5565767167842305, 0.6853447643542557, -2.1016656826691626, 0.7968165469168353, -1.9742291602109332, 0.015884797000142253, -0.33292686237909414, -0.28126192873968675, -1.164288982256235, 0.9531908259029911, -0.9663699340304098, -0.1407555700606715, -0.8902939391432672, -0.883753820359266, -0.7646362892146369, -0.13566886289315494, -0.6504629597466766, 0.46657048242165916, 0.7078080387334367, 0.3506441991444549, 1.3062316775097684, 0.7666951256814395, -2.1761057499896372, 1.0886646387882366, 0.1398003837228066, 1.1774220915886786, -1.5628528424355201, -0.02078033990114364, 0.2881795839775908, -0.45384339986760425, 0.8287228776149175, -0.47309173198761245, 0.9618766946968291, 2.086699961485107, -0.3923203335643365, -0.3489396871594183, 0.38009544401220324, -1.5582853190566033, -2.316080376858616, -0.04888223868916067, 1.4508778558136317, -1.0698703039694686, 0.3906557706873268, -1.296791643711909, -1.0090503122907404, 0.9509049308922853, -0.02878651143711458], \"xaxis\": \"x10\", \"y\": [0.3563595190481723, 0.5378580625673637, 0.6173298842049206, 0.21033550597258313, 0.44595295816020464, 0.04734465427785705, 0.29451514142542107, -0.9104362947239052, -0.07368373573215535, -0.49009579808053116, -0.7516560112746027, -0.5218355203683539, 1.0572321458187806, -0.19125214921783798, -0.8841145793948796, -2.3351823124441653, 0.15341418212355862, -0.08823652936084907, -0.007883833663842916, -0.23585000687120442, 0.9031303932803689, -0.19828958817470044, -0.4566188095966283, -0.04207055140836586, 0.2606122258073981, 0.582451791438679, -0.5150976508274104, -1.7002930623164572, 0.927234615632159, -0.33999207269869747, 1.2865951541218563, 1.2052286004215986, -0.034560345581458735, -0.1965009735122464, 0.5788489442796333, 1.086961676923334, 1.0517377487472919, -0.7778358913150859, -0.014333865174890886, -1.308274320048806, -1.019456586799028, 1.7877339835004995, -0.29094327359053807, 0.6471806866229206, -0.3917125919254808, -0.27322823899618803, 1.094360822140504, 0.9843093557171149, 0.18072487387927072, 0.7345787459591877, 1.2031898005141421, 0.6275078194912926, -0.3838280425665974, -0.11864517969486123, -1.0481010822032037, -0.13614210035050264, 0.37261715026318526, 0.2754932744602963, 1.2566765340484616, -2.327316910825752, -0.0337140788528213, 1.083572109682462, 0.4020341114343595, -0.4476381375854337, -0.5479889019832572, -1.1601106017360991, 0.9268847350783452, 1.3062521338048927, 2.3696307070086213, 1.2939936462791204, -1.3474579967385054, 0.7560208066533932, 0.340328573525602, -0.3037446854112319, 0.14992534941418062, 0.6981484777917132, -1.600137624225199, -0.33559716548704815, -1.020606706556866, 1.6218541220366733, 0.5249322439679205, 1.2645200714561968, -0.5997953207598887, -0.8667687617263371, 0.34602584543690884, -0.1154494792571628, 1.2234381967219794, 0.4141928086174913, -0.49233108234498496, -0.34025603284701117, 0.4300105000890438, 1.2458895710075948, -0.14245016207378774, -0.30065296961149235, -0.7830309295774042, -0.4031855979781393, -0.4867573638752105, -0.9515469823851814, -0.14694131466044105, -1.3708606419981288], \"yaxis\": \"y10\"}, {\"histfunc\": \"count\", \"histnorm\": \"\", \"marker\": {\"color\": \"rgba(50, 171, 96, 1.0)\", \"line\": {\"color\": \"#4D5663\", \"width\": 1.3}}, \"name\": \"C\", \"nbinsx\": 10, \"opacity\": 0.8, \"orientation\": \"v\", \"type\": \"histogram\", \"x\": [0.3563595190481723, 0.5378580625673637, 0.6173298842049206, 0.21033550597258313, 0.44595295816020464, 0.04734465427785705, 0.29451514142542107, -0.9104362947239052, -0.07368373573215535, -0.49009579808053116, -0.7516560112746027, -0.5218355203683539, 1.0572321458187806, -0.19125214921783798, -0.8841145793948796, -2.3351823124441653, 0.15341418212355862, -0.08823652936084907, -0.007883833663842916, -0.23585000687120442, 0.9031303932803689, -0.19828958817470044, -0.4566188095966283, -0.04207055140836586, 0.2606122258073981, 0.582451791438679, -0.5150976508274104, -1.7002930623164572, 0.927234615632159, -0.33999207269869747, 1.2865951541218563, 1.2052286004215986, -0.034560345581458735, -0.1965009735122464, 0.5788489442796333, 1.086961676923334, 1.0517377487472919, -0.7778358913150859, -0.014333865174890886, -1.308274320048806, -1.019456586799028, 1.7877339835004995, -0.29094327359053807, 0.6471806866229206, -0.3917125919254808, -0.27322823899618803, 1.094360822140504, 0.9843093557171149, 0.18072487387927072, 0.7345787459591877, 1.2031898005141421, 0.6275078194912926, -0.3838280425665974, -0.11864517969486123, -1.0481010822032037, -0.13614210035050264, 0.37261715026318526, 0.2754932744602963, 1.2566765340484616, -2.327316910825752, -0.0337140788528213, 1.083572109682462, 0.4020341114343595, -0.4476381375854337, -0.5479889019832572, -1.1601106017360991, 0.9268847350783452, 1.3062521338048927, 2.3696307070086213, 1.2939936462791204, -1.3474579967385054, 0.7560208066533932, 0.340328573525602, -0.3037446854112319, 0.14992534941418062, 0.6981484777917132, -1.600137624225199, -0.33559716548704815, -1.020606706556866, 1.6218541220366733, 0.5249322439679205, 1.2645200714561968, -0.5997953207598887, -0.8667687617263371, 0.34602584543690884, -0.1154494792571628, 1.2234381967219794, 0.4141928086174913, -0.49233108234498496, -0.34025603284701117, 0.4300105000890438, 1.2458895710075948, -0.14245016207378774, -0.30065296961149235, -0.7830309295774042, -0.4031855979781393, -0.4867573638752105, -0.9515469823851814, -0.14694131466044105, -1.3708606419981288], \"xaxis\": \"x11\", \"yaxis\": \"y11\"}, {\"line\": {\"color\": \"rgba(128, 128, 128, 1.0)\", \"dash\": \"solid\", \"shape\": \"linear\", \"width\": 1.3}, \"marker\": {\"size\": 2, \"symbol\": \"circle\"}, \"mode\": \"markers\", \"name\": \"C\", \"text\": \"\", \"type\": \"scatter\", \"x\": [-0.6815278090096228, 0.6836545158540465, 1.1605213141149195, -0.133052458115378, -2.979500348480578, -0.17772982983823818, 0.33662075084103943, 0.8237252349356241, 1.2155185449253194, -0.07648790492327208, 0.17557566222118365, 1.4172786923625398, 0.41023207422787317, 0.4145840112629592, -0.953117960299787, 1.3902345027918306, 1.3114591275083565, 0.37103721204853013, 1.628584056249766, -0.4673707338263525, -1.1063509644652172, -1.2155338781292224, -1.2364022292687875, -1.6046087199475132, -0.42975066485651914, -0.6459359742825395, -0.011123596704090351, -0.6090853660218682, -0.34495894566061597, -1.3289599971268262, 0.7160617352260024, -0.37536288095791126, -0.6598275895874195, -0.9102383622568297, -0.3907467067769348, 2.2817547532041442, -0.6931662646971632, 1.1980966518067875, -0.02004411852091231, -0.5752395136091221, 1.2339878709992507, -0.2910186234388754, 1.7759472267876908, -0.5431273262618557, 0.05313825638943675, 0.2529395777393483, 0.6079683298852785, -0.30212749638410447, 0.5929116743683776, 0.6769126419051446, 2.642585156974257, -0.7494424202356387, -0.28006733520712335, 0.5042486184901078, 0.47419946719610684, 1.6040680901475013, 0.973932341470313, -0.44950804122739146, 0.007291868666570613, 1.0692110221647848, -0.7914495847751928, -1.5324654850731874, -0.5050034502786495, -0.7957449591032016, 0.7211054593963526, 1.6239848914863952, -1.1889529552975984, -1.80725971645796, -0.1567435717692518, 1.8863153428561543, -0.32596644920844425, -1.9491709247132945, -0.9943818222384481, 1.3002735299490298, -0.2707542788536193, -1.6214993010961989, 0.07197454848896413, 0.7028756859541337, -1.3855443155607186, -0.9359776704337875, 0.979856625282574, 0.07954809091402387, 0.3659749882479351, -1.167821128119484, -1.7564234558593752, -0.7426087044916253, 0.7794977072509554, -0.19306460574406453, 0.18558965551803455, 2.579384339758135, -0.10036507426068357, 2.0156085373107837, 0.8077953402897897, 0.05250687146482705, -1.097473699324034, -0.7407063456432476, 0.7742610571080611, -1.087755049692921, -1.4286581098621647, -0.33755508978657744], \"xaxis\": \"x12\", \"y\": [0.3563595190481723, 0.5378580625673637, 0.6173298842049206, 0.21033550597258313, 0.44595295816020464, 0.04734465427785705, 0.29451514142542107, -0.9104362947239052, -0.07368373573215535, -0.49009579808053116, -0.7516560112746027, -0.5218355203683539, 1.0572321458187806, -0.19125214921783798, -0.8841145793948796, -2.3351823124441653, 0.15341418212355862, -0.08823652936084907, -0.007883833663842916, -0.23585000687120442, 0.9031303932803689, -0.19828958817470044, -0.4566188095966283, -0.04207055140836586, 0.2606122258073981, 0.582451791438679, -0.5150976508274104, -1.7002930623164572, 0.927234615632159, -0.33999207269869747, 1.2865951541218563, 1.2052286004215986, -0.034560345581458735, -0.1965009735122464, 0.5788489442796333, 1.086961676923334, 1.0517377487472919, -0.7778358913150859, -0.014333865174890886, -1.308274320048806, -1.019456586799028, 1.7877339835004995, -0.29094327359053807, 0.6471806866229206, -0.3917125919254808, -0.27322823899618803, 1.094360822140504, 0.9843093557171149, 0.18072487387927072, 0.7345787459591877, 1.2031898005141421, 0.6275078194912926, -0.3838280425665974, -0.11864517969486123, -1.0481010822032037, -0.13614210035050264, 0.37261715026318526, 0.2754932744602963, 1.2566765340484616, -2.327316910825752, -0.0337140788528213, 1.083572109682462, 0.4020341114343595, -0.4476381375854337, -0.5479889019832572, -1.1601106017360991, 0.9268847350783452, 1.3062521338048927, 2.3696307070086213, 1.2939936462791204, -1.3474579967385054, 0.7560208066533932, 0.340328573525602, -0.3037446854112319, 0.14992534941418062, 0.6981484777917132, -1.600137624225199, -0.33559716548704815, -1.020606706556866, 1.6218541220366733, 0.5249322439679205, 1.2645200714561968, -0.5997953207598887, -0.8667687617263371, 0.34602584543690884, -0.1154494792571628, 1.2234381967219794, 0.4141928086174913, -0.49233108234498496, -0.34025603284701117, 0.4300105000890438, 1.2458895710075948, -0.14245016207378774, -0.30065296961149235, -0.7830309295774042, -0.4031855979781393, -0.4867573638752105, -0.9515469823851814, -0.14694131466044105, -1.3708606419981288], \"yaxis\": \"y12\"}, {\"line\": {\"color\": \"rgba(128, 128, 128, 1.0)\", \"dash\": \"solid\", \"shape\": \"linear\", \"width\": 1.3}, \"marker\": {\"size\": 2, \"symbol\": \"circle\"}, \"mode\": \"markers\", \"name\": \"D\", \"text\": \"\", \"type\": \"scatter\", \"x\": [-1.1833147841107685, -1.7500193061567437, 1.131725711797192, -0.4149990629871035, -0.5546323136266743, 0.30716715349814916, 0.9307409446318613, 1.1827126886991306, -0.36277765018746844, -1.1575863885269426, -0.8378908404057034, -0.3912685021276453, -1.3589334660637948, -0.9289435721940565, -0.7124449800398088, -1.6065487619933794, 2.332208250292037, 0.8026240180457727, -0.3270519336517877, -0.23711569943831692, -1.1574596670571589, 0.6356964428430179, -1.1519757857088226, -3.8820799601324034, 0.7723161251731423, 2.065264810943613, 0.02000222388239315, 0.3991394917296089, 0.945535911129008, -1.204940020191649, 0.2502984273434721, 0.4384717934478959, -0.3157678412237403, 0.6107843478312683, 1.4209487036819728, 0.8379028557999306, 1.402820371959644, -0.7644680156984743, 3.3499358837402666, -0.2794976581737439, 0.7120731738683018, 0.46511545582490277, 0.2695328720433325, 1.6056065472068564, -0.5389598099942599, 1.5665773988947163, 0.06510700987045681, 0.5239553353008185, 0.019203296036346764, -0.4421735345591453, 0.14516936021065513, 1.0355126831038233, -0.023036701246943896, 1.0388811679514585, -0.20672847201013142, 0.1716283164432814, -1.9380850409091082, -0.5851204532923052, -1.9757006147510012, 0.34022601382222384, 0.5079218681199503, 0.7631189321743553, 0.96306713033488, -0.8121233094405356, -0.9882153281714651, -0.4845284460071705, -0.02570082243243427, -0.03400268620872826, 0.5047792802117658, -2.279607145438385, -0.07385901857965435, -1.1771511696616481, -0.100857518160516, 1.0189389924248553, -1.6986752286473015, -2.2268426553186775, -0.9201106764549231, -1.060674427588634, 0.7607522685667668, 0.1235188485203996, 0.046532648289906525, -1.1751332884820118, -0.4914839965164748, -1.7497373291544116, -0.3786193081224398, -0.13885120042759355, -0.6706094005349879, -0.38208822846680607, 1.1451940523399124, -1.5857540722581318, 1.0235693577972806, -1.2530876758385363, 0.07528977828068915, -0.4156784952599241, -0.29874608294387867, 0.48755629016495683, 0.23878761796209058, -0.20848531744749169, -0.0689143672965231, 1.2984345736949008], \"xaxis\": \"x13\", \"y\": [-0.6815278090096228, 0.6836545158540465, 1.1605213141149195, -0.133052458115378, -2.979500348480578, -0.17772982983823818, 0.33662075084103943, 0.8237252349356241, 1.2155185449253194, -0.07648790492327208, 0.17557566222118365, 1.4172786923625398, 0.41023207422787317, 0.4145840112629592, -0.953117960299787, 1.3902345027918306, 1.3114591275083565, 0.37103721204853013, 1.628584056249766, -0.4673707338263525, -1.1063509644652172, -1.2155338781292224, -1.2364022292687875, -1.6046087199475132, -0.42975066485651914, -0.6459359742825395, -0.011123596704090351, -0.6090853660218682, -0.34495894566061597, -1.3289599971268262, 0.7160617352260024, -0.37536288095791126, -0.6598275895874195, -0.9102383622568297, -0.3907467067769348, 2.2817547532041442, -0.6931662646971632, 1.1980966518067875, -0.02004411852091231, -0.5752395136091221, 1.2339878709992507, -0.2910186234388754, 1.7759472267876908, -0.5431273262618557, 0.05313825638943675, 0.2529395777393483, 0.6079683298852785, -0.30212749638410447, 0.5929116743683776, 0.6769126419051446, 2.642585156974257, -0.7494424202356387, -0.28006733520712335, 0.5042486184901078, 0.47419946719610684, 1.6040680901475013, 0.973932341470313, -0.44950804122739146, 0.007291868666570613, 1.0692110221647848, -0.7914495847751928, -1.5324654850731874, -0.5050034502786495, -0.7957449591032016, 0.7211054593963526, 1.6239848914863952, -1.1889529552975984, -1.80725971645796, -0.1567435717692518, 1.8863153428561543, -0.32596644920844425, -1.9491709247132945, -0.9943818222384481, 1.3002735299490298, -0.2707542788536193, -1.6214993010961989, 0.07197454848896413, 0.7028756859541337, -1.3855443155607186, -0.9359776704337875, 0.979856625282574, 0.07954809091402387, 0.3659749882479351, -1.167821128119484, -1.7564234558593752, -0.7426087044916253, 0.7794977072509554, -0.19306460574406453, 0.18558965551803455, 2.579384339758135, -0.10036507426068357, 2.0156085373107837, 0.8077953402897897, 0.05250687146482705, -1.097473699324034, -0.7407063456432476, 0.7742610571080611, -1.087755049692921, -1.4286581098621647, -0.33755508978657744], \"yaxis\": \"y13\"}, {\"line\": {\"color\": \"rgba(128, 128, 128, 1.0)\", \"dash\": \"solid\", \"shape\": \"linear\", \"width\": 1.3}, \"marker\": {\"size\": 2, \"symbol\": \"circle\"}, \"mode\": \"markers\", \"name\": \"D\", \"text\": \"\", \"type\": \"scatter\", \"x\": [-0.5898979642836217, -1.7035606150240423, 0.41195268107418087, 1.1748195587973018, -0.2874381187037066, 0.5750172963551519, -0.6918057201108602, 1.175390395429051, -0.6050538557649577, 0.0019096459897705962, -0.9231136810089464, -0.39323459451035514, 2.244083134591712, -0.2882505022052697, 0.2781543452345917, 0.7078101611604473, 0.10649678961373046, 0.16738271233384605, -0.2463839532113507, 1.895360391608483, 0.5421372027154331, -0.6229051777303326, -0.10911768413612674, 1.4985291313289495, 0.46005062638417077, -1.5223404637630722, -0.8075314184354632, 0.45644429253156205, -2.7984474908916193, -1.041201734145715, 0.3375797120780502, 0.7627293350558662, -0.4582718115207457, 0.3293598357702051, 0.46510675786566447, -3.4360205185224273, -1.3947339927310538, -0.5221562099881435, 0.11844118831730661, -1.4766140798725693, 0.19975507683724641, -0.9339711813555169, 0.4620682372737366, -2.133616090565549, 0.3832310677836281, 0.7267988798691072, -0.7422830769123931, 1.545527709647746, -0.7771822405729585, 1.0400750382376254, -1.6855965797420718, -1.4495282515512824, -0.2038630140221456, 0.5565767167842305, 0.6853447643542557, -2.1016656826691626, 0.7968165469168353, -1.9742291602109332, 0.015884797000142253, -0.33292686237909414, -0.28126192873968675, -1.164288982256235, 0.9531908259029911, -0.9663699340304098, -0.1407555700606715, -0.8902939391432672, -0.883753820359266, -0.7646362892146369, -0.13566886289315494, -0.6504629597466766, 0.46657048242165916, 0.7078080387334367, 0.3506441991444549, 1.3062316775097684, 0.7666951256814395, -2.1761057499896372, 1.0886646387882366, 0.1398003837228066, 1.1774220915886786, -1.5628528424355201, -0.02078033990114364, 0.2881795839775908, -0.45384339986760425, 0.8287228776149175, -0.47309173198761245, 0.9618766946968291, 2.086699961485107, -0.3923203335643365, -0.3489396871594183, 0.38009544401220324, -1.5582853190566033, -2.316080376858616, -0.04888223868916067, 1.4508778558136317, -1.0698703039694686, 0.3906557706873268, -1.296791643711909, -1.0090503122907404, 0.9509049308922853, -0.02878651143711458], \"xaxis\": \"x14\", \"y\": [-0.6815278090096228, 0.6836545158540465, 1.1605213141149195, -0.133052458115378, -2.979500348480578, -0.17772982983823818, 0.33662075084103943, 0.8237252349356241, 1.2155185449253194, -0.07648790492327208, 0.17557566222118365, 1.4172786923625398, 0.41023207422787317, 0.4145840112629592, -0.953117960299787, 1.3902345027918306, 1.3114591275083565, 0.37103721204853013, 1.628584056249766, -0.4673707338263525, -1.1063509644652172, -1.2155338781292224, -1.2364022292687875, -1.6046087199475132, -0.42975066485651914, -0.6459359742825395, -0.011123596704090351, -0.6090853660218682, -0.34495894566061597, -1.3289599971268262, 0.7160617352260024, -0.37536288095791126, -0.6598275895874195, -0.9102383622568297, -0.3907467067769348, 2.2817547532041442, -0.6931662646971632, 1.1980966518067875, -0.02004411852091231, -0.5752395136091221, 1.2339878709992507, -0.2910186234388754, 1.7759472267876908, -0.5431273262618557, 0.05313825638943675, 0.2529395777393483, 0.6079683298852785, -0.30212749638410447, 0.5929116743683776, 0.6769126419051446, 2.642585156974257, -0.7494424202356387, -0.28006733520712335, 0.5042486184901078, 0.47419946719610684, 1.6040680901475013, 0.973932341470313, -0.44950804122739146, 0.007291868666570613, 1.0692110221647848, -0.7914495847751928, -1.5324654850731874, -0.5050034502786495, -0.7957449591032016, 0.7211054593963526, 1.6239848914863952, -1.1889529552975984, -1.80725971645796, -0.1567435717692518, 1.8863153428561543, -0.32596644920844425, -1.9491709247132945, -0.9943818222384481, 1.3002735299490298, -0.2707542788536193, -1.6214993010961989, 0.07197454848896413, 0.7028756859541337, -1.3855443155607186, -0.9359776704337875, 0.979856625282574, 0.07954809091402387, 0.3659749882479351, -1.167821128119484, -1.7564234558593752, -0.7426087044916253, 0.7794977072509554, -0.19306460574406453, 0.18558965551803455, 2.579384339758135, -0.10036507426068357, 2.0156085373107837, 0.8077953402897897, 0.05250687146482705, -1.097473699324034, -0.7407063456432476, 0.7742610571080611, -1.087755049692921, -1.4286581098621647, -0.33755508978657744], \"yaxis\": \"y14\"}, {\"line\": {\"color\": \"rgba(128, 128, 128, 1.0)\", \"dash\": \"solid\", \"shape\": \"linear\", \"width\": 1.3}, \"marker\": {\"size\": 2, \"symbol\": \"circle\"}, \"mode\": \"markers\", \"name\": \"D\", \"text\": \"\", \"type\": \"scatter\", \"x\": [0.3563595190481723, 0.5378580625673637, 0.6173298842049206, 0.21033550597258313, 0.44595295816020464, 0.04734465427785705, 0.29451514142542107, -0.9104362947239052, -0.07368373573215535, -0.49009579808053116, -0.7516560112746027, -0.5218355203683539, 1.0572321458187806, -0.19125214921783798, -0.8841145793948796, -2.3351823124441653, 0.15341418212355862, -0.08823652936084907, -0.007883833663842916, -0.23585000687120442, 0.9031303932803689, -0.19828958817470044, -0.4566188095966283, -0.04207055140836586, 0.2606122258073981, 0.582451791438679, -0.5150976508274104, -1.7002930623164572, 0.927234615632159, -0.33999207269869747, 1.2865951541218563, 1.2052286004215986, -0.034560345581458735, -0.1965009735122464, 0.5788489442796333, 1.086961676923334, 1.0517377487472919, -0.7778358913150859, -0.014333865174890886, -1.308274320048806, -1.019456586799028, 1.7877339835004995, -0.29094327359053807, 0.6471806866229206, -0.3917125919254808, -0.27322823899618803, 1.094360822140504, 0.9843093557171149, 0.18072487387927072, 0.7345787459591877, 1.2031898005141421, 0.6275078194912926, -0.3838280425665974, -0.11864517969486123, -1.0481010822032037, -0.13614210035050264, 0.37261715026318526, 0.2754932744602963, 1.2566765340484616, -2.327316910825752, -0.0337140788528213, 1.083572109682462, 0.4020341114343595, -0.4476381375854337, -0.5479889019832572, -1.1601106017360991, 0.9268847350783452, 1.3062521338048927, 2.3696307070086213, 1.2939936462791204, -1.3474579967385054, 0.7560208066533932, 0.340328573525602, -0.3037446854112319, 0.14992534941418062, 0.6981484777917132, -1.600137624225199, -0.33559716548704815, -1.020606706556866, 1.6218541220366733, 0.5249322439679205, 1.2645200714561968, -0.5997953207598887, -0.8667687617263371, 0.34602584543690884, -0.1154494792571628, 1.2234381967219794, 0.4141928086174913, -0.49233108234498496, -0.34025603284701117, 0.4300105000890438, 1.2458895710075948, -0.14245016207378774, -0.30065296961149235, -0.7830309295774042, -0.4031855979781393, -0.4867573638752105, -0.9515469823851814, -0.14694131466044105, -1.3708606419981288], \"xaxis\": \"x15\", \"y\": [-0.6815278090096228, 0.6836545158540465, 1.1605213141149195, -0.133052458115378, -2.979500348480578, -0.17772982983823818, 0.33662075084103943, 0.8237252349356241, 1.2155185449253194, -0.07648790492327208, 0.17557566222118365, 1.4172786923625398, 0.41023207422787317, 0.4145840112629592, -0.953117960299787, 1.3902345027918306, 1.3114591275083565, 0.37103721204853013, 1.628584056249766, -0.4673707338263525, -1.1063509644652172, -1.2155338781292224, -1.2364022292687875, -1.6046087199475132, -0.42975066485651914, -0.6459359742825395, -0.011123596704090351, -0.6090853660218682, -0.34495894566061597, -1.3289599971268262, 0.7160617352260024, -0.37536288095791126, -0.6598275895874195, -0.9102383622568297, -0.3907467067769348, 2.2817547532041442, -0.6931662646971632, 1.1980966518067875, -0.02004411852091231, -0.5752395136091221, 1.2339878709992507, -0.2910186234388754, 1.7759472267876908, -0.5431273262618557, 0.05313825638943675, 0.2529395777393483, 0.6079683298852785, -0.30212749638410447, 0.5929116743683776, 0.6769126419051446, 2.642585156974257, -0.7494424202356387, -0.28006733520712335, 0.5042486184901078, 0.47419946719610684, 1.6040680901475013, 0.973932341470313, -0.44950804122739146, 0.007291868666570613, 1.0692110221647848, -0.7914495847751928, -1.5324654850731874, -0.5050034502786495, -0.7957449591032016, 0.7211054593963526, 1.6239848914863952, -1.1889529552975984, -1.80725971645796, -0.1567435717692518, 1.8863153428561543, -0.32596644920844425, -1.9491709247132945, -0.9943818222384481, 1.3002735299490298, -0.2707542788536193, -1.6214993010961989, 0.07197454848896413, 0.7028756859541337, -1.3855443155607186, -0.9359776704337875, 0.979856625282574, 0.07954809091402387, 0.3659749882479351, -1.167821128119484, -1.7564234558593752, -0.7426087044916253, 0.7794977072509554, -0.19306460574406453, 0.18558965551803455, 2.579384339758135, -0.10036507426068357, 2.0156085373107837, 0.8077953402897897, 0.05250687146482705, -1.097473699324034, -0.7407063456432476, 0.7742610571080611, -1.087755049692921, -1.4286581098621647, -0.33755508978657744], \"yaxis\": \"y15\"}, {\"histfunc\": \"count\", \"histnorm\": \"\", \"marker\": {\"color\": \"rgba(128, 0, 128, 1.0)\", \"line\": {\"color\": \"#4D5663\", \"width\": 1.3}}, \"name\": \"D\", \"nbinsx\": 10, \"opacity\": 0.8, \"orientation\": \"v\", \"type\": \"histogram\", \"x\": [-0.6815278090096228, 0.6836545158540465, 1.1605213141149195, -0.133052458115378, -2.979500348480578, -0.17772982983823818, 0.33662075084103943, 0.8237252349356241, 1.2155185449253194, -0.07648790492327208, 0.17557566222118365, 1.4172786923625398, 0.41023207422787317, 0.4145840112629592, -0.953117960299787, 1.3902345027918306, 1.3114591275083565, 0.37103721204853013, 1.628584056249766, -0.4673707338263525, -1.1063509644652172, -1.2155338781292224, -1.2364022292687875, -1.6046087199475132, -0.42975066485651914, -0.6459359742825395, -0.011123596704090351, -0.6090853660218682, -0.34495894566061597, -1.3289599971268262, 0.7160617352260024, -0.37536288095791126, -0.6598275895874195, -0.9102383622568297, -0.3907467067769348, 2.2817547532041442, -0.6931662646971632, 1.1980966518067875, -0.02004411852091231, -0.5752395136091221, 1.2339878709992507, -0.2910186234388754, 1.7759472267876908, -0.5431273262618557, 0.05313825638943675, 0.2529395777393483, 0.6079683298852785, -0.30212749638410447, 0.5929116743683776, 0.6769126419051446, 2.642585156974257, -0.7494424202356387, -0.28006733520712335, 0.5042486184901078, 0.47419946719610684, 1.6040680901475013, 0.973932341470313, -0.44950804122739146, 0.007291868666570613, 1.0692110221647848, -0.7914495847751928, -1.5324654850731874, -0.5050034502786495, -0.7957449591032016, 0.7211054593963526, 1.6239848914863952, -1.1889529552975984, -1.80725971645796, -0.1567435717692518, 1.8863153428561543, -0.32596644920844425, -1.9491709247132945, -0.9943818222384481, 1.3002735299490298, -0.2707542788536193, -1.6214993010961989, 0.07197454848896413, 0.7028756859541337, -1.3855443155607186, -0.9359776704337875, 0.979856625282574, 0.07954809091402387, 0.3659749882479351, -1.167821128119484, -1.7564234558593752, -0.7426087044916253, 0.7794977072509554, -0.19306460574406453, 0.18558965551803455, 2.579384339758135, -0.10036507426068357, 2.0156085373107837, 0.8077953402897897, 0.05250687146482705, -1.097473699324034, -0.7407063456432476, 0.7742610571080611, -1.087755049692921, -1.4286581098621647, -0.33755508978657744], \"xaxis\": \"x16\", \"yaxis\": \"y16\"}],\n",
       "                        {\"bargap\": 0.02, \"legend\": {\"bgcolor\": \"#F5F6F9\", \"font\": {\"color\": \"#4D5663\"}}, \"paper_bgcolor\": \"#F5F6F9\", \"plot_bgcolor\": \"#F5F6F9\", \"showlegend\": false, \"template\": {\"data\": {\"bar\": [{\"error_x\": {\"color\": \"#2a3f5f\"}, \"error_y\": {\"color\": \"#2a3f5f\"}, \"marker\": {\"line\": {\"color\": \"#E5ECF6\", \"width\": 0.5}}, \"type\": \"bar\"}], \"barpolar\": [{\"marker\": {\"line\": {\"color\": \"#E5ECF6\", \"width\": 0.5}}, \"type\": \"barpolar\"}], \"carpet\": [{\"aaxis\": {\"endlinecolor\": \"#2a3f5f\", \"gridcolor\": \"white\", \"linecolor\": \"white\", \"minorgridcolor\": \"white\", \"startlinecolor\": \"#2a3f5f\"}, \"baxis\": {\"endlinecolor\": \"#2a3f5f\", \"gridcolor\": \"white\", \"linecolor\": \"white\", \"minorgridcolor\": \"white\", \"startlinecolor\": \"#2a3f5f\"}, \"type\": \"carpet\"}], \"choropleth\": [{\"colorbar\": {\"outlinewidth\": 0, \"ticks\": \"\"}, \"type\": \"choropleth\"}], \"contour\": [{\"colorbar\": {\"outlinewidth\": 0, \"ticks\": \"\"}, \"colorscale\": [[0.0, \"#0d0887\"], [0.1111111111111111, \"#46039f\"], [0.2222222222222222, \"#7201a8\"], [0.3333333333333333, \"#9c179e\"], [0.4444444444444444, \"#bd3786\"], [0.5555555555555556, \"#d8576b\"], [0.6666666666666666, \"#ed7953\"], [0.7777777777777778, \"#fb9f3a\"], [0.8888888888888888, \"#fdca26\"], [1.0, \"#f0f921\"]], \"type\": \"contour\"}], \"contourcarpet\": [{\"colorbar\": {\"outlinewidth\": 0, \"ticks\": \"\"}, \"type\": \"contourcarpet\"}], \"heatmap\": [{\"colorbar\": {\"outlinewidth\": 0, \"ticks\": \"\"}, \"colorscale\": [[0.0, \"#0d0887\"], [0.1111111111111111, \"#46039f\"], [0.2222222222222222, \"#7201a8\"], [0.3333333333333333, \"#9c179e\"], [0.4444444444444444, \"#bd3786\"], [0.5555555555555556, \"#d8576b\"], [0.6666666666666666, \"#ed7953\"], [0.7777777777777778, \"#fb9f3a\"], [0.8888888888888888, \"#fdca26\"], [1.0, \"#f0f921\"]], \"type\": \"heatmap\"}], \"heatmapgl\": [{\"colorbar\": {\"outlinewidth\": 0, \"ticks\": \"\"}, \"colorscale\": [[0.0, \"#0d0887\"], [0.1111111111111111, \"#46039f\"], [0.2222222222222222, \"#7201a8\"], [0.3333333333333333, \"#9c179e\"], [0.4444444444444444, \"#bd3786\"], [0.5555555555555556, \"#d8576b\"], [0.6666666666666666, \"#ed7953\"], [0.7777777777777778, \"#fb9f3a\"], [0.8888888888888888, \"#fdca26\"], [1.0, \"#f0f921\"]], \"type\": \"heatmapgl\"}], \"histogram\": [{\"marker\": {\"colorbar\": {\"outlinewidth\": 0, \"ticks\": \"\"}}, \"type\": \"histogram\"}], \"histogram2d\": [{\"colorbar\": {\"outlinewidth\": 0, \"ticks\": \"\"}, \"colorscale\": [[0.0, \"#0d0887\"], [0.1111111111111111, \"#46039f\"], [0.2222222222222222, \"#7201a8\"], [0.3333333333333333, \"#9c179e\"], [0.4444444444444444, \"#bd3786\"], [0.5555555555555556, \"#d8576b\"], [0.6666666666666666, \"#ed7953\"], [0.7777777777777778, \"#fb9f3a\"], [0.8888888888888888, \"#fdca26\"], [1.0, \"#f0f921\"]], \"type\": \"histogram2d\"}], \"histogram2dcontour\": [{\"colorbar\": {\"outlinewidth\": 0, \"ticks\": \"\"}, \"colorscale\": [[0.0, \"#0d0887\"], [0.1111111111111111, \"#46039f\"], [0.2222222222222222, \"#7201a8\"], [0.3333333333333333, \"#9c179e\"], [0.4444444444444444, \"#bd3786\"], [0.5555555555555556, \"#d8576b\"], [0.6666666666666666, \"#ed7953\"], [0.7777777777777778, \"#fb9f3a\"], [0.8888888888888888, \"#fdca26\"], [1.0, \"#f0f921\"]], \"type\": \"histogram2dcontour\"}], \"mesh3d\": [{\"colorbar\": {\"outlinewidth\": 0, \"ticks\": \"\"}, \"type\": \"mesh3d\"}], \"parcoords\": [{\"line\": {\"colorbar\": {\"outlinewidth\": 0, \"ticks\": \"\"}}, \"type\": \"parcoords\"}], \"pie\": [{\"automargin\": true, \"type\": \"pie\"}], \"scatter\": [{\"marker\": {\"colorbar\": {\"outlinewidth\": 0, \"ticks\": \"\"}}, \"type\": \"scatter\"}], \"scatter3d\": [{\"line\": {\"colorbar\": {\"outlinewidth\": 0, \"ticks\": \"\"}}, \"marker\": {\"colorbar\": {\"outlinewidth\": 0, \"ticks\": \"\"}}, \"type\": \"scatter3d\"}], \"scattercarpet\": [{\"marker\": {\"colorbar\": {\"outlinewidth\": 0, \"ticks\": \"\"}}, \"type\": \"scattercarpet\"}], \"scattergeo\": [{\"marker\": {\"colorbar\": {\"outlinewidth\": 0, \"ticks\": \"\"}}, \"type\": \"scattergeo\"}], \"scattergl\": [{\"marker\": {\"colorbar\": {\"outlinewidth\": 0, \"ticks\": \"\"}}, \"type\": \"scattergl\"}], \"scattermapbox\": [{\"marker\": {\"colorbar\": {\"outlinewidth\": 0, \"ticks\": \"\"}}, \"type\": \"scattermapbox\"}], \"scatterpolar\": [{\"marker\": {\"colorbar\": {\"outlinewidth\": 0, \"ticks\": \"\"}}, \"type\": \"scatterpolar\"}], \"scatterpolargl\": [{\"marker\": {\"colorbar\": {\"outlinewidth\": 0, \"ticks\": \"\"}}, \"type\": \"scatterpolargl\"}], \"scatterternary\": [{\"marker\": {\"colorbar\": {\"outlinewidth\": 0, \"ticks\": \"\"}}, \"type\": \"scatterternary\"}], \"surface\": [{\"colorbar\": {\"outlinewidth\": 0, \"ticks\": \"\"}, \"colorscale\": [[0.0, \"#0d0887\"], [0.1111111111111111, \"#46039f\"], [0.2222222222222222, \"#7201a8\"], [0.3333333333333333, \"#9c179e\"], [0.4444444444444444, \"#bd3786\"], [0.5555555555555556, \"#d8576b\"], [0.6666666666666666, \"#ed7953\"], [0.7777777777777778, \"#fb9f3a\"], [0.8888888888888888, \"#fdca26\"], [1.0, \"#f0f921\"]], \"type\": \"surface\"}], \"table\": [{\"cells\": {\"fill\": {\"color\": \"#EBF0F8\"}, \"line\": {\"color\": \"white\"}}, \"header\": {\"fill\": {\"color\": \"#C8D4E3\"}, \"line\": {\"color\": \"white\"}}, \"type\": \"table\"}]}, \"layout\": {\"annotationdefaults\": {\"arrowcolor\": \"#2a3f5f\", \"arrowhead\": 0, \"arrowwidth\": 1}, \"coloraxis\": {\"colorbar\": {\"outlinewidth\": 0, \"ticks\": \"\"}}, \"colorscale\": {\"diverging\": [[0, \"#8e0152\"], [0.1, \"#c51b7d\"], [0.2, \"#de77ae\"], [0.3, \"#f1b6da\"], [0.4, \"#fde0ef\"], [0.5, \"#f7f7f7\"], [0.6, \"#e6f5d0\"], [0.7, \"#b8e186\"], [0.8, \"#7fbc41\"], [0.9, \"#4d9221\"], [1, \"#276419\"]], \"sequential\": [[0.0, \"#0d0887\"], [0.1111111111111111, \"#46039f\"], [0.2222222222222222, \"#7201a8\"], [0.3333333333333333, \"#9c179e\"], [0.4444444444444444, \"#bd3786\"], [0.5555555555555556, \"#d8576b\"], [0.6666666666666666, \"#ed7953\"], [0.7777777777777778, \"#fb9f3a\"], [0.8888888888888888, \"#fdca26\"], [1.0, \"#f0f921\"]], \"sequentialminus\": [[0.0, \"#0d0887\"], [0.1111111111111111, \"#46039f\"], [0.2222222222222222, \"#7201a8\"], [0.3333333333333333, \"#9c179e\"], [0.4444444444444444, \"#bd3786\"], [0.5555555555555556, \"#d8576b\"], [0.6666666666666666, \"#ed7953\"], [0.7777777777777778, \"#fb9f3a\"], [0.8888888888888888, \"#fdca26\"], [1.0, \"#f0f921\"]]}, \"colorway\": [\"#636efa\", \"#EF553B\", \"#00cc96\", \"#ab63fa\", \"#FFA15A\", \"#19d3f3\", \"#FF6692\", \"#B6E880\", \"#FF97FF\", \"#FECB52\"], \"font\": {\"color\": \"#2a3f5f\"}, \"geo\": {\"bgcolor\": \"white\", \"lakecolor\": \"white\", \"landcolor\": \"#E5ECF6\", \"showlakes\": true, \"showland\": true, \"subunitcolor\": \"white\"}, \"hoverlabel\": {\"align\": \"left\"}, \"hovermode\": \"closest\", \"mapbox\": {\"style\": \"light\"}, \"paper_bgcolor\": \"white\", \"plot_bgcolor\": \"#E5ECF6\", \"polar\": {\"angularaxis\": {\"gridcolor\": \"white\", \"linecolor\": \"white\", \"ticks\": \"\"}, \"bgcolor\": \"#E5ECF6\", \"radialaxis\": {\"gridcolor\": \"white\", \"linecolor\": \"white\", \"ticks\": \"\"}}, \"scene\": {\"xaxis\": {\"backgroundcolor\": \"#E5ECF6\", \"gridcolor\": \"white\", \"gridwidth\": 2, \"linecolor\": \"white\", \"showbackground\": true, \"ticks\": \"\", \"zerolinecolor\": \"white\"}, \"yaxis\": {\"backgroundcolor\": \"#E5ECF6\", \"gridcolor\": \"white\", \"gridwidth\": 2, \"linecolor\": \"white\", \"showbackground\": true, \"ticks\": \"\", \"zerolinecolor\": \"white\"}, \"zaxis\": {\"backgroundcolor\": \"#E5ECF6\", \"gridcolor\": \"white\", \"gridwidth\": 2, \"linecolor\": \"white\", \"showbackground\": true, \"ticks\": \"\", \"zerolinecolor\": \"white\"}}, \"shapedefaults\": {\"line\": {\"color\": \"#2a3f5f\"}}, \"ternary\": {\"aaxis\": {\"gridcolor\": \"white\", \"linecolor\": \"white\", \"ticks\": \"\"}, \"baxis\": {\"gridcolor\": \"white\", \"linecolor\": \"white\", \"ticks\": \"\"}, \"bgcolor\": \"#E5ECF6\", \"caxis\": {\"gridcolor\": \"white\", \"linecolor\": \"white\", \"ticks\": \"\"}}, \"title\": {\"x\": 0.05}, \"xaxis\": {\"automargin\": true, \"gridcolor\": \"white\", \"linecolor\": \"white\", \"ticks\": \"\", \"title\": {\"standoff\": 15}, \"zerolinecolor\": \"white\", \"zerolinewidth\": 2}, \"yaxis\": {\"automargin\": true, \"gridcolor\": \"white\", \"linecolor\": \"white\", \"ticks\": \"\", \"title\": {\"standoff\": 15}, \"zerolinecolor\": \"white\", \"zerolinewidth\": 2}}}, \"title\": {\"font\": {\"color\": \"#4D5663\"}}, \"xaxis\": {\"anchor\": \"y\", \"domain\": [0.0, 0.2125], \"gridcolor\": \"#E1E5ED\", \"showgrid\": false, \"tickfont\": {\"color\": \"#4D5663\"}, \"title\": {\"font\": {\"color\": \"#4D5663\"}, \"text\": \"\"}, \"zerolinecolor\": \"#E1E5ED\"}, \"xaxis10\": {\"anchor\": \"y10\", \"domain\": [0.2625, 0.475], \"gridcolor\": \"#E1E5ED\", \"showgrid\": false, \"tickfont\": {\"color\": \"#4D5663\"}, \"title\": {\"font\": {\"color\": \"#4D5663\"}, \"text\": \"\"}, \"zerolinecolor\": \"#E1E5ED\"}, \"xaxis11\": {\"anchor\": \"y11\", \"domain\": [0.525, 0.7375], \"gridcolor\": \"#E1E5ED\", \"showgrid\": false, \"tickfont\": {\"color\": \"#4D5663\"}, \"title\": {\"font\": {\"color\": \"#4D5663\"}, \"text\": \"\"}, \"zerolinecolor\": \"#E1E5ED\"}, \"xaxis12\": {\"anchor\": \"y12\", \"domain\": [0.7875, 1.0], \"gridcolor\": \"#E1E5ED\", \"showgrid\": false, \"tickfont\": {\"color\": \"#4D5663\"}, \"title\": {\"font\": {\"color\": \"#4D5663\"}, \"text\": \"\"}, \"zerolinecolor\": \"#E1E5ED\"}, \"xaxis13\": {\"anchor\": \"y13\", \"domain\": [0.0, 0.2125], \"gridcolor\": \"#E1E5ED\", \"showgrid\": false, \"tickfont\": {\"color\": \"#4D5663\"}, \"title\": {\"font\": {\"color\": \"#4D5663\"}, \"text\": \"\"}, \"zerolinecolor\": \"#E1E5ED\"}, \"xaxis14\": {\"anchor\": \"y14\", \"domain\": [0.2625, 0.475], \"gridcolor\": \"#E1E5ED\", \"showgrid\": false, \"tickfont\": {\"color\": \"#4D5663\"}, \"title\": {\"font\": {\"color\": \"#4D5663\"}, \"text\": \"\"}, \"zerolinecolor\": \"#E1E5ED\"}, \"xaxis15\": {\"anchor\": \"y15\", \"domain\": [0.525, 0.7375], \"gridcolor\": \"#E1E5ED\", \"showgrid\": false, \"tickfont\": {\"color\": \"#4D5663\"}, \"title\": {\"font\": {\"color\": \"#4D5663\"}, \"text\": \"\"}, \"zerolinecolor\": \"#E1E5ED\"}, \"xaxis16\": {\"anchor\": \"y16\", \"domain\": [0.7875, 1.0], \"gridcolor\": \"#E1E5ED\", \"showgrid\": false, \"tickfont\": {\"color\": \"#4D5663\"}, \"title\": {\"font\": {\"color\": \"#4D5663\"}, \"text\": \"\"}, \"zerolinecolor\": \"#E1E5ED\"}, \"xaxis2\": {\"anchor\": \"y2\", \"domain\": [0.2625, 0.475], \"gridcolor\": \"#E1E5ED\", \"showgrid\": false, \"tickfont\": {\"color\": \"#4D5663\"}, \"title\": {\"font\": {\"color\": \"#4D5663\"}, \"text\": \"\"}, \"zerolinecolor\": \"#E1E5ED\"}, \"xaxis3\": {\"anchor\": \"y3\", \"domain\": [0.525, 0.7375], \"gridcolor\": \"#E1E5ED\", \"showgrid\": false, \"tickfont\": {\"color\": \"#4D5663\"}, \"title\": {\"font\": {\"color\": \"#4D5663\"}, \"text\": \"\"}, \"zerolinecolor\": \"#E1E5ED\"}, \"xaxis4\": {\"anchor\": \"y4\", \"domain\": [0.7875, 1.0], \"gridcolor\": \"#E1E5ED\", \"showgrid\": false, \"tickfont\": {\"color\": \"#4D5663\"}, \"title\": {\"font\": {\"color\": \"#4D5663\"}, \"text\": \"\"}, \"zerolinecolor\": \"#E1E5ED\"}, \"xaxis5\": {\"anchor\": \"y5\", \"domain\": [0.0, 0.2125], \"gridcolor\": \"#E1E5ED\", \"showgrid\": false, \"tickfont\": {\"color\": \"#4D5663\"}, \"title\": {\"font\": {\"color\": \"#4D5663\"}, \"text\": \"\"}, \"zerolinecolor\": \"#E1E5ED\"}, \"xaxis6\": {\"anchor\": \"y6\", \"domain\": [0.2625, 0.475], \"gridcolor\": \"#E1E5ED\", \"showgrid\": false, \"tickfont\": {\"color\": \"#4D5663\"}, \"title\": {\"font\": {\"color\": \"#4D5663\"}, \"text\": \"\"}, \"zerolinecolor\": \"#E1E5ED\"}, \"xaxis7\": {\"anchor\": \"y7\", \"domain\": [0.525, 0.7375], \"gridcolor\": \"#E1E5ED\", \"showgrid\": false, \"tickfont\": {\"color\": \"#4D5663\"}, \"title\": {\"font\": {\"color\": \"#4D5663\"}, \"text\": \"\"}, \"zerolinecolor\": \"#E1E5ED\"}, \"xaxis8\": {\"anchor\": \"y8\", \"domain\": [0.7875, 1.0], \"gridcolor\": \"#E1E5ED\", \"showgrid\": false, \"tickfont\": {\"color\": \"#4D5663\"}, \"title\": {\"font\": {\"color\": \"#4D5663\"}, \"text\": \"\"}, \"zerolinecolor\": \"#E1E5ED\"}, \"xaxis9\": {\"anchor\": \"y9\", \"domain\": [0.0, 0.2125], \"gridcolor\": \"#E1E5ED\", \"showgrid\": false, \"tickfont\": {\"color\": \"#4D5663\"}, \"title\": {\"font\": {\"color\": \"#4D5663\"}, \"text\": \"\"}, \"zerolinecolor\": \"#E1E5ED\"}, \"yaxis\": {\"anchor\": \"x\", \"domain\": [0.8025, 1.0], \"gridcolor\": \"#E1E5ED\", \"showgrid\": false, \"tickfont\": {\"color\": \"#4D5663\"}, \"title\": {\"font\": {\"color\": \"#4D5663\"}, \"text\": \"\"}, \"zerolinecolor\": \"#E1E5ED\"}, \"yaxis10\": {\"anchor\": \"x10\", \"domain\": [0.2675, 0.465], \"gridcolor\": \"#E1E5ED\", \"showgrid\": false, \"tickfont\": {\"color\": \"#4D5663\"}, \"title\": {\"font\": {\"color\": \"#4D5663\"}, \"text\": \"\"}, \"zerolinecolor\": \"#E1E5ED\"}, \"yaxis11\": {\"anchor\": \"x11\", \"domain\": [0.2675, 0.465], \"gridcolor\": \"#E1E5ED\", \"showgrid\": false, \"tickfont\": {\"color\": \"#4D5663\"}, \"title\": {\"font\": {\"color\": \"#4D5663\"}, \"text\": \"\"}, \"zerolinecolor\": \"#E1E5ED\"}, \"yaxis12\": {\"anchor\": \"x12\", \"domain\": [0.2675, 0.465], \"gridcolor\": \"#E1E5ED\", \"showgrid\": false, \"tickfont\": {\"color\": \"#4D5663\"}, \"title\": {\"font\": {\"color\": \"#4D5663\"}, \"text\": \"\"}, \"zerolinecolor\": \"#E1E5ED\"}, \"yaxis13\": {\"anchor\": \"x13\", \"domain\": [0.0, 0.1975], \"gridcolor\": \"#E1E5ED\", \"showgrid\": false, \"tickfont\": {\"color\": \"#4D5663\"}, \"title\": {\"font\": {\"color\": \"#4D5663\"}, \"text\": \"\"}, \"zerolinecolor\": \"#E1E5ED\"}, \"yaxis14\": {\"anchor\": \"x14\", \"domain\": [0.0, 0.1975], \"gridcolor\": \"#E1E5ED\", \"showgrid\": false, \"tickfont\": {\"color\": \"#4D5663\"}, \"title\": {\"font\": {\"color\": \"#4D5663\"}, \"text\": \"\"}, \"zerolinecolor\": \"#E1E5ED\"}, \"yaxis15\": {\"anchor\": \"x15\", \"domain\": [0.0, 0.1975], \"gridcolor\": \"#E1E5ED\", \"showgrid\": false, \"tickfont\": {\"color\": \"#4D5663\"}, \"title\": {\"font\": {\"color\": \"#4D5663\"}, \"text\": \"\"}, \"zerolinecolor\": \"#E1E5ED\"}, \"yaxis16\": {\"anchor\": \"x16\", \"domain\": [0.0, 0.1975], \"gridcolor\": \"#E1E5ED\", \"showgrid\": false, \"tickfont\": {\"color\": \"#4D5663\"}, \"title\": {\"font\": {\"color\": \"#4D5663\"}, \"text\": \"\"}, \"zerolinecolor\": \"#E1E5ED\"}, \"yaxis2\": {\"anchor\": \"x2\", \"domain\": [0.8025, 1.0], \"gridcolor\": \"#E1E5ED\", \"showgrid\": false, \"tickfont\": {\"color\": \"#4D5663\"}, \"title\": {\"font\": {\"color\": \"#4D5663\"}, \"text\": \"\"}, \"zerolinecolor\": \"#E1E5ED\"}, \"yaxis3\": {\"anchor\": \"x3\", \"domain\": [0.8025, 1.0], \"gridcolor\": \"#E1E5ED\", \"showgrid\": false, \"tickfont\": {\"color\": \"#4D5663\"}, \"title\": {\"font\": {\"color\": \"#4D5663\"}, \"text\": \"\"}, \"zerolinecolor\": \"#E1E5ED\"}, \"yaxis4\": {\"anchor\": \"x4\", \"domain\": [0.8025, 1.0], \"gridcolor\": \"#E1E5ED\", \"showgrid\": false, \"tickfont\": {\"color\": \"#4D5663\"}, \"title\": {\"font\": {\"color\": \"#4D5663\"}, \"text\": \"\"}, \"zerolinecolor\": \"#E1E5ED\"}, \"yaxis5\": {\"anchor\": \"x5\", \"domain\": [0.535, 0.7325], \"gridcolor\": \"#E1E5ED\", \"showgrid\": false, \"tickfont\": {\"color\": \"#4D5663\"}, \"title\": {\"font\": {\"color\": \"#4D5663\"}, \"text\": \"\"}, \"zerolinecolor\": \"#E1E5ED\"}, \"yaxis6\": {\"anchor\": \"x6\", \"domain\": [0.535, 0.7325], \"gridcolor\": \"#E1E5ED\", \"showgrid\": false, \"tickfont\": {\"color\": \"#4D5663\"}, \"title\": {\"font\": {\"color\": \"#4D5663\"}, \"text\": \"\"}, \"zerolinecolor\": \"#E1E5ED\"}, \"yaxis7\": {\"anchor\": \"x7\", \"domain\": [0.535, 0.7325], \"gridcolor\": \"#E1E5ED\", \"showgrid\": false, \"tickfont\": {\"color\": \"#4D5663\"}, \"title\": {\"font\": {\"color\": \"#4D5663\"}, \"text\": \"\"}, \"zerolinecolor\": \"#E1E5ED\"}, \"yaxis8\": {\"anchor\": \"x8\", \"domain\": [0.535, 0.7325], \"gridcolor\": \"#E1E5ED\", \"showgrid\": false, \"tickfont\": {\"color\": \"#4D5663\"}, \"title\": {\"font\": {\"color\": \"#4D5663\"}, \"text\": \"\"}, \"zerolinecolor\": \"#E1E5ED\"}, \"yaxis9\": {\"anchor\": \"x9\", \"domain\": [0.2675, 0.465], \"gridcolor\": \"#E1E5ED\", \"showgrid\": false, \"tickfont\": {\"color\": \"#4D5663\"}, \"title\": {\"font\": {\"color\": \"#4D5663\"}, \"text\": \"\"}, \"zerolinecolor\": \"#E1E5ED\"}},\n",
       "                        {\"showLink\": true, \"linkText\": \"Export to plot.ly\", \"plotlyServerURL\": \"https://plot.ly\", \"responsive\": true}\n",
       "                    ).then(function(){\n",
       "                            \n",
       "var gd = document.getElementById('6e60600a-d277-4cee-a8d8-a1d673ca991f');\n",
       "var x = new MutationObserver(function (mutations, observer) {{\n",
       "        var display = window.getComputedStyle(gd).display;\n",
       "        if (!display || display === 'none') {{\n",
       "            console.log([gd, 'removed!']);\n",
       "            Plotly.purge(gd);\n",
       "            observer.disconnect();\n",
       "        }}\n",
       "}});\n",
       "\n",
       "// Listen for the removal of the full notebook cells\n",
       "var notebookContainer = gd.closest('#notebook-container');\n",
       "if (notebookContainer) {{\n",
       "    x.observe(notebookContainer, {childList: true});\n",
       "}}\n",
       "\n",
       "// Listen for the clearing of the current output cell\n",
       "var outputEl = gd.closest('.output');\n",
       "if (outputEl) {{\n",
       "    x.observe(outputEl, {childList: true});\n",
       "}}\n",
       "\n",
       "                        })\n",
       "                };\n",
       "                });\n",
       "            </script>\n",
       "        </div>"
      ]
     },
     "metadata": {},
     "output_type": "display_data"
    }
   ],
   "source": [
    "df.scatter_matrix()"
   ]
  }
 ],
 "metadata": {
  "kernelspec": {
   "display_name": "Python 3",
   "language": "python",
   "name": "python3"
  },
  "language_info": {
   "codemirror_mode": {
    "name": "ipython",
    "version": 3
   },
   "file_extension": ".py",
   "mimetype": "text/x-python",
   "name": "python",
   "nbconvert_exporter": "python",
   "pygments_lexer": "ipython3",
   "version": "3.7.4"
  }
 },
 "nbformat": 4,
 "nbformat_minor": 1
}
